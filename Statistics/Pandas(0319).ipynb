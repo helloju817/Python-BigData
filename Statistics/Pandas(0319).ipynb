{
  "nbformat": 4,
  "nbformat_minor": 0,
  "metadata": {
    "colab": {
      "provenance": [],
      "toc_visible": true
    },
    "kernelspec": {
      "name": "python3",
      "display_name": "Python 3"
    },
    "language_info": {
      "name": "python"
    }
  },
  "cells": [
    {
      "cell_type": "markdown",
      "source": [
        "# 짝지은 표본 t-검정 = 대응표본 t-검정"
      ],
      "metadata": {
        "id": "qxuU79ksMIgr"
      }
    },
    {
      "cell_type": "markdown",
      "source": [
        "## 직접 계산"
      ],
      "metadata": {
        "id": "WaHly9ooUtHR"
      }
    },
    {
      "cell_type": "code",
      "execution_count": null,
      "metadata": {
        "id": "XvyDACvSKgZY"
      },
      "outputs": [],
      "source": [
        "# 라이브러리 불러오기\n",
        "import numpy as np\n",
        "import pandas as pd\n",
        "from scipy.stats import t"
      ]
    },
    {
      "cell_type": "code",
      "source": [
        "# x1 = 사전테스트\n",
        "# x2 = 사후테스트\n",
        "x1 = pd.Series([3, 5, 4, 6, 5, 5, 4, 5, 3, 6, 7, 8, 7, 6, 7, 8, 8, 9, 9, 8, 7, 7, 6, 7, 8])\n",
        "x2 = pd.Series([7, 8, 6, 7, 8, 9, 6, 6, 7, 8, 8, 7, 9, 10, 9, 9, 8, 8, 4, 4, 5, 6, 9, 8, 12])"
      ],
      "metadata": {
        "id": "BytN5RRSMaNY"
      },
      "execution_count": null,
      "outputs": []
    },
    {
      "cell_type": "code",
      "source": [
        "print(x1.mean())\n",
        "print(x2.mean())"
      ],
      "metadata": {
        "colab": {
          "base_uri": "https://localhost:8080/"
        },
        "id": "fdJbXnw9PB0s",
        "outputId": "d281f469-4a5b-4aef-c225-4051c21cd894"
      },
      "execution_count": null,
      "outputs": [
        {
          "output_type": "stream",
          "name": "stdout",
          "text": [
            "6.32\n",
            "7.52\n"
          ]
        }
      ]
    },
    {
      "cell_type": "code",
      "source": [
        "# 효과가 있는지 알아보는 문제이므로 사후 테스트 평균이 사전 테스트 평균보다 커야함\n",
        "# 즉, 단측 검정"
      ],
      "metadata": {
        "id": "9Wfm4WNAOrHa"
      },
      "execution_count": null,
      "outputs": []
    },
    {
      "cell_type": "code",
      "source": [
        "# 차이평균, 차이표준편차, 표본크기\n",
        "d = x2 - x1;d"
      ],
      "metadata": {
        "id": "aLNwfsj7M3Kq",
        "colab": {
          "base_uri": "https://localhost:8080/"
        },
        "outputId": "a2db7203-71e9-483e-9ee2-911fdd07585f"
      },
      "execution_count": null,
      "outputs": [
        {
          "output_type": "execute_result",
          "data": {
            "text/plain": [
              "0     4\n",
              "1     3\n",
              "2     2\n",
              "3     1\n",
              "4     3\n",
              "5     4\n",
              "6     2\n",
              "7     1\n",
              "8     4\n",
              "9     2\n",
              "10    1\n",
              "11   -1\n",
              "12    2\n",
              "13    4\n",
              "14    2\n",
              "15    1\n",
              "16    0\n",
              "17   -1\n",
              "18   -5\n",
              "19   -4\n",
              "20   -2\n",
              "21   -1\n",
              "22    3\n",
              "23    1\n",
              "24    4\n",
              "dtype: int64"
            ]
          },
          "metadata": {},
          "execution_count": 5
        }
      ]
    },
    {
      "cell_type": "code",
      "source": [
        "d_m = d.mean();d_m"
      ],
      "metadata": {
        "id": "FvFjxfyQNEhZ",
        "colab": {
          "base_uri": "https://localhost:8080/"
        },
        "outputId": "2015c050-3d47-4df1-d9e5-6fcf9250cdc9"
      },
      "execution_count": null,
      "outputs": [
        {
          "output_type": "execute_result",
          "data": {
            "text/plain": [
              "1.2"
            ]
          },
          "metadata": {},
          "execution_count": 6
        }
      ]
    },
    {
      "cell_type": "code",
      "source": [
        "d_sd = d.std();d_sd"
      ],
      "metadata": {
        "id": "DGRlG9GoNLA8",
        "colab": {
          "base_uri": "https://localhost:8080/"
        },
        "outputId": "94805d74-3b46-448a-ac22-30febe496afe"
      },
      "execution_count": null,
      "outputs": [
        {
          "output_type": "execute_result",
          "data": {
            "text/plain": [
              "2.449489742783178"
            ]
          },
          "metadata": {},
          "execution_count": 7
        }
      ]
    },
    {
      "cell_type": "code",
      "source": [
        "n = len(d);n"
      ],
      "metadata": {
        "id": "0bbEIuthNQch",
        "colab": {
          "base_uri": "https://localhost:8080/"
        },
        "outputId": "2af3cc6f-6dc7-4257-ac5b-9a02fc825804"
      },
      "execution_count": null,
      "outputs": [
        {
          "output_type": "execute_result",
          "data": {
            "text/plain": [
              "25"
            ]
          },
          "metadata": {},
          "execution_count": 8
        }
      ]
    },
    {
      "cell_type": "code",
      "source": [
        "# 검정통계량\n",
        "# 분자\t차이평균\n",
        "d_m"
      ],
      "metadata": {
        "colab": {
          "base_uri": "https://localhost:8080/"
        },
        "id": "RaE-hdZBNU6Y",
        "outputId": "ce13dab7-8a41-4ffc-bb9f-a523e2d863b8"
      },
      "execution_count": null,
      "outputs": [
        {
          "output_type": "execute_result",
          "data": {
            "text/plain": [
              "1.2"
            ]
          },
          "metadata": {},
          "execution_count": 9
        }
      ]
    },
    {
      "cell_type": "code",
      "source": [
        "# 분모\t표준오차 = 차이표준편차/제곱근(표본크기)\n",
        "d_sd/np.sqrt(n)"
      ],
      "metadata": {
        "colab": {
          "base_uri": "https://localhost:8080/"
        },
        "id": "LAKTBXGxNhWw",
        "outputId": "211b1f6d-ad93-465d-efd5-2168b8787e5c"
      },
      "execution_count": null,
      "outputs": [
        {
          "output_type": "execute_result",
          "data": {
            "text/plain": [
              "0.4898979485566356"
            ]
          },
          "metadata": {},
          "execution_count": 10
        }
      ]
    },
    {
      "cell_type": "code",
      "source": [
        "# 분자/분모\n",
        "tv = d_m/(d_sd/np.sqrt(n));tv"
      ],
      "metadata": {
        "colab": {
          "base_uri": "https://localhost:8080/"
        },
        "id": "fNv6iYa6Nnc4",
        "outputId": "74dfa851-b5bb-49ee-e3a9-123cb4dacbf3"
      },
      "execution_count": null,
      "outputs": [
        {
          "output_type": "execute_result",
          "data": {
            "text/plain": [
              "2.4494897427831783"
            ]
          },
          "metadata": {},
          "execution_count": 11
        }
      ]
    },
    {
      "cell_type": "code",
      "source": [
        "# 임계값, 유의수준, 자유도, 단측검정\n",
        "alpha = 0.05\n",
        "df = n - 1\n",
        "cv = t.ppf(1 - alpha, df);cv"
      ],
      "metadata": {
        "colab": {
          "base_uri": "https://localhost:8080/"
        },
        "id": "G61LTfBTNteX",
        "outputId": "d25c019e-6b8e-42ab-c95d-c42277b56edf"
      },
      "execution_count": null,
      "outputs": [
        {
          "output_type": "execute_result",
          "data": {
            "text/plain": [
              "1.7108820799094275"
            ]
          },
          "metadata": {},
          "execution_count": 12
        }
      ]
    },
    {
      "cell_type": "code",
      "source": [
        "# 결론\n",
        "cv < tv\n",
        "# 오른쪽 = 기각역 = 귀무가설 기각 = 대립가설 채택 = 차이가 있다\n",
        "# 통계적으로 유의한 차이가 있다 = 사후 점수가 사전 점수보다 유의하게 높다"
      ],
      "metadata": {
        "colab": {
          "base_uri": "https://localhost:8080/"
        },
        "id": "W86bRrkZOQsI",
        "outputId": "44974d4d-9f68-4b5a-f10a-363142363cfe"
      },
      "execution_count": null,
      "outputs": [
        {
          "output_type": "execute_result",
          "data": {
            "text/plain": [
              "True"
            ]
          },
          "metadata": {},
          "execution_count": 13
        }
      ]
    },
    {
      "cell_type": "code",
      "source": [
        "# 유의확률\n",
        "pv = 1 - t.cdf(tv, df);pv"
      ],
      "metadata": {
        "colab": {
          "base_uri": "https://localhost:8080/"
        },
        "id": "RVr1nbPzOe7i",
        "outputId": "000c9ec3-6826-45f0-d271-452ce0219f6b"
      },
      "execution_count": null,
      "outputs": [
        {
          "output_type": "execute_result",
          "data": {
            "text/plain": [
              "0.010991498522051169"
            ]
          },
          "metadata": {},
          "execution_count": 14
        }
      ]
    },
    {
      "cell_type": "code",
      "source": [
        "# 결론\n",
        "alpha > pv\n",
        "# 오른쪽 = 기각역 = 귀무가설 기각 = 대립가설 채택 = 차이가 있다\n",
        "# 통계적으로 유의한 차이가 있다 = 사후 점수가 사전 점수보다 유의하게 높다"
      ],
      "metadata": {
        "colab": {
          "base_uri": "https://localhost:8080/"
        },
        "id": "S-Yr6sMzOw8l",
        "outputId": "a3ce9631-2c2c-434a-8c8a-17f4b3bc4a8c"
      },
      "execution_count": null,
      "outputs": [
        {
          "output_type": "execute_result",
          "data": {
            "text/plain": [
              "True"
            ]
          },
          "metadata": {},
          "execution_count": 15
        }
      ]
    },
    {
      "cell_type": "code",
      "source": [
        "# 임계값, 유의수준, 자유도, 양측검정\n",
        "alpha = 0.05\n",
        "df = n - 1\n",
        "cv = t.ppf(1 - alpha/2, df);cv"
      ],
      "metadata": {
        "colab": {
          "base_uri": "https://localhost:8080/"
        },
        "outputId": "684b4051-99fe-4357-cd0f-06dbbd7f543e",
        "id": "pcPknpNVPANv"
      },
      "execution_count": null,
      "outputs": [
        {
          "output_type": "execute_result",
          "data": {
            "text/plain": [
              "2.0638985616280205"
            ]
          },
          "metadata": {},
          "execution_count": 16
        }
      ]
    },
    {
      "cell_type": "code",
      "source": [
        "# 결론\n",
        "cv < tv\n",
        "# 오른쪽 = 기각역 = 귀무가설 기각 = 대립가설 채택 = 차이가 있다\n",
        "# 통계적으로 유의한 차이가 있다 = 사후 점수와 사전 점수의 차이가 있다"
      ],
      "metadata": {
        "colab": {
          "base_uri": "https://localhost:8080/"
        },
        "outputId": "6904ee7b-4def-4f1c-8ba4-2464f178bd63",
        "id": "WJ5G-5CfPANw"
      },
      "execution_count": null,
      "outputs": [
        {
          "output_type": "execute_result",
          "data": {
            "text/plain": [
              "True"
            ]
          },
          "metadata": {},
          "execution_count": 17
        }
      ]
    },
    {
      "cell_type": "code",
      "source": [
        "# 유의확률\n",
        "pv = (1 - t.cdf(tv, df))*2;pv"
      ],
      "metadata": {
        "colab": {
          "base_uri": "https://localhost:8080/"
        },
        "outputId": "b041bb13-5bd8-4af2-b550-219825fe24f8",
        "id": "A8wsOGjLPANw"
      },
      "execution_count": null,
      "outputs": [
        {
          "output_type": "execute_result",
          "data": {
            "text/plain": [
              "0.021982997044102337"
            ]
          },
          "metadata": {},
          "execution_count": 20
        }
      ]
    },
    {
      "cell_type": "code",
      "source": [
        "# 결론\n",
        "alpha > pv\n",
        "# 오른쪽 = 기각역 = 귀무가설 기각 = 대립가설 채택 = 차이가 있다\n",
        "# 통계적으로 유의한 차이가 있다 = 사후 점수와 사전 점수의 차이가 있다"
      ],
      "metadata": {
        "colab": {
          "base_uri": "https://localhost:8080/"
        },
        "outputId": "9b5ad55c-23f4-4e66-d6d2-66089a1e32c7",
        "id": "rZlf1fNyPANw"
      },
      "execution_count": null,
      "outputs": [
        {
          "output_type": "execute_result",
          "data": {
            "text/plain": [
              "True"
            ]
          },
          "metadata": {},
          "execution_count": 19
        }
      ]
    },
    {
      "cell_type": "markdown",
      "source": [
        "## 함수 이용"
      ],
      "metadata": {
        "id": "soxH8SjzUp6g"
      }
    },
    {
      "cell_type": "code",
      "source": [
        "import scipy.stats as stats\n",
        "from scipy.stats import shapiro\n",
        "from scipy.stats import t"
      ],
      "metadata": {
        "id": "4ieaL9x_F6vn"
      },
      "execution_count": null,
      "outputs": []
    },
    {
      "cell_type": "code",
      "source": [
        "# x1 = 사전테스트\n",
        "# x2 = 사후테스트\n",
        "x1 = pd.Series([3, 5, 4, 6, 5, 5, 4, 5, 3, 6, 7, 8, 7, 6, 7, 8, 8, 9, 9, 8, 7, 7, 6, 7, 8])\n",
        "x2 = pd.Series([7, 8, 6, 7, 8, 9, 6, 6, 7, 8, 8, 7, 9, 10, 9, 9, 8, 8, 4, 4, 5, 6, 9, 8, 12])"
      ],
      "metadata": {
        "id": "ABHT-_WXRShU"
      },
      "execution_count": null,
      "outputs": []
    },
    {
      "cell_type": "code",
      "source": [
        "# 차이\n",
        "d = x2 - x1;d"
      ],
      "metadata": {
        "colab": {
          "base_uri": "https://localhost:8080/"
        },
        "id": "hJ4vIwiaRXnr",
        "outputId": "c14c52bb-14ea-41c4-fd13-fd40217d22c3"
      },
      "execution_count": null,
      "outputs": [
        {
          "output_type": "execute_result",
          "data": {
            "text/plain": [
              "0     4\n",
              "1     3\n",
              "2     2\n",
              "3     1\n",
              "4     3\n",
              "5     4\n",
              "6     2\n",
              "7     1\n",
              "8     4\n",
              "9     2\n",
              "10    1\n",
              "11   -1\n",
              "12    2\n",
              "13    4\n",
              "14    2\n",
              "15    1\n",
              "16    0\n",
              "17   -1\n",
              "18   -5\n",
              "19   -4\n",
              "20   -2\n",
              "21   -1\n",
              "22    3\n",
              "23    1\n",
              "24    4\n",
              "dtype: int64"
            ]
          },
          "metadata": {},
          "execution_count": 22
        }
      ]
    },
    {
      "cell_type": "code",
      "source": [
        "# 정규성 검정\n",
        "shapiro(d)\n",
        "# 유의확률이 0.05 보다 작은지 큰지 확인\n",
        "# 0.05 보다 작으면 귀무가설 기각 = 정규성을 가지지 않음\n",
        "# 0.05 보다 크면 귀무가설 채택 = 정규성을 가짐"
      ],
      "metadata": {
        "colab": {
          "base_uri": "https://localhost:8080/"
        },
        "outputId": "3627618b-28d4-4554-d286-92fc9470b1dd",
        "id": "bglg8QwVFjSo"
      },
      "execution_count": null,
      "outputs": [
        {
          "output_type": "execute_result",
          "data": {
            "text/plain": [
              "ShapiroResult(statistic=0.9015383720397949, pvalue=0.01982017047703266)"
            ]
          },
          "metadata": {},
          "execution_count": 23
        }
      ]
    },
    {
      "cell_type": "markdown",
      "source": [
        "#### 정규성 가지는 경우\n",
        "- t-test"
      ],
      "metadata": {
        "id": "6pt-4MVIGjxY"
      }
    },
    {
      "cell_type": "code",
      "source": [
        "# 단측검정\n",
        "# u후 > u전 => 'greater'\n",
        "# u후 < u전 => 'less'\n",
        "from scipy.stats import ttest_rel\n",
        "# ttest_rel(x2, x1, alternative = 'less')\n",
        "ttest_rel(x2, x1, alternative = 'greater')"
      ],
      "metadata": {
        "colab": {
          "base_uri": "https://localhost:8080/"
        },
        "id": "Nm7XeGxwQRU0",
        "outputId": "4ef601f8-4a32-46d5-cc53-2b7d37597934"
      },
      "execution_count": null,
      "outputs": [
        {
          "output_type": "execute_result",
          "data": {
            "text/plain": [
              "TtestResult(statistic=2.4494897427831783, pvalue=0.01099149852205115, df=24)"
            ]
          },
          "metadata": {},
          "execution_count": 24
        }
      ]
    },
    {
      "cell_type": "code",
      "source": [
        "# 단측검정\n",
        "# u전 > u후 => 'greater'\n",
        "# u전 < u후 => 'less'\n",
        "from scipy.stats import ttest_rel\n",
        "ttest_rel(x1, x2, alternative = 'less')\n",
        "# ttest_rel(x1, x2, alternative = 'greater')\n",
        "\n",
        "# 유의수준 0.05 에서 전과 후의 테스트 평균 점수의 차이는 통계적으로 유의하다."
      ],
      "metadata": {
        "id": "IkdP6TO1UlK4",
        "colab": {
          "base_uri": "https://localhost:8080/"
        },
        "outputId": "cba5c021-4ae8-4a08-cf46-70e11cd53fcb"
      },
      "execution_count": null,
      "outputs": [
        {
          "output_type": "execute_result",
          "data": {
            "text/plain": [
              "TtestResult(statistic=-2.4494897427831783, pvalue=0.01099149852205115, df=24)"
            ]
          },
          "metadata": {},
          "execution_count": 25
        }
      ]
    },
    {
      "cell_type": "code",
      "source": [
        "tv, pv = ttest_rel(x1, x2, alternative = 'less')\n",
        "print(\"검정통계량: \", abs(tv))\n",
        "print(\"유의확률: \", pv)"
      ],
      "metadata": {
        "id": "Hc2TzF1iTgeQ",
        "colab": {
          "base_uri": "https://localhost:8080/"
        },
        "outputId": "4fcbf96b-21df-40c6-c7c9-39bfeaeea761"
      },
      "execution_count": null,
      "outputs": [
        {
          "output_type": "stream",
          "name": "stdout",
          "text": [
            "검정통계량:  2.4494897427831783\n",
            "유의확률:  0.01099149852205115\n"
          ]
        }
      ]
    },
    {
      "cell_type": "code",
      "source": [
        "# u후 > u전 => 'greater'\n",
        "# u후 < u전 => 'less'\n",
        "tv, pv = ttest_rel(x2, x1, alternative = 'greater')\n",
        "print(\"검정통계량: \", abs(tv))\n",
        "print(\"유의확률: \", pv)"
      ],
      "metadata": {
        "colab": {
          "base_uri": "https://localhost:8080/"
        },
        "id": "9s8pfh-JQqo6",
        "outputId": "aa77ea99-26ea-4181-9927-94a9c750656d"
      },
      "execution_count": null,
      "outputs": [
        {
          "output_type": "stream",
          "name": "stdout",
          "text": [
            "검정통계량:  2.4494897427831783\n",
            "유의확률:  0.01099149852205115\n"
          ]
        }
      ]
    },
    {
      "cell_type": "code",
      "source": [
        "# 양측검정\n",
        "from scipy.stats import ttest_rel\n",
        "ttest_rel(x2, x1)\n",
        "# ttest_rel(x2, x1, alternative = 'two-sided')\n",
        "\n",
        "# 유의수준 0.05 에서 전과 후의 테스트 평균 점수의 차이는 통계적으로 유의하다."
      ],
      "metadata": {
        "colab": {
          "base_uri": "https://localhost:8080/"
        },
        "id": "YXm3gfwHQzwy",
        "outputId": "747a77f2-7a18-45f3-9dc7-4533151cf9f0"
      },
      "execution_count": null,
      "outputs": [
        {
          "output_type": "execute_result",
          "data": {
            "text/plain": [
              "TtestResult(statistic=2.4494897427831783, pvalue=0.0219829970441023, df=24)"
            ]
          },
          "metadata": {},
          "execution_count": 28
        }
      ]
    },
    {
      "cell_type": "code",
      "source": [
        "# 양측검정 - 전 후 바꿔도 같음\n",
        "from scipy.stats import ttest_rel\n",
        "ttest_rel(x1, x2)\n",
        "# ttest_rel(x1, x2, alternative = 'two-sided')"
      ],
      "metadata": {
        "colab": {
          "base_uri": "https://localhost:8080/"
        },
        "outputId": "19e6c198-efe6-44b8-b685-db02e509c53b",
        "id": "MVc9MOJhT-ao"
      },
      "execution_count": null,
      "outputs": [
        {
          "output_type": "execute_result",
          "data": {
            "text/plain": [
              "TtestResult(statistic=-2.4494897427831783, pvalue=0.0219829970441023, df=24)"
            ]
          },
          "metadata": {},
          "execution_count": 29
        }
      ]
    },
    {
      "cell_type": "code",
      "source": [
        "tv, pv = ttest_rel(x2, x1)\n",
        "print(\"검정통계량: \", abs(tv))\n",
        "print(\"유의확률: \", pv)"
      ],
      "metadata": {
        "colab": {
          "base_uri": "https://localhost:8080/"
        },
        "id": "Vrn4vhYcQ79z",
        "outputId": "7dd885d1-e121-42eb-daf7-9c31ad9a302f"
      },
      "execution_count": null,
      "outputs": [
        {
          "output_type": "stream",
          "name": "stdout",
          "text": [
            "검정통계량:  2.4494897427831783\n",
            "유의확률:  0.0219829970441023\n"
          ]
        }
      ]
    },
    {
      "cell_type": "code",
      "source": [
        "# 전 후 바꿔도 같음\n",
        "tv, pv = ttest_rel(x1, x2)\n",
        "print(\"검정통계량: \", abs(tv))\n",
        "print(\"유의확률: \", pv)"
      ],
      "metadata": {
        "colab": {
          "base_uri": "https://localhost:8080/"
        },
        "outputId": "6bed019b-300a-4614-d547-fd3d58cf91c2",
        "id": "chXl8V4vT-ap"
      },
      "execution_count": null,
      "outputs": [
        {
          "output_type": "stream",
          "name": "stdout",
          "text": [
            "검정통계량:  2.4494897427831783\n",
            "유의확률:  0.0219829970441023\n"
          ]
        }
      ]
    },
    {
      "cell_type": "markdown",
      "source": [
        "#### 정규성 가지지 않는 경우"
      ],
      "metadata": {
        "id": "Qppb7o29GoyI"
      }
    },
    {
      "cell_type": "code",
      "source": [
        "# 비모수 통계\n",
        "# Wilcoxon Signed-Rank test\n",
        "# u후 > u전 => 'greater'\n",
        "# u후 < u전 => 'less'\n",
        "stats.wilcoxon(x2 - x1, alternative=\"greater\")\n",
        "# stats.wilcoxon(d, alternative=\"greater\")\n",
        "# 0.05 보다 작으면 귀무가설 기각 = 차이가 있음\n",
        "# 0.05 보다 크면 귀무가설 채택 = 차이가 없음\n",
        "\n",
        "# 유의수준 0.05 에서 전과 후의 테스트 평균 점수의 차이는 통계적으로 유의하지 않다."
      ],
      "metadata": {
        "colab": {
          "base_uri": "https://localhost:8080/"
        },
        "id": "aV5nWwBhHHJ6",
        "outputId": "2139d607-101e-472e-965f-eebc74f4fd63"
      },
      "execution_count": null,
      "outputs": [
        {
          "output_type": "execute_result",
          "data": {
            "text/plain": [
              "WilcoxonResult(statistic=18.0, pvalue=0.8388671875)"
            ]
          },
          "metadata": {},
          "execution_count": 82
        }
      ]
    },
    {
      "cell_type": "code",
      "source": [
        "# 윌콕슨 부호 순위 검정"
      ],
      "metadata": {
        "id": "8LD96TXQxVkR"
      },
      "execution_count": null,
      "outputs": []
    },
    {
      "cell_type": "markdown",
      "source": [
        "# 문제 풀이"
      ],
      "metadata": {
        "id": "X8jShU2uUmxu"
      }
    },
    {
      "cell_type": "code",
      "source": [
        "# 1\t독립 평균 검증 = 독립표본 t검정\n",
        "# \t1) 서로 다른 사람으로 구성된 두 그룹\n",
        "# \t2) 한 번만 측정\n",
        "# \t3) 두 그룹의 평균 차이를 검정\n",
        "# \t종속 평균 검증 = 짝지은 표본 t검정\n",
        "# \t1) 같은 사람으로 구성된 한 그룹\n",
        "# \t2) 두 번 측정\n",
        "# \t3) 두 번 측정한 차이값 평균과 모집단 평균 차이값의 차이를 검정"
      ],
      "metadata": {
        "id": "dq1RkJEji8Vl"
      },
      "execution_count": null,
      "outputs": []
    },
    {
      "cell_type": "code",
      "execution_count": null,
      "metadata": {
        "id": "FTfkytpz0dZ2"
      },
      "outputs": [],
      "source": [
        "# 라이브러리 불러오기\n",
        "import numpy as np\n",
        "import pandas as pd\n",
        "from scipy.stats import t"
      ]
    },
    {
      "cell_type": "code",
      "source": [
        "# 문제2\n",
        "# x1 = 재활용 전\n",
        "# x2 = 재활용 후\n",
        "x1 = pd.Series([20, 6, 12, 34, 55, 43, 54, 24, 33, 21, 34, 33, 54, 23, 33, 44, 65, 43, 53, 22, 34, 32, 44, 17, 28])\n",
        "x2 = pd.Series([23, 8, 11, 35, 57, 76, 54, 26, 35, 26, 28, 31, 56, 22, 35, 41, 56, 34, 51, 21, 31, 33, 38, 15, 27])"
      ],
      "metadata": {
        "id": "onRpftMc0dZ2"
      },
      "execution_count": null,
      "outputs": []
    },
    {
      "cell_type": "code",
      "source": [
        "# 차이평균, 차이표준편차, 표본크기\n",
        "d = x2 - x1;d"
      ],
      "metadata": {
        "id": "zmjqMw2B0dZ2",
        "colab": {
          "base_uri": "https://localhost:8080/"
        },
        "outputId": "50cdff3e-6a89-4ced-9e05-148c5ab2c0c2"
      },
      "execution_count": null,
      "outputs": [
        {
          "output_type": "execute_result",
          "data": {
            "text/plain": [
              "0      3\n",
              "1      2\n",
              "2     -1\n",
              "3      1\n",
              "4      2\n",
              "5     33\n",
              "6      0\n",
              "7      2\n",
              "8      2\n",
              "9      5\n",
              "10    -6\n",
              "11    -2\n",
              "12     2\n",
              "13    -1\n",
              "14     2\n",
              "15    -3\n",
              "16    -9\n",
              "17    -9\n",
              "18    -2\n",
              "19    -1\n",
              "20    -3\n",
              "21     1\n",
              "22    -6\n",
              "23    -2\n",
              "24    -1\n",
              "dtype: int64"
            ]
          },
          "metadata": {},
          "execution_count": 24
        }
      ]
    },
    {
      "cell_type": "code",
      "source": [
        "d_m = d.mean();d_m"
      ],
      "metadata": {
        "colab": {
          "base_uri": "https://localhost:8080/"
        },
        "id": "pPZV7QzB0dZ3",
        "outputId": "f7cd977a-a332-4590-ed5b-b7561c548adf"
      },
      "execution_count": null,
      "outputs": [
        {
          "output_type": "execute_result",
          "data": {
            "text/plain": [
              "0.36"
            ]
          },
          "metadata": {},
          "execution_count": 25
        }
      ]
    },
    {
      "cell_type": "code",
      "source": [
        "d_sd = d.std();d_sd"
      ],
      "metadata": {
        "colab": {
          "base_uri": "https://localhost:8080/"
        },
        "id": "Y0ZALjRL0dZ3",
        "outputId": "41fb7a63-46b5-4fc5-af33-6dfcdc14e800"
      },
      "execution_count": null,
      "outputs": [
        {
          "output_type": "execute_result",
          "data": {
            "text/plain": [
              "7.675067860720625"
            ]
          },
          "metadata": {},
          "execution_count": 26
        }
      ]
    },
    {
      "cell_type": "code",
      "source": [
        "n = len(d);n"
      ],
      "metadata": {
        "colab": {
          "base_uri": "https://localhost:8080/"
        },
        "id": "oq4YU0sj0dZ3",
        "outputId": "c83f5754-d90c-4385-c727-44fdb87aae38"
      },
      "execution_count": null,
      "outputs": [
        {
          "output_type": "execute_result",
          "data": {
            "text/plain": [
              "25"
            ]
          },
          "metadata": {},
          "execution_count": 27
        }
      ]
    },
    {
      "cell_type": "code",
      "source": [
        "# 검정통계량\n",
        "# 분자\t차이평균\n",
        "d_m"
      ],
      "metadata": {
        "colab": {
          "base_uri": "https://localhost:8080/"
        },
        "outputId": "87306202-f8d7-44d7-eaca-26670fd00db1",
        "id": "ewpPEkim0dZ3"
      },
      "execution_count": null,
      "outputs": [
        {
          "output_type": "execute_result",
          "data": {
            "text/plain": [
              "0.36"
            ]
          },
          "metadata": {},
          "execution_count": 28
        }
      ]
    },
    {
      "cell_type": "code",
      "source": [
        "# 분모\t표준오차 = 차이표준편차/제곱근(표본크기)\n",
        "d_sd/np.sqrt(n)"
      ],
      "metadata": {
        "colab": {
          "base_uri": "https://localhost:8080/"
        },
        "outputId": "5c07e158-641d-4307-a5f5-aedf8daf51ed",
        "id": "awEZt25I0dZ3"
      },
      "execution_count": null,
      "outputs": [
        {
          "output_type": "execute_result",
          "data": {
            "text/plain": [
              "1.535013572144125"
            ]
          },
          "metadata": {},
          "execution_count": 29
        }
      ]
    },
    {
      "cell_type": "code",
      "source": [
        "# 분자/분모\n",
        "tv = d_m/(d_sd/np.sqrt(n));tv"
      ],
      "metadata": {
        "colab": {
          "base_uri": "https://localhost:8080/"
        },
        "outputId": "1709ae51-e20f-451f-cb42-ebdd463a0682",
        "id": "C4s2pCQS0dZ3"
      },
      "execution_count": null,
      "outputs": [
        {
          "output_type": "execute_result",
          "data": {
            "text/plain": [
              "0.2345256136707298"
            ]
          },
          "metadata": {},
          "execution_count": 30
        }
      ]
    },
    {
      "cell_type": "code",
      "source": [
        "# 임계값, 유의수준, 자유도, 양측검정\n",
        "alpha = 0.01\n",
        "df = n - 1\n",
        "cv = t.ppf(1 - alpha/2, df);cv"
      ],
      "metadata": {
        "colab": {
          "base_uri": "https://localhost:8080/"
        },
        "outputId": "11ec53ba-4ea5-4ad8-df7b-617ac6ec6fed",
        "id": "Qdma3pnT0dZ4"
      },
      "execution_count": null,
      "outputs": [
        {
          "output_type": "execute_result",
          "data": {
            "text/plain": [
              "2.796939504772804"
            ]
          },
          "metadata": {},
          "execution_count": 31
        }
      ]
    },
    {
      "cell_type": "code",
      "source": [
        "# 결론\n",
        "cv < tv\n",
        "# 왼쪽 = 채택역 = 귀무가설 채택 = 대립가설 기각 = 차이가 없다\n",
        "# = 통계적으로 유의한 차이가 없다\n",
        "# 종이의 양에 변화가 없다"
      ],
      "metadata": {
        "colab": {
          "base_uri": "https://localhost:8080/"
        },
        "outputId": "eb889d1d-3b4d-404b-cc07-d18f12966a37",
        "id": "pNiyjkNL0dZ-"
      },
      "execution_count": null,
      "outputs": [
        {
          "output_type": "execute_result",
          "data": {
            "text/plain": [
              "False"
            ]
          },
          "metadata": {},
          "execution_count": 32
        }
      ]
    },
    {
      "cell_type": "code",
      "source": [
        "# 유의확률\n",
        "pv = (1 - t.cdf(tv, df))*2;pv"
      ],
      "metadata": {
        "colab": {
          "base_uri": "https://localhost:8080/"
        },
        "outputId": "2b4d618a-557c-44ee-f215-b0fa03d51077",
        "id": "UIhIB3s10dZ-"
      },
      "execution_count": null,
      "outputs": [
        {
          "output_type": "execute_result",
          "data": {
            "text/plain": [
              "0.816566228005847"
            ]
          },
          "metadata": {},
          "execution_count": 33
        }
      ]
    },
    {
      "cell_type": "code",
      "source": [
        "# 결론\n",
        "alpha > pv\n",
        "# 왼쪽 = 채택역 = 귀무가설 채택 = 대립가설 기각 = 차이가 없다\n",
        "# = 통계적으로 유의한 차이가 없다\n",
        "# 종이의 양에 변화가 없다"
      ],
      "metadata": {
        "colab": {
          "base_uri": "https://localhost:8080/"
        },
        "outputId": "576f79eb-59d3-4e15-f80e-5b9906f79350",
        "id": "5Iy6ZRDt0dZ_"
      },
      "execution_count": null,
      "outputs": [
        {
          "output_type": "execute_result",
          "data": {
            "text/plain": [
              "False"
            ]
          },
          "metadata": {},
          "execution_count": 34
        }
      ]
    },
    {
      "cell_type": "code",
      "source": [
        "# 양측검정\n",
        "from scipy.stats import ttest_rel\n",
        "ttest_rel(x1, x2)\n",
        "# ttest_rel(x1, x2, alternative = 'two-sided')"
      ],
      "metadata": {
        "colab": {
          "base_uri": "https://localhost:8080/"
        },
        "outputId": "70d846f6-83e8-4d92-9dff-b265c95056a6",
        "id": "Mn_mFnTt0dZ_"
      },
      "execution_count": null,
      "outputs": [
        {
          "output_type": "execute_result",
          "data": {
            "text/plain": [
              "TtestResult(statistic=-0.2345256136707298, pvalue=0.8165662280058471, df=24)"
            ]
          },
          "metadata": {},
          "execution_count": 35
        }
      ]
    },
    {
      "cell_type": "code",
      "source": [
        "tv, pv = ttest_rel(x1, x2)\n",
        "print(\"검정통계량: \", abs(tv))\n",
        "print(\"유의확률: \", pv)"
      ],
      "metadata": {
        "colab": {
          "base_uri": "https://localhost:8080/"
        },
        "outputId": "8a166083-a471-44d2-9174-c8501482dbdd",
        "id": "wYo5k7MZ0dZ_"
      },
      "execution_count": null,
      "outputs": [
        {
          "output_type": "stream",
          "name": "stdout",
          "text": [
            "검정통계량:  0.2345256136707298\n",
            "유의확률:  0.8165662280058471\n"
          ]
        }
      ]
    },
    {
      "cell_type": "code",
      "source": [
        "# 3\t1) 독립표본 t검정\n",
        "# \t2) 독립표본 t검정\n",
        "# \t3) 짝지은표본 t검정\n",
        "# \t4) 짝지은표본 t검정\n",
        "# \t5) 짝지은표본 t검정\n",
        "# 4\t독립표본은 서로 다른 사람, 두 집단의 차이 검정\n",
        "# \t짝지은 표본은 같은 사람, 두 번 측정한 표본의 차이값으로 검정\n",
        "# \t두 집단을 비교하는 것보다 한 집단을 비교하는 것이 더 정확함\n",
        "# \t더 정확하다는 것은 오류가 발생할 확률이 더 작다 = 유의수준이 더 작다\n",
        "# \t오른쪽으로 이동한 것 = 임계값이 더 커진 것이기 때문에 더 엄격하다고 할 수 있다"
      ],
      "metadata": {
        "id": "CT5mwKMHO1rJ"
      },
      "execution_count": null,
      "outputs": []
    },
    {
      "cell_type": "code",
      "source": [
        "# 문제5\n",
        "# x1: 서비스제공전\n",
        "# x2: 서비스제공후\n",
        "x1 = pd.Series([1.3, 2.5, 2.3, 8.1, 5.0, 7.0, 7.5, 5.2, 4.4, 7.6, 9.0, 7.6, 4.5, 1.1, 5.6, 6.2, 7.0, 6.9, 5.6, 5.2])\n",
        "x2 = pd.Series([6.5, 8.7, 9.8, 10.2, 7.9, 6.5, 8.7, 7.9, 8.7, 9.1, 8.4, 6.4, 7.2, 5.8, 6.9, 5.9, 7.6, 7.8, 7.3, 4.6])"
      ],
      "metadata": {
        "id": "UIS2UPyoTvTc"
      },
      "execution_count": null,
      "outputs": []
    },
    {
      "cell_type": "code",
      "source": [
        "# 양측검정\n",
        "from scipy.stats import ttest_rel\n",
        "ttest_rel(x1, x2)\n",
        "# ttest_rel(x1, x2, alternative = 'two-sided')"
      ],
      "metadata": {
        "colab": {
          "base_uri": "https://localhost:8080/"
        },
        "outputId": "77dd5d31-9d17-47e2-c537-db4310e886e3",
        "id": "ObE7PajX65Ls"
      },
      "execution_count": null,
      "outputs": [
        {
          "output_type": "execute_result",
          "data": {
            "text/plain": [
              "TtestResult(statistic=-3.892546470965022, pvalue=0.0009793404470821794, df=19)"
            ]
          },
          "metadata": {},
          "execution_count": 39
        }
      ]
    },
    {
      "cell_type": "code",
      "source": [
        "tv, pv = ttest_rel(x1, x2)\n",
        "print(\"검정통계량: \", abs(tv))\n",
        "print(\"유의확률: \", pv)\n",
        "# 공공서비스 센터에 대한 가족의 만족도 수준에 유의한 변화가 있었다."
      ],
      "metadata": {
        "colab": {
          "base_uri": "https://localhost:8080/"
        },
        "outputId": "38497d58-5dd4-4b15-c530-117534e49dbe",
        "id": "2vvkoLTM65L_"
      },
      "execution_count": null,
      "outputs": [
        {
          "output_type": "stream",
          "name": "stdout",
          "text": [
            "검정통계량:  3.892546470965022\n",
            "유의확률:  0.0009793404470821794\n"
          ]
        }
      ]
    },
    {
      "cell_type": "code",
      "source": [
        "pv = ttest_rel(x1, x2)[1]"
      ],
      "metadata": {
        "id": "wFxfu_QGiAis"
      },
      "execution_count": null,
      "outputs": []
    },
    {
      "cell_type": "code",
      "source": [
        "# 임계값, 유의수준, 자유도, 양측검정\n",
        "alpha = 0.05"
      ],
      "metadata": {
        "id": "fNY0SSh2iWMd"
      },
      "execution_count": null,
      "outputs": []
    },
    {
      "cell_type": "code",
      "source": [
        "alpha > pv\n",
        "# 공공서비스 센터에 대한 가족의 만족도 수준에 유의한 변화가 있었다."
      ],
      "metadata": {
        "colab": {
          "base_uri": "https://localhost:8080/"
        },
        "id": "ZxS6aWJgh81g",
        "outputId": "23529375-1757-410d-93e4-71b5d66a7c03"
      },
      "execution_count": null,
      "outputs": [
        {
          "output_type": "execute_result",
          "data": {
            "text/plain": [
              "True"
            ]
          },
          "metadata": {},
          "execution_count": 46
        }
      ]
    },
    {
      "cell_type": "code",
      "source": [
        "tv = ttest_rel(x1, x2)[0];tv = abs(tv)"
      ],
      "metadata": {
        "id": "94alImmHihzH"
      },
      "execution_count": null,
      "outputs": []
    },
    {
      "cell_type": "code",
      "source": [
        "d = x2 - x1"
      ],
      "metadata": {
        "id": "pYCF1g2SivjL"
      },
      "execution_count": null,
      "outputs": []
    },
    {
      "cell_type": "code",
      "source": [
        "n = len(d);n"
      ],
      "metadata": {
        "colab": {
          "base_uri": "https://localhost:8080/"
        },
        "outputId": "c247e0a4-4ebb-496d-bf7a-e5743cc42670",
        "id": "4guzfAPyiqbM"
      },
      "execution_count": null,
      "outputs": [
        {
          "output_type": "execute_result",
          "data": {
            "text/plain": [
              "20"
            ]
          },
          "metadata": {},
          "execution_count": 49
        }
      ]
    },
    {
      "cell_type": "code",
      "source": [
        "df = n - 1\n",
        "cv = t.ppf(1 - alpha/2, df);cv"
      ],
      "metadata": {
        "colab": {
          "base_uri": "https://localhost:8080/"
        },
        "id": "3QkebcVJiavZ",
        "outputId": "b0e93a83-e859-44e7-9d3f-64beaee3e976"
      },
      "execution_count": null,
      "outputs": [
        {
          "output_type": "execute_result",
          "data": {
            "text/plain": [
              "2.093024054408263"
            ]
          },
          "metadata": {},
          "execution_count": 50
        }
      ]
    },
    {
      "cell_type": "code",
      "source": [
        "cv < tv\n",
        "# 공공서비스 센터에 대한 가족의 만족도 수준에 유의한 변화가 있었다."
      ],
      "metadata": {
        "colab": {
          "base_uri": "https://localhost:8080/"
        },
        "id": "66uRVN65i161",
        "outputId": "b553adf2-3fa1-4c0d-ba08-960129e47e57"
      },
      "execution_count": null,
      "outputs": [
        {
          "output_type": "execute_result",
          "data": {
            "text/plain": [
              "True"
            ]
          },
          "metadata": {},
          "execution_count": 55
        }
      ]
    },
    {
      "cell_type": "code",
      "source": [
        "# 문제6\n",
        "# x1: 훈련전\n",
        "# x2: 훈련후\n",
        "x1 = pd.Series([58676, 46567, 87656, 65431, 56543, 45456, 67656, 78887, 65454, 56554, 58876, 54433])\n",
        "x2 = pd.Series([87890, 87876, 56768, 98980, 98784, 65414, 99878, 67578, 76599, 88767, 78778, 98898])"
      ],
      "metadata": {
        "id": "EEhIEZqN9jln"
      },
      "execution_count": null,
      "outputs": []
    },
    {
      "cell_type": "code",
      "source": [
        "# 단측검정\n",
        "# u전 > u후 => 'greater'\n",
        "# u전 < u후 => 'less'\n",
        "from scipy.stats import ttest_rel\n",
        "ttest_rel(x1, x2, alternative = 'less')"
      ],
      "metadata": {
        "colab": {
          "base_uri": "https://localhost:8080/"
        },
        "outputId": "58b37ab6-af22-4f36-dacf-12ac6a5d4e6e",
        "id": "u1IOaQGW9jln"
      },
      "execution_count": null,
      "outputs": [
        {
          "output_type": "execute_result",
          "data": {
            "text/plain": [
              "TtestResult(statistic=-3.343925490943577, pvalue=0.0032738336967816145, df=11)"
            ]
          },
          "metadata": {},
          "execution_count": 74
        }
      ]
    },
    {
      "cell_type": "code",
      "source": [
        "tv, pv = ttest_rel(x1, x2, alternative = 'less')\n",
        "print(\"검정통계량: \", abs(tv))\n",
        "print(\"유의확률: \", pv)\n",
        "# 훈련이 유의한 효과가 있었다."
      ],
      "metadata": {
        "colab": {
          "base_uri": "https://localhost:8080/"
        },
        "outputId": "1ab6f17e-ae42-4b63-ed59-a57d41b1ecc4",
        "id": "-Xv0ONo29jlo"
      },
      "execution_count": null,
      "outputs": [
        {
          "output_type": "stream",
          "name": "stdout",
          "text": [
            "검정통계량:  3.343925490943577\n",
            "유의확률:  0.0032738336967816145\n"
          ]
        }
      ]
    },
    {
      "cell_type": "code",
      "source": [
        "# 문제7\n",
        "# x1: 상담전\n",
        "# x2: 상담후\n",
        "x1 = pd.Series([45, 46, 32, 34, 33, 21, 23, 41, 27, 38, 41, 47, 41, 32, 22, 34, 36, 19, 23, 22])\n",
        "x2 = pd.Series([46, 44, 47, 42, 45, 32, 36, 43, 24, 41, 38, 31, 22, 36, 36, 27, 41, 44, 32, 32])"
      ],
      "metadata": {
        "id": "TEkb-4K9GN2M"
      },
      "execution_count": null,
      "outputs": []
    },
    {
      "cell_type": "code",
      "source": [
        "# 단측검정\n",
        "# u전 > u후 => 'greater'\n",
        "# u전 < u후 => 'less'\n",
        "from scipy.stats import ttest_rel\n",
        "ttest_rel(x1, x2, alternative = 'less')"
      ],
      "metadata": {
        "colab": {
          "base_uri": "https://localhost:8080/"
        },
        "outputId": "4cf046e8-4760-471c-98ef-a43104a7cd99",
        "id": "HKVXonjKGN2N"
      },
      "execution_count": null,
      "outputs": [
        {
          "output_type": "execute_result",
          "data": {
            "text/plain": [
              "TtestResult(statistic=-1.731021356775071, pvalue=0.049827819425277774, df=19)"
            ]
          },
          "metadata": {},
          "execution_count": 77
        }
      ]
    },
    {
      "cell_type": "code",
      "source": [
        "tv, pv = ttest_rel(x1, x2, alternative = 'less')\n",
        "print(\"검정통계량: \", abs(tv))\n",
        "print(\"유의확률: \", pv)\n",
        "# 상담하는 것이 관용적 태도 함양에 유의한 긍정적 영향을 미친다."
      ],
      "metadata": {
        "colab": {
          "base_uri": "https://localhost:8080/"
        },
        "outputId": "fd8ab04c-8eee-4c0b-c921-53b4ca9340bc",
        "id": "rIFDnuUAGN2O"
      },
      "execution_count": null,
      "outputs": [
        {
          "output_type": "stream",
          "name": "stdout",
          "text": [
            "검정통계량:  1.731021356775071\n",
            "유의확률:  0.049827819425277774\n"
          ]
        }
      ]
    },
    {
      "cell_type": "code",
      "source": [
        "# 문제8\n",
        "# x1: 시즌첫경기\n",
        "# x2: 시즌마지막경기\n",
        "x1 = pd.Series([252, 188, 196, 274, 289, 272, 110, 283, 265, 264])\n",
        "x2 = pd.Series([289, 254, 193, 102, 227, 202, 150, 244, 260, 254])"
      ],
      "metadata": {
        "id": "MoSnQr_kHv2y"
      },
      "execution_count": null,
      "outputs": []
    },
    {
      "cell_type": "code",
      "source": [
        "# 양측검정\n",
        "from scipy.stats import ttest_rel\n",
        "ttest_rel(x1, x2)\n",
        "# ttest_rel(x1, x2, alternative = 'two-sided')"
      ],
      "metadata": {
        "colab": {
          "base_uri": "https://localhost:8080/"
        },
        "outputId": "ec3e26b1-8da3-4f20-b4fb-2e0d4f390799",
        "id": "HQH76YQPHv2z"
      },
      "execution_count": null,
      "outputs": [
        {
          "output_type": "execute_result",
          "data": {
            "text/plain": [
              "TtestResult(statistic=1.0025346441468546, pvalue=0.34227633817569986, df=9)"
            ]
          },
          "metadata": {},
          "execution_count": 80
        }
      ]
    },
    {
      "cell_type": "code",
      "source": [
        "tv, pv = ttest_rel(x1, x2)\n",
        "print(\"검정통계량: \", abs(tv))\n",
        "print(\"유의확률: \", pv)\n",
        "# 시즌 전과 후에 팀의 성과에는 차이가 없다."
      ],
      "metadata": {
        "colab": {
          "base_uri": "https://localhost:8080/"
        },
        "outputId": "668bdcdf-c12c-4d56-bbc8-27becce9f971",
        "id": "WBQ89FI1Hv2z"
      },
      "execution_count": null,
      "outputs": [
        {
          "output_type": "stream",
          "name": "stdout",
          "text": [
            "검정통계량:  1.0025346441468546\n",
            "유의확률:  0.34227633817569986\n"
          ]
        }
      ]
    },
    {
      "cell_type": "markdown",
      "source": [
        "# 분산분석"
      ],
      "metadata": {
        "id": "_jxz6Gyzer_L"
      }
    },
    {
      "cell_type": "markdown",
      "source": [
        "## 직접 계산"
      ],
      "metadata": {
        "id": "bsRQrQ3_f4dC"
      }
    },
    {
      "cell_type": "code",
      "source": [
        "# 라이브러리 불러오기\n",
        "import numpy as np\n",
        "import pandas as pd\n",
        "from scipy.stats import f"
      ],
      "metadata": {
        "id": "Hy5m_OYxe1s9"
      },
      "execution_count": null,
      "outputs": []
    },
    {
      "cell_type": "code",
      "source": [
        "# x1: 집단1(주당5시간)\n",
        "# x2: 집단2(주당10시간)\n",
        "# x3: 집단3(주당20시간)\n",
        "# 언어발달시험점수\n",
        "x1 = [87, 86, 76, 56, 78, 98, 77, 66, 75, 67]\n",
        "x2 = [87, 85, 99, 85, 79, 81, 82, 78, 85, 91]\n",
        "x3 = [89, 91, 96, 87, 89, 90, 89, 96, 96, 93]"
      ],
      "metadata": {
        "id": "clXmiuH7e_Gl"
      },
      "execution_count": null,
      "outputs": []
    },
    {
      "cell_type": "code",
      "source": [
        "# 그룹평균\n",
        "x1_m = np.mean(x1);x2_m = np.mean(x2);x3_m = np.mean(x3)\n",
        "print(x1_m, x2_m, x3_m)"
      ],
      "metadata": {
        "colab": {
          "base_uri": "https://localhost:8080/"
        },
        "id": "dZjXiDyWfGv1",
        "outputId": "49640aa5-fed1-4da9-9553-20728b2c579b"
      },
      "execution_count": null,
      "outputs": [
        {
          "output_type": "stream",
          "name": "stdout",
          "text": [
            "76.6 85.2 91.6\n"
          ]
        }
      ]
    },
    {
      "cell_type": "code",
      "source": [
        "# 총평균\n",
        "t_m = np.mean(x1 + x2 + x3);t_m"
      ],
      "metadata": {
        "colab": {
          "base_uri": "https://localhost:8080/"
        },
        "id": "WPpFrR6gfdp8",
        "outputId": "ebbc8331-1726-499b-9938-b86b63f06e80"
      },
      "execution_count": null,
      "outputs": [
        {
          "output_type": "execute_result",
          "data": {
            "text/plain": [
              "84.46666666666667"
            ]
          },
          "metadata": {},
          "execution_count": 60
        }
      ]
    },
    {
      "cell_type": "code",
      "source": [
        "# 표본크기\n",
        "n1 = len(x1);n2 = len(x2);n3 = len(x3)\n",
        "print(n1, n2, n3)"
      ],
      "metadata": {
        "colab": {
          "base_uri": "https://localhost:8080/"
        },
        "id": "ueSOPMqag5e9",
        "outputId": "0e16d3fb-6da8-417f-f733-82ade46877af"
      },
      "execution_count": null,
      "outputs": [
        {
          "output_type": "stream",
          "name": "stdout",
          "text": [
            "10 10 10\n"
          ]
        }
      ]
    },
    {
      "cell_type": "code",
      "source": [
        "# 분산분석표\n",
        "# between\n",
        "# 그룹간 변동 = 그룹평균 - 총평균\n",
        "b1 = x1_m - t_m\n",
        "b2 = x2_m - t_m\n",
        "b3 = x3_m - t_m\n",
        "print(b1, b2, b3)"
      ],
      "metadata": {
        "colab": {
          "base_uri": "https://localhost:8080/"
        },
        "id": "2SWqmuOqfvQd",
        "outputId": "3848a683-7c3c-4d06-9c8d-884b089e906b"
      },
      "execution_count": null,
      "outputs": [
        {
          "output_type": "stream",
          "name": "stdout",
          "text": [
            "-7.866666666666674 0.7333333333333343 7.133333333333326\n"
          ]
        }
      ]
    },
    {
      "cell_type": "code",
      "source": [
        "# 그룹간 변동 제곱\n",
        "b12 = b1 ** 2\n",
        "b22 = b2 ** 2\n",
        "b32 = b3 ** 2\n",
        "print(b12, b22, b32)"
      ],
      "metadata": {
        "colab": {
          "base_uri": "https://localhost:8080/"
        },
        "id": "V4tnby2IgMU1",
        "outputId": "bf18fb63-f445-4765-f322-b4f439b8aea2"
      },
      "execution_count": null,
      "outputs": [
        {
          "output_type": "stream",
          "name": "stdout",
          "text": [
            "61.88444444444456 0.5377777777777791 50.884444444444334\n"
          ]
        }
      ]
    },
    {
      "cell_type": "code",
      "source": [
        "# 그룹간 변동 제곱합 = SSB\n",
        "ssb = sum([b12*n1, b22*n2, b32*n3]);ssb"
      ],
      "metadata": {
        "colab": {
          "base_uri": "https://localhost:8080/"
        },
        "id": "du04lO5wgiHd",
        "outputId": "a201b9f8-5047-4cee-f02d-d22ba4aa06e6"
      },
      "execution_count": null,
      "outputs": [
        {
          "output_type": "execute_result",
          "data": {
            "text/plain": [
              "1133.0666666666666"
            ]
          },
          "metadata": {},
          "execution_count": 64
        }
      ]
    },
    {
      "cell_type": "code",
      "source": [
        "# within\n",
        "# 그룹내 변동 = 관측치 - 그룹평균\n",
        "w1 = x1 - x1_m\n",
        "w2 = x2 - x2_m\n",
        "w3 = x3 - x3_m\n",
        "print(w1, w2, w3)"
      ],
      "metadata": {
        "colab": {
          "base_uri": "https://localhost:8080/"
        },
        "id": "-ZonxjHvhRam",
        "outputId": "fe1392f2-bac9-4e2a-f7ca-1d8217732799"
      },
      "execution_count": null,
      "outputs": [
        {
          "output_type": "stream",
          "name": "stdout",
          "text": [
            "[ 10.4   9.4  -0.6 -20.6   1.4  21.4   0.4 -10.6  -1.6  -9.6] [ 1.8 -0.2 13.8 -0.2 -6.2 -4.2 -3.2 -7.2 -0.2  5.8] [-2.6 -0.6  4.4 -4.6 -2.6 -1.6 -2.6  4.4  4.4  1.4]\n"
          ]
        }
      ]
    },
    {
      "cell_type": "code",
      "source": [
        "# 그룹내 변동 제곱\n",
        "w12 = w1 ** 2\n",
        "w22 = w2 ** 2\n",
        "w32 = w3 ** 2\n",
        "print(w12, w22, w32)"
      ],
      "metadata": {
        "colab": {
          "base_uri": "https://localhost:8080/"
        },
        "id": "A6GMId2IhuU8",
        "outputId": "77d7c414-a861-4cdb-e058-9a3004c3dd8a"
      },
      "execution_count": null,
      "outputs": [
        {
          "output_type": "stream",
          "name": "stdout",
          "text": [
            "[1.0816e+02 8.8360e+01 3.6000e-01 4.2436e+02 1.9600e+00 4.5796e+02\n",
            " 1.6000e-01 1.1236e+02 2.5600e+00 9.2160e+01] [3.2400e+00 4.0000e-02 1.9044e+02 4.0000e-02 3.8440e+01 1.7640e+01\n",
            " 1.0240e+01 5.1840e+01 4.0000e-02 3.3640e+01] [ 6.76  0.36 19.36 21.16  6.76  2.56  6.76 19.36 19.36  1.96]\n"
          ]
        }
      ]
    },
    {
      "cell_type": "code",
      "source": [
        "# 그룹내 변동 제곱합 = SSW\n",
        "ssw = sum(w12 + w22 + w32);ssw"
      ],
      "metadata": {
        "colab": {
          "base_uri": "https://localhost:8080/"
        },
        "id": "dwmtBf-sh8cV",
        "outputId": "f02bad52-e8a5-48f7-9900-ad1795227149"
      },
      "execution_count": null,
      "outputs": [
        {
          "output_type": "execute_result",
          "data": {
            "text/plain": [
              "1738.4"
            ]
          },
          "metadata": {},
          "execution_count": 67
        }
      ]
    },
    {
      "cell_type": "code",
      "source": [
        "# 자유도\n",
        "# between => k - 1\n",
        "# 분자 자유도 = df1\n",
        "k = 3;df1 = k -1;df1"
      ],
      "metadata": {
        "colab": {
          "base_uri": "https://localhost:8080/"
        },
        "id": "E-gIK-WziW0Z",
        "outputId": "52843bcb-c33d-40ea-ad2e-ed880be93cd0"
      },
      "execution_count": null,
      "outputs": [
        {
          "output_type": "execute_result",
          "data": {
            "text/plain": [
              "2"
            ]
          },
          "metadata": {},
          "execution_count": 68
        }
      ]
    },
    {
      "cell_type": "code",
      "source": [
        "# within => n - k\n",
        "# 분모 자유도 = df2\n",
        "n = n1 + n2 + n3;df2 = n - k;df2"
      ],
      "metadata": {
        "colab": {
          "base_uri": "https://localhost:8080/"
        },
        "id": "2rme1ZWQimDb",
        "outputId": "05adc3cd-507e-417a-e9fd-411e83f552fe"
      },
      "execution_count": null,
      "outputs": [
        {
          "output_type": "execute_result",
          "data": {
            "text/plain": [
              "27"
            ]
          },
          "metadata": {},
          "execution_count": 69
        }
      ]
    },
    {
      "cell_type": "code",
      "source": [
        "# 총 제곱합 SST = SSB + SSW\n",
        "sst = ssb + ssw;sst"
      ],
      "metadata": {
        "colab": {
          "base_uri": "https://localhost:8080/"
        },
        "id": "H8ERgX0ri3u9",
        "outputId": "8470297d-740c-497c-8087-0b3cf2f54878"
      },
      "execution_count": null,
      "outputs": [
        {
          "output_type": "execute_result",
          "data": {
            "text/plain": [
              "2871.4666666666667"
            ]
          },
          "metadata": {},
          "execution_count": 70
        }
      ]
    },
    {
      "cell_type": "code",
      "source": [
        "# 전체 자유도 n - 1 = k - 1 + n - k\n",
        "n - 1\n",
        "k - 1 + n - k"
      ],
      "metadata": {
        "colab": {
          "base_uri": "https://localhost:8080/"
        },
        "id": "Mtrx1661jGjU",
        "outputId": "be70ddbf-a263-4c91-a13d-c7f2f8dd6c43"
      },
      "execution_count": null,
      "outputs": [
        {
          "output_type": "execute_result",
          "data": {
            "text/plain": [
              "29"
            ]
          },
          "metadata": {},
          "execution_count": 71
        }
      ]
    },
    {
      "cell_type": "code",
      "source": [
        "# 평균제곱합\n",
        "# between => MSB = SSB / df1 = k - 1\n",
        "# msb = ssb / (k - 1);msb\n",
        "msb = ssb / df1;msb"
      ],
      "metadata": {
        "colab": {
          "base_uri": "https://localhost:8080/"
        },
        "id": "yR_V86WGjSSN",
        "outputId": "0f99bc4c-49a0-463b-dc08-fd6e2d7650b2"
      },
      "execution_count": null,
      "outputs": [
        {
          "output_type": "execute_result",
          "data": {
            "text/plain": [
              "566.5333333333333"
            ]
          },
          "metadata": {},
          "execution_count": 72
        }
      ]
    },
    {
      "cell_type": "code",
      "source": [
        "# within => MSW = SSW / df2 = n - k\n",
        "# msw = ssw / (n - k);msw\n",
        "msw = ssw / df2;msw"
      ],
      "metadata": {
        "colab": {
          "base_uri": "https://localhost:8080/"
        },
        "id": "-93icuSCjjs8",
        "outputId": "6be29f23-8e68-4a68-f3f0-a6b838e4f406"
      },
      "execution_count": null,
      "outputs": [
        {
          "output_type": "execute_result",
          "data": {
            "text/plain": [
              "64.3851851851852"
            ]
          },
          "metadata": {},
          "execution_count": 73
        }
      ]
    },
    {
      "cell_type": "code",
      "source": [
        "# F 검정통계량 = MSB / MSW\n",
        "fv = msb / msw;fv"
      ],
      "metadata": {
        "colab": {
          "base_uri": "https://localhost:8080/"
        },
        "id": "r-huDlbkj1gU",
        "outputId": "5469677c-38fb-466a-d289-09f216a929f4"
      },
      "execution_count": null,
      "outputs": [
        {
          "output_type": "execute_result",
          "data": {
            "text/plain": [
              "8.79912563276576"
            ]
          },
          "metadata": {},
          "execution_count": 74
        }
      ]
    },
    {
      "cell_type": "code",
      "source": [
        "# 임계값, 유의수준\n",
        "# 분산의 비율이므로 우측검정만 고려해도 됨\n",
        "alpha = 0.05\n",
        "cv = f.ppf(1 - alpha, df1, df2);cv"
      ],
      "metadata": {
        "colab": {
          "base_uri": "https://localhost:8080/"
        },
        "id": "o-yg0NOKj_S4",
        "outputId": "7e7d237e-6bf5-461e-adec-75ad3d5bc313"
      },
      "execution_count": null,
      "outputs": [
        {
          "output_type": "execute_result",
          "data": {
            "text/plain": [
              "3.3541308285291986"
            ]
          },
          "metadata": {},
          "execution_count": 75
        }
      ]
    },
    {
      "cell_type": "code",
      "source": [
        "# 결론\n",
        "cv < fv\n",
        "# 오른쪽 = 귀무가설 기각 = 대립가설 채택 = 차이가 있다\n",
        "# 세 그룹의 평균 점수에 차이가 있다.\n",
        "# 그러나 어느 그룹에서 차이가 있는지 알 수 없다."
      ],
      "metadata": {
        "colab": {
          "base_uri": "https://localhost:8080/"
        },
        "id": "EYfWK4bukURE",
        "outputId": "a4737da9-1bdd-4201-ebb2-8ee564e7d1ea"
      },
      "execution_count": null,
      "outputs": [
        {
          "output_type": "execute_result",
          "data": {
            "text/plain": [
              "True"
            ]
          },
          "metadata": {},
          "execution_count": 76
        }
      ]
    },
    {
      "cell_type": "code",
      "source": [
        "# 유의확률\n",
        "pv = 1 - f.cdf(fv, df1, df2);pv"
      ],
      "metadata": {
        "colab": {
          "base_uri": "https://localhost:8080/"
        },
        "id": "zKkpV_rHkZGE",
        "outputId": "4b75180b-d72f-423a-f3b0-de0f08ba3f17"
      },
      "execution_count": null,
      "outputs": [
        {
          "output_type": "execute_result",
          "data": {
            "text/plain": [
              "0.0011418790660784328"
            ]
          },
          "metadata": {},
          "execution_count": 77
        }
      ]
    },
    {
      "cell_type": "code",
      "source": [
        "# 결론\n",
        "alpha > pv\n",
        "# 오른쪽 = 귀무가설 기각 = 대립가설 채택 = 차이가 있다\n",
        "# 세 그룹의 평균 점수에 차이가 있다.\n",
        "# 그러나 어느 그룹에서 차이가 있는지 알 수 없다."
      ],
      "metadata": {
        "colab": {
          "base_uri": "https://localhost:8080/"
        },
        "id": "KJojz3D6kzxG",
        "outputId": "9ea82b2f-2390-4fca-f231-f917b6aa27a7"
      },
      "execution_count": null,
      "outputs": [
        {
          "output_type": "execute_result",
          "data": {
            "text/plain": [
              "True"
            ]
          },
          "metadata": {},
          "execution_count": 78
        }
      ]
    },
    {
      "cell_type": "markdown",
      "source": [
        "## 상자 그림"
      ],
      "metadata": {
        "id": "cBZzfE99f16R"
      }
    },
    {
      "cell_type": "code",
      "source": [
        "import matplotlib.pyplot as plt\n",
        "# 상자 그림\n",
        "plot_x = [x1, x2, x3]\n",
        "plt.boxplot(plot_x)\n",
        "plt.show()"
      ],
      "metadata": {
        "colab": {
          "base_uri": "https://localhost:8080/",
          "height": 430
        },
        "id": "BNGifZjK4P8G",
        "outputId": "1fb13d33-cada-44c0-dc2a-ae20744de363"
      },
      "execution_count": null,
      "outputs": [
        {
          "output_type": "display_data",
          "data": {
            "text/plain": [
              "<Figure size 640x480 with 1 Axes>"
            ],
            "image/png": "[encoded data removed]"
          },
          "metadata": {}
        }
      ]
    },
    {
      "cell_type": "markdown",
      "source": [
        "## 정규성 검정"
      ],
      "metadata": {
        "id": "7zzqiuTOch7N"
      }
    },
    {
      "cell_type": "code",
      "source": [
        "# 정규성 검정\n",
        "# 왜도: 절대값 2 미만 / 첨도: 절대값 5 미만이면 정규성을 만족함\n",
        "# 정규성을 만족하지 않으면 비모수 통계인 Kruskal-Wallis test 사용\n",
        "# t-test 에서는 Wilcoxon test 사용\n",
        "from scipy.stats import shapiro, skew, kurtosis\n",
        "print(shapiro(x1), skew(x1, bias = False), kurtosis(x1, bias = False))\n",
        "print(shapiro(x2), skew(x2, bias = False), kurtosis(x2, bias = False))\n",
        "print(shapiro(x3), skew(x3, bias = False), kurtosis(x3, bias = False))"
      ],
      "metadata": {
        "colab": {
          "base_uri": "https://localhost:8080/"
        },
        "id": "CVvKu24xpPAM",
        "outputId": "7986e75e-9751-4b0c-a7ed-eeae2bb2182b"
      },
      "execution_count": null,
      "outputs": [
        {
          "output_type": "stream",
          "name": "stdout",
          "text": [
            "ShapiroResult(statistic=0.9773513078689575, pvalue=0.9494335651397705) 0.07595650731608801 0.24489809048639932\n",
            "ShapiroResult(statistic=0.9014081358909607, pvalue=0.22701990604400635) 1.2318799025805836 1.8758654720568746\n",
            "ShapiroResult(statistic=0.8640847206115723, pvalue=0.08523961901664734) 0.3653252227728031 -1.5498131476133814\n"
          ]
        }
      ]
    },
    {
      "cell_type": "markdown",
      "source": [
        "## 정규성 가지지 않는 경우"
      ],
      "metadata": {
        "id": "zoyqKZ7h7DsK"
      }
    },
    {
      "cell_type": "code",
      "source": [
        "# 비모수 통계\n",
        "# Kruskal-Wallis test\n",
        "from scipy.stats import kruskal\n",
        "kruskal(x1, x2, x3)\n",
        "# 차이가 있음"
      ],
      "metadata": {
        "colab": {
          "base_uri": "https://localhost:8080/"
        },
        "id": "yiunF_pC7EBb",
        "outputId": "4de7b54e-bc32-4012-af69-9b28f21e2201"
      },
      "execution_count": null,
      "outputs": [
        {
          "output_type": "execute_result",
          "data": {
            "text/plain": [
              "KruskalResult(statistic=12.639647085101634, pvalue=0.0018002611476946523)"
            ]
          },
          "metadata": {},
          "execution_count": 81
        }
      ]
    },
    {
      "cell_type": "markdown",
      "source": [
        "## 등분산 검정"
      ],
      "metadata": {
        "id": "rrG1nyBVcl8G"
      }
    },
    {
      "cell_type": "code",
      "source": [
        "# 바틀렛 - 정규성 만족\n",
        "from scipy.stats import bartlett\n",
        "bartlett(x1, x2, x3)"
      ],
      "metadata": {
        "colab": {
          "base_uri": "https://localhost:8080/"
        },
        "id": "rMkdTjeIn9s8",
        "outputId": "fb2d54b3-998a-4ca5-9913-96fb08b71809"
      },
      "execution_count": null,
      "outputs": [
        {
          "output_type": "execute_result",
          "data": {
            "text/plain": [
              "BartlettResult(statistic=12.27855807211073, pvalue=0.002156477800717272)"
            ]
          },
          "metadata": {},
          "execution_count": 82
        }
      ]
    },
    {
      "cell_type": "code",
      "source": [
        "# 레빈 - 정규성 만족 안함\n",
        "from scipy.stats import levene\n",
        "levene(x1, x2, x3)"
      ],
      "metadata": {
        "colab": {
          "base_uri": "https://localhost:8080/"
        },
        "id": "2HEmVr0ioQGt",
        "outputId": "2ceb11dc-389f-4622-f5fb-b30a4430120a"
      },
      "execution_count": null,
      "outputs": [
        {
          "output_type": "execute_result",
          "data": {
            "text/plain": [
              "LeveneResult(statistic=3.2688342585249797, pvalue=0.05354477520716655)"
            ]
          },
          "metadata": {},
          "execution_count": 83
        }
      ]
    },
    {
      "cell_type": "code",
      "source": [
        "# 플리그너 - 정규성 만족 안함, 더 안정적 결과\n",
        "from scipy.stats import fligner\n",
        "fligner(x1, x2, x3)"
      ],
      "metadata": {
        "colab": {
          "base_uri": "https://localhost:8080/"
        },
        "id": "FdYzoVYdoxqy",
        "outputId": "f6cbcfe0-06ba-4c1d-de1e-f4100c5d1f31"
      },
      "execution_count": null,
      "outputs": [
        {
          "output_type": "execute_result",
          "data": {
            "text/plain": [
              "FlignerResult(statistic=4.520920772927577, pvalue=0.10430245426123703)"
            ]
          },
          "metadata": {},
          "execution_count": 84
        }
      ]
    },
    {
      "cell_type": "markdown",
      "source": [
        "## 등분산 가정"
      ],
      "metadata": {
        "id": "hgWVTDDQgaxa"
      }
    },
    {
      "cell_type": "code",
      "source": [
        "# 일원분산분석\n",
        "# 등분산 가정\n",
        "from scipy.stats import f_oneway\n",
        "f_oneway(x1, x2, x3)"
      ],
      "metadata": {
        "colab": {
          "base_uri": "https://localhost:8080/"
        },
        "id": "efkssqXMr-Hg",
        "outputId": "fe53392c-38dc-4a46-d108-5f91fccdedf7"
      },
      "execution_count": null,
      "outputs": [
        {
          "output_type": "execute_result",
          "data": {
            "text/plain": [
              "F_onewayResult(statistic=8.799125632765763, pvalue=0.0011418790660784205)"
            ]
          },
          "metadata": {},
          "execution_count": 85
        }
      ]
    },
    {
      "cell_type": "markdown",
      "source": [
        "## 사후검정"
      ],
      "metadata": {
        "id": "dK1OnPtCcoyc"
      }
    },
    {
      "cell_type": "code",
      "source": [
        "# 사후 검정 = 개별 그룹 간 차이 확인\n",
        "# 등분산 가정하면 Tukey, Duncan, Scheffe 사용 가능함\n",
        "# statsmodels의 Tukey test를 하기 위해서는 dataframe의 형태를 변경해줘야 함\n",
        "import pandas as pd\n",
        "data = pd.DataFrame({\"group\": [\"group1\"] * len(x1) + [\"group2\"] * len(x2) + [\"group3\"] * len(x3),\n",
        "                    \"score\": x1 + x2 + x3})\n",
        "data.head()"
      ],
      "metadata": {
        "id": "LIWS3Spho3k9",
        "colab": {
          "base_uri": "https://localhost:8080/",
          "height": 206
        },
        "outputId": "072ea30c-e446-448a-c252-2e025350b679"
      },
      "execution_count": null,
      "outputs": [
        {
          "output_type": "execute_result",
          "data": {
            "text/plain": [
              "    group  score\n",
              "0  group1     87\n",
              "1  group1     86\n",
              "2  group1     76\n",
              "3  group1     56\n",
              "4  group1     78"
            ],
            "text/html": [
              "\n",
              "  <div id=\"df-a13af275-2a25-4de8-9793-143dc18deef9\" class=\"colab-df-container\">\n",
              "    <div>\n",
              "<style scoped>\n",
              "    .dataframe tbody tr th:only-of-type {\n",
              "        vertical-align: middle;\n",
              "    }\n",
              "\n",
              "    .dataframe tbody tr th {\n",
              "        vertical-align: top;\n",
              "    }\n",
              "\n",
              "    .dataframe thead th {\n",
              "        text-align: right;\n",
              "    }\n",
              "</style>\n",
              "<table border=\"1\" class=\"dataframe\">\n",
              "  <thead>\n",
              "    <tr style=\"text-align: right;\">\n",
              "      <th></th>\n",
              "      <th>group</th>\n",
              "      <th>score</th>\n",
              "    </tr>\n",
              "  </thead>\n",
              "  <tbody>\n",
              "    <tr>\n",
              "      <th>0</th>\n",
              "      <td>group1</td>\n",
              "      <td>87</td>\n",
              "    </tr>\n",
              "    <tr>\n",
              "      <th>1</th>\n",
              "      <td>group1</td>\n",
              "      <td>86</td>\n",
              "    </tr>\n",
              "    <tr>\n",
              "      <th>2</th>\n",
              "      <td>group1</td>\n",
              "      <td>76</td>\n",
              "    </tr>\n",
              "    <tr>\n",
              "      <th>3</th>\n",
              "      <td>group1</td>\n",
              "      <td>56</td>\n",
              "    </tr>\n",
              "    <tr>\n",
              "      <th>4</th>\n",
              "      <td>group1</td>\n",
              "      <td>78</td>\n",
              "    </tr>\n",
              "  </tbody>\n",
              "</table>\n",
              "</div>\n",
              "    <div class=\"colab-df-buttons\">\n",
              "\n",
              "  <div class=\"colab-df-container\">\n",
              "    <button class=\"colab-df-convert\" onclick=\"convertToInteractive('df-a13af275-2a25-4de8-9793-143dc18deef9')\"\n",
              "            title=\"Convert this dataframe to an interactive table.\"\n",
              "            style=\"display:none;\">\n",
              "\n",
              "  <svg xmlns=\"http://www.w3.org/2000/svg\" height=\"24px\" viewBox=\"0 -960 960 960\">\n",
              "    <path d=\"M120-120v-720h720v720H120Zm60-500h600v-160H180v160Zm220 220h160v-160H400v160Zm0 220h160v-160H400v160ZM180-400h160v-160H180v160Zm440 0h160v-160H620v160ZM180-180h160v-160H180v160Zm440 0h160v-160H620v160Z\"/>\n",
              "  </svg>\n",
              "    </button>\n",
              "\n",
              "  <style>\n",
              "    .colab-df-container {\n",
              "      display:flex;\n",
              "      gap: 12px;\n",
              "    }\n",
              "\n",
              "    .colab-df-convert {\n",
              "      background-color: #E8F0FE;\n",
              "      border: none;\n",
              "      border-radius: 50%;\n",
              "      cursor: pointer;\n",
              "      display: none;\n",
              "      fill: #1967D2;\n",
              "      height: 32px;\n",
              "      padding: 0 0 0 0;\n",
              "      width: 32px;\n",
              "    }\n",
              "\n",
              "    .colab-df-convert:hover {\n",
              "      background-color: #E2EBFA;\n",
              "      box-shadow: 0px 1px 2px rgba(60, 64, 67, 0.3), 0px 1px 3px 1px rgba(60, 64, 67, 0.15);\n",
              "      fill: #174EA6;\n",
              "    }\n",
              "\n",
              "    .colab-df-buttons div {\n",
              "      margin-bottom: 4px;\n",
              "    }\n",
              "\n",
              "    [theme=dark] .colab-df-convert {\n",
              "      background-color: #3B4455;\n",
              "      fill: #D2E3FC;\n",
              "    }\n",
              "\n",
              "    [theme=dark] .colab-df-convert:hover {\n",
              "      background-color: #434B5C;\n",
              "      box-shadow: 0px 1px 3px 1px rgba(0, 0, 0, 0.15);\n",
              "      filter: drop-shadow(0px 1px 2px rgba(0, 0, 0, 0.3));\n",
              "      fill: #FFFFFF;\n",
              "    }\n",
              "  </style>\n",
              "\n",
              "    <script>\n",
              "      const buttonEl =\n",
              "        document.querySelector('#df-a13af275-2a25-4de8-9793-143dc18deef9 button.colab-df-convert');\n",
              "      buttonEl.style.display =\n",
              "        google.colab.kernel.accessAllowed ? 'block' : 'none';\n",
              "\n",
              "      async function convertToInteractive(key) {\n",
              "        const element = document.querySelector('#df-a13af275-2a25-4de8-9793-143dc18deef9');\n",
              "        const dataTable =\n",
              "          await google.colab.kernel.invokeFunction('convertToInteractive',\n",
              "                                                    [key], {});\n",
              "        if (!dataTable) return;\n",
              "\n",
              "        const docLinkHtml = 'Like what you see? Visit the ' +\n",
              "          '<a target=\"_blank\" href=https://colab.research.google.com/notebooks/data_table.ipynb>data table notebook</a>'\n",
              "          + ' to learn more about interactive tables.';\n",
              "        element.innerHTML = '';\n",
              "        dataTable['output_type'] = 'display_data';\n",
              "        await google.colab.output.renderOutput(dataTable, element);\n",
              "        const docLink = document.createElement('div');\n",
              "        docLink.innerHTML = docLinkHtml;\n",
              "        element.appendChild(docLink);\n",
              "      }\n",
              "    </script>\n",
              "  </div>\n",
              "\n",
              "\n",
              "<div id=\"df-00810288-8e04-4118-84b2-c636dde6df39\">\n",
              "  <button class=\"colab-df-quickchart\" onclick=\"quickchart('df-00810288-8e04-4118-84b2-c636dde6df39')\"\n",
              "            title=\"Suggest charts\"\n",
              "            style=\"display:none;\">\n",
              "\n",
              "<svg xmlns=\"http://www.w3.org/2000/svg\" height=\"24px\"viewBox=\"0 0 24 24\"\n",
              "     width=\"24px\">\n",
              "    <g>\n",
              "        <path d=\"M19 3H5c-1.1 0-2 .9-2 2v14c0 1.1.9 2 2 2h14c1.1 0 2-.9 2-2V5c0-1.1-.9-2-2-2zM9 17H7v-7h2v7zm4 0h-2V7h2v10zm4 0h-2v-4h2v4z\"/>\n",
              "    </g>\n",
              "</svg>\n",
              "  </button>\n",
              "\n",
              "<style>\n",
              "  .colab-df-quickchart {\n",
              "      --bg-color: #E8F0FE;\n",
              "      --fill-color: #1967D2;\n",
              "      --hover-bg-color: #E2EBFA;\n",
              "      --hover-fill-color: #174EA6;\n",
              "      --disabled-fill-color: #AAA;\n",
              "      --disabled-bg-color: #DDD;\n",
              "  }\n",
              "\n",
              "  [theme=dark] .colab-df-quickchart {\n",
              "      --bg-color: #3B4455;\n",
              "      --fill-color: #D2E3FC;\n",
              "      --hover-bg-color: #434B5C;\n",
              "      --hover-fill-color: #FFFFFF;\n",
              "      --disabled-bg-color: #3B4455;\n",
              "      --disabled-fill-color: #666;\n",
              "  }\n",
              "\n",
              "  .colab-df-quickchart {\n",
              "    background-color: var(--bg-color);\n",
              "    border: none;\n",
              "    border-radius: 50%;\n",
              "    cursor: pointer;\n",
              "    display: none;\n",
              "    fill: var(--fill-color);\n",
              "    height: 32px;\n",
              "    padding: 0;\n",
              "    width: 32px;\n",
              "  }\n",
              "\n",
              "  .colab-df-quickchart:hover {\n",
              "    background-color: var(--hover-bg-color);\n",
              "    box-shadow: 0 1px 2px rgba(60, 64, 67, 0.3), 0 1px 3px 1px rgba(60, 64, 67, 0.15);\n",
              "    fill: var(--button-hover-fill-color);\n",
              "  }\n",
              "\n",
              "  .colab-df-quickchart-complete:disabled,\n",
              "  .colab-df-quickchart-complete:disabled:hover {\n",
              "    background-color: var(--disabled-bg-color);\n",
              "    fill: var(--disabled-fill-color);\n",
              "    box-shadow: none;\n",
              "  }\n",
              "\n",
              "  .colab-df-spinner {\n",
              "    border: 2px solid var(--fill-color);\n",
              "    border-color: transparent;\n",
              "    border-bottom-color: var(--fill-color);\n",
              "    animation:\n",
              "      spin 1s steps(1) infinite;\n",
              "  }\n",
              "\n",
              "  @keyframes spin {\n",
              "    0% {\n",
              "      border-color: transparent;\n",
              "      border-bottom-color: var(--fill-color);\n",
              "      border-left-color: var(--fill-color);\n",
              "    }\n",
              "    20% {\n",
              "      border-color: transparent;\n",
              "      border-left-color: var(--fill-color);\n",
              "      border-top-color: var(--fill-color);\n",
              "    }\n",
              "    30% {\n",
              "      border-color: transparent;\n",
              "      border-left-color: var(--fill-color);\n",
              "      border-top-color: var(--fill-color);\n",
              "      border-right-color: var(--fill-color);\n",
              "    }\n",
              "    40% {\n",
              "      border-color: transparent;\n",
              "      border-right-color: var(--fill-color);\n",
              "      border-top-color: var(--fill-color);\n",
              "    }\n",
              "    60% {\n",
              "      border-color: transparent;\n",
              "      border-right-color: var(--fill-color);\n",
              "    }\n",
              "    80% {\n",
              "      border-color: transparent;\n",
              "      border-right-color: var(--fill-color);\n",
              "      border-bottom-color: var(--fill-color);\n",
              "    }\n",
              "    90% {\n",
              "      border-color: transparent;\n",
              "      border-bottom-color: var(--fill-color);\n",
              "    }\n",
              "  }\n",
              "</style>\n",
              "\n",
              "  <script>\n",
              "    async function quickchart(key) {\n",
              "      const quickchartButtonEl =\n",
              "        document.querySelector('#' + key + ' button');\n",
              "      quickchartButtonEl.disabled = true;  // To prevent multiple clicks.\n",
              "      quickchartButtonEl.classList.add('colab-df-spinner');\n",
              "      try {\n",
              "        const charts = await google.colab.kernel.invokeFunction(\n",
              "            'suggestCharts', [key], {});\n",
              "      } catch (error) {\n",
              "        console.error('Error during call to suggestCharts:', error);\n",
              "      }\n",
              "      quickchartButtonEl.classList.remove('colab-df-spinner');\n",
              "      quickchartButtonEl.classList.add('colab-df-quickchart-complete');\n",
              "    }\n",
              "    (() => {\n",
              "      let quickchartButtonEl =\n",
              "        document.querySelector('#df-00810288-8e04-4118-84b2-c636dde6df39 button');\n",
              "      quickchartButtonEl.style.display =\n",
              "        google.colab.kernel.accessAllowed ? 'block' : 'none';\n",
              "    })();\n",
              "  </script>\n",
              "</div>\n",
              "\n",
              "    </div>\n",
              "  </div>\n"
            ],
            "application/vnd.google.colaboratory.intrinsic+json": {
              "type": "dataframe",
              "variable_name": "data",
              "summary": "{\n  \"name\": \"data\",\n  \"rows\": 30,\n  \"fields\": [\n    {\n      \"column\": \"group\",\n      \"properties\": {\n        \"dtype\": \"category\",\n        \"num_unique_values\": 3,\n        \"samples\": [\n          \"group1\",\n          \"group2\",\n          \"group3\"\n        ],\n        \"semantic_type\": \"\",\n        \"description\": \"\"\n      }\n    },\n    {\n      \"column\": \"score\",\n      \"properties\": {\n        \"dtype\": \"number\",\n        \"std\": 9,\n        \"min\": 56,\n        \"max\": 99,\n        \"num_unique_values\": 20,\n        \"samples\": [\n          87,\n          96,\n          91\n        ],\n        \"semantic_type\": \"\",\n        \"description\": \"\"\n      }\n    }\n  ]\n}"
            }
          },
          "metadata": {},
          "execution_count": 86
        }
      ]
    },
    {
      "cell_type": "code",
      "source": [
        "# 사후검정 Tukey HSD\n",
        "from statsmodels.stats.multicomp import pairwise_tukeyhsd\n",
        "posthoc = pairwise_tukeyhsd(data['score'], data['group'], alpha=0.05)\n",
        "print(posthoc)\n",
        "# 집단1과 집단3의 차이가 있다."
      ],
      "metadata": {
        "colab": {
          "base_uri": "https://localhost:8080/"
        },
        "id": "ltpmusKosi4r",
        "outputId": "d566ed76-18cd-427a-c618-e6c1390c40e9"
      },
      "execution_count": null,
      "outputs": [
        {
          "output_type": "stream",
          "name": "stdout",
          "text": [
            "Multiple Comparison of Means - Tukey HSD, FWER=0.05 \n",
            "====================================================\n",
            "group1 group2 meandiff p-adj   lower   upper  reject\n",
            "----------------------------------------------------\n",
            "group1 group2      8.6 0.0596 -0.2973 17.4973  False\n",
            "group1 group3     15.0 0.0008  6.1027 23.8973   True\n",
            "group2 group3      6.4 0.1941 -2.4973 15.2973  False\n",
            "----------------------------------------------------\n"
          ]
        }
      ]
    },
    {
      "cell_type": "code",
      "source": [
        "fig = posthoc.plot_simultaneous()\n",
        "# 그룹 1과 3은 겹치지 않아서 차이가 있음\n",
        "# 집단1과 집단3의 차이가 있다."
      ],
      "metadata": {
        "colab": {
          "base_uri": "https://localhost:8080/",
          "height": 545
        },
        "id": "zd5_10TupjPH",
        "outputId": "0face6a5-f8ea-44eb-dfa5-383d35a77764"
      },
      "execution_count": null,
      "outputs": [
        {
          "output_type": "display_data",
          "data": {
            "text/plain": [
              "<Figure size 1000x600 with 1 Axes>"
            ],
            "image/png": "[encoded data removed]"
          },
          "metadata": {}
        }
      ]
    },
    {
      "cell_type": "markdown",
      "source": [
        "## 이분산가정"
      ],
      "metadata": {
        "id": "F3exnI8SgkTd"
      }
    },
    {
      "cell_type": "code",
      "source": [
        "!pip install pingouin"
      ],
      "metadata": {
        "colab": {
          "base_uri": "https://localhost:8080/"
        },
        "id": "2yA3s-qY3Ww5",
        "outputId": "2cb6db91-355e-40ae-95d4-0282c4cb0c18"
      },
      "execution_count": null,
      "outputs": [
        {
          "output_type": "stream",
          "name": "stdout",
          "text": [
            "Requirement already satisfied: pingouin in /usr/local/lib/python3.10/dist-packages (0.5.4)\n",
            "Requirement already satisfied: numpy in /usr/local/lib/python3.10/dist-packages (from pingouin) (1.25.2)\n",
            "Requirement already satisfied: scipy in /usr/local/lib/python3.10/dist-packages (from pingouin) (1.11.4)\n",
            "Requirement already satisfied: pandas>=1.5 in /usr/local/lib/python3.10/dist-packages (from pingouin) (1.5.3)\n",
            "Requirement already satisfied: matplotlib in /usr/local/lib/python3.10/dist-packages (from pingouin) (3.7.1)\n",
            "Requirement already satisfied: seaborn in /usr/local/lib/python3.10/dist-packages (from pingouin) (0.13.1)\n",
            "Requirement already satisfied: statsmodels in /usr/local/lib/python3.10/dist-packages (from pingouin) (0.14.1)\n",
            "Requirement already satisfied: scikit-learn in /usr/local/lib/python3.10/dist-packages (from pingouin) (1.2.2)\n",
            "Requirement already satisfied: pandas-flavor in /usr/local/lib/python3.10/dist-packages (from pingouin) (0.6.0)\n",
            "Requirement already satisfied: tabulate in /usr/local/lib/python3.10/dist-packages (from pingouin) (0.9.0)\n",
            "Requirement already satisfied: python-dateutil>=2.8.1 in /usr/local/lib/python3.10/dist-packages (from pandas>=1.5->pingouin) (2.8.2)\n",
            "Requirement already satisfied: pytz>=2020.1 in /usr/local/lib/python3.10/dist-packages (from pandas>=1.5->pingouin) (2023.4)\n",
            "Requirement already satisfied: contourpy>=1.0.1 in /usr/local/lib/python3.10/dist-packages (from matplotlib->pingouin) (1.2.0)\n",
            "Requirement already satisfied: cycler>=0.10 in /usr/local/lib/python3.10/dist-packages (from matplotlib->pingouin) (0.12.1)\n",
            "Requirement already satisfied: fonttools>=4.22.0 in /usr/local/lib/python3.10/dist-packages (from matplotlib->pingouin) (4.49.0)\n",
            "Requirement already satisfied: kiwisolver>=1.0.1 in /usr/local/lib/python3.10/dist-packages (from matplotlib->pingouin) (1.4.5)\n",
            "Requirement already satisfied: packaging>=20.0 in /usr/local/lib/python3.10/dist-packages (from matplotlib->pingouin) (24.0)\n",
            "Requirement already satisfied: pillow>=6.2.0 in /usr/local/lib/python3.10/dist-packages (from matplotlib->pingouin) (9.4.0)\n",
            "Requirement already satisfied: pyparsing>=2.3.1 in /usr/local/lib/python3.10/dist-packages (from matplotlib->pingouin) (3.1.2)\n",
            "Requirement already satisfied: xarray in /usr/local/lib/python3.10/dist-packages (from pandas-flavor->pingouin) (2023.7.0)\n",
            "Requirement already satisfied: joblib>=1.1.1 in /usr/local/lib/python3.10/dist-packages (from scikit-learn->pingouin) (1.3.2)\n",
            "Requirement already satisfied: threadpoolctl>=2.0.0 in /usr/local/lib/python3.10/dist-packages (from scikit-learn->pingouin) (3.3.0)\n",
            "Requirement already satisfied: patsy>=0.5.4 in /usr/local/lib/python3.10/dist-packages (from statsmodels->pingouin) (0.5.6)\n",
            "Requirement already satisfied: six in /usr/local/lib/python3.10/dist-packages (from patsy>=0.5.4->statsmodels->pingouin) (1.16.0)\n"
          ]
        }
      ]
    },
    {
      "cell_type": "code",
      "source": [
        "# 등분산 가정할 수 없으면 Welch’s ANOVA\n",
        "from pingouin import welch_anova\n",
        "welch_anova(dv='score', between='group', data = data)"
      ],
      "metadata": {
        "colab": {
          "base_uri": "https://localhost:8080/",
          "height": 81
        },
        "id": "7MVyxNnU40kv",
        "outputId": "dbb3124b-78eb-4808-eebc-c1fc4d011f6f"
      },
      "execution_count": null,
      "outputs": [
        {
          "output_type": "execute_result",
          "data": {
            "text/plain": [
              "  Source  ddof1      ddof2         F     p-unc       np2\n",
              "0  group      2  15.249013  9.678883  0.001933  0.394595"
            ],
            "text/html": [
              "\n",
              "  <div id=\"df-31628dbc-fce0-49fb-8c20-5e34200a308c\" class=\"colab-df-container\">\n",
              "    <div>\n",
              "<style scoped>\n",
              "    .dataframe tbody tr th:only-of-type {\n",
              "        vertical-align: middle;\n",
              "    }\n",
              "\n",
              "    .dataframe tbody tr th {\n",
              "        vertical-align: top;\n",
              "    }\n",
              "\n",
              "    .dataframe thead th {\n",
              "        text-align: right;\n",
              "    }\n",
              "</style>\n",
              "<table border=\"1\" class=\"dataframe\">\n",
              "  <thead>\n",
              "    <tr style=\"text-align: right;\">\n",
              "      <th></th>\n",
              "      <th>Source</th>\n",
              "      <th>ddof1</th>\n",
              "      <th>ddof2</th>\n",
              "      <th>F</th>\n",
              "      <th>p-unc</th>\n",
              "      <th>np2</th>\n",
              "    </tr>\n",
              "  </thead>\n",
              "  <tbody>\n",
              "    <tr>\n",
              "      <th>0</th>\n",
              "      <td>group</td>\n",
              "      <td>2</td>\n",
              "      <td>15.249013</td>\n",
              "      <td>9.678883</td>\n",
              "      <td>0.001933</td>\n",
              "      <td>0.394595</td>\n",
              "    </tr>\n",
              "  </tbody>\n",
              "</table>\n",
              "</div>\n",
              "    <div class=\"colab-df-buttons\">\n",
              "\n",
              "  <div class=\"colab-df-container\">\n",
              "    <button class=\"colab-df-convert\" onclick=\"convertToInteractive('df-31628dbc-fce0-49fb-8c20-5e34200a308c')\"\n",
              "            title=\"Convert this dataframe to an interactive table.\"\n",
              "            style=\"display:none;\">\n",
              "\n",
              "  <svg xmlns=\"http://www.w3.org/2000/svg\" height=\"24px\" viewBox=\"0 -960 960 960\">\n",
              "    <path d=\"M120-120v-720h720v720H120Zm60-500h600v-160H180v160Zm220 220h160v-160H400v160Zm0 220h160v-160H400v160ZM180-400h160v-160H180v160Zm440 0h160v-160H620v160ZM180-180h160v-160H180v160Zm440 0h160v-160H620v160Z\"/>\n",
              "  </svg>\n",
              "    </button>\n",
              "\n",
              "  <style>\n",
              "    .colab-df-container {\n",
              "      display:flex;\n",
              "      gap: 12px;\n",
              "    }\n",
              "\n",
              "    .colab-df-convert {\n",
              "      background-color: #E8F0FE;\n",
              "      border: none;\n",
              "      border-radius: 50%;\n",
              "      cursor: pointer;\n",
              "      display: none;\n",
              "      fill: #1967D2;\n",
              "      height: 32px;\n",
              "      padding: 0 0 0 0;\n",
              "      width: 32px;\n",
              "    }\n",
              "\n",
              "    .colab-df-convert:hover {\n",
              "      background-color: #E2EBFA;\n",
              "      box-shadow: 0px 1px 2px rgba(60, 64, 67, 0.3), 0px 1px 3px 1px rgba(60, 64, 67, 0.15);\n",
              "      fill: #174EA6;\n",
              "    }\n",
              "\n",
              "    .colab-df-buttons div {\n",
              "      margin-bottom: 4px;\n",
              "    }\n",
              "\n",
              "    [theme=dark] .colab-df-convert {\n",
              "      background-color: #3B4455;\n",
              "      fill: #D2E3FC;\n",
              "    }\n",
              "\n",
              "    [theme=dark] .colab-df-convert:hover {\n",
              "      background-color: #434B5C;\n",
              "      box-shadow: 0px 1px 3px 1px rgba(0, 0, 0, 0.15);\n",
              "      filter: drop-shadow(0px 1px 2px rgba(0, 0, 0, 0.3));\n",
              "      fill: #FFFFFF;\n",
              "    }\n",
              "  </style>\n",
              "\n",
              "    <script>\n",
              "      const buttonEl =\n",
              "        document.querySelector('#df-31628dbc-fce0-49fb-8c20-5e34200a308c button.colab-df-convert');\n",
              "      buttonEl.style.display =\n",
              "        google.colab.kernel.accessAllowed ? 'block' : 'none';\n",
              "\n",
              "      async function convertToInteractive(key) {\n",
              "        const element = document.querySelector('#df-31628dbc-fce0-49fb-8c20-5e34200a308c');\n",
              "        const dataTable =\n",
              "          await google.colab.kernel.invokeFunction('convertToInteractive',\n",
              "                                                    [key], {});\n",
              "        if (!dataTable) return;\n",
              "\n",
              "        const docLinkHtml = 'Like what you see? Visit the ' +\n",
              "          '<a target=\"_blank\" href=https://colab.research.google.com/notebooks/data_table.ipynb>data table notebook</a>'\n",
              "          + ' to learn more about interactive tables.';\n",
              "        element.innerHTML = '';\n",
              "        dataTable['output_type'] = 'display_data';\n",
              "        await google.colab.output.renderOutput(dataTable, element);\n",
              "        const docLink = document.createElement('div');\n",
              "        docLink.innerHTML = docLinkHtml;\n",
              "        element.appendChild(docLink);\n",
              "      }\n",
              "    </script>\n",
              "  </div>\n",
              "\n",
              "\n",
              "    </div>\n",
              "  </div>\n"
            ],
            "application/vnd.google.colaboratory.intrinsic+json": {
              "type": "dataframe",
              "summary": "{\n  \"name\": \"welch_anova(dv='score', between='group', data = data)\",\n  \"rows\": 1,\n  \"fields\": [\n    {\n      \"column\": \"Source\",\n      \"properties\": {\n        \"dtype\": \"string\",\n        \"num_unique_values\": 1,\n        \"samples\": [\n          \"group\"\n        ],\n        \"semantic_type\": \"\",\n        \"description\": \"\"\n      }\n    },\n    {\n      \"column\": \"ddof1\",\n      \"properties\": {\n        \"dtype\": \"number\",\n        \"std\": null,\n        \"min\": 2,\n        \"max\": 2,\n        \"num_unique_values\": 1,\n        \"samples\": [\n          2\n        ],\n        \"semantic_type\": \"\",\n        \"description\": \"\"\n      }\n    },\n    {\n      \"column\": \"ddof2\",\n      \"properties\": {\n        \"dtype\": \"number\",\n        \"std\": null,\n        \"min\": 15.249013471519264,\n        \"max\": 15.249013471519264,\n        \"num_unique_values\": 1,\n        \"samples\": [\n          15.249013471519264\n        ],\n        \"semantic_type\": \"\",\n        \"description\": \"\"\n      }\n    },\n    {\n      \"column\": \"F\",\n      \"properties\": {\n        \"dtype\": \"number\",\n        \"std\": null,\n        \"min\": 9.678882562550744,\n        \"max\": 9.678882562550744,\n        \"num_unique_values\": 1,\n        \"samples\": [\n          9.678882562550744\n        ],\n        \"semantic_type\": \"\",\n        \"description\": \"\"\n      }\n    },\n    {\n      \"column\": \"p-unc\",\n      \"properties\": {\n        \"dtype\": \"number\",\n        \"std\": null,\n        \"min\": 0.0019332585347448677,\n        \"max\": 0.0019332585347448677,\n        \"num_unique_values\": 1,\n        \"samples\": [\n          0.0019332585347448677\n        ],\n        \"semantic_type\": \"\",\n        \"description\": \"\"\n      }\n    },\n    {\n      \"column\": \"np2\",\n      \"properties\": {\n        \"dtype\": \"number\",\n        \"std\": null,\n        \"min\": 0.3945950965824665,\n        \"max\": 0.3945950965824665,\n        \"num_unique_values\": 1,\n        \"samples\": [\n          0.3945950965824665\n        ],\n        \"semantic_type\": \"\",\n        \"description\": \"\"\n      }\n    }\n  ]\n}"
            }
          },
          "metadata": {},
          "execution_count": 90
        }
      ]
    },
    {
      "cell_type": "markdown",
      "source": [
        "## 사후검정"
      ],
      "metadata": {
        "id": "hz7zRg8agque"
      }
    },
    {
      "cell_type": "code",
      "source": [
        "# 등분산 가정할 수 없으면 사후검정도 다른 것을 사용해야 함\n",
        "# Tamhane' T2, Dunnett's T3, Games-Howell, Dunnett's C 등의 방법\n",
        "# 보편적으로 Games-Howell\n",
        "from pingouin import pairwise_gameshowell\n",
        "pairwise_gameshowell(dv = 'score', between = 'group', data = data)\n",
        "# 집단1과 집단3의 차이가 있다.\n",
        "# 집단2과 집단3의 차이가 있다."
      ],
      "metadata": {
        "colab": {
          "base_uri": "https://localhost:8080/",
          "height": 143
        },
        "id": "uTVlS0sYAJlx",
        "outputId": "0e354183-5967-4a02-dda9-2938ab6cf054"
      },
      "execution_count": null,
      "outputs": [
        {
          "output_type": "execute_result",
          "data": {
            "text/plain": [
              "        A       B  mean(A)  mean(B)  diff        se         T         df  \\\n",
              "0  group1  group2     76.6     85.2  -8.6  4.260934 -2.018337  13.504224   \n",
              "1  group1  group3     76.6     91.6 -15.0  3.933898 -3.813012  10.449039   \n",
              "2  group2  group3     85.2     91.6  -6.4  2.236068 -2.862167  13.982798   \n",
              "\n",
              "       pval    hedges  \n",
              "0  0.145588 -0.864489  \n",
              "1  0.008094 -1.633179  \n",
              "2  0.031630 -1.225915  "
            ],
            "text/html": [
              "\n",
              "  <div id=\"df-b0e2f8b8-0fd7-41f8-9589-a9db38e36b3a\" class=\"colab-df-container\">\n",
              "    <div>\n",
              "<style scoped>\n",
              "    .dataframe tbody tr th:only-of-type {\n",
              "        vertical-align: middle;\n",
              "    }\n",
              "\n",
              "    .dataframe tbody tr th {\n",
              "        vertical-align: top;\n",
              "    }\n",
              "\n",
              "    .dataframe thead th {\n",
              "        text-align: right;\n",
              "    }\n",
              "</style>\n",
              "<table border=\"1\" class=\"dataframe\">\n",
              "  <thead>\n",
              "    <tr style=\"text-align: right;\">\n",
              "      <th></th>\n",
              "      <th>A</th>\n",
              "      <th>B</th>\n",
              "      <th>mean(A)</th>\n",
              "      <th>mean(B)</th>\n",
              "      <th>diff</th>\n",
              "      <th>se</th>\n",
              "      <th>T</th>\n",
              "      <th>df</th>\n",
              "      <th>pval</th>\n",
              "      <th>hedges</th>\n",
              "    </tr>\n",
              "  </thead>\n",
              "  <tbody>\n",
              "    <tr>\n",
              "      <th>0</th>\n",
              "      <td>group1</td>\n",
              "      <td>group2</td>\n",
              "      <td>76.6</td>\n",
              "      <td>85.2</td>\n",
              "      <td>-8.6</td>\n",
              "      <td>4.260934</td>\n",
              "      <td>-2.018337</td>\n",
              "      <td>13.504224</td>\n",
              "      <td>0.145588</td>\n",
              "      <td>-0.864489</td>\n",
              "    </tr>\n",
              "    <tr>\n",
              "      <th>1</th>\n",
              "      <td>group1</td>\n",
              "      <td>group3</td>\n",
              "      <td>76.6</td>\n",
              "      <td>91.6</td>\n",
              "      <td>-15.0</td>\n",
              "      <td>3.933898</td>\n",
              "      <td>-3.813012</td>\n",
              "      <td>10.449039</td>\n",
              "      <td>0.008094</td>\n",
              "      <td>-1.633179</td>\n",
              "    </tr>\n",
              "    <tr>\n",
              "      <th>2</th>\n",
              "      <td>group2</td>\n",
              "      <td>group3</td>\n",
              "      <td>85.2</td>\n",
              "      <td>91.6</td>\n",
              "      <td>-6.4</td>\n",
              "      <td>2.236068</td>\n",
              "      <td>-2.862167</td>\n",
              "      <td>13.982798</td>\n",
              "      <td>0.031630</td>\n",
              "      <td>-1.225915</td>\n",
              "    </tr>\n",
              "  </tbody>\n",
              "</table>\n",
              "</div>\n",
              "    <div class=\"colab-df-buttons\">\n",
              "\n",
              "  <div class=\"colab-df-container\">\n",
              "    <button class=\"colab-df-convert\" onclick=\"convertToInteractive('df-b0e2f8b8-0fd7-41f8-9589-a9db38e36b3a')\"\n",
              "            title=\"Convert this dataframe to an interactive table.\"\n",
              "            style=\"display:none;\">\n",
              "\n",
              "  <svg xmlns=\"http://www.w3.org/2000/svg\" height=\"24px\" viewBox=\"0 -960 960 960\">\n",
              "    <path d=\"M120-120v-720h720v720H120Zm60-500h600v-160H180v160Zm220 220h160v-160H400v160Zm0 220h160v-160H400v160ZM180-400h160v-160H180v160Zm440 0h160v-160H620v160ZM180-180h160v-160H180v160Zm440 0h160v-160H620v160Z\"/>\n",
              "  </svg>\n",
              "    </button>\n",
              "\n",
              "  <style>\n",
              "    .colab-df-container {\n",
              "      display:flex;\n",
              "      gap: 12px;\n",
              "    }\n",
              "\n",
              "    .colab-df-convert {\n",
              "      background-color: #E8F0FE;\n",
              "      border: none;\n",
              "      border-radius: 50%;\n",
              "      cursor: pointer;\n",
              "      display: none;\n",
              "      fill: #1967D2;\n",
              "      height: 32px;\n",
              "      padding: 0 0 0 0;\n",
              "      width: 32px;\n",
              "    }\n",
              "\n",
              "    .colab-df-convert:hover {\n",
              "      background-color: #E2EBFA;\n",
              "      box-shadow: 0px 1px 2px rgba(60, 64, 67, 0.3), 0px 1px 3px 1px rgba(60, 64, 67, 0.15);\n",
              "      fill: #174EA6;\n",
              "    }\n",
              "\n",
              "    .colab-df-buttons div {\n",
              "      margin-bottom: 4px;\n",
              "    }\n",
              "\n",
              "    [theme=dark] .colab-df-convert {\n",
              "      background-color: #3B4455;\n",
              "      fill: #D2E3FC;\n",
              "    }\n",
              "\n",
              "    [theme=dark] .colab-df-convert:hover {\n",
              "      background-color: #434B5C;\n",
              "      box-shadow: 0px 1px 3px 1px rgba(0, 0, 0, 0.15);\n",
              "      filter: drop-shadow(0px 1px 2px rgba(0, 0, 0, 0.3));\n",
              "      fill: #FFFFFF;\n",
              "    }\n",
              "  </style>\n",
              "\n",
              "    <script>\n",
              "      const buttonEl =\n",
              "        document.querySelector('#df-b0e2f8b8-0fd7-41f8-9589-a9db38e36b3a button.colab-df-convert');\n",
              "      buttonEl.style.display =\n",
              "        google.colab.kernel.accessAllowed ? 'block' : 'none';\n",
              "\n",
              "      async function convertToInteractive(key) {\n",
              "        const element = document.querySelector('#df-b0e2f8b8-0fd7-41f8-9589-a9db38e36b3a');\n",
              "        const dataTable =\n",
              "          await google.colab.kernel.invokeFunction('convertToInteractive',\n",
              "                                                    [key], {});\n",
              "        if (!dataTable) return;\n",
              "\n",
              "        const docLinkHtml = 'Like what you see? Visit the ' +\n",
              "          '<a target=\"_blank\" href=https://colab.research.google.com/notebooks/data_table.ipynb>data table notebook</a>'\n",
              "          + ' to learn more about interactive tables.';\n",
              "        element.innerHTML = '';\n",
              "        dataTable['output_type'] = 'display_data';\n",
              "        await google.colab.output.renderOutput(dataTable, element);\n",
              "        const docLink = document.createElement('div');\n",
              "        docLink.innerHTML = docLinkHtml;\n",
              "        element.appendChild(docLink);\n",
              "      }\n",
              "    </script>\n",
              "  </div>\n",
              "\n",
              "\n",
              "<div id=\"df-49a0d399-1b80-4ba3-9166-65ddca884689\">\n",
              "  <button class=\"colab-df-quickchart\" onclick=\"quickchart('df-49a0d399-1b80-4ba3-9166-65ddca884689')\"\n",
              "            title=\"Suggest charts\"\n",
              "            style=\"display:none;\">\n",
              "\n",
              "<svg xmlns=\"http://www.w3.org/2000/svg\" height=\"24px\"viewBox=\"0 0 24 24\"\n",
              "     width=\"24px\">\n",
              "    <g>\n",
              "        <path d=\"M19 3H5c-1.1 0-2 .9-2 2v14c0 1.1.9 2 2 2h14c1.1 0 2-.9 2-2V5c0-1.1-.9-2-2-2zM9 17H7v-7h2v7zm4 0h-2V7h2v10zm4 0h-2v-4h2v4z\"/>\n",
              "    </g>\n",
              "</svg>\n",
              "  </button>\n",
              "\n",
              "<style>\n",
              "  .colab-df-quickchart {\n",
              "      --bg-color: #E8F0FE;\n",
              "      --fill-color: #1967D2;\n",
              "      --hover-bg-color: #E2EBFA;\n",
              "      --hover-fill-color: #174EA6;\n",
              "      --disabled-fill-color: #AAA;\n",
              "      --disabled-bg-color: #DDD;\n",
              "  }\n",
              "\n",
              "  [theme=dark] .colab-df-quickchart {\n",
              "      --bg-color: #3B4455;\n",
              "      --fill-color: #D2E3FC;\n",
              "      --hover-bg-color: #434B5C;\n",
              "      --hover-fill-color: #FFFFFF;\n",
              "      --disabled-bg-color: #3B4455;\n",
              "      --disabled-fill-color: #666;\n",
              "  }\n",
              "\n",
              "  .colab-df-quickchart {\n",
              "    background-color: var(--bg-color);\n",
              "    border: none;\n",
              "    border-radius: 50%;\n",
              "    cursor: pointer;\n",
              "    display: none;\n",
              "    fill: var(--fill-color);\n",
              "    height: 32px;\n",
              "    padding: 0;\n",
              "    width: 32px;\n",
              "  }\n",
              "\n",
              "  .colab-df-quickchart:hover {\n",
              "    background-color: var(--hover-bg-color);\n",
              "    box-shadow: 0 1px 2px rgba(60, 64, 67, 0.3), 0 1px 3px 1px rgba(60, 64, 67, 0.15);\n",
              "    fill: var(--button-hover-fill-color);\n",
              "  }\n",
              "\n",
              "  .colab-df-quickchart-complete:disabled,\n",
              "  .colab-df-quickchart-complete:disabled:hover {\n",
              "    background-color: var(--disabled-bg-color);\n",
              "    fill: var(--disabled-fill-color);\n",
              "    box-shadow: none;\n",
              "  }\n",
              "\n",
              "  .colab-df-spinner {\n",
              "    border: 2px solid var(--fill-color);\n",
              "    border-color: transparent;\n",
              "    border-bottom-color: var(--fill-color);\n",
              "    animation:\n",
              "      spin 1s steps(1) infinite;\n",
              "  }\n",
              "\n",
              "  @keyframes spin {\n",
              "    0% {\n",
              "      border-color: transparent;\n",
              "      border-bottom-color: var(--fill-color);\n",
              "      border-left-color: var(--fill-color);\n",
              "    }\n",
              "    20% {\n",
              "      border-color: transparent;\n",
              "      border-left-color: var(--fill-color);\n",
              "      border-top-color: var(--fill-color);\n",
              "    }\n",
              "    30% {\n",
              "      border-color: transparent;\n",
              "      border-left-color: var(--fill-color);\n",
              "      border-top-color: var(--fill-color);\n",
              "      border-right-color: var(--fill-color);\n",
              "    }\n",
              "    40% {\n",
              "      border-color: transparent;\n",
              "      border-right-color: var(--fill-color);\n",
              "      border-top-color: var(--fill-color);\n",
              "    }\n",
              "    60% {\n",
              "      border-color: transparent;\n",
              "      border-right-color: var(--fill-color);\n",
              "    }\n",
              "    80% {\n",
              "      border-color: transparent;\n",
              "      border-right-color: var(--fill-color);\n",
              "      border-bottom-color: var(--fill-color);\n",
              "    }\n",
              "    90% {\n",
              "      border-color: transparent;\n",
              "      border-bottom-color: var(--fill-color);\n",
              "    }\n",
              "  }\n",
              "</style>\n",
              "\n",
              "  <script>\n",
              "    async function quickchart(key) {\n",
              "      const quickchartButtonEl =\n",
              "        document.querySelector('#' + key + ' button');\n",
              "      quickchartButtonEl.disabled = true;  // To prevent multiple clicks.\n",
              "      quickchartButtonEl.classList.add('colab-df-spinner');\n",
              "      try {\n",
              "        const charts = await google.colab.kernel.invokeFunction(\n",
              "            'suggestCharts', [key], {});\n",
              "      } catch (error) {\n",
              "        console.error('Error during call to suggestCharts:', error);\n",
              "      }\n",
              "      quickchartButtonEl.classList.remove('colab-df-spinner');\n",
              "      quickchartButtonEl.classList.add('colab-df-quickchart-complete');\n",
              "    }\n",
              "    (() => {\n",
              "      let quickchartButtonEl =\n",
              "        document.querySelector('#df-49a0d399-1b80-4ba3-9166-65ddca884689 button');\n",
              "      quickchartButtonEl.style.display =\n",
              "        google.colab.kernel.accessAllowed ? 'block' : 'none';\n",
              "    })();\n",
              "  </script>\n",
              "</div>\n",
              "\n",
              "    </div>\n",
              "  </div>\n"
            ],
            "application/vnd.google.colaboratory.intrinsic+json": {
              "type": "dataframe",
              "summary": "{\n  \"name\": \"# \\uc9d1\\ub2e82\\uacfc \\uc9d1\\ub2e83\\uc758 \\ucc28\\uc774\\uac00 \\uc788\\ub2e4\",\n  \"rows\": 3,\n  \"fields\": [\n    {\n      \"column\": \"A\",\n      \"properties\": {\n        \"dtype\": \"string\",\n        \"num_unique_values\": 2,\n        \"samples\": [\n          \"group2\",\n          \"group1\"\n        ],\n        \"semantic_type\": \"\",\n        \"description\": \"\"\n      }\n    },\n    {\n      \"column\": \"B\",\n      \"properties\": {\n        \"dtype\": \"string\",\n        \"num_unique_values\": 2,\n        \"samples\": [\n          \"group3\",\n          \"group2\"\n        ],\n        \"semantic_type\": \"\",\n        \"description\": \"\"\n      }\n    },\n    {\n      \"column\": \"mean(A)\",\n      \"properties\": {\n        \"dtype\": \"number\",\n        \"std\": 4.9652123150307865,\n        \"min\": 76.6,\n        \"max\": 85.2,\n        \"num_unique_values\": 2,\n        \"samples\": [\n          85.2,\n          76.6\n        ],\n        \"semantic_type\": \"\",\n        \"description\": \"\"\n      }\n    },\n    {\n      \"column\": \"mean(B)\",\n      \"properties\": {\n        \"dtype\": \"number\",\n        \"std\": 3.6950417228136003,\n        \"min\": 85.2,\n        \"max\": 91.6,\n        \"num_unique_values\": 2,\n        \"samples\": [\n          91.6,\n          85.2\n        ],\n        \"semantic_type\": \"\",\n        \"description\": \"\"\n      }\n    },\n    {\n      \"column\": \"diff\",\n      \"properties\": {\n        \"dtype\": \"number\",\n        \"std\": 4.467661580737738,\n        \"min\": -15.0,\n        \"max\": -6.3999999999999915,\n        \"num_unique_values\": 3,\n        \"samples\": [\n          -8.600000000000009,\n          -15.0\n        ],\n        \"semantic_type\": \"\",\n        \"description\": \"\"\n      }\n    },\n    {\n      \"column\": \"se\",\n      \"properties\": {\n        \"dtype\": \"number\",\n        \"std\": 1.0870189212342116,\n        \"min\": 2.2360679774997894,\n        \"max\": 4.260933648339946,\n        \"num_unique_values\": 3,\n        \"samples\": [\n          4.260933648339946,\n          3.9338982645151814\n        ],\n        \"semantic_type\": \"\",\n        \"description\": \"\"\n      }\n    },\n    {\n      \"column\": \"T\",\n      \"properties\": {\n        \"dtype\": \"number\",\n        \"std\": 0.897868947584456,\n        \"min\": -3.813011672239729,\n        \"max\": -2.018336991318923,\n        \"num_unique_values\": 3,\n        \"samples\": [\n          -2.018336991318923,\n          -3.813011672239729\n        ],\n        \"semantic_type\": \"\",\n        \"description\": \"\"\n      }\n    },\n    {\n      \"column\": \"df\",\n      \"properties\": {\n        \"dtype\": \"number\",\n        \"std\": 1.917056884616801,\n        \"min\": 10.449038883795609,\n        \"max\": 13.982798051108672,\n        \"num_unique_values\": 3,\n        \"samples\": [\n          13.504223907611108,\n          10.449038883795609\n        ],\n        \"semantic_type\": \"\",\n        \"description\": \"\"\n      }\n    },\n    {\n      \"column\": \"pval\",\n      \"properties\": {\n        \"dtype\": \"number\",\n        \"std\": 0.07353554920361136,\n        \"min\": 0.008093809842533717,\n        \"max\": 0.1455876814020266,\n        \"num_unique_values\": 3,\n        \"samples\": [\n          0.1455876814020266,\n          0.008093809842533717\n        ],\n        \"semantic_type\": \"\",\n        \"description\": \"\"\n      }\n    },\n    {\n      \"column\": \"hedges\",\n      \"properties\": {\n        \"dtype\": \"number\",\n        \"std\": 0.38457275525234547,\n        \"min\": -1.6331786599231448,\n        \"max\": -0.8644885424175298,\n        \"num_unique_values\": 3,\n        \"samples\": [\n          -0.8644885424175298,\n          -1.6331786599231448\n        ],\n        \"semantic_type\": \"\",\n        \"description\": \"\"\n      }\n    }\n  ]\n}"
            }
          },
          "metadata": {},
          "execution_count": 91
        }
      ]
    },
    {
      "cell_type": "markdown",
      "source": [
        "# 문제 풀이"
      ],
      "metadata": {
        "id": "MaLzpgMAhaas"
      }
    },
    {
      "cell_type": "markdown",
      "source": [
        "## 문제2"
      ],
      "metadata": {
        "id": "1hmvVDH1rust"
      }
    },
    {
      "cell_type": "code",
      "source": [
        "# 라이브러리 불러오기\n",
        "import numpy as np\n",
        "import pandas as pd\n",
        "from scipy.stats import f"
      ],
      "metadata": {
        "id": "0ZFm9MPCpDEm"
      },
      "execution_count": null,
      "outputs": []
    },
    {
      "cell_type": "code",
      "source": [
        "# 문제2\n",
        "# x1: 집단1(평균연습15시간미만)\n",
        "# x2: 집단2(평균연습15~25시간)\n",
        "# x3: 집단3(평균연습25시간이상)\n",
        "# 100야드자유형시간기록\n",
        "x1 = [58.7, 55.3, 61.8, 49.5, 64.5, 61, 65.7, 51.4, 53.6, 59]\n",
        "x2 = [64.4, 55.8, 58.7, 54.7, 52.7, 67.8, 61.6, 58.7, 54.6, 51.5, 54.7, 61.4, 56.9]\n",
        "x3 = [68, 65.9, 54.7, 53.6, 58.7, 58.7, 65.7, 66.5, 56.7, 55.4, 51.5, 54.8, 57.2]"
      ],
      "metadata": {
        "id": "HDtGjMJHe8lY"
      },
      "execution_count": null,
      "outputs": []
    },
    {
      "cell_type": "code",
      "source": [
        "# 그룹평균\n",
        "x1_m = np.mean(x1);x2_m = np.mean(x2);x3_m = np.mean(x3)\n",
        "print(x1_m, x2_m, x3_m)"
      ],
      "metadata": {
        "colab": {
          "base_uri": "https://localhost:8080/"
        },
        "outputId": "f0171488-9488-485c-9732-40d66f4b7bc5",
        "id": "O7A2eqkCrmD1"
      },
      "execution_count": null,
      "outputs": [
        {
          "output_type": "stream",
          "name": "stdout",
          "text": [
            "58.05 57.96153846153846 59.03076923076923\n"
          ]
        }
      ]
    },
    {
      "cell_type": "code",
      "source": [
        "# 총평균\n",
        "t_m = np.mean(x1 + x2 + x3);t_m"
      ],
      "metadata": {
        "colab": {
          "base_uri": "https://localhost:8080/"
        },
        "outputId": "f4c600c8-a282-45e0-b956-6dcc760a6180",
        "id": "E7uHXrEirmD1"
      },
      "execution_count": null,
      "outputs": [
        {
          "output_type": "execute_result",
          "data": {
            "text/plain": [
              "58.37222222222223"
            ]
          },
          "metadata": {},
          "execution_count": 158
        }
      ]
    },
    {
      "cell_type": "code",
      "source": [
        "# 표본크기\n",
        "n1 = len(x1);n2 = len(x2);n3 = len(x3)\n",
        "print(n1, n2, n3)"
      ],
      "metadata": {
        "colab": {
          "base_uri": "https://localhost:8080/"
        },
        "outputId": "f33a364b-862d-4209-b7e6-f39cbd5859e4",
        "id": "ElI3zlh-rmD2"
      },
      "execution_count": null,
      "outputs": [
        {
          "output_type": "stream",
          "name": "stdout",
          "text": [
            "10 13 13\n"
          ]
        }
      ]
    },
    {
      "cell_type": "code",
      "source": [
        "# 분산분석표\n",
        "# between\n",
        "# 그룹간 변동 = 그룹평균 - 총평균\n",
        "b1 = x1_m - t_m\n",
        "b2 = x2_m - t_m\n",
        "b3 = x3_m - t_m\n",
        "print(b1, b2, b3)"
      ],
      "metadata": {
        "colab": {
          "base_uri": "https://localhost:8080/"
        },
        "outputId": "3c4846f3-e3bd-4a92-8de0-0530c7180254",
        "id": "RSXFnlVArmD2"
      },
      "execution_count": null,
      "outputs": [
        {
          "output_type": "stream",
          "name": "stdout",
          "text": [
            "-0.32222222222222996 -0.4106837606837672 0.6585470085470035\n"
          ]
        }
      ]
    },
    {
      "cell_type": "code",
      "source": [
        "# 그룹간 변동 제곱\n",
        "b12 = b1 ** 2\n",
        "b22 = b2 ** 2\n",
        "b32 = b3 ** 2\n",
        "print(b12, b22, b32)"
      ],
      "metadata": {
        "colab": {
          "base_uri": "https://localhost:8080/"
        },
        "outputId": "c80ce3d3-9e7b-4f56-80ff-286a20acf8be",
        "id": "s8lYWzUbrmD2"
      },
      "execution_count": null,
      "outputs": [
        {
          "output_type": "stream",
          "name": "stdout",
          "text": [
            "0.10382716049383214 0.1686611512893618 0.43368416246620717\n"
          ]
        }
      ]
    },
    {
      "cell_type": "code",
      "source": [
        "# 그룹간 변동 제곱합 = SSB\n",
        "ssb = sum([b12*n1, b22*n2, b32*n3]);ssb"
      ],
      "metadata": {
        "colab": {
          "base_uri": "https://localhost:8080/"
        },
        "outputId": "7724736c-05ab-44a5-ec73-a5b038ab54d5",
        "id": "yEe_a2a2rmD2"
      },
      "execution_count": null,
      "outputs": [
        {
          "output_type": "execute_result",
          "data": {
            "text/plain": [
              "8.86876068376072"
            ]
          },
          "metadata": {},
          "execution_count": 162
        }
      ]
    },
    {
      "cell_type": "code",
      "source": [
        "# within\n",
        "# 그룹내 변동 = 관측치 - 그룹평균\n",
        "w1 = x1 - x1_m\n",
        "w2 = x2 - x2_m\n",
        "w3 = x3 - x3_m\n",
        "print(w1, w2, w3)"
      ],
      "metadata": {
        "colab": {
          "base_uri": "https://localhost:8080/"
        },
        "outputId": "e17d1abe-e9c7-4a6d-c41f-9c07ac81c955",
        "id": "TtpxjZtZrmD2"
      },
      "execution_count": null,
      "outputs": [
        {
          "output_type": "stream",
          "name": "stdout",
          "text": [
            "[ 0.65 -2.75  3.75 -8.55  6.45  2.95  7.65 -6.65 -4.45  0.95] [ 6.43846154 -2.16153846  0.73846154 -3.26153846 -5.26153846  9.83846154\n",
            "  3.63846154  0.73846154 -3.36153846 -6.46153846 -3.26153846  3.43846154\n",
            " -1.06153846] [ 8.96923077  6.86923077 -4.33076923 -5.43076923 -0.33076923 -0.33076923\n",
            "  6.66923077  7.46923077 -2.33076923 -3.63076923 -7.53076923 -4.23076923\n",
            " -1.83076923]\n"
          ]
        }
      ]
    },
    {
      "cell_type": "code",
      "source": [
        "# 그룹내 변동 제곱\n",
        "w12 = w1 ** 2\n",
        "w22 = w2 ** 2\n",
        "w32 = w3 ** 2\n",
        "print(w12, w22, w32)"
      ],
      "metadata": {
        "colab": {
          "base_uri": "https://localhost:8080/"
        },
        "outputId": "61673330-2bbc-4f4d-86e6-d74f29b6660e",
        "id": "ILttAt6yrmD2"
      },
      "execution_count": null,
      "outputs": [
        {
          "output_type": "stream",
          "name": "stdout",
          "text": [
            "[ 0.4225  7.5625 14.0625 73.1025 41.6025  8.7025 58.5225 44.2225 19.8025\n",
            "  0.9025] [41.45378698  4.67224852  0.54532544 10.63763314 27.68378698 96.79532544\n",
            " 13.23840237  0.54532544 11.29994083 41.75147929 10.63763314 11.82301775\n",
            "  1.12686391] [80.44710059 47.18633136 18.75556213 29.49325444  0.10940828  0.10940828\n",
            " 44.47863905 55.78940828  5.43248521 13.18248521 56.71248521 17.89940828\n",
            "  3.35171598]\n"
          ]
        }
      ]
    },
    {
      "cell_type": "code",
      "source": [
        "# 그룹내 변동 제곱합 = SSW\n",
        "ssw = sum(w12) + sum(w22 + w32);ssw"
      ],
      "metadata": {
        "colab": {
          "base_uri": "https://localhost:8080/"
        },
        "outputId": "d2f162df-6241-4756-c62b-44b33f377ff5",
        "id": "mImHgTlSrmD2"
      },
      "execution_count": null,
      "outputs": [
        {
          "output_type": "execute_result",
          "data": {
            "text/plain": [
              "914.0634615384616"
            ]
          },
          "metadata": {},
          "execution_count": 165
        }
      ]
    },
    {
      "cell_type": "code",
      "source": [
        "# 자유도\n",
        "# between => k - 1\n",
        "# 분자 자유도 = df1\n",
        "k = 3;df1 = k -1;df1"
      ],
      "metadata": {
        "colab": {
          "base_uri": "https://localhost:8080/"
        },
        "outputId": "91f1a835-7f31-43c4-8848-d30063206d22",
        "id": "rlClU8TdrmD2"
      },
      "execution_count": null,
      "outputs": [
        {
          "output_type": "execute_result",
          "data": {
            "text/plain": [
              "2"
            ]
          },
          "metadata": {},
          "execution_count": 166
        }
      ]
    },
    {
      "cell_type": "code",
      "source": [
        "# within => n - k\n",
        "# 분모 자유도 = df2\n",
        "n = n1 + n2 + n3;df2 = n - k;df2"
      ],
      "metadata": {
        "colab": {
          "base_uri": "https://localhost:8080/"
        },
        "outputId": "39ef32ca-d984-4d12-ef64-09cba97def8e",
        "id": "2ea-R7UWrmD2"
      },
      "execution_count": null,
      "outputs": [
        {
          "output_type": "execute_result",
          "data": {
            "text/plain": [
              "33"
            ]
          },
          "metadata": {},
          "execution_count": 167
        }
      ]
    },
    {
      "cell_type": "code",
      "source": [
        "# 총 제곱합 SST = SSB + SSW\n",
        "sst = ssb + ssw;sst"
      ],
      "metadata": {
        "colab": {
          "base_uri": "https://localhost:8080/"
        },
        "outputId": "e5dea3be-14fd-438e-c49b-9cd306fd24ba",
        "id": "cKXR5gIermD3"
      },
      "execution_count": null,
      "outputs": [
        {
          "output_type": "execute_result",
          "data": {
            "text/plain": [
              "922.9322222222223"
            ]
          },
          "metadata": {},
          "execution_count": 168
        }
      ]
    },
    {
      "cell_type": "code",
      "source": [
        "# 전체 자유도 n - 1 = k - 1 + n - k\n",
        "n - 1\n",
        "k - 1 + n - k"
      ],
      "metadata": {
        "colab": {
          "base_uri": "https://localhost:8080/"
        },
        "outputId": "66838d74-0300-4145-c0e1-2645dd4b0b02",
        "id": "JfrdYgmermD3"
      },
      "execution_count": null,
      "outputs": [
        {
          "output_type": "execute_result",
          "data": {
            "text/plain": [
              "35"
            ]
          },
          "metadata": {},
          "execution_count": 169
        }
      ]
    },
    {
      "cell_type": "code",
      "source": [
        "# 평균제곱합\n",
        "# between => MSB = SSB / df1 = k - 1\n",
        "# msb = ssb / (k - 1);msb\n",
        "msb = ssb / df1;msb"
      ],
      "metadata": {
        "colab": {
          "base_uri": "https://localhost:8080/"
        },
        "outputId": "dda45753-b786-4af5-ad0f-603d65eb305f",
        "id": "8LkSlCX_rmD3"
      },
      "execution_count": null,
      "outputs": [
        {
          "output_type": "execute_result",
          "data": {
            "text/plain": [
              "4.43438034188036"
            ]
          },
          "metadata": {},
          "execution_count": 170
        }
      ]
    },
    {
      "cell_type": "code",
      "source": [
        "# within => MSW = SSW / df2 = n - k\n",
        "# msw = ssw / (n - k);msw\n",
        "msw = ssw / df2;msw"
      ],
      "metadata": {
        "colab": {
          "base_uri": "https://localhost:8080/"
        },
        "outputId": "64597ed2-9b4a-4a2c-914e-690d1e827fcd",
        "id": "Nh0UnQMOrmD3"
      },
      "execution_count": null,
      "outputs": [
        {
          "output_type": "execute_result",
          "data": {
            "text/plain": [
              "27.698892773892776"
            ]
          },
          "metadata": {},
          "execution_count": 171
        }
      ]
    },
    {
      "cell_type": "code",
      "source": [
        "# F 검정통계량 = MSB / MSW\n",
        "fv = msb / msw;fv"
      ],
      "metadata": {
        "colab": {
          "base_uri": "https://localhost:8080/"
        },
        "outputId": "574e5013-8fb0-4828-e480-c415640729a4",
        "id": "XHFNwdzNrmD3"
      },
      "execution_count": null,
      "outputs": [
        {
          "output_type": "execute_result",
          "data": {
            "text/plain": [
              "0.1600923321404358"
            ]
          },
          "metadata": {},
          "execution_count": 172
        }
      ]
    },
    {
      "cell_type": "code",
      "source": [
        "# 임계값, 유의수준, 우측검정만 고려\n",
        "alpha = 0.05\n",
        "cv = f.ppf(1 - alpha, df1, df2);cv"
      ],
      "metadata": {
        "colab": {
          "base_uri": "https://localhost:8080/"
        },
        "outputId": "4274e70d-f344-42f2-8c35-973baa4bdc00",
        "id": "RlSTDoitrmD3"
      },
      "execution_count": null,
      "outputs": [
        {
          "output_type": "execute_result",
          "data": {
            "text/plain": [
              "3.2849176510382883"
            ]
          },
          "metadata": {},
          "execution_count": 173
        }
      ]
    },
    {
      "cell_type": "code",
      "source": [
        "# 결론\n",
        "cv < fv\n",
        "# 연습시간에 따른 그룹에서는 자유형 시간 기록에 차이가 없다."
      ],
      "metadata": {
        "colab": {
          "base_uri": "https://localhost:8080/"
        },
        "outputId": "7a085d96-80ab-4f58-c757-1ebebc0510f0",
        "id": "CKZmMBXrrmD3"
      },
      "execution_count": null,
      "outputs": [
        {
          "output_type": "execute_result",
          "data": {
            "text/plain": [
              "False"
            ]
          },
          "metadata": {},
          "execution_count": 174
        }
      ]
    },
    {
      "cell_type": "code",
      "source": [
        "# 유의확률\n",
        "pv = 1 - f.cdf(fv, df1, df2);pv"
      ],
      "metadata": {
        "colab": {
          "base_uri": "https://localhost:8080/"
        },
        "outputId": "9d0e67e6-6d3f-451c-d678-6cff34cb7e7d",
        "id": "YpSbOwyVrmD3"
      },
      "execution_count": null,
      "outputs": [
        {
          "output_type": "execute_result",
          "data": {
            "text/plain": [
              "0.8527228755700839"
            ]
          },
          "metadata": {},
          "execution_count": 175
        }
      ]
    },
    {
      "cell_type": "code",
      "source": [
        "# 결론\n",
        "alpha > pv\n",
        "# 연습시간에 따른 그룹에서는 자유형 시간 기록에 차이가 없다."
      ],
      "metadata": {
        "colab": {
          "base_uri": "https://localhost:8080/"
        },
        "outputId": "ed0f4e3f-8ff1-48e9-b962-0f9c5dc03c72",
        "id": "Q1cwc2TnrmD3"
      },
      "execution_count": null,
      "outputs": [
        {
          "output_type": "execute_result",
          "data": {
            "text/plain": [
              "False"
            ]
          },
          "metadata": {},
          "execution_count": 176
        }
      ]
    },
    {
      "cell_type": "code",
      "source": [
        "import matplotlib.pyplot as plt\n",
        "# 상자그림\n",
        "plot_x = [x1, x2, x3]\n",
        "plt.boxplot(plot_x)\n",
        "plt.show()"
      ],
      "metadata": {
        "id": "Y0Y18y6Xq-TE",
        "colab": {
          "base_uri": "https://localhost:8080/",
          "height": 430
        },
        "outputId": "818b7cbd-0273-40e5-b068-d7a65c227970"
      },
      "execution_count": null,
      "outputs": [
        {
          "output_type": "display_data",
          "data": {
            "text/plain": [
              "<Figure size 640x480 with 1 Axes>"
            ],
            "image/png": "[encoded data removed]"
          },
          "metadata": {}
        }
      ]
    },
    {
      "cell_type": "code",
      "source": [
        "# 정규성 검정\n",
        "# 왜도: 절대값 2 미만 / 첨도: 절대값 5 미만이면 정규성을 만족함\n",
        "# 정규성을 만족하지 않으면 비모수 통계인 Kruskal-Wallis test 사용\n",
        "# t-test 에서는 Wilcoxon test 사용\n",
        "from scipy.stats import shapiro, skew, kurtosis\n",
        "print(shapiro(x1), skew(x1, bias = False), kurtosis(x1, bias = False))\n",
        "print(shapiro(x2), skew(x2, bias = False), kurtosis(x2, bias = False))\n",
        "print(shapiro(x3), skew(x3, bias = False), kurtosis(x3, bias = False))"
      ],
      "metadata": {
        "colab": {
          "base_uri": "https://localhost:8080/"
        },
        "outputId": "ea4c867d-8360-4e7b-94de-4fada0b0f036",
        "id": "OGqjRsb24Oq2"
      },
      "execution_count": null,
      "outputs": [
        {
          "output_type": "stream",
          "name": "stdout",
          "text": [
            "ShapiroResult(statistic=0.960749626159668, pvalue=0.7943859100341797) -0.19768159594076745 -1.1172223725837256\n",
            "ShapiroResult(statistic=0.946773111820221, pvalue=0.5502951741218567) 0.7062121885393362 -0.09828735885810769\n",
            "ShapiroResult(statistic=0.8846263289451599, pvalue=0.0824035182595253) 0.5389063816164447 -1.2490771859424863\n"
          ]
        }
      ]
    },
    {
      "cell_type": "code",
      "source": [
        "# 등분산 검정\n",
        "# 레빈 - 정규성 만족 안함\n",
        "from scipy.stats import levene\n",
        "levene(x1, x2, x3)"
      ],
      "metadata": {
        "colab": {
          "base_uri": "https://localhost:8080/"
        },
        "outputId": "f34f13c0-b1f5-46c8-9341-cc128c2f3466",
        "id": "-1sVsp0j4aB7"
      },
      "execution_count": null,
      "outputs": [
        {
          "output_type": "execute_result",
          "data": {
            "text/plain": [
              "LeveneResult(statistic=0.14772950099612533, pvalue=0.8632317460123762)"
            ]
          },
          "metadata": {},
          "execution_count": 4
        }
      ]
    },
    {
      "cell_type": "code",
      "source": [
        "# 일원분산분석\n",
        "# 등분산 가정\n",
        "from scipy.stats import f_oneway\n",
        "f_oneway(x1, x2, x3)"
      ],
      "metadata": {
        "colab": {
          "base_uri": "https://localhost:8080/"
        },
        "outputId": "8e161d47-9be6-4092-fa46-3cb0bdbfcedb",
        "id": "5rchBv4RkH2y"
      },
      "execution_count": null,
      "outputs": [
        {
          "output_type": "execute_result",
          "data": {
            "text/plain": [
              "F_onewayResult(statistic=0.16009233214043544, pvalue=0.8527228755700833)"
            ]
          },
          "metadata": {},
          "execution_count": 5
        }
      ]
    },
    {
      "cell_type": "markdown",
      "source": [
        "## 문제3"
      ],
      "metadata": {
        "id": "AUdvwJYYrzD6"
      }
    },
    {
      "cell_type": "code",
      "source": [
        "# 문제3\n",
        "# x1: 컬러\n",
        "# x2: 흑백\n",
        "# x3: 조합(컬러와 흑백)\n",
        "# 제품의 매력도\n",
        "x1 = [10, 8, 7, 8, 9, 6, 7, 6, 6, 7, 8, 7, 6, 5, 6, 7, 7]\n",
        "x2 = [4, 5, 4, 3, 3, 4, 5, 6, 5, 7, 6, 5, 4, 5, 4, 4, 3]\n",
        "x3 = [9, 8, 8, 9, 8, 7, 8, 9, 9, 10, 10, 9, 8, 9, 10, 10, 8]"
      ],
      "metadata": {
        "id": "zIivPQwpq2tp"
      },
      "execution_count": null,
      "outputs": []
    },
    {
      "cell_type": "code",
      "source": [
        "import matplotlib.pyplot as plt\n",
        "# 상자그림\n",
        "plot_x = [x1, x2, x3]\n",
        "plt.boxplot(plot_x)\n",
        "plt.show()"
      ],
      "metadata": {
        "id": "IpyLF4fyGVHh",
        "colab": {
          "base_uri": "https://localhost:8080/",
          "height": 430
        },
        "outputId": "6b9d6128-39d6-4c4d-8102-a5b00098d5ab"
      },
      "execution_count": null,
      "outputs": [
        {
          "output_type": "display_data",
          "data": {
            "text/plain": [
              "<Figure size 640x480 with 1 Axes>"
            ],
            "image/png": "[encoded data removed]"
          },
          "metadata": {}
        }
      ]
    },
    {
      "cell_type": "code",
      "source": [
        "# 정규성 검정\n",
        "# 왜도: 절대값 2 미만 / 첨도: 절대값 5 미만이면 정규성을 만족함\n",
        "# 정규성을 만족하지 않으면 비모수 통계인 Kruskal-Wallis test 사용\n",
        "# t-test 에서는 Wilcoxon test 사용\n",
        "from scipy.stats import shapiro, skew, kurtosis\n",
        "print(shapiro(x1), skew(x1, bias = False), kurtosis(x1, bias = False))\n",
        "print(shapiro(x2), skew(x2, bias = False), kurtosis(x2, bias = False))\n",
        "print(shapiro(x3), skew(x3, bias = False), kurtosis(x3, bias = False))"
      ],
      "metadata": {
        "colab": {
          "base_uri": "https://localhost:8080/"
        },
        "outputId": "336d050e-cc45-4f0c-fe86-424a44de6377",
        "id": "8jnXd7-m5nQB"
      },
      "execution_count": null,
      "outputs": [
        {
          "output_type": "stream",
          "name": "stdout",
          "text": [
            "ShapiroResult(statistic=0.9188281893730164, pvalue=0.14108505845069885) 0.7495616018005272 0.6767838071504872\n",
            "ShapiroResult(statistic=0.9141926765441895, pvalue=0.11777079105377197) 0.5149156862392628 -0.027845167271885796\n",
            "ShapiroResult(statistic=0.8779568076133728, pvalue=0.029467137530446053) -0.05384913678331715 -0.7748721694667631\n"
          ]
        }
      ]
    },
    {
      "cell_type": "code",
      "source": [
        "# 등분산 검정\n",
        "# 바틀렛 - 정규성 만족\n",
        "from scipy.stats import bartlett\n",
        "bartlett(x1, x2, x3)"
      ],
      "metadata": {
        "colab": {
          "base_uri": "https://localhost:8080/"
        },
        "outputId": "9ee093e9-eb2e-4978-d812-b3cc5f1b3ff7",
        "id": "M7ITwB5x5nQN"
      },
      "execution_count": null,
      "outputs": [
        {
          "output_type": "execute_result",
          "data": {
            "text/plain": [
              "BartlettResult(statistic=1.6225370294235317, pvalue=0.444294114987132)"
            ]
          },
          "metadata": {},
          "execution_count": 188
        }
      ]
    },
    {
      "cell_type": "code",
      "source": [
        "# 레빈 - 정규성 만족 안함\n",
        "from scipy.stats import levene\n",
        "levene(x1, x2, x3)"
      ],
      "metadata": {
        "colab": {
          "base_uri": "https://localhost:8080/"
        },
        "outputId": "ed5d5b52-409d-465d-c477-c717646a4b27",
        "id": "Q1lmOJ7r5yXu"
      },
      "execution_count": null,
      "outputs": [
        {
          "output_type": "execute_result",
          "data": {
            "text/plain": [
              "LeveneResult(statistic=0.29149797570850183, pvalue=0.7484566821902545)"
            ]
          },
          "metadata": {},
          "execution_count": 190
        }
      ]
    },
    {
      "cell_type": "code",
      "source": [
        "# 플리그너 - 정규성 만족 안함, 더 안정적 결과\n",
        "from scipy.stats import fligner\n",
        "fligner(x1, x2, x3)"
      ],
      "metadata": {
        "colab": {
          "base_uri": "https://localhost:8080/"
        },
        "outputId": "5147ac31-f338-44ee-ba84-9b6ba4970c0a",
        "id": "7GaDCg2u5yX6"
      },
      "execution_count": null,
      "outputs": [
        {
          "output_type": "execute_result",
          "data": {
            "text/plain": [
              "FlignerResult(statistic=0.6733004589700047, pvalue=0.7141585878400005)"
            ]
          },
          "metadata": {},
          "execution_count": 191
        }
      ]
    },
    {
      "cell_type": "code",
      "source": [
        "# 분산분석\n",
        "# 등분산 가정\n",
        "from scipy.stats import f_oneway\n",
        "f_oneway(x1, x2, x3)\n",
        "# 3가지 형태의 샘플 제품의 매력이 유의하게 다르다, 어느 제품 간의 차이가 있는지 모른다."
      ],
      "metadata": {
        "colab": {
          "base_uri": "https://localhost:8080/"
        },
        "outputId": "ea4a5bd2-3f11-4169-a499-c880dbe45be6",
        "id": "8zbzORZ8GVHj"
      },
      "execution_count": null,
      "outputs": [
        {
          "output_type": "execute_result",
          "data": {
            "text/plain": [
              "F_onewayResult(statistic=63.628282828282835, pvalue=3.1739974229954e-14)"
            ]
          },
          "metadata": {},
          "execution_count": 192
        }
      ]
    },
    {
      "cell_type": "code",
      "source": [
        "# 사후 검정 = 개별 그룹 간 차이 확인\n",
        "# 등분산 가정하면 Tukey, Duncan, Scheffe 사용 가능함\n",
        "# statsmodels의 Tukey test를 하기 위해서는 dataframe의 형태를 변경해줘야 함\n",
        "import pandas as pd\n",
        "data = pd.DataFrame({\"group\": [\"group1\"] * len(x1) + [\"group2\"] * len(x2) + [\"group3\"] * len(x3),\n",
        "                    \"attractiveness\": x1 + x2 + x3})\n",
        "data.head()"
      ],
      "metadata": {
        "id": "j_X8nLqEGaNi",
        "colab": {
          "base_uri": "https://localhost:8080/",
          "height": 206
        },
        "outputId": "f52d43a9-a3f3-4e8b-85a8-cec11333c8d7"
      },
      "execution_count": null,
      "outputs": [
        {
          "output_type": "execute_result",
          "data": {
            "text/plain": [
              "    group  attractiveness\n",
              "0  group1              10\n",
              "1  group1               8\n",
              "2  group1               7\n",
              "3  group1               8\n",
              "4  group1               9"
            ],
            "text/html": [
              "\n",
              "  <div id=\"df-4cd11214-b0bd-42e5-8c2a-2fd1ffd5103c\" class=\"colab-df-container\">\n",
              "    <div>\n",
              "<style scoped>\n",
              "    .dataframe tbody tr th:only-of-type {\n",
              "        vertical-align: middle;\n",
              "    }\n",
              "\n",
              "    .dataframe tbody tr th {\n",
              "        vertical-align: top;\n",
              "    }\n",
              "\n",
              "    .dataframe thead th {\n",
              "        text-align: right;\n",
              "    }\n",
              "</style>\n",
              "<table border=\"1\" class=\"dataframe\">\n",
              "  <thead>\n",
              "    <tr style=\"text-align: right;\">\n",
              "      <th></th>\n",
              "      <th>group</th>\n",
              "      <th>attractiveness</th>\n",
              "    </tr>\n",
              "  </thead>\n",
              "  <tbody>\n",
              "    <tr>\n",
              "      <th>0</th>\n",
              "      <td>group1</td>\n",
              "      <td>10</td>\n",
              "    </tr>\n",
              "    <tr>\n",
              "      <th>1</th>\n",
              "      <td>group1</td>\n",
              "      <td>8</td>\n",
              "    </tr>\n",
              "    <tr>\n",
              "      <th>2</th>\n",
              "      <td>group1</td>\n",
              "      <td>7</td>\n",
              "    </tr>\n",
              "    <tr>\n",
              "      <th>3</th>\n",
              "      <td>group1</td>\n",
              "      <td>8</td>\n",
              "    </tr>\n",
              "    <tr>\n",
              "      <th>4</th>\n",
              "      <td>group1</td>\n",
              "      <td>9</td>\n",
              "    </tr>\n",
              "  </tbody>\n",
              "</table>\n",
              "</div>\n",
              "    <div class=\"colab-df-buttons\">\n",
              "\n",
              "  <div class=\"colab-df-container\">\n",
              "    <button class=\"colab-df-convert\" onclick=\"convertToInteractive('df-4cd11214-b0bd-42e5-8c2a-2fd1ffd5103c')\"\n",
              "            title=\"Convert this dataframe to an interactive table.\"\n",
              "            style=\"display:none;\">\n",
              "\n",
              "  <svg xmlns=\"http://www.w3.org/2000/svg\" height=\"24px\" viewBox=\"0 -960 960 960\">\n",
              "    <path d=\"M120-120v-720h720v720H120Zm60-500h600v-160H180v160Zm220 220h160v-160H400v160Zm0 220h160v-160H400v160ZM180-400h160v-160H180v160Zm440 0h160v-160H620v160ZM180-180h160v-160H180v160Zm440 0h160v-160H620v160Z\"/>\n",
              "  </svg>\n",
              "    </button>\n",
              "\n",
              "  <style>\n",
              "    .colab-df-container {\n",
              "      display:flex;\n",
              "      gap: 12px;\n",
              "    }\n",
              "\n",
              "    .colab-df-convert {\n",
              "      background-color: #E8F0FE;\n",
              "      border: none;\n",
              "      border-radius: 50%;\n",
              "      cursor: pointer;\n",
              "      display: none;\n",
              "      fill: #1967D2;\n",
              "      height: 32px;\n",
              "      padding: 0 0 0 0;\n",
              "      width: 32px;\n",
              "    }\n",
              "\n",
              "    .colab-df-convert:hover {\n",
              "      background-color: #E2EBFA;\n",
              "      box-shadow: 0px 1px 2px rgba(60, 64, 67, 0.3), 0px 1px 3px 1px rgba(60, 64, 67, 0.15);\n",
              "      fill: #174EA6;\n",
              "    }\n",
              "\n",
              "    .colab-df-buttons div {\n",
              "      margin-bottom: 4px;\n",
              "    }\n",
              "\n",
              "    [theme=dark] .colab-df-convert {\n",
              "      background-color: #3B4455;\n",
              "      fill: #D2E3FC;\n",
              "    }\n",
              "\n",
              "    [theme=dark] .colab-df-convert:hover {\n",
              "      background-color: #434B5C;\n",
              "      box-shadow: 0px 1px 3px 1px rgba(0, 0, 0, 0.15);\n",
              "      filter: drop-shadow(0px 1px 2px rgba(0, 0, 0, 0.3));\n",
              "      fill: #FFFFFF;\n",
              "    }\n",
              "  </style>\n",
              "\n",
              "    <script>\n",
              "      const buttonEl =\n",
              "        document.querySelector('#df-4cd11214-b0bd-42e5-8c2a-2fd1ffd5103c button.colab-df-convert');\n",
              "      buttonEl.style.display =\n",
              "        google.colab.kernel.accessAllowed ? 'block' : 'none';\n",
              "\n",
              "      async function convertToInteractive(key) {\n",
              "        const element = document.querySelector('#df-4cd11214-b0bd-42e5-8c2a-2fd1ffd5103c');\n",
              "        const dataTable =\n",
              "          await google.colab.kernel.invokeFunction('convertToInteractive',\n",
              "                                                    [key], {});\n",
              "        if (!dataTable) return;\n",
              "\n",
              "        const docLinkHtml = 'Like what you see? Visit the ' +\n",
              "          '<a target=\"_blank\" href=https://colab.research.google.com/notebooks/data_table.ipynb>data table notebook</a>'\n",
              "          + ' to learn more about interactive tables.';\n",
              "        element.innerHTML = '';\n",
              "        dataTable['output_type'] = 'display_data';\n",
              "        await google.colab.output.renderOutput(dataTable, element);\n",
              "        const docLink = document.createElement('div');\n",
              "        docLink.innerHTML = docLinkHtml;\n",
              "        element.appendChild(docLink);\n",
              "      }\n",
              "    </script>\n",
              "  </div>\n",
              "\n",
              "\n",
              "<div id=\"df-d56db2c0-df5c-461e-8647-db7d0cc61188\">\n",
              "  <button class=\"colab-df-quickchart\" onclick=\"quickchart('df-d56db2c0-df5c-461e-8647-db7d0cc61188')\"\n",
              "            title=\"Suggest charts\"\n",
              "            style=\"display:none;\">\n",
              "\n",
              "<svg xmlns=\"http://www.w3.org/2000/svg\" height=\"24px\"viewBox=\"0 0 24 24\"\n",
              "     width=\"24px\">\n",
              "    <g>\n",
              "        <path d=\"M19 3H5c-1.1 0-2 .9-2 2v14c0 1.1.9 2 2 2h14c1.1 0 2-.9 2-2V5c0-1.1-.9-2-2-2zM9 17H7v-7h2v7zm4 0h-2V7h2v10zm4 0h-2v-4h2v4z\"/>\n",
              "    </g>\n",
              "</svg>\n",
              "  </button>\n",
              "\n",
              "<style>\n",
              "  .colab-df-quickchart {\n",
              "      --bg-color: #E8F0FE;\n",
              "      --fill-color: #1967D2;\n",
              "      --hover-bg-color: #E2EBFA;\n",
              "      --hover-fill-color: #174EA6;\n",
              "      --disabled-fill-color: #AAA;\n",
              "      --disabled-bg-color: #DDD;\n",
              "  }\n",
              "\n",
              "  [theme=dark] .colab-df-quickchart {\n",
              "      --bg-color: #3B4455;\n",
              "      --fill-color: #D2E3FC;\n",
              "      --hover-bg-color: #434B5C;\n",
              "      --hover-fill-color: #FFFFFF;\n",
              "      --disabled-bg-color: #3B4455;\n",
              "      --disabled-fill-color: #666;\n",
              "  }\n",
              "\n",
              "  .colab-df-quickchart {\n",
              "    background-color: var(--bg-color);\n",
              "    border: none;\n",
              "    border-radius: 50%;\n",
              "    cursor: pointer;\n",
              "    display: none;\n",
              "    fill: var(--fill-color);\n",
              "    height: 32px;\n",
              "    padding: 0;\n",
              "    width: 32px;\n",
              "  }\n",
              "\n",
              "  .colab-df-quickchart:hover {\n",
              "    background-color: var(--hover-bg-color);\n",
              "    box-shadow: 0 1px 2px rgba(60, 64, 67, 0.3), 0 1px 3px 1px rgba(60, 64, 67, 0.15);\n",
              "    fill: var(--button-hover-fill-color);\n",
              "  }\n",
              "\n",
              "  .colab-df-quickchart-complete:disabled,\n",
              "  .colab-df-quickchart-complete:disabled:hover {\n",
              "    background-color: var(--disabled-bg-color);\n",
              "    fill: var(--disabled-fill-color);\n",
              "    box-shadow: none;\n",
              "  }\n",
              "\n",
              "  .colab-df-spinner {\n",
              "    border: 2px solid var(--fill-color);\n",
              "    border-color: transparent;\n",
              "    border-bottom-color: var(--fill-color);\n",
              "    animation:\n",
              "      spin 1s steps(1) infinite;\n",
              "  }\n",
              "\n",
              "  @keyframes spin {\n",
              "    0% {\n",
              "      border-color: transparent;\n",
              "      border-bottom-color: var(--fill-color);\n",
              "      border-left-color: var(--fill-color);\n",
              "    }\n",
              "    20% {\n",
              "      border-color: transparent;\n",
              "      border-left-color: var(--fill-color);\n",
              "      border-top-color: var(--fill-color);\n",
              "    }\n",
              "    30% {\n",
              "      border-color: transparent;\n",
              "      border-left-color: var(--fill-color);\n",
              "      border-top-color: var(--fill-color);\n",
              "      border-right-color: var(--fill-color);\n",
              "    }\n",
              "    40% {\n",
              "      border-color: transparent;\n",
              "      border-right-color: var(--fill-color);\n",
              "      border-top-color: var(--fill-color);\n",
              "    }\n",
              "    60% {\n",
              "      border-color: transparent;\n",
              "      border-right-color: var(--fill-color);\n",
              "    }\n",
              "    80% {\n",
              "      border-color: transparent;\n",
              "      border-right-color: var(--fill-color);\n",
              "      border-bottom-color: var(--fill-color);\n",
              "    }\n",
              "    90% {\n",
              "      border-color: transparent;\n",
              "      border-bottom-color: var(--fill-color);\n",
              "    }\n",
              "  }\n",
              "</style>\n",
              "\n",
              "  <script>\n",
              "    async function quickchart(key) {\n",
              "      const quickchartButtonEl =\n",
              "        document.querySelector('#' + key + ' button');\n",
              "      quickchartButtonEl.disabled = true;  // To prevent multiple clicks.\n",
              "      quickchartButtonEl.classList.add('colab-df-spinner');\n",
              "      try {\n",
              "        const charts = await google.colab.kernel.invokeFunction(\n",
              "            'suggestCharts', [key], {});\n",
              "      } catch (error) {\n",
              "        console.error('Error during call to suggestCharts:', error);\n",
              "      }\n",
              "      quickchartButtonEl.classList.remove('colab-df-spinner');\n",
              "      quickchartButtonEl.classList.add('colab-df-quickchart-complete');\n",
              "    }\n",
              "    (() => {\n",
              "      let quickchartButtonEl =\n",
              "        document.querySelector('#df-d56db2c0-df5c-461e-8647-db7d0cc61188 button');\n",
              "      quickchartButtonEl.style.display =\n",
              "        google.colab.kernel.accessAllowed ? 'block' : 'none';\n",
              "    })();\n",
              "  </script>\n",
              "</div>\n",
              "\n",
              "    </div>\n",
              "  </div>\n"
            ],
            "application/vnd.google.colaboratory.intrinsic+json": {
              "type": "dataframe",
              "variable_name": "data",
              "summary": "{\n  \"name\": \"data\",\n  \"rows\": 51,\n  \"fields\": [\n    {\n      \"column\": \"group\",\n      \"properties\": {\n        \"dtype\": \"category\",\n        \"num_unique_values\": 3,\n        \"samples\": [\n          \"group1\",\n          \"group2\",\n          \"group3\"\n        ],\n        \"semantic_type\": \"\",\n        \"description\": \"\"\n      }\n    },\n    {\n      \"column\": \"attractiveness\",\n      \"properties\": {\n        \"dtype\": \"number\",\n        \"std\": 2,\n        \"min\": 3,\n        \"max\": 10,\n        \"num_unique_values\": 8,\n        \"samples\": [\n          8,\n          5,\n          10\n        ],\n        \"semantic_type\": \"\",\n        \"description\": \"\"\n      }\n    }\n  ]\n}"
            }
          },
          "metadata": {},
          "execution_count": 193
        }
      ]
    },
    {
      "cell_type": "code",
      "source": [
        "# 사후검정 Tukey HSD\n",
        "from statsmodels.stats.multicomp import pairwise_tukeyhsd\n",
        "posthoc = pairwise_tukeyhsd(data['attractiveness'], data['group'], alpha=0.05)\n",
        "print(posthoc)\n",
        "# 집단1과 집단2의 차이가 있다.\n",
        "# 집단1과 집단3의 차이가 있다.\n",
        "# 집단2과 집단3의 차이가 있다."
      ],
      "metadata": {
        "id": "qh6JeSalGaNo",
        "colab": {
          "base_uri": "https://localhost:8080/"
        },
        "outputId": "da360447-2724-4d9f-af33-674b82c70b24"
      },
      "execution_count": null,
      "outputs": [
        {
          "output_type": "stream",
          "name": "stdout",
          "text": [
            "Multiple Comparison of Means - Tukey HSD, FWER=0.05 \n",
            "====================================================\n",
            "group1 group2 meandiff p-adj   lower   upper  reject\n",
            "----------------------------------------------------\n",
            "group1 group2  -2.5294    0.0 -3.4431 -1.6157   True\n",
            "group1 group3   1.7059 0.0001  0.7922  2.6196   True\n",
            "group2 group3   4.2353    0.0  3.3216   5.149   True\n",
            "----------------------------------------------------\n"
          ]
        }
      ]
    },
    {
      "cell_type": "code",
      "source": [
        "fig = posthoc.plot_simultaneous()\n",
        "# 집단1과 집단2의 차이가 있다.\n",
        "# 집단1과 집단3의 차이가 있다.\n",
        "# 집단2과 집단3의 차이가 있다."
      ],
      "metadata": {
        "id": "3KXyPqxgGaNo",
        "colab": {
          "base_uri": "https://localhost:8080/",
          "height": 545
        },
        "outputId": "14a800f8-86a8-487a-ceef-8cebd76ace4f"
      },
      "execution_count": null,
      "outputs": [
        {
          "output_type": "display_data",
          "data": {
            "text/plain": [
              "<Figure size 1000x600 with 1 Axes>"
            ],
            "image/png": "[encoded data removed]"
          },
          "metadata": {}
        }
      ]
    },
    {
      "cell_type": "markdown",
      "source": [
        "## 문제4"
      ],
      "metadata": {
        "id": "Btw86mlrH8w6"
      }
    },
    {
      "cell_type": "code",
      "source": [
        "# 문제4\n",
        "# x1: 고등학교1\n",
        "# x2: 고등학교2\n",
        "# x3: 고등학교3\n",
        "# x4: 고등학교4\n",
        "# x5: 고등학교5\n",
        "# 졸업율\n",
        "x1 = [67, 68, 65, 68, 67, 71, 78, 76, 72, 77]\n",
        "x2 = [82, 87, 83, 73, 77, 74, 76, 78, 76, 86]\n",
        "x3 = [94, 78, 81, 76, 75, 81, 79, 89, 76, 77]\n",
        "x4 = [65, 65, 45, 57, 68, 76, 77, 72, 69, 58]\n",
        "x5 = [88, 87, 86, 88, 89, 87, 81, 78, 89, 87]"
      ],
      "metadata": {
        "id": "SlelVaR8hdBj"
      },
      "execution_count": null,
      "outputs": []
    },
    {
      "cell_type": "code",
      "source": [
        "import matplotlib.pyplot as plt\n",
        "# 상자그림\n",
        "plot_x = [x1, x2, x3, x4, x5]\n",
        "plt.boxplot(plot_x)\n",
        "plt.show()"
      ],
      "metadata": {
        "id": "QYEFzNPIQKqk",
        "colab": {
          "base_uri": "https://localhost:8080/",
          "height": 430
        },
        "outputId": "7b3d5f15-76eb-4799-bb8e-53bd8cb0f0e9"
      },
      "execution_count": null,
      "outputs": [
        {
          "output_type": "display_data",
          "data": {
            "text/plain": [
              "<Figure size 640x480 with 1 Axes>"
            ],
            "image/png": "[encoded data removed]"
          },
          "metadata": {}
        }
      ]
    },
    {
      "cell_type": "code",
      "source": [
        "# 정규성 검정\n",
        "# 왜도: 절대값 2 미만 / 첨도: 절대값 5 미만이면 정규성을 만족함\n",
        "# 정규성을 만족하지 않으면 비모수 통계인 Kruskal-Wallis test 사용\n",
        "# t-test 에서는 Wilcoxon test 사용\n",
        "from scipy.stats import shapiro, skew, kurtosis\n",
        "print(shapiro(x1), skew(x1, bias = False), kurtosis(x1, bias = False))\n",
        "print(shapiro(x2), skew(x2, bias = False), kurtosis(x2, bias = False))\n",
        "print(shapiro(x3), skew(x3, bias = False), kurtosis(x3, bias = False))\n",
        "print(shapiro(x3), skew(x4, bias = False), kurtosis(x4, bias = False))\n",
        "print(shapiro(x3), skew(x5, bias = False), kurtosis(x5, bias = False))"
      ],
      "metadata": {
        "colab": {
          "base_uri": "https://localhost:8080/"
        },
        "outputId": "13c0d1b7-637b-41d5-de4e-a88f52dac48d",
        "id": "nRNXAmxQ6Ecj"
      },
      "execution_count": null,
      "outputs": [
        {
          "output_type": "stream",
          "name": "stdout",
          "text": [
            "ShapiroResult(statistic=0.8968305587768555, pvalue=0.20215274393558502) 0.4697201551037751 -1.4120017493819839\n",
            "ShapiroResult(statistic=0.9172374606132507, pvalue=0.3344894051551819) 0.4648977729982741 -1.2599416452710201\n",
            "ShapiroResult(statistic=0.8128599524497986, pvalue=0.020768487825989723) 1.4892194216702697 1.4536902831632883\n",
            "ShapiroResult(statistic=0.8128599524497986, pvalue=0.020768487825989723) -0.8862183684565436 0.758040440125622\n",
            "ShapiroResult(statistic=0.8128599524497986, pvalue=0.020768487825989723) -1.650012980385554 1.9048405630565934\n"
          ]
        }
      ]
    },
    {
      "cell_type": "code",
      "source": [
        "# 등분산 검정\n",
        "# 바틀렛 - 정규성 만족\n",
        "from scipy.stats import bartlett\n",
        "bartlett(x1, x2, x3, x4, x5)"
      ],
      "metadata": {
        "colab": {
          "base_uri": "https://localhost:8080/"
        },
        "outputId": "a5f952e6-3400-42de-b3f4-0cdb8720878f",
        "id": "WKYHHgdX6RYa"
      },
      "execution_count": null,
      "outputs": [
        {
          "output_type": "execute_result",
          "data": {
            "text/plain": [
              "BartlettResult(statistic=10.307828160654301, pvalue=0.03554962166506024)"
            ]
          },
          "metadata": {},
          "execution_count": 207
        }
      ]
    },
    {
      "cell_type": "code",
      "source": [
        "# 레빈 - 정규성 만족 안함\n",
        "from scipy.stats import levene\n",
        "levene(x1, x2, x3, x4, x5)"
      ],
      "metadata": {
        "colab": {
          "base_uri": "https://localhost:8080/"
        },
        "outputId": "a5bc2fb9-36bd-4329-d1ea-d34b9515a232",
        "id": "uiQ2St8E6RYc"
      },
      "execution_count": null,
      "outputs": [
        {
          "output_type": "execute_result",
          "data": {
            "text/plain": [
              "LeveneResult(statistic=1.8423688493802433, pvalue=0.13732941328780138)"
            ]
          },
          "metadata": {},
          "execution_count": 208
        }
      ]
    },
    {
      "cell_type": "code",
      "source": [
        "# 플리그너 - 정규성 만족 안함, 더 안정적 결과\n",
        "from scipy.stats import fligner\n",
        "fligner(x1, x2, x3, x4, x5)"
      ],
      "metadata": {
        "colab": {
          "base_uri": "https://localhost:8080/"
        },
        "outputId": "00e98571-460a-4d87-afd8-295f44786fe1",
        "id": "D8vcnxzJ6RYc"
      },
      "execution_count": null,
      "outputs": [
        {
          "output_type": "execute_result",
          "data": {
            "text/plain": [
              "FlignerResult(statistic=7.746810003176652, pvalue=0.10130574771159925)"
            ]
          },
          "metadata": {},
          "execution_count": 209
        }
      ]
    },
    {
      "cell_type": "code",
      "source": [
        "# 일원분산분석\n",
        "# 등분산 가정\n",
        "from scipy.stats import f_oneway\n",
        "f_oneway(x1, x2, x3, x4, x5)\n",
        "# 지난 10년 동안 5개 고등학교의 졸업율 사이에 유의한 차이가 있다.\n",
        "# 어느 고등학교 간의 차이가 있는지 모른다."
      ],
      "metadata": {
        "colab": {
          "base_uri": "https://localhost:8080/"
        },
        "outputId": "f5ee9964-f1c8-42d7-9a96-183e371d24b7",
        "id": "5BuoAl7wk7XO"
      },
      "execution_count": null,
      "outputs": [
        {
          "output_type": "execute_result",
          "data": {
            "text/plain": [
              "F_onewayResult(statistic=17.728106082444505, pvalue=8.386659105696753e-09)"
            ]
          },
          "metadata": {},
          "execution_count": 210
        }
      ]
    },
    {
      "cell_type": "code",
      "source": [
        "# 사후 검정 = 개별 그룹 간 차이 확인\n",
        "# 등분산 가정하면 Tukey, Duncan, Scheffe 사용 가능함\n",
        "# statsmodels의 Tukey test를 하기 위해서는 dataframe의 형태를 변경해줘야 함\n",
        "import pandas as pd\n",
        "data = pd.DataFrame({\"group\": [\"group1\"] * len(x1) +\n",
        "                              [\"group2\"] * len(x2) +\n",
        "                              [\"group3\"] * len(x3) +\n",
        "                              [\"group4\"] * len(x4) +\n",
        "                              [\"group5\"] * len(x5),\n",
        "                    \"grad\": x1 + x2 + x3 + x4 + x5})\n",
        "data.head()"
      ],
      "metadata": {
        "colab": {
          "base_uri": "https://localhost:8080/",
          "height": 206
        },
        "outputId": "069bbc44-2f66-4f29-a0fa-581d0b9c8d0c",
        "id": "w_-RYkzKlgXm"
      },
      "execution_count": null,
      "outputs": [
        {
          "output_type": "execute_result",
          "data": {
            "text/plain": [
              "    group  grad\n",
              "0  group1    67\n",
              "1  group1    68\n",
              "2  group1    65\n",
              "3  group1    68\n",
              "4  group1    67"
            ],
            "text/html": [
              "\n",
              "  <div id=\"df-af4cb510-8e5e-4960-b025-4571af71867f\" class=\"colab-df-container\">\n",
              "    <div>\n",
              "<style scoped>\n",
              "    .dataframe tbody tr th:only-of-type {\n",
              "        vertical-align: middle;\n",
              "    }\n",
              "\n",
              "    .dataframe tbody tr th {\n",
              "        vertical-align: top;\n",
              "    }\n",
              "\n",
              "    .dataframe thead th {\n",
              "        text-align: right;\n",
              "    }\n",
              "</style>\n",
              "<table border=\"1\" class=\"dataframe\">\n",
              "  <thead>\n",
              "    <tr style=\"text-align: right;\">\n",
              "      <th></th>\n",
              "      <th>group</th>\n",
              "      <th>grad</th>\n",
              "    </tr>\n",
              "  </thead>\n",
              "  <tbody>\n",
              "    <tr>\n",
              "      <th>0</th>\n",
              "      <td>group1</td>\n",
              "      <td>67</td>\n",
              "    </tr>\n",
              "    <tr>\n",
              "      <th>1</th>\n",
              "      <td>group1</td>\n",
              "      <td>68</td>\n",
              "    </tr>\n",
              "    <tr>\n",
              "      <th>2</th>\n",
              "      <td>group1</td>\n",
              "      <td>65</td>\n",
              "    </tr>\n",
              "    <tr>\n",
              "      <th>3</th>\n",
              "      <td>group1</td>\n",
              "      <td>68</td>\n",
              "    </tr>\n",
              "    <tr>\n",
              "      <th>4</th>\n",
              "      <td>group1</td>\n",
              "      <td>67</td>\n",
              "    </tr>\n",
              "  </tbody>\n",
              "</table>\n",
              "</div>\n",
              "    <div class=\"colab-df-buttons\">\n",
              "\n",
              "  <div class=\"colab-df-container\">\n",
              "    <button class=\"colab-df-convert\" onclick=\"convertToInteractive('df-af4cb510-8e5e-4960-b025-4571af71867f')\"\n",
              "            title=\"Convert this dataframe to an interactive table.\"\n",
              "            style=\"display:none;\">\n",
              "\n",
              "  <svg xmlns=\"http://www.w3.org/2000/svg\" height=\"24px\" viewBox=\"0 -960 960 960\">\n",
              "    <path d=\"M120-120v-720h720v720H120Zm60-500h600v-160H180v160Zm220 220h160v-160H400v160Zm0 220h160v-160H400v160ZM180-400h160v-160H180v160Zm440 0h160v-160H620v160ZM180-180h160v-160H180v160Zm440 0h160v-160H620v160Z\"/>\n",
              "  </svg>\n",
              "    </button>\n",
              "\n",
              "  <style>\n",
              "    .colab-df-container {\n",
              "      display:flex;\n",
              "      gap: 12px;\n",
              "    }\n",
              "\n",
              "    .colab-df-convert {\n",
              "      background-color: #E8F0FE;\n",
              "      border: none;\n",
              "      border-radius: 50%;\n",
              "      cursor: pointer;\n",
              "      display: none;\n",
              "      fill: #1967D2;\n",
              "      height: 32px;\n",
              "      padding: 0 0 0 0;\n",
              "      width: 32px;\n",
              "    }\n",
              "\n",
              "    .colab-df-convert:hover {\n",
              "      background-color: #E2EBFA;\n",
              "      box-shadow: 0px 1px 2px rgba(60, 64, 67, 0.3), 0px 1px 3px 1px rgba(60, 64, 67, 0.15);\n",
              "      fill: #174EA6;\n",
              "    }\n",
              "\n",
              "    .colab-df-buttons div {\n",
              "      margin-bottom: 4px;\n",
              "    }\n",
              "\n",
              "    [theme=dark] .colab-df-convert {\n",
              "      background-color: #3B4455;\n",
              "      fill: #D2E3FC;\n",
              "    }\n",
              "\n",
              "    [theme=dark] .colab-df-convert:hover {\n",
              "      background-color: #434B5C;\n",
              "      box-shadow: 0px 1px 3px 1px rgba(0, 0, 0, 0.15);\n",
              "      filter: drop-shadow(0px 1px 2px rgba(0, 0, 0, 0.3));\n",
              "      fill: #FFFFFF;\n",
              "    }\n",
              "  </style>\n",
              "\n",
              "    <script>\n",
              "      const buttonEl =\n",
              "        document.querySelector('#df-af4cb510-8e5e-4960-b025-4571af71867f button.colab-df-convert');\n",
              "      buttonEl.style.display =\n",
              "        google.colab.kernel.accessAllowed ? 'block' : 'none';\n",
              "\n",
              "      async function convertToInteractive(key) {\n",
              "        const element = document.querySelector('#df-af4cb510-8e5e-4960-b025-4571af71867f');\n",
              "        const dataTable =\n",
              "          await google.colab.kernel.invokeFunction('convertToInteractive',\n",
              "                                                    [key], {});\n",
              "        if (!dataTable) return;\n",
              "\n",
              "        const docLinkHtml = 'Like what you see? Visit the ' +\n",
              "          '<a target=\"_blank\" href=https://colab.research.google.com/notebooks/data_table.ipynb>data table notebook</a>'\n",
              "          + ' to learn more about interactive tables.';\n",
              "        element.innerHTML = '';\n",
              "        dataTable['output_type'] = 'display_data';\n",
              "        await google.colab.output.renderOutput(dataTable, element);\n",
              "        const docLink = document.createElement('div');\n",
              "        docLink.innerHTML = docLinkHtml;\n",
              "        element.appendChild(docLink);\n",
              "      }\n",
              "    </script>\n",
              "  </div>\n",
              "\n",
              "\n",
              "<div id=\"df-590a983e-5e64-4966-84ef-1d775d5bb74d\">\n",
              "  <button class=\"colab-df-quickchart\" onclick=\"quickchart('df-590a983e-5e64-4966-84ef-1d775d5bb74d')\"\n",
              "            title=\"Suggest charts\"\n",
              "            style=\"display:none;\">\n",
              "\n",
              "<svg xmlns=\"http://www.w3.org/2000/svg\" height=\"24px\"viewBox=\"0 0 24 24\"\n",
              "     width=\"24px\">\n",
              "    <g>\n",
              "        <path d=\"M19 3H5c-1.1 0-2 .9-2 2v14c0 1.1.9 2 2 2h14c1.1 0 2-.9 2-2V5c0-1.1-.9-2-2-2zM9 17H7v-7h2v7zm4 0h-2V7h2v10zm4 0h-2v-4h2v4z\"/>\n",
              "    </g>\n",
              "</svg>\n",
              "  </button>\n",
              "\n",
              "<style>\n",
              "  .colab-df-quickchart {\n",
              "      --bg-color: #E8F0FE;\n",
              "      --fill-color: #1967D2;\n",
              "      --hover-bg-color: #E2EBFA;\n",
              "      --hover-fill-color: #174EA6;\n",
              "      --disabled-fill-color: #AAA;\n",
              "      --disabled-bg-color: #DDD;\n",
              "  }\n",
              "\n",
              "  [theme=dark] .colab-df-quickchart {\n",
              "      --bg-color: #3B4455;\n",
              "      --fill-color: #D2E3FC;\n",
              "      --hover-bg-color: #434B5C;\n",
              "      --hover-fill-color: #FFFFFF;\n",
              "      --disabled-bg-color: #3B4455;\n",
              "      --disabled-fill-color: #666;\n",
              "  }\n",
              "\n",
              "  .colab-df-quickchart {\n",
              "    background-color: var(--bg-color);\n",
              "    border: none;\n",
              "    border-radius: 50%;\n",
              "    cursor: pointer;\n",
              "    display: none;\n",
              "    fill: var(--fill-color);\n",
              "    height: 32px;\n",
              "    padding: 0;\n",
              "    width: 32px;\n",
              "  }\n",
              "\n",
              "  .colab-df-quickchart:hover {\n",
              "    background-color: var(--hover-bg-color);\n",
              "    box-shadow: 0 1px 2px rgba(60, 64, 67, 0.3), 0 1px 3px 1px rgba(60, 64, 67, 0.15);\n",
              "    fill: var(--button-hover-fill-color);\n",
              "  }\n",
              "\n",
              "  .colab-df-quickchart-complete:disabled,\n",
              "  .colab-df-quickchart-complete:disabled:hover {\n",
              "    background-color: var(--disabled-bg-color);\n",
              "    fill: var(--disabled-fill-color);\n",
              "    box-shadow: none;\n",
              "  }\n",
              "\n",
              "  .colab-df-spinner {\n",
              "    border: 2px solid var(--fill-color);\n",
              "    border-color: transparent;\n",
              "    border-bottom-color: var(--fill-color);\n",
              "    animation:\n",
              "      spin 1s steps(1) infinite;\n",
              "  }\n",
              "\n",
              "  @keyframes spin {\n",
              "    0% {\n",
              "      border-color: transparent;\n",
              "      border-bottom-color: var(--fill-color);\n",
              "      border-left-color: var(--fill-color);\n",
              "    }\n",
              "    20% {\n",
              "      border-color: transparent;\n",
              "      border-left-color: var(--fill-color);\n",
              "      border-top-color: var(--fill-color);\n",
              "    }\n",
              "    30% {\n",
              "      border-color: transparent;\n",
              "      border-left-color: var(--fill-color);\n",
              "      border-top-color: var(--fill-color);\n",
              "      border-right-color: var(--fill-color);\n",
              "    }\n",
              "    40% {\n",
              "      border-color: transparent;\n",
              "      border-right-color: var(--fill-color);\n",
              "      border-top-color: var(--fill-color);\n",
              "    }\n",
              "    60% {\n",
              "      border-color: transparent;\n",
              "      border-right-color: var(--fill-color);\n",
              "    }\n",
              "    80% {\n",
              "      border-color: transparent;\n",
              "      border-right-color: var(--fill-color);\n",
              "      border-bottom-color: var(--fill-color);\n",
              "    }\n",
              "    90% {\n",
              "      border-color: transparent;\n",
              "      border-bottom-color: var(--fill-color);\n",
              "    }\n",
              "  }\n",
              "</style>\n",
              "\n",
              "  <script>\n",
              "    async function quickchart(key) {\n",
              "      const quickchartButtonEl =\n",
              "        document.querySelector('#' + key + ' button');\n",
              "      quickchartButtonEl.disabled = true;  // To prevent multiple clicks.\n",
              "      quickchartButtonEl.classList.add('colab-df-spinner');\n",
              "      try {\n",
              "        const charts = await google.colab.kernel.invokeFunction(\n",
              "            'suggestCharts', [key], {});\n",
              "      } catch (error) {\n",
              "        console.error('Error during call to suggestCharts:', error);\n",
              "      }\n",
              "      quickchartButtonEl.classList.remove('colab-df-spinner');\n",
              "      quickchartButtonEl.classList.add('colab-df-quickchart-complete');\n",
              "    }\n",
              "    (() => {\n",
              "      let quickchartButtonEl =\n",
              "        document.querySelector('#df-590a983e-5e64-4966-84ef-1d775d5bb74d button');\n",
              "      quickchartButtonEl.style.display =\n",
              "        google.colab.kernel.accessAllowed ? 'block' : 'none';\n",
              "    })();\n",
              "  </script>\n",
              "</div>\n",
              "\n",
              "    </div>\n",
              "  </div>\n"
            ],
            "application/vnd.google.colaboratory.intrinsic+json": {
              "type": "dataframe",
              "variable_name": "data",
              "summary": "{\n  \"name\": \"data\",\n  \"rows\": 50,\n  \"fields\": [\n    {\n      \"column\": \"group\",\n      \"properties\": {\n        \"dtype\": \"category\",\n        \"num_unique_values\": 5,\n        \"samples\": [\n          \"group2\",\n          \"group5\",\n          \"group3\"\n        ],\n        \"semantic_type\": \"\",\n        \"description\": \"\"\n      }\n    },\n    {\n      \"column\": \"grad\",\n      \"properties\": {\n        \"dtype\": \"number\",\n        \"std\": 9,\n        \"min\": 45,\n        \"max\": 94,\n        \"num_unique_values\": 24,\n        \"samples\": [\n          82,\n          75,\n          67\n        ],\n        \"semantic_type\": \"\",\n        \"description\": \"\"\n      }\n    }\n  ]\n}"
            }
          },
          "metadata": {},
          "execution_count": 211
        }
      ]
    },
    {
      "cell_type": "code",
      "source": [
        "# 사후검정 Tukey HSD\n",
        "from statsmodels.stats.multicomp import pairwise_tukeyhsd\n",
        "posthoc = pairwise_tukeyhsd(data['grad'], data['group'], alpha=0.05)\n",
        "print(posthoc)\n",
        "# 집단1과 집단2의 차이가 있다.\n",
        "# 집단1과 집단3의 차이가 있다.\n",
        "# 집단1과 집단5의 차이가 있다.\n",
        "# 집단2과 집단4의 차이가 있다.\n",
        "# 집단3과 집단4의 차이가 있다.\n",
        "# 집단4과 집단5의 차이가 있다."
      ],
      "metadata": {
        "colab": {
          "base_uri": "https://localhost:8080/"
        },
        "outputId": "619f58a1-801a-4620-88f4-094e778ebe82",
        "id": "cNDbNljAlgXs"
      },
      "execution_count": null,
      "outputs": [
        {
          "output_type": "stream",
          "name": "stdout",
          "text": [
            " Multiple Comparison of Means - Tukey HSD, FWER=0.05 \n",
            "=====================================================\n",
            "group1 group2 meandiff p-adj   lower    upper  reject\n",
            "-----------------------------------------------------\n",
            "group1 group2      8.3 0.0348   0.4107 16.1893   True\n",
            "group1 group3      9.7 0.0091   1.8107 17.5893   True\n",
            "group1 group4     -5.7 0.2583 -13.5893  2.1893  False\n",
            "group1 group5     15.1    0.0   7.2107 22.9893   True\n",
            "group2 group3      1.4 0.9865  -6.4893  9.2893  False\n",
            "group2 group4    -14.0 0.0001 -21.8893 -6.1107   True\n",
            "group2 group5      6.8  0.121  -1.0893 14.6893  False\n",
            "group3 group4    -15.4    0.0 -23.2893 -7.5107   True\n",
            "group3 group5      5.4 0.3093  -2.4893 13.2893  False\n",
            "group4 group5     20.8    0.0  12.9107 28.6893   True\n",
            "-----------------------------------------------------\n"
          ]
        }
      ]
    },
    {
      "cell_type": "code",
      "source": [
        "fig = posthoc.plot_simultaneous()\n",
        "# 집단1과 집단2의 차이가 있다.\n",
        "# 집단1과 집단3의 차이가 있다.\n",
        "# 집단1과 집단5의 차이가 있다.\n",
        "# 집단2과 집단4의 차이가 있다.\n",
        "# 집단3과 집단4의 차이가 있다.\n",
        "# 집단4과 집단5의 차이가 있다."
      ],
      "metadata": {
        "colab": {
          "base_uri": "https://localhost:8080/",
          "height": 545
        },
        "outputId": "ae3707f5-9235-4bca-f3ca-94239b6b2f5d",
        "id": "HzfQR9jylgXs"
      },
      "execution_count": null,
      "outputs": [
        {
          "output_type": "display_data",
          "data": {
            "text/plain": [
              "<Figure size 1000x600 with 1 Axes>"
            ],
            "image/png": "[encoded data removed]"
          },
          "metadata": {}
        }
      ]
    },
    {
      "cell_type": "markdown",
      "source": [
        "## 문제5"
      ],
      "metadata": {
        "id": "N7-T2XybINW2"
      }
    },
    {
      "cell_type": "code",
      "source": [
        "# 문제5\n",
        "# x1: 봄\n",
        "# x2: 여름\n",
        "# x3: 가을\n",
        "# x4: 겨울\n",
        "# 매장의 평균 매출액\n",
        "x1 = [67480, 68719, 50981, 65634, 57839]\n",
        "x2 = [67282, 64741, 64963, 59487, 74481]\n",
        "x3 = [64866, 55848, 74985, 71215, 67414]\n",
        "x4 = [51382, 70963, 71475, 64265, 74796]"
      ],
      "metadata": {
        "id": "0TzVzPYFIUSa"
      },
      "execution_count": null,
      "outputs": []
    },
    {
      "cell_type": "code",
      "source": [
        "import matplotlib.pyplot as plt\n",
        "# 상자그림\n",
        "plot_x = [x1, x2, x3, x4]\n",
        "plt.boxplot(plot_x)\n",
        "plt.show()"
      ],
      "metadata": {
        "id": "O5wIY2EOaKfx",
        "colab": {
          "base_uri": "https://localhost:8080/",
          "height": 430
        },
        "outputId": "97b80ffa-65bd-4f08-b147-7810cafe1b32"
      },
      "execution_count": null,
      "outputs": [
        {
          "output_type": "display_data",
          "data": {
            "text/plain": [
              "<Figure size 640x480 with 1 Axes>"
            ],
            "image/png": "[encoded data removed]"
          },
          "metadata": {}
        }
      ]
    },
    {
      "cell_type": "code",
      "source": [
        "# 정규성 검정\n",
        "# 왜도: 절대값 2 미만 / 첨도: 절대값 5 미만이면 정규성을 만족함\n",
        "# 정규성을 만족하지 않으면 비모수 통계인 Kruskal-Wallis test 사용\n",
        "# t-test 에서는 Wilcoxon test 사용\n",
        "from scipy.stats import shapiro, skew, kurtosis\n",
        "print(shapiro(x1), skew(x1, bias = False), kurtosis(x1, bias = False))\n",
        "print(shapiro(x2), skew(x2, bias = False), kurtosis(x2, bias = False))\n",
        "print(shapiro(x3), skew(x3, bias = False), kurtosis(x3, bias = False))\n",
        "print(shapiro(x3), skew(x4, bias = False), kurtosis(x4, bias = False))"
      ],
      "metadata": {
        "colab": {
          "base_uri": "https://localhost:8080/"
        },
        "outputId": "0fe4dfa5-d83d-434b-9307-0ce7200e659d",
        "id": "NoW6k9vq6wIb"
      },
      "execution_count": null,
      "outputs": [
        {
          "output_type": "stream",
          "name": "stdout",
          "text": [
            "ShapiroResult(statistic=0.8777344822883606, pvalue=0.29917067289352417) -0.9579087137535165 -0.7644135205978531\n",
            "ShapiroResult(statistic=0.9446653723716736, pvalue=0.6990814805030823) 0.6847627670214902 1.6207468314682352\n",
            "ShapiroResult(statistic=0.964752733707428, pvalue=0.8406270146369934) -0.7940606121776813 0.7788471045676708\n",
            "ShapiroResult(statistic=0.964752733707428, pvalue=0.8406270146369934) -1.4246465128396792 1.772286752135149\n"
          ]
        }
      ]
    },
    {
      "cell_type": "code",
      "source": [
        "# 등분산 검정\n",
        "# 바틀렛 - 정규성 만족\n",
        "from scipy.stats import bartlett\n",
        "bartlett(x1, x2, x3, x4)"
      ],
      "metadata": {
        "colab": {
          "base_uri": "https://localhost:8080/"
        },
        "outputId": "6485dfbd-2fe8-4699-965f-eab479ed3eb6",
        "id": "BQmZ-Mhe6wIq"
      },
      "execution_count": null,
      "outputs": [
        {
          "output_type": "execute_result",
          "data": {
            "text/plain": [
              "BartlettResult(statistic=1.0113581431636154, pvalue=0.7985036481500989)"
            ]
          },
          "metadata": {},
          "execution_count": 217
        }
      ]
    },
    {
      "cell_type": "code",
      "source": [
        "# 일원분산분석\n",
        "# 등분산 가정\n",
        "from scipy.stats import f_oneway\n",
        "f_oneway(x1, x2, x3, x4)\n",
        "# 판매 시즌 간에 실적의 차이는 없다."
      ],
      "metadata": {
        "colab": {
          "base_uri": "https://localhost:8080/"
        },
        "outputId": "ec41ac53-6dac-45dc-ba42-fa62daabf0e4",
        "id": "KZ--e5BQlTSu"
      },
      "execution_count": null,
      "outputs": [
        {
          "output_type": "execute_result",
          "data": {
            "text/plain": [
              "F_onewayResult(statistic=0.43819818189128323, pvalue=0.7287528736222224)"
            ]
          },
          "metadata": {},
          "execution_count": 220
        }
      ]
    }
  ]
}