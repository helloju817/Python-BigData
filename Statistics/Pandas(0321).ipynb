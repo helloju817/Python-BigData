{
  "nbformat": 4,
  "nbformat_minor": 0,
  "metadata": {
    "colab": {
      "provenance": [],
      "toc_visible": true
    },
    "kernelspec": {
      "name": "python3",
      "display_name": "Python 3"
    },
    "language_info": {
      "name": "python"
    }
  },
  "cells": [
    {
      "cell_type": "markdown",
      "source": [
        "# 선형회귀분석"
      ],
      "metadata": {
        "id": "G0V25eRj-1rK"
      }
    },
    {
      "cell_type": "code",
      "source": [
        "import numpy as np\n",
        "import pandas as pd\n",
        "from scipy.stats import t"
      ],
      "metadata": {
        "id": "pFwbDH2n-zV7"
      },
      "execution_count": null,
      "outputs": []
    },
    {
      "cell_type": "code",
      "source": [
        "# x: 고등학교 평균 점수\n",
        "# y: 대학교 1학년 평균 학점\n",
        "x = [3.5, 2.5, 4, 3.8, 2.8, 1.9, 3.2, 3.7, 2.7, 3.3]\n",
        "y = [3.3, 2.2, 3.5, 2.7, 3.5, 2, 3.1, 3.4, 1.9, 3.7]"
      ],
      "metadata": {
        "id": "P8fZV-37-0-x"
      },
      "execution_count": null,
      "outputs": []
    },
    {
      "cell_type": "code",
      "source": [
        "# 평균\n",
        "x_m = np.mean(x);y_m = np.mean(y)\n",
        "print(x_m, y_m)"
      ],
      "metadata": {
        "colab": {
          "base_uri": "https://localhost:8080/"
        },
        "id": "A5jF-5Ko_KWY",
        "outputId": "6bb6c33c-d6a6-49dd-af0b-16f46b7ec039"
      },
      "execution_count": null,
      "outputs": [
        {
          "output_type": "stream",
          "name": "stdout",
          "text": [
            "3.1399999999999997 2.9299999999999997\n"
          ]
        }
      ]
    },
    {
      "cell_type": "code",
      "source": [
        "# 편차\n",
        "x_d = x - x_m;y_d = y - y_m\n",
        "print(x_d, y_d)"
      ],
      "metadata": {
        "colab": {
          "base_uri": "https://localhost:8080/"
        },
        "id": "V4inJl3n_Uoo",
        "outputId": "e256949e-e7a4-40ea-c301-cee030a3e532"
      },
      "execution_count": null,
      "outputs": [
        {
          "output_type": "stream",
          "name": "stdout",
          "text": [
            "[ 0.36 -0.64  0.86  0.66 -0.34 -1.24  0.06  0.56 -0.44  0.16] [ 0.37 -0.73  0.57 -0.23  0.57 -0.93  0.17  0.47 -1.03  0.77]\n"
          ]
        }
      ]
    },
    {
      "cell_type": "code",
      "source": [
        "# x편차*y편차\n",
        "xy_d = x_d * y_d;xy_d"
      ],
      "metadata": {
        "colab": {
          "base_uri": "https://localhost:8080/"
        },
        "id": "oODezX74_hLq",
        "outputId": "81059145-95ae-4f61-fcf9-85cf300fa1f9"
      },
      "execution_count": null,
      "outputs": [
        {
          "output_type": "execute_result",
          "data": {
            "text/plain": [
              "array([ 0.1332,  0.4672,  0.4902, -0.1518, -0.1938,  1.1532,  0.0102,\n",
              "        0.2632,  0.4532,  0.1232])"
            ]
          },
          "metadata": {},
          "execution_count": 5
        }
      ]
    },
    {
      "cell_type": "code",
      "source": [
        "# x편차제곱\n",
        "x_d2 = x_d ** 2;x_d2"
      ],
      "metadata": {
        "colab": {
          "base_uri": "https://localhost:8080/"
        },
        "id": "CDaD13fU_v5g",
        "outputId": "753db640-e026-4558-bc1f-c1d56e119766"
      },
      "execution_count": null,
      "outputs": [
        {
          "output_type": "execute_result",
          "data": {
            "text/plain": [
              "array([0.1296, 0.4096, 0.7396, 0.4356, 0.1156, 1.5376, 0.0036, 0.3136,\n",
              "       0.1936, 0.0256])"
            ]
          },
          "metadata": {},
          "execution_count": 6
        }
      ]
    },
    {
      "cell_type": "code",
      "source": [
        "# 기울기 = 공분산/x분산\n",
        "# 분자 = x편차*y편차의합\n",
        "sum(xy_d)"
      ],
      "metadata": {
        "colab": {
          "base_uri": "https://localhost:8080/"
        },
        "id": "2tPO_eUX_12g",
        "outputId": "d2306a0a-f71f-4cd1-b1b9-fd6c75b7371d"
      },
      "execution_count": null,
      "outputs": [
        {
          "output_type": "execute_result",
          "data": {
            "text/plain": [
              "2.7479999999999998"
            ]
          },
          "metadata": {},
          "execution_count": 7
        }
      ]
    },
    {
      "cell_type": "code",
      "source": [
        "# 분모 = x편차제곱합\n",
        "sum(x_d2)"
      ],
      "metadata": {
        "colab": {
          "base_uri": "https://localhost:8080/"
        },
        "id": "e-7wwgyhAAVi",
        "outputId": "2170576d-34f2-41e3-b51b-dd5cc3f0d905"
      },
      "execution_count": null,
      "outputs": [
        {
          "output_type": "execute_result",
          "data": {
            "text/plain": [
              "3.904"
            ]
          },
          "metadata": {},
          "execution_count": 8
        }
      ]
    },
    {
      "cell_type": "code",
      "source": [
        "# 분자/분모\n",
        "slope = sum(xy_d)/sum(x_d2);slope"
      ],
      "metadata": {
        "colab": {
          "base_uri": "https://localhost:8080/"
        },
        "id": "dVSNWYMJAH-B",
        "outputId": "7f1c8e22-9f08-44ff-c63b-77c0ec7b1e84"
      },
      "execution_count": null,
      "outputs": [
        {
          "output_type": "execute_result",
          "data": {
            "text/plain": [
              "0.7038934426229507"
            ]
          },
          "metadata": {},
          "execution_count": 9
        }
      ]
    },
    {
      "cell_type": "code",
      "source": [
        "# 절편 = y평균 - 기울기*x평균\n",
        "intercept = y_m - slope * x_m;intercept"
      ],
      "metadata": {
        "colab": {
          "base_uri": "https://localhost:8080/"
        },
        "id": "6dHzcLTeAPr_",
        "outputId": "3ab02141-da7d-4257-d8da-61041af6d1b6"
      },
      "execution_count": null,
      "outputs": [
        {
          "output_type": "execute_result",
          "data": {
            "text/plain": [
              "0.7197745901639347"
            ]
          },
          "metadata": {},
          "execution_count": 10
        }
      ]
    },
    {
      "cell_type": "code",
      "source": [
        "# 예측값\n",
        "y_hat = intercept + slope * pd.Series(x);y_hat"
      ],
      "metadata": {
        "id": "RKS-7AflRdfR",
        "colab": {
          "base_uri": "https://localhost:8080/"
        },
        "outputId": "5a9eda51-98fd-43e5-8267-2ad2bcd9c7a4"
      },
      "execution_count": null,
      "outputs": [
        {
          "output_type": "execute_result",
          "data": {
            "text/plain": [
              "0    3.183402\n",
              "1    2.479508\n",
              "2    3.535348\n",
              "3    3.394570\n",
              "4    2.690676\n",
              "5    2.057172\n",
              "6    2.972234\n",
              "7    3.324180\n",
              "8    2.620287\n",
              "9    3.042623\n",
              "dtype: float64"
            ]
          },
          "metadata": {},
          "execution_count": 11
        }
      ]
    },
    {
      "cell_type": "code",
      "source": [
        "# 예측 오차 = y 관측치 - y 예측값\n",
        "y_hat_d = y - y_hat;y_hat_d"
      ],
      "metadata": {
        "id": "ldvpYHcSSC35",
        "colab": {
          "base_uri": "https://localhost:8080/"
        },
        "outputId": "1e64fe2c-2986-4260-c8c4-668f4a73d8d2"
      },
      "execution_count": null,
      "outputs": [
        {
          "output_type": "execute_result",
          "data": {
            "text/plain": [
              "0    0.116598\n",
              "1   -0.279508\n",
              "2   -0.035348\n",
              "3   -0.694570\n",
              "4    0.809324\n",
              "5   -0.057172\n",
              "6    0.127766\n",
              "7    0.075820\n",
              "8   -0.720287\n",
              "9    0.657377\n",
              "dtype: float64"
            ]
          },
          "metadata": {},
          "execution_count": 12
        }
      ]
    },
    {
      "cell_type": "code",
      "source": [
        "# 예측 오차 제곱\n",
        "y_hat_d2 = y_hat_d ** 2;y_hat_d2"
      ],
      "metadata": {
        "id": "FshMt2DaZmgN",
        "colab": {
          "base_uri": "https://localhost:8080/"
        },
        "outputId": "dd189acc-2e0a-489f-9986-97683b7a1cf9"
      },
      "execution_count": null,
      "outputs": [
        {
          "output_type": "execute_result",
          "data": {
            "text/plain": [
              "0    0.013595\n",
              "1    0.078125\n",
              "2    0.001250\n",
              "3    0.482427\n",
              "4    0.655005\n",
              "5    0.003269\n",
              "6    0.016324\n",
              "7    0.005749\n",
              "8    0.518813\n",
              "9    0.432145\n",
              "dtype: float64"
            ]
          },
          "metadata": {},
          "execution_count": 13
        }
      ]
    },
    {
      "cell_type": "code",
      "source": [
        "# 자유도 = n - k -1\n",
        "# k = 독립변수의 개수\n",
        "k = 1\n",
        "n = len(x)\n",
        "df = n - k - 1;df"
      ],
      "metadata": {
        "colab": {
          "base_uri": "https://localhost:8080/"
        },
        "id": "QWe9mOFuZuvx",
        "outputId": "45883f0d-b0e7-4212-da3b-257b0260a245"
      },
      "execution_count": null,
      "outputs": [
        {
          "output_type": "execute_result",
          "data": {
            "text/plain": [
              "8"
            ]
          },
          "metadata": {},
          "execution_count": 14
        }
      ]
    },
    {
      "cell_type": "code",
      "source": [
        "# 검정통계량 = 기울기/표준오차\n",
        "slope\n",
        "# 표준오차 = 제곱근(예측 오차 제곱합/자유도/ x편차제곱합)\n",
        "# 분자 = 예측 오차 제곱합/자유도\n",
        "sum(y_hat_d2)/df"
      ],
      "metadata": {
        "colab": {
          "base_uri": "https://localhost:8080/"
        },
        "id": "I1BqOPxyaGvS",
        "outputId": "d320786f-9e4e-4d04-a586-1a1d70c31b82"
      },
      "execution_count": null,
      "outputs": [
        {
          "output_type": "execute_result",
          "data": {
            "text/plain": [
              "0.27583760245901634"
            ]
          },
          "metadata": {},
          "execution_count": 15
        }
      ]
    },
    {
      "cell_type": "code",
      "source": [
        "# 분모 = x편차제곱합\n",
        "sum(x_d2)"
      ],
      "metadata": {
        "colab": {
          "base_uri": "https://localhost:8080/"
        },
        "id": "Eq1BR4TPakz7",
        "outputId": "1758731e-4ed6-4087-8aea-d1eecc86287c"
      },
      "execution_count": null,
      "outputs": [
        {
          "output_type": "execute_result",
          "data": {
            "text/plain": [
              "3.904"
            ]
          },
          "metadata": {},
          "execution_count": 16
        }
      ]
    },
    {
      "cell_type": "code",
      "source": [
        "# 제곱근(분자/분모)\n",
        "np.sqrt((sum(y_hat_d2)/df)/sum(x_d2))"
      ],
      "metadata": {
        "colab": {
          "base_uri": "https://localhost:8080/"
        },
        "id": "qATYWn1TaqJt",
        "outputId": "6b3798ab-0268-48f7-99c0-bc2ae8435699"
      },
      "execution_count": null,
      "outputs": [
        {
          "output_type": "execute_result",
          "data": {
            "text/plain": [
              "0.26581031503816904"
            ]
          },
          "metadata": {},
          "execution_count": 17
        }
      ]
    },
    {
      "cell_type": "code",
      "source": [
        "# 검정통계량\n",
        "tv = slope/np.sqrt((sum(y_hat_d2)/df)/sum(x_d2));tv"
      ],
      "metadata": {
        "colab": {
          "base_uri": "https://localhost:8080/"
        },
        "id": "iSvj4g8wa6Wf",
        "outputId": "2538da95-4bed-4369-aa17-94217d2f67b0"
      },
      "execution_count": null,
      "outputs": [
        {
          "output_type": "execute_result",
          "data": {
            "text/plain": [
              "2.6481043165005658"
            ]
          },
          "metadata": {},
          "execution_count": 18
        }
      ]
    },
    {
      "cell_type": "code",
      "source": [
        "# 임계값, 유의수준, 양측검정, 자유도\n",
        "alpha = 0.05\n",
        "cv = t.ppf(1 - alpha/2, df);cv"
      ],
      "metadata": {
        "colab": {
          "base_uri": "https://localhost:8080/"
        },
        "id": "WQeEQD6Jb4TF",
        "outputId": "706f9a8d-ba49-4d1b-ce55-ab2f7270d2c1"
      },
      "execution_count": null,
      "outputs": [
        {
          "output_type": "execute_result",
          "data": {
            "text/plain": [
              "2.3060041350333704"
            ]
          },
          "metadata": {},
          "execution_count": 19
        }
      ]
    },
    {
      "cell_type": "code",
      "source": [
        "# 결론\n",
        "cv < tv\n",
        "# 오른쪽 = 기각역 = 귀무가설 기각 = 대립가설 채택 = 차이가 있다\n",
        "# 회귀계수가  0 이 아니다 = 회귀계수가 통계적으로 유의하다"
      ],
      "metadata": {
        "colab": {
          "base_uri": "https://localhost:8080/"
        },
        "id": "VYsYWLX8cNXE",
        "outputId": "cf92df68-07ec-42b9-9d75-b686a78e3f22"
      },
      "execution_count": null,
      "outputs": [
        {
          "output_type": "execute_result",
          "data": {
            "text/plain": [
              "True"
            ]
          },
          "metadata": {},
          "execution_count": 20
        }
      ]
    },
    {
      "cell_type": "code",
      "source": [
        "# 유의확률\n",
        "pv = (1 - t.cdf(tv, df))*2;pv"
      ],
      "metadata": {
        "colab": {
          "base_uri": "https://localhost:8080/"
        },
        "id": "dMv30pDRcQGk",
        "outputId": "37d6f5e6-6002-408c-8438-8a3761b33607"
      },
      "execution_count": null,
      "outputs": [
        {
          "output_type": "execute_result",
          "data": {
            "text/plain": [
              "0.02934197812656203"
            ]
          },
          "metadata": {},
          "execution_count": 21
        }
      ]
    },
    {
      "cell_type": "code",
      "source": [
        "# 결론\n",
        "alpha > pv\n",
        "# 오른쪽 = 기각역 = 귀무가설 기각 = 대립가설 채택 = 차이가 있다\n",
        "# 회귀계수가  0 이 아니다 = 회귀계수가 통계적으로 유의하다"
      ],
      "metadata": {
        "colab": {
          "base_uri": "https://localhost:8080/"
        },
        "id": "tNZ2VhOWfBcd",
        "outputId": "601f2632-e38d-4893-a761-cdac32f15738"
      },
      "execution_count": null,
      "outputs": [
        {
          "output_type": "execute_result",
          "data": {
            "text/plain": [
              "True"
            ]
          },
          "metadata": {},
          "execution_count": 22
        }
      ]
    },
    {
      "cell_type": "code",
      "source": [
        "# 결정계수 = SSR/SST(=SSR+SSE)\n",
        "# SSE = 오차제곱합\n",
        "sse = sum(y_hat_d2);sse\n",
        "# SSR = 회귀제곱합\n",
        "# 회귀 편차 = y 예측값 - y 평균값 = y_hat - y_m\n",
        "r_d = y_hat - y_m;r_d"
      ],
      "metadata": {
        "colab": {
          "base_uri": "https://localhost:8080/"
        },
        "id": "Ggmi34I8qKMb",
        "outputId": "55481fbf-b057-490c-b7ce-ad3f45825325"
      },
      "execution_count": null,
      "outputs": [
        {
          "output_type": "execute_result",
          "data": {
            "text/plain": [
              "0    0.253402\n",
              "1   -0.450492\n",
              "2    0.605348\n",
              "3    0.464570\n",
              "4   -0.239324\n",
              "5   -0.872828\n",
              "6    0.042234\n",
              "7    0.394180\n",
              "8   -0.309713\n",
              "9    0.112623\n",
              "dtype: float64"
            ]
          },
          "metadata": {},
          "execution_count": 23
        }
      ]
    },
    {
      "cell_type": "code",
      "source": [
        "# 회귀 편차 제곱\n",
        "r_d2 = r_d**2;r_d2"
      ],
      "metadata": {
        "colab": {
          "base_uri": "https://localhost:8080/"
        },
        "id": "tSZmrIP3sQp6",
        "outputId": "8338db55-73b1-4716-9e04-8e2226600e44"
      },
      "execution_count": null,
      "outputs": [
        {
          "output_type": "execute_result",
          "data": {
            "text/plain": [
              "0    0.064212\n",
              "1    0.202943\n",
              "2    0.366447\n",
              "3    0.215825\n",
              "4    0.057276\n",
              "5    0.761828\n",
              "6    0.001784\n",
              "7    0.155378\n",
              "8    0.095922\n",
              "9    0.012684\n",
              "dtype: float64"
            ]
          },
          "metadata": {},
          "execution_count": 24
        }
      ]
    },
    {
      "cell_type": "code",
      "source": [
        "# # 회귀 편차 제곱합 SSR\n",
        "ssr = sum(r_d2);ssr"
      ],
      "metadata": {
        "colab": {
          "base_uri": "https://localhost:8080/"
        },
        "id": "fTlLt1iUsVy7",
        "outputId": "d844bdc1-b902-4b17-ae71-22d5ae823f9c"
      },
      "execution_count": null,
      "outputs": [
        {
          "output_type": "execute_result",
          "data": {
            "text/plain": [
              "1.9342991803278686"
            ]
          },
          "metadata": {},
          "execution_count": 25
        }
      ]
    },
    {
      "cell_type": "code",
      "source": [
        "# 결정계수\n",
        "r2 = ssr/(ssr+sse);r2\n",
        "# x 변수가 y 변수에 대해서 46% 설명 가능하다.\n",
        "#"
      ],
      "metadata": {
        "colab": {
          "base_uri": "https://localhost:8080/"
        },
        "id": "cYrRSqACscE0",
        "outputId": "6d7f7caa-c1e7-4a9a-e1be-ae92610a18d5"
      },
      "execution_count": null,
      "outputs": [
        {
          "output_type": "execute_result",
          "data": {
            "text/plain": [
              "0.4671091959255902"
            ]
          },
          "metadata": {},
          "execution_count": 26
        }
      ]
    },
    {
      "cell_type": "code",
      "source": [
        "# 오차 = 관측치-예측값\n",
        "# 오차 분산 = 오차 제곱 평균 = 오차제곱합 SSE/자유도\n",
        "# 표준오차 = 제곱근(오차제곱합 SSE/자유도)\n",
        "np.sqrt(sse/df)\n",
        "#"
      ],
      "metadata": {
        "colab": {
          "base_uri": "https://localhost:8080/"
        },
        "id": "Ya0cU6Gzsfcq",
        "outputId": "5f7b6adb-1285-41b3-fe7c-7a5991a5ecce"
      },
      "execution_count": null,
      "outputs": [
        {
          "output_type": "execute_result",
          "data": {
            "text/plain": [
              "0.5252024395021565"
            ]
          },
          "metadata": {},
          "execution_count": 27
        }
      ]
    },
    {
      "cell_type": "code",
      "source": [
        "# 참고: 회귀모형으로 유의확률 추출\n",
        "import statsmodels.formula.api as smf\n",
        "#\n",
        "df = pd.DataFrame({'x': x,\n",
        "                   'y': y})\n",
        "#\n",
        "model = smf.ols('y ~ x', df)\n",
        "result = model.fit()\n",
        "print(result.summary())\n",
        "# result.summary2().tables[1]"
      ],
      "metadata": {
        "colab": {
          "base_uri": "https://localhost:8080/"
        },
        "id": "P3u0UCUMzZZg",
        "outputId": "748adefc-2d9c-45bd-f5d1-e61990586e96"
      },
      "execution_count": null,
      "outputs": [
        {
          "output_type": "stream",
          "name": "stdout",
          "text": [
            "                            OLS Regression Results                            \n",
            "==============================================================================\n",
            "Dep. Variable:                      y   R-squared:                       0.467\n",
            "Model:                            OLS   Adj. R-squared:                  0.400\n",
            "Method:                 Least Squares   F-statistic:                     7.012\n",
            "Date:                Thu, 21 Mar 2024   Prob (F-statistic):             0.0293\n",
            "Time:                        01:04:18   Log-Likelihood:                -6.6340\n",
            "No. Observations:                  10   AIC:                             17.27\n",
            "Df Residuals:                       8   BIC:                             17.87\n",
            "Df Model:                           1                                         \n",
            "Covariance Type:            nonrobust                                         \n",
            "==============================================================================\n",
            "                 coef    std err          t      P>|t|      [0.025      0.975]\n",
            "------------------------------------------------------------------------------\n",
            "Intercept      0.7198      0.851      0.846      0.422      -1.243       2.682\n",
            "x              0.7039      0.266      2.648      0.029       0.091       1.317\n",
            "==============================================================================\n",
            "Omnibus:                        0.023   Durbin-Watson:                   2.824\n",
            "Prob(Omnibus):                  0.989   Jarque-Bera (JB):                0.211\n",
            "Skew:                           0.084   Prob(JB):                        0.900\n",
            "Kurtosis:                       2.309   Cond. No.                         17.9\n",
            "==============================================================================\n",
            "\n",
            "Notes:\n",
            "[1] Standard Errors assume that the covariance matrix of the errors is correctly specified.\n"
          ]
        },
        {
          "output_type": "stream",
          "name": "stderr",
          "text": [
            "/usr/local/lib/python3.10/dist-packages/scipy/stats/_stats_py.py:1806: UserWarning: kurtosistest only valid for n>=20 ... continuing anyway, n=10\n",
            "  warnings.warn(\"kurtosistest only valid for n>=20 ... continuing \"\n"
          ]
        }
      ]
    },
    {
      "cell_type": "markdown",
      "source": [
        "# 문제풀이"
      ],
      "metadata": {
        "id": "q2-7RYct6UzF"
      }
    },
    {
      "cell_type": "markdown",
      "source": [
        "## 문제1"
      ],
      "metadata": {
        "id": "HeHIfrUv_UO2"
      }
    },
    {
      "cell_type": "code",
      "source": [
        "# 문제1\n",
        "# x: 추측 횟수\n",
        "# y: 응답 시간\n",
        "x = pd.Series([5, 7, 6, 2, 4, 3, 12, 5, 4, 3])\n",
        "y = pd.Series([14.5, 13.4, 12.7, 16.4, 21.0, 13.9, 17.3, 12.5, 16.7, 22.7])"
      ],
      "metadata": {
        "id": "NVhqzsWzn7pZ"
      },
      "execution_count": null,
      "outputs": []
    },
    {
      "cell_type": "code",
      "source": [
        "# 평균 & 편차\n",
        "x_m = np.mean(x);y_m = np.mean(y);x_m;y_m\n",
        "x_d = x - x_m;y_d = y - y_m;x_d;y_d"
      ],
      "metadata": {
        "colab": {
          "base_uri": "https://localhost:8080/"
        },
        "id": "vdDtg4fBn8jC",
        "outputId": "cc711f7b-beac-497d-ceb5-93a513fc8835"
      },
      "execution_count": null,
      "outputs": [
        {
          "output_type": "execute_result",
          "data": {
            "text/plain": [
              "0   -1.61\n",
              "1   -2.71\n",
              "2   -3.41\n",
              "3    0.29\n",
              "4    4.89\n",
              "5   -2.21\n",
              "6    1.19\n",
              "7   -3.61\n",
              "8    0.59\n",
              "9    6.59\n",
              "dtype: float64"
            ]
          },
          "metadata": {},
          "execution_count": 46
        }
      ]
    },
    {
      "cell_type": "code",
      "source": [
        "# 기울기 = x_d*y_d 합/x_d^2 합\n",
        "# 분자\n",
        "xy_d = x_d*y_d;xy_d\n",
        "sum(xy_d)"
      ],
      "metadata": {
        "colab": {
          "base_uri": "https://localhost:8080/"
        },
        "id": "mhEdzq51n-3N",
        "outputId": "b2043f10-aa5c-40ac-bd7c-4be135b5ad10"
      },
      "execution_count": null,
      "outputs": [
        {
          "output_type": "execute_result",
          "data": {
            "text/plain": [
              "-15.609999999999989"
            ]
          },
          "metadata": {},
          "execution_count": 47
        }
      ]
    },
    {
      "cell_type": "code",
      "source": [
        "# 분모\n",
        "x_d2 = x_d**2;x_d2\n",
        "sum(x_d2)"
      ],
      "metadata": {
        "colab": {
          "base_uri": "https://localhost:8080/"
        },
        "id": "_Y0ew1nDoATV",
        "outputId": "aedc1fb3-2c44-496c-c5fa-b1780a08728b"
      },
      "execution_count": null,
      "outputs": [
        {
          "output_type": "execute_result",
          "data": {
            "text/plain": [
              "72.9"
            ]
          },
          "metadata": {},
          "execution_count": 48
        }
      ]
    },
    {
      "cell_type": "code",
      "source": [
        "# 분자/분모\n",
        "b = sum(xy_d)/sum(x_d2);b"
      ],
      "metadata": {
        "colab": {
          "base_uri": "https://localhost:8080/"
        },
        "id": "bEgSZAfCoC9F",
        "outputId": "d6156aec-73b4-44f1-fff0-ad236381e20d"
      },
      "execution_count": null,
      "outputs": [
        {
          "output_type": "execute_result",
          "data": {
            "text/plain": [
              "-0.21412894375857322"
            ]
          },
          "metadata": {},
          "execution_count": 49
        }
      ]
    },
    {
      "cell_type": "code",
      "source": [
        "# 절편 = y_m - b*x_m\n",
        "a = y_m - b*x_m;a\n",
        "# 1) 회귀방정식: a + b*x\n",
        "#"
      ],
      "metadata": {
        "colab": {
          "base_uri": "https://localhost:8080/"
        },
        "id": "t_t9cts-o3h0",
        "outputId": "784e97eb-c71c-4829-808e-160330b1966e"
      },
      "execution_count": null,
      "outputs": [
        {
          "output_type": "execute_result",
          "data": {
            "text/plain": [
              "17.202057613168723"
            ]
          },
          "metadata": {},
          "execution_count": 50
        }
      ]
    },
    {
      "cell_type": "code",
      "source": [
        "# 2) x = 8 일 때, y 예측값\n",
        "a + b*8"
      ],
      "metadata": {
        "colab": {
          "base_uri": "https://localhost:8080/"
        },
        "id": "L9JVNN-koEvO",
        "outputId": "dffa059c-fc4c-4354-ed9f-9f4f26910c38"
      },
      "execution_count": null,
      "outputs": [
        {
          "output_type": "execute_result",
          "data": {
            "text/plain": [
              "15.489026063100138"
            ]
          },
          "metadata": {},
          "execution_count": 51
        }
      ]
    },
    {
      "cell_type": "code",
      "source": [
        "# 회귀계수=기울기 유의성 검정\n",
        "# 검정통계량 = 기울기/표준오차\n",
        "# 분자\n",
        "b"
      ],
      "metadata": {
        "colab": {
          "base_uri": "https://localhost:8080/"
        },
        "id": "NLC1OjyooF8f",
        "outputId": "4d03892b-5507-470c-e0dc-0cc2d60a47b2"
      },
      "execution_count": null,
      "outputs": [
        {
          "output_type": "execute_result",
          "data": {
            "text/plain": [
              "-0.21412894375857322"
            ]
          },
          "metadata": {},
          "execution_count": 52
        }
      ]
    },
    {
      "cell_type": "code",
      "source": [
        "# 분모 = 표준오차 = 제곱근(y hat_d^2 합/자유도/x_d^2 합)\n",
        "y_hat = a + b*x;y_hat\n",
        "y_hat_d = y - y_hat;y_hat_d\n",
        "y_hat_d2 = y_hat_d**2;y_hat_d2\n",
        "# y hat_d^2 합\n",
        "sum(y_hat_d2)"
      ],
      "metadata": {
        "colab": {
          "base_uri": "https://localhost:8080/"
        },
        "id": "RVH6nEQyoKCv",
        "outputId": "c0542397-4a79-42b8-fb25-0db0ae5de12a"
      },
      "execution_count": null,
      "outputs": [
        {
          "output_type": "execute_result",
          "data": {
            "text/plain": [
              "105.32644718792864"
            ]
          },
          "metadata": {},
          "execution_count": 53
        }
      ]
    },
    {
      "cell_type": "code",
      "source": [
        "# 자유도 = n - k - 1\n",
        "n = len(x);n;k = 1;df = n-k-1;df"
      ],
      "metadata": {
        "colab": {
          "base_uri": "https://localhost:8080/"
        },
        "id": "nu9TaG0NoLNA",
        "outputId": "dfc954d7-688c-4965-d28b-51dbaf2b8c57"
      },
      "execution_count": null,
      "outputs": [
        {
          "output_type": "execute_result",
          "data": {
            "text/plain": [
              "8"
            ]
          },
          "metadata": {},
          "execution_count": 54
        }
      ]
    },
    {
      "cell_type": "code",
      "source": [
        "# 표준오차\n",
        "se = np.sqrt(sum(y_hat_d2)/df/sum(x_d2));se"
      ],
      "metadata": {
        "colab": {
          "base_uri": "https://localhost:8080/"
        },
        "id": "Dl7hZv30oNEG",
        "outputId": "def30c57-4f46-471d-d8ba-6f16a5d2dd3b"
      },
      "execution_count": null,
      "outputs": [
        {
          "output_type": "execute_result",
          "data": {
            "text/plain": [
              "0.4249716507690291"
            ]
          },
          "metadata": {},
          "execution_count": 55
        }
      ]
    },
    {
      "cell_type": "code",
      "source": [
        "# 분자/분모\n",
        "tv = b/se;tv = abs(tv);tv"
      ],
      "metadata": {
        "colab": {
          "base_uri": "https://localhost:8080/"
        },
        "id": "qkyAXDSjoO6I",
        "outputId": "e84d85e6-115f-443d-90f8-27790a785075"
      },
      "execution_count": null,
      "outputs": [
        {
          "output_type": "execute_result",
          "data": {
            "text/plain": [
              "0.5038664187860185"
            ]
          },
          "metadata": {},
          "execution_count": 56
        }
      ]
    },
    {
      "cell_type": "code",
      "source": [
        "# 임계값 & 유의수준 & 자유도 & 양측검정\n",
        "alpha = 0.05;df\n",
        "cv = t.ppf(1 - alpha/2, df);cv"
      ],
      "metadata": {
        "colab": {
          "base_uri": "https://localhost:8080/"
        },
        "id": "WDHFHcu_oSPu",
        "outputId": "68acc680-ac52-4e93-a83e-520576ea5cb2"
      },
      "execution_count": null,
      "outputs": [
        {
          "output_type": "execute_result",
          "data": {
            "text/plain": [
              "2.3060041350333704"
            ]
          },
          "metadata": {},
          "execution_count": 57
        }
      ]
    },
    {
      "cell_type": "code",
      "source": [
        "# 결론\n",
        "cv < tv\n",
        "# 임계값보다 검정통계량이 작다\n",
        "# 왼쪽\n",
        "# 채택역\n",
        "# 통계적으로 유의하지 않다\n",
        "#"
      ],
      "metadata": {
        "colab": {
          "base_uri": "https://localhost:8080/"
        },
        "id": "slGrYheboUM8",
        "outputId": "481d1a82-7283-4f33-b993-7684f9469fd1"
      },
      "execution_count": null,
      "outputs": [
        {
          "output_type": "execute_result",
          "data": {
            "text/plain": [
              "False"
            ]
          },
          "metadata": {},
          "execution_count": 58
        }
      ]
    },
    {
      "cell_type": "code",
      "source": [
        "# 유의확률\n",
        "pv = 1 - t.cdf(tv, df);pv = pv*2;pv\n",
        "#"
      ],
      "metadata": {
        "colab": {
          "base_uri": "https://localhost:8080/"
        },
        "id": "2xO2GyFPoVj7",
        "outputId": "44326a33-1b18-492f-ab5d-ba35e56b9aaa"
      },
      "execution_count": null,
      "outputs": [
        {
          "output_type": "execute_result",
          "data": {
            "text/plain": [
              "0.6279352264764086"
            ]
          },
          "metadata": {},
          "execution_count": 59
        }
      ]
    },
    {
      "cell_type": "code",
      "source": [
        "# 결론\n",
        "alpha > pv\n",
        "# 유의수준보다 유의확률이 크다\n",
        "# 왼쪽\n",
        "# 채택역\n",
        "# 통계적으로 유의하지 않다\n",
        "#"
      ],
      "metadata": {
        "colab": {
          "base_uri": "https://localhost:8080/"
        },
        "id": "wFMuEzOzoW3W",
        "outputId": "bcbb4ef9-0648-4e1f-f1d8-fb7796010f1f"
      },
      "execution_count": null,
      "outputs": [
        {
          "output_type": "execute_result",
          "data": {
            "text/plain": [
              "False"
            ]
          },
          "metadata": {},
          "execution_count": 60
        }
      ]
    },
    {
      "cell_type": "code",
      "source": [
        "# 결정계수 = SSR/SST(=SSR+SSE)\n",
        "# SSE = 오차제곱합\n",
        "sse = sum(y_hat_d2);sse"
      ],
      "metadata": {
        "colab": {
          "base_uri": "https://localhost:8080/"
        },
        "id": "Wb9jecWToYaO",
        "outputId": "de60c279-73d7-49d1-9993-415413eb3d83"
      },
      "execution_count": null,
      "outputs": [
        {
          "output_type": "execute_result",
          "data": {
            "text/plain": [
              "105.32644718792864"
            ]
          },
          "metadata": {},
          "execution_count": 61
        }
      ]
    },
    {
      "cell_type": "code",
      "source": [
        "# SSR = 회귀제곱합\n",
        "# 회귀 편차 = y_hat - y_m\n",
        "r_d = y_hat - y_m;r_d\n",
        "r_d2 = r_d**2;r_d2\n",
        "ssr = sum(r_d2);ssr"
      ],
      "metadata": {
        "colab": {
          "base_uri": "https://localhost:8080/"
        },
        "id": "3Cxv9OsZoaLn",
        "outputId": "19c5c16f-c360-4b32-d32a-0d5e762f1810"
      },
      "execution_count": null,
      "outputs": [
        {
          "output_type": "execute_result",
          "data": {
            "text/plain": [
              "3.342552812071324"
            ]
          },
          "metadata": {},
          "execution_count": 62
        }
      ]
    },
    {
      "cell_type": "code",
      "source": [
        "# 결정계수\n",
        "r2 = ssr/(ssr+sse);r2\n",
        "# x 변수가 y 변수에 대해서 3% 설명 가능하다.\n",
        "#"
      ],
      "metadata": {
        "colab": {
          "base_uri": "https://localhost:8080/"
        },
        "id": "YrjD3Q-nob2B",
        "outputId": "993d402a-a834-4b0e-c9a9-e931cba570de"
      },
      "execution_count": null,
      "outputs": [
        {
          "output_type": "execute_result",
          "data": {
            "text/plain": [
              "0.030759027984718045"
            ]
          },
          "metadata": {},
          "execution_count": 63
        }
      ]
    },
    {
      "cell_type": "code",
      "source": [
        "# 3) 표준 오차 = 표준 예측 오차\n",
        "# 오차 = 관측치-예측값\n",
        "# 오차 분산 = 오차 제곱 평균 = 오차제곱합/자유도\n",
        "# 표준오차 = 제곱근(오차제곱합/자유도)\n",
        "np.sqrt(sse/df)\n",
        "#"
      ],
      "metadata": {
        "colab": {
          "base_uri": "https://localhost:8080/"
        },
        "id": "7I_lAxmuodPG",
        "outputId": "d36edd87-1fe7-45fd-d253-860d11fbf42c"
      },
      "execution_count": null,
      "outputs": [
        {
          "output_type": "execute_result",
          "data": {
            "text/plain": [
              "3.6284715650658033"
            ]
          },
          "metadata": {},
          "execution_count": 64
        }
      ]
    },
    {
      "cell_type": "code",
      "source": [
        "# 문제1\n",
        "# x: 추측 횟수\n",
        "# y: 응답 시간\n",
        "df = pd.DataFrame({'x': [5, 7, 6, 2, 4, 3, 12, 5, 4, 3],\n",
        "                   'y': [14.5, 13.4, 12.7, 16.4, 21.0, 13.9, 17.3, 12.5, 16.7, 22.7]})"
      ],
      "metadata": {
        "id": "1z2rvwPN_I0n"
      },
      "execution_count": null,
      "outputs": []
    },
    {
      "cell_type": "code",
      "source": [
        "# 회귀모형\n",
        "import statsmodels.formula.api as smf\n",
        "sr = smf.ols('y ~ x', df)\n",
        "result = sr.fit()\n",
        "print(result.summary())"
      ],
      "metadata": {
        "colab": {
          "base_uri": "https://localhost:8080/"
        },
        "id": "M6UAHxXH669R",
        "outputId": "ae57cf67-e742-4388-dc54-380a6026a94f"
      },
      "execution_count": null,
      "outputs": [
        {
          "output_type": "stream",
          "name": "stdout",
          "text": [
            "                            OLS Regression Results                            \n",
            "==============================================================================\n",
            "Dep. Variable:                      y   R-squared:                       0.031\n",
            "Model:                            OLS   Adj. R-squared:                 -0.090\n",
            "Method:                 Least Squares   F-statistic:                    0.2539\n",
            "Date:                Thu, 21 Mar 2024   Prob (F-statistic):              0.628\n",
            "Time:                        01:34:26   Log-Likelihood:                -25.962\n",
            "No. Observations:                  10   AIC:                             55.92\n",
            "Df Residuals:                       8   BIC:                             56.53\n",
            "Df Model:                           1                                         \n",
            "Covariance Type:            nonrobust                                         \n",
            "==============================================================================\n",
            "                 coef    std err          t      P>|t|      [0.025      0.975]\n",
            "------------------------------------------------------------------------------\n",
            "Intercept     17.2021      2.452      7.015      0.000      11.547      22.857\n",
            "x             -0.2141      0.425     -0.504      0.628      -1.194       0.766\n",
            "==============================================================================\n",
            "Omnibus:                        1.611   Durbin-Watson:                   1.952\n",
            "Prob(Omnibus):                  0.447   Jarque-Bera (JB):                1.138\n",
            "Skew:                           0.687   Prob(JB):                        0.566\n",
            "Kurtosis:                       2.080   Cond. No.                         12.6\n",
            "==============================================================================\n",
            "\n",
            "Notes:\n",
            "[1] Standard Errors assume that the covariance matrix of the errors is correctly specified.\n"
          ]
        },
        {
          "output_type": "stream",
          "name": "stderr",
          "text": [
            "/usr/local/lib/python3.10/dist-packages/scipy/stats/_stats_py.py:1806: UserWarning: kurtosistest only valid for n>=20 ... continuing anyway, n=10\n",
            "  warnings.warn(\"kurtosistest only valid for n>=20 ... continuing \"\n"
          ]
        }
      ]
    },
    {
      "cell_type": "markdown",
      "source": [
        "## 문제8"
      ],
      "metadata": {
        "id": "IZ_LM_gD_b6S"
      }
    },
    {
      "cell_type": "code",
      "source": [
        "# 문제8\n",
        "# x: 훈련기간\n",
        "# y: 요리사점수\n",
        "x = pd.Series([7, 6, 15, 9, 8, 2, 15, 16, 7, 6, 15, 9, 8, 2, 15, 16, 10, 9, 11, 12, 6, 12])\n",
        "y = pd.Series([78, 89, 96, 87, 89, 57, 69, 84, 78, 89, 96, 87, 89, 57, 69, 84, 92, 75, 83, 88, 65, 88])"
      ],
      "metadata": {
        "id": "I7EcX4rYqvJQ"
      },
      "execution_count": null,
      "outputs": []
    },
    {
      "cell_type": "code",
      "source": [
        "# 평균 & 편차\n",
        "x_m = np.mean(x);y_m = np.mean(y);x_m;y_m\n",
        "x_d = x - x_m;y_d = y - y_m;x_d;y_d"
      ],
      "metadata": {
        "colab": {
          "base_uri": "https://localhost:8080/"
        },
        "id": "OxX0Ik-9qxUE",
        "outputId": "83a43186-6d19-485e-dd7c-ba12c748b902"
      },
      "execution_count": null,
      "outputs": [
        {
          "output_type": "execute_result",
          "data": {
            "text/plain": [
              "0     -3.318182\n",
              "1      7.681818\n",
              "2     14.681818\n",
              "3      5.681818\n",
              "4      7.681818\n",
              "5    -24.318182\n",
              "6    -12.318182\n",
              "7      2.681818\n",
              "8     -3.318182\n",
              "9      7.681818\n",
              "10    14.681818\n",
              "11     5.681818\n",
              "12     7.681818\n",
              "13   -24.318182\n",
              "14   -12.318182\n",
              "15     2.681818\n",
              "16    10.681818\n",
              "17    -6.318182\n",
              "18     1.681818\n",
              "19     6.681818\n",
              "20   -16.318182\n",
              "21     6.681818\n",
              "dtype: float64"
            ]
          },
          "metadata": {},
          "execution_count": 68
        }
      ]
    },
    {
      "cell_type": "code",
      "source": [
        "# 기울기 = x_d*y_d 합/x_d^2 합\n",
        "# 분자\n",
        "xy_d = x_d*y_d;xy_d\n",
        "sum(xy_d)"
      ],
      "metadata": {
        "colab": {
          "base_uri": "https://localhost:8080/"
        },
        "id": "obJa8r_FqzEp",
        "outputId": "0b4fa016-b676-49bc-bc1d-7a1ab606236e"
      },
      "execution_count": null,
      "outputs": [
        {
          "output_type": "execute_result",
          "data": {
            "text/plain": [
              "461.2727272727272"
            ]
          },
          "metadata": {},
          "execution_count": 69
        }
      ]
    },
    {
      "cell_type": "code",
      "source": [
        "# 분모\n",
        "x_d2 = x_d**2;x_d2\n",
        "sum(x_d2)"
      ],
      "metadata": {
        "colab": {
          "base_uri": "https://localhost:8080/"
        },
        "id": "irN96VFVq1Ba",
        "outputId": "282fe3cd-8cbb-47ea-df6c-f65c67fc1a41"
      },
      "execution_count": null,
      "outputs": [
        {
          "output_type": "execute_result",
          "data": {
            "text/plain": [
              "385.27272727272737"
            ]
          },
          "metadata": {},
          "execution_count": 70
        }
      ]
    },
    {
      "cell_type": "code",
      "source": [
        "# 분자/분모\n",
        "b = sum(xy_d)/sum(x_d2);b"
      ],
      "metadata": {
        "colab": {
          "base_uri": "https://localhost:8080/"
        },
        "id": "TE2ez9O1q28E",
        "outputId": "833fc660-064c-4d07-e490-645b4727a415"
      },
      "execution_count": null,
      "outputs": [
        {
          "output_type": "execute_result",
          "data": {
            "text/plain": [
              "1.1972628598395465"
            ]
          },
          "metadata": {},
          "execution_count": 71
        }
      ]
    },
    {
      "cell_type": "code",
      "source": [
        "# 절편 = y_m - b*x_m\n",
        "a = y_m - b*x_m;a"
      ],
      "metadata": {
        "colab": {
          "base_uri": "https://localhost:8080/"
        },
        "id": "rTwSS_VGq4rf",
        "outputId": "725de2ad-1975-4409-e197-c27880a8471a"
      },
      "execution_count": null,
      "outputs": [
        {
          "output_type": "execute_result",
          "data": {
            "text/plain": [
              "69.56323737612081"
            ]
          },
          "metadata": {},
          "execution_count": 72
        }
      ]
    },
    {
      "cell_type": "code",
      "source": [
        "# 회귀계수=기울기 유의성 검정\n",
        "# 검정통계량 = 기울기/표준오차\n",
        "# 분자\n",
        "b"
      ],
      "metadata": {
        "colab": {
          "base_uri": "https://localhost:8080/"
        },
        "id": "UuDyPJwPq6EV",
        "outputId": "a83c1c13-9625-4e08-d791-badd35215fb0"
      },
      "execution_count": null,
      "outputs": [
        {
          "output_type": "execute_result",
          "data": {
            "text/plain": [
              "1.1972628598395465"
            ]
          },
          "metadata": {},
          "execution_count": 73
        }
      ]
    },
    {
      "cell_type": "code",
      "source": [
        "# 분모 = 표준오차 = 제곱근(y hat_d^2 합/자유도/x_d^2 합)\n",
        "y_hat = a + b*x;y_hat\n",
        "y_hat_d = y - y_hat;y_hat_d\n",
        "y_hat_d2 = y_hat_d**2;y_hat_d2"
      ],
      "metadata": {
        "colab": {
          "base_uri": "https://localhost:8080/"
        },
        "id": "MFOHfiZQq8vs",
        "outputId": "b198e395-b29c-45a8-87ea-b8a0a3e06bf6"
      },
      "execution_count": null,
      "outputs": [
        {
          "output_type": "execute_result",
          "data": {
            "text/plain": [
              "0       0.003127\n",
              "1     150.140554\n",
              "2      71.873427\n",
              "3      44.374208\n",
              "4      97.193172\n",
              "5     223.734677\n",
              "6     343.071162\n",
              "7      22.273143\n",
              "8       0.003127\n",
              "9     150.140554\n",
              "10     71.873427\n",
              "11     44.374208\n",
              "12     97.193172\n",
              "13    223.734677\n",
              "14    343.071162\n",
              "15     22.273143\n",
              "16    109.498101\n",
              "17     28.500683\n",
              "18      0.071220\n",
              "19     16.561712\n",
              "20    137.987652\n",
              "21     16.561712\n",
              "dtype: float64"
            ]
          },
          "metadata": {},
          "execution_count": 74
        }
      ]
    },
    {
      "cell_type": "code",
      "source": [
        "# y hat_d^2 합\n",
        "sum(y_hat_d2)"
      ],
      "metadata": {
        "colab": {
          "base_uri": "https://localhost:8080/"
        },
        "id": "d2VUPuelq-Jc",
        "outputId": "19c17eda-68c5-4c77-8619-cd8ea24e42d3"
      },
      "execution_count": null,
      "outputs": [
        {
          "output_type": "execute_result",
          "data": {
            "text/plain": [
              "2214.508022652194"
            ]
          },
          "metadata": {},
          "execution_count": 75
        }
      ]
    },
    {
      "cell_type": "code",
      "source": [
        "# 자유도 = n - k - 1\n",
        "n = len(x);n;k = 1;df = n-k-1;df"
      ],
      "metadata": {
        "colab": {
          "base_uri": "https://localhost:8080/"
        },
        "id": "PTex_jsxq_eJ",
        "outputId": "47f94c26-89a4-4b93-c074-04295ecc9250"
      },
      "execution_count": null,
      "outputs": [
        {
          "output_type": "execute_result",
          "data": {
            "text/plain": [
              "20"
            ]
          },
          "metadata": {},
          "execution_count": 76
        }
      ]
    },
    {
      "cell_type": "code",
      "source": [
        "# 표준오차\n",
        "se = np.sqrt(sum(y_hat_d2)/df/sum(x_d2));se"
      ],
      "metadata": {
        "colab": {
          "base_uri": "https://localhost:8080/"
        },
        "id": "99QIg5OWrBIk",
        "outputId": "75a8f17c-9942-44de-a829-4c503a562b23"
      },
      "execution_count": null,
      "outputs": [
        {
          "output_type": "execute_result",
          "data": {
            "text/plain": [
              "0.5360922112882653"
            ]
          },
          "metadata": {},
          "execution_count": 77
        }
      ]
    },
    {
      "cell_type": "code",
      "source": [
        "# 분자/분모\n",
        "tv = b/se;tv"
      ],
      "metadata": {
        "colab": {
          "base_uri": "https://localhost:8080/"
        },
        "id": "KQsGnLGcrCgD",
        "outputId": "9afafea7-e7cf-426c-bc0a-63d7874cdce0"
      },
      "execution_count": null,
      "outputs": [
        {
          "output_type": "execute_result",
          "data": {
            "text/plain": [
              "2.233315154798545"
            ]
          },
          "metadata": {},
          "execution_count": 78
        }
      ]
    },
    {
      "cell_type": "code",
      "source": [
        "# 임계값 & 유의수준 & 자유도 & 양측검정\n",
        "alpha = 0.05;df\n",
        "cv = t.ppf(1 - alpha/2, df);cv"
      ],
      "metadata": {
        "colab": {
          "base_uri": "https://localhost:8080/"
        },
        "id": "mrnIF68HrEYi",
        "outputId": "333e6919-2773-4156-8f02-f1e0fa74ae42"
      },
      "execution_count": null,
      "outputs": [
        {
          "output_type": "execute_result",
          "data": {
            "text/plain": [
              "2.0859634472658364"
            ]
          },
          "metadata": {},
          "execution_count": 79
        }
      ]
    },
    {
      "cell_type": "code",
      "source": [
        "# 결론\n",
        "cv < tv\n",
        "# 임계값보다 검정통계량이 크다\n",
        "# 오른쪽\n",
        "# 기각역\n",
        "# 통계적으로 유의하다\n",
        "#"
      ],
      "metadata": {
        "colab": {
          "base_uri": "https://localhost:8080/"
        },
        "id": "gtM2jRMZrF6B",
        "outputId": "a02593ba-3698-442d-9d41-813ce6eca070"
      },
      "execution_count": null,
      "outputs": [
        {
          "output_type": "execute_result",
          "data": {
            "text/plain": [
              "True"
            ]
          },
          "metadata": {},
          "execution_count": 80
        }
      ]
    },
    {
      "cell_type": "code",
      "source": [
        "# 유의확률\n",
        "pv = 1 - t.cdf(tv, df);pv = pv*2;pv\n",
        "#"
      ],
      "metadata": {
        "colab": {
          "base_uri": "https://localhost:8080/"
        },
        "id": "S51r47D5rJJO",
        "outputId": "e9cb1fad-2b21-40b3-a1c6-92c544246bfc"
      },
      "execution_count": null,
      "outputs": [
        {
          "output_type": "execute_result",
          "data": {
            "text/plain": [
              "0.03711370507858969"
            ]
          },
          "metadata": {},
          "execution_count": 81
        }
      ]
    },
    {
      "cell_type": "code",
      "source": [
        "# 결론\n",
        "alpha > pv\n",
        "# 유의수준보다 유의확률이 작다\n",
        "# 오른쪽\n",
        "# 기각역\n",
        "# 통계적으로 유의하다\n",
        "#"
      ],
      "metadata": {
        "colab": {
          "base_uri": "https://localhost:8080/"
        },
        "id": "jzb6Wck-rKaV",
        "outputId": "17b58c2c-4761-443a-c06d-9dabd73aced9"
      },
      "execution_count": null,
      "outputs": [
        {
          "output_type": "execute_result",
          "data": {
            "text/plain": [
              "True"
            ]
          },
          "metadata": {},
          "execution_count": 82
        }
      ]
    },
    {
      "cell_type": "code",
      "source": [
        "# y요리사점수=69.56+1.197*훈련기간\n",
        "# 훈련기간이 길수록 요리사점수가 높아진다\n",
        "# 훈련기간이 1년 증가하면 요리사점수는 69.56+1.197 만큼 증가함\n",
        "#"
      ],
      "metadata": {
        "id": "ZJOz0AN-rL4_"
      },
      "execution_count": null,
      "outputs": []
    },
    {
      "cell_type": "code",
      "source": [
        "# 결정계수 = SSR/SST(=SSR+SSE)\n",
        "# SSE = 오차제곱합\n",
        "sse = sum(y_hat_d2);sse"
      ],
      "metadata": {
        "colab": {
          "base_uri": "https://localhost:8080/"
        },
        "id": "PKremYI2rNR5",
        "outputId": "ba2b45b4-9998-4085-8b9b-a1985c2cd58b"
      },
      "execution_count": null,
      "outputs": [
        {
          "output_type": "execute_result",
          "data": {
            "text/plain": [
              "2214.508022652194"
            ]
          },
          "metadata": {},
          "execution_count": 84
        }
      ]
    },
    {
      "cell_type": "code",
      "source": [
        "# SSR = 회귀제곱합\n",
        "# 회귀 편차 = y_hat - y_m\n",
        "r_d = y_hat - y_m;r_d\n",
        "r_d2 = r_d**2;r_d2\n",
        "ssr = sum(r_d2);ssr"
      ],
      "metadata": {
        "colab": {
          "base_uri": "https://localhost:8080/"
        },
        "id": "tYV6OoYsrPUO",
        "outputId": "8b52874c-7af7-4e50-c49d-8f525000149c"
      },
      "execution_count": null,
      "outputs": [
        {
          "output_type": "execute_result",
          "data": {
            "text/plain": [
              "552.2647046205326"
            ]
          },
          "metadata": {},
          "execution_count": 85
        }
      ]
    },
    {
      "cell_type": "code",
      "source": [
        "# 결정계수\n",
        "r2 = ssr/(ssr+sse);r2\n",
        "# x 변수가 y 변수에 대해서 19.96% 설명 가능하다.\n",
        "#"
      ],
      "metadata": {
        "colab": {
          "base_uri": "https://localhost:8080/"
        },
        "id": "73FyCjxSrQ7q",
        "outputId": "b9d57de4-1267-4a2b-d2b0-3f11612a0dc4"
      },
      "execution_count": null,
      "outputs": [
        {
          "output_type": "execute_result",
          "data": {
            "text/plain": [
              "0.199606096726605"
            ]
          },
          "metadata": {},
          "execution_count": 86
        }
      ]
    },
    {
      "cell_type": "code",
      "source": [
        "# 오차 = 관측치-예측값\n",
        "# 오차 분산 = 오차 제곱 평균 = 오차제곱합/자유도\n",
        "# 표준오차 = 제곱근(오차제곱합/자유도)\n",
        "np.sqrt(sse/df)\n",
        "#"
      ],
      "metadata": {
        "colab": {
          "base_uri": "https://localhost:8080/"
        },
        "id": "WEOEAArfrSfB",
        "outputId": "8430de66-d479-4c11-adbe-c59d032d01f6"
      },
      "execution_count": null,
      "outputs": [
        {
          "output_type": "execute_result",
          "data": {
            "text/plain": [
              "10.522613797560457"
            ]
          },
          "metadata": {},
          "execution_count": 87
        }
      ]
    },
    {
      "cell_type": "code",
      "source": [
        "# 문제8\n",
        "# x: 훈련기간\n",
        "# y: 요리사점수\n",
        "df = pd.DataFrame({'x': [7, 6, 15, 9, 8, 2, 15, 16, 7, 6, 15, 9, 8, 2, 15, 16, 10, 9, 11, 12, 6, 12],\n",
        "                   'y': [78, 89, 96, 87, 89, 57, 69, 84, 78, 89, 96, 87, 89, 57, 69, 84, 92, 75, 83, 88, 65, 88]})"
      ],
      "metadata": {
        "id": "fYDB0bkm_b6S"
      },
      "execution_count": null,
      "outputs": []
    },
    {
      "cell_type": "code",
      "source": [
        "# 회귀모형\n",
        "import statsmodels.formula.api as smf\n",
        "sr = smf.ols('y ~ x', df)\n",
        "result = sr.fit()\n",
        "print(result.summary())\n",
        "# 회귀계수는 통계적으로 유의하다.\n",
        "# 훈련기간이 1단위 증가할 때, 요리사 점수는 1.197 만큼 증가한다.\n",
        "# y요리사점수 = 69.56+1.197*훈련기간\n",
        "# 훈련기간이 길수록 요리사점수가 높아진다\n",
        "# 훈련기간이 1년 증가하면 요리사점수는 69.56+1.197 만큼 증가함"
      ],
      "metadata": {
        "colab": {
          "base_uri": "https://localhost:8080/"
        },
        "outputId": "9998ef7e-e8a4-4905-d83d-54ac5117572d",
        "id": "gaAA_lz1_b6T"
      },
      "execution_count": null,
      "outputs": [
        {
          "output_type": "stream",
          "name": "stdout",
          "text": [
            "                            OLS Regression Results                            \n",
            "==============================================================================\n",
            "Dep. Variable:                      y   R-squared:                       0.200\n",
            "Model:                            OLS   Adj. R-squared:                  0.160\n",
            "Method:                 Least Squares   F-statistic:                     4.988\n",
            "Date:                Thu, 21 Mar 2024   Prob (F-statistic):             0.0371\n",
            "Time:                        01:43:19   Log-Likelihood:                -81.946\n",
            "No. Observations:                  22   AIC:                             167.9\n",
            "Df Residuals:                      20   BIC:                             170.1\n",
            "Df Model:                           1                                         \n",
            "Covariance Type:            nonrobust                                         \n",
            "==============================================================================\n",
            "                 coef    std err          t      P>|t|      [0.025      0.975]\n",
            "------------------------------------------------------------------------------\n",
            "Intercept     69.5632      5.722     12.158      0.000      57.628      81.498\n",
            "x              1.1973      0.536      2.233      0.037       0.079       2.316\n",
            "==============================================================================\n",
            "Omnibus:                        3.096   Durbin-Watson:                   1.373\n",
            "Prob(Omnibus):                  0.213   Jarque-Bera (JB):                2.104\n",
            "Skew:                          -0.572   Prob(JB):                        0.349\n",
            "Kurtosis:                       2.006   Cond. No.                         27.4\n",
            "==============================================================================\n",
            "\n",
            "Notes:\n",
            "[1] Standard Errors assume that the covariance matrix of the errors is correctly specified.\n"
          ]
        }
      ]
    },
    {
      "cell_type": "markdown",
      "source": [
        "## 문제7"
      ],
      "metadata": {
        "id": "xx4HzrmcFXVz"
      }
    },
    {
      "cell_type": "code",
      "source": [
        "# 문제7\n",
        "df = pd.DataFrame({'건강': [92, 76, 84, 56, 73, 48, 98, 96, 70, 27, 63, 49, 72, 57, 66, 98, 69, 84, 78, 55],\n",
        "                   '과자선호도': [1, 4, 4, 6, 6, 8, 2, 4, 6, 8, 7, 5, 5, 8, 7, 2, 7, 3, 8, 6],\n",
        "                   '성별': [1, 2, 2, 1, 2, 2, 1, 1, 1, 2, 1, 2, 2, 2, 1, 2, 1, 1, 1, 1],\n",
        "                   'BMI': [21, 23, 25, 31, 22, 28, 22, 23, 26, 35, 27, 29, 26, 27, 25, 19, 32, 27, 28, 26]})"
      ],
      "metadata": {
        "id": "FQmxvDEnDMzd"
      },
      "execution_count": null,
      "outputs": []
    },
    {
      "cell_type": "code",
      "source": [
        "# 회귀모형\n",
        "import statsmodels.formula.api as smf\n",
        "mr = smf.ols('건강 ~ 과자선호도 + 성별 + BMI', df)\n",
        "result = mr.fit()\n",
        "print(result.summary())\n",
        "# y건강=169.8 - 3.09 *  과자선호도 - 9.6 * 성별 - 2.63 * BMI\n",
        "# 건강점수는 과자를 선호할수록, 여자일수록, BMI가 높을수록 낮아진다."
      ],
      "metadata": {
        "colab": {
          "base_uri": "https://localhost:8080/"
        },
        "outputId": "1885c417-cca1-45ae-ca9c-8c1e0a36c594",
        "id": "w2OKA29ZDMze"
      },
      "execution_count": null,
      "outputs": [
        {
          "output_type": "stream",
          "name": "stdout",
          "text": [
            "                            OLS Regression Results                            \n",
            "==============================================================================\n",
            "Dep. Variable:                     건강   R-squared:                       0.784\n",
            "Model:                            OLS   Adj. R-squared:                  0.743\n",
            "Method:                 Least Squares   F-statistic:                     19.34\n",
            "Date:                Thu, 22 Jun 2023   Prob (F-statistic):           1.43e-05\n",
            "Time:                        07:42:40   Log-Likelihood:                -71.138\n",
            "No. Observations:                  20   AIC:                             150.3\n",
            "Df Residuals:                      16   BIC:                             154.3\n",
            "Df Model:                           3                                         \n",
            "Covariance Type:            nonrobust                                         \n",
            "==============================================================================\n",
            "                 coef    std err          t      P>|t|      [0.025      0.975]\n",
            "------------------------------------------------------------------------------\n",
            "Intercept    169.8128     17.884      9.495      0.000     131.901     207.724\n",
            "과자선호도         -3.0942      1.402     -2.207      0.042      -6.066      -0.122\n",
            "성별            -9.6155      4.309     -2.231      0.040     -18.750      -0.481\n",
            "BMI           -2.6347      0.784     -3.362      0.004      -4.296      -0.973\n",
            "==============================================================================\n",
            "Omnibus:                        0.100   Durbin-Watson:                   1.923\n",
            "Prob(Omnibus):                  0.951   Jarque-Bera (JB):                0.146\n",
            "Skew:                           0.123   Prob(JB):                        0.929\n",
            "Kurtosis:                       2.661   Cond. No.                         229.\n",
            "==============================================================================\n",
            "\n",
            "Notes:\n",
            "[1] Standard Errors assume that the covariance matrix of the errors is correctly specified.\n"
          ]
        }
      ]
    },
    {
      "cell_type": "markdown",
      "source": [
        "# 카이제곱검정"
      ],
      "metadata": {
        "id": "rebfAPG4znRD"
      }
    },
    {
      "cell_type": "markdown",
      "source": [
        "## 적합성검정"
      ],
      "metadata": {
        "id": "yU1BaGgbzp0w"
      }
    },
    {
      "cell_type": "code",
      "execution_count": null,
      "metadata": {
        "id": "LjhaC9iizj-K"
      },
      "outputs": [],
      "source": [
        "# 라이브러리 불러오기\n",
        "import pandas as pd\n",
        "from scipy.stats import chi2"
      ]
    },
    {
      "cell_type": "code",
      "source": [
        "# 학교 바우처 선호도\n",
        "# 찬성, 잘 모르겠음, 반대\n",
        "# 관찰빈도 observed frequency\n",
        "of = pd.Series([23, 17, 50])"
      ],
      "metadata": {
        "id": "FC4tkOoz0SPL"
      },
      "execution_count": null,
      "outputs": []
    },
    {
      "cell_type": "code",
      "source": [
        "# 기대빈도 expected frequency\n",
        "ef = sum(of) / len(of);ef"
      ],
      "metadata": {
        "id": "kGCG6JOg0wUg",
        "colab": {
          "base_uri": "https://localhost:8080/"
        },
        "outputId": "84467716-b8a5-4307-eadf-be8dfce6d69c"
      },
      "execution_count": null,
      "outputs": [
        {
          "output_type": "execute_result",
          "data": {
            "text/plain": [
              "30.0"
            ]
          },
          "metadata": {},
          "execution_count": 31
        }
      ]
    },
    {
      "cell_type": "code",
      "source": [
        "# 검정통계량\n",
        "# (O - E)**2/E 의 합 = 검정통계량 = 카이제곱값\n",
        "# 분자 = (관찰빈도 - 기대빈도)2\n",
        "of - ef"
      ],
      "metadata": {
        "id": "w-gO851r0_ta",
        "colab": {
          "base_uri": "https://localhost:8080/"
        },
        "outputId": "62e6c8bb-d25d-464a-efdd-5124195fd099"
      },
      "execution_count": null,
      "outputs": [
        {
          "output_type": "execute_result",
          "data": {
            "text/plain": [
              "0    -7.0\n",
              "1   -13.0\n",
              "2    20.0\n",
              "dtype: float64"
            ]
          },
          "metadata": {},
          "execution_count": 32
        }
      ]
    },
    {
      "cell_type": "code",
      "source": [
        "(of - ef) ** 2"
      ],
      "metadata": {
        "id": "RYvGxqRI1TzL",
        "colab": {
          "base_uri": "https://localhost:8080/"
        },
        "outputId": "1db2a515-3d7a-4e94-efec-3e91b030ebc7"
      },
      "execution_count": null,
      "outputs": [
        {
          "output_type": "execute_result",
          "data": {
            "text/plain": [
              "0     49.0\n",
              "1    169.0\n",
              "2    400.0\n",
              "dtype: float64"
            ]
          },
          "metadata": {},
          "execution_count": 33
        }
      ]
    },
    {
      "cell_type": "code",
      "source": [
        "# 분모 = 기대빈도\n",
        "ef"
      ],
      "metadata": {
        "id": "UfnT8yeC1Zdi",
        "colab": {
          "base_uri": "https://localhost:8080/"
        },
        "outputId": "a69cfe54-1706-4985-ade7-0d76fc35cfdc"
      },
      "execution_count": null,
      "outputs": [
        {
          "output_type": "execute_result",
          "data": {
            "text/plain": [
              "30.0"
            ]
          },
          "metadata": {},
          "execution_count": 34
        }
      ]
    },
    {
      "cell_type": "code",
      "source": [
        "# 분자/분모 의 합\n",
        "(of - ef) ** 2 / ef"
      ],
      "metadata": {
        "id": "0AGygYnM0-Ci",
        "colab": {
          "base_uri": "https://localhost:8080/"
        },
        "outputId": "7ec20ebe-f98f-4c7a-ebfe-da3904fd27b2"
      },
      "execution_count": null,
      "outputs": [
        {
          "output_type": "execute_result",
          "data": {
            "text/plain": [
              "0     1.633333\n",
              "1     5.633333\n",
              "2    13.333333\n",
              "dtype: float64"
            ]
          },
          "metadata": {},
          "execution_count": 35
        }
      ]
    },
    {
      "cell_type": "code",
      "source": [
        "x2v = sum((of - ef) ** 2 / ef);x2v"
      ],
      "metadata": {
        "colab": {
          "base_uri": "https://localhost:8080/"
        },
        "id": "NbQ-fpza1l4q",
        "outputId": "dc196780-c598-44f1-9232-5a94d10eac2c"
      },
      "execution_count": null,
      "outputs": [
        {
          "output_type": "execute_result",
          "data": {
            "text/plain": [
              "20.6"
            ]
          },
          "metadata": {},
          "execution_count": 36
        }
      ]
    },
    {
      "cell_type": "code",
      "source": [
        "# 임계값, 유의수준, 자유도, 우측검정\n",
        "# 자유도 = 그룹의 개수 - 1\n",
        "# 분포가 오른쪽에만 있으므로 우측 검정만 고려하면 됨\n",
        "alpha = 0.05\n",
        "df = len(of) - 1;df"
      ],
      "metadata": {
        "colab": {
          "base_uri": "https://localhost:8080/"
        },
        "id": "c_OSlWBe1xzC",
        "outputId": "05150814-4268-4b54-e754-39b238cc4f98"
      },
      "execution_count": null,
      "outputs": [
        {
          "output_type": "execute_result",
          "data": {
            "text/plain": [
              "2"
            ]
          },
          "metadata": {},
          "execution_count": 37
        }
      ]
    },
    {
      "cell_type": "code",
      "source": [
        "cv = chi2.ppf(1 - alpha, df);cv"
      ],
      "metadata": {
        "colab": {
          "base_uri": "https://localhost:8080/"
        },
        "id": "1RSEOwov2B9y",
        "outputId": "ea11b607-560c-4885-83a0-d5a32e5d4c88"
      },
      "execution_count": null,
      "outputs": [
        {
          "output_type": "execute_result",
          "data": {
            "text/plain": [
              "5.991464547107979"
            ]
          },
          "metadata": {},
          "execution_count": 38
        }
      ]
    },
    {
      "cell_type": "code",
      "source": [
        "# 결론\n",
        "cv < x2v\n",
        "# 오른쪽 = 기각역 = 귀무가설 기각 = 대립가설 채택 = 차이가 있다\n",
        "# 학교바우처선호도 그룹 간의 빈도 차이가 있다. = 통계적으로 유의하다"
      ],
      "metadata": {
        "colab": {
          "base_uri": "https://localhost:8080/"
        },
        "id": "eCxpRjRM2Q9K",
        "outputId": "9274af72-c6a0-4f0f-c941-5525dc19ae2c"
      },
      "execution_count": null,
      "outputs": [
        {
          "output_type": "execute_result",
          "data": {
            "text/plain": [
              "True"
            ]
          },
          "metadata": {},
          "execution_count": 39
        }
      ]
    },
    {
      "cell_type": "code",
      "source": [
        "# 유의확률\n",
        "pv = 1 - chi2.cdf(x2v, df);pv"
      ],
      "metadata": {
        "colab": {
          "base_uri": "https://localhost:8080/"
        },
        "id": "wrTc_SOf2VNa",
        "outputId": "b216595c-ec37-41b5-8ce4-28f7c30ba874"
      },
      "execution_count": null,
      "outputs": [
        {
          "output_type": "execute_result",
          "data": {
            "text/plain": [
              "3.363309518567004e-05"
            ]
          },
          "metadata": {},
          "execution_count": 40
        }
      ]
    },
    {
      "cell_type": "code",
      "source": [
        "# 결론\n",
        "alpha > pv\n",
        "# 오른쪽 = 기각역 = 귀무가설 기각 = 대립가설 채택 = 차이가 있다\n",
        "# 학교바우처선호도 그룹 간의 빈도 차이가 있다. = 통계적으로 유의하다"
      ],
      "metadata": {
        "colab": {
          "base_uri": "https://localhost:8080/"
        },
        "id": "Or0ZJBIV2zpy",
        "outputId": "c55bf0ca-8ffc-4f9e-b8b1-5a9fa3871089"
      },
      "execution_count": null,
      "outputs": [
        {
          "output_type": "execute_result",
          "data": {
            "text/plain": [
              "True"
            ]
          },
          "metadata": {},
          "execution_count": 41
        }
      ]
    },
    {
      "cell_type": "code",
      "source": [
        "# 함수 사용한 검정\n",
        "from scipy.stats import chisquare\n",
        "chisquare(of)"
      ],
      "metadata": {
        "colab": {
          "base_uri": "https://localhost:8080/"
        },
        "outputId": "e763d151-539d-4f3e-a3a3-57485302e088",
        "id": "PqvxEY-y6Joi"
      },
      "execution_count": null,
      "outputs": [
        {
          "output_type": "execute_result",
          "data": {
            "text/plain": [
              "Power_divergenceResult(statistic=20.6, pvalue=3.3633095185718975e-05)"
            ]
          },
          "metadata": {},
          "execution_count": 42
        }
      ]
    },
    {
      "cell_type": "code",
      "source": [
        "x2v, pv = chisquare(of)\n",
        "print(\"검정통계량: \", x2v)\n",
        "print(\"유의확률: {:.6f}\".format(pv))"
      ],
      "metadata": {
        "colab": {
          "base_uri": "https://localhost:8080/"
        },
        "id": "WetN7b664a_T",
        "outputId": "412445a4-6c04-49f6-a8b1-a5be027f8abd"
      },
      "execution_count": null,
      "outputs": [
        {
          "output_type": "stream",
          "name": "stdout",
          "text": [
            "검정통계량:  20.6\n",
            "유의확률: 0.000034\n"
          ]
        }
      ]
    },
    {
      "cell_type": "markdown",
      "source": [
        "## 문제풀이"
      ],
      "metadata": {
        "id": "jUDBO5zZ6TNq"
      }
    },
    {
      "cell_type": "markdown",
      "source": [
        "### 문제1"
      ],
      "metadata": {
        "id": "QJW8pqz96VuS"
      }
    },
    {
      "cell_type": "code",
      "source": [
        "# 정당\n",
        "# 공화당, 민주당, 무소속\n",
        "# 관찰빈도 observed frequency\n",
        "of = pd.Series([800, 700, 900])"
      ],
      "metadata": {
        "id": "y-gsgbcp6QH8"
      },
      "execution_count": null,
      "outputs": []
    },
    {
      "cell_type": "code",
      "source": [
        "# 기대빈도 expected frequency\n",
        "ef = sum(of) / len(of);ef"
      ],
      "metadata": {
        "id": "MuS6L44R6QH8",
        "colab": {
          "base_uri": "https://localhost:8080/"
        },
        "outputId": "c5e11375-ab7f-4828-d9fa-7619e1627593"
      },
      "execution_count": null,
      "outputs": [
        {
          "output_type": "execute_result",
          "data": {
            "text/plain": [
              "800.0"
            ]
          },
          "metadata": {},
          "execution_count": 45
        }
      ]
    },
    {
      "cell_type": "code",
      "source": [
        "# 검정통계량\n",
        "# (O - E)**2/E 의 합 = 검정통계량 = 카이제곱값\n",
        "# 분자 = (관찰빈도 - 기대빈도)2\n",
        "of - ef"
      ],
      "metadata": {
        "id": "8X81Krqg6QH8",
        "colab": {
          "base_uri": "https://localhost:8080/"
        },
        "outputId": "1cc24664-a627-4c32-ac13-4e80d5b54cc8"
      },
      "execution_count": null,
      "outputs": [
        {
          "output_type": "execute_result",
          "data": {
            "text/plain": [
              "0      0.0\n",
              "1   -100.0\n",
              "2    100.0\n",
              "dtype: float64"
            ]
          },
          "metadata": {},
          "execution_count": 46
        }
      ]
    },
    {
      "cell_type": "code",
      "source": [
        "# (O - E)**2\n",
        "(of - ef) ** 2"
      ],
      "metadata": {
        "id": "A1pstd9o6QH8",
        "colab": {
          "base_uri": "https://localhost:8080/"
        },
        "outputId": "7c54b663-032b-40b9-874c-05d40295ef8a"
      },
      "execution_count": null,
      "outputs": [
        {
          "output_type": "execute_result",
          "data": {
            "text/plain": [
              "0        0.0\n",
              "1    10000.0\n",
              "2    10000.0\n",
              "dtype: float64"
            ]
          },
          "metadata": {},
          "execution_count": 47
        }
      ]
    },
    {
      "cell_type": "code",
      "source": [
        "# 분모 = 기대빈도\n",
        "ef"
      ],
      "metadata": {
        "id": "bf9LfnUP6QH8",
        "colab": {
          "base_uri": "https://localhost:8080/"
        },
        "outputId": "89e76de0-c369-4abe-865c-9907222ec107"
      },
      "execution_count": null,
      "outputs": [
        {
          "output_type": "execute_result",
          "data": {
            "text/plain": [
              "800.0"
            ]
          },
          "metadata": {},
          "execution_count": 48
        }
      ]
    },
    {
      "cell_type": "code",
      "source": [
        "# 분자/분모 의 합\n",
        "# (O - E)**2/E\n",
        "(of - ef) ** 2 / ef"
      ],
      "metadata": {
        "id": "v_hRptkA6QH8",
        "colab": {
          "base_uri": "https://localhost:8080/"
        },
        "outputId": "4eb1e9fe-4e24-46cd-f37c-ddd6b3f7b760"
      },
      "execution_count": null,
      "outputs": [
        {
          "output_type": "execute_result",
          "data": {
            "text/plain": [
              "0     0.0\n",
              "1    12.5\n",
              "2    12.5\n",
              "dtype: float64"
            ]
          },
          "metadata": {},
          "execution_count": 49
        }
      ]
    },
    {
      "cell_type": "code",
      "source": [
        "# (O - E)**2/E 의 합 = 검정통계량 = 카이제곱값\n",
        "x2v = sum((of - ef) ** 2 / ef);x2v"
      ],
      "metadata": {
        "colab": {
          "base_uri": "https://localhost:8080/"
        },
        "outputId": "1a52d817-de95-498a-9925-3f32d8bf2ae2",
        "id": "muZoII9U6QH8"
      },
      "execution_count": null,
      "outputs": [
        {
          "output_type": "execute_result",
          "data": {
            "text/plain": [
              "25.0"
            ]
          },
          "metadata": {},
          "execution_count": 50
        }
      ]
    },
    {
      "cell_type": "code",
      "source": [
        "# 임계값, 유의수준, 자유도, 우측검정\n",
        "# 자유도 = 그룹의 개수 - 1\n",
        "# 분포가 오른쪽에만 있으므로 우측 검정만 고려하면 됨\n",
        "alpha = 0.05\n",
        "df = len(of) - 1;df"
      ],
      "metadata": {
        "colab": {
          "base_uri": "https://localhost:8080/"
        },
        "outputId": "a1316f81-8cc3-4b3a-fd75-75e76c4eeb99",
        "id": "ZeTKMWHO6QH9"
      },
      "execution_count": null,
      "outputs": [
        {
          "output_type": "execute_result",
          "data": {
            "text/plain": [
              "2"
            ]
          },
          "metadata": {},
          "execution_count": 51
        }
      ]
    },
    {
      "cell_type": "code",
      "source": [
        "cv = chi2.ppf(1 - alpha, df);cv"
      ],
      "metadata": {
        "colab": {
          "base_uri": "https://localhost:8080/"
        },
        "outputId": "f08578d8-89f2-4653-fc37-a311111019e0",
        "id": "BncaGpE06QH9"
      },
      "execution_count": null,
      "outputs": [
        {
          "output_type": "execute_result",
          "data": {
            "text/plain": [
              "5.991464547107979"
            ]
          },
          "metadata": {},
          "execution_count": 52
        }
      ]
    },
    {
      "cell_type": "code",
      "source": [
        "# 결론\n",
        "cv < x2v\n",
        "# 오른쪽 = 기각역 = 귀무가설 기각 = 대립가설 채택 = 차이가 있다\n",
        "# 정당 간의 빈도 차이가 있다. = 통계적으로 유의하다"
      ],
      "metadata": {
        "colab": {
          "base_uri": "https://localhost:8080/"
        },
        "outputId": "4a9a92c5-1e45-4034-8439-705c463074c6",
        "id": "yjtJewFK6QH9"
      },
      "execution_count": null,
      "outputs": [
        {
          "output_type": "execute_result",
          "data": {
            "text/plain": [
              "True"
            ]
          },
          "metadata": {},
          "execution_count": 53
        }
      ]
    },
    {
      "cell_type": "code",
      "source": [
        "# 유의확률\n",
        "pv = 1 - chi2.cdf(x2v, df);pv"
      ],
      "metadata": {
        "colab": {
          "base_uri": "https://localhost:8080/"
        },
        "outputId": "4df02c60-0d0a-48aa-b4e0-21bbd29e9b10",
        "id": "Cc1loWoM6QH-"
      },
      "execution_count": null,
      "outputs": [
        {
          "output_type": "execute_result",
          "data": {
            "text/plain": [
              "3.7266531720536733e-06"
            ]
          },
          "metadata": {},
          "execution_count": 54
        }
      ]
    },
    {
      "cell_type": "code",
      "source": [
        "# 결론\n",
        "alpha > pv\n",
        "# 오른쪽 = 기각역 = 귀무가설 기각 = 대립가설 채택 = 차이가 있다\n",
        "# 정당 간의 빈도 차이가 있다. = 통계적으로 유의하다"
      ],
      "metadata": {
        "colab": {
          "base_uri": "https://localhost:8080/"
        },
        "outputId": "7feb1330-0fef-4e59-fc8f-7c098ca9a7ca",
        "id": "fNwOoFYl6QH-"
      },
      "execution_count": null,
      "outputs": [
        {
          "output_type": "execute_result",
          "data": {
            "text/plain": [
              "True"
            ]
          },
          "metadata": {},
          "execution_count": 55
        }
      ]
    },
    {
      "cell_type": "code",
      "source": [
        "# 함수 사용한 검정\n",
        "from scipy.stats import chisquare\n",
        "chisquare(of)"
      ],
      "metadata": {
        "colab": {
          "base_uri": "https://localhost:8080/"
        },
        "outputId": "afec8afd-4a00-4c12-d90f-b86bdc918197",
        "id": "FuoHxNu56QH-"
      },
      "execution_count": null,
      "outputs": [
        {
          "output_type": "execute_result",
          "data": {
            "text/plain": [
              "Power_divergenceResult(statistic=25.0, pvalue=3.7266531720786718e-06)"
            ]
          },
          "metadata": {},
          "execution_count": 56
        }
      ]
    },
    {
      "cell_type": "code",
      "source": [
        "x2v, pv = chisquare(of)\n",
        "print(\"검정통계량: \", x2v)\n",
        "print(\"유의확률: {:.8f}\".format(pv))"
      ],
      "metadata": {
        "colab": {
          "base_uri": "https://localhost:8080/"
        },
        "outputId": "6b6eee60-608d-4972-cac3-afff7a74a00d",
        "id": "Vs3bp5Yx6QH-"
      },
      "execution_count": null,
      "outputs": [
        {
          "output_type": "stream",
          "name": "stdout",
          "text": [
            "검정통계량:  25.0\n",
            "유의확률: 0.00000373\n"
          ]
        }
      ]
    },
    {
      "cell_type": "markdown",
      "source": [
        "### 문제2"
      ],
      "metadata": {
        "id": "x5kKAdV66svC"
      }
    },
    {
      "cell_type": "code",
      "source": [
        "# 성별\n",
        "# 남자, 여자\n",
        "# 관찰빈도 observed frequency\n",
        "of = pd.Series([45, 55])"
      ],
      "metadata": {
        "id": "efPchXGO6svD"
      },
      "execution_count": null,
      "outputs": []
    },
    {
      "cell_type": "code",
      "source": [
        "# 기대빈도 expected frequency\n",
        "ef = sum(of) / len(of);ef"
      ],
      "metadata": {
        "id": "vs7dxZbu6svD",
        "colab": {
          "base_uri": "https://localhost:8080/"
        },
        "outputId": "5414eaae-48a8-4eb1-e08e-2ec20e149fa9"
      },
      "execution_count": null,
      "outputs": [
        {
          "output_type": "execute_result",
          "data": {
            "text/plain": [
              "50.0"
            ]
          },
          "metadata": {},
          "execution_count": 59
        }
      ]
    },
    {
      "cell_type": "code",
      "source": [
        "# 검정통계량\n",
        "# (O - E)**2/E 의 합 = 검정통계량 = 카이제곱값\n",
        "# 분자 = (관찰빈도 - 기대빈도)2\n",
        "of - ef"
      ],
      "metadata": {
        "id": "iaXKs-7u6svE",
        "colab": {
          "base_uri": "https://localhost:8080/"
        },
        "outputId": "332ce296-6a1f-42b9-d9e4-578a9ee67902"
      },
      "execution_count": null,
      "outputs": [
        {
          "output_type": "execute_result",
          "data": {
            "text/plain": [
              "0   -5.0\n",
              "1    5.0\n",
              "dtype: float64"
            ]
          },
          "metadata": {},
          "execution_count": 60
        }
      ]
    },
    {
      "cell_type": "code",
      "source": [
        "(of - ef) ** 2"
      ],
      "metadata": {
        "id": "P-QKz4ST6svG",
        "colab": {
          "base_uri": "https://localhost:8080/"
        },
        "outputId": "ff269c8d-4e96-48aa-acc7-2546b32efa40"
      },
      "execution_count": null,
      "outputs": [
        {
          "output_type": "execute_result",
          "data": {
            "text/plain": [
              "0    25.0\n",
              "1    25.0\n",
              "dtype: float64"
            ]
          },
          "metadata": {},
          "execution_count": 61
        }
      ]
    },
    {
      "cell_type": "code",
      "source": [
        "# 분모 = 기대빈도\n",
        "ef"
      ],
      "metadata": {
        "id": "XCaO1rlc6svH",
        "colab": {
          "base_uri": "https://localhost:8080/"
        },
        "outputId": "bbc952d1-0ef3-4b80-8918-c5e65839f4a1"
      },
      "execution_count": null,
      "outputs": [
        {
          "output_type": "execute_result",
          "data": {
            "text/plain": [
              "50.0"
            ]
          },
          "metadata": {},
          "execution_count": 62
        }
      ]
    },
    {
      "cell_type": "code",
      "source": [
        "# 분자/분모 의 합\n",
        "(of - ef) ** 2 / ef"
      ],
      "metadata": {
        "id": "N2o3A2x26svH",
        "colab": {
          "base_uri": "https://localhost:8080/"
        },
        "outputId": "e2806f35-9381-45a8-b1dd-bc5089a3b630"
      },
      "execution_count": null,
      "outputs": [
        {
          "output_type": "execute_result",
          "data": {
            "text/plain": [
              "0    0.5\n",
              "1    0.5\n",
              "dtype: float64"
            ]
          },
          "metadata": {},
          "execution_count": 63
        }
      ]
    },
    {
      "cell_type": "code",
      "source": [
        "x2v = sum((of - ef) ** 2 / ef);x2v"
      ],
      "metadata": {
        "id": "pr6yKd6r6svI",
        "colab": {
          "base_uri": "https://localhost:8080/"
        },
        "outputId": "0e5bdaca-fb44-443e-c13c-80eb2a3f332c"
      },
      "execution_count": null,
      "outputs": [
        {
          "output_type": "execute_result",
          "data": {
            "text/plain": [
              "1.0"
            ]
          },
          "metadata": {},
          "execution_count": 64
        }
      ]
    },
    {
      "cell_type": "code",
      "source": [
        "# 임계값, 유의수준, 자유도, 우측검정\n",
        "# 자유도 = 그룹의 개수 - 1\n",
        "# 분포가 오른쪽에만 있으므로 우측 검정만 고려하면 됨\n",
        "alpha = 0.01\n",
        "df = len(of) - 1;df"
      ],
      "metadata": {
        "id": "sBo_eQIK6svI",
        "colab": {
          "base_uri": "https://localhost:8080/"
        },
        "outputId": "a34eb96d-4ba1-4024-d666-b5a838760f74"
      },
      "execution_count": null,
      "outputs": [
        {
          "output_type": "execute_result",
          "data": {
            "text/plain": [
              "1"
            ]
          },
          "metadata": {},
          "execution_count": 65
        }
      ]
    },
    {
      "cell_type": "code",
      "source": [
        "cv = chi2.ppf(1 - alpha, df);cv"
      ],
      "metadata": {
        "id": "I2s3m2jQ6svJ",
        "colab": {
          "base_uri": "https://localhost:8080/"
        },
        "outputId": "1ba74bbb-0e64-4e96-8406-97f2cd73e6d0"
      },
      "execution_count": null,
      "outputs": [
        {
          "output_type": "execute_result",
          "data": {
            "text/plain": [
              "6.6348966010212145"
            ]
          },
          "metadata": {},
          "execution_count": 66
        }
      ]
    },
    {
      "cell_type": "code",
      "source": [
        "# 결론\n",
        "cv < x2v\n",
        "# 왼쪽 = 채택역 = 귀무가설 채택 = 대립가설 기각 = 차이가 없다\n",
        "# 성별의 빈도 차이가 없다. = 통계적으로 유의하지 않다"
      ],
      "metadata": {
        "id": "ce8NjLw96svK",
        "colab": {
          "base_uri": "https://localhost:8080/"
        },
        "outputId": "b883b0a8-b8a9-4178-9c57-f92e5d14b9e2"
      },
      "execution_count": null,
      "outputs": [
        {
          "output_type": "execute_result",
          "data": {
            "text/plain": [
              "False"
            ]
          },
          "metadata": {},
          "execution_count": 67
        }
      ]
    },
    {
      "cell_type": "code",
      "source": [
        "# 유의확률\n",
        "pv = 1 - chi2.cdf(x2v, df);pv"
      ],
      "metadata": {
        "id": "YQnGD9C36svK",
        "colab": {
          "base_uri": "https://localhost:8080/"
        },
        "outputId": "1230eb4e-bbb0-4741-d29e-34094e7793b9"
      },
      "execution_count": null,
      "outputs": [
        {
          "output_type": "execute_result",
          "data": {
            "text/plain": [
              "0.31731050786291415"
            ]
          },
          "metadata": {},
          "execution_count": 68
        }
      ]
    },
    {
      "cell_type": "code",
      "source": [
        "# 결론\n",
        "alpha > pv\n",
        "# 왼쪽 = 채택역 = 귀무가설 채택 = 대립가설 기각 = 차이가 없다\n",
        "# 성별의 빈도 차이가 없다. = 통계적으로 유의하지 않다"
      ],
      "metadata": {
        "id": "Rk3eJ2yY6svL",
        "colab": {
          "base_uri": "https://localhost:8080/"
        },
        "outputId": "9174f3df-7a9b-42f0-ef74-2682cc6b772e"
      },
      "execution_count": null,
      "outputs": [
        {
          "output_type": "execute_result",
          "data": {
            "text/plain": [
              "False"
            ]
          },
          "metadata": {},
          "execution_count": 69
        }
      ]
    },
    {
      "cell_type": "code",
      "source": [
        "# 함수 사용한 검정\n",
        "from scipy.stats import chisquare\n",
        "chisquare(of)"
      ],
      "metadata": {
        "id": "9jnZXgvB6svL",
        "colab": {
          "base_uri": "https://localhost:8080/"
        },
        "outputId": "e2a9bfac-9cae-4e4a-ba7d-fe8f2d27f1de"
      },
      "execution_count": null,
      "outputs": [
        {
          "output_type": "execute_result",
          "data": {
            "text/plain": [
              "Power_divergenceResult(statistic=1.0, pvalue=0.31731050786291115)"
            ]
          },
          "metadata": {},
          "execution_count": 70
        }
      ]
    },
    {
      "cell_type": "code",
      "source": [
        "x2v, pv = chisquare(of)\n",
        "print(\"검정통계량: \", x2v)\n",
        "print(\"유의확률: {:.6f}\".format(pv))"
      ],
      "metadata": {
        "id": "m51yG3cA6svL",
        "colab": {
          "base_uri": "https://localhost:8080/"
        },
        "outputId": "17873fed-1e46-4843-b23f-14f29561ace0"
      },
      "execution_count": null,
      "outputs": [
        {
          "output_type": "stream",
          "name": "stdout",
          "text": [
            "검정통계량:  1.0\n",
            "유의확률: 0.317311\n"
          ]
        }
      ]
    },
    {
      "cell_type": "markdown",
      "source": [
        "### 문제3"
      ],
      "metadata": {
        "id": "Zui-jkqa67j2"
      }
    },
    {
      "cell_type": "code",
      "source": [
        "# 초코볼\n",
        "# 관찰빈도, 모비율\n",
        "# 색상별 빈도, 색상 분포(비율)\n",
        "tab = pd.DataFrame({'of': [38,30,44,52,30,26],\n",
        "                    'prop': [0.13,0.13,0.24,0.2,0.16,0.14]})\n",
        "tab"
      ],
      "metadata": {
        "id": "e8RhoPI367j2",
        "colab": {
          "base_uri": "https://localhost:8080/",
          "height": 238
        },
        "outputId": "ea143cca-c9dc-4470-8332-b6673bf12718"
      },
      "execution_count": null,
      "outputs": [
        {
          "output_type": "execute_result",
          "data": {
            "text/plain": [
              "   of  prop\n",
              "0  38  0.13\n",
              "1  30  0.13\n",
              "2  44  0.24\n",
              "3  52  0.20\n",
              "4  30  0.16\n",
              "5  26  0.14"
            ],
            "text/html": [
              "\n",
              "  <div id=\"df-06add327-8629-4fbb-9047-a61f28fb0b7b\" class=\"colab-df-container\">\n",
              "    <div>\n",
              "<style scoped>\n",
              "    .dataframe tbody tr th:only-of-type {\n",
              "        vertical-align: middle;\n",
              "    }\n",
              "\n",
              "    .dataframe tbody tr th {\n",
              "        vertical-align: top;\n",
              "    }\n",
              "\n",
              "    .dataframe thead th {\n",
              "        text-align: right;\n",
              "    }\n",
              "</style>\n",
              "<table border=\"1\" class=\"dataframe\">\n",
              "  <thead>\n",
              "    <tr style=\"text-align: right;\">\n",
              "      <th></th>\n",
              "      <th>of</th>\n",
              "      <th>prop</th>\n",
              "    </tr>\n",
              "  </thead>\n",
              "  <tbody>\n",
              "    <tr>\n",
              "      <th>0</th>\n",
              "      <td>38</td>\n",
              "      <td>0.13</td>\n",
              "    </tr>\n",
              "    <tr>\n",
              "      <th>1</th>\n",
              "      <td>30</td>\n",
              "      <td>0.13</td>\n",
              "    </tr>\n",
              "    <tr>\n",
              "      <th>2</th>\n",
              "      <td>44</td>\n",
              "      <td>0.24</td>\n",
              "    </tr>\n",
              "    <tr>\n",
              "      <th>3</th>\n",
              "      <td>52</td>\n",
              "      <td>0.20</td>\n",
              "    </tr>\n",
              "    <tr>\n",
              "      <th>4</th>\n",
              "      <td>30</td>\n",
              "      <td>0.16</td>\n",
              "    </tr>\n",
              "    <tr>\n",
              "      <th>5</th>\n",
              "      <td>26</td>\n",
              "      <td>0.14</td>\n",
              "    </tr>\n",
              "  </tbody>\n",
              "</table>\n",
              "</div>\n",
              "    <div class=\"colab-df-buttons\">\n",
              "\n",
              "  <div class=\"colab-df-container\">\n",
              "    <button class=\"colab-df-convert\" onclick=\"convertToInteractive('df-06add327-8629-4fbb-9047-a61f28fb0b7b')\"\n",
              "            title=\"Convert this dataframe to an interactive table.\"\n",
              "            style=\"display:none;\">\n",
              "\n",
              "  <svg xmlns=\"http://www.w3.org/2000/svg\" height=\"24px\" viewBox=\"0 -960 960 960\">\n",
              "    <path d=\"M120-120v-720h720v720H120Zm60-500h600v-160H180v160Zm220 220h160v-160H400v160Zm0 220h160v-160H400v160ZM180-400h160v-160H180v160Zm440 0h160v-160H620v160ZM180-180h160v-160H180v160Zm440 0h160v-160H620v160Z\"/>\n",
              "  </svg>\n",
              "    </button>\n",
              "\n",
              "  <style>\n",
              "    .colab-df-container {\n",
              "      display:flex;\n",
              "      gap: 12px;\n",
              "    }\n",
              "\n",
              "    .colab-df-convert {\n",
              "      background-color: #E8F0FE;\n",
              "      border: none;\n",
              "      border-radius: 50%;\n",
              "      cursor: pointer;\n",
              "      display: none;\n",
              "      fill: #1967D2;\n",
              "      height: 32px;\n",
              "      padding: 0 0 0 0;\n",
              "      width: 32px;\n",
              "    }\n",
              "\n",
              "    .colab-df-convert:hover {\n",
              "      background-color: #E2EBFA;\n",
              "      box-shadow: 0px 1px 2px rgba(60, 64, 67, 0.3), 0px 1px 3px 1px rgba(60, 64, 67, 0.15);\n",
              "      fill: #174EA6;\n",
              "    }\n",
              "\n",
              "    .colab-df-buttons div {\n",
              "      margin-bottom: 4px;\n",
              "    }\n",
              "\n",
              "    [theme=dark] .colab-df-convert {\n",
              "      background-color: #3B4455;\n",
              "      fill: #D2E3FC;\n",
              "    }\n",
              "\n",
              "    [theme=dark] .colab-df-convert:hover {\n",
              "      background-color: #434B5C;\n",
              "      box-shadow: 0px 1px 3px 1px rgba(0, 0, 0, 0.15);\n",
              "      filter: drop-shadow(0px 1px 2px rgba(0, 0, 0, 0.3));\n",
              "      fill: #FFFFFF;\n",
              "    }\n",
              "  </style>\n",
              "\n",
              "    <script>\n",
              "      const buttonEl =\n",
              "        document.querySelector('#df-06add327-8629-4fbb-9047-a61f28fb0b7b button.colab-df-convert');\n",
              "      buttonEl.style.display =\n",
              "        google.colab.kernel.accessAllowed ? 'block' : 'none';\n",
              "\n",
              "      async function convertToInteractive(key) {\n",
              "        const element = document.querySelector('#df-06add327-8629-4fbb-9047-a61f28fb0b7b');\n",
              "        const dataTable =\n",
              "          await google.colab.kernel.invokeFunction('convertToInteractive',\n",
              "                                                    [key], {});\n",
              "        if (!dataTable) return;\n",
              "\n",
              "        const docLinkHtml = 'Like what you see? Visit the ' +\n",
              "          '<a target=\"_blank\" href=https://colab.research.google.com/notebooks/data_table.ipynb>data table notebook</a>'\n",
              "          + ' to learn more about interactive tables.';\n",
              "        element.innerHTML = '';\n",
              "        dataTable['output_type'] = 'display_data';\n",
              "        await google.colab.output.renderOutput(dataTable, element);\n",
              "        const docLink = document.createElement('div');\n",
              "        docLink.innerHTML = docLinkHtml;\n",
              "        element.appendChild(docLink);\n",
              "      }\n",
              "    </script>\n",
              "  </div>\n",
              "\n",
              "\n",
              "<div id=\"df-2f69bb63-d988-428f-9b32-76a022e1bab2\">\n",
              "  <button class=\"colab-df-quickchart\" onclick=\"quickchart('df-2f69bb63-d988-428f-9b32-76a022e1bab2')\"\n",
              "            title=\"Suggest charts\"\n",
              "            style=\"display:none;\">\n",
              "\n",
              "<svg xmlns=\"http://www.w3.org/2000/svg\" height=\"24px\"viewBox=\"0 0 24 24\"\n",
              "     width=\"24px\">\n",
              "    <g>\n",
              "        <path d=\"M19 3H5c-1.1 0-2 .9-2 2v14c0 1.1.9 2 2 2h14c1.1 0 2-.9 2-2V5c0-1.1-.9-2-2-2zM9 17H7v-7h2v7zm4 0h-2V7h2v10zm4 0h-2v-4h2v4z\"/>\n",
              "    </g>\n",
              "</svg>\n",
              "  </button>\n",
              "\n",
              "<style>\n",
              "  .colab-df-quickchart {\n",
              "      --bg-color: #E8F0FE;\n",
              "      --fill-color: #1967D2;\n",
              "      --hover-bg-color: #E2EBFA;\n",
              "      --hover-fill-color: #174EA6;\n",
              "      --disabled-fill-color: #AAA;\n",
              "      --disabled-bg-color: #DDD;\n",
              "  }\n",
              "\n",
              "  [theme=dark] .colab-df-quickchart {\n",
              "      --bg-color: #3B4455;\n",
              "      --fill-color: #D2E3FC;\n",
              "      --hover-bg-color: #434B5C;\n",
              "      --hover-fill-color: #FFFFFF;\n",
              "      --disabled-bg-color: #3B4455;\n",
              "      --disabled-fill-color: #666;\n",
              "  }\n",
              "\n",
              "  .colab-df-quickchart {\n",
              "    background-color: var(--bg-color);\n",
              "    border: none;\n",
              "    border-radius: 50%;\n",
              "    cursor: pointer;\n",
              "    display: none;\n",
              "    fill: var(--fill-color);\n",
              "    height: 32px;\n",
              "    padding: 0;\n",
              "    width: 32px;\n",
              "  }\n",
              "\n",
              "  .colab-df-quickchart:hover {\n",
              "    background-color: var(--hover-bg-color);\n",
              "    box-shadow: 0 1px 2px rgba(60, 64, 67, 0.3), 0 1px 3px 1px rgba(60, 64, 67, 0.15);\n",
              "    fill: var(--button-hover-fill-color);\n",
              "  }\n",
              "\n",
              "  .colab-df-quickchart-complete:disabled,\n",
              "  .colab-df-quickchart-complete:disabled:hover {\n",
              "    background-color: var(--disabled-bg-color);\n",
              "    fill: var(--disabled-fill-color);\n",
              "    box-shadow: none;\n",
              "  }\n",
              "\n",
              "  .colab-df-spinner {\n",
              "    border: 2px solid var(--fill-color);\n",
              "    border-color: transparent;\n",
              "    border-bottom-color: var(--fill-color);\n",
              "    animation:\n",
              "      spin 1s steps(1) infinite;\n",
              "  }\n",
              "\n",
              "  @keyframes spin {\n",
              "    0% {\n",
              "      border-color: transparent;\n",
              "      border-bottom-color: var(--fill-color);\n",
              "      border-left-color: var(--fill-color);\n",
              "    }\n",
              "    20% {\n",
              "      border-color: transparent;\n",
              "      border-left-color: var(--fill-color);\n",
              "      border-top-color: var(--fill-color);\n",
              "    }\n",
              "    30% {\n",
              "      border-color: transparent;\n",
              "      border-left-color: var(--fill-color);\n",
              "      border-top-color: var(--fill-color);\n",
              "      border-right-color: var(--fill-color);\n",
              "    }\n",
              "    40% {\n",
              "      border-color: transparent;\n",
              "      border-right-color: var(--fill-color);\n",
              "      border-top-color: var(--fill-color);\n",
              "    }\n",
              "    60% {\n",
              "      border-color: transparent;\n",
              "      border-right-color: var(--fill-color);\n",
              "    }\n",
              "    80% {\n",
              "      border-color: transparent;\n",
              "      border-right-color: var(--fill-color);\n",
              "      border-bottom-color: var(--fill-color);\n",
              "    }\n",
              "    90% {\n",
              "      border-color: transparent;\n",
              "      border-bottom-color: var(--fill-color);\n",
              "    }\n",
              "  }\n",
              "</style>\n",
              "\n",
              "  <script>\n",
              "    async function quickchart(key) {\n",
              "      const quickchartButtonEl =\n",
              "        document.querySelector('#' + key + ' button');\n",
              "      quickchartButtonEl.disabled = true;  // To prevent multiple clicks.\n",
              "      quickchartButtonEl.classList.add('colab-df-spinner');\n",
              "      try {\n",
              "        const charts = await google.colab.kernel.invokeFunction(\n",
              "            'suggestCharts', [key], {});\n",
              "      } catch (error) {\n",
              "        console.error('Error during call to suggestCharts:', error);\n",
              "      }\n",
              "      quickchartButtonEl.classList.remove('colab-df-spinner');\n",
              "      quickchartButtonEl.classList.add('colab-df-quickchart-complete');\n",
              "    }\n",
              "    (() => {\n",
              "      let quickchartButtonEl =\n",
              "        document.querySelector('#df-2f69bb63-d988-428f-9b32-76a022e1bab2 button');\n",
              "      quickchartButtonEl.style.display =\n",
              "        google.colab.kernel.accessAllowed ? 'block' : 'none';\n",
              "    })();\n",
              "  </script>\n",
              "</div>\n",
              "\n",
              "  <div id=\"id_296cbace-998d-4aac-976e-a4941a7e1406\">\n",
              "    <style>\n",
              "      .colab-df-generate {\n",
              "        background-color: #E8F0FE;\n",
              "        border: none;\n",
              "        border-radius: 50%;\n",
              "        cursor: pointer;\n",
              "        display: none;\n",
              "        fill: #1967D2;\n",
              "        height: 32px;\n",
              "        padding: 0 0 0 0;\n",
              "        width: 32px;\n",
              "      }\n",
              "\n",
              "      .colab-df-generate:hover {\n",
              "        background-color: #E2EBFA;\n",
              "        box-shadow: 0px 1px 2px rgba(60, 64, 67, 0.3), 0px 1px 3px 1px rgba(60, 64, 67, 0.15);\n",
              "        fill: #174EA6;\n",
              "      }\n",
              "\n",
              "      [theme=dark] .colab-df-generate {\n",
              "        background-color: #3B4455;\n",
              "        fill: #D2E3FC;\n",
              "      }\n",
              "\n",
              "      [theme=dark] .colab-df-generate:hover {\n",
              "        background-color: #434B5C;\n",
              "        box-shadow: 0px 1px 3px 1px rgba(0, 0, 0, 0.15);\n",
              "        filter: drop-shadow(0px 1px 2px rgba(0, 0, 0, 0.3));\n",
              "        fill: #FFFFFF;\n",
              "      }\n",
              "    </style>\n",
              "    <button class=\"colab-df-generate\" onclick=\"generateWithVariable('tab')\"\n",
              "            title=\"Generate code using this dataframe.\"\n",
              "            style=\"display:none;\">\n",
              "\n",
              "  <svg xmlns=\"http://www.w3.org/2000/svg\" height=\"24px\"viewBox=\"0 0 24 24\"\n",
              "       width=\"24px\">\n",
              "    <path d=\"M7,19H8.4L18.45,9,17,7.55,7,17.6ZM5,21V16.75L18.45,3.32a2,2,0,0,1,2.83,0l1.4,1.43a1.91,1.91,0,0,1,.58,1.4,1.91,1.91,0,0,1-.58,1.4L9.25,21ZM18.45,9,17,7.55Zm-12,3A5.31,5.31,0,0,0,4.9,8.1,5.31,5.31,0,0,0,1,6.5,5.31,5.31,0,0,0,4.9,4.9,5.31,5.31,0,0,0,6.5,1,5.31,5.31,0,0,0,8.1,4.9,5.31,5.31,0,0,0,12,6.5,5.46,5.46,0,0,0,6.5,12Z\"/>\n",
              "  </svg>\n",
              "    </button>\n",
              "    <script>\n",
              "      (() => {\n",
              "      const buttonEl =\n",
              "        document.querySelector('#id_296cbace-998d-4aac-976e-a4941a7e1406 button.colab-df-generate');\n",
              "      buttonEl.style.display =\n",
              "        google.colab.kernel.accessAllowed ? 'block' : 'none';\n",
              "\n",
              "      buttonEl.onclick = () => {\n",
              "        google.colab.notebook.generateWithVariable('tab');\n",
              "      }\n",
              "      })();\n",
              "    </script>\n",
              "  </div>\n",
              "\n",
              "    </div>\n",
              "  </div>\n"
            ],
            "application/vnd.google.colaboratory.intrinsic+json": {
              "type": "dataframe",
              "variable_name": "tab",
              "summary": "{\n  \"name\": \"tab\",\n  \"rows\": 6,\n  \"fields\": [\n    {\n      \"column\": \"of\",\n      \"properties\": {\n        \"dtype\": \"number\",\n        \"std\": 9,\n        \"min\": 26,\n        \"max\": 52,\n        \"num_unique_values\": 5,\n        \"samples\": [\n          30,\n          26,\n          44\n        ],\n        \"semantic_type\": \"\",\n        \"description\": \"\"\n      }\n    },\n    {\n      \"column\": \"prop\",\n      \"properties\": {\n        \"dtype\": \"number\",\n        \"std\": 0.044572039067858074,\n        \"min\": 0.13,\n        \"max\": 0.24,\n        \"num_unique_values\": 5,\n        \"samples\": [\n          0.24,\n          0.14,\n          0.2\n        ],\n        \"semantic_type\": \"\",\n        \"description\": \"\"\n      }\n    }\n  ]\n}"
            }
          },
          "metadata": {},
          "execution_count": 44
        }
      ]
    },
    {
      "cell_type": "code",
      "source": [
        "# 관찰빈도 observed frequency\n",
        "of = tab.of;of"
      ],
      "metadata": {
        "id": "vI2g7DkxHAFv",
        "colab": {
          "base_uri": "https://localhost:8080/"
        },
        "outputId": "9b6cfa99-e09a-4c83-a0fb-702535c2fdb9"
      },
      "execution_count": null,
      "outputs": [
        {
          "output_type": "execute_result",
          "data": {
            "text/plain": [
              "0    38\n",
              "1    30\n",
              "2    44\n",
              "3    52\n",
              "4    30\n",
              "5    26\n",
              "Name: of, dtype: int64"
            ]
          },
          "metadata": {},
          "execution_count": 45
        }
      ]
    },
    {
      "cell_type": "code",
      "source": [
        "# 기대빈도 expected frequency\n",
        "# = 전체 빈도 * 모비율\n",
        "ef = sum(tab.of) * tab.prop;ef"
      ],
      "metadata": {
        "id": "o1iAGjoFGopB",
        "colab": {
          "base_uri": "https://localhost:8080/"
        },
        "outputId": "f18d06f3-1167-4654-8248-d348970bd6f7"
      },
      "execution_count": null,
      "outputs": [
        {
          "output_type": "execute_result",
          "data": {
            "text/plain": [
              "0    28.6\n",
              "1    28.6\n",
              "2    52.8\n",
              "3    44.0\n",
              "4    35.2\n",
              "5    30.8\n",
              "Name: prop, dtype: float64"
            ]
          },
          "metadata": {},
          "execution_count": 46
        }
      ]
    },
    {
      "cell_type": "code",
      "source": [
        "# 카이제곱검정통계량\n",
        "# (O - E)**2/E 의 합 = 검정통계량 = 카이제곱값\n",
        "# 분자 = (관찰빈도 - 기대빈도)2\n",
        "of - ef"
      ],
      "metadata": {
        "id": "teLft_BYGopB",
        "colab": {
          "base_uri": "https://localhost:8080/"
        },
        "outputId": "0726010f-32bc-46d3-b5c9-e7df091fb80d"
      },
      "execution_count": null,
      "outputs": [
        {
          "output_type": "execute_result",
          "data": {
            "text/plain": [
              "0    9.4\n",
              "1    1.4\n",
              "2   -8.8\n",
              "3    8.0\n",
              "4   -5.2\n",
              "5   -4.8\n",
              "dtype: float64"
            ]
          },
          "metadata": {},
          "execution_count": 47
        }
      ]
    },
    {
      "cell_type": "code",
      "source": [
        "# (O - E)**2\n",
        "(of - ef) ** 2"
      ],
      "metadata": {
        "id": "BxS2GllUGopB",
        "colab": {
          "base_uri": "https://localhost:8080/"
        },
        "outputId": "414fe24a-faf5-4d73-94dd-54f982a8f439"
      },
      "execution_count": null,
      "outputs": [
        {
          "output_type": "execute_result",
          "data": {
            "text/plain": [
              "0    88.36\n",
              "1     1.96\n",
              "2    77.44\n",
              "3    64.00\n",
              "4    27.04\n",
              "5    23.04\n",
              "dtype: float64"
            ]
          },
          "metadata": {},
          "execution_count": 48
        }
      ]
    },
    {
      "cell_type": "code",
      "source": [
        "# 분모 = 기대빈도\n",
        "ef"
      ],
      "metadata": {
        "id": "1_Ie0f3jGopB",
        "colab": {
          "base_uri": "https://localhost:8080/"
        },
        "outputId": "18d843c5-39c9-466f-cd02-779013ff544b"
      },
      "execution_count": null,
      "outputs": [
        {
          "output_type": "execute_result",
          "data": {
            "text/plain": [
              "0    28.6\n",
              "1    28.6\n",
              "2    52.8\n",
              "3    44.0\n",
              "4    35.2\n",
              "5    30.8\n",
              "Name: prop, dtype: float64"
            ]
          },
          "metadata": {},
          "execution_count": 49
        }
      ]
    },
    {
      "cell_type": "code",
      "source": [
        "# 분자/분모 의 합\n",
        "# (O - E)**2/E\n",
        "(of - ef) ** 2 / ef"
      ],
      "metadata": {
        "id": "ALMF90cSGopC",
        "colab": {
          "base_uri": "https://localhost:8080/"
        },
        "outputId": "bc8e6012-22dc-4c2c-e899-f9a7567507cc"
      },
      "execution_count": null,
      "outputs": [
        {
          "output_type": "execute_result",
          "data": {
            "text/plain": [
              "0    3.089510\n",
              "1    0.068531\n",
              "2    1.466667\n",
              "3    1.454545\n",
              "4    0.768182\n",
              "5    0.748052\n",
              "dtype: float64"
            ]
          },
          "metadata": {},
          "execution_count": 50
        }
      ]
    },
    {
      "cell_type": "code",
      "source": [
        "# (O - E)**2/E 의 합 = 검정통계량 = 카이제곱값\n",
        "x2v = sum((of - ef) ** 2 / ef);x2v"
      ],
      "metadata": {
        "colab": {
          "base_uri": "https://localhost:8080/"
        },
        "outputId": "5ae56db5-314c-4b57-efce-8a62a355346c",
        "id": "vZxVcKRDGopC"
      },
      "execution_count": null,
      "outputs": [
        {
          "output_type": "execute_result",
          "data": {
            "text/plain": [
              "7.595487845487846"
            ]
          },
          "metadata": {},
          "execution_count": 51
        }
      ]
    },
    {
      "cell_type": "code",
      "source": [
        "# 임계값, 유의수준, 자유도, 우측검정\n",
        "# 자유도 = 그룹의 개수 - 1 = 열 개수 - 1\n",
        "# 분포가 오른쪽에만 있으므로 우측 검정만 고려하면 됨\n",
        "alpha = 0.05\n",
        "df = len(tab) - 1;df"
      ],
      "metadata": {
        "colab": {
          "base_uri": "https://localhost:8080/"
        },
        "outputId": "2fc46780-7a38-40a7-a638-76d64642eb7b",
        "id": "XtOy-IMLGopC"
      },
      "execution_count": null,
      "outputs": [
        {
          "output_type": "execute_result",
          "data": {
            "text/plain": [
              "5"
            ]
          },
          "metadata": {},
          "execution_count": 52
        }
      ]
    },
    {
      "cell_type": "code",
      "source": [
        "cv = chi2.ppf(1 - alpha, df);cv"
      ],
      "metadata": {
        "colab": {
          "base_uri": "https://localhost:8080/"
        },
        "outputId": "16a897bd-cdaa-422a-c5e1-f1df7dbb110b",
        "id": "cYTHK4uNGopC"
      },
      "execution_count": null,
      "outputs": [
        {
          "output_type": "execute_result",
          "data": {
            "text/plain": [
              "11.070497693516351"
            ]
          },
          "metadata": {},
          "execution_count": 53
        }
      ]
    },
    {
      "cell_type": "code",
      "source": [
        "# 결론\n",
        "cv < x2v\n",
        "# 왼쪽 = 채택역 = 귀무가설 채택 = 대립가설 기각 = 차이가 없다\n",
        "# 관찰된 색상 비율이 공식적으로 발표한 비율과 같다 = 통계적으로 유의하지 않다\n",
        "# 모비율과 같다 = 공식적 색상 분포와 같다"
      ],
      "metadata": {
        "colab": {
          "base_uri": "https://localhost:8080/"
        },
        "outputId": "aa54926e-f019-4579-e3d0-faf793e51e5e",
        "id": "lVhonvtvGopC"
      },
      "execution_count": null,
      "outputs": [
        {
          "output_type": "execute_result",
          "data": {
            "text/plain": [
              "False"
            ]
          },
          "metadata": {},
          "execution_count": 54
        }
      ]
    },
    {
      "cell_type": "code",
      "source": [
        "# 유의확률\n",
        "pv = 1 - chi2.cdf(x2v, df);pv"
      ],
      "metadata": {
        "colab": {
          "base_uri": "https://localhost:8080/"
        },
        "outputId": "e7aef6f4-caf2-4631-a646-de0508ea75bb",
        "id": "C78mV90pGopC"
      },
      "execution_count": null,
      "outputs": [
        {
          "output_type": "execute_result",
          "data": {
            "text/plain": [
              "0.179983369161286"
            ]
          },
          "metadata": {},
          "execution_count": 55
        }
      ]
    },
    {
      "cell_type": "code",
      "source": [
        "# 결론\n",
        "alpha > pv\n",
        "# 왼쪽 = 채택역 = 귀무가설 채택 = 대립가설 기각 = 차이가 없다\n",
        "# 관찰된 색상 비율이 공식적으로 발표한 비율과 같다 = 통계적으로 유의하지 않다"
      ],
      "metadata": {
        "colab": {
          "base_uri": "https://localhost:8080/"
        },
        "outputId": "19c90fd5-c898-4042-e6d5-937d1143c56f",
        "id": "22WFqC5DGopC"
      },
      "execution_count": null,
      "outputs": [
        {
          "output_type": "execute_result",
          "data": {
            "text/plain": [
              "False"
            ]
          },
          "metadata": {},
          "execution_count": 56
        }
      ]
    },
    {
      "cell_type": "code",
      "source": [
        "# 함수 사용한 검정\n",
        "from scipy.stats import chisquare\n",
        "chisquare(of, f_exp = ef)"
      ],
      "metadata": {
        "colab": {
          "base_uri": "https://localhost:8080/"
        },
        "outputId": "a8d0d5da-92b0-4302-fd4c-6b4ed9eb0552",
        "id": "V7jah7LQGopC"
      },
      "execution_count": null,
      "outputs": [
        {
          "output_type": "execute_result",
          "data": {
            "text/plain": [
              "Power_divergenceResult(statistic=7.595487845487846, pvalue=0.17998336916128593)"
            ]
          },
          "metadata": {},
          "execution_count": 57
        }
      ]
    },
    {
      "cell_type": "code",
      "source": [
        "x2v, pv = chisquare(of, f_exp = ef)\n",
        "print(\"검정통계량: \", x2v)\n",
        "print(\"유의확률: {:.6f}\".format(pv))"
      ],
      "metadata": {
        "colab": {
          "base_uri": "https://localhost:8080/"
        },
        "outputId": "ee4c5459-9def-4f0a-dcda-ab251c05a124",
        "id": "rkvSI3nGGopD"
      },
      "execution_count": null,
      "outputs": [
        {
          "output_type": "stream",
          "name": "stdout",
          "text": [
            "검정통계량:  7.595487845487846\n",
            "유의확률: 0.179983\n"
          ]
        }
      ]
    },
    {
      "cell_type": "markdown",
      "source": [
        "## 독립성검정"
      ],
      "metadata": {
        "id": "xFVnmUa4Yabr"
      }
    },
    {
      "cell_type": "code",
      "source": [
        "# 성별, 투표참여여부\n",
        "# row = 투표참여여부(투표참여, 투표불참)\n",
        "# col = 성별(남성, 여성)\n",
        "tab = pd.DataFrame({'male': [37, 20],\n",
        "                    'female': [32, 31]},\n",
        "                   index = ['yes', 'no'])\n",
        "tab"
      ],
      "metadata": {
        "id": "t9J_3G2Mg0Z7",
        "colab": {
          "base_uri": "https://localhost:8080/",
          "height": 125
        },
        "outputId": "1a9aa840-3253-4eab-91a4-e418a2720952"
      },
      "execution_count": null,
      "outputs": [
        {
          "output_type": "execute_result",
          "data": {
            "text/plain": [
              "     male  female\n",
              "yes    37      32\n",
              "no     20      31"
            ],
            "text/html": [
              "\n",
              "  <div id=\"df-efe813a5-c9b8-4588-9d63-2dc57322de44\" class=\"colab-df-container\">\n",
              "    <div>\n",
              "<style scoped>\n",
              "    .dataframe tbody tr th:only-of-type {\n",
              "        vertical-align: middle;\n",
              "    }\n",
              "\n",
              "    .dataframe tbody tr th {\n",
              "        vertical-align: top;\n",
              "    }\n",
              "\n",
              "    .dataframe thead th {\n",
              "        text-align: right;\n",
              "    }\n",
              "</style>\n",
              "<table border=\"1\" class=\"dataframe\">\n",
              "  <thead>\n",
              "    <tr style=\"text-align: right;\">\n",
              "      <th></th>\n",
              "      <th>male</th>\n",
              "      <th>female</th>\n",
              "    </tr>\n",
              "  </thead>\n",
              "  <tbody>\n",
              "    <tr>\n",
              "      <th>yes</th>\n",
              "      <td>37</td>\n",
              "      <td>32</td>\n",
              "    </tr>\n",
              "    <tr>\n",
              "      <th>no</th>\n",
              "      <td>20</td>\n",
              "      <td>31</td>\n",
              "    </tr>\n",
              "  </tbody>\n",
              "</table>\n",
              "</div>\n",
              "    <div class=\"colab-df-buttons\">\n",
              "\n",
              "  <div class=\"colab-df-container\">\n",
              "    <button class=\"colab-df-convert\" onclick=\"convertToInteractive('df-efe813a5-c9b8-4588-9d63-2dc57322de44')\"\n",
              "            title=\"Convert this dataframe to an interactive table.\"\n",
              "            style=\"display:none;\">\n",
              "\n",
              "  <svg xmlns=\"http://www.w3.org/2000/svg\" height=\"24px\" viewBox=\"0 -960 960 960\">\n",
              "    <path d=\"M120-120v-720h720v720H120Zm60-500h600v-160H180v160Zm220 220h160v-160H400v160Zm0 220h160v-160H400v160ZM180-400h160v-160H180v160Zm440 0h160v-160H620v160ZM180-180h160v-160H180v160Zm440 0h160v-160H620v160Z\"/>\n",
              "  </svg>\n",
              "    </button>\n",
              "\n",
              "  <style>\n",
              "    .colab-df-container {\n",
              "      display:flex;\n",
              "      gap: 12px;\n",
              "    }\n",
              "\n",
              "    .colab-df-convert {\n",
              "      background-color: #E8F0FE;\n",
              "      border: none;\n",
              "      border-radius: 50%;\n",
              "      cursor: pointer;\n",
              "      display: none;\n",
              "      fill: #1967D2;\n",
              "      height: 32px;\n",
              "      padding: 0 0 0 0;\n",
              "      width: 32px;\n",
              "    }\n",
              "\n",
              "    .colab-df-convert:hover {\n",
              "      background-color: #E2EBFA;\n",
              "      box-shadow: 0px 1px 2px rgba(60, 64, 67, 0.3), 0px 1px 3px 1px rgba(60, 64, 67, 0.15);\n",
              "      fill: #174EA6;\n",
              "    }\n",
              "\n",
              "    .colab-df-buttons div {\n",
              "      margin-bottom: 4px;\n",
              "    }\n",
              "\n",
              "    [theme=dark] .colab-df-convert {\n",
              "      background-color: #3B4455;\n",
              "      fill: #D2E3FC;\n",
              "    }\n",
              "\n",
              "    [theme=dark] .colab-df-convert:hover {\n",
              "      background-color: #434B5C;\n",
              "      box-shadow: 0px 1px 3px 1px rgba(0, 0, 0, 0.15);\n",
              "      filter: drop-shadow(0px 1px 2px rgba(0, 0, 0, 0.3));\n",
              "      fill: #FFFFFF;\n",
              "    }\n",
              "  </style>\n",
              "\n",
              "    <script>\n",
              "      const buttonEl =\n",
              "        document.querySelector('#df-efe813a5-c9b8-4588-9d63-2dc57322de44 button.colab-df-convert');\n",
              "      buttonEl.style.display =\n",
              "        google.colab.kernel.accessAllowed ? 'block' : 'none';\n",
              "\n",
              "      async function convertToInteractive(key) {\n",
              "        const element = document.querySelector('#df-efe813a5-c9b8-4588-9d63-2dc57322de44');\n",
              "        const dataTable =\n",
              "          await google.colab.kernel.invokeFunction('convertToInteractive',\n",
              "                                                    [key], {});\n",
              "        if (!dataTable) return;\n",
              "\n",
              "        const docLinkHtml = 'Like what you see? Visit the ' +\n",
              "          '<a target=\"_blank\" href=https://colab.research.google.com/notebooks/data_table.ipynb>data table notebook</a>'\n",
              "          + ' to learn more about interactive tables.';\n",
              "        element.innerHTML = '';\n",
              "        dataTable['output_type'] = 'display_data';\n",
              "        await google.colab.output.renderOutput(dataTable, element);\n",
              "        const docLink = document.createElement('div');\n",
              "        docLink.innerHTML = docLinkHtml;\n",
              "        element.appendChild(docLink);\n",
              "      }\n",
              "    </script>\n",
              "  </div>\n",
              "\n",
              "\n",
              "<div id=\"df-81ead427-6c9b-468d-b2c7-8e8e333915c0\">\n",
              "  <button class=\"colab-df-quickchart\" onclick=\"quickchart('df-81ead427-6c9b-468d-b2c7-8e8e333915c0')\"\n",
              "            title=\"Suggest charts\"\n",
              "            style=\"display:none;\">\n",
              "\n",
              "<svg xmlns=\"http://www.w3.org/2000/svg\" height=\"24px\"viewBox=\"0 0 24 24\"\n",
              "     width=\"24px\">\n",
              "    <g>\n",
              "        <path d=\"M19 3H5c-1.1 0-2 .9-2 2v14c0 1.1.9 2 2 2h14c1.1 0 2-.9 2-2V5c0-1.1-.9-2-2-2zM9 17H7v-7h2v7zm4 0h-2V7h2v10zm4 0h-2v-4h2v4z\"/>\n",
              "    </g>\n",
              "</svg>\n",
              "  </button>\n",
              "\n",
              "<style>\n",
              "  .colab-df-quickchart {\n",
              "      --bg-color: #E8F0FE;\n",
              "      --fill-color: #1967D2;\n",
              "      --hover-bg-color: #E2EBFA;\n",
              "      --hover-fill-color: #174EA6;\n",
              "      --disabled-fill-color: #AAA;\n",
              "      --disabled-bg-color: #DDD;\n",
              "  }\n",
              "\n",
              "  [theme=dark] .colab-df-quickchart {\n",
              "      --bg-color: #3B4455;\n",
              "      --fill-color: #D2E3FC;\n",
              "      --hover-bg-color: #434B5C;\n",
              "      --hover-fill-color: #FFFFFF;\n",
              "      --disabled-bg-color: #3B4455;\n",
              "      --disabled-fill-color: #666;\n",
              "  }\n",
              "\n",
              "  .colab-df-quickchart {\n",
              "    background-color: var(--bg-color);\n",
              "    border: none;\n",
              "    border-radius: 50%;\n",
              "    cursor: pointer;\n",
              "    display: none;\n",
              "    fill: var(--fill-color);\n",
              "    height: 32px;\n",
              "    padding: 0;\n",
              "    width: 32px;\n",
              "  }\n",
              "\n",
              "  .colab-df-quickchart:hover {\n",
              "    background-color: var(--hover-bg-color);\n",
              "    box-shadow: 0 1px 2px rgba(60, 64, 67, 0.3), 0 1px 3px 1px rgba(60, 64, 67, 0.15);\n",
              "    fill: var(--button-hover-fill-color);\n",
              "  }\n",
              "\n",
              "  .colab-df-quickchart-complete:disabled,\n",
              "  .colab-df-quickchart-complete:disabled:hover {\n",
              "    background-color: var(--disabled-bg-color);\n",
              "    fill: var(--disabled-fill-color);\n",
              "    box-shadow: none;\n",
              "  }\n",
              "\n",
              "  .colab-df-spinner {\n",
              "    border: 2px solid var(--fill-color);\n",
              "    border-color: transparent;\n",
              "    border-bottom-color: var(--fill-color);\n",
              "    animation:\n",
              "      spin 1s steps(1) infinite;\n",
              "  }\n",
              "\n",
              "  @keyframes spin {\n",
              "    0% {\n",
              "      border-color: transparent;\n",
              "      border-bottom-color: var(--fill-color);\n",
              "      border-left-color: var(--fill-color);\n",
              "    }\n",
              "    20% {\n",
              "      border-color: transparent;\n",
              "      border-left-color: var(--fill-color);\n",
              "      border-top-color: var(--fill-color);\n",
              "    }\n",
              "    30% {\n",
              "      border-color: transparent;\n",
              "      border-left-color: var(--fill-color);\n",
              "      border-top-color: var(--fill-color);\n",
              "      border-right-color: var(--fill-color);\n",
              "    }\n",
              "    40% {\n",
              "      border-color: transparent;\n",
              "      border-right-color: var(--fill-color);\n",
              "      border-top-color: var(--fill-color);\n",
              "    }\n",
              "    60% {\n",
              "      border-color: transparent;\n",
              "      border-right-color: var(--fill-color);\n",
              "    }\n",
              "    80% {\n",
              "      border-color: transparent;\n",
              "      border-right-color: var(--fill-color);\n",
              "      border-bottom-color: var(--fill-color);\n",
              "    }\n",
              "    90% {\n",
              "      border-color: transparent;\n",
              "      border-bottom-color: var(--fill-color);\n",
              "    }\n",
              "  }\n",
              "</style>\n",
              "\n",
              "  <script>\n",
              "    async function quickchart(key) {\n",
              "      const quickchartButtonEl =\n",
              "        document.querySelector('#' + key + ' button');\n",
              "      quickchartButtonEl.disabled = true;  // To prevent multiple clicks.\n",
              "      quickchartButtonEl.classList.add('colab-df-spinner');\n",
              "      try {\n",
              "        const charts = await google.colab.kernel.invokeFunction(\n",
              "            'suggestCharts', [key], {});\n",
              "      } catch (error) {\n",
              "        console.error('Error during call to suggestCharts:', error);\n",
              "      }\n",
              "      quickchartButtonEl.classList.remove('colab-df-spinner');\n",
              "      quickchartButtonEl.classList.add('colab-df-quickchart-complete');\n",
              "    }\n",
              "    (() => {\n",
              "      let quickchartButtonEl =\n",
              "        document.querySelector('#df-81ead427-6c9b-468d-b2c7-8e8e333915c0 button');\n",
              "      quickchartButtonEl.style.display =\n",
              "        google.colab.kernel.accessAllowed ? 'block' : 'none';\n",
              "    })();\n",
              "  </script>\n",
              "</div>\n",
              "\n",
              "  <div id=\"id_46c4ef53-356e-4492-81d9-556420031b62\">\n",
              "    <style>\n",
              "      .colab-df-generate {\n",
              "        background-color: #E8F0FE;\n",
              "        border: none;\n",
              "        border-radius: 50%;\n",
              "        cursor: pointer;\n",
              "        display: none;\n",
              "        fill: #1967D2;\n",
              "        height: 32px;\n",
              "        padding: 0 0 0 0;\n",
              "        width: 32px;\n",
              "      }\n",
              "\n",
              "      .colab-df-generate:hover {\n",
              "        background-color: #E2EBFA;\n",
              "        box-shadow: 0px 1px 2px rgba(60, 64, 67, 0.3), 0px 1px 3px 1px rgba(60, 64, 67, 0.15);\n",
              "        fill: #174EA6;\n",
              "      }\n",
              "\n",
              "      [theme=dark] .colab-df-generate {\n",
              "        background-color: #3B4455;\n",
              "        fill: #D2E3FC;\n",
              "      }\n",
              "\n",
              "      [theme=dark] .colab-df-generate:hover {\n",
              "        background-color: #434B5C;\n",
              "        box-shadow: 0px 1px 3px 1px rgba(0, 0, 0, 0.15);\n",
              "        filter: drop-shadow(0px 1px 2px rgba(0, 0, 0, 0.3));\n",
              "        fill: #FFFFFF;\n",
              "      }\n",
              "    </style>\n",
              "    <button class=\"colab-df-generate\" onclick=\"generateWithVariable('tab')\"\n",
              "            title=\"Generate code using this dataframe.\"\n",
              "            style=\"display:none;\">\n",
              "\n",
              "  <svg xmlns=\"http://www.w3.org/2000/svg\" height=\"24px\"viewBox=\"0 0 24 24\"\n",
              "       width=\"24px\">\n",
              "    <path d=\"M7,19H8.4L18.45,9,17,7.55,7,17.6ZM5,21V16.75L18.45,3.32a2,2,0,0,1,2.83,0l1.4,1.43a1.91,1.91,0,0,1,.58,1.4,1.91,1.91,0,0,1-.58,1.4L9.25,21ZM18.45,9,17,7.55Zm-12,3A5.31,5.31,0,0,0,4.9,8.1,5.31,5.31,0,0,0,1,6.5,5.31,5.31,0,0,0,4.9,4.9,5.31,5.31,0,0,0,6.5,1,5.31,5.31,0,0,0,8.1,4.9,5.31,5.31,0,0,0,12,6.5,5.46,5.46,0,0,0,6.5,12Z\"/>\n",
              "  </svg>\n",
              "    </button>\n",
              "    <script>\n",
              "      (() => {\n",
              "      const buttonEl =\n",
              "        document.querySelector('#id_46c4ef53-356e-4492-81d9-556420031b62 button.colab-df-generate');\n",
              "      buttonEl.style.display =\n",
              "        google.colab.kernel.accessAllowed ? 'block' : 'none';\n",
              "\n",
              "      buttonEl.onclick = () => {\n",
              "        google.colab.notebook.generateWithVariable('tab');\n",
              "      }\n",
              "      })();\n",
              "    </script>\n",
              "  </div>\n",
              "\n",
              "    </div>\n",
              "  </div>\n"
            ],
            "application/vnd.google.colaboratory.intrinsic+json": {
              "type": "dataframe",
              "variable_name": "tab",
              "summary": "{\n  \"name\": \"tab\",\n  \"rows\": 2,\n  \"fields\": [\n    {\n      \"column\": \"male\",\n      \"properties\": {\n        \"dtype\": \"number\",\n        \"std\": 12,\n        \"min\": 20,\n        \"max\": 37,\n        \"num_unique_values\": 2,\n        \"samples\": [\n          20,\n          37\n        ],\n        \"semantic_type\": \"\",\n        \"description\": \"\"\n      }\n    },\n    {\n      \"column\": \"female\",\n      \"properties\": {\n        \"dtype\": \"number\",\n        \"std\": 0,\n        \"min\": 31,\n        \"max\": 32,\n        \"num_unique_values\": 2,\n        \"samples\": [\n          31,\n          32\n        ],\n        \"semantic_type\": \"\",\n        \"description\": \"\"\n      }\n    }\n  ]\n}"
            }
          },
          "metadata": {},
          "execution_count": 59
        }
      ]
    },
    {
      "cell_type": "code",
      "source": [
        "# 행 합계\n",
        "tab.sum(axis = 1)"
      ],
      "metadata": {
        "id": "5QKNappLhVTM",
        "colab": {
          "base_uri": "https://localhost:8080/"
        },
        "outputId": "1bf4f743-482b-46fa-963a-20d288581f6f"
      },
      "execution_count": null,
      "outputs": [
        {
          "output_type": "execute_result",
          "data": {
            "text/plain": [
              "yes    69\n",
              "no     51\n",
              "dtype: int64"
            ]
          },
          "metadata": {},
          "execution_count": 60
        }
      ]
    },
    {
      "cell_type": "code",
      "source": [
        "# R1, R2\n",
        "r1 = tab.sum(axis = 1)[0]\n",
        "r2 = tab.sum(axis = 1)[1]\n",
        "print(r1, r2)\n",
        "# r1, r2 = tab.sum(axis = 1)\n",
        "# print(r1, r2)"
      ],
      "metadata": {
        "id": "errF0BcWhnGf",
        "colab": {
          "base_uri": "https://localhost:8080/"
        },
        "outputId": "cb589282-62c4-4459-f17d-abefba770692"
      },
      "execution_count": null,
      "outputs": [
        {
          "output_type": "stream",
          "name": "stdout",
          "text": [
            "69 51\n"
          ]
        }
      ]
    },
    {
      "cell_type": "code",
      "source": [
        "# 열 합계\n",
        "tab.sum()"
      ],
      "metadata": {
        "id": "a4cm5g8qhvvu",
        "colab": {
          "base_uri": "https://localhost:8080/"
        },
        "outputId": "56444937-3694-4a13-83d9-5a3a653cbd36"
      },
      "execution_count": null,
      "outputs": [
        {
          "output_type": "execute_result",
          "data": {
            "text/plain": [
              "male      57\n",
              "female    63\n",
              "dtype: int64"
            ]
          },
          "metadata": {},
          "execution_count": 62
        }
      ]
    },
    {
      "cell_type": "code",
      "source": [
        "# C1, C2\n",
        "c1 = tab.sum()[0]\n",
        "c2 = tab.sum()[1]\n",
        "print(c1, c2)\n",
        "# c1, c2 = tab.sum(axis = 0)\n",
        "# print(c1, c2)"
      ],
      "metadata": {
        "colab": {
          "base_uri": "https://localhost:8080/"
        },
        "id": "dVCvhHiTh7Dl",
        "outputId": "9726b09e-7500-4c6b-bad7-017b60152ab9"
      },
      "execution_count": null,
      "outputs": [
        {
          "output_type": "stream",
          "name": "stdout",
          "text": [
            "57 63\n"
          ]
        }
      ]
    },
    {
      "cell_type": "code",
      "source": [
        "# 전체 빈도\n",
        "total = sum([c1, c2]);total\n",
        "# total = sum(tab.sum());total"
      ],
      "metadata": {
        "colab": {
          "base_uri": "https://localhost:8080/"
        },
        "id": "249njs6_iQ0c",
        "outputId": "0bbc361c-bc8e-4808-c5a9-81613a02cc33"
      },
      "execution_count": null,
      "outputs": [
        {
          "output_type": "execute_result",
          "data": {
            "text/plain": [
              "120"
            ]
          },
          "metadata": {},
          "execution_count": 64
        }
      ]
    },
    {
      "cell_type": "code",
      "source": [
        "# 기대빈도\n",
        "e11 = (r1*c1)/total\n",
        "e12 = (r1*c2)/total\n",
        "e21 = (r2*c1)/total\n",
        "e22 = (r2*c2)/total\n",
        "print(e11, e12, e21, e22)"
      ],
      "metadata": {
        "colab": {
          "base_uri": "https://localhost:8080/"
        },
        "id": "MKwit7PaiGft",
        "outputId": "61f000a7-49fa-4ffc-e5cb-e210c92f86f6"
      },
      "execution_count": null,
      "outputs": [
        {
          "output_type": "stream",
          "name": "stdout",
          "text": [
            "32.775 36.225 24.225 26.775\n"
          ]
        }
      ]
    },
    {
      "cell_type": "code",
      "source": [
        "# 행 합계\n",
        "tab_r = pd.Series([r1, r2]);print(tab_r)\n",
        "# 열 합계\n",
        "tab_c = pd.Series([c1, c2]);print(tab_c)"
      ],
      "metadata": {
        "colab": {
          "base_uri": "https://localhost:8080/"
        },
        "id": "VO_8Y2cumYvD",
        "outputId": "4c149b1f-f260-4e22-87fb-611c540d46b1"
      },
      "execution_count": null,
      "outputs": [
        {
          "output_type": "stream",
          "name": "stdout",
          "text": [
            "0    69\n",
            "1    51\n",
            "dtype: int64\n",
            "0    57\n",
            "1    63\n",
            "dtype: int64\n"
          ]
        }
      ]
    },
    {
      "cell_type": "code",
      "source": [
        "# 기대빈도\n",
        "tab_rc = []\n",
        "for i in tab_r:\n",
        "  for j in tab_c:\n",
        "    k = i * j\n",
        "    tab_rc.append(k)\n",
        "# R * C\n",
        "tab_rc = pd.Series(tab_rc)\n",
        "print(tab_rc)\n",
        "# E = R*C / total\n",
        "tab_e = tab_rc / total\n",
        "print(tab_e)"
      ],
      "metadata": {
        "colab": {
          "base_uri": "https://localhost:8080/"
        },
        "id": "m8oXKd34nAC-",
        "outputId": "4e80900e-0501-4f85-ce3a-96978d71d136"
      },
      "execution_count": null,
      "outputs": [
        {
          "output_type": "stream",
          "name": "stdout",
          "text": [
            "0    3933\n",
            "1    4347\n",
            "2    2907\n",
            "3    3213\n",
            "dtype: int64\n",
            "0    32.775\n",
            "1    36.225\n",
            "2    24.225\n",
            "3    26.775\n",
            "dtype: float64\n"
          ]
        }
      ]
    },
    {
      "cell_type": "code",
      "source": [
        "# 검정통계량\n",
        "x2v = \\\n",
        "(tab.iloc[0,0] - e11)**2 / e11 + \\\n",
        "(tab.iloc[0,1] - e12)**2 / e12 + \\\n",
        "(tab.iloc[1,0] - e21)**2 / e21 + \\\n",
        "(tab.iloc[1,1] - e22)**2 / e22\n",
        "x2v"
      ],
      "metadata": {
        "colab": {
          "base_uri": "https://localhost:8080/"
        },
        "id": "FOOJ-QTdix2E",
        "outputId": "07b3cf95-4e85-49fa-c86e-4dca64045c37"
      },
      "execution_count": null,
      "outputs": [
        {
          "output_type": "execute_result",
          "data": {
            "text/plain": [
              "2.440970285902311"
            ]
          },
          "metadata": {},
          "execution_count": 68
        }
      ]
    },
    {
      "cell_type": "code",
      "source": [
        "# 검정통계량\n",
        "of = pd.Series([37, 32, 20, 31]);print(of)\n",
        "x2v = sum((of - tab_e)**2/tab_e);x2v"
      ],
      "metadata": {
        "id": "S1ko9rjTzmCx",
        "colab": {
          "base_uri": "https://localhost:8080/"
        },
        "outputId": "85b52a6e-6394-4299-d91d-9d16f7288d1f"
      },
      "execution_count": null,
      "outputs": [
        {
          "output_type": "stream",
          "name": "stdout",
          "text": [
            "0    37\n",
            "1    32\n",
            "2    20\n",
            "3    31\n",
            "dtype: int64\n"
          ]
        },
        {
          "output_type": "execute_result",
          "data": {
            "text/plain": [
              "2.440970285902311"
            ]
          },
          "metadata": {},
          "execution_count": 69
        }
      ]
    },
    {
      "cell_type": "code",
      "source": [
        "# 임계값, 유의수준, 자유도, 우측검정\n",
        "alpha = 0.05\n",
        "df = (len(tab.index) - 1) * (len(tab.columns) - 1);df"
      ],
      "metadata": {
        "colab": {
          "base_uri": "https://localhost:8080/"
        },
        "id": "pECPaweZjlFs",
        "outputId": "59d3b029-eb19-41c6-854e-5de342e61aa3"
      },
      "execution_count": null,
      "outputs": [
        {
          "output_type": "execute_result",
          "data": {
            "text/plain": [
              "1"
            ]
          },
          "metadata": {},
          "execution_count": 70
        }
      ]
    },
    {
      "cell_type": "code",
      "source": [
        "# 임계값\n",
        "cv = chi2.ppf(1 - alpha, df);cv"
      ],
      "metadata": {
        "colab": {
          "base_uri": "https://localhost:8080/"
        },
        "id": "XFoxsk3rj_CE",
        "outputId": "1462712a-a9e7-48db-e81a-985710985e9c"
      },
      "execution_count": null,
      "outputs": [
        {
          "output_type": "execute_result",
          "data": {
            "text/plain": [
              "3.841458820694124"
            ]
          },
          "metadata": {},
          "execution_count": 71
        }
      ]
    },
    {
      "cell_type": "code",
      "source": [
        "# 결론\n",
        "cv < x2v\n",
        "# 왼쪽 = 채택역 = 귀무가설 채택 = 대립가설 기각 = 차이가 없다\n",
        "# 성별과 투표참여여부는 독립이다 = 연관이 없다 = 통계적으로 유의하지 않다"
      ],
      "metadata": {
        "colab": {
          "base_uri": "https://localhost:8080/"
        },
        "id": "oxppUdZWkNU9",
        "outputId": "c3390fd0-c602-41df-f9cc-0150475b6090"
      },
      "execution_count": null,
      "outputs": [
        {
          "output_type": "execute_result",
          "data": {
            "text/plain": [
              "False"
            ]
          },
          "metadata": {},
          "execution_count": 72
        }
      ]
    },
    {
      "cell_type": "code",
      "source": [
        "# 유의확률\n",
        "pv = 1 - chi2.cdf(x2v, df);pv"
      ],
      "metadata": {
        "colab": {
          "base_uri": "https://localhost:8080/"
        },
        "id": "c7WSF1fZkReV",
        "outputId": "5cab0b3b-311f-452c-c9d6-9ef4af6794e3"
      },
      "execution_count": null,
      "outputs": [
        {
          "output_type": "execute_result",
          "data": {
            "text/plain": [
              "0.11820309038082188"
            ]
          },
          "metadata": {},
          "execution_count": 73
        }
      ]
    },
    {
      "cell_type": "code",
      "source": [
        "# 결론\n",
        "alpha > pv\n",
        "# 왼쪽 = 채택역 = 귀무가설 채택 = 대립가설 기각 = 차이가 없다\n",
        "# 성별과 투표참여여부는 독립이다 = 연관이 없다 = 통계적으로 유의하지 않다"
      ],
      "metadata": {
        "colab": {
          "base_uri": "https://localhost:8080/"
        },
        "id": "huT1Hrdzkig9",
        "outputId": "690692cf-2ca5-4574-fc4f-f7913ac842b4"
      },
      "execution_count": null,
      "outputs": [
        {
          "output_type": "execute_result",
          "data": {
            "text/plain": [
              "False"
            ]
          },
          "metadata": {},
          "execution_count": 74
        }
      ]
    },
    {
      "cell_type": "code",
      "source": [
        "# 함수 이용한 검정\n",
        "from scipy.stats import chi2_contingency\n",
        "# 기본값 correction = True => Yate's correction\n",
        "# Yates' continuity correction: 2개의 그룹을 가진 변수들만 사용 가능\n",
        "# 피어슨 카이제곱은 충분한 표본 수가 확보되었다는 전제하에 시행\n",
        "# 표본의 수가 적을 때는 오차가 발생할 수 있으며, 이를 보정한 것이 Yates' continuity correct\n",
        "# 적용하면 검정통계량이 더 낮게 나옴\n",
        "\n",
        "# correction = False => Yate's correction 적용하지 않음\n",
        "chi2_contingency(tab, correction = False)\n",
        "# 샘플이 충분하지 않을 때 Yate's correction 적용함"
      ],
      "metadata": {
        "colab": {
          "base_uri": "https://localhost:8080/"
        },
        "id": "5Oi1R2nRklzc",
        "outputId": "0a8f05d6-4a91-407b-aad3-6ea1f90ff507"
      },
      "execution_count": null,
      "outputs": [
        {
          "output_type": "execute_result",
          "data": {
            "text/plain": [
              "Chi2ContingencyResult(statistic=2.440970285902311, pvalue=0.11820309038082191, dof=1, expected_freq=array([[32.775, 36.225],\n",
              "       [24.225, 26.775]]))"
            ]
          },
          "metadata": {},
          "execution_count": 75
        }
      ]
    },
    {
      "cell_type": "markdown",
      "source": [
        "## 문제풀이"
      ],
      "metadata": {
        "id": "TGxSzU_XwVB9"
      }
    },
    {
      "cell_type": "markdown",
      "source": [
        "### 문제1"
      ],
      "metadata": {
        "id": "T9WGq5dTwVCD"
      }
    },
    {
      "cell_type": "code",
      "source": [
        "# 독립성 검정\n",
        "# row = 감염여부\n",
        "# col = 백신접종(무, 1회, 2회)\n",
        "tab = pd.DataFrame({'no': [24,289],\n",
        "                   'once': [9,100],\n",
        "                   'twice': [13,565]},\n",
        "                  index = ['yes','no'])\n",
        "tab"
      ],
      "metadata": {
        "id": "1xhOV0_3k8MN",
        "colab": {
          "base_uri": "https://localhost:8080/",
          "height": 125
        },
        "outputId": "0281f70f-6e6e-49e8-93fc-6f080144f400"
      },
      "execution_count": null,
      "outputs": [
        {
          "output_type": "execute_result",
          "data": {
            "text/plain": [
              "      no  once  twice\n",
              "yes   24     9     13\n",
              "no   289   100    565"
            ],
            "text/html": [
              "\n",
              "  <div id=\"df-dc578fe3-ee28-4c66-b207-6e41a1813d1d\" class=\"colab-df-container\">\n",
              "    <div>\n",
              "<style scoped>\n",
              "    .dataframe tbody tr th:only-of-type {\n",
              "        vertical-align: middle;\n",
              "    }\n",
              "\n",
              "    .dataframe tbody tr th {\n",
              "        vertical-align: top;\n",
              "    }\n",
              "\n",
              "    .dataframe thead th {\n",
              "        text-align: right;\n",
              "    }\n",
              "</style>\n",
              "<table border=\"1\" class=\"dataframe\">\n",
              "  <thead>\n",
              "    <tr style=\"text-align: right;\">\n",
              "      <th></th>\n",
              "      <th>no</th>\n",
              "      <th>once</th>\n",
              "      <th>twice</th>\n",
              "    </tr>\n",
              "  </thead>\n",
              "  <tbody>\n",
              "    <tr>\n",
              "      <th>yes</th>\n",
              "      <td>24</td>\n",
              "      <td>9</td>\n",
              "      <td>13</td>\n",
              "    </tr>\n",
              "    <tr>\n",
              "      <th>no</th>\n",
              "      <td>289</td>\n",
              "      <td>100</td>\n",
              "      <td>565</td>\n",
              "    </tr>\n",
              "  </tbody>\n",
              "</table>\n",
              "</div>\n",
              "    <div class=\"colab-df-buttons\">\n",
              "\n",
              "  <div class=\"colab-df-container\">\n",
              "    <button class=\"colab-df-convert\" onclick=\"convertToInteractive('df-dc578fe3-ee28-4c66-b207-6e41a1813d1d')\"\n",
              "            title=\"Convert this dataframe to an interactive table.\"\n",
              "            style=\"display:none;\">\n",
              "\n",
              "  <svg xmlns=\"http://www.w3.org/2000/svg\" height=\"24px\" viewBox=\"0 -960 960 960\">\n",
              "    <path d=\"M120-120v-720h720v720H120Zm60-500h600v-160H180v160Zm220 220h160v-160H400v160Zm0 220h160v-160H400v160ZM180-400h160v-160H180v160Zm440 0h160v-160H620v160ZM180-180h160v-160H180v160Zm440 0h160v-160H620v160Z\"/>\n",
              "  </svg>\n",
              "    </button>\n",
              "\n",
              "  <style>\n",
              "    .colab-df-container {\n",
              "      display:flex;\n",
              "      gap: 12px;\n",
              "    }\n",
              "\n",
              "    .colab-df-convert {\n",
              "      background-color: #E8F0FE;\n",
              "      border: none;\n",
              "      border-radius: 50%;\n",
              "      cursor: pointer;\n",
              "      display: none;\n",
              "      fill: #1967D2;\n",
              "      height: 32px;\n",
              "      padding: 0 0 0 0;\n",
              "      width: 32px;\n",
              "    }\n",
              "\n",
              "    .colab-df-convert:hover {\n",
              "      background-color: #E2EBFA;\n",
              "      box-shadow: 0px 1px 2px rgba(60, 64, 67, 0.3), 0px 1px 3px 1px rgba(60, 64, 67, 0.15);\n",
              "      fill: #174EA6;\n",
              "    }\n",
              "\n",
              "    .colab-df-buttons div {\n",
              "      margin-bottom: 4px;\n",
              "    }\n",
              "\n",
              "    [theme=dark] .colab-df-convert {\n",
              "      background-color: #3B4455;\n",
              "      fill: #D2E3FC;\n",
              "    }\n",
              "\n",
              "    [theme=dark] .colab-df-convert:hover {\n",
              "      background-color: #434B5C;\n",
              "      box-shadow: 0px 1px 3px 1px rgba(0, 0, 0, 0.15);\n",
              "      filter: drop-shadow(0px 1px 2px rgba(0, 0, 0, 0.3));\n",
              "      fill: #FFFFFF;\n",
              "    }\n",
              "  </style>\n",
              "\n",
              "    <script>\n",
              "      const buttonEl =\n",
              "        document.querySelector('#df-dc578fe3-ee28-4c66-b207-6e41a1813d1d button.colab-df-convert');\n",
              "      buttonEl.style.display =\n",
              "        google.colab.kernel.accessAllowed ? 'block' : 'none';\n",
              "\n",
              "      async function convertToInteractive(key) {\n",
              "        const element = document.querySelector('#df-dc578fe3-ee28-4c66-b207-6e41a1813d1d');\n",
              "        const dataTable =\n",
              "          await google.colab.kernel.invokeFunction('convertToInteractive',\n",
              "                                                    [key], {});\n",
              "        if (!dataTable) return;\n",
              "\n",
              "        const docLinkHtml = 'Like what you see? Visit the ' +\n",
              "          '<a target=\"_blank\" href=https://colab.research.google.com/notebooks/data_table.ipynb>data table notebook</a>'\n",
              "          + ' to learn more about interactive tables.';\n",
              "        element.innerHTML = '';\n",
              "        dataTable['output_type'] = 'display_data';\n",
              "        await google.colab.output.renderOutput(dataTable, element);\n",
              "        const docLink = document.createElement('div');\n",
              "        docLink.innerHTML = docLinkHtml;\n",
              "        element.appendChild(docLink);\n",
              "      }\n",
              "    </script>\n",
              "  </div>\n",
              "\n",
              "\n",
              "<div id=\"df-7c759a12-95d8-49fb-b2cf-0e37a87c2089\">\n",
              "  <button class=\"colab-df-quickchart\" onclick=\"quickchart('df-7c759a12-95d8-49fb-b2cf-0e37a87c2089')\"\n",
              "            title=\"Suggest charts\"\n",
              "            style=\"display:none;\">\n",
              "\n",
              "<svg xmlns=\"http://www.w3.org/2000/svg\" height=\"24px\"viewBox=\"0 0 24 24\"\n",
              "     width=\"24px\">\n",
              "    <g>\n",
              "        <path d=\"M19 3H5c-1.1 0-2 .9-2 2v14c0 1.1.9 2 2 2h14c1.1 0 2-.9 2-2V5c0-1.1-.9-2-2-2zM9 17H7v-7h2v7zm4 0h-2V7h2v10zm4 0h-2v-4h2v4z\"/>\n",
              "    </g>\n",
              "</svg>\n",
              "  </button>\n",
              "\n",
              "<style>\n",
              "  .colab-df-quickchart {\n",
              "      --bg-color: #E8F0FE;\n",
              "      --fill-color: #1967D2;\n",
              "      --hover-bg-color: #E2EBFA;\n",
              "      --hover-fill-color: #174EA6;\n",
              "      --disabled-fill-color: #AAA;\n",
              "      --disabled-bg-color: #DDD;\n",
              "  }\n",
              "\n",
              "  [theme=dark] .colab-df-quickchart {\n",
              "      --bg-color: #3B4455;\n",
              "      --fill-color: #D2E3FC;\n",
              "      --hover-bg-color: #434B5C;\n",
              "      --hover-fill-color: #FFFFFF;\n",
              "      --disabled-bg-color: #3B4455;\n",
              "      --disabled-fill-color: #666;\n",
              "  }\n",
              "\n",
              "  .colab-df-quickchart {\n",
              "    background-color: var(--bg-color);\n",
              "    border: none;\n",
              "    border-radius: 50%;\n",
              "    cursor: pointer;\n",
              "    display: none;\n",
              "    fill: var(--fill-color);\n",
              "    height: 32px;\n",
              "    padding: 0;\n",
              "    width: 32px;\n",
              "  }\n",
              "\n",
              "  .colab-df-quickchart:hover {\n",
              "    background-color: var(--hover-bg-color);\n",
              "    box-shadow: 0 1px 2px rgba(60, 64, 67, 0.3), 0 1px 3px 1px rgba(60, 64, 67, 0.15);\n",
              "    fill: var(--button-hover-fill-color);\n",
              "  }\n",
              "\n",
              "  .colab-df-quickchart-complete:disabled,\n",
              "  .colab-df-quickchart-complete:disabled:hover {\n",
              "    background-color: var(--disabled-bg-color);\n",
              "    fill: var(--disabled-fill-color);\n",
              "    box-shadow: none;\n",
              "  }\n",
              "\n",
              "  .colab-df-spinner {\n",
              "    border: 2px solid var(--fill-color);\n",
              "    border-color: transparent;\n",
              "    border-bottom-color: var(--fill-color);\n",
              "    animation:\n",
              "      spin 1s steps(1) infinite;\n",
              "  }\n",
              "\n",
              "  @keyframes spin {\n",
              "    0% {\n",
              "      border-color: transparent;\n",
              "      border-bottom-color: var(--fill-color);\n",
              "      border-left-color: var(--fill-color);\n",
              "    }\n",
              "    20% {\n",
              "      border-color: transparent;\n",
              "      border-left-color: var(--fill-color);\n",
              "      border-top-color: var(--fill-color);\n",
              "    }\n",
              "    30% {\n",
              "      border-color: transparent;\n",
              "      border-left-color: var(--fill-color);\n",
              "      border-top-color: var(--fill-color);\n",
              "      border-right-color: var(--fill-color);\n",
              "    }\n",
              "    40% {\n",
              "      border-color: transparent;\n",
              "      border-right-color: var(--fill-color);\n",
              "      border-top-color: var(--fill-color);\n",
              "    }\n",
              "    60% {\n",
              "      border-color: transparent;\n",
              "      border-right-color: var(--fill-color);\n",
              "    }\n",
              "    80% {\n",
              "      border-color: transparent;\n",
              "      border-right-color: var(--fill-color);\n",
              "      border-bottom-color: var(--fill-color);\n",
              "    }\n",
              "    90% {\n",
              "      border-color: transparent;\n",
              "      border-bottom-color: var(--fill-color);\n",
              "    }\n",
              "  }\n",
              "</style>\n",
              "\n",
              "  <script>\n",
              "    async function quickchart(key) {\n",
              "      const quickchartButtonEl =\n",
              "        document.querySelector('#' + key + ' button');\n",
              "      quickchartButtonEl.disabled = true;  // To prevent multiple clicks.\n",
              "      quickchartButtonEl.classList.add('colab-df-spinner');\n",
              "      try {\n",
              "        const charts = await google.colab.kernel.invokeFunction(\n",
              "            'suggestCharts', [key], {});\n",
              "      } catch (error) {\n",
              "        console.error('Error during call to suggestCharts:', error);\n",
              "      }\n",
              "      quickchartButtonEl.classList.remove('colab-df-spinner');\n",
              "      quickchartButtonEl.classList.add('colab-df-quickchart-complete');\n",
              "    }\n",
              "    (() => {\n",
              "      let quickchartButtonEl =\n",
              "        document.querySelector('#df-7c759a12-95d8-49fb-b2cf-0e37a87c2089 button');\n",
              "      quickchartButtonEl.style.display =\n",
              "        google.colab.kernel.accessAllowed ? 'block' : 'none';\n",
              "    })();\n",
              "  </script>\n",
              "</div>\n",
              "\n",
              "  <div id=\"id_aa53a185-c86e-4a6b-8878-6c814b9ee327\">\n",
              "    <style>\n",
              "      .colab-df-generate {\n",
              "        background-color: #E8F0FE;\n",
              "        border: none;\n",
              "        border-radius: 50%;\n",
              "        cursor: pointer;\n",
              "        display: none;\n",
              "        fill: #1967D2;\n",
              "        height: 32px;\n",
              "        padding: 0 0 0 0;\n",
              "        width: 32px;\n",
              "      }\n",
              "\n",
              "      .colab-df-generate:hover {\n",
              "        background-color: #E2EBFA;\n",
              "        box-shadow: 0px 1px 2px rgba(60, 64, 67, 0.3), 0px 1px 3px 1px rgba(60, 64, 67, 0.15);\n",
              "        fill: #174EA6;\n",
              "      }\n",
              "\n",
              "      [theme=dark] .colab-df-generate {\n",
              "        background-color: #3B4455;\n",
              "        fill: #D2E3FC;\n",
              "      }\n",
              "\n",
              "      [theme=dark] .colab-df-generate:hover {\n",
              "        background-color: #434B5C;\n",
              "        box-shadow: 0px 1px 3px 1px rgba(0, 0, 0, 0.15);\n",
              "        filter: drop-shadow(0px 1px 2px rgba(0, 0, 0, 0.3));\n",
              "        fill: #FFFFFF;\n",
              "      }\n",
              "    </style>\n",
              "    <button class=\"colab-df-generate\" onclick=\"generateWithVariable('tab')\"\n",
              "            title=\"Generate code using this dataframe.\"\n",
              "            style=\"display:none;\">\n",
              "\n",
              "  <svg xmlns=\"http://www.w3.org/2000/svg\" height=\"24px\"viewBox=\"0 0 24 24\"\n",
              "       width=\"24px\">\n",
              "    <path d=\"M7,19H8.4L18.45,9,17,7.55,7,17.6ZM5,21V16.75L18.45,3.32a2,2,0,0,1,2.83,0l1.4,1.43a1.91,1.91,0,0,1,.58,1.4,1.91,1.91,0,0,1-.58,1.4L9.25,21ZM18.45,9,17,7.55Zm-12,3A5.31,5.31,0,0,0,4.9,8.1,5.31,5.31,0,0,0,1,6.5,5.31,5.31,0,0,0,4.9,4.9,5.31,5.31,0,0,0,6.5,1,5.31,5.31,0,0,0,8.1,4.9,5.31,5.31,0,0,0,12,6.5,5.46,5.46,0,0,0,6.5,12Z\"/>\n",
              "  </svg>\n",
              "    </button>\n",
              "    <script>\n",
              "      (() => {\n",
              "      const buttonEl =\n",
              "        document.querySelector('#id_aa53a185-c86e-4a6b-8878-6c814b9ee327 button.colab-df-generate');\n",
              "      buttonEl.style.display =\n",
              "        google.colab.kernel.accessAllowed ? 'block' : 'none';\n",
              "\n",
              "      buttonEl.onclick = () => {\n",
              "        google.colab.notebook.generateWithVariable('tab');\n",
              "      }\n",
              "      })();\n",
              "    </script>\n",
              "  </div>\n",
              "\n",
              "    </div>\n",
              "  </div>\n"
            ],
            "application/vnd.google.colaboratory.intrinsic+json": {
              "type": "dataframe",
              "variable_name": "tab",
              "summary": "{\n  \"name\": \"tab\",\n  \"rows\": 2,\n  \"fields\": [\n    {\n      \"column\": \"no\",\n      \"properties\": {\n        \"dtype\": \"number\",\n        \"std\": 187,\n        \"min\": 24,\n        \"max\": 289,\n        \"num_unique_values\": 2,\n        \"samples\": [\n          289,\n          24\n        ],\n        \"semantic_type\": \"\",\n        \"description\": \"\"\n      }\n    },\n    {\n      \"column\": \"once\",\n      \"properties\": {\n        \"dtype\": \"number\",\n        \"std\": 64,\n        \"min\": 9,\n        \"max\": 100,\n        \"num_unique_values\": 2,\n        \"samples\": [\n          100,\n          9\n        ],\n        \"semantic_type\": \"\",\n        \"description\": \"\"\n      }\n    },\n    {\n      \"column\": \"twice\",\n      \"properties\": {\n        \"dtype\": \"number\",\n        \"std\": 390,\n        \"min\": 13,\n        \"max\": 565,\n        \"num_unique_values\": 2,\n        \"samples\": [\n          565,\n          13\n        ],\n        \"semantic_type\": \"\",\n        \"description\": \"\"\n      }\n    }\n  ]\n}"
            }
          },
          "metadata": {},
          "execution_count": 76
        }
      ]
    },
    {
      "cell_type": "code",
      "source": [
        "# 행 합계\n",
        "tab.sum(axis = 1)"
      ],
      "metadata": {
        "colab": {
          "base_uri": "https://localhost:8080/"
        },
        "id": "2_CIFA8fwvmm",
        "outputId": "b7a265cf-075e-4aa8-cd34-6848e7d0488e"
      },
      "execution_count": null,
      "outputs": [
        {
          "output_type": "execute_result",
          "data": {
            "text/plain": [
              "yes     46\n",
              "no     954\n",
              "dtype: int64"
            ]
          },
          "metadata": {},
          "execution_count": 77
        }
      ]
    },
    {
      "cell_type": "code",
      "source": [
        "# R1, R2\n",
        "r1 = tab.sum(axis = 1)[0]\n",
        "r2 = tab.sum(axis = 1)[1]\n",
        "print(r1, r2)"
      ],
      "metadata": {
        "colab": {
          "base_uri": "https://localhost:8080/"
        },
        "id": "CpLfwUMvwvmn",
        "outputId": "1a7a0772-5d64-4654-e64f-06600320501c"
      },
      "execution_count": null,
      "outputs": [
        {
          "output_type": "stream",
          "name": "stdout",
          "text": [
            "46 954\n"
          ]
        }
      ]
    },
    {
      "cell_type": "code",
      "source": [
        "# 열 합계\n",
        "tab.sum()"
      ],
      "metadata": {
        "colab": {
          "base_uri": "https://localhost:8080/"
        },
        "id": "kYMU081Twvmn",
        "outputId": "b419a3f8-7903-481c-abf3-efb6e5ba34cd"
      },
      "execution_count": null,
      "outputs": [
        {
          "output_type": "execute_result",
          "data": {
            "text/plain": [
              "no       313\n",
              "once     109\n",
              "twice    578\n",
              "dtype: int64"
            ]
          },
          "metadata": {},
          "execution_count": 79
        }
      ]
    },
    {
      "cell_type": "code",
      "source": [
        "# C1, C2, C3\n",
        "c1 = tab.sum()[0]\n",
        "c2 = tab.sum()[1]\n",
        "c3 = tab.sum()[2]\n",
        "print(c1, c2, c3)"
      ],
      "metadata": {
        "colab": {
          "base_uri": "https://localhost:8080/"
        },
        "outputId": "4c666a6a-4dee-41ca-b07f-5512292b1dc0",
        "id": "ShFzAhdEwvmn"
      },
      "execution_count": null,
      "outputs": [
        {
          "output_type": "stream",
          "name": "stdout",
          "text": [
            "313 109 578\n"
          ]
        }
      ]
    },
    {
      "cell_type": "code",
      "source": [
        "# 전체 빈도\n",
        "total = sum([r1, r2]);total"
      ],
      "metadata": {
        "colab": {
          "base_uri": "https://localhost:8080/"
        },
        "outputId": "fd6aead6-fd37-4a46-c319-99ed6779ada1",
        "id": "n6TyAi1Ywvmn"
      },
      "execution_count": null,
      "outputs": [
        {
          "output_type": "execute_result",
          "data": {
            "text/plain": [
              "1000"
            ]
          },
          "metadata": {},
          "execution_count": 81
        }
      ]
    },
    {
      "cell_type": "code",
      "source": [
        "# 기대빈도\n",
        "e11 = (r1*c1)/total\n",
        "e12 = (r1*c2)/total\n",
        "e13 = (r1*c3)/total\n",
        "e21 = (r2*c1)/total\n",
        "e22 = (r2*c2)/total\n",
        "e23 = (r2*c3)/total\n",
        "print(e11, e12, e13, e21, e22, e23)"
      ],
      "metadata": {
        "colab": {
          "base_uri": "https://localhost:8080/"
        },
        "outputId": "ddbfc92a-41fb-48fb-d3e3-2746ba5cc4b6",
        "id": "r0VE2qFfwvmn"
      },
      "execution_count": null,
      "outputs": [
        {
          "output_type": "stream",
          "name": "stdout",
          "text": [
            "14.398 5.014 26.588 298.602 103.986 551.412\n"
          ]
        }
      ]
    },
    {
      "cell_type": "code",
      "source": [
        "# 검정통계량\n",
        "x2v = \\\n",
        "(tab.iloc[0,0] - e11)**2 / e11 + \\\n",
        "(tab.iloc[0,1] - e12)**2 / e12 + \\\n",
        "(tab.iloc[0,2] - e13)**2 / e13 + \\\n",
        "(tab.iloc[1,0] - e21)**2 / e21 + \\\n",
        "(tab.iloc[1,1] - e22)**2 / e22 + \\\n",
        "(tab.iloc[1,2] - e23)**2 / e23\n",
        "x2v"
      ],
      "metadata": {
        "colab": {
          "base_uri": "https://localhost:8080/"
        },
        "outputId": "5ee84570-d802-429b-bba9-2134eeb24937",
        "id": "ToQKAZEFwvmn"
      },
      "execution_count": null,
      "outputs": [
        {
          "output_type": "execute_result",
          "data": {
            "text/plain": [
              "17.31297056699376"
            ]
          },
          "metadata": {},
          "execution_count": 83
        }
      ]
    },
    {
      "cell_type": "code",
      "source": [
        "# 임계값, 유의수준, 자유도, 우측검정\n",
        "alpha = 0.05\n",
        "df = (len(tab.index) - 1) * (len(tab.columns) - 1);df"
      ],
      "metadata": {
        "colab": {
          "base_uri": "https://localhost:8080/"
        },
        "outputId": "75decd07-13e4-4464-b3d2-ccf73347eed2",
        "id": "w2CalSFAwvmn"
      },
      "execution_count": null,
      "outputs": [
        {
          "output_type": "execute_result",
          "data": {
            "text/plain": [
              "2"
            ]
          },
          "metadata": {},
          "execution_count": 84
        }
      ]
    },
    {
      "cell_type": "code",
      "source": [
        "cv = chi2.ppf(1 - alpha, df);cv"
      ],
      "metadata": {
        "colab": {
          "base_uri": "https://localhost:8080/"
        },
        "outputId": "466641d4-0da7-4fb3-fa84-6ce67ec396be",
        "id": "FVgFufsDwvmn"
      },
      "execution_count": null,
      "outputs": [
        {
          "output_type": "execute_result",
          "data": {
            "text/plain": [
              "5.991464547107979"
            ]
          },
          "metadata": {},
          "execution_count": 85
        }
      ]
    },
    {
      "cell_type": "code",
      "source": [
        "# 결론\n",
        "cv < x2v\n",
        "# 오른쪽 = 기각역 = 귀무가설 기각 = 대립가설 채택 = 차이가 있다\n",
        "# 백신 접종과 감염이 독립이 아니다 = 관련이 있다 = 통계적으로 유의하다"
      ],
      "metadata": {
        "colab": {
          "base_uri": "https://localhost:8080/"
        },
        "outputId": "d1445d24-64ed-44ef-e698-6fe7fa0e0a06",
        "id": "oli802fowvmo"
      },
      "execution_count": null,
      "outputs": [
        {
          "output_type": "execute_result",
          "data": {
            "text/plain": [
              "True"
            ]
          },
          "metadata": {},
          "execution_count": 86
        }
      ]
    },
    {
      "cell_type": "code",
      "source": [
        "# 유의확률\n",
        "pv = 1 - chi2.cdf(x2v, df);pv"
      ],
      "metadata": {
        "colab": {
          "base_uri": "https://localhost:8080/"
        },
        "outputId": "17239790-2304-439b-a013-80ef5e5d23c7",
        "id": "QcEZg6G1wvmo"
      },
      "execution_count": null,
      "outputs": [
        {
          "output_type": "execute_result",
          "data": {
            "text/plain": [
              "0.0001739947757724014"
            ]
          },
          "metadata": {},
          "execution_count": 87
        }
      ]
    },
    {
      "cell_type": "code",
      "source": [
        "# 결론\n",
        "alpha > pv\n",
        "# 오른쪽 = 기각역 = 귀무가설 기각 = 대립가설 채택 = 차이가 있다\n",
        "# 백신 접종과 감염이 독립이 아니다 = 관련이 있다 = 통계적으로 유의하다"
      ],
      "metadata": {
        "colab": {
          "base_uri": "https://localhost:8080/"
        },
        "outputId": "ffe25ccd-8a97-45a1-ee03-77deec63c6e8",
        "id": "EjjpWm-cwvmo"
      },
      "execution_count": null,
      "outputs": [
        {
          "output_type": "execute_result",
          "data": {
            "text/plain": [
              "True"
            ]
          },
          "metadata": {},
          "execution_count": 88
        }
      ]
    },
    {
      "cell_type": "code",
      "source": [
        "# 함수 이용한 검정\n",
        "from scipy.stats import chi2_contingency\n",
        "chi2_contingency(tab, correction = False)\n",
        "# 샘플이 충분하지 않을 때 Yate's correction 적용함"
      ],
      "metadata": {
        "colab": {
          "base_uri": "https://localhost:8080/"
        },
        "outputId": "00672e4e-d695-4e3f-c9da-b963d72fdab2",
        "id": "MCpaLD1Iwvmo"
      },
      "execution_count": null,
      "outputs": [
        {
          "output_type": "execute_result",
          "data": {
            "text/plain": [
              "Chi2ContingencyResult(statistic=17.31297056699376, pvalue=0.00017399477577242703, dof=2, expected_freq=array([[ 14.398,   5.014,  26.588],\n",
              "       [298.602, 103.986, 551.412]]))"
            ]
          },
          "metadata": {},
          "execution_count": 89
        }
      ]
    },
    {
      "cell_type": "markdown",
      "source": [
        "## 동질성검정"
      ],
      "metadata": {
        "id": "vMlZzkVa5toc"
      }
    },
    {
      "cell_type": "code",
      "source": [
        "# 브랜드별 성별 분포\n",
        "# 남성, 여성\n",
        "# M B C 브랜드\n",
        "tab = pd.DataFrame({'male': [200, 200, 140],\n",
        "                    'female': [250, 170, 150]},\n",
        "                   index = ['M', 'B', 'C'])\n",
        "tab"
      ],
      "metadata": {
        "colab": {
          "base_uri": "https://localhost:8080/",
          "height": 143
        },
        "id": "E9ByqL1n5445",
        "outputId": "78ba7a14-aca5-4193-f7f5-0efcd79849b7"
      },
      "execution_count": null,
      "outputs": [
        {
          "output_type": "execute_result",
          "data": {
            "text/plain": [
              "   male  female\n",
              "M   200     250\n",
              "B   200     170\n",
              "C   140     150"
            ],
            "text/html": [
              "\n",
              "  <div id=\"df-94f3ca3b-8f81-4259-a3f5-409a1c392890\" class=\"colab-df-container\">\n",
              "    <div>\n",
              "<style scoped>\n",
              "    .dataframe tbody tr th:only-of-type {\n",
              "        vertical-align: middle;\n",
              "    }\n",
              "\n",
              "    .dataframe tbody tr th {\n",
              "        vertical-align: top;\n",
              "    }\n",
              "\n",
              "    .dataframe thead th {\n",
              "        text-align: right;\n",
              "    }\n",
              "</style>\n",
              "<table border=\"1\" class=\"dataframe\">\n",
              "  <thead>\n",
              "    <tr style=\"text-align: right;\">\n",
              "      <th></th>\n",
              "      <th>male</th>\n",
              "      <th>female</th>\n",
              "    </tr>\n",
              "  </thead>\n",
              "  <tbody>\n",
              "    <tr>\n",
              "      <th>M</th>\n",
              "      <td>200</td>\n",
              "      <td>250</td>\n",
              "    </tr>\n",
              "    <tr>\n",
              "      <th>B</th>\n",
              "      <td>200</td>\n",
              "      <td>170</td>\n",
              "    </tr>\n",
              "    <tr>\n",
              "      <th>C</th>\n",
              "      <td>140</td>\n",
              "      <td>150</td>\n",
              "    </tr>\n",
              "  </tbody>\n",
              "</table>\n",
              "</div>\n",
              "    <div class=\"colab-df-buttons\">\n",
              "\n",
              "  <div class=\"colab-df-container\">\n",
              "    <button class=\"colab-df-convert\" onclick=\"convertToInteractive('df-94f3ca3b-8f81-4259-a3f5-409a1c392890')\"\n",
              "            title=\"Convert this dataframe to an interactive table.\"\n",
              "            style=\"display:none;\">\n",
              "\n",
              "  <svg xmlns=\"http://www.w3.org/2000/svg\" height=\"24px\" viewBox=\"0 -960 960 960\">\n",
              "    <path d=\"M120-120v-720h720v720H120Zm60-500h600v-160H180v160Zm220 220h160v-160H400v160Zm0 220h160v-160H400v160ZM180-400h160v-160H180v160Zm440 0h160v-160H620v160ZM180-180h160v-160H180v160Zm440 0h160v-160H620v160Z\"/>\n",
              "  </svg>\n",
              "    </button>\n",
              "\n",
              "  <style>\n",
              "    .colab-df-container {\n",
              "      display:flex;\n",
              "      gap: 12px;\n",
              "    }\n",
              "\n",
              "    .colab-df-convert {\n",
              "      background-color: #E8F0FE;\n",
              "      border: none;\n",
              "      border-radius: 50%;\n",
              "      cursor: pointer;\n",
              "      display: none;\n",
              "      fill: #1967D2;\n",
              "      height: 32px;\n",
              "      padding: 0 0 0 0;\n",
              "      width: 32px;\n",
              "    }\n",
              "\n",
              "    .colab-df-convert:hover {\n",
              "      background-color: #E2EBFA;\n",
              "      box-shadow: 0px 1px 2px rgba(60, 64, 67, 0.3), 0px 1px 3px 1px rgba(60, 64, 67, 0.15);\n",
              "      fill: #174EA6;\n",
              "    }\n",
              "\n",
              "    .colab-df-buttons div {\n",
              "      margin-bottom: 4px;\n",
              "    }\n",
              "\n",
              "    [theme=dark] .colab-df-convert {\n",
              "      background-color: #3B4455;\n",
              "      fill: #D2E3FC;\n",
              "    }\n",
              "\n",
              "    [theme=dark] .colab-df-convert:hover {\n",
              "      background-color: #434B5C;\n",
              "      box-shadow: 0px 1px 3px 1px rgba(0, 0, 0, 0.15);\n",
              "      filter: drop-shadow(0px 1px 2px rgba(0, 0, 0, 0.3));\n",
              "      fill: #FFFFFF;\n",
              "    }\n",
              "  </style>\n",
              "\n",
              "    <script>\n",
              "      const buttonEl =\n",
              "        document.querySelector('#df-94f3ca3b-8f81-4259-a3f5-409a1c392890 button.colab-df-convert');\n",
              "      buttonEl.style.display =\n",
              "        google.colab.kernel.accessAllowed ? 'block' : 'none';\n",
              "\n",
              "      async function convertToInteractive(key) {\n",
              "        const element = document.querySelector('#df-94f3ca3b-8f81-4259-a3f5-409a1c392890');\n",
              "        const dataTable =\n",
              "          await google.colab.kernel.invokeFunction('convertToInteractive',\n",
              "                                                    [key], {});\n",
              "        if (!dataTable) return;\n",
              "\n",
              "        const docLinkHtml = 'Like what you see? Visit the ' +\n",
              "          '<a target=\"_blank\" href=https://colab.research.google.com/notebooks/data_table.ipynb>data table notebook</a>'\n",
              "          + ' to learn more about interactive tables.';\n",
              "        element.innerHTML = '';\n",
              "        dataTable['output_type'] = 'display_data';\n",
              "        await google.colab.output.renderOutput(dataTable, element);\n",
              "        const docLink = document.createElement('div');\n",
              "        docLink.innerHTML = docLinkHtml;\n",
              "        element.appendChild(docLink);\n",
              "      }\n",
              "    </script>\n",
              "  </div>\n",
              "\n",
              "\n",
              "<div id=\"df-6bd59c9f-d9f2-4376-9311-a71e40b9577e\">\n",
              "  <button class=\"colab-df-quickchart\" onclick=\"quickchart('df-6bd59c9f-d9f2-4376-9311-a71e40b9577e')\"\n",
              "            title=\"Suggest charts\"\n",
              "            style=\"display:none;\">\n",
              "\n",
              "<svg xmlns=\"http://www.w3.org/2000/svg\" height=\"24px\"viewBox=\"0 0 24 24\"\n",
              "     width=\"24px\">\n",
              "    <g>\n",
              "        <path d=\"M19 3H5c-1.1 0-2 .9-2 2v14c0 1.1.9 2 2 2h14c1.1 0 2-.9 2-2V5c0-1.1-.9-2-2-2zM9 17H7v-7h2v7zm4 0h-2V7h2v10zm4 0h-2v-4h2v4z\"/>\n",
              "    </g>\n",
              "</svg>\n",
              "  </button>\n",
              "\n",
              "<style>\n",
              "  .colab-df-quickchart {\n",
              "      --bg-color: #E8F0FE;\n",
              "      --fill-color: #1967D2;\n",
              "      --hover-bg-color: #E2EBFA;\n",
              "      --hover-fill-color: #174EA6;\n",
              "      --disabled-fill-color: #AAA;\n",
              "      --disabled-bg-color: #DDD;\n",
              "  }\n",
              "\n",
              "  [theme=dark] .colab-df-quickchart {\n",
              "      --bg-color: #3B4455;\n",
              "      --fill-color: #D2E3FC;\n",
              "      --hover-bg-color: #434B5C;\n",
              "      --hover-fill-color: #FFFFFF;\n",
              "      --disabled-bg-color: #3B4455;\n",
              "      --disabled-fill-color: #666;\n",
              "  }\n",
              "\n",
              "  .colab-df-quickchart {\n",
              "    background-color: var(--bg-color);\n",
              "    border: none;\n",
              "    border-radius: 50%;\n",
              "    cursor: pointer;\n",
              "    display: none;\n",
              "    fill: var(--fill-color);\n",
              "    height: 32px;\n",
              "    padding: 0;\n",
              "    width: 32px;\n",
              "  }\n",
              "\n",
              "  .colab-df-quickchart:hover {\n",
              "    background-color: var(--hover-bg-color);\n",
              "    box-shadow: 0 1px 2px rgba(60, 64, 67, 0.3), 0 1px 3px 1px rgba(60, 64, 67, 0.15);\n",
              "    fill: var(--button-hover-fill-color);\n",
              "  }\n",
              "\n",
              "  .colab-df-quickchart-complete:disabled,\n",
              "  .colab-df-quickchart-complete:disabled:hover {\n",
              "    background-color: var(--disabled-bg-color);\n",
              "    fill: var(--disabled-fill-color);\n",
              "    box-shadow: none;\n",
              "  }\n",
              "\n",
              "  .colab-df-spinner {\n",
              "    border: 2px solid var(--fill-color);\n",
              "    border-color: transparent;\n",
              "    border-bottom-color: var(--fill-color);\n",
              "    animation:\n",
              "      spin 1s steps(1) infinite;\n",
              "  }\n",
              "\n",
              "  @keyframes spin {\n",
              "    0% {\n",
              "      border-color: transparent;\n",
              "      border-bottom-color: var(--fill-color);\n",
              "      border-left-color: var(--fill-color);\n",
              "    }\n",
              "    20% {\n",
              "      border-color: transparent;\n",
              "      border-left-color: var(--fill-color);\n",
              "      border-top-color: var(--fill-color);\n",
              "    }\n",
              "    30% {\n",
              "      border-color: transparent;\n",
              "      border-left-color: var(--fill-color);\n",
              "      border-top-color: var(--fill-color);\n",
              "      border-right-color: var(--fill-color);\n",
              "    }\n",
              "    40% {\n",
              "      border-color: transparent;\n",
              "      border-right-color: var(--fill-color);\n",
              "      border-top-color: var(--fill-color);\n",
              "    }\n",
              "    60% {\n",
              "      border-color: transparent;\n",
              "      border-right-color: var(--fill-color);\n",
              "    }\n",
              "    80% {\n",
              "      border-color: transparent;\n",
              "      border-right-color: var(--fill-color);\n",
              "      border-bottom-color: var(--fill-color);\n",
              "    }\n",
              "    90% {\n",
              "      border-color: transparent;\n",
              "      border-bottom-color: var(--fill-color);\n",
              "    }\n",
              "  }\n",
              "</style>\n",
              "\n",
              "  <script>\n",
              "    async function quickchart(key) {\n",
              "      const quickchartButtonEl =\n",
              "        document.querySelector('#' + key + ' button');\n",
              "      quickchartButtonEl.disabled = true;  // To prevent multiple clicks.\n",
              "      quickchartButtonEl.classList.add('colab-df-spinner');\n",
              "      try {\n",
              "        const charts = await google.colab.kernel.invokeFunction(\n",
              "            'suggestCharts', [key], {});\n",
              "      } catch (error) {\n",
              "        console.error('Error during call to suggestCharts:', error);\n",
              "      }\n",
              "      quickchartButtonEl.classList.remove('colab-df-spinner');\n",
              "      quickchartButtonEl.classList.add('colab-df-quickchart-complete');\n",
              "    }\n",
              "    (() => {\n",
              "      let quickchartButtonEl =\n",
              "        document.querySelector('#df-6bd59c9f-d9f2-4376-9311-a71e40b9577e button');\n",
              "      quickchartButtonEl.style.display =\n",
              "        google.colab.kernel.accessAllowed ? 'block' : 'none';\n",
              "    })();\n",
              "  </script>\n",
              "</div>\n",
              "\n",
              "  <div id=\"id_e6753cb6-4655-407a-bf03-19db6906264c\">\n",
              "    <style>\n",
              "      .colab-df-generate {\n",
              "        background-color: #E8F0FE;\n",
              "        border: none;\n",
              "        border-radius: 50%;\n",
              "        cursor: pointer;\n",
              "        display: none;\n",
              "        fill: #1967D2;\n",
              "        height: 32px;\n",
              "        padding: 0 0 0 0;\n",
              "        width: 32px;\n",
              "      }\n",
              "\n",
              "      .colab-df-generate:hover {\n",
              "        background-color: #E2EBFA;\n",
              "        box-shadow: 0px 1px 2px rgba(60, 64, 67, 0.3), 0px 1px 3px 1px rgba(60, 64, 67, 0.15);\n",
              "        fill: #174EA6;\n",
              "      }\n",
              "\n",
              "      [theme=dark] .colab-df-generate {\n",
              "        background-color: #3B4455;\n",
              "        fill: #D2E3FC;\n",
              "      }\n",
              "\n",
              "      [theme=dark] .colab-df-generate:hover {\n",
              "        background-color: #434B5C;\n",
              "        box-shadow: 0px 1px 3px 1px rgba(0, 0, 0, 0.15);\n",
              "        filter: drop-shadow(0px 1px 2px rgba(0, 0, 0, 0.3));\n",
              "        fill: #FFFFFF;\n",
              "      }\n",
              "    </style>\n",
              "    <button class=\"colab-df-generate\" onclick=\"generateWithVariable('tab')\"\n",
              "            title=\"Generate code using this dataframe.\"\n",
              "            style=\"display:none;\">\n",
              "\n",
              "  <svg xmlns=\"http://www.w3.org/2000/svg\" height=\"24px\"viewBox=\"0 0 24 24\"\n",
              "       width=\"24px\">\n",
              "    <path d=\"M7,19H8.4L18.45,9,17,7.55,7,17.6ZM5,21V16.75L18.45,3.32a2,2,0,0,1,2.83,0l1.4,1.43a1.91,1.91,0,0,1,.58,1.4,1.91,1.91,0,0,1-.58,1.4L9.25,21ZM18.45,9,17,7.55Zm-12,3A5.31,5.31,0,0,0,4.9,8.1,5.31,5.31,0,0,0,1,6.5,5.31,5.31,0,0,0,4.9,4.9,5.31,5.31,0,0,0,6.5,1,5.31,5.31,0,0,0,8.1,4.9,5.31,5.31,0,0,0,12,6.5,5.46,5.46,0,0,0,6.5,12Z\"/>\n",
              "  </svg>\n",
              "    </button>\n",
              "    <script>\n",
              "      (() => {\n",
              "      const buttonEl =\n",
              "        document.querySelector('#id_e6753cb6-4655-407a-bf03-19db6906264c button.colab-df-generate');\n",
              "      buttonEl.style.display =\n",
              "        google.colab.kernel.accessAllowed ? 'block' : 'none';\n",
              "\n",
              "      buttonEl.onclick = () => {\n",
              "        google.colab.notebook.generateWithVariable('tab');\n",
              "      }\n",
              "      })();\n",
              "    </script>\n",
              "  </div>\n",
              "\n",
              "    </div>\n",
              "  </div>\n"
            ],
            "application/vnd.google.colaboratory.intrinsic+json": {
              "type": "dataframe",
              "variable_name": "tab",
              "summary": "{\n  \"name\": \"tab\",\n  \"rows\": 3,\n  \"fields\": [\n    {\n      \"column\": \"male\",\n      \"properties\": {\n        \"dtype\": \"number\",\n        \"std\": 34,\n        \"min\": 140,\n        \"max\": 200,\n        \"num_unique_values\": 2,\n        \"samples\": [\n          140,\n          200\n        ],\n        \"semantic_type\": \"\",\n        \"description\": \"\"\n      }\n    },\n    {\n      \"column\": \"female\",\n      \"properties\": {\n        \"dtype\": \"number\",\n        \"std\": 52,\n        \"min\": 150,\n        \"max\": 250,\n        \"num_unique_values\": 3,\n        \"samples\": [\n          250,\n          170\n        ],\n        \"semantic_type\": \"\",\n        \"description\": \"\"\n      }\n    }\n  ]\n}"
            }
          },
          "metadata": {},
          "execution_count": 72
        }
      ]
    },
    {
      "cell_type": "code",
      "source": [
        "# 행 합계\n",
        "tab.sum(axis = 1)"
      ],
      "metadata": {
        "colab": {
          "base_uri": "https://localhost:8080/"
        },
        "id": "-z7t0JRt5446",
        "outputId": "af17d79e-a2d6-4362-c7b6-db2e382d6228"
      },
      "execution_count": null,
      "outputs": [
        {
          "output_type": "execute_result",
          "data": {
            "text/plain": [
              "M    450\n",
              "B    370\n",
              "C    290\n",
              "dtype: int64"
            ]
          },
          "metadata": {},
          "execution_count": 73
        }
      ]
    },
    {
      "cell_type": "code",
      "source": [
        "# R1, R2, R3\n",
        "r1 = tab.sum(axis = 1)[0]\n",
        "r2 = tab.sum(axis = 1)[1]\n",
        "r3 = tab.sum(axis = 1)[2]\n",
        "print(r1, r2, r3)"
      ],
      "metadata": {
        "colab": {
          "base_uri": "https://localhost:8080/"
        },
        "id": "FCRdywZf5446",
        "outputId": "595a79db-85e1-402e-8786-8e1be08e1324"
      },
      "execution_count": null,
      "outputs": [
        {
          "output_type": "stream",
          "name": "stdout",
          "text": [
            "450 370 290\n"
          ]
        }
      ]
    },
    {
      "cell_type": "code",
      "source": [
        "# 기대빈도\n",
        "e11 = (r1)/2\n",
        "e12 = (r1)/2\n",
        "e21 = (r2)/2\n",
        "e22 = (r2)/2\n",
        "e31 = (r3)/2\n",
        "e32 = (r3)/2\n",
        "print(e11, e12, e21, e22, e31, e32)"
      ],
      "metadata": {
        "colab": {
          "base_uri": "https://localhost:8080/"
        },
        "outputId": "ffb880d3-508f-4b45-c397-eeb36e5243d4",
        "id": "yG7W79i45447"
      },
      "execution_count": null,
      "outputs": [
        {
          "output_type": "stream",
          "name": "stdout",
          "text": [
            "225.0 225.0 185.0 185.0 145.0 145.0\n"
          ]
        }
      ]
    },
    {
      "cell_type": "code",
      "source": [
        "# 검정통계량\n",
        "x2v = \\\n",
        "(tab.iloc[0,0] - e11)**2 / e11 + \\\n",
        "(tab.iloc[0,1] - e12)**2 / e12 + \\\n",
        "(tab.iloc[1,0] - e21)**2 / e21 + \\\n",
        "(tab.iloc[1,1] - e22)**2 / e22 + \\\n",
        "(tab.iloc[2,0] - e31)**2 / e31 + \\\n",
        "(tab.iloc[2,1] - e32)**2 / e32\n",
        "x2v"
      ],
      "metadata": {
        "colab": {
          "base_uri": "https://localhost:8080/"
        },
        "outputId": "4547c878-1ed0-435b-b59d-9d75bb85287e",
        "id": "SzHflmxY5447"
      },
      "execution_count": null,
      "outputs": [
        {
          "output_type": "execute_result",
          "data": {
            "text/plain": [
              "8.332815574194884"
            ]
          },
          "metadata": {},
          "execution_count": 76
        }
      ]
    },
    {
      "cell_type": "code",
      "source": [
        "# 임계값, 유의수준, 자유도, 우측검정\n",
        "alpha = 0.05\n",
        "df = len(tab.index) * (len(tab.columns) - 1);df"
      ],
      "metadata": {
        "colab": {
          "base_uri": "https://localhost:8080/"
        },
        "outputId": "202b927c-6623-4f44-9b18-cad7d0fd3be4",
        "id": "XC141ChS5447"
      },
      "execution_count": null,
      "outputs": [
        {
          "output_type": "execute_result",
          "data": {
            "text/plain": [
              "3"
            ]
          },
          "metadata": {},
          "execution_count": 77
        }
      ]
    },
    {
      "cell_type": "code",
      "source": [
        "cv = chi2.ppf(1 - alpha, df);cv"
      ],
      "metadata": {
        "colab": {
          "base_uri": "https://localhost:8080/"
        },
        "outputId": "59652533-a70f-4060-94a5-70aa6b5580d9",
        "id": "tqwQ-gqv5447"
      },
      "execution_count": null,
      "outputs": [
        {
          "output_type": "execute_result",
          "data": {
            "text/plain": [
              "7.814727903251179"
            ]
          },
          "metadata": {},
          "execution_count": 78
        }
      ]
    },
    {
      "cell_type": "code",
      "source": [
        "# 결론\n",
        "cv < x2v\n",
        "# 오른쪽 = 기각역 = 귀무가설 기각 = 대립가설 채택 = 차이가 있다\n",
        "# 브랜드별로 성별 분포에 차이가 있다 = 통계적으로 유의하다"
      ],
      "metadata": {
        "colab": {
          "base_uri": "https://localhost:8080/"
        },
        "outputId": "264a846c-dcbb-4c62-90f3-0bce608bfb1f",
        "id": "_oXmrowo5448"
      },
      "execution_count": null,
      "outputs": [
        {
          "output_type": "execute_result",
          "data": {
            "text/plain": [
              "True"
            ]
          },
          "metadata": {},
          "execution_count": 79
        }
      ]
    },
    {
      "cell_type": "code",
      "source": [
        "# 유의확률\n",
        "pv = 1 - chi2.cdf(x2v, df);pv"
      ],
      "metadata": {
        "colab": {
          "base_uri": "https://localhost:8080/"
        },
        "outputId": "bf801c5f-10da-4331-a698-6ba1b6a739ae",
        "id": "c4E5Riwr5448"
      },
      "execution_count": null,
      "outputs": [
        {
          "output_type": "execute_result",
          "data": {
            "text/plain": [
              "0.03961160083405135"
            ]
          },
          "metadata": {},
          "execution_count": 80
        }
      ]
    },
    {
      "cell_type": "code",
      "source": [
        "# 결론\n",
        "alpha > pv\n",
        "# 오른쪽 = 기각역 = 귀무가설 기각 = 대립가설 채택 = 차이가 있다\n",
        "# 브랜드별로 성별 분포에 차이가 있다 = 통계적으로 유의하다"
      ],
      "metadata": {
        "colab": {
          "base_uri": "https://localhost:8080/"
        },
        "outputId": "680ecebd-5444-4068-e2bc-d45f31c25970",
        "id": "OqdGzm105448"
      },
      "execution_count": null,
      "outputs": [
        {
          "output_type": "execute_result",
          "data": {
            "text/plain": [
              "True"
            ]
          },
          "metadata": {},
          "execution_count": 81
        }
      ]
    }
  ]
}