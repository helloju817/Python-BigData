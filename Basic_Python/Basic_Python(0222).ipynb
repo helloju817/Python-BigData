{
  "nbformat": 4,
  "nbformat_minor": 0,
  "metadata": { 
    "colab": {
      "provenance": [],
      "toc_visible": true
    },
    "kernelspec": {
      "name": "python3",
      "display_name": "Python 3"
    },
    "language_info": {
      "name": "python"
    }
  },
  "cells": [
    {
      "cell_type": "markdown",
      "source": [
        "# bool"
      ],
      "metadata": {
        "id": "YIuw8e8RP5G0"
      }
    },
    {
      "cell_type": "code",
      "source": [
        "print(True)\n",
        "print(type(True))"
      ],
      "metadata": {
        "colab": {
          "base_uri": "https://localhost:8080/"
        },
        "id": "-iB8835NLbho",
        "outputId": "44a239a5-96b0-4d5a-8b97-fa669d2672b9"
      },
      "execution_count": null,
      "outputs": [
        {
          "output_type": "stream",
          "name": "stdout",
          "text": [
            "True\n",
            "<class 'bool'>\n"
          ]
        }
      ]
    },
    {
      "cell_type": "code",
      "source": [
        "print(False)\n",
        "print(type(False))"
      ],
      "metadata": {
        "id": "csM68083LZyV",
        "colab": {
          "base_uri": "https://localhost:8080/"
        },
        "outputId": "3869d75d-db12-4357-c96b-f48cbf5cd7f2"
      },
      "execution_count": null,
      "outputs": [
        {
          "output_type": "stream",
          "name": "stdout",
          "text": [
            "False\n",
            "<class 'bool'>\n"
          ]
        }
      ]
    },
    {
      "cell_type": "code",
      "source": [
        "print(1 == 2)\n",
        "print(1 != 2)\n",
        "print(1 < 2)\n",
        "print(1 > 2)\n",
        "print(1 <= 2)\n",
        "print(1 >= 2)"
      ],
      "metadata": {
        "id": "RmNF5c8jQMTI",
        "colab": {
          "base_uri": "https://localhost:8080/"
        },
        "outputId": "4cb01320-a67a-4063-c58e-2b5ca5cda642"
      },
      "execution_count": null,
      "outputs": [
        {
          "output_type": "stream",
          "name": "stdout",
          "text": [
            "False\n",
            "True\n",
            "True\n",
            "False\n",
            "True\n",
            "False\n"
          ]
        }
      ]
    },
    {
      "cell_type": "code",
      "source": [
        "print(\"가\" == \"나\")\n",
        "print(\"가\" != \"나\")\n",
        "print(\"가\" < \"나\")\n",
        "print(\"가\" > \"나\")"
      ],
      "metadata": {
        "colab": {
          "base_uri": "https://localhost:8080/"
        },
        "id": "7_BV625xQ1a5",
        "outputId": "0a06a507-028e-4a81-cf25-21a049987f3a"
      },
      "execution_count": null,
      "outputs": [
        {
          "output_type": "stream",
          "name": "stdout",
          "text": [
            "False\n",
            "True\n",
            "True\n",
            "False\n"
          ]
        }
      ]
    },
    {
      "cell_type": "code",
      "source": [
        "x=25; print(10<x<30)"
      ],
      "metadata": {
        "colab": {
          "base_uri": "https://localhost:8080/"
        },
        "id": "Ajw4ouh0KOfg",
        "outputId": "c166c76a-b4d2-4e5d-9165-00134c55077c"
      },
      "execution_count": null,
      "outputs": [
        {
          "output_type": "stream",
          "name": "stdout",
          "text": [
            "True\n"
          ]
        }
      ]
    },
    {
      "cell_type": "code",
      "source": [
        "x=5; print(10<x<30)"
      ],
      "metadata": {
        "colab": {
          "base_uri": "https://localhost:8080/"
        },
        "id": "5oLLTe4rKPec",
        "outputId": "a4608a37-3807-49bf-dedb-2b0d5b289ba0"
      },
      "execution_count": null,
      "outputs": [
        {
          "output_type": "stream",
          "name": "stdout",
          "text": [
            "False\n"
          ]
        }
      ]
    },
    {
      "cell_type": "code",
      "source": [
        "print(True)\n",
        "print(not True)"
      ],
      "metadata": {
        "colab": {
          "base_uri": "https://localhost:8080/"
        },
        "id": "7SL-x7UlQ9Ku",
        "outputId": "811b4fdd-3158-4b8e-a270-cc8f474a2b35"
      },
      "execution_count": null,
      "outputs": [
        {
          "output_type": "stream",
          "name": "stdout",
          "text": [
            "True\n",
            "False\n"
          ]
        }
      ]
    },
    {
      "cell_type": "code",
      "source": [
        "x = 5\n",
        "print(x < 10)\n",
        "print(not x < 10)"
      ],
      "metadata": {
        "colab": {
          "base_uri": "https://localhost:8080/"
        },
        "id": "UYbcKuFgRk1O",
        "outputId": "ff64e3ce-92e5-4242-98ce-c73ff8e9463c"
      },
      "execution_count": null,
      "outputs": [
        {
          "output_type": "stream",
          "name": "stdout",
          "text": [
            "True\n",
            "False\n"
          ]
        }
      ]
    },
    {
      "cell_type": "code",
      "source": [
        "x=25; print((10<x) & (x<30))"
      ],
      "metadata": {
        "colab": {
          "base_uri": "https://localhost:8080/"
        },
        "id": "eJW_4bKwK6nB",
        "outputId": "0325d3ef-bc4e-4af6-dc15-b9ce5dde1edf"
      },
      "execution_count": null,
      "outputs": [
        {
          "output_type": "stream",
          "name": "stdout",
          "text": [
            "True\n"
          ]
        }
      ]
    },
    {
      "cell_type": "code",
      "source": [
        "x=25; print((10<x) & (x>30))"
      ],
      "metadata": {
        "colab": {
          "base_uri": "https://localhost:8080/"
        },
        "id": "RJMiSFkSLPaE",
        "outputId": "602824a9-d66e-4001-c4eb-02ff036472b0"
      },
      "execution_count": null,
      "outputs": [
        {
          "output_type": "stream",
          "name": "stdout",
          "text": [
            "False\n"
          ]
        }
      ]
    },
    {
      "cell_type": "code",
      "source": [
        "x=5; print((10<x) | (x<30))"
      ],
      "metadata": {
        "colab": {
          "base_uri": "https://localhost:8080/"
        },
        "id": "1gL3SFWxLADz",
        "outputId": "2fe16569-0814-4580-a047-1fae74ec22f4"
      },
      "execution_count": null,
      "outputs": [
        {
          "output_type": "stream",
          "name": "stdout",
          "text": [
            "True\n"
          ]
        }
      ]
    },
    {
      "cell_type": "code",
      "source": [
        "x=5; print((10<x) | (x>30))"
      ],
      "metadata": {
        "colab": {
          "base_uri": "https://localhost:8080/"
        },
        "id": "Ts4iLgisLLso",
        "outputId": "d7c4e7bd-9feb-4df1-a340-50a86c89c260"
      },
      "execution_count": null,
      "outputs": [
        {
          "output_type": "stream",
          "name": "stdout",
          "text": [
            "False\n"
          ]
        }
      ]
    },
    {
      "cell_type": "markdown",
      "source": [
        "# 조건문"
      ],
      "metadata": {
        "id": "u-RWqACWSEEz"
      }
    },
    {
      "cell_type": "markdown",
      "source": [
        "## if 조건문"
      ],
      "metadata": {
        "id": "ni8kmX0fl3XP"
      }
    },
    {
      "cell_type": "code",
      "source": [
        "# 조건문 if문\n",
        "# 조건이 1개 & 조건 만족할 때 명령어 실행\n",
        "number = int(input(\"정수를 입력하세요>\"))\n",
        "if number > 0:\n",
        "  print(\"입력한 정수값은 양수입니다.\")\n",
        "if number == 0:\n",
        "  print(\"입력한 정수값은 0입니다.\")\n",
        "if number < 0:\n",
        "  print(\"입력한 정수값은 음수입니다.\")"
      ],
      "metadata": {
        "colab": {
          "base_uri": "https://localhost:8080/"
        },
        "id": "FGEWOjLpR2WU",
        "outputId": "84d34e22-de65-4dcf-844e-7c477a149ab0"
      },
      "execution_count": null,
      "outputs": [
        {
          "output_type": "stream",
          "name": "stdout",
          "text": [
            "정수를 입력하세요>0\n",
            "입력한 정수값은 0입니다.\n"
          ]
        }
      ]
    },
    {
      "cell_type": "code",
      "source": [
        "# 짝수, 홀수 구분하는 프로그램\n",
        "no = input(\"숫자(정수)를 입력하세요> \")\n",
        "last_no = int(no[-1])\n",
        "if last_no == 0 or last_no == 2 or last_no == 4 or last_no == 6 or last_no == 8:\n",
        "  print(\"현재 입력한 숫자는 짝수입니다.\")\n",
        "if last_no == 1 or last_no == 3 or last_no == 5 or last_no == 7 or last_no == 9:\n",
        "  print(\"현재 입력한 숫자는 홀수입니다.\")"
      ],
      "metadata": {
        "colab": {
          "base_uri": "https://localhost:8080/"
        },
        "id": "4Vy2vJGLeKET",
        "outputId": "d7b9b371-3647-4a29-833a-fcf00ad7c7d6"
      },
      "execution_count": null,
      "outputs": [
        {
          "output_type": "stream",
          "name": "stdout",
          "text": [
            "숫자(정수)를 입력하세요> 12\n",
            "현재 입력한 숫자는 짝수입니다.\n"
          ]
        }
      ]
    },
    {
      "cell_type": "code",
      "source": [
        "no = input(\"숫자(정수)를 입력하세요> \")\n",
        "last_no = int(no[-1])\n",
        "if last_no % 2 == 0:\n",
        "  print(\"현재 입력한 숫자는 짝수입니다.\")\n",
        "if last_no % 2 == 1:\n",
        "  print(\"현재 입력한 숫자는 홀수입니다.\")"
      ],
      "metadata": {
        "colab": {
          "base_uri": "https://localhost:8080/"
        },
        "id": "RUA7pgCJgH9I",
        "outputId": "788bc8d4-408e-4374-e1f1-c3f1d5e14965"
      },
      "execution_count": null,
      "outputs": [
        {
          "output_type": "stream",
          "name": "stdout",
          "text": [
            "숫자(정수)를 입력하세요> 12\n",
            "현재 입력한 숫자는 짝수입니다.\n"
          ]
        }
      ]
    },
    {
      "cell_type": "code",
      "source": [
        "no = input(\"숫자(정수)를 입력하세요> \")\n",
        "last_no = no[-1]\n",
        "if last_no in \"02468\":\n",
        "  print(\"현재 입력한 숫자는 짝수입니다.\")\n",
        "if last_no in \"13579\":\n",
        "  print(\"현재 입력한 숫자는 홀수입니다.\")"
      ],
      "metadata": {
        "colab": {
          "base_uri": "https://localhost:8080/"
        },
        "id": "jNLUNEfcjnol",
        "outputId": "74be43ff-699f-4ae6-f883-652dd50cd357"
      },
      "execution_count": null,
      "outputs": [
        {
          "output_type": "stream",
          "name": "stdout",
          "text": [
            "숫자(정수)를 입력하세요> 12\n",
            "현재 입력한 숫자는 짝수입니다.\n"
          ]
        }
      ]
    },
    {
      "cell_type": "markdown",
      "source": [
        "## 현재 날짜 시간"
      ],
      "metadata": {
        "id": "RLnClmPEX_Oj"
      }
    },
    {
      "cell_type": "code",
      "source": [
        "import datetime\n",
        "now = datetime.datetime.now()\n",
        "print(now)\n",
        "print(now.year)\n",
        "print(now.month)\n",
        "print(now.day)\n",
        "print(now.hour)\n",
        "print(now.minute)\n",
        "print(now.second)\n",
        "print(now.weekday())\n",
        "# 0: 월, 1: 화, 2: 수, 3: 목, 4: 금, 5: 토, 6: 일"
      ],
      "metadata": {
        "id": "fujNgZszYCQD",
        "colab": {
          "base_uri": "https://localhost:8080/"
        },
        "outputId": "a6b535c6-baca-40e9-e1a8-4265b7879b5c"
      },
      "execution_count": null,
      "outputs": [
        {
          "output_type": "stream",
          "name": "stdout",
          "text": [
            "2024-02-22 01:06:37.073216\n",
            "2024\n",
            "2\n",
            "22\n",
            "1\n",
            "6\n",
            "37\n",
            "3\n"
          ]
        }
      ]
    },
    {
      "cell_type": "code",
      "source": [
        "import datetime\n",
        "now = datetime.datetime.now()\n",
        "\"{}년 {}월 {}일 {}시 {}분 {}초입니다.\".format(now.year, now.month, now.day,\n",
        "                                     now.hour, now.minute, now.second)"
      ],
      "metadata": {
        "colab": {
          "base_uri": "https://localhost:8080/",
          "height": 35
        },
        "id": "7s-N_abCZRf8",
        "outputId": "df151b28-53be-4d3f-eb7b-1afd039609aa"
      },
      "execution_count": null,
      "outputs": [
        {
          "output_type": "execute_result",
          "data": {
            "text/plain": [
              "'2024년 2월 22일 1시 6분 39초입니다.'"
            ],
            "application/vnd.google.colaboratory.intrinsic+json": {
              "type": "string"
            }
          },
          "metadata": {},
          "execution_count": 8
        }
      ]
    },
    {
      "cell_type": "code",
      "source": [
        "# 계절을 알려주는 프로그램\n",
        "import datetime\n",
        "now = datetime.datetime.now()\n",
        "if 3 <= now.month <= 5:\n",
        "  print(\"와 봄이야\")\n",
        "if 6 <= now.month <= 8:\n",
        "  print(\"야 여름이다\")\n",
        "if 9 <= now.month <= 11:\n",
        "  print(\"고독한 가을이야\")\n",
        "if now.month == 12 or 1 <= now.month <= 2:\n",
        "  print(\"겨울의 왕국\")"
      ],
      "metadata": {
        "id": "Bx1qk761ZOAk",
        "colab": {
          "base_uri": "https://localhost:8080/"
        },
        "outputId": "bc62d47b-e826-4fcb-f2cb-505f7573949b"
      },
      "execution_count": null,
      "outputs": [
        {
          "output_type": "stream",
          "name": "stdout",
          "text": [
            "겨울의 왕국\n"
          ]
        }
      ]
    },
    {
      "cell_type": "code",
      "source": [
        "# 오전 오후를 구별하는 프로그램\n",
        "import datetime\n",
        "now = datetime.datetime.now()\n",
        "korea_hour = now.hour+9\n",
        "if korea_hour < 12:\n",
        "  print(\"현재 오전 {}시입니다. ㅠㅠ\".format(korea_hour))\n",
        "if korea_hour >= 12:\n",
        "  print(\"현재 오후 {}시입니다. ^^\".format(korea_hour))"
      ],
      "metadata": {
        "id": "3kzaeDLoYXXA",
        "colab": {
          "base_uri": "https://localhost:8080/"
        },
        "outputId": "474ef6cf-d344-4d14-c0c9-003b23fddbdf"
      },
      "execution_count": null,
      "outputs": [
        {
          "output_type": "stream",
          "name": "stdout",
          "text": [
            "현재 오전 10시입니다. ㅠㅠ\n"
          ]
        }
      ]
    },
    {
      "cell_type": "markdown",
      "source": [
        "## 확인 문제"
      ],
      "metadata": {
        "id": "yf76yNHIZEJA"
      }
    },
    {
      "cell_type": "code",
      "source": [
        "False\n",
        "True\n",
        "False\n",
        "True\n",
        "True\n",
        "False"
      ],
      "metadata": {
        "id": "jzBj2OaKaFGN"
      },
      "execution_count": null,
      "outputs": []
    },
    {
      "cell_type": "code",
      "source": [
        "3"
      ],
      "metadata": {
        "id": "0gG-4OzZbkim"
      },
      "execution_count": null,
      "outputs": []
    },
    {
      "cell_type": "code",
      "source": [
        "OR\n",
        "AND\n",
        "OR"
      ],
      "metadata": {
        "id": "lTrNmmHfbtPM"
      },
      "execution_count": null,
      "outputs": []
    },
    {
      "cell_type": "code",
      "source": [
        "a = float(input(\"> 1번째 숫자: \"))\n",
        "b = float(input(\"> 2번째 숫자: \"))\n",
        "print()\n",
        "\n",
        "if a > b:\n",
        "    print(\"처음 입력했던 {}가 {}보다 더 큽니다\".format(a, b))\n",
        "if a < b:\n",
        "    print(\"두 번째로 입력했던 {}가 {}보다 더 큽니다\".format(b, a))"
      ],
      "metadata": {
        "colab": {
          "base_uri": "https://localhost:8080/"
        },
        "id": "qj0ln4eYcDAe",
        "outputId": "8aa78239-965b-4373-f0a4-9d2896d0bae2"
      },
      "execution_count": null,
      "outputs": [
        {
          "output_type": "stream",
          "name": "stdout",
          "text": [
            "> 1번째 숫자: 100\n",
            "> 2번째 숫자: 10\n",
            "\n",
            "처음 입력했던 100.0가 10.0보다 더 큽니다\n"
          ]
        }
      ]
    },
    {
      "cell_type": "markdown",
      "source": [
        "## if ~ else 조건문"
      ],
      "metadata": {
        "id": "Klle3Matl9EE"
      }
    },
    {
      "cell_type": "code",
      "source": [
        "no = input(\"숫자(정수)를 입력하세요> \")\n",
        "last_no = int(no[-1])\n",
        "if last_no % 2 == 0:\n",
        "  print(\"현재 입력한 숫자는 짝수입니다.\")\n",
        "else:\n",
        "  print(\"현재 입력한 숫자는 홀수입니다.\")"
      ],
      "metadata": {
        "id": "eLpj7xv4kJCk",
        "colab": {
          "base_uri": "https://localhost:8080/"
        },
        "outputId": "0d12f603-366e-49ea-9e0a-3f0dac1d9ec9"
      },
      "execution_count": null,
      "outputs": [
        {
          "output_type": "stream",
          "name": "stdout",
          "text": [
            "숫자(정수)를 입력하세요> 4\n",
            "현재 입력한 숫자는 짝수입니다.\n"
          ]
        }
      ]
    },
    {
      "cell_type": "markdown",
      "source": [
        "## if ~ elif ~ else 조건문"
      ],
      "metadata": {
        "id": "iBNZ3oeynThb"
      }
    },
    {
      "cell_type": "code",
      "source": [
        "# 계절을 알려주는 프로그램\n",
        "import datetime\n",
        "now = datetime.datetime.now()\n",
        "if 3 <= now.month <= 5:\n",
        "  print(\"와 봄이야\")\n",
        "elif 6 <= now.month <= 8:\n",
        "  print(\"야 여름이다\")\n",
        "elif 9 <= now.month <= 11:\n",
        "  print(\"고독한 가을이야\")\n",
        "else:\n",
        "  print(\"겨울의 왕국\")"
      ],
      "metadata": {
        "id": "3HvTp0DlmZyT",
        "colab": {
          "base_uri": "https://localhost:8080/"
        },
        "outputId": "0c343e05-673f-433d-af64-f729319ab589"
      },
      "execution_count": null,
      "outputs": [
        {
          "output_type": "stream",
          "name": "stdout",
          "text": [
            "겨울의 왕국\n"
          ]
        }
      ]
    },
    {
      "cell_type": "code",
      "source": [
        "# 학점을 알려주는 프로그램\n",
        "# A: 3.5~4.5\n",
        "# B: 2.5~3.5\n",
        "# C: 1.5~2.5\n",
        "# D: 0~1.5\n",
        "# F: 0\n",
        "score = float(input(\"학점을 입력하세요> \"))\n",
        "if 3.5 <= score <= 4.5:\n",
        "  print(\"당신의 학점은 A입니다.\")\n",
        "elif 2.5 <= score < 3.5:\n",
        "  print(\"당신의 학점은 B입니다.\")\n",
        "elif 1.5 <= score < 2.5:\n",
        "  print(\"당신의 학점은 C입니다.\")\n",
        "elif 0 < score < 1.5:\n",
        "  print(\"당신의 학점은 D입니다.\")\n",
        "else:\n",
        "  print(\"당신의 학점은 F입니다.\")"
      ],
      "metadata": {
        "colab": {
          "base_uri": "https://localhost:8080/"
        },
        "id": "OyR4IOWunq45",
        "outputId": "f87dc507-ef73-4c8a-d994-ff58f62f863d"
      },
      "execution_count": null,
      "outputs": [
        {
          "output_type": "stream",
          "name": "stdout",
          "text": [
            "학점을 입력하세요> 3.0\n",
            "당신의 학점은 B입니다.\n"
          ]
        }
      ]
    },
    {
      "cell_type": "code",
      "source": [
        "score = float(input(\"학점을 입력하세요> \"))\n",
        "if 3.5 <= score <= 4.5:\n",
        "  print(\"당신의 학점은 A입니다.\")\n",
        "elif 2.5 <= score:\n",
        "  print(\"당신의 학점은 B입니다.\")\n",
        "elif 1.5 <= score:\n",
        "  print(\"당신의 학점은 C입니다.\")\n",
        "elif 0 < score:\n",
        "  print(\"당신의 학점은 D입니다.\")\n",
        "else:\n",
        "  print(\"당신의 학점은 F입니다.\")"
      ],
      "metadata": {
        "colab": {
          "base_uri": "https://localhost:8080/"
        },
        "id": "nSnwI413rTsF",
        "outputId": "89ad11fd-f4ba-4b6f-f79d-a2494a9117de"
      },
      "execution_count": null,
      "outputs": [
        {
          "output_type": "stream",
          "name": "stdout",
          "text": [
            "학점을 입력하세요> 3.0\n",
            "당신의 학점은 B입니다.\n"
          ]
        }
      ]
    },
    {
      "cell_type": "markdown",
      "source": [
        "## 조건문에 들어가면 False 로 바뀌는 값"
      ],
      "metadata": {
        "id": "TVHPFE3EstTe"
      }
    },
    {
      "cell_type": "code",
      "source": [
        "if None:\n",
        "  print(\"None 값은 현재 True입니다.\")\n",
        "else:\n",
        "  print(\"None 값은 현재 False입니다.\")"
      ],
      "metadata": {
        "colab": {
          "base_uri": "https://localhost:8080/"
        },
        "id": "5sxD2moUsxoo",
        "outputId": "7e5f5d11-013b-4d38-ab50-b206e95f587b"
      },
      "execution_count": null,
      "outputs": [
        {
          "output_type": "stream",
          "name": "stdout",
          "text": [
            "None 값은 현재 False입니다.\n"
          ]
        }
      ]
    },
    {
      "cell_type": "code",
      "source": [
        "if 0:\n",
        "  print(\"0 값은 현재 True입니다.\")\n",
        "else:\n",
        "  print(\"0 값은 현재 False입니다.\")"
      ],
      "metadata": {
        "colab": {
          "base_uri": "https://localhost:8080/"
        },
        "id": "2a1LUCKltRDg",
        "outputId": "72f6ed90-9517-442b-ff6d-71c72a7f4480"
      },
      "execution_count": null,
      "outputs": [
        {
          "output_type": "stream",
          "name": "stdout",
          "text": [
            "0 값은 현재 False입니다.\n"
          ]
        }
      ]
    },
    {
      "cell_type": "code",
      "source": [
        "if []:\n",
        "  print(\"리스트 값은 현재 True입니다.\")\n",
        "else:\n",
        "  print(\"리스트 값은 현재 False입니다.\")"
      ],
      "metadata": {
        "colab": {
          "base_uri": "https://localhost:8080/"
        },
        "id": "HH6EKY8dtfNK",
        "outputId": "d8b1265d-a23c-447e-a023-3e5280e5c122"
      },
      "execution_count": null,
      "outputs": [
        {
          "output_type": "stream",
          "name": "stdout",
          "text": [
            "리스트 값은 현재 False입니다.\n"
          ]
        }
      ]
    },
    {
      "cell_type": "code",
      "source": [
        "if 1:\n",
        "  print(\"1 값은 현재 True입니다.\")\n",
        "else:\n",
        "  print(\"1 값은 현재 False입니다.\")"
      ],
      "metadata": {
        "colab": {
          "base_uri": "https://localhost:8080/"
        },
        "id": "k3i98FlHttIB",
        "outputId": "df5fce4a-bb71-4ee8-a2ce-c21170056ace"
      },
      "execution_count": null,
      "outputs": [
        {
          "output_type": "stream",
          "name": "stdout",
          "text": [
            "1 값은 현재 True입니다.\n"
          ]
        }
      ]
    },
    {
      "cell_type": "markdown",
      "source": [
        "## pass 키워드"
      ],
      "metadata": {
        "id": "PHUzb-xdxPUf"
      }
    },
    {
      "cell_type": "code",
      "source": [
        "if 4 % 2 == 0:\n",
        "print(\"짝수\")"
      ],
      "metadata": {
        "colab": {
          "base_uri": "https://localhost:8080/",
          "height": 145
        },
        "id": "XqweCLWpgY9D",
        "outputId": "1136614f-c677-490e-8987-82fd4c479f0e"
      },
      "execution_count": null,
      "outputs": [
        {
          "output_type": "error",
          "ename": "IndentationError",
          "evalue": "expected an indented block after 'if' statement on line 1 (<ipython-input-11-f3ef2f22c11e>, line 2)",
          "traceback": [
            "\u001b[0;36m  File \u001b[0;32m\"<ipython-input-11-f3ef2f22c11e>\"\u001b[0;36m, line \u001b[0;32m2\u001b[0m\n\u001b[0;31m    print(\"짝수\")\u001b[0m\n\u001b[0m    ^\u001b[0m\n\u001b[0;31mIndentationError\u001b[0m\u001b[0;31m:\u001b[0m expected an indented block after 'if' statement on line 1\n"
          ]
        }
      ]
    },
    {
      "cell_type": "code",
      "source": [
        "if 4 % 2 == 0:\n",
        "  print(\"짝수\")"
      ],
      "metadata": {
        "colab": {
          "base_uri": "https://localhost:8080/"
        },
        "id": "W5dwL9regoff",
        "outputId": "781e5516-4d01-4f69-8296-804104a94c53"
      },
      "execution_count": null,
      "outputs": [
        {
          "output_type": "stream",
          "name": "stdout",
          "text": [
            "짝수\n"
          ]
        }
      ]
    },
    {
      "cell_type": "code",
      "source": [
        "no = input(\"숫자(정수)를 입력하세요> \")\n",
        "last_no = int(no[-1])\n",
        "if last_no % 2 == 0:\n",
        "  pass\n",
        "else:\n",
        "  pass"
      ],
      "metadata": {
        "colab": {
          "base_uri": "https://localhost:8080/"
        },
        "id": "dAc1bbUrxON6",
        "outputId": "fe8abf2b-db1e-4761-de3b-7cd492a3c248"
      },
      "execution_count": null,
      "outputs": [
        {
          "name": "stdout",
          "output_type": "stream",
          "text": [
            "숫자(정수)를 입력하세요> 2\n"
          ]
        }
      ]
    },
    {
      "cell_type": "code",
      "source": [
        "no = input(\"숫자(정수)를 입력하세요> \")\n",
        "last_no = int(no[-1])\n",
        "if last_no % 2 == 0:\n",
        "  raise NotImplementedError\n",
        "else:\n",
        "  raise NotImplementedError"
      ],
      "metadata": {
        "colab": {
          "base_uri": "https://localhost:8080/",
          "height": 263
        },
        "id": "7JxMWANmxk8v",
        "outputId": "40d38ad6-e6a6-4174-bc54-d838e42a2a6e"
      },
      "execution_count": null,
      "outputs": [
        {
          "name": "stdout",
          "output_type": "stream",
          "text": [
            "숫자(정수)를 입력하세요> 12\n"
          ]
        },
        {
          "output_type": "error",
          "ename": "NotImplementedError",
          "evalue": "ignored",
          "traceback": [
            "\u001b[0;31m---------------------------------------------------------------------------\u001b[0m",
            "\u001b[0;31mNotImplementedError\u001b[0m                       Traceback (most recent call last)",
            "\u001b[0;32m<ipython-input-89-f21dc483d97d>\u001b[0m in \u001b[0;36m<cell line: 3>\u001b[0;34m()\u001b[0m\n\u001b[1;32m      2\u001b[0m \u001b[0mlast_no\u001b[0m \u001b[0;34m=\u001b[0m \u001b[0mint\u001b[0m\u001b[0;34m(\u001b[0m\u001b[0mno\u001b[0m\u001b[0;34m[\u001b[0m\u001b[0;34m-\u001b[0m\u001b[0;36m1\u001b[0m\u001b[0;34m]\u001b[0m\u001b[0;34m)\u001b[0m\u001b[0;34m\u001b[0m\u001b[0;34m\u001b[0m\u001b[0m\n\u001b[1;32m      3\u001b[0m \u001b[0;32mif\u001b[0m \u001b[0mlast_no\u001b[0m \u001b[0;34m%\u001b[0m \u001b[0;36m2\u001b[0m \u001b[0;34m==\u001b[0m \u001b[0;36m0\u001b[0m\u001b[0;34m:\u001b[0m\u001b[0;34m\u001b[0m\u001b[0;34m\u001b[0m\u001b[0m\n\u001b[0;32m----> 4\u001b[0;31m   \u001b[0;32mraise\u001b[0m \u001b[0mNotImplementedError\u001b[0m\u001b[0;34m\u001b[0m\u001b[0;34m\u001b[0m\u001b[0m\n\u001b[0m\u001b[1;32m      5\u001b[0m \u001b[0;32melse\u001b[0m\u001b[0;34m:\u001b[0m\u001b[0;34m\u001b[0m\u001b[0;34m\u001b[0m\u001b[0m\n\u001b[1;32m      6\u001b[0m   \u001b[0;32mraise\u001b[0m \u001b[0mNotImplementedError\u001b[0m\u001b[0;34m\u001b[0m\u001b[0;34m\u001b[0m\u001b[0m\n",
            "\u001b[0;31mNotImplementedError\u001b[0m: "
          ]
        }
      ]
    },
    {
      "cell_type": "markdown",
      "source": [
        "## 확인 문제"
      ],
      "metadata": {
        "id": "7FHTpHhcawiV"
      }
    },
    {
      "cell_type": "code",
      "source": [
        "2+10=12\n",
        "1+4=5\n",
        "출력 없음"
      ],
      "metadata": {
        "id": "0mmy3eD4nyDc"
      },
      "execution_count": null,
      "outputs": []
    },
    {
      "cell_type": "code",
      "source": [
        "x = 15\n",
        "if x > 10 & x < 20:\n",
        "  print(\"조건에 맞습니다.\")"
      ],
      "metadata": {
        "colab": {
          "base_uri": "https://localhost:8080/"
        },
        "id": "feHET_fNn3H0",
        "outputId": "7539c63f-b5c7-45a4-bc3d-bc93eb5300be"
      },
      "execution_count": null,
      "outputs": [
        {
          "output_type": "stream",
          "name": "stdout",
          "text": [
            "조건에 맞습니다.\n"
          ]
        }
      ]
    },
    {
      "cell_type": "code",
      "source": [
        "x = 15\n",
        "if (x > 10) & (x < 20):\n",
        "  print(\"조건에 맞습니다.\")"
      ],
      "metadata": {
        "colab": {
          "base_uri": "https://localhost:8080/"
        },
        "id": "w3zR11v7od3d",
        "outputId": "625a5202-d1c8-46d2-e954-431ed7b36989"
      },
      "execution_count": null,
      "outputs": [
        {
          "output_type": "stream",
          "name": "stdout",
          "text": [
            "조건에 맞습니다.\n"
          ]
        }
      ]
    },
    {
      "cell_type": "code",
      "source": [
        "1996 % 12"
      ],
      "metadata": {
        "colab": {
          "base_uri": "https://localhost:8080/"
        },
        "id": "K_VWlm6rcKrq",
        "outputId": "42842cec-9f48-4ac9-8962-7d377864e960"
      },
      "execution_count": null,
      "outputs": [
        {
          "output_type": "execute_result",
          "data": {
            "text/plain": [
              "4"
            ]
          },
          "metadata": {},
          "execution_count": 4
        }
      ]
    },
    {
      "cell_type": "code",
      "source": [
        "str_input = input(\"태어난 해를 입력해주세요> \")\n",
        "birth_year = int(str_input) % 12\n",
        "\n",
        "if birth_year == 0:\n",
        "    print(\"원숭이 띠입니다.\")\n",
        "elif birth_year == 1:\n",
        "    print(\"닭 띠입니다.\")\n",
        "elif birth_year == 2:\n",
        "    print(\"개 띠입니다.\")\n",
        "elif birth_year == 3:\n",
        "    print(\"돼지 띠입니다.\")\n",
        "elif birth_year == 4:\n",
        "    print(\"쥐 띠입니다.\")\n",
        "elif birth_year == 5:\n",
        "    print(\"소 띠입니다.\")\n",
        "elif birth_year == 6:\n",
        "    print(\"범 띠입니다.\")\n",
        "elif birth_year == 7:\n",
        "    print(\"토끼 띠입니다.\")\n",
        "elif birth_year == 8:\n",
        "    print(\"용 띠입니다.\")\n",
        "elif birth_year == 9:\n",
        "    print(\"뱀 띠입니다.\")\n",
        "elif birth_year == 10:\n",
        "    print(\"말 띠입니다.\")\n",
        "elif birth_year == 11:\n",
        "    print(\"양 띠입니다.\")"
      ],
      "metadata": {
        "colab": {
          "base_uri": "https://localhost:8080/"
        },
        "id": "pMTYIh4Z1dZb",
        "outputId": "366bd013-550d-4c8a-e07f-9c623c6db7f8"
      },
      "execution_count": null,
      "outputs": [
        {
          "output_type": "stream",
          "name": "stdout",
          "text": [
            "태어난 해를 입력해주세요> 2022\n",
            "범 띠입니다.\n"
          ]
        }
      ]
    },
    {
      "cell_type": "markdown",
      "source": [
        "# 리스트"
      ],
      "metadata": {
        "id": "_2fXejLm1QxW"
      }
    },
    {
      "cell_type": "code",
      "source": [
        "# 리스트 생성\n",
        "list_1 = [1,2,3,4,5]\n",
        "print(list_1)\n",
        "# 대괄호 안의 개별값 = 요소 = 5개의 요소"
      ],
      "metadata": {
        "colab": {
          "base_uri": "https://localhost:8080/"
        },
        "id": "1KyNZYrQ1SfO",
        "outputId": "5c54644d-3263-4025-b7bd-842450e2d87f"
      },
      "execution_count": null,
      "outputs": [
        {
          "output_type": "stream",
          "name": "stdout",
          "text": [
            "[1, 2, 3, 4, 5]\n"
          ]
        }
      ]
    },
    {
      "cell_type": "code",
      "source": [
        "list_2 = [\"안\",\"녕\",\"하\",\"세\",\"요\"]\n",
        "print(list_2)"
      ],
      "metadata": {
        "colab": {
          "base_uri": "https://localhost:8080/"
        },
        "id": "PKIvr61e1hHs",
        "outputId": "47c03d86-eec8-442b-d27f-a74f89dc9b10"
      },
      "execution_count": null,
      "outputs": [
        {
          "output_type": "stream",
          "name": "stdout",
          "text": [
            "['안', '녕', '하', '세', '요']\n"
          ]
        }
      ]
    },
    {
      "cell_type": "code",
      "source": [
        "list_3 = [1, 2, 3, \"안\", \"녕\", True]\n",
        "print(list_3)"
      ],
      "metadata": {
        "colab": {
          "base_uri": "https://localhost:8080/"
        },
        "id": "B5ekGjhH130I",
        "outputId": "bdbb0839-4739-4538-d9dc-3c68e200c2e6"
      },
      "execution_count": null,
      "outputs": [
        {
          "output_type": "stream",
          "name": "stdout",
          "text": [
            "[1, 2, 3, '안', '녕', True]\n"
          ]
        }
      ]
    },
    {
      "cell_type": "markdown",
      "source": [
        "## 인덱싱"
      ],
      "metadata": {
        "id": "P5bB4Y8x4LLA"
      }
    },
    {
      "cell_type": "code",
      "source": [
        "list_a = [[1,2,3,4], \"안녕하세요\", True]\n",
        "print(list_a)"
      ],
      "metadata": {
        "id": "kMPq3-R52Qs-",
        "colab": {
          "base_uri": "https://localhost:8080/"
        },
        "outputId": "f3c8b31f-2997-4318-da38-735b81a8d1a1"
      },
      "execution_count": null,
      "outputs": [
        {
          "output_type": "stream",
          "name": "stdout",
          "text": [
            "[[1, 2, 3, 4], '안녕하세요', True]\n"
          ]
        }
      ]
    },
    {
      "cell_type": "code",
      "source": [
        "list_a[0]"
      ],
      "metadata": {
        "id": "eH9jMtrh4cQL",
        "colab": {
          "base_uri": "https://localhost:8080/"
        },
        "outputId": "c1efbb66-11f6-4d3e-9f0b-c658b1ca019e"
      },
      "execution_count": null,
      "outputs": [
        {
          "output_type": "execute_result",
          "data": {
            "text/plain": [
              "[1, 2, 3, 4]"
            ]
          },
          "metadata": {},
          "execution_count": 15
        }
      ]
    },
    {
      "cell_type": "code",
      "source": [
        "list_a[1]"
      ],
      "metadata": {
        "id": "l0PVclc34olD",
        "colab": {
          "base_uri": "https://localhost:8080/",
          "height": 35
        },
        "outputId": "0234a657-11b6-48a9-bd29-f8435501ea2e"
      },
      "execution_count": null,
      "outputs": [
        {
          "output_type": "execute_result",
          "data": {
            "text/plain": [
              "'안녕하세요'"
            ],
            "application/vnd.google.colaboratory.intrinsic+json": {
              "type": "string"
            }
          },
          "metadata": {},
          "execution_count": 16
        }
      ]
    },
    {
      "cell_type": "code",
      "source": [
        "list_a[2]"
      ],
      "metadata": {
        "id": "k_uyX0uS4sZ7",
        "colab": {
          "base_uri": "https://localhost:8080/"
        },
        "outputId": "e0d92177-a798-42ca-8524-059b0a386652"
      },
      "execution_count": null,
      "outputs": [
        {
          "output_type": "execute_result",
          "data": {
            "text/plain": [
              "True"
            ]
          },
          "metadata": {},
          "execution_count": 17
        }
      ]
    },
    {
      "cell_type": "code",
      "source": [
        "# 리스트 안의 리스트 접근\n",
        "list_a[0][2]"
      ],
      "metadata": {
        "colab": {
          "base_uri": "https://localhost:8080/"
        },
        "id": "f7XYNy5e4uF9",
        "outputId": "18cf5001-2aab-4cc4-fbda-161f8917670e"
      },
      "execution_count": null,
      "outputs": [
        {
          "output_type": "execute_result",
          "data": {
            "text/plain": [
              "3"
            ]
          },
          "metadata": {},
          "execution_count": 18
        }
      ]
    },
    {
      "cell_type": "code",
      "source": [
        "list_a[1][2]"
      ],
      "metadata": {
        "colab": {
          "base_uri": "https://localhost:8080/",
          "height": 35
        },
        "id": "I5Pu9hyv4_8c",
        "outputId": "d9c13bb7-cfdb-4829-b785-859b8f2450f2"
      },
      "execution_count": null,
      "outputs": [
        {
          "output_type": "execute_result",
          "data": {
            "text/plain": [
              "'하'"
            ],
            "application/vnd.google.colaboratory.intrinsic+json": {
              "type": "string"
            }
          },
          "metadata": {},
          "execution_count": 19
        }
      ]
    },
    {
      "cell_type": "markdown",
      "source": [
        "## 슬라이싱"
      ],
      "metadata": {
        "id": "SsRdqSd-55vP"
      }
    },
    {
      "cell_type": "code",
      "source": [
        "# 인덱스 범위\n",
        "# 끝번호 포함하지 않음\n",
        "print(list_a[0:2])\n",
        "print(list_a[0:1+1])"
      ],
      "metadata": {
        "colab": {
          "base_uri": "https://localhost:8080/"
        },
        "id": "WjTCqmdx5RSl",
        "outputId": "61030292-d6b5-4255-8fe0-1c3efdb50dd1"
      },
      "execution_count": null,
      "outputs": [
        {
          "output_type": "stream",
          "name": "stdout",
          "text": [
            "[[1, 2, 3, 4], '안녕하세요']\n",
            "[[1, 2, 3, 4], '안녕하세요']\n"
          ]
        }
      ]
    },
    {
      "cell_type": "code",
      "source": [
        "# 시작번호 생략 = 처음부터~\n",
        "print(list_a[:2])\n",
        "print(list_a[:1+1])"
      ],
      "metadata": {
        "colab": {
          "base_uri": "https://localhost:8080/"
        },
        "id": "WQaZFPuz6R7P",
        "outputId": "f314970e-0922-4827-fa42-e168aca75f44"
      },
      "execution_count": null,
      "outputs": [
        {
          "output_type": "stream",
          "name": "stdout",
          "text": [
            "[[1, 2, 3, 4], '안녕하세요']\n",
            "[[1, 2, 3, 4], '안녕하세요']\n"
          ]
        }
      ]
    },
    {
      "cell_type": "code",
      "source": [
        "# 끝번호 생략 = 끝까지~\n",
        "print(list_a[1:])\n",
        "print(list_a[1:])"
      ],
      "metadata": {
        "colab": {
          "base_uri": "https://localhost:8080/"
        },
        "id": "UX3PSdR46oNJ",
        "outputId": "b1a6516a-01b4-40aa-b2a0-f189a1124183"
      },
      "execution_count": null,
      "outputs": [
        {
          "output_type": "stream",
          "name": "stdout",
          "text": [
            "['안녕하세요', True]\n",
            "['안녕하세요', True]\n"
          ]
        }
      ]
    },
    {
      "cell_type": "markdown",
      "source": [
        "## 음수 인덱스"
      ],
      "metadata": {
        "id": "klFC0kqS_Cko"
      }
    },
    {
      "cell_type": "code",
      "source": [
        "list_a[-1]"
      ],
      "metadata": {
        "colab": {
          "base_uri": "https://localhost:8080/"
        },
        "id": "VJ57_SRf6_AR",
        "outputId": "7c4e57be-a03f-4466-a455-77d95dc97a7f"
      },
      "execution_count": null,
      "outputs": [
        {
          "output_type": "execute_result",
          "data": {
            "text/plain": [
              "True"
            ]
          },
          "metadata": {},
          "execution_count": 23
        }
      ]
    },
    {
      "cell_type": "code",
      "source": [
        "list_a[-2]"
      ],
      "metadata": {
        "colab": {
          "base_uri": "https://localhost:8080/",
          "height": 35
        },
        "id": "UuCFR-hZ_TFd",
        "outputId": "bc007d50-f242-4f0b-dcd8-20a0616963c2"
      },
      "execution_count": null,
      "outputs": [
        {
          "output_type": "execute_result",
          "data": {
            "text/plain": [
              "'안녕하세요'"
            ],
            "application/vnd.google.colaboratory.intrinsic+json": {
              "type": "string"
            }
          },
          "metadata": {},
          "execution_count": 24
        }
      ]
    },
    {
      "cell_type": "code",
      "source": [
        "list_a[-3]"
      ],
      "metadata": {
        "colab": {
          "base_uri": "https://localhost:8080/"
        },
        "id": "NsUpwNDn_V7E",
        "outputId": "8f2ecc63-32ee-455b-94bc-cd9189ea67d8"
      },
      "execution_count": null,
      "outputs": [
        {
          "output_type": "execute_result",
          "data": {
            "text/plain": [
              "[1, 2, 3, 4]"
            ]
          },
          "metadata": {},
          "execution_count": 25
        }
      ]
    },
    {
      "cell_type": "markdown",
      "source": [
        "## 증가값"
      ],
      "metadata": {
        "id": "LRH9t2XjgdWo"
      }
    },
    {
      "cell_type": "code",
      "source": [
        "region = [\"서울\", \"부산\", \"대구\", \"광주\", \"대전\", \"제주\"]\n",
        "region[::2] # 2 칸씩 인덱싱"
      ],
      "metadata": {
        "colab": {
          "base_uri": "https://localhost:8080/"
        },
        "id": "GRQZhl2nghbx",
        "outputId": "1b6368a0-75c9-452b-97be-dd1525c8bc31"
      },
      "execution_count": null,
      "outputs": [
        {
          "output_type": "execute_result",
          "data": {
            "text/plain": [
              "['서울', '대구', '대전']"
            ]
          },
          "metadata": {},
          "execution_count": 26
        }
      ]
    },
    {
      "cell_type": "code",
      "source": [
        "# 역으로 슬라이싱\n",
        "region[::-1]"
      ],
      "metadata": {
        "colab": {
          "base_uri": "https://localhost:8080/"
        },
        "id": "fx8EyplSgtTE",
        "outputId": "b5bae93e-9317-4684-8bac-90e9de022304"
      },
      "execution_count": null,
      "outputs": [
        {
          "output_type": "execute_result",
          "data": {
            "text/plain": [
              "['제주', '대전', '광주', '대구', '부산', '서울']"
            ]
          },
          "metadata": {},
          "execution_count": 27
        }
      ]
    },
    {
      "cell_type": "markdown",
      "source": [
        "## 리스트 요소 변경"
      ],
      "metadata": {
        "id": "yEGoX1Cp_cj_"
      }
    },
    {
      "cell_type": "code",
      "source": [
        "list_a[2] = False\n",
        "print(list_a[2])\n",
        "print(list_a)"
      ],
      "metadata": {
        "colab": {
          "base_uri": "https://localhost:8080/"
        },
        "id": "7bQyKPXT_Y0V",
        "outputId": "f65aa088-d10c-49b2-e008-e060bf467d36"
      },
      "execution_count": null,
      "outputs": [
        {
          "output_type": "stream",
          "name": "stdout",
          "text": [
            "False\n",
            "[[1, 2, 3, 4], '안녕하세요', False]\n"
          ]
        }
      ]
    },
    {
      "cell_type": "code",
      "source": [
        "list_a[1] = \"잘자요\"\n",
        "print(list_a[1])\n",
        "print(list_a)"
      ],
      "metadata": {
        "colab": {
          "base_uri": "https://localhost:8080/"
        },
        "id": "ECcE6PBd_qTU",
        "outputId": "5d48d07e-0c8b-4347-c6f7-4593aab01aeb"
      },
      "execution_count": null,
      "outputs": [
        {
          "output_type": "stream",
          "name": "stdout",
          "text": [
            "잘자요\n",
            "[[1, 2, 3, 4], '잘자요', False]\n"
          ]
        }
      ]
    },
    {
      "cell_type": "code",
      "source": [
        "list_a[0][0] = 10\n",
        "print(list_a[0])\n",
        "print(list_a)"
      ],
      "metadata": {
        "colab": {
          "base_uri": "https://localhost:8080/"
        },
        "id": "7jp6tM-k_i9x",
        "outputId": "f8781c88-9f70-4302-e37b-d7f5fbb5e9b4"
      },
      "execution_count": null,
      "outputs": [
        {
          "output_type": "stream",
          "name": "stdout",
          "text": [
            "[10, 2, 3, 4]\n",
            "[[10, 2, 3, 4], '잘자요', False]\n"
          ]
        }
      ]
    },
    {
      "cell_type": "markdown",
      "source": [
        "## IndexError"
      ],
      "metadata": {
        "id": "bjOtS2J0BaIA"
      }
    },
    {
      "cell_type": "code",
      "source": [
        "list_a[10]"
      ],
      "metadata": {
        "colab": {
          "base_uri": "https://localhost:8080/",
          "height": 147
        },
        "id": "HODjnXuoAUMU",
        "outputId": "c84d8247-4a4c-4ab6-d733-daa1c812c814"
      },
      "execution_count": null,
      "outputs": [
        {
          "output_type": "error",
          "ename": "IndexError",
          "evalue": "list index out of range",
          "traceback": [
            "\u001b[0;31m---------------------------------------------------------------------------\u001b[0m",
            "\u001b[0;31mIndexError\u001b[0m                                Traceback (most recent call last)",
            "\u001b[0;32m<ipython-input-31-bf9064e4a2b4>\u001b[0m in \u001b[0;36m<cell line: 1>\u001b[0;34m()\u001b[0m\n\u001b[0;32m----> 1\u001b[0;31m \u001b[0mlist_a\u001b[0m\u001b[0;34m[\u001b[0m\u001b[0;36m10\u001b[0m\u001b[0;34m]\u001b[0m\u001b[0;34m\u001b[0m\u001b[0;34m\u001b[0m\u001b[0m\n\u001b[0m",
            "\u001b[0;31mIndexError\u001b[0m: list index out of range"
          ]
        }
      ]
    },
    {
      "cell_type": "code",
      "source": [
        "list_a[3]"
      ],
      "metadata": {
        "colab": {
          "base_uri": "https://localhost:8080/",
          "height": 147
        },
        "id": "fDWuSNQVBjuz",
        "outputId": "d3f63b7f-f88f-4260-e2f0-81e9efe43916"
      },
      "execution_count": null,
      "outputs": [
        {
          "output_type": "error",
          "ename": "IndexError",
          "evalue": "list index out of range",
          "traceback": [
            "\u001b[0;31m---------------------------------------------------------------------------\u001b[0m",
            "\u001b[0;31mIndexError\u001b[0m                                Traceback (most recent call last)",
            "\u001b[0;32m<ipython-input-32-cf195278c15b>\u001b[0m in \u001b[0;36m<cell line: 1>\u001b[0;34m()\u001b[0m\n\u001b[0;32m----> 1\u001b[0;31m \u001b[0mlist_a\u001b[0m\u001b[0;34m[\u001b[0m\u001b[0;36m3\u001b[0m\u001b[0;34m]\u001b[0m\u001b[0;34m\u001b[0m\u001b[0;34m\u001b[0m\u001b[0m\n\u001b[0m",
            "\u001b[0;31mIndexError\u001b[0m: list index out of range"
          ]
        }
      ]
    },
    {
      "cell_type": "code",
      "source": [
        "list_a[0][4]"
      ],
      "metadata": {
        "colab": {
          "base_uri": "https://localhost:8080/",
          "height": 147
        },
        "id": "VwGLKS7K5Jun",
        "outputId": "a5154eb5-b175-49c2-d05a-4e1d3fd541d6"
      },
      "execution_count": null,
      "outputs": [
        {
          "output_type": "error",
          "ename": "IndexError",
          "evalue": "list index out of range",
          "traceback": [
            "\u001b[0;31m---------------------------------------------------------------------------\u001b[0m",
            "\u001b[0;31mIndexError\u001b[0m                                Traceback (most recent call last)",
            "\u001b[0;32m<ipython-input-33-9c3308496c39>\u001b[0m in \u001b[0;36m<cell line: 1>\u001b[0;34m()\u001b[0m\n\u001b[0;32m----> 1\u001b[0;31m \u001b[0mlist_a\u001b[0m\u001b[0;34m[\u001b[0m\u001b[0;36m0\u001b[0m\u001b[0;34m]\u001b[0m\u001b[0;34m[\u001b[0m\u001b[0;36m4\u001b[0m\u001b[0;34m]\u001b[0m\u001b[0;34m\u001b[0m\u001b[0;34m\u001b[0m\u001b[0m\n\u001b[0m",
            "\u001b[0;31mIndexError\u001b[0m: list index out of range"
          ]
        }
      ]
    },
    {
      "cell_type": "markdown",
      "source": [
        "## 연결 vs. 추가"
      ],
      "metadata": {
        "id": "JZk3UCKDwkyx"
      }
    },
    {
      "cell_type": "code",
      "execution_count": null,
      "metadata": {
        "colab": {
          "base_uri": "https://localhost:8080/"
        },
        "id": "_SwfFyGowed0",
        "outputId": "bf3ee664-f582-42a5-c0b3-d55df3dd5ebb"
      },
      "outputs": [
        {
          "output_type": "stream",
          "name": "stdout",
          "text": [
            "[1, 2, 3, 4, 5, 6]\n"
          ]
        }
      ],
      "source": [
        "# 리스트 합치기 = 연결 +\n",
        "list_1 = [1,2,3]\n",
        "list_2 = [4,5,6]\n",
        "print(list_1 + list_2)"
      ]
    },
    {
      "cell_type": "code",
      "source": [
        "# 리스트 반복 = 반복 *\n",
        "print(list_1 * 3)"
      ],
      "metadata": {
        "colab": {
          "base_uri": "https://localhost:8080/"
        },
        "id": "LZb2d7WBw8GT",
        "outputId": "d992d1a6-f56a-4979-e9f0-d892dced32e6"
      },
      "execution_count": null,
      "outputs": [
        {
          "output_type": "stream",
          "name": "stdout",
          "text": [
            "[1, 2, 3, 1, 2, 3, 1, 2, 3]\n"
          ]
        }
      ]
    },
    {
      "cell_type": "code",
      "source": [
        "# 리스트 길이\n",
        "len(list_1) # 요소의 개수"
      ],
      "metadata": {
        "colab": {
          "base_uri": "https://localhost:8080/"
        },
        "id": "XyNFdfvux-pi",
        "outputId": "b2fe9231-b9a9-4795-8631-02306f8df9f3"
      },
      "execution_count": null,
      "outputs": [
        {
          "output_type": "execute_result",
          "data": {
            "text/plain": [
              "3"
            ]
          },
          "metadata": {},
          "execution_count": 44
        }
      ]
    },
    {
      "cell_type": "code",
      "source": [
        "# 추가 = 뒤에 추가 = 요소(개별값)\n",
        "list_1.append(5)\n",
        "print(list_1) # 파괴적 처리"
      ],
      "metadata": {
        "colab": {
          "base_uri": "https://localhost:8080/"
        },
        "id": "jpnTZwl-xMma",
        "outputId": "6203474e-143a-4562-b053-8c6f49d11a21"
      },
      "execution_count": null,
      "outputs": [
        {
          "output_type": "stream",
          "name": "stdout",
          "text": [
            "[1, 2, 3, 5]\n"
          ]
        }
      ]
    },
    {
      "cell_type": "code",
      "source": [
        "# 추가 = 중간에 추가 = 원하는 위치(인덱스 번호)에 추가 = 요소(개별값)\n",
        "list_1.insert(3, 4) # 인덱스 3번 위치에 4라는 값(요소) 추가\n",
        "print(list_1) # 파괴적 처리"
      ],
      "metadata": {
        "colab": {
          "base_uri": "https://localhost:8080/"
        },
        "id": "mGBuyR2LxjRG",
        "outputId": "4dab5fb0-a649-4329-f3b2-5c90ee90d0a5"
      },
      "execution_count": null,
      "outputs": [
        {
          "output_type": "stream",
          "name": "stdout",
          "text": [
            "[1, 2, 3, 4, 5]\n"
          ]
        }
      ]
    },
    {
      "cell_type": "code",
      "source": [
        "print(list_1 + list_2)\n",
        "print(list_1)\n",
        "print(list_2)"
      ],
      "metadata": {
        "colab": {
          "base_uri": "https://localhost:8080/"
        },
        "id": "zGLQHVq5cCxo",
        "outputId": "557aafe1-481a-4316-98e7-4eaa2703645a"
      },
      "execution_count": null,
      "outputs": [
        {
          "output_type": "stream",
          "name": "stdout",
          "text": [
            "[1, 2, 3, 4, 5, 4, 5, 6]\n",
            "[1, 2, 3, 4, 5]\n",
            "[4, 5, 6]\n"
          ]
        }
      ]
    },
    {
      "cell_type": "code",
      "source": [
        "# 추가 = + 연결 & 파괴적 처리 = 리스트 전체 요소\n",
        "list_1.extend(list_2)\n",
        "print(list_1) # 파괴적 처리"
      ],
      "metadata": {
        "colab": {
          "base_uri": "https://localhost:8080/"
        },
        "id": "2E4_M9x2zOyN",
        "outputId": "03616fdd-b495-47fa-d6eb-9379b88e2f2a"
      },
      "execution_count": null,
      "outputs": [
        {
          "output_type": "stream",
          "name": "stdout",
          "text": [
            "[1, 2, 3, 4, 5, 4, 5, 6]\n"
          ]
        }
      ]
    },
    {
      "cell_type": "markdown",
      "source": [
        "## 제거"
      ],
      "metadata": {
        "id": "BBTXbipa265a"
      }
    },
    {
      "cell_type": "code",
      "source": [
        "# 인덱스 번호로 제거\n",
        "# del 키워드 = delete\n",
        "del list_1[2]\n",
        "print(list_1)"
      ],
      "metadata": {
        "colab": {
          "base_uri": "https://localhost:8080/"
        },
        "id": "n9O_EZI90ktp",
        "outputId": "cba586cf-be3c-4864-cff3-a125ebc44272"
      },
      "execution_count": null,
      "outputs": [
        {
          "output_type": "stream",
          "name": "stdout",
          "text": [
            "[1, 2, 4, 5, 4, 5, 6]\n"
          ]
        }
      ]
    },
    {
      "cell_type": "code",
      "source": [
        "del list_1[:2]\n",
        "print(list_1)"
      ],
      "metadata": {
        "colab": {
          "base_uri": "https://localhost:8080/"
        },
        "id": "eW2Z9v8xi4Gw",
        "outputId": "dfbb04a5-c6d2-4d34-997e-0b7a827dfea7"
      },
      "execution_count": null,
      "outputs": [
        {
          "output_type": "stream",
          "name": "stdout",
          "text": [
            "[4, 5, 4, 5, 6]\n"
          ]
        }
      ]
    },
    {
      "cell_type": "code",
      "source": [
        "del list_1[3:]\n",
        "print(list_1)"
      ],
      "metadata": {
        "colab": {
          "base_uri": "https://localhost:8080/"
        },
        "id": "TCRdFHwbi6i6",
        "outputId": "440f2a5d-ab14-48e2-9a45-f398cbe01e81"
      },
      "execution_count": null,
      "outputs": [
        {
          "output_type": "stream",
          "name": "stdout",
          "text": [
            "[4, 5, 4]\n"
          ]
        }
      ]
    },
    {
      "cell_type": "code",
      "source": [
        "print(list_1)"
      ],
      "metadata": {
        "colab": {
          "base_uri": "https://localhost:8080/"
        },
        "id": "B2Uec_lUjN_W",
        "outputId": "d74d6802-1cb8-4e6a-d099-d55cec65002a"
      },
      "execution_count": null,
      "outputs": [
        {
          "output_type": "stream",
          "name": "stdout",
          "text": [
            "[4, 5, 4]\n"
          ]
        }
      ]
    },
    {
      "cell_type": "code",
      "source": [
        "# pop 함수\n",
        "list_1.pop(2)\n",
        "print(list_1)"
      ],
      "metadata": {
        "colab": {
          "base_uri": "https://localhost:8080/"
        },
        "id": "-Z2AHAHF3WUt",
        "outputId": "542c8d21-ae32-4550-c2e8-d40bcec43dbc"
      },
      "execution_count": null,
      "outputs": [
        {
          "output_type": "stream",
          "name": "stdout",
          "text": [
            "[4, 5]\n"
          ]
        }
      ]
    },
    {
      "cell_type": "code",
      "source": [
        "# 값으로 제거\n",
        "# remove 함수\n",
        "list_1.remove(4)\n",
        "print(list_1)"
      ],
      "metadata": {
        "colab": {
          "base_uri": "https://localhost:8080/"
        },
        "id": "-X12Cglo3vK0",
        "outputId": "db277a89-4e24-42b3-ac86-7c9d963441c1"
      },
      "execution_count": null,
      "outputs": [
        {
          "output_type": "stream",
          "name": "stdout",
          "text": [
            "[5]\n"
          ]
        }
      ]
    },
    {
      "cell_type": "code",
      "source": [
        "# 리스트 안의 모든 요소 제거 = 비우기 = 리스트 구조 살아있음\n",
        "list_1.clear()\n",
        "print(list_1)"
      ],
      "metadata": {
        "id": "0enXSfOr4GW_",
        "colab": {
          "base_uri": "https://localhost:8080/"
        },
        "outputId": "d0e249ab-3b9a-44b9-8ae6-c9739378e627"
      },
      "execution_count": null,
      "outputs": [
        {
          "output_type": "stream",
          "name": "stdout",
          "text": [
            "[]\n"
          ]
        }
      ]
    },
    {
      "cell_type": "markdown",
      "source": [
        "## 정렬"
      ],
      "metadata": {
        "id": "s8MD9FCd8x2a"
      }
    },
    {
      "cell_type": "code",
      "source": [
        "# 오름차순\n",
        "score = [75,55,40,90,100]\n",
        "score.sort()\n",
        "print(score)\n",
        "# 내림차순\n",
        "score.sort(reverse=True)\n",
        "print(score)"
      ],
      "metadata": {
        "id": "s8ZX5QDt70xp",
        "colab": {
          "base_uri": "https://localhost:8080/"
        },
        "outputId": "46751ceb-38f5-493c-f404-509551157ab7"
      },
      "execution_count": null,
      "outputs": [
        {
          "output_type": "stream",
          "name": "stdout",
          "text": [
            "[40, 55, 75, 90, 100]\n",
            "[100, 90, 75, 55, 40]\n"
          ]
        }
      ]
    },
    {
      "cell_type": "code",
      "source": [
        "# in & not in\n",
        "print(75 in score)\n",
        "print(0 in score)\n",
        "print(75 not in score)\n",
        "print(0 not in score)"
      ],
      "metadata": {
        "colab": {
          "base_uri": "https://localhost:8080/"
        },
        "id": "JZjA21D39If6",
        "outputId": "035305cf-1ac6-47e9-bd92-6868a6f8d9b7"
      },
      "execution_count": null,
      "outputs": [
        {
          "output_type": "stream",
          "name": "stdout",
          "text": [
            "True\n",
            "False\n",
            "False\n",
            "True\n"
          ]
        }
      ]
    },
    {
      "cell_type": "markdown",
      "source": [
        "## 전개 연산자"
      ],
      "metadata": {
        "id": "wbai2ipE_mty"
      }
    },
    {
      "cell_type": "code",
      "source": [
        "# 1) 리스트 안에서 사용\n",
        "a = [1,2,3]\n",
        "b = [*a] # 비파괴적 처리 != append 함수와 다름\n",
        "c = [*a, *a]\n",
        "print(a);print(b);print(c)"
      ],
      "metadata": {
        "colab": {
          "base_uri": "https://localhost:8080/"
        },
        "id": "_XoSWnbT98Q7",
        "outputId": "61418643-7d74-4d12-c056-736bd7dc9179"
      },
      "execution_count": null,
      "outputs": [
        {
          "output_type": "stream",
          "name": "stdout",
          "text": [
            "[1, 2, 3]\n",
            "[1, 2, 3]\n",
            "[1, 2, 3, 1, 2, 3]\n"
          ]
        }
      ]
    },
    {
      "cell_type": "code",
      "source": [
        "a = [1,2,3]\n",
        "b = a.append(4)\n",
        "print(a)\n",
        "print(b)"
      ],
      "metadata": {
        "colab": {
          "base_uri": "https://localhost:8080/"
        },
        "id": "-FJdqCGtxYAl",
        "outputId": "68f63187-e3b8-4d21-b7d8-480106b52930"
      },
      "execution_count": null,
      "outputs": [
        {
          "output_type": "stream",
          "name": "stdout",
          "text": [
            "[1, 2, 3, 4]\n",
            "None\n"
          ]
        }
      ]
    },
    {
      "cell_type": "code",
      "source": [
        "a = [1,2,3]\n",
        "b = [*a, 4]\n",
        "print(a)\n",
        "print(b)"
      ],
      "metadata": {
        "colab": {
          "base_uri": "https://localhost:8080/"
        },
        "id": "Qtv4pgkIxlYd",
        "outputId": "1dc22470-1b98-4ea1-9e4d-edb5bf5493c2"
      },
      "execution_count": null,
      "outputs": [
        {
          "output_type": "stream",
          "name": "stdout",
          "text": [
            "[1, 2, 3]\n",
            "[1, 2, 3, 4]\n"
          ]
        }
      ]
    },
    {
      "cell_type": "code",
      "source": [
        "# 2) 함수에서 사용\n",
        "print(a)\n",
        "print(*a)\n",
        "print(1,2,3,4)"
      ],
      "metadata": {
        "colab": {
          "base_uri": "https://localhost:8080/"
        },
        "id": "Do1yJXvx_5it",
        "outputId": "af6dc2ff-c599-4c98-b4e2-2751eb01050e"
      },
      "execution_count": null,
      "outputs": [
        {
          "output_type": "stream",
          "name": "stdout",
          "text": [
            "[1, 2, 3, 4]\n",
            "1 2 3 4\n",
            "1 2 3 4\n"
          ]
        }
      ]
    },
    {
      "cell_type": "markdown",
      "source": [
        "## 이차원 리스트"
      ],
      "metadata": {
        "id": "5HSHEK7vsebP"
      }
    },
    {
      "cell_type": "code",
      "source": [
        "언어영역 = [100,70,40,60,80]\n",
        "수리영역 = [50,100,80,40,60]\n",
        "과학영역 = [70,80,70,90,80]\n",
        "scores = [언어영역, 수리영역, 과학영역]\n",
        "scores"
      ],
      "metadata": {
        "colab": {
          "base_uri": "https://localhost:8080/"
        },
        "id": "_MfIL7M8wXgL",
        "outputId": "d6eabaee-5782-485d-92ac-56a1a0ac24ff"
      },
      "execution_count": null,
      "outputs": [
        {
          "output_type": "execute_result",
          "data": {
            "text/plain": [
              "[[100, 70, 40, 60, 80], [50, 100, 80, 40, 60], [70, 80, 70, 90, 80]]"
            ]
          },
          "metadata": {},
          "execution_count": 32
        }
      ]
    },
    {
      "cell_type": "code",
      "source": [
        "# 인덱싱\n",
        "scores[0][2] # 언어영역의 C 학생의 점수"
      ],
      "metadata": {
        "colab": {
          "base_uri": "https://localhost:8080/"
        },
        "id": "dwr3UvUv0sas",
        "outputId": "ffb592e6-b6dd-419b-dc4d-a8ff1231c840"
      },
      "execution_count": null,
      "outputs": [
        {
          "output_type": "execute_result",
          "data": {
            "text/plain": [
              "40"
            ]
          },
          "metadata": {},
          "execution_count": 33
        }
      ]
    },
    {
      "cell_type": "markdown",
      "source": [
        "# 반복문"
      ],
      "metadata": {
        "id": "ra6wcKzNERZD"
      }
    },
    {
      "cell_type": "code",
      "source": [
        "print((\"ABC\"))\n",
        "print((\"ABC\"))\n",
        "print((\"ABC\"))\n",
        "print((\"ABC\"))\n",
        "print((\"ABC\"))"
      ],
      "metadata": {
        "colab": {
          "base_uri": "https://localhost:8080/"
        },
        "id": "Lq6iMWN41KbM",
        "outputId": "f7796019-5610-41e9-83e0-8c8dbbdc4e47"
      },
      "execution_count": null,
      "outputs": [
        {
          "output_type": "stream",
          "name": "stdout",
          "text": [
            "ABC\n",
            "ABC\n",
            "ABC\n",
            "ABC\n",
            "ABC\n"
          ]
        }
      ]
    },
    {
      "cell_type": "code",
      "source": [
        "for i in [1, 2, 3, 4, 5]:\n",
        "  print((\"ABC\"))"
      ],
      "metadata": {
        "colab": {
          "base_uri": "https://localhost:8080/"
        },
        "id": "dDNUIqzwJq-X",
        "outputId": "6ade3e09-ba12-4b9c-fc9f-2d8e79002bf4"
      },
      "execution_count": null,
      "outputs": [
        {
          "output_type": "stream",
          "name": "stdout",
          "text": [
            "ABC\n",
            "ABC\n",
            "ABC\n",
            "ABC\n",
            "ABC\n"
          ]
        }
      ]
    },
    {
      "cell_type": "markdown",
      "source": [
        "## for 반복문 : 리스트와 함께 사용하기"
      ],
      "metadata": {
        "id": "zBGvGTwK_-MN"
      }
    },
    {
      "cell_type": "code",
      "source": [
        "# 리스트 선언\n",
        "array = [1, 2, 3, 4, 5]\n",
        "# 리스트에 반복문을 적용\n",
        "for i in array:\n",
        "    # 출력\n",
        "    print(i)"
      ],
      "metadata": {
        "colab": {
          "base_uri": "https://localhost:8080/"
        },
        "id": "5qFQOuCXAJxL",
        "outputId": "32e88899-bc72-49e2-d87f-b4e9ac4d80b7"
      },
      "execution_count": null,
      "outputs": [
        {
          "output_type": "stream",
          "name": "stdout",
          "text": [
            "1\n",
            "2\n",
            "3\n",
            "4\n",
            "5\n"
          ]
        }
      ]
    },
    {
      "cell_type": "markdown",
      "source": [
        "## 중첩 리스트와 중첩 반복문"
      ],
      "metadata": {
        "id": "GWHTWOGHAYnx"
      }
    },
    {
      "cell_type": "code",
      "source": [
        "list_of_list = [\n",
        "    [1, 2, 3],\n",
        "    [4, 5, 6, 7],\n",
        "    [8, 9]\n",
        "]\n",
        "\n",
        "for items in list_of_list:\n",
        "    print(items)"
      ],
      "metadata": {
        "colab": {
          "base_uri": "https://localhost:8080/"
        },
        "id": "pqrGyJdWAsNb",
        "outputId": "5bc46f76-e35d-4440-9931-7d7138c5739b"
      },
      "execution_count": null,
      "outputs": [
        {
          "output_type": "stream",
          "name": "stdout",
          "text": [
            "[1, 2, 3]\n",
            "[4, 5, 6, 7]\n",
            "[8, 9]\n"
          ]
        }
      ]
    },
    {
      "cell_type": "code",
      "source": [
        "list_of_list = [\n",
        "    [1, 2, 3],\n",
        "    [4, 5, 6, 7],\n",
        "    [8, 9]\n",
        "]\n",
        "\n",
        "for items in list_of_list:\n",
        "    for item in items:\n",
        "        print(item)"
      ],
      "metadata": {
        "colab": {
          "base_uri": "https://localhost:8080/"
        },
        "id": "CgAfTX1QAxb7",
        "outputId": "cd7501a4-5b6d-4968-f03b-1c9bb09aa6ba"
      },
      "execution_count": null,
      "outputs": [
        {
          "output_type": "stream",
          "name": "stdout",
          "text": [
            "1\n",
            "2\n",
            "3\n",
            "4\n",
            "5\n",
            "6\n",
            "7\n",
            "8\n",
            "9\n"
          ]
        }
      ]
    },
    {
      "cell_type": "markdown",
      "source": [
        "## 리스트로 반복문"
      ],
      "metadata": {
        "id": "QquZZcBpw8aX"
      }
    },
    {
      "cell_type": "code",
      "source": [
        "# 리스트로 반복문\n",
        "list_a = [1,2,3] # 1차원\n",
        "list_b = [[1,2,3],[4,5,6]] # 2차원"
      ],
      "metadata": {
        "id": "FAl3_N0OL-Mr"
      },
      "execution_count": null,
      "outputs": []
    },
    {
      "cell_type": "code",
      "source": [
        "# 3개의 요소를 가지고 있어서 3번 반복\n",
        "for i in list_a:\n",
        "  print(i)"
      ],
      "metadata": {
        "id": "4zmgcV6NMQY3",
        "colab": {
          "base_uri": "https://localhost:8080/"
        },
        "outputId": "52e29203-ca93-48aa-b504-e0e5e346d0ee"
      },
      "execution_count": null,
      "outputs": [
        {
          "output_type": "stream",
          "name": "stdout",
          "text": [
            "1\n",
            "2\n",
            "3\n"
          ]
        }
      ]
    },
    {
      "cell_type": "code",
      "source": [
        "# 2개의 요소를 가지고 있어서 2번 반복\n",
        "# 여전히 리스트 형태로 출력\n",
        "for i in list_b:\n",
        "  print(i)"
      ],
      "metadata": {
        "id": "XH6MMnqRMYSf",
        "colab": {
          "base_uri": "https://localhost:8080/"
        },
        "outputId": "62de537a-50f4-443c-8724-652030d5a5bd"
      },
      "execution_count": null,
      "outputs": [
        {
          "output_type": "stream",
          "name": "stdout",
          "text": [
            "[1, 2, 3]\n",
            "[4, 5, 6]\n"
          ]
        }
      ]
    },
    {
      "cell_type": "code",
      "source": [
        "for i in list_b:\n",
        "  for j in i:\n",
        "    print(j)"
      ],
      "metadata": {
        "id": "rxlEaf3PM3Sr",
        "colab": {
          "base_uri": "https://localhost:8080/"
        },
        "outputId": "e8ead588-b328-463a-b45c-d8c67e87dc9c"
      },
      "execution_count": null,
      "outputs": [
        {
          "output_type": "stream",
          "name": "stdout",
          "text": [
            "1\n",
            "2\n",
            "3\n",
            "4\n",
            "5\n",
            "6\n"
          ]
        }
      ]
    },
    {
      "cell_type": "code",
      "source": [
        "list_c = [[1,2,3],[4,5,6],7]"
      ],
      "metadata": {
        "id": "oo7ALS7WNEsB"
      },
      "execution_count": null,
      "outputs": []
    },
    {
      "cell_type": "code",
      "source": [
        "for i in list_c:\n",
        "  print(i)\n",
        "  for j in i:\n",
        "    print(j)"
      ],
      "metadata": {
        "id": "bri-NnOjOnbo",
        "colab": {
          "base_uri": "https://localhost:8080/",
          "height": 395
        },
        "outputId": "4f0271fa-64c6-4e22-881e-c4b8f1b6e525"
      },
      "execution_count": null,
      "outputs": [
        {
          "output_type": "stream",
          "name": "stdout",
          "text": [
            "[1, 2, 3]\n",
            "1\n",
            "2\n",
            "3\n",
            "[4, 5, 6]\n",
            "4\n",
            "5\n",
            "6\n",
            "7\n"
          ]
        },
        {
          "output_type": "error",
          "ename": "TypeError",
          "evalue": "'int' object is not iterable",
          "traceback": [
            "\u001b[0;31m---------------------------------------------------------------------------\u001b[0m",
            "\u001b[0;31mTypeError\u001b[0m                                 Traceback (most recent call last)",
            "\u001b[0;32m<ipython-input-10-d804348e8d37>\u001b[0m in \u001b[0;36m<cell line: 1>\u001b[0;34m()\u001b[0m\n\u001b[1;32m      1\u001b[0m \u001b[0;32mfor\u001b[0m \u001b[0mi\u001b[0m \u001b[0;32min\u001b[0m \u001b[0mlist_c\u001b[0m\u001b[0;34m:\u001b[0m\u001b[0;34m\u001b[0m\u001b[0;34m\u001b[0m\u001b[0m\n\u001b[1;32m      2\u001b[0m   \u001b[0mprint\u001b[0m\u001b[0;34m(\u001b[0m\u001b[0mi\u001b[0m\u001b[0;34m)\u001b[0m\u001b[0;34m\u001b[0m\u001b[0;34m\u001b[0m\u001b[0m\n\u001b[0;32m----> 3\u001b[0;31m   \u001b[0;32mfor\u001b[0m \u001b[0mj\u001b[0m \u001b[0;32min\u001b[0m \u001b[0mi\u001b[0m\u001b[0;34m:\u001b[0m\u001b[0;34m\u001b[0m\u001b[0;34m\u001b[0m\u001b[0m\n\u001b[0m\u001b[1;32m      4\u001b[0m     \u001b[0mprint\u001b[0m\u001b[0;34m(\u001b[0m\u001b[0mj\u001b[0m\u001b[0;34m)\u001b[0m\u001b[0;34m\u001b[0m\u001b[0;34m\u001b[0m\u001b[0m\n",
            "\u001b[0;31mTypeError\u001b[0m: 'int' object is not iterable"
          ]
        }
      ]
    },
    {
      "cell_type": "code",
      "source": [
        "for i in list_c:\n",
        "  if type(i) == list:\n",
        "    for j in i:\n",
        "      print(j)\n",
        "  else:\n",
        "    print(i)"
      ],
      "metadata": {
        "id": "8dNQ-n9-OsUQ",
        "colab": {
          "base_uri": "https://localhost:8080/"
        },
        "outputId": "f98632c1-17de-4794-9bac-d6912e178b11"
      },
      "execution_count": null,
      "outputs": [
        {
          "output_type": "stream",
          "name": "stdout",
          "text": [
            "1\n",
            "2\n",
            "3\n",
            "4\n",
            "5\n",
            "6\n",
            "7\n"
          ]
        }
      ]
    },
    {
      "cell_type": "markdown",
      "source": [
        "## 확인 문제"
      ],
      "metadata": {
        "id": "UKH6w4-1x3MD"
      }
    },
    {
      "cell_type": "code",
      "source": [
        "list_a = [0,1,2,3,4,5,6,7]\n",
        "list_a.extend(list_a)\n",
        "print(list_a)"
      ],
      "metadata": {
        "colab": {
          "base_uri": "https://localhost:8080/"
        },
        "id": "Qq47WdCWY2qx",
        "outputId": "48c83e9a-be64-434b-ac4c-ba5599501385"
      },
      "execution_count": null,
      "outputs": [
        {
          "output_type": "stream",
          "name": "stdout",
          "text": [
            "[0, 1, 2, 3, 4, 5, 6, 7, 0, 1, 2, 3, 4, 5, 6, 7]\n"
          ]
        }
      ]
    },
    {
      "cell_type": "code",
      "source": [
        "list_a = [0,1,2,3,4,5,6,7]\n",
        "list_a.append(10)\n",
        "print(list_a)"
      ],
      "metadata": {
        "colab": {
          "base_uri": "https://localhost:8080/"
        },
        "id": "coT7NEORY94f",
        "outputId": "039bc09f-38f9-49e8-8c5b-c6bede24a5bd"
      },
      "execution_count": null,
      "outputs": [
        {
          "output_type": "stream",
          "name": "stdout",
          "text": [
            "[0, 1, 2, 3, 4, 5, 6, 7, 10]\n"
          ]
        }
      ]
    },
    {
      "cell_type": "code",
      "source": [
        "list_a = [0,1,2,3,4,5,6,7]\n",
        "list_a.insert(3,0)\n",
        "print(list_a)"
      ],
      "metadata": {
        "colab": {
          "base_uri": "https://localhost:8080/"
        },
        "id": "oIgU3d4BZJ5q",
        "outputId": "bfebbfc5-1057-4ba8-a722-93d01476dfb0"
      },
      "execution_count": null,
      "outputs": [
        {
          "output_type": "stream",
          "name": "stdout",
          "text": [
            "[0, 1, 2, 0, 3, 4, 5, 6, 7]\n"
          ]
        }
      ]
    },
    {
      "cell_type": "code",
      "source": [
        "list_a = [0,1,2,3,4,5,6,7]\n",
        "list_a.remove(3)\n",
        "print(list_a)"
      ],
      "metadata": {
        "colab": {
          "base_uri": "https://localhost:8080/"
        },
        "id": "ufnxSId5ZMzX",
        "outputId": "3a0251f5-8c0b-40ba-db4c-6466a841ed6e"
      },
      "execution_count": null,
      "outputs": [
        {
          "output_type": "stream",
          "name": "stdout",
          "text": [
            "[0, 1, 2, 4, 5, 6, 7]\n"
          ]
        }
      ]
    },
    {
      "cell_type": "code",
      "source": [
        "list_a = [0,1,2,3,4,5,6,7]\n",
        "list_a.pop(3)\n",
        "print(list_a)"
      ],
      "metadata": {
        "colab": {
          "base_uri": "https://localhost:8080/"
        },
        "id": "BO87BgxrZRTD",
        "outputId": "825234d7-47f0-4dff-8355-94cbb3316459"
      },
      "execution_count": null,
      "outputs": [
        {
          "output_type": "stream",
          "name": "stdout",
          "text": [
            "[0, 1, 2, 4, 5, 6, 7]\n"
          ]
        }
      ]
    },
    {
      "cell_type": "code",
      "source": [
        "list_a = [0,1,2,3,4,5,6,7]\n",
        "list_a.clear()\n",
        "print(list_a)"
      ],
      "metadata": {
        "colab": {
          "base_uri": "https://localhost:8080/"
        },
        "id": "E2GkOZgyZbzP",
        "outputId": "9db52292-3354-4192-8bdc-72cd2172d258"
      },
      "execution_count": null,
      "outputs": [
        {
          "output_type": "stream",
          "name": "stdout",
          "text": [
            "[]\n"
          ]
        }
      ]
    },
    {
      "cell_type": "code",
      "source": [
        "numbers = [273, 103, 5, 32, 65, 9, 72, 800, 99]\n",
        "\n",
        "for number in numbers:\n",
        "    if number >= 100:\n",
        "        print(\"- 100 이상의 수:\", number)"
      ],
      "metadata": {
        "colab": {
          "base_uri": "https://localhost:8080/"
        },
        "id": "SAmhwXgeyJcd",
        "outputId": "d53e3ffb-4078-432a-f510-c76a577b2239"
      },
      "execution_count": null,
      "outputs": [
        {
          "output_type": "stream",
          "name": "stdout",
          "text": [
            "- 100 이상의 수: 273\n",
            "- 100 이상의 수: 103\n",
            "- 100 이상의 수: 800\n"
          ]
        }
      ]
    },
    {
      "cell_type": "code",
      "source": [
        "numbers = [273, 103, 5, 32, 65, 9, 72, 800, 99]\n",
        "\n",
        "for number in numbers:\n",
        "    if number % 2 == 1:\n",
        "        print(number, \"는 홀수입니다.\")\n",
        "    else:\n",
        "        print(number, \"는 짝수입니다.\")"
      ],
      "metadata": {
        "colab": {
          "base_uri": "https://localhost:8080/"
        },
        "id": "OQyt9-j72tUG",
        "outputId": "74e300c7-3b16-4d2f-8ae1-2710b3b33c28"
      },
      "execution_count": null,
      "outputs": [
        {
          "output_type": "stream",
          "name": "stdout",
          "text": [
            "273 는 홀수입니다.\n",
            "103 는 홀수입니다.\n",
            "5 는 홀수입니다.\n",
            "32 는 짝수입니다.\n",
            "65 는 홀수입니다.\n",
            "9 는 홀수입니다.\n",
            "72 는 짝수입니다.\n",
            "800 는 짝수입니다.\n",
            "99 는 홀수입니다.\n"
          ]
        }
      ]
    },
    {
      "cell_type": "code",
      "source": [
        "numbers = [273, 103, 5, 32, 65, 9, 72, 800, 99]\n",
        "\n",
        "for number in numbers:\n",
        "    print(number, \"는\", len(str(number)), \"자릿수입니다.\")"
      ],
      "metadata": {
        "colab": {
          "base_uri": "https://localhost:8080/"
        },
        "id": "bSFfbm8b4ij3",
        "outputId": "b6ed524f-61c9-4f91-ba53-5bb1c8fe0fb5"
      },
      "execution_count": null,
      "outputs": [
        {
          "output_type": "stream",
          "name": "stdout",
          "text": [
            "273 는 3 자릿수입니다.\n",
            "103 는 3 자릿수입니다.\n",
            "5 는 1 자릿수입니다.\n",
            "32 는 2 자릿수입니다.\n",
            "65 는 2 자릿수입니다.\n",
            "9 는 1 자릿수입니다.\n",
            "72 는 2 자릿수입니다.\n",
            "800 는 3 자릿수입니다.\n",
            "99 는 2 자릿수입니다.\n"
          ]
        }
      ]
    },
    {
      "cell_type": "code",
      "source": [
        "numbers = [1, 2, 3, 4, 5, 6, 7, 8, 9]\n",
        "output = [[], [], []]\n",
        "\n",
        "for number in numbers:\n",
        "    output[(number + 2) % 3].append(number)\n",
        "\n",
        "print(output)"
      ],
      "metadata": {
        "colab": {
          "base_uri": "https://localhost:8080/"
        },
        "id": "lVtwCyfS29xQ",
        "outputId": "babb550d-cca8-4cf5-9f8f-e168263b2425"
      },
      "execution_count": null,
      "outputs": [
        {
          "output_type": "stream",
          "name": "stdout",
          "text": [
            "[[1, 4, 7], [2, 5, 8], [3, 6, 9]]\n"
          ]
        }
      ]
    },
    {
      "cell_type": "code",
      "source": [
        "for number in numbers:\n",
        "    print((number + 2) % 3)"
      ],
      "metadata": {
        "colab": {
          "base_uri": "https://localhost:8080/"
        },
        "id": "tosSmoPOYXV6",
        "outputId": "e26c39c1-d87e-492b-b66b-9d285739bbc3"
      },
      "execution_count": null,
      "outputs": [
        {
          "output_type": "stream",
          "name": "stdout",
          "text": [
            "0\n",
            "1\n",
            "2\n",
            "0\n",
            "1\n",
            "2\n",
            "0\n",
            "1\n",
            "2\n"
          ]
        }
      ]
    },
    {
      "cell_type": "code",
      "source": [
        "numbers = [1,2,3,4,5,6,7,8,9]\n",
        "for i in range(0, len(numbers) // 2):\n",
        "  j = i * 2 + 1\n",
        "  print(\"i = {}, j = {}\".format(i, j))\n",
        "  numbers[j] = numbers[j] ** 2\n",
        "\n",
        "print(numbers)"
      ],
      "metadata": {
        "colab": {
          "base_uri": "https://localhost:8080/"
        },
        "id": "8D0Bcfkeh0n5",
        "outputId": "fbf90be8-9ca5-4a35-8b3d-f982c927dc16"
      },
      "execution_count": null,
      "outputs": [
        {
          "output_type": "stream",
          "name": "stdout",
          "text": [
            "i = 0, j = 1\n",
            "i = 1, j = 3\n",
            "i = 2, j = 5\n",
            "i = 3, j = 7\n",
            "[1, 4, 3, 16, 5, 36, 7, 64, 9]\n"
          ]
        }
      ]
    },
    {
      "cell_type": "markdown",
      "source": [
        "## 딕셔너리 만들기"
      ],
      "metadata": {
        "id": "k5MvMn86qCh-"
      }
    },
    {
      "cell_type": "code",
      "source": [
        "# 리스트와 딕셔너리 비교\n",
        "# 딕셔너리 생성\n",
        "sd_dic = {\n",
        "    \"이름\": \"정대만\",\n",
        "    \"나이\": 19,\n",
        "    \"키\": 183,\n",
        "    \"몸무게\": 70\n",
        "}\n",
        "# 리스트\n",
        "sd_list = [\"정대만\",19,183,70]"
      ],
      "metadata": {
        "id": "nCrbqCvQPnMJ"
      },
      "execution_count": null,
      "outputs": []
    },
    {
      "cell_type": "code",
      "source": [
        "# 이름 보기\n",
        "print(sd_list[0])\n",
        "print(sd_dic[\"이름\"])"
      ],
      "metadata": {
        "colab": {
          "base_uri": "https://localhost:8080/"
        },
        "id": "29TWfv6hS9vi",
        "outputId": "c1dba09a-b42f-45fd-a456-ea9a015b8ce9"
      },
      "execution_count": null,
      "outputs": [
        {
          "output_type": "stream",
          "name": "stdout",
          "text": [
            "정대만\n",
            "정대만\n"
          ]
        }
      ]
    },
    {
      "cell_type": "code",
      "source": [
        "# 값\n",
        "print(sd_list[1])\n",
        "print(sd_dic[\"나이\"])"
      ],
      "metadata": {
        "colab": {
          "base_uri": "https://localhost:8080/"
        },
        "id": "Lf-NHHuSTUKG",
        "outputId": "cd578226-f7eb-4aa5-c9ad-137fb04c3879"
      },
      "execution_count": null,
      "outputs": [
        {
          "output_type": "stream",
          "name": "stdout",
          "text": [
            "19\n",
            "19\n"
          ]
        }
      ]
    },
    {
      "cell_type": "code",
      "source": [
        "print(sd_list[3])\n",
        "print(sd_dic[\"몸무게\"])"
      ],
      "metadata": {
        "colab": {
          "base_uri": "https://localhost:8080/"
        },
        "id": "iTS0zz0Ck4LF",
        "outputId": "a64c9f41-df80-49aa-987e-4038e96dbc54"
      },
      "execution_count": null,
      "outputs": [
        {
          "output_type": "stream",
          "name": "stdout",
          "text": [
            "70\n",
            "70\n"
          ]
        }
      ]
    },
    {
      "cell_type": "code",
      "source": [
        "# 값 변경\n",
        "sd_dic[\"키\"] = 185\n",
        "print(sd_dic)"
      ],
      "metadata": {
        "colab": {
          "base_uri": "https://localhost:8080/"
        },
        "id": "z-8tWF0DlAa1",
        "outputId": "f56d5a81-1ee3-49d5-f579-7b2c58ec4fb6"
      },
      "execution_count": null,
      "outputs": [
        {
          "output_type": "stream",
          "name": "stdout",
          "text": [
            "{'이름': '정대만', '나이': 19, '키': 185, '몸무게': 70}\n"
          ]
        }
      ]
    },
    {
      "cell_type": "code",
      "source": [
        "# sd_dic{\"키\"} <= 실수하지 말 것"
      ],
      "metadata": {
        "id": "GfhtMzLRlhDd"
      },
      "execution_count": null,
      "outputs": []
    },
    {
      "cell_type": "markdown",
      "source": [
        "## 여러 개 값을 가지는 딕셔너리"
      ],
      "metadata": {
        "id": "DHijZ6D0p-hT"
      }
    },
    {
      "cell_type": "code",
      "source": [
        "# 여러 개의 값을 가지는 딕셔너리 생성\n",
        "bs = {\n",
        "    \"선수\": [\"채치수\",\"정대만\",\"송태섭\",\"강백호\",\"서태웅\"],\n",
        "    \"감독\": [\"안감독\"],\n",
        "    \"매니저\": [\"한나\"]\n",
        "}\n",
        "print(bs)"
      ],
      "metadata": {
        "id": "_CeOmY0rl6un",
        "colab": {
          "base_uri": "https://localhost:8080/"
        },
        "outputId": "667e1298-8b05-4c43-b4d7-e31d78187665"
      },
      "execution_count": null,
      "outputs": [
        {
          "output_type": "stream",
          "name": "stdout",
          "text": [
            "{'선수': ['채치수', '정대만', '송태섭', '강백호', '서태웅'], '감독': ['안감독'], '매니저': ['한나']}\n"
          ]
        }
      ]
    },
    {
      "cell_type": "code",
      "source": [
        "# 값 보기\n",
        "bs[\"선수\"]"
      ],
      "metadata": {
        "id": "90wuuMt1m-IM",
        "colab": {
          "base_uri": "https://localhost:8080/"
        },
        "outputId": "cd58d56d-83fb-4d56-d768-7540ec4de836"
      },
      "execution_count": null,
      "outputs": [
        {
          "output_type": "execute_result",
          "data": {
            "text/plain": [
              "['채치수', '정대만', '송태섭', '강백호', '서태웅']"
            ]
          },
          "metadata": {},
          "execution_count": 41
        }
      ]
    },
    {
      "cell_type": "code",
      "source": [
        "bs[\"선수\"][1]"
      ],
      "metadata": {
        "id": "3-ppGRc2nMw6",
        "colab": {
          "base_uri": "https://localhost:8080/",
          "height": 36
        },
        "outputId": "7f22e756-4201-4f42-9e32-d1874ab63358"
      },
      "execution_count": null,
      "outputs": [
        {
          "output_type": "execute_result",
          "data": {
            "text/plain": [
              "'정대만'"
            ],
            "application/vnd.google.colaboratory.intrinsic+json": {
              "type": "string"
            }
          },
          "metadata": {},
          "execution_count": 42
        }
      ]
    },
    {
      "cell_type": "code",
      "source": [
        "# 값 변경\n",
        "bs[\"매니저\"][0] = \"소연\"\n",
        "print(bs)"
      ],
      "metadata": {
        "id": "sq0CjGKpnX0N",
        "colab": {
          "base_uri": "https://localhost:8080/"
        },
        "outputId": "aa27d305-4230-409d-b30b-1160843b3fc2"
      },
      "execution_count": null,
      "outputs": [
        {
          "output_type": "stream",
          "name": "stdout",
          "text": [
            "{'선수': ['채치수', '정대만', '송태섭', '강백호', '서태웅'], '감독': ['안감독'], '매니저': ['소연']}\n"
          ]
        }
      ]
    },
    {
      "cell_type": "code",
      "source": [
        "# 새로운 키와 값 추가\n",
        "# 하나의 값\n",
        "bs[\"상대팀\"] = \"산왕공고\"\n",
        "print(bs)"
      ],
      "metadata": {
        "id": "i5XsohvnnvMF",
        "colab": {
          "base_uri": "https://localhost:8080/"
        },
        "outputId": "0763b8d2-4b15-4050-a89a-eeb80a090f41"
      },
      "execution_count": null,
      "outputs": [
        {
          "output_type": "stream",
          "name": "stdout",
          "text": [
            "{'선수': ['채치수', '정대만', '송태섭', '강백호', '서태웅'], '감독': ['안감독'], '매니저': ['소연'], '상대팀': '산왕공고'}\n"
          ]
        }
      ]
    },
    {
      "cell_type": "code",
      "source": [
        "# 여러 개의 값\n",
        "bs[\"별명\"] = [\"고릴라\", \"불꽃남자\"]\n",
        "print(bs)"
      ],
      "metadata": {
        "id": "TbZlv2GwnpmR",
        "colab": {
          "base_uri": "https://localhost:8080/"
        },
        "outputId": "b50afb71-2dca-44c0-89df-19c278b6aa19"
      },
      "execution_count": null,
      "outputs": [
        {
          "output_type": "stream",
          "name": "stdout",
          "text": [
            "{'선수': ['채치수', '정대만', '송태섭', '강백호', '서태웅'], '감독': ['안감독'], '매니저': ['소연'], '상대팀': '산왕공고', '별명': ['고릴라', '불꽃남자']}\n"
          ]
        }
      ]
    },
    {
      "cell_type": "code",
      "source": [
        "# 키와 값 제거\n",
        "del bs[\"상대팀\"]\n",
        "print(bs)"
      ],
      "metadata": {
        "id": "K2ojOXbqpy2b",
        "colab": {
          "base_uri": "https://localhost:8080/"
        },
        "outputId": "581a8158-1f91-4c5e-9403-212c7de924fc"
      },
      "execution_count": null,
      "outputs": [
        {
          "output_type": "stream",
          "name": "stdout",
          "text": [
            "{'선수': ['채치수', '정대만', '송태섭', '강백호', '서태웅'], '감독': ['안감독'], '매니저': ['소연'], '별명': ['고릴라', '불꽃남자']}\n"
          ]
        }
      ]
    },
    {
      "cell_type": "markdown",
      "source": [
        "## KeyError"
      ],
      "metadata": {
        "id": "iMeQ-KXtsGr2"
      }
    },
    {
      "cell_type": "code",
      "source": [
        "# 존재하지 않는 키를 사용할 때 발생\n",
        "# 값 보기\n",
        "bs[\"상대팀\"]"
      ],
      "metadata": {
        "id": "vP7WpacKqUof",
        "colab": {
          "base_uri": "https://localhost:8080/",
          "height": 187
        },
        "outputId": "0e24ecb9-62c1-4c86-d91e-bb59a2954276"
      },
      "execution_count": null,
      "outputs": [
        {
          "output_type": "error",
          "ename": "KeyError",
          "evalue": "'상대팀'",
          "traceback": [
            "\u001b[0;31m---------------------------------------------------------------------------\u001b[0m",
            "\u001b[0;31mKeyError\u001b[0m                                  Traceback (most recent call last)",
            "\u001b[0;32m<ipython-input-47-ac85c2f546be>\u001b[0m in \u001b[0;36m<cell line: 3>\u001b[0;34m()\u001b[0m\n\u001b[1;32m      1\u001b[0m \u001b[0;31m# 존재하지 않는 키를 사용할 때 발생\u001b[0m\u001b[0;34m\u001b[0m\u001b[0;34m\u001b[0m\u001b[0m\n\u001b[1;32m      2\u001b[0m \u001b[0;31m# 값 보기\u001b[0m\u001b[0;34m\u001b[0m\u001b[0;34m\u001b[0m\u001b[0m\n\u001b[0;32m----> 3\u001b[0;31m \u001b[0mbs\u001b[0m\u001b[0;34m[\u001b[0m\u001b[0;34m\"상대팀\"\u001b[0m\u001b[0;34m]\u001b[0m\u001b[0;34m\u001b[0m\u001b[0;34m\u001b[0m\u001b[0m\n\u001b[0m",
            "\u001b[0;31mKeyError\u001b[0m: '상대팀'"
          ]
        }
      ]
    },
    {
      "cell_type": "code",
      "source": [
        "# 키와 값 제거\n",
        "del bs[\"상대팀\"]"
      ],
      "metadata": {
        "id": "6S-0x4KwsYc4",
        "colab": {
          "base_uri": "https://localhost:8080/",
          "height": 168
        },
        "outputId": "a53ca8e2-977b-4b46-c7c8-21fae88652f6"
      },
      "execution_count": null,
      "outputs": [
        {
          "output_type": "error",
          "ename": "KeyError",
          "evalue": "'상대팀'",
          "traceback": [
            "\u001b[0;31m---------------------------------------------------------------------------\u001b[0m",
            "\u001b[0;31mKeyError\u001b[0m                                  Traceback (most recent call last)",
            "\u001b[0;32m<ipython-input-48-60a0271773d0>\u001b[0m in \u001b[0;36m<cell line: 2>\u001b[0;34m()\u001b[0m\n\u001b[1;32m      1\u001b[0m \u001b[0;31m# 키와 값 제거\u001b[0m\u001b[0;34m\u001b[0m\u001b[0;34m\u001b[0m\u001b[0m\n\u001b[0;32m----> 2\u001b[0;31m \u001b[0;32mdel\u001b[0m \u001b[0mbs\u001b[0m\u001b[0;34m[\u001b[0m\u001b[0;34m\"상대팀\"\u001b[0m\u001b[0;34m]\u001b[0m\u001b[0;34m\u001b[0m\u001b[0;34m\u001b[0m\u001b[0m\n\u001b[0m",
            "\u001b[0;31mKeyError\u001b[0m: '상대팀'"
          ]
        }
      ]
    },
    {
      "cell_type": "markdown",
      "source": [
        "## NameError"
      ],
      "metadata": {
        "id": "5tOiKDM_squY"
      }
    },
    {
      "cell_type": "code",
      "source": [
        "# 에러 발생하는 경우\n",
        "a = {이름: \"강백호\"}\n",
        "print(a)"
      ],
      "metadata": {
        "colab": {
          "base_uri": "https://localhost:8080/",
          "height": 187
        },
        "id": "KQTKviF8sj9M",
        "outputId": "d5696e6a-2b5b-4184-ed80-9c1daeb35c9d"
      },
      "execution_count": null,
      "outputs": [
        {
          "output_type": "error",
          "ename": "NameError",
          "evalue": "name '이름' is not defined",
          "traceback": [
            "\u001b[0;31m---------------------------------------------------------------------------\u001b[0m",
            "\u001b[0;31mNameError\u001b[0m                                 Traceback (most recent call last)",
            "\u001b[0;32m<ipython-input-49-1d5854932c8e>\u001b[0m in \u001b[0;36m<cell line: 2>\u001b[0;34m()\u001b[0m\n\u001b[1;32m      1\u001b[0m \u001b[0;31m# 에러 발생하는 경우\u001b[0m\u001b[0;34m\u001b[0m\u001b[0;34m\u001b[0m\u001b[0m\n\u001b[0;32m----> 2\u001b[0;31m \u001b[0ma\u001b[0m \u001b[0;34m=\u001b[0m \u001b[0;34m{\u001b[0m\u001b[0m이름\u001b[0m\u001b[0;34m:\u001b[0m \u001b[0;34m\"강백호\"\u001b[0m\u001b[0;34m}\u001b[0m\u001b[0;34m\u001b[0m\u001b[0;34m\u001b[0m\u001b[0m\n\u001b[0m\u001b[1;32m      3\u001b[0m \u001b[0mprint\u001b[0m\u001b[0;34m(\u001b[0m\u001b[0ma\u001b[0m\u001b[0;34m)\u001b[0m\u001b[0;34m\u001b[0m\u001b[0;34m\u001b[0m\u001b[0m\n",
            "\u001b[0;31mNameError\u001b[0m: name '이름' is not defined"
          ]
        }
      ]
    },
    {
      "cell_type": "code",
      "source": [
        "# 에러 수정 = 키가 문자열이면 따옴표로 묶어줘야 함\n",
        "a = {\"이름\": \"강백호\"}\n",
        "print(a)"
      ],
      "metadata": {
        "id": "eXNYguTZs1cM",
        "colab": {
          "base_uri": "https://localhost:8080/"
        },
        "outputId": "cc9ed2b2-2f38-42d0-99cc-babd17ab3da8"
      },
      "execution_count": null,
      "outputs": [
        {
          "output_type": "stream",
          "name": "stdout",
          "text": [
            "{'이름': '강백호'}\n"
          ]
        }
      ]
    },
    {
      "cell_type": "markdown",
      "source": [
        "## in 연산자"
      ],
      "metadata": {
        "id": "9Bb2K8Q1t_x0"
      }
    },
    {
      "cell_type": "code",
      "source": [
        "# 찾고 싶은 키\n",
        "\"선수\" in bs"
      ],
      "metadata": {
        "colab": {
          "base_uri": "https://localhost:8080/"
        },
        "id": "J6H1YZgYuCxn",
        "outputId": "9d3b75a6-4575-45c8-a800-b0a70cec1276"
      },
      "execution_count": null,
      "outputs": [
        {
          "output_type": "execute_result",
          "data": {
            "text/plain": [
              "True"
            ]
          },
          "metadata": {},
          "execution_count": 51
        }
      ]
    },
    {
      "cell_type": "code",
      "source": [
        "\"선생님\" in bs"
      ],
      "metadata": {
        "colab": {
          "base_uri": "https://localhost:8080/"
        },
        "id": "x89LARxCuRvz",
        "outputId": "54841839-3b8f-462e-f940-1bd97b8058e5"
      },
      "execution_count": null,
      "outputs": [
        {
          "output_type": "execute_result",
          "data": {
            "text/plain": [
              "False"
            ]
          },
          "metadata": {},
          "execution_count": 52
        }
      ]
    },
    {
      "cell_type": "code",
      "source": [
        "# 딕셔너리의 키 존재 여부 알려주는 프로그램\n",
        "key = input(\"찾고 싶은 키를 입력하세요> \")\n",
        "if key in bs:\n",
        "  print(\"존재하는 키입니다. 해당 값은 \", bs[key])\n",
        "else:\n",
        "  print(\"존재하지 않는 키입니다.\")"
      ],
      "metadata": {
        "colab": {
          "base_uri": "https://localhost:8080/"
        },
        "id": "oG5Z2JsRuYYw",
        "outputId": "b09d650e-ece8-4a92-f24d-7fe8fc6a31a3"
      },
      "execution_count": null,
      "outputs": [
        {
          "output_type": "stream",
          "name": "stdout",
          "text": [
            "찾고 싶은 키를 입력하세요> 선생님\n",
            "존재하지 않는 키입니다.\n"
          ]
        }
      ]
    },
    {
      "cell_type": "markdown",
      "source": [
        "## 값을 보여주는 함수"
      ],
      "metadata": {
        "id": "xdNO9m7RyPBf"
      }
    },
    {
      "cell_type": "code",
      "source": [
        "# 존재하는 키로 값 보기\n",
        "bs[\"감독\"]"
      ],
      "metadata": {
        "colab": {
          "base_uri": "https://localhost:8080/"
        },
        "id": "SLP08k3Eu_Z6",
        "outputId": "4db1ff21-952e-4a7a-92b8-643d62297889"
      },
      "execution_count": null,
      "outputs": [
        {
          "output_type": "execute_result",
          "data": {
            "text/plain": [
              "['안감독']"
            ]
          },
          "metadata": {},
          "execution_count": 54
        }
      ]
    },
    {
      "cell_type": "code",
      "source": [
        "# 존재하지 않는 키로 값 보기 = KeyError\n",
        "bs[\"감독님\"]"
      ],
      "metadata": {
        "id": "p7L0F_kqyZfD",
        "colab": {
          "base_uri": "https://localhost:8080/",
          "height": 168
        },
        "outputId": "6b1b16ca-07a3-4ca6-dee7-7f6a32a5853d"
      },
      "execution_count": null,
      "outputs": [
        {
          "output_type": "error",
          "ename": "KeyError",
          "evalue": "'감독님'",
          "traceback": [
            "\u001b[0;31m---------------------------------------------------------------------------\u001b[0m",
            "\u001b[0;31mKeyError\u001b[0m                                  Traceback (most recent call last)",
            "\u001b[0;32m<ipython-input-55-0ea26c017db8>\u001b[0m in \u001b[0;36m<cell line: 2>\u001b[0;34m()\u001b[0m\n\u001b[1;32m      1\u001b[0m \u001b[0;31m# 존재하지 않는 키로 값 보기 = KeyError\u001b[0m\u001b[0;34m\u001b[0m\u001b[0;34m\u001b[0m\u001b[0m\n\u001b[0;32m----> 2\u001b[0;31m \u001b[0mbs\u001b[0m\u001b[0;34m[\u001b[0m\u001b[0;34m\"감독님\"\u001b[0m\u001b[0;34m]\u001b[0m\u001b[0;34m\u001b[0m\u001b[0;34m\u001b[0m\u001b[0m\n\u001b[0m",
            "\u001b[0;31mKeyError\u001b[0m: '감독님'"
          ]
        }
      ]
    },
    {
      "cell_type": "code",
      "source": [
        "# 존재하지 않는 키로 값 보기 = 에러 없이 결과가 없다는 내용\n",
        "bs.get(\"감독\")"
      ],
      "metadata": {
        "colab": {
          "base_uri": "https://localhost:8080/"
        },
        "id": "WpAOxiTzyfoT",
        "outputId": "2188423a-8a72-4e2f-cb1e-023b6b0036e9"
      },
      "execution_count": null,
      "outputs": [
        {
          "output_type": "execute_result",
          "data": {
            "text/plain": [
              "['안감독']"
            ]
          },
          "metadata": {},
          "execution_count": 56
        }
      ]
    },
    {
      "cell_type": "code",
      "source": [
        "value = bs.get(\"감독님\")\n",
        "print(value)"
      ],
      "metadata": {
        "colab": {
          "base_uri": "https://localhost:8080/"
        },
        "id": "vl3J1oY6zkKD",
        "outputId": "1cbced4c-251e-4005-f031-e411800b9186"
      },
      "execution_count": null,
      "outputs": [
        {
          "output_type": "stream",
          "name": "stdout",
          "text": [
            "None\n"
          ]
        }
      ]
    },
    {
      "cell_type": "markdown",
      "source": [
        "## 딕셔너리로 반복문"
      ],
      "metadata": {
        "id": "O4vgxc260nlJ"
      }
    },
    {
      "cell_type": "code",
      "source": [
        "sd_dic = {\n",
        "    \"이름\": \"정대만\",\n",
        "    \"나이\": 19,\n",
        "    \"키\": 183,\n",
        "    \"몸무게\": 70\n",
        "}"
      ],
      "metadata": {
        "id": "2LOpLr42zzNH"
      },
      "execution_count": null,
      "outputs": []
    },
    {
      "cell_type": "code",
      "source": [
        "# 반복문\n",
        "for i in sd_dic:\n",
        "  print(i) # 키\n",
        "  print(sd_dic[i]) # 값"
      ],
      "metadata": {
        "colab": {
          "base_uri": "https://localhost:8080/"
        },
        "id": "8iZcLI6H1j_5",
        "outputId": "932506b6-7ec8-4b52-c80b-3362b7360205"
      },
      "execution_count": null,
      "outputs": [
        {
          "output_type": "stream",
          "name": "stdout",
          "text": [
            "이름\n",
            "정대만\n",
            "나이\n",
            "19\n",
            "키\n",
            "183\n",
            "몸무게\n",
            "70\n"
          ]
        }
      ]
    },
    {
      "cell_type": "code",
      "source": [
        "character = {\n",
        "    \"name\": \"정대만\",\n",
        "    \"number\": 14,\n",
        "    \"records\": {\n",
        "        \"three_point\": 24,\n",
        "        \"rebound\": 1\n",
        "    },\n",
        "    \"schools\": [\"무석중\", \"북산고\"]\n",
        "}\n",
        "for i in character:\n",
        "  if type(character[i]) == dict:\n",
        "    for j in character[i]:\n",
        "      print(character[i][j])\n",
        "  elif type(character[i]) == list:\n",
        "    for k in character[i]:\n",
        "      print(k)\n",
        "  else:\n",
        "    print(character[i])"
      ],
      "metadata": {
        "colab": {
          "base_uri": "https://localhost:8080/"
        },
        "id": "QkgpzFtU10g4",
        "outputId": "6fe3cd1d-cecb-4de3-ee77-3ab549eebe88"
      },
      "execution_count": null,
      "outputs": [
        {
          "output_type": "stream",
          "name": "stdout",
          "text": [
            "정대만\n",
            "14\n",
            "24\n",
            "1\n",
            "무석중\n",
            "북산고\n"
          ]
        }
      ]
    },
    {
      "cell_type": "markdown",
      "source": [
        "## 확인 문제"
      ],
      "metadata": {
        "id": "rHWiZs04PXdv"
      }
    },
    {
      "cell_type": "code",
      "source": [
        "dict_a = {}\n",
        "dict_a[\"name\"] = \"구름\"\n",
        "print(dict_a)"
      ],
      "metadata": {
        "colab": {
          "base_uri": "https://localhost:8080/"
        },
        "outputId": "349ee841-1316-4f6a-c7bd-a1fb6e47f03a",
        "id": "MrDeKBobmWXm"
      },
      "execution_count": null,
      "outputs": [
        {
          "output_type": "stream",
          "name": "stdout",
          "text": [
            "{'name': '구름'}\n"
          ]
        }
      ]
    },
    {
      "cell_type": "code",
      "source": [
        "del dict_a[\"name\"]\n",
        "print(dict_a)"
      ],
      "metadata": {
        "colab": {
          "base_uri": "https://localhost:8080/"
        },
        "outputId": "bf04c6c4-70d3-42cd-b85c-2507307df227",
        "id": "6CDfFwlfmWXn"
      },
      "execution_count": null,
      "outputs": [
        {
          "output_type": "stream",
          "name": "stdout",
          "text": [
            "{}\n"
          ]
        }
      ]
    },
    {
      "cell_type": "code",
      "source": [
        "pets = [\n",
        "    {\"name\": \"구름\", \"age\": 5},\n",
        "    {\"name\": \"초코\", \"age\": 3},\n",
        "    {\"name\": \"아지\", \"age\": 1},\n",
        "    {\"name\": \"호랑이\", \"age\": 1}\n",
        "]\n",
        "\n",
        "print(\"# 우리 동네 애완 동물들\")\n",
        "for pet in pets:\n",
        "    print(pet[\"name\"], str(pet[\"age\"]) + \"살\")"
      ],
      "metadata": {
        "colab": {
          "base_uri": "https://localhost:8080/"
        },
        "outputId": "069c37c6-e2a5-4fd3-8e63-c00696691028",
        "id": "2t4dJMk-mncA"
      },
      "execution_count": null,
      "outputs": [
        {
          "output_type": "stream",
          "name": "stdout",
          "text": [
            "# 우리 동네 애완 동물들\n",
            "구름 5살\n",
            "초코 3살\n",
            "아지 1살\n",
            "호랑이 1살\n"
          ]
        }
      ]
    },
    {
      "cell_type": "code",
      "source": [
        "numbers = [1,2,6,8,4,3,2,1,9,5,4,9,7,2,1,3,5,4,8,9,7,2,3]\n",
        "counter = {}\n",
        "\n",
        "for number in numbers:\n",
        "    if number in counter:\n",
        "        counter[number] += 1\n",
        "    else:\n",
        "        counter[number] = 1\n",
        "\n",
        "print(counter)"
      ],
      "metadata": {
        "colab": {
          "base_uri": "https://localhost:8080/"
        },
        "outputId": "e72f471c-31dd-40c2-dba5-024748025654",
        "id": "Yh4oJNVXm5qQ"
      },
      "execution_count": null,
      "outputs": [
        {
          "output_type": "stream",
          "name": "stdout",
          "text": [
            "{1: 3, 2: 4, 6: 1, 8: 2, 4: 3, 3: 3, 9: 3, 5: 2, 7: 2}\n"
          ]
        }
      ]
    },
    {
      "cell_type": "code",
      "source": [
        "character = {\n",
        "    \"name\": \"기사\",\n",
        "    \"level\": 12,\n",
        "    \"items\": {\n",
        "        \"sword\": \"불꽃의검\",\n",
        "        \"armor\": \"풀플레이트\"\n",
        "    },\n",
        "    \"skill\": [\"베기\", \"세게 베기\", \"아주 세게 베기\"]\n",
        "}\n",
        "for i in character:\n",
        "  if type(character[i]) is dict: # 딕셔너리 안의 요소가 딕셔너리인 경우\n",
        "    for j in character[i]: # j 는 딕셔너리 키\n",
        "      print(j, \":\", character[i][j])\n",
        "  elif type(character[i]) is list: # 딕셔너리 안의 요소가 리스트인 경우\n",
        "    for k in character[i]: # k 는 리스트 값\n",
        "      print(i, \":\", k)\n",
        "  else: # 딕셔너리 안의 요소가 나머지인 경우\n",
        "    print(i, \":\", character[i])"
      ],
      "metadata": {
        "id": "b4HUHc0-nZTE",
        "colab": {
          "base_uri": "https://localhost:8080/"
        },
        "outputId": "826bcb35-073b-4a18-fa23-b283fb212a7e"
      },
      "execution_count": null,
      "outputs": [
        {
          "output_type": "stream",
          "name": "stdout",
          "text": [
            "name : 기사\n",
            "level : 12\n",
            "sword : 불꽃의검\n",
            "armor : 풀플레이트\n",
            "skill : 베기\n",
            "skill : 세게 베기\n",
            "skill : 아주 세게 베기\n"
          ]
        }
      ]
    },
    {
      "cell_type": "code",
      "source": [],
      "metadata": {
        "id": "yW4yGipjetuh"
      },
      "execution_count": null,
      "outputs": []
    }
  ]
}
