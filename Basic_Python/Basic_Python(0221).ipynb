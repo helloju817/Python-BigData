{
  "nbformat": 4,
  "nbformat_minor": 0,
  "metadata": {
    "colab": {
      "provenance": [],
      "toc_visible": true
    },
    "kernelspec": {
      "name": "python3",
      "display_name": "Python 3"
    },
    "language_info": {
      "name": "python"
    }
  },
  "cells": [
    {
      "cell_type": "code",
      "execution_count": null,
      "metadata": {
        "id": "GbW1P_5MBDCX"
      },
      "outputs": [],
      "source": [
        "# 한 줄 주석 ctrl + /\n",
        "# 여러 줄 주석 \"\"\" ~ \"\"\" / ''' ~ '''\n",
        "# 실행 ctrl + enter (해당 셀에서 실행)\n",
        "# 실행 alt + enter (다음 셀로 넘어감, 다음 셀이 없으면 새로 만듦)\n",
        "# 실행 shift + enter (다음 셀로 넘어감, 다음 셀이 있을때만 감, 다음 셀이 없으면 그 자리에 있음)"
      ]
    },
    {
      "cell_type": "code",
      "source": [
        "\"\"\"\n",
        "a = 1\n",
        "b = 2\n",
        "c = 3\n",
        "d = 4\n",
        "\"\"\""
      ],
      "metadata": {
        "id": "cfta0MUtB2HR"
      },
      "execution_count": null,
      "outputs": []
    },
    {
      "cell_type": "code",
      "source": [
        "'''\n",
        "a = 1\n",
        "b = 2\n",
        "c = 3\n",
        "d = 4\n",
        "'''"
      ],
      "metadata": {
        "colab": {
          "base_uri": "https://localhost:8080/",
          "height": 35
        },
        "id": "sh4RiRDrCYR9",
        "outputId": "1191240a-a7a6-47a5-906b-ec9ef2f479c8"
      },
      "execution_count": null,
      "outputs": [
        {
          "output_type": "execute_result",
          "data": {
            "text/plain": [
              "'\\na = 1\\nb = 2\\nc = 3\\nd = 4\\n'"
            ],
            "application/vnd.google.colaboratory.intrinsic+json": {
              "type": "string"
            }
          },
          "metadata": {},
          "execution_count": 2
        }
      ]
    },
    {
      "cell_type": "code",
      "source": [
        "# 주석\n",
        "1+2"
      ],
      "metadata": {
        "colab": {
          "base_uri": "https://localhost:8080/"
        },
        "id": "KEdfrzXHCY0Q",
        "outputId": "805d90a7-6bf8-49ca-8afc-fe331183ce1c"
      },
      "execution_count": null,
      "outputs": [
        {
          "output_type": "execute_result",
          "data": {
            "text/plain": [
              "3"
            ]
          },
          "metadata": {},
          "execution_count": 3
        }
      ]
    },
    {
      "cell_type": "markdown",
      "source": [
        "# 가장 큰 제목"
      ],
      "metadata": {
        "id": "Am2j-G9ICtDV"
      }
    },
    {
      "cell_type": "code",
      "source": [
        "a = 1\n",
        "b = 2\n",
        "c = 3\n",
        "d = 4\n",
        "print(a)\n",
        "print(b)\n",
        "print(c)\n",
        "print(d)"
      ],
      "metadata": {
        "colab": {
          "base_uri": "https://localhost:8080/"
        },
        "id": "upk2ypKrCeE0",
        "outputId": "ec532946-7ffa-4586-ffec-16b33f59c483"
      },
      "execution_count": null,
      "outputs": [
        {
          "output_type": "stream",
          "name": "stdout",
          "text": [
            "1\n",
            "2\n",
            "3\n",
            "4\n"
          ]
        }
      ]
    },
    {
      "cell_type": "code",
      "source": [
        "a\n",
        "b\n",
        "c\n",
        "d"
      ],
      "metadata": {
        "colab": {
          "base_uri": "https://localhost:8080/"
        },
        "id": "wRlCuCa2DQWT",
        "outputId": "62325f6e-30b3-485d-8fb3-262a9b40a471"
      },
      "execution_count": null,
      "outputs": [
        {
          "output_type": "execute_result",
          "data": {
            "text/plain": [
              "4"
            ]
          },
          "metadata": {},
          "execution_count": 5
        }
      ]
    },
    {
      "cell_type": "code",
      "source": [
        "a + b # = 1 + 2"
      ],
      "metadata": {
        "colab": {
          "base_uri": "https://localhost:8080/"
        },
        "id": "FQhHMnLG-boC",
        "outputId": "226151d9-ffb0-44b5-a661-f166875875ff"
      },
      "execution_count": null,
      "outputs": [
        {
          "output_type": "execute_result",
          "data": {
            "text/plain": [
              "3"
            ]
          },
          "metadata": {},
          "execution_count": 6
        }
      ]
    },
    {
      "cell_type": "code",
      "source": [
        "c - b # 3 - 2"
      ],
      "metadata": {
        "colab": {
          "base_uri": "https://localhost:8080/"
        },
        "id": "OqW3Wgeq_XNs",
        "outputId": "55999299-20f6-405f-fb03-e36f81457716"
      },
      "execution_count": null,
      "outputs": [
        {
          "output_type": "execute_result",
          "data": {
            "text/plain": [
              "1"
            ]
          },
          "metadata": {},
          "execution_count": 7
        }
      ]
    },
    {
      "cell_type": "code",
      "source": [
        "c * d # 3 * 4"
      ],
      "metadata": {
        "colab": {
          "base_uri": "https://localhost:8080/"
        },
        "id": "CFQqDOU__3VK",
        "outputId": "e0ec9236-29f0-43c8-92fb-25a41499d50b"
      },
      "execution_count": null,
      "outputs": [
        {
          "output_type": "execute_result",
          "data": {
            "text/plain": [
              "12"
            ]
          },
          "metadata": {},
          "execution_count": 8
        }
      ]
    },
    {
      "cell_type": "code",
      "source": [
        "d / b # 4 / 2"
      ],
      "metadata": {
        "colab": {
          "base_uri": "https://localhost:8080/"
        },
        "id": "LDgm610M_9fP",
        "outputId": "8e143d9e-2fcb-4819-954b-ba80471b2817"
      },
      "execution_count": null,
      "outputs": [
        {
          "output_type": "execute_result",
          "data": {
            "text/plain": [
              "2.0"
            ]
          },
          "metadata": {},
          "execution_count": 9
        }
      ]
    },
    {
      "cell_type": "markdown",
      "source": [
        "# 파이썬 기초"
      ],
      "metadata": {
        "id": "eSDyUcO2Vb0L"
      }
    },
    {
      "cell_type": "code",
      "source": [
        "# 출력을 해주는 함수\n",
        "print(\"안녕 파이썬\")"
      ],
      "metadata": {
        "id": "h4oowJVVW_cs",
        "colab": {
          "base_uri": "https://localhost:8080/"
        },
        "outputId": "47f13d61-ff54-4d2b-d62e-4adc4c88b9b5"
      },
      "execution_count": null,
      "outputs": [
        {
          "output_type": "stream",
          "name": "stdout",
          "text": [
            "안녕 파이썬\n"
          ]
        }
      ]
    },
    {
      "cell_type": "code",
      "source": [
        "print(\"안녕\"*10)"
      ],
      "metadata": {
        "id": "EBEYkDgdXKpP",
        "colab": {
          "base_uri": "https://localhost:8080/"
        },
        "outputId": "b590c446-fcb8-43f8-b498-a4481bd54ac3"
      },
      "execution_count": null,
      "outputs": [
        {
          "output_type": "stream",
          "name": "stdout",
          "text": [
            "안녕안녕안녕안녕안녕안녕안녕안녕안녕안녕\n"
          ]
        }
      ]
    },
    {
      "cell_type": "code",
      "source": [
        "# 표현식\n",
        "23\n",
        "\"Hello\"\n",
        "1+2\n",
        "# + : 연산자"
      ],
      "metadata": {
        "colab": {
          "base_uri": "https://localhost:8080/"
        },
        "id": "JtOTQ5pgXfZr",
        "outputId": "2360395d-6c91-4062-e4f1-bbbb13ba7b65"
      },
      "execution_count": null,
      "outputs": [
        {
          "output_type": "execute_result",
          "data": {
            "text/plain": [
              "3"
            ]
          },
          "metadata": {},
          "execution_count": 13
        }
      ]
    },
    {
      "cell_type": "code",
      "source": [
        "# 문장: 표현식이 모여서 실행할 수 있는 코드\n",
        "# 한줄의 코드\n",
        "a = 1+2"
      ],
      "metadata": {
        "id": "zurDUYwLXvo8"
      },
      "execution_count": null,
      "outputs": []
    },
    {
      "cell_type": "code",
      "source": [
        "a"
      ],
      "metadata": {
        "id": "xLwwihm7XsFa",
        "colab": {
          "base_uri": "https://localhost:8080/"
        },
        "outputId": "9a2d8c7f-da51-4e36-9b3e-811c4ce99139"
      },
      "execution_count": null,
      "outputs": [
        {
          "output_type": "execute_result",
          "data": {
            "text/plain": [
              "3"
            ]
          },
          "metadata": {},
          "execution_count": 15
        }
      ]
    },
    {
      "cell_type": "code",
      "source": [
        "print(\"Hello, Python\")"
      ],
      "metadata": {
        "colab": {
          "base_uri": "https://localhost:8080/"
        },
        "id": "DSCvZ44q0_IF",
        "outputId": "e4dafc2b-b5ea-498c-f366-aa47345dd175"
      },
      "execution_count": null,
      "outputs": [
        {
          "output_type": "stream",
          "name": "stdout",
          "text": [
            "Hello, Python\n"
          ]
        }
      ]
    },
    {
      "cell_type": "code",
      "source": [
        "# 프로그램: 문장이 모여서 만들어진 코드\n",
        "import time\n",
        "time.timesleep(s)\n",
        "print(\"Hello\")"
      ],
      "metadata": {
        "id": "l7Ffe35UYzqd",
        "colab": {
          "base_uri": "https://localhost:8080/",
          "height": 202
        },
        "outputId": "e3879162-74db-4df6-cd16-b886b2feea33"
      },
      "execution_count": null,
      "outputs": [
        {
          "output_type": "error",
          "ename": "AttributeError",
          "evalue": "module 'time' has no attribute 'timesleep'",
          "traceback": [
            "\u001b[0;31m---------------------------------------------------------------------------\u001b[0m",
            "\u001b[0;31mAttributeError\u001b[0m                            Traceback (most recent call last)",
            "\u001b[0;32m<ipython-input-17-5c5a321d95c1>\u001b[0m in \u001b[0;36m<cell line: 3>\u001b[0;34m()\u001b[0m\n\u001b[1;32m      1\u001b[0m \u001b[0;31m# 프로그램: 문장이 모여서 만들어진 코드\u001b[0m\u001b[0;34m\u001b[0m\u001b[0;34m\u001b[0m\u001b[0m\n\u001b[1;32m      2\u001b[0m \u001b[0;32mimport\u001b[0m \u001b[0mtime\u001b[0m\u001b[0;34m\u001b[0m\u001b[0;34m\u001b[0m\u001b[0m\n\u001b[0;32m----> 3\u001b[0;31m \u001b[0mtime\u001b[0m\u001b[0;34m.\u001b[0m\u001b[0mtimesleep\u001b[0m\u001b[0;34m(\u001b[0m\u001b[0ms\u001b[0m\u001b[0;34m)\u001b[0m\u001b[0;34m\u001b[0m\u001b[0;34m\u001b[0m\u001b[0m\n\u001b[0m\u001b[1;32m      4\u001b[0m \u001b[0mprint\u001b[0m\u001b[0;34m(\u001b[0m\u001b[0;34m\"Hello\"\u001b[0m\u001b[0;34m)\u001b[0m\u001b[0;34m\u001b[0m\u001b[0;34m\u001b[0m\u001b[0m\n",
            "\u001b[0;31mAttributeError\u001b[0m: module 'time' has no attribute 'timesleep'"
          ]
        }
      ]
    },
    {
      "cell_type": "code",
      "source": [
        "import time\n",
        "\n",
        "def main():\n",
        "    s = input(\"몇 초 쉬어야 하나요? \")\n",
        "    time.sleep(int(s))\n",
        "    print(\"Hello\")\n",
        "\n",
        "if __name__ == \"__main__\":\n",
        "    main()"
      ],
      "metadata": {
        "colab": {
          "base_uri": "https://localhost:8080/"
        },
        "id": "VEgi2MfB11Ax",
        "outputId": "47fba484-ebaf-4588-b95f-f46b52f1cf1b"
      },
      "execution_count": null,
      "outputs": [
        {
          "output_type": "stream",
          "name": "stdout",
          "text": [
            "몇 초 쉬어야 하나요? 3\n",
            "Hello\n"
          ]
        }
      ]
    },
    {
      "cell_type": "code",
      "source": [
        "import time\n",
        "s = 1\n",
        "time.sleep(s)\n",
        "print(\"Hello\")"
      ],
      "metadata": {
        "colab": {
          "base_uri": "https://localhost:8080/"
        },
        "id": "QGWA1gWm14_G",
        "outputId": "ab8e5199-b5ca-48f0-c274-f976d1dded88"
      },
      "execution_count": null,
      "outputs": [
        {
          "output_type": "stream",
          "name": "stdout",
          "text": [
            "Hello\n"
          ]
        }
      ]
    },
    {
      "cell_type": "markdown",
      "source": [
        "## 키워드 & 식별자"
      ],
      "metadata": {
        "id": "kzyQhs3GiU2b"
      }
    },
    {
      "cell_type": "code",
      "source": [
        "# 키워드 확인하는 방법\n",
        "import keyword\n",
        "print(keyword.kwlist)"
      ],
      "metadata": {
        "colab": {
          "base_uri": "https://localhost:8080/"
        },
        "id": "NPx28VNobTd5",
        "outputId": "27f244c1-30ab-4ff3-b909-56ba2e12b213"
      },
      "execution_count": null,
      "outputs": [
        {
          "output_type": "stream",
          "name": "stdout",
          "text": [
            "['False', 'None', 'True', 'and', 'as', 'assert', 'async', 'await', 'break', 'class', 'continue', 'def', 'del', 'elif', 'else', 'except', 'finally', 'for', 'from', 'global', 'if', 'import', 'in', 'is', 'lambda', 'nonlocal', 'not', 'or', 'pass', 'raise', 'return', 'try', 'while', 'with', 'yield']\n"
          ]
        }
      ]
    },
    {
      "cell_type": "code",
      "source": [
        "# 식별자\n",
        "student_name = \"Tom\"\n",
        "student_name"
      ],
      "metadata": {
        "id": "N_FbFrQJcRSt",
        "colab": {
          "base_uri": "https://localhost:8080/",
          "height": 35
        },
        "outputId": "dd64adbf-9af0-451b-c00f-346c746b4ff2"
      },
      "execution_count": null,
      "outputs": [
        {
          "output_type": "execute_result",
          "data": {
            "text/plain": [
              "'Tom'"
            ],
            "application/vnd.google.colaboratory.intrinsic+json": {
              "type": "string"
            }
          },
          "metadata": {},
          "execution_count": 13
        }
      ]
    },
    {
      "cell_type": "code",
      "source": [
        "StudentName = \"Tom\"\n",
        "StudentName"
      ],
      "metadata": {
        "colab": {
          "base_uri": "https://localhost:8080/",
          "height": 35
        },
        "id": "cWZ6WaLw4Fjn",
        "outputId": "e4a74988-4a25-44f9-8f8f-e23309f7ed4d"
      },
      "execution_count": null,
      "outputs": [
        {
          "output_type": "execute_result",
          "data": {
            "text/plain": [
              "'Tom'"
            ],
            "application/vnd.google.colaboratory.intrinsic+json": {
              "type": "string"
            }
          },
          "metadata": {},
          "execution_count": 18
        }
      ]
    },
    {
      "cell_type": "code",
      "source": [
        "class = 1\n",
        "class"
      ],
      "metadata": {
        "colab": {
          "base_uri": "https://localhost:8080/",
          "height": 145
        },
        "id": "N0euX1O_3nwA",
        "outputId": "d8dab99f-d562-42e3-e7e8-a20e8171cc85"
      },
      "execution_count": null,
      "outputs": [
        {
          "output_type": "error",
          "ename": "SyntaxError",
          "evalue": "invalid syntax (<ipython-input-15-e1538c184d80>, line 1)",
          "traceback": [
            "\u001b[0;36m  File \u001b[0;32m\"<ipython-input-15-e1538c184d80>\"\u001b[0;36m, line \u001b[0;32m1\u001b[0m\n\u001b[0;31m    class = 1\u001b[0m\n\u001b[0m          ^\u001b[0m\n\u001b[0;31mSyntaxError\u001b[0m\u001b[0;31m:\u001b[0m invalid syntax\n"
          ]
        }
      ]
    },
    {
      "cell_type": "code",
      "source": [
        "_class = 1\n",
        "_class"
      ],
      "metadata": {
        "colab": {
          "base_uri": "https://localhost:8080/"
        },
        "id": "yLxWSrKh3aUq",
        "outputId": "d03369b5-34d4-4f3f-f201-94f2e8c9aa49"
      },
      "execution_count": null,
      "outputs": [
        {
          "output_type": "execute_result",
          "data": {
            "text/plain": [
              "1"
            ]
          },
          "metadata": {},
          "execution_count": 14
        }
      ]
    },
    {
      "cell_type": "code",
      "source": [
        "$class = 1\n",
        "$class"
      ],
      "metadata": {
        "colab": {
          "base_uri": "https://localhost:8080/",
          "height": 145
        },
        "id": "4uhMQWSL_DkJ",
        "outputId": "5b835d7c-e9fb-4d29-b30e-83cd5fc03157"
      },
      "execution_count": null,
      "outputs": [
        {
          "output_type": "error",
          "ename": "SyntaxError",
          "evalue": "invalid syntax (<ipython-input-20-8130e611091d>, line 1)",
          "traceback": [
            "\u001b[0;36m  File \u001b[0;32m\"<ipython-input-20-8130e611091d>\"\u001b[0;36m, line \u001b[0;32m1\u001b[0m\n\u001b[0;31m    $class = 1\u001b[0m\n\u001b[0m    ^\u001b[0m\n\u001b[0;31mSyntaxError\u001b[0m\u001b[0;31m:\u001b[0m invalid syntax\n"
          ]
        }
      ]
    },
    {
      "cell_type": "code",
      "source": [
        "2class = 1\n",
        "2class"
      ],
      "metadata": {
        "colab": {
          "base_uri": "https://localhost:8080/",
          "height": 145
        },
        "id": "1E1Qqdy13z-p",
        "outputId": "f6d240fa-f2d5-4d64-d835-e35f5f4af54f"
      },
      "execution_count": null,
      "outputs": [
        {
          "output_type": "error",
          "ename": "SyntaxError",
          "evalue": "invalid decimal literal (<ipython-input-16-d218a2b8ef61>, line 1)",
          "traceback": [
            "\u001b[0;36m  File \u001b[0;32m\"<ipython-input-16-d218a2b8ef61>\"\u001b[0;36m, line \u001b[0;32m1\u001b[0m\n\u001b[0;31m    2class = 1\u001b[0m\n\u001b[0m    ^\u001b[0m\n\u001b[0;31mSyntaxError\u001b[0m\u001b[0;31m:\u001b[0m invalid decimal literal\n"
          ]
        }
      ]
    },
    {
      "cell_type": "code",
      "source": [
        "first name = \"Tom\"\n",
        "first name\n",
        "# first name => first_name"
      ],
      "metadata": {
        "colab": {
          "base_uri": "https://localhost:8080/",
          "height": 145
        },
        "id": "1fB9gpEJ3kM-",
        "outputId": "78704ec0-2a77-44d8-e3fb-7d39bd648568"
      },
      "execution_count": null,
      "outputs": [
        {
          "output_type": "error",
          "ename": "SyntaxError",
          "evalue": "invalid syntax (<ipython-input-17-bfa0530b619f>, line 1)",
          "traceback": [
            "\u001b[0;36m  File \u001b[0;32m\"<ipython-input-17-bfa0530b619f>\"\u001b[0;36m, line \u001b[0;32m1\u001b[0m\n\u001b[0;31m    first name = \"Tom\"\u001b[0m\n\u001b[0m          ^\u001b[0m\n\u001b[0;31mSyntaxError\u001b[0m\u001b[0;31m:\u001b[0m invalid syntax\n"
          ]
        }
      ]
    },
    {
      "cell_type": "markdown",
      "source": [
        "# 자료형"
      ],
      "metadata": {
        "id": "Lq1Bom5hn_r6"
      }
    },
    {
      "cell_type": "code",
      "source": [
        "# 자료형 확인\n",
        "type(\"배고파\") # str = string 문자열"
      ],
      "metadata": {
        "colab": {
          "base_uri": "https://localhost:8080/"
        },
        "id": "9CEKdEshl7mp",
        "outputId": "14e6af6b-797f-4f94-b3f7-0e2fa0ff5a75"
      },
      "execution_count": null,
      "outputs": [
        {
          "output_type": "execute_result",
          "data": {
            "text/plain": [
              "str"
            ]
          },
          "metadata": {},
          "execution_count": 15
        }
      ]
    },
    {
      "cell_type": "code",
      "source": [
        "type(23) # int = integer 정수 = 소수점이 없는 숫자"
      ],
      "metadata": {
        "colab": {
          "base_uri": "https://localhost:8080/"
        },
        "id": "cJIdBbtEoLRx",
        "outputId": "f05d5a39-56a1-49cf-e3cc-27559173a58c"
      },
      "execution_count": null,
      "outputs": [
        {
          "output_type": "execute_result",
          "data": {
            "text/plain": [
              "int"
            ]
          },
          "metadata": {},
          "execution_count": 16
        }
      ]
    },
    {
      "cell_type": "code",
      "source": [
        "type(2.3) # float 실수 = 소수점이 있는 숫자"
      ],
      "metadata": {
        "colab": {
          "base_uri": "https://localhost:8080/"
        },
        "id": "lbNljSTSoYMz",
        "outputId": "812c0fe7-37cf-4b11-e3f1-3a581ac3243d"
      },
      "execution_count": null,
      "outputs": [
        {
          "output_type": "execute_result",
          "data": {
            "text/plain": [
              "float"
            ]
          },
          "metadata": {},
          "execution_count": 17
        }
      ]
    },
    {
      "cell_type": "code",
      "source": [
        "type(True) # bool = boolean 불 = 논리형 = 참/거짓"
      ],
      "metadata": {
        "colab": {
          "base_uri": "https://localhost:8080/"
        },
        "id": "B0mXs2fjolB1",
        "outputId": "f1647618-b60e-4a39-c698-3d2d0eb5722d"
      },
      "execution_count": null,
      "outputs": [
        {
          "output_type": "execute_result",
          "data": {
            "text/plain": [
              "bool"
            ]
          },
          "metadata": {},
          "execution_count": 18
        }
      ]
    },
    {
      "cell_type": "markdown",
      "source": [
        "## 문자열"
      ],
      "metadata": {
        "id": "8symZT-xp0VS"
      }
    },
    {
      "cell_type": "code",
      "source": [
        "print(\"Korea\")\n",
        "print('Korea')"
      ],
      "metadata": {
        "colab": {
          "base_uri": "https://localhost:8080/"
        },
        "id": "IJNThoi0DayI",
        "outputId": "5e405290-e377-4b1f-b424-8aafebf279df"
      },
      "execution_count": null,
      "outputs": [
        {
          "output_type": "stream",
          "name": "stdout",
          "text": [
            "Korea\n",
            "Korea\n"
          ]
        }
      ]
    },
    {
      "cell_type": "code",
      "source": [
        "print(\"Hello\", \"Korea\", \"is\", \"beautiful!\")"
      ],
      "metadata": {
        "colab": {
          "base_uri": "https://localhost:8080/"
        },
        "id": "5UfOiv1FDlig",
        "outputId": "80f0e615-bf85-4a35-f486-d97e14b4483a"
      },
      "execution_count": null,
      "outputs": [
        {
          "output_type": "stream",
          "name": "stdout",
          "text": [
            "Hello Korea is beautiful!\n"
          ]
        }
      ]
    },
    {
      "cell_type": "code",
      "source": [
        "print(\"안녕\")\n",
        "print('안녕')"
      ],
      "metadata": {
        "colab": {
          "base_uri": "https://localhost:8080/"
        },
        "id": "Yu4BuwHjov0n",
        "outputId": "2406f09f-0a98-4cbe-8b5c-df69d5cdd8d6"
      },
      "execution_count": null,
      "outputs": [
        {
          "output_type": "stream",
          "name": "stdout",
          "text": [
            "안녕\n",
            "안녕\n"
          ]
        }
      ]
    },
    {
      "cell_type": "code",
      "source": [
        "print(\"He said \"Hello\"\")\n",
        "# SyntaxError: invalid syntax => 구문 오류 = 코드 실행 전에 발생하는 오류 = 보통 오타"
      ],
      "metadata": {
        "colab": {
          "base_uri": "https://localhost:8080/",
          "height": 110
        },
        "id": "EcsZcQv4EBpc",
        "outputId": "b8fbcd5c-cfbd-4061-9027-d643dbc62004"
      },
      "execution_count": null,
      "outputs": [
        {
          "output_type": "error",
          "ename": "SyntaxError",
          "evalue": "invalid syntax. Perhaps you forgot a comma? (<ipython-input-24-f42fb9687825>, line 1)",
          "traceback": [
            "\u001b[0;36m  File \u001b[0;32m\"<ipython-input-24-f42fb9687825>\"\u001b[0;36m, line \u001b[0;32m1\u001b[0m\n\u001b[0;31m    print(\"He said \"Hello\"\")\u001b[0m\n\u001b[0m          ^\u001b[0m\n\u001b[0;31mSyntaxError\u001b[0m\u001b[0;31m:\u001b[0m invalid syntax. Perhaps you forgot a comma?\n"
          ]
        }
      ]
    },
    {
      "cell_type": "code",
      "source": [
        "# 오류 수정\n",
        "print('He said \"Hello\"')\n",
        "print(\"He said 'Hello'\")"
      ],
      "metadata": {
        "colab": {
          "base_uri": "https://localhost:8080/"
        },
        "id": "cqW6UvKXELjQ",
        "outputId": "691f0e90-6dd5-40a5-b4a5-0406f103ddc6"
      },
      "execution_count": null,
      "outputs": [
        {
          "output_type": "stream",
          "name": "stdout",
          "text": [
            "He said \"Hello\"\n",
            "He said 'Hello'\n"
          ]
        }
      ]
    },
    {
      "cell_type": "code",
      "source": [
        "# 문자열 안에서 따옴표를 사용하는 경우\n",
        "print(\"\"안녕\"이라고 말해봐\")"
      ],
      "metadata": {
        "id": "sEgZ2Cw-qATK",
        "colab": {
          "base_uri": "https://localhost:8080/",
          "height": 110
        },
        "outputId": "1ea9c160-f674-4db3-94d9-a9deb5fdf666"
      },
      "execution_count": null,
      "outputs": [
        {
          "output_type": "error",
          "ename": "SyntaxError",
          "evalue": "invalid syntax. Perhaps you forgot a comma? (<ipython-input-26-400f9b609a59>, line 2)",
          "traceback": [
            "\u001b[0;36m  File \u001b[0;32m\"<ipython-input-26-400f9b609a59>\"\u001b[0;36m, line \u001b[0;32m2\u001b[0m\n\u001b[0;31m    print(\"\"안녕\"이라고 말해봐\")\u001b[0m\n\u001b[0m          ^\u001b[0m\n\u001b[0;31mSyntaxError\u001b[0m\u001b[0;31m:\u001b[0m invalid syntax. Perhaps you forgot a comma?\n"
          ]
        }
      ]
    },
    {
      "cell_type": "code",
      "source": [
        "# 위의 에러 수정\n",
        "print('\"안녕\"이라고 말해봐')"
      ],
      "metadata": {
        "colab": {
          "base_uri": "https://localhost:8080/"
        },
        "id": "FA1GtJXBqtUc",
        "outputId": "26323db7-73be-494b-bb6d-7be090b25042"
      },
      "execution_count": null,
      "outputs": [
        {
          "output_type": "stream",
          "name": "stdout",
          "text": [
            "\"안녕\"이라고 말해봐\n"
          ]
        }
      ]
    },
    {
      "cell_type": "code",
      "source": [
        "print(\"'안녕'이라고 말해봐\")"
      ],
      "metadata": {
        "colab": {
          "base_uri": "https://localhost:8080/"
        },
        "id": "cx_t9izbq2R4",
        "outputId": "f97dff37-1338-4b38-8624-a5fe3f94bf67"
      },
      "execution_count": null,
      "outputs": [
        {
          "output_type": "stream",
          "name": "stdout",
          "text": [
            "'안녕'이라고 말해봐\n"
          ]
        }
      ]
    },
    {
      "cell_type": "markdown",
      "source": [
        "### 이스케이프 문자"
      ],
      "metadata": {
        "id": "HOg67UgbrsWM"
      }
    },
    {
      "cell_type": "code",
      "source": [
        "# \\\"\n",
        "print('He said \\'Hello\\'')"
      ],
      "metadata": {
        "colab": {
          "base_uri": "https://localhost:8080/"
        },
        "id": "kqq-BozfEjaQ",
        "outputId": "0c0dbcaa-771e-4009-e288-6b9d92c38809"
      },
      "execution_count": null,
      "outputs": [
        {
          "output_type": "stream",
          "name": "stdout",
          "text": [
            "He said 'Hello'\n"
          ]
        }
      ]
    },
    {
      "cell_type": "code",
      "source": [
        "print(\"He said \\\"Hello\\\"\")"
      ],
      "metadata": {
        "colab": {
          "base_uri": "https://localhost:8080/"
        },
        "id": "ABjAv9UBE3Lu",
        "outputId": "ed0d20a2-78eb-447c-f1e3-49ded2498843"
      },
      "execution_count": null,
      "outputs": [
        {
          "output_type": "stream",
          "name": "stdout",
          "text": [
            "He said \"Hello\"\n"
          ]
        }
      ]
    },
    {
      "cell_type": "code",
      "source": [
        "print('He said \\nHello\\n')"
      ],
      "metadata": {
        "colab": {
          "base_uri": "https://localhost:8080/"
        },
        "id": "5mY-7ZzoE85Y",
        "outputId": "b3742210-d3cf-471e-caf9-ed5c06eb6712"
      },
      "execution_count": null,
      "outputs": [
        {
          "output_type": "stream",
          "name": "stdout",
          "text": [
            "He said \n",
            "Hello\n",
            "\n"
          ]
        }
      ]
    },
    {
      "cell_type": "code",
      "source": [
        "print('He said \\tHello\\t')"
      ],
      "metadata": {
        "colab": {
          "base_uri": "https://localhost:8080/"
        },
        "id": "n7louqIrFAvj",
        "outputId": "e7362605-5fb6-48cc-9332-576f454c2115"
      },
      "execution_count": null,
      "outputs": [
        {
          "output_type": "stream",
          "name": "stdout",
          "text": [
            "He said \tHello\t\n"
          ]
        }
      ]
    },
    {
      "cell_type": "code",
      "source": [
        "print('He said \\\\Hello\\\\')"
      ],
      "metadata": {
        "colab": {
          "base_uri": "https://localhost:8080/"
        },
        "id": "lgJ2h6W1FD0_",
        "outputId": "2d29477c-e0c1-4c7f-8eab-68f2af06901e"
      },
      "execution_count": null,
      "outputs": [
        {
          "output_type": "stream",
          "name": "stdout",
          "text": [
            "He said \\Hello\\\n"
          ]
        }
      ]
    },
    {
      "cell_type": "code",
      "source": [
        "# 역슬래시(\\) 와 함께 쓰는 문자\n",
        "print(\"\\\"안녕\\\"이라고 말해봐\")"
      ],
      "metadata": {
        "colab": {
          "base_uri": "https://localhost:8080/"
        },
        "id": "8H_65w3OrRLi",
        "outputId": "5516f88c-c253-49a4-af0c-363269b5d3ba"
      },
      "execution_count": null,
      "outputs": [
        {
          "output_type": "stream",
          "name": "stdout",
          "text": [
            "\"안녕\"이라고 말해봐\n"
          ]
        }
      ]
    },
    {
      "cell_type": "code",
      "source": [
        "print('\\'안녕\\'이라고 말해봐')"
      ],
      "metadata": {
        "colab": {
          "base_uri": "https://localhost:8080/"
        },
        "id": "38gzaGRksSMC",
        "outputId": "9bc61304-0f5e-4d7f-88e9-fbb7e499870f"
      },
      "execution_count": null,
      "outputs": [
        {
          "output_type": "stream",
          "name": "stdout",
          "text": [
            "'안녕'이라고 말해봐\n"
          ]
        }
      ]
    },
    {
      "cell_type": "code",
      "source": [
        "# 줄바꿈 \\n\n",
        "print(\"동해물과 백두산이\\n마르고 닳도록\")"
      ],
      "metadata": {
        "colab": {
          "base_uri": "https://localhost:8080/"
        },
        "id": "2N8TsRvNsaBT",
        "outputId": "b67ce806-a36e-4886-ee7b-a04981bd3245"
      },
      "execution_count": null,
      "outputs": [
        {
          "output_type": "stream",
          "name": "stdout",
          "text": [
            "동해물과 백두산이\n",
            "마르고 닳도록\n"
          ]
        }
      ]
    },
    {
      "cell_type": "code",
      "source": [
        "# 탭 \\t\n",
        "print(\"안녕\\t안녕\")"
      ],
      "metadata": {
        "colab": {
          "base_uri": "https://localhost:8080/"
        },
        "id": "aGqfmjANtROd",
        "outputId": "7007e14f-33d0-4109-98d3-06c3f1b3746b"
      },
      "execution_count": null,
      "outputs": [
        {
          "output_type": "stream",
          "name": "stdout",
          "text": [
            "안녕\t안녕\n"
          ]
        }
      ]
    },
    {
      "cell_type": "code",
      "source": [
        "# 역슬래시 \\\\\n",
        "print(\"\\\\\\\\\")"
      ],
      "metadata": {
        "colab": {
          "base_uri": "https://localhost:8080/"
        },
        "id": "hPMGxNI9-pPj",
        "outputId": "5a7fa174-c4a6-4dd1-d202-020e3a9e85f8"
      },
      "execution_count": null,
      "outputs": [
        {
          "output_type": "stream",
          "name": "stdout",
          "text": [
            "\\\\\n"
          ]
        }
      ]
    },
    {
      "cell_type": "markdown",
      "source": [
        "### 여러 줄의 문자열"
      ],
      "metadata": {
        "id": "8na3AW2J-9KX"
      }
    },
    {
      "cell_type": "code",
      "source": [
        "print(\"Python\\nBasic\\nClass\")"
      ],
      "metadata": {
        "colab": {
          "base_uri": "https://localhost:8080/"
        },
        "id": "7a0SHa09FQ9u",
        "outputId": "27575393-cc7b-4a6c-bc0c-4524af112519"
      },
      "execution_count": null,
      "outputs": [
        {
          "output_type": "stream",
          "name": "stdout",
          "text": [
            "Python\n",
            "Basic\n",
            "Class\n"
          ]
        }
      ]
    },
    {
      "cell_type": "code",
      "source": [
        "print(\"\"\"Python\n",
        "Basic\n",
        "Class\"\"\")"
      ],
      "metadata": {
        "colab": {
          "base_uri": "https://localhost:8080/"
        },
        "id": "YiEh_2RXFbuL",
        "outputId": "1c0e736c-add7-4b7a-aa7d-0a73ec434840"
      },
      "execution_count": null,
      "outputs": [
        {
          "output_type": "stream",
          "name": "stdout",
          "text": [
            "Python\n",
            "Basic\n",
            "Class\n"
          ]
        }
      ]
    },
    {
      "cell_type": "code",
      "source": [
        "print('''Python\n",
        "Basic\n",
        "Class''')"
      ],
      "metadata": {
        "colab": {
          "base_uri": "https://localhost:8080/"
        },
        "id": "_YItHksgFin8",
        "outputId": "e5b3237e-00f9-4595-ef30-198741001432"
      },
      "execution_count": null,
      "outputs": [
        {
          "output_type": "stream",
          "name": "stdout",
          "text": [
            "Python\n",
            "Basic\n",
            "Class\n"
          ]
        }
      ]
    },
    {
      "cell_type": "code",
      "source": [
        "print(\"하나~~~~~\\n둘~~~~~\\n셋~~~~~\\n넷~~~~~~\")"
      ],
      "metadata": {
        "id": "bTtCT9r4-36s",
        "colab": {
          "base_uri": "https://localhost:8080/"
        },
        "outputId": "0837f0d7-cb64-43fc-c1a4-cc0122cc673f"
      },
      "execution_count": null,
      "outputs": [
        {
          "output_type": "stream",
          "name": "stdout",
          "text": [
            "하나~~~~~\n",
            "둘~~~~~\n",
            "셋~~~~~\n",
            "넷~~~~~~\n"
          ]
        }
      ]
    },
    {
      "cell_type": "code",
      "source": [
        "print(\"\"\"\n",
        "Python\n",
        "Basic\n",
        "Class\n",
        "\"\"\")"
      ],
      "metadata": {
        "colab": {
          "base_uri": "https://localhost:8080/"
        },
        "id": "3IU0oH_pF-Zw",
        "outputId": "12388065-a159-4f87-9233-3a681425e884"
      },
      "execution_count": null,
      "outputs": [
        {
          "output_type": "stream",
          "name": "stdout",
          "text": [
            "\n",
            "Python\n",
            "Basic\n",
            "Class\n",
            "\n"
          ]
        }
      ]
    },
    {
      "cell_type": "code",
      "source": [
        "print(\"\"\"\\\n",
        "Python\n",
        "Basic\n",
        "Class\\\n",
        "\"\"\")"
      ],
      "metadata": {
        "colab": {
          "base_uri": "https://localhost:8080/"
        },
        "id": "86R1OFjXGDkJ",
        "outputId": "20bc75b4-b6ce-4a96-fb2b-1ee738dddbfe"
      },
      "execution_count": null,
      "outputs": [
        {
          "output_type": "stream",
          "name": "stdout",
          "text": [
            "Python\n",
            "Basic\n",
            "Class\n"
          ]
        }
      ]
    },
    {
      "cell_type": "code",
      "source": [
        "print(\"\"\"하나~~~~~\n",
        "둘~~~~~\n",
        "셋~~~~~\n",
        "넷~~~~~~\"\"\")"
      ],
      "metadata": {
        "id": "ZRfUSi1B-jYm",
        "colab": {
          "base_uri": "https://localhost:8080/"
        },
        "outputId": "3a13f486-28fa-460e-8741-35be7545be45"
      },
      "execution_count": null,
      "outputs": [
        {
          "output_type": "stream",
          "name": "stdout",
          "text": [
            "하나~~~~~\n",
            "둘~~~~~\n",
            "셋~~~~~\n",
            "넷~~~~~~\n"
          ]
        }
      ]
    },
    {
      "cell_type": "code",
      "source": [
        "print(\"\"\"\n",
        "하나~~~~~\n",
        "둘~~~~~\n",
        "셋~~~~~\n",
        "넷~~~~~~\n",
        "\"\"\")"
      ],
      "metadata": {
        "id": "wuQa8tgm_nE9",
        "colab": {
          "base_uri": "https://localhost:8080/"
        },
        "outputId": "27206397-49f3-4d9d-9f78-ff815f92ecf7"
      },
      "execution_count": null,
      "outputs": [
        {
          "output_type": "stream",
          "name": "stdout",
          "text": [
            "\n",
            "하나~~~~~\n",
            "둘~~~~~\n",
            "셋~~~~~\n",
            "넷~~~~~~\n",
            "\n"
          ]
        }
      ]
    },
    {
      "cell_type": "code",
      "source": [
        "print(\"\"\"\\\n",
        "하나~~~~~\n",
        "둘~~~~~\n",
        "셋~~~~~\n",
        "넷~~~~~~\\\n",
        "\"\"\")"
      ],
      "metadata": {
        "colab": {
          "base_uri": "https://localhost:8080/"
        },
        "id": "JW3dKgp1_58c",
        "outputId": "d2b6aab3-624e-4753-e5f3-555773d8e543"
      },
      "execution_count": null,
      "outputs": [
        {
          "output_type": "stream",
          "name": "stdout",
          "text": [
            "하나~~~~~\n",
            "둘~~~~~\n",
            "셋~~~~~\n",
            "넷~~~~~~\n"
          ]
        }
      ]
    },
    {
      "cell_type": "markdown",
      "source": [
        "### 문자열 연산자"
      ],
      "metadata": {
        "id": "XfpQthMfB0E-"
      }
    },
    {
      "cell_type": "code",
      "source": [
        "print(\"대한\" + \"민국\")"
      ],
      "metadata": {
        "colab": {
          "base_uri": "https://localhost:8080/"
        },
        "id": "YIYfDHr_aPUh",
        "outputId": "624e93f1-4449-4872-8f44-dfcb30596a33"
      },
      "execution_count": null,
      "outputs": [
        {
          "output_type": "stream",
          "name": "stdout",
          "text": [
            "대한민국\n"
          ]
        }
      ]
    },
    {
      "cell_type": "code",
      "source": [
        "print(\"대한\" + \"민국\" + 1004)"
      ],
      "metadata": {
        "colab": {
          "base_uri": "https://localhost:8080/",
          "height": 147
        },
        "id": "gGpfVrjZaUBw",
        "outputId": "147d61f6-dbfc-4815-fc2d-0bd76b02d78f"
      },
      "execution_count": null,
      "outputs": [
        {
          "output_type": "error",
          "ename": "TypeError",
          "evalue": "can only concatenate str (not \"int\") to str",
          "traceback": [
            "\u001b[0;31m---------------------------------------------------------------------------\u001b[0m",
            "\u001b[0;31mTypeError\u001b[0m                                 Traceback (most recent call last)",
            "\u001b[0;32m<ipython-input-51-bbfc922de856>\u001b[0m in \u001b[0;36m<cell line: 1>\u001b[0;34m()\u001b[0m\n\u001b[0;32m----> 1\u001b[0;31m \u001b[0mprint\u001b[0m\u001b[0;34m(\u001b[0m\u001b[0;34m\"대한\"\u001b[0m \u001b[0;34m+\u001b[0m \u001b[0;34m\"민국\"\u001b[0m \u001b[0;34m+\u001b[0m \u001b[0;36m1004\u001b[0m\u001b[0;34m)\u001b[0m\u001b[0;34m\u001b[0m\u001b[0;34m\u001b[0m\u001b[0m\n\u001b[0m",
            "\u001b[0;31mTypeError\u001b[0m: can only concatenate str (not \"int\") to str"
          ]
        }
      ]
    },
    {
      "cell_type": "code",
      "source": [
        "print(\"대한\" + \"민국\" + \"1004\")"
      ],
      "metadata": {
        "colab": {
          "base_uri": "https://localhost:8080/"
        },
        "id": "OECqGKUdaVPp",
        "outputId": "9d12c54f-0a76-47c1-cb55-8142a9125ec2"
      },
      "execution_count": null,
      "outputs": [
        {
          "output_type": "stream",
          "name": "stdout",
          "text": [
            "대한민국1004\n"
          ]
        }
      ]
    },
    {
      "cell_type": "code",
      "source": [
        "# + : 문자열 연결 연산자 = 합쳐주기\n",
        "print(\"안녕\"+\"하시렵니까?\")\n",
        "print(\"안녕\"+\"!!!\")\n",
        "print(\"안녕\"+1)"
      ],
      "metadata": {
        "id": "mb0wIClnB3de",
        "colab": {
          "base_uri": "https://localhost:8080/",
          "height": 221
        },
        "outputId": "fca5f3ff-586b-4659-98fd-e91a76d16a94"
      },
      "execution_count": null,
      "outputs": [
        {
          "output_type": "stream",
          "name": "stdout",
          "text": [
            "안녕하시렵니까?\n",
            "안녕!!!\n"
          ]
        },
        {
          "output_type": "error",
          "ename": "TypeError",
          "evalue": "can only concatenate str (not \"int\") to str",
          "traceback": [
            "\u001b[0;31m---------------------------------------------------------------------------\u001b[0m",
            "\u001b[0;31mTypeError\u001b[0m                                 Traceback (most recent call last)",
            "\u001b[0;32m<ipython-input-53-8299bd397ce5>\u001b[0m in \u001b[0;36m<cell line: 4>\u001b[0;34m()\u001b[0m\n\u001b[1;32m      2\u001b[0m \u001b[0mprint\u001b[0m\u001b[0;34m(\u001b[0m\u001b[0;34m\"안녕\"\u001b[0m\u001b[0;34m+\u001b[0m\u001b[0;34m\"하시렵니까?\"\u001b[0m\u001b[0;34m)\u001b[0m\u001b[0;34m\u001b[0m\u001b[0;34m\u001b[0m\u001b[0m\n\u001b[1;32m      3\u001b[0m \u001b[0mprint\u001b[0m\u001b[0;34m(\u001b[0m\u001b[0;34m\"안녕\"\u001b[0m\u001b[0;34m+\u001b[0m\u001b[0;34m\"!!!\"\u001b[0m\u001b[0;34m)\u001b[0m\u001b[0;34m\u001b[0m\u001b[0;34m\u001b[0m\u001b[0m\n\u001b[0;32m----> 4\u001b[0;31m \u001b[0mprint\u001b[0m\u001b[0;34m(\u001b[0m\u001b[0;34m\"안녕\"\u001b[0m\u001b[0;34m+\u001b[0m\u001b[0;36m1\u001b[0m\u001b[0;34m)\u001b[0m\u001b[0;34m\u001b[0m\u001b[0;34m\u001b[0m\u001b[0m\n\u001b[0m",
            "\u001b[0;31mTypeError\u001b[0m: can only concatenate str (not \"int\") to str"
          ]
        }
      ]
    },
    {
      "cell_type": "code",
      "source": [
        "print(\"안녕\"+\"1\")"
      ],
      "metadata": {
        "colab": {
          "base_uri": "https://localhost:8080/"
        },
        "id": "8J0uXe9mC05Y",
        "outputId": "b8f93502-8f34-474a-a4b3-86e57e10f7d1"
      },
      "execution_count": null,
      "outputs": [
        {
          "output_type": "stream",
          "name": "stdout",
          "text": [
            "안녕1\n"
          ]
        }
      ]
    },
    {
      "cell_type": "code",
      "source": [
        "print(\"대한민국만세\" * 2)"
      ],
      "metadata": {
        "colab": {
          "base_uri": "https://localhost:8080/"
        },
        "id": "ass-zUPQahAg",
        "outputId": "1855aa89-1045-4c9f-c088-512b0b1db33c"
      },
      "execution_count": null,
      "outputs": [
        {
          "output_type": "stream",
          "name": "stdout",
          "text": [
            "대한민국만세대한민국만세\n"
          ]
        }
      ]
    },
    {
      "cell_type": "code",
      "source": [
        "print(2 * \"대한민국만세\")"
      ],
      "metadata": {
        "colab": {
          "base_uri": "https://localhost:8080/"
        },
        "id": "1fY6w1p3anRL",
        "outputId": "09c96a42-e067-49c9-a7bb-914431fa17c8"
      },
      "execution_count": null,
      "outputs": [
        {
          "output_type": "stream",
          "name": "stdout",
          "text": [
            "대한민국만세대한민국만세\n"
          ]
        }
      ]
    },
    {
      "cell_type": "code",
      "source": [
        "print(\"대한민국\" + \"만세\" * 3)"
      ],
      "metadata": {
        "colab": {
          "base_uri": "https://localhost:8080/"
        },
        "id": "mJwcqPuJao18",
        "outputId": "8683cfc5-4f5e-4654-fcea-c940f15d7427"
      },
      "execution_count": null,
      "outputs": [
        {
          "output_type": "stream",
          "name": "stdout",
          "text": [
            "대한민국만세만세만세\n"
          ]
        }
      ]
    },
    {
      "cell_type": "code",
      "source": [
        "# * : 문자열 반복 연산자 = 반복\n",
        "print(\"안녕\"*5)"
      ],
      "metadata": {
        "colab": {
          "base_uri": "https://localhost:8080/"
        },
        "id": "7baX8_k1B8PG",
        "outputId": "fe8b240e-9b15-44ce-c0bf-a9411ea5d6fe"
      },
      "execution_count": null,
      "outputs": [
        {
          "output_type": "stream",
          "name": "stdout",
          "text": [
            "안녕안녕안녕안녕안녕\n"
          ]
        }
      ]
    },
    {
      "cell_type": "code",
      "source": [
        "print(5*\"안녕\")"
      ],
      "metadata": {
        "colab": {
          "base_uri": "https://localhost:8080/"
        },
        "id": "25Rko30NDXWD",
        "outputId": "8c26f307-c9f7-4b5f-99d5-2c495538e948"
      },
      "execution_count": null,
      "outputs": [
        {
          "output_type": "stream",
          "name": "stdout",
          "text": [
            "안녕안녕안녕안녕안녕\n"
          ]
        }
      ]
    },
    {
      "cell_type": "markdown",
      "source": [
        "### 문자열의 우선순위"
      ],
      "metadata": {
        "id": "TKExGsNqa3Z-"
      }
    },
    {
      "cell_type": "code",
      "source": [
        "print(\"안녕\"+\"하세요\")"
      ],
      "metadata": {
        "colab": {
          "base_uri": "https://localhost:8080/"
        },
        "id": "30XU7GdzaeTw",
        "outputId": "32f1121b-6a03-4e15-954d-55c1388b146d"
      },
      "execution_count": null,
      "outputs": [
        {
          "output_type": "stream",
          "name": "stdout",
          "text": [
            "안녕하세요\n"
          ]
        }
      ]
    },
    {
      "cell_type": "code",
      "source": [
        "print(\"안녕\"+\"하세요\"*3)"
      ],
      "metadata": {
        "colab": {
          "base_uri": "https://localhost:8080/"
        },
        "id": "klf1H-YabH1B",
        "outputId": "dec0e39d-9b92-4afd-bab3-f6c0d38d687e"
      },
      "execution_count": null,
      "outputs": [
        {
          "output_type": "stream",
          "name": "stdout",
          "text": [
            "안녕하세요하세요하세요\n"
          ]
        }
      ]
    },
    {
      "cell_type": "code",
      "source": [
        "print(\"안녕\"+(\"하세요\"*3))"
      ],
      "metadata": {
        "colab": {
          "base_uri": "https://localhost:8080/"
        },
        "id": "mn5qIRz6bP3_",
        "outputId": "6b84e12a-5ab4-44c5-982d-7abbcaa0b70c"
      },
      "execution_count": null,
      "outputs": [
        {
          "output_type": "stream",
          "name": "stdout",
          "text": [
            "안녕하세요하세요하세요\n"
          ]
        }
      ]
    },
    {
      "cell_type": "code",
      "source": [
        "print((\"안녕\"+\"하세요\")*3)"
      ],
      "metadata": {
        "colab": {
          "base_uri": "https://localhost:8080/"
        },
        "id": "bfKDlfbZbXhK",
        "outputId": "4b5039dd-b1c5-460f-85f7-a8a91d315c1c"
      },
      "execution_count": null,
      "outputs": [
        {
          "output_type": "stream",
          "name": "stdout",
          "text": [
            "안녕하세요안녕하세요안녕하세요\n"
          ]
        }
      ]
    },
    {
      "cell_type": "code",
      "source": [
        "print(\"Hello\" + \"Python\" * 2) # * 연산자부터 적용됨 = 우선 순위가 높음"
      ],
      "metadata": {
        "colab": {
          "base_uri": "https://localhost:8080/"
        },
        "id": "m-r_EAwmbP5d",
        "outputId": "3842fec6-164d-4bd6-e28b-9659e46add4a"
      },
      "execution_count": null,
      "outputs": [
        {
          "output_type": "stream",
          "name": "stdout",
          "text": [
            "HelloPythonPython\n"
          ]
        }
      ]
    },
    {
      "cell_type": "code",
      "source": [
        "print(\"Hello\" + (\"Python\" * 2)) # * 연산자부터 적용되지만 소괄호 사용 권장"
      ],
      "metadata": {
        "colab": {
          "base_uri": "https://localhost:8080/"
        },
        "id": "R-4hc2qYbP3p",
        "outputId": "cf167fd2-2239-48d4-8698-a0a843b12835"
      },
      "execution_count": null,
      "outputs": [
        {
          "output_type": "stream",
          "name": "stdout",
          "text": [
            "HelloPythonPython\n"
          ]
        }
      ]
    },
    {
      "cell_type": "code",
      "source": [
        "print((\"Hello\" + \"Python\") * 2) # * 연산자의 우선 순위가 높지만 소괄호부터 적용됨"
      ],
      "metadata": {
        "colab": {
          "base_uri": "https://localhost:8080/"
        },
        "id": "p_RyAmf9bS_G",
        "outputId": "a91606d6-b2b1-4df8-9e3d-fb4f280eb778"
      },
      "execution_count": null,
      "outputs": [
        {
          "output_type": "stream",
          "name": "stdout",
          "text": [
            "HelloPythonHelloPython\n"
          ]
        }
      ]
    },
    {
      "cell_type": "markdown",
      "source": [
        "### 인덱스 & 인덱싱"
      ],
      "metadata": {
        "id": "RWPpDyh4GEIn"
      }
    },
    {
      "cell_type": "code",
      "source": [
        "print(\"Hello\"[0]); print(\"Hello\"[-1])"
      ],
      "metadata": {
        "colab": {
          "base_uri": "https://localhost:8080/"
        },
        "id": "d_iSwsbXbj0m",
        "outputId": "f91ddc95-702d-40ae-bc59-9427d69ad372"
      },
      "execution_count": null,
      "outputs": [
        {
          "output_type": "stream",
          "name": "stdout",
          "text": [
            "H\n",
            "o\n"
          ]
        }
      ]
    },
    {
      "cell_type": "code",
      "source": [
        "print(\"Hello\"[5]) # 인덱스 번호가 없는 것으로 지정하는 경우\n",
        "# 없는 인덱스 번호로 인덱싱할 경우 발생하는 에러"
      ],
      "metadata": {
        "colab": {
          "base_uri": "https://localhost:8080/",
          "height": 181
        },
        "id": "0L5I-v1Obwbo",
        "outputId": "7ec4be97-c19a-4e12-a34a-e6b10e0b8599"
      },
      "execution_count": null,
      "outputs": [
        {
          "output_type": "error",
          "ename": "IndexError",
          "evalue": "string index out of range",
          "traceback": [
            "\u001b[0;31m---------------------------------------------------------------------------\u001b[0m",
            "\u001b[0;31mIndexError\u001b[0m                                Traceback (most recent call last)",
            "\u001b[0;32m<ipython-input-15-48d6a3315434>\u001b[0m in \u001b[0;36m<cell line: 1>\u001b[0;34m()\u001b[0m\n\u001b[0;32m----> 1\u001b[0;31m \u001b[0mprint\u001b[0m\u001b[0;34m(\u001b[0m\u001b[0;34m\"Hello\"\u001b[0m\u001b[0;34m[\u001b[0m\u001b[0;36m5\u001b[0m\u001b[0;34m]\u001b[0m\u001b[0;34m)\u001b[0m \u001b[0;31m# 인덱스 번호가 없는 것으로 지정\u001b[0m\u001b[0;34m\u001b[0m\u001b[0;34m\u001b[0m\u001b[0m\n\u001b[0m",
            "\u001b[0;31mIndexError\u001b[0m: string index out of range"
          ]
        }
      ]
    },
    {
      "cell_type": "code",
      "source": [
        "# 안녕하세요\n",
        "# 1 2 3 4 5 => 원인덱스 = 보통 숫자 세는 방식\n",
        "# 0 1 2 3 4 => 제로인덱스 = 파이썬 숫자 세는 방식\n",
        "print(\"안녕하세요\"[0])"
      ],
      "metadata": {
        "colab": {
          "base_uri": "https://localhost:8080/"
        },
        "id": "KKfeCuWtDea_",
        "outputId": "35991cb3-cacd-4191-8862-1b579206d03a"
      },
      "execution_count": null,
      "outputs": [
        {
          "output_type": "stream",
          "name": "stdout",
          "text": [
            "안\n"
          ]
        }
      ]
    },
    {
      "cell_type": "code",
      "source": [
        "print(\"안녕하세요\"[1])"
      ],
      "metadata": {
        "colab": {
          "base_uri": "https://localhost:8080/"
        },
        "id": "FNfgT3ozGlFN",
        "outputId": "5323a584-fe46-4784-c3f5-d320433e5970"
      },
      "execution_count": null,
      "outputs": [
        {
          "output_type": "stream",
          "name": "stdout",
          "text": [
            "녕\n"
          ]
        }
      ]
    },
    {
      "cell_type": "code",
      "source": [
        "print(\"안녕하세요\"[2])"
      ],
      "metadata": {
        "colab": {
          "base_uri": "https://localhost:8080/"
        },
        "id": "HoG1uyjMGsSj",
        "outputId": "d5617b9d-a74a-4ab1-d3a9-9ac747b23380"
      },
      "execution_count": null,
      "outputs": [
        {
          "output_type": "stream",
          "name": "stdout",
          "text": [
            "하\n"
          ]
        }
      ]
    },
    {
      "cell_type": "code",
      "source": [
        "print(\"안녕하세요\"[3])"
      ],
      "metadata": {
        "colab": {
          "base_uri": "https://localhost:8080/"
        },
        "id": "F0X7UOZeGvKU",
        "outputId": "bd17881e-4a1b-4b41-cce4-0f36e86f1c9c"
      },
      "execution_count": null,
      "outputs": [
        {
          "output_type": "stream",
          "name": "stdout",
          "text": [
            "세\n"
          ]
        }
      ]
    },
    {
      "cell_type": "code",
      "source": [
        "print(\"안녕하세요\"[4])"
      ],
      "metadata": {
        "colab": {
          "base_uri": "https://localhost:8080/"
        },
        "id": "I3qot2UaGwt8",
        "outputId": "ab255e4e-5652-4649-c63d-cb9332966089"
      },
      "execution_count": null,
      "outputs": [
        {
          "output_type": "stream",
          "name": "stdout",
          "text": [
            "요\n"
          ]
        }
      ]
    },
    {
      "cell_type": "code",
      "source": [
        "print(\"안녕하세요\"[5])"
      ],
      "metadata": {
        "colab": {
          "base_uri": "https://localhost:8080/",
          "height": 172
        },
        "id": "djJVzIzUGyMY",
        "outputId": "d250d9aa-140e-49bf-bf7c-d5cab11ac0c8"
      },
      "execution_count": null,
      "outputs": [
        {
          "output_type": "error",
          "ename": "IndexError",
          "evalue": "ignored",
          "traceback": [
            "\u001b[0;31m---------------------------------------------------------------------------\u001b[0m",
            "\u001b[0;31mIndexError\u001b[0m                                Traceback (most recent call last)",
            "\u001b[0;32m<ipython-input-44-69e86a823cc4>\u001b[0m in \u001b[0;36m<cell line: 1>\u001b[0;34m()\u001b[0m\n\u001b[0;32m----> 1\u001b[0;31m \u001b[0mprint\u001b[0m\u001b[0;34m(\u001b[0m\u001b[0;34m\"안녕하세요\"\u001b[0m\u001b[0;34m[\u001b[0m\u001b[0;36m5\u001b[0m\u001b[0;34m]\u001b[0m\u001b[0;34m)\u001b[0m\u001b[0;34m\u001b[0m\u001b[0;34m\u001b[0m\u001b[0m\n\u001b[0m",
            "\u001b[0;31mIndexError\u001b[0m: string index out of range"
          ]
        }
      ]
    },
    {
      "cell_type": "code",
      "source": [
        "# 안녕하세요\n",
        "# 1 2 3 4 5\n",
        "# -5 -4 -3 -2 -1\n",
        "print(\"안녕하세요\"[-5])"
      ],
      "metadata": {
        "colab": {
          "base_uri": "https://localhost:8080/"
        },
        "id": "ZhJUSEyzG3-e",
        "outputId": "30d11610-cec7-4219-9f09-2c840f5b65bd"
      },
      "execution_count": null,
      "outputs": [
        {
          "output_type": "stream",
          "name": "stdout",
          "text": [
            "안\n"
          ]
        }
      ]
    },
    {
      "cell_type": "code",
      "source": [
        "print(\"안녕하세요\"[-4])"
      ],
      "metadata": {
        "colab": {
          "base_uri": "https://localhost:8080/"
        },
        "id": "x0TULjM-IHMi",
        "outputId": "c0cfd113-5082-469f-9f92-66b008d4f570"
      },
      "execution_count": null,
      "outputs": [
        {
          "output_type": "stream",
          "name": "stdout",
          "text": [
            "녕\n"
          ]
        }
      ]
    },
    {
      "cell_type": "code",
      "source": [
        "print(\"안녕하세요\"[-3])"
      ],
      "metadata": {
        "colab": {
          "base_uri": "https://localhost:8080/"
        },
        "id": "AcIeui9gIIt9",
        "outputId": "9b1751f8-60f2-42f2-a957-a40d5060e66c"
      },
      "execution_count": null,
      "outputs": [
        {
          "output_type": "stream",
          "name": "stdout",
          "text": [
            "하\n"
          ]
        }
      ]
    },
    {
      "cell_type": "code",
      "source": [
        "print(\"안녕하세요\"[-2])"
      ],
      "metadata": {
        "colab": {
          "base_uri": "https://localhost:8080/"
        },
        "id": "RhbgGvh0IKH_",
        "outputId": "68b9dba7-9880-496b-b5be-1f88f7bc413e"
      },
      "execution_count": null,
      "outputs": [
        {
          "output_type": "stream",
          "name": "stdout",
          "text": [
            "세\n"
          ]
        }
      ]
    },
    {
      "cell_type": "code",
      "source": [
        "print(\"안녕하세요\"[-1])"
      ],
      "metadata": {
        "colab": {
          "base_uri": "https://localhost:8080/"
        },
        "id": "kyV-x--1ILjQ",
        "outputId": "e4c2365c-b3b3-4965-ec65-465915b0af5f"
      },
      "execution_count": null,
      "outputs": [
        {
          "output_type": "stream",
          "name": "stdout",
          "text": [
            "요\n"
          ]
        }
      ]
    },
    {
      "cell_type": "markdown",
      "source": [
        "### 슬라이싱"
      ],
      "metadata": {
        "id": "EkXUEn8yM4lv"
      }
    },
    {
      "cell_type": "code",
      "source": [
        "print(\"Hello\"[0:3]) # print(\"Hello\")[0:2+1] 과 같음\n",
        "print(\"Hello\"[1:3]) # print(\"Hello\")[1:2+1] 과 같음"
      ],
      "metadata": {
        "colab": {
          "base_uri": "https://localhost:8080/"
        },
        "id": "bItQoi0dcFQ9",
        "outputId": "803f3f42-9bfa-4ca9-abf3-a41532dcde5b"
      },
      "execution_count": null,
      "outputs": [
        {
          "output_type": "stream",
          "name": "stdout",
          "text": [
            "Hel\n",
            "el\n"
          ]
        }
      ]
    },
    {
      "cell_type": "code",
      "source": [
        "# 인덱스 범위 지정 = 슬라이싱\n",
        "# [시작번호:끝번호]\n",
        "# 파이썬은 끝번호를 포함하지 않음\n",
        "# 안녕하세요\n",
        "# 0 1 2 3 4\n",
        "# 안녕 => 0:1 => 0:1+1 => 0:2\n",
        "print(\"안녕하세요\"[0:1+1])"
      ],
      "metadata": {
        "id": "-Zz267dPIM6s",
        "colab": {
          "base_uri": "https://localhost:8080/"
        },
        "outputId": "4a154ee0-29e0-4b11-921f-f7130548e7b6"
      },
      "execution_count": null,
      "outputs": [
        {
          "output_type": "stream",
          "name": "stdout",
          "text": [
            "안녕\n"
          ]
        }
      ]
    },
    {
      "cell_type": "code",
      "source": [
        "print(\"안녕하세요\"[0:2])"
      ],
      "metadata": {
        "id": "NU_bD1c3Nfuq",
        "colab": {
          "base_uri": "https://localhost:8080/"
        },
        "outputId": "52fd330f-139f-4cfa-8cc4-b386801ac851"
      },
      "execution_count": null,
      "outputs": [
        {
          "output_type": "stream",
          "name": "stdout",
          "text": [
            "안녕\n"
          ]
        }
      ]
    },
    {
      "cell_type": "code",
      "source": [
        "# 하세요 => 2:4 => 2:4+1 => 2:5\n",
        "print(\"안녕하세요\"[2:4+1])"
      ],
      "metadata": {
        "id": "OEPmN6LkNjPY",
        "colab": {
          "base_uri": "https://localhost:8080/"
        },
        "outputId": "577d2b78-d108-4873-8c93-98228aeb3636"
      },
      "execution_count": null,
      "outputs": [
        {
          "output_type": "stream",
          "name": "stdout",
          "text": [
            "하세요\n"
          ]
        }
      ]
    },
    {
      "cell_type": "code",
      "source": [
        "print(\"안녕하세요\"[2:5])"
      ],
      "metadata": {
        "id": "JOWv_b-BNzm_",
        "colab": {
          "base_uri": "https://localhost:8080/"
        },
        "outputId": "789aeac0-7589-46fc-d6dd-14d41617f8b0"
      },
      "execution_count": null,
      "outputs": [
        {
          "output_type": "stream",
          "name": "stdout",
          "text": [
            "하세요\n"
          ]
        }
      ]
    },
    {
      "cell_type": "code",
      "source": [
        "print(\"Hello\"[:3]) # print(\"Hello\"[0:2+1]) 과 같음\n",
        "print(\"Hello\"[1:]) # print(\"Hello\"[1:4+1]) 과 같음"
      ],
      "metadata": {
        "colab": {
          "base_uri": "https://localhost:8080/"
        },
        "id": "_jVpfaUbcn29",
        "outputId": "f2ef3e1d-3ee0-40f6-f102-4ac86edb6c29"
      },
      "execution_count": null,
      "outputs": [
        {
          "output_type": "stream",
          "name": "stdout",
          "text": [
            "Hel\n",
            "ello\n"
          ]
        }
      ]
    },
    {
      "cell_type": "code",
      "source": [
        "print(\"Hello\"[0:2+1])\n",
        "print(\"Hello\"[1:4+1])"
      ],
      "metadata": {
        "colab": {
          "base_uri": "https://localhost:8080/"
        },
        "id": "7zgE8CTtct0B",
        "outputId": "ce18f92b-e1df-45bd-9a8f-285785bd4c60"
      },
      "execution_count": null,
      "outputs": [
        {
          "output_type": "stream",
          "name": "stdout",
          "text": [
            "Hel\n",
            "ello\n"
          ]
        }
      ]
    },
    {
      "cell_type": "code",
      "source": [
        "# 안녕\n",
        "# 시작번호 생략 => [:1+1] = [:2] => 처음부터~\n",
        "print(\"안녕하세요\"[:1+1])\n",
        "print(\"안녕하세요\"[:2])"
      ],
      "metadata": {
        "id": "8qM0Sr3nN2N8",
        "colab": {
          "base_uri": "https://localhost:8080/"
        },
        "outputId": "1692e295-aa70-4968-970a-be6125dae879"
      },
      "execution_count": null,
      "outputs": [
        {
          "output_type": "stream",
          "name": "stdout",
          "text": [
            "안녕\n",
            "안녕\n"
          ]
        }
      ]
    },
    {
      "cell_type": "code",
      "source": [
        "# 하세요\n",
        "# 끝번호 생략 => [2:] => 끝까지~\n",
        "print(\"안녕하세요\"[2:])"
      ],
      "metadata": {
        "colab": {
          "base_uri": "https://localhost:8080/"
        },
        "id": "u23bKoHEOSCT",
        "outputId": "cfd14a89-c5d6-4812-8c73-9350b15411cc"
      },
      "execution_count": null,
      "outputs": [
        {
          "output_type": "stream",
          "name": "stdout",
          "text": [
            "하세요\n"
          ]
        }
      ]
    },
    {
      "cell_type": "markdown",
      "source": [
        "### 문자열의 길이"
      ],
      "metadata": {
        "id": "cAGjbL8CRIkG"
      }
    },
    {
      "cell_type": "code",
      "source": [
        "print(len(\"Hello\"))"
      ],
      "metadata": {
        "colab": {
          "base_uri": "https://localhost:8080/"
        },
        "id": "s_k1zcBodW4h",
        "outputId": "397e2a85-ec2b-4902-e464-a94a8dfe689a"
      },
      "execution_count": null,
      "outputs": [
        {
          "output_type": "stream",
          "name": "stdout",
          "text": [
            "5\n"
          ]
        }
      ]
    },
    {
      "cell_type": "code",
      "source": [
        "len(\"Hello\")"
      ],
      "metadata": {
        "colab": {
          "base_uri": "https://localhost:8080/"
        },
        "id": "YLaA2og0dclV",
        "outputId": "c144e4c6-709c-4376-e117-593e5054f42d"
      },
      "execution_count": null,
      "outputs": [
        {
          "output_type": "execute_result",
          "data": {
            "text/plain": [
              "5"
            ]
          },
          "metadata": {},
          "execution_count": 77
        }
      ]
    },
    {
      "cell_type": "code",
      "source": [
        "# length 문자열 길이 반환 return\n",
        "print(len(\"안녕하세요\")) # = print(5)"
      ],
      "metadata": {
        "colab": {
          "base_uri": "https://localhost:8080/"
        },
        "id": "OtAdTtd8OuXU",
        "outputId": "2c86d452-d82e-4f0f-c44c-504f188939e2"
      },
      "execution_count": null,
      "outputs": [
        {
          "output_type": "stream",
          "name": "stdout",
          "text": [
            "5\n"
          ]
        }
      ]
    },
    {
      "cell_type": "code",
      "source": [
        "\"Hello\"[-len(\"Hello\"):-2]"
      ],
      "metadata": {
        "colab": {
          "base_uri": "https://localhost:8080/",
          "height": 35
        },
        "id": "zF1XA5CdsM_-",
        "outputId": "3ce5144b-eb48-4203-e36f-646de48ad803"
      },
      "execution_count": null,
      "outputs": [
        {
          "output_type": "execute_result",
          "data": {
            "text/plain": [
              "'Hel'"
            ],
            "application/vnd.google.colaboratory.intrinsic+json": {
              "type": "string"
            }
          },
          "metadata": {},
          "execution_count": 79
        }
      ]
    },
    {
      "cell_type": "code",
      "source": [
        "\"Hello\"[:-2]"
      ],
      "metadata": {
        "colab": {
          "base_uri": "https://localhost:8080/",
          "height": 35
        },
        "id": "HgJKQwI1sbzD",
        "outputId": "5416d46e-6c65-4e71-c84c-c3a650bf4907"
      },
      "execution_count": null,
      "outputs": [
        {
          "output_type": "execute_result",
          "data": {
            "text/plain": [
              "'Hel'"
            ],
            "application/vnd.google.colaboratory.intrinsic+json": {
              "type": "string"
            }
          },
          "metadata": {},
          "execution_count": 80
        }
      ]
    },
    {
      "cell_type": "markdown",
      "source": [
        "## 확인 문제"
      ],
      "metadata": {
        "id": "UKH6w4-1x3MD"
      }
    },
    {
      "cell_type": "code",
      "source": [
        "\"글자\"\n",
        "'글자'\n",
        "\"\"\"문자열\n",
        "문자열\n",
        "문자열\"\"\"\n",
        "'''문자열\n",
        "문자열\n",
        "문자열'''"
      ],
      "metadata": {
        "id": "TVmoyH_iD2xc"
      },
      "execution_count": null,
      "outputs": []
    },
    {
      "cell_type": "code",
      "source": [
        "\\\"\n",
        "\\'\n",
        "\\n\n",
        "\\t\n",
        "\\\\"
      ],
      "metadata": {
        "id": "QCytsWvFhpBh"
      },
      "execution_count": null,
      "outputs": []
    },
    {
      "cell_type": "code",
      "source": [
        "print(\"# 연습문제\")\n",
        "print(\"\\\\\\\\\\\\\\\\\")\n",
        "print(\"-\" * 8)"
      ],
      "metadata": {
        "colab": {
          "base_uri": "https://localhost:8080/"
        },
        "id": "268m5V8UhqRK",
        "outputId": "8cd3afe2-30c8-4716-ff61-208003a5f9f5"
      },
      "execution_count": null,
      "outputs": [
        {
          "output_type": "stream",
          "name": "stdout",
          "text": [
            "# 연습문제\n",
            "\\\\\\\\\n",
            "--------\n"
          ]
        }
      ]
    },
    {
      "cell_type": "code",
      "source": [
        "print(\"안녕하세요\"[1])\n",
        "print(\"안녕하세요\"[2])\n",
        "print(\"안녕하세요\"[3])\n",
        "print(\"안녕하세요\"[4])\n",
        "print(\"안녕하세요\"[5])"
      ],
      "metadata": {
        "colab": {
          "base_uri": "https://localhost:8080/",
          "height": 257
        },
        "id": "Qe_LgK7-hyJA",
        "outputId": "393e31f6-02d2-4ff7-ab80-f0fe41b904f9"
      },
      "execution_count": null,
      "outputs": [
        {
          "output_type": "stream",
          "name": "stdout",
          "text": [
            "녕\n",
            "하\n",
            "세\n",
            "요\n"
          ]
        },
        {
          "output_type": "error",
          "ename": "IndexError",
          "evalue": "string index out of range",
          "traceback": [
            "\u001b[0;31m---------------------------------------------------------------------------\u001b[0m",
            "\u001b[0;31mIndexError\u001b[0m                                Traceback (most recent call last)",
            "\u001b[0;32m<ipython-input-82-a61e9f15cd9d>\u001b[0m in \u001b[0;36m<cell line: 5>\u001b[0;34m()\u001b[0m\n\u001b[1;32m      3\u001b[0m \u001b[0mprint\u001b[0m\u001b[0;34m(\u001b[0m\u001b[0;34m\"안녕하세요\"\u001b[0m\u001b[0;34m[\u001b[0m\u001b[0;36m3\u001b[0m\u001b[0;34m]\u001b[0m\u001b[0;34m)\u001b[0m\u001b[0;34m\u001b[0m\u001b[0;34m\u001b[0m\u001b[0m\n\u001b[1;32m      4\u001b[0m \u001b[0mprint\u001b[0m\u001b[0;34m(\u001b[0m\u001b[0;34m\"안녕하세요\"\u001b[0m\u001b[0;34m[\u001b[0m\u001b[0;36m4\u001b[0m\u001b[0;34m]\u001b[0m\u001b[0;34m)\u001b[0m\u001b[0;34m\u001b[0m\u001b[0;34m\u001b[0m\u001b[0m\n\u001b[0;32m----> 5\u001b[0;31m \u001b[0mprint\u001b[0m\u001b[0;34m(\u001b[0m\u001b[0;34m\"안녕하세요\"\u001b[0m\u001b[0;34m[\u001b[0m\u001b[0;36m5\u001b[0m\u001b[0;34m]\u001b[0m\u001b[0;34m)\u001b[0m\u001b[0;34m\u001b[0m\u001b[0;34m\u001b[0m\u001b[0m\n\u001b[0m",
            "\u001b[0;31mIndexError\u001b[0m: string index out of range"
          ]
        }
      ]
    },
    {
      "cell_type": "code",
      "source": [
        "print(\"안녕하세요\"[1:3])\n",
        "print(\"안녕하세요\"[2:4])\n",
        "print(\"안녕하세요\"[1:])\n",
        "print(\"안녕하세요\"[:3])"
      ],
      "metadata": {
        "colab": {
          "base_uri": "https://localhost:8080/"
        },
        "id": "_stmOAuWh6he",
        "outputId": "ea642175-e39c-45b2-cbdc-77d8e3f59331"
      },
      "execution_count": null,
      "outputs": [
        {
          "output_type": "stream",
          "name": "stdout",
          "text": [
            "녕하\n",
            "하세\n",
            "녕하세요\n",
            "안녕하\n"
          ]
        }
      ]
    },
    {
      "cell_type": "markdown",
      "source": [
        "## 숫자"
      ],
      "metadata": {
        "id": "g4YToVIRScov"
      }
    },
    {
      "cell_type": "code",
      "source": [
        "# 정수\n",
        "print(23)"
      ],
      "metadata": {
        "colab": {
          "base_uri": "https://localhost:8080/"
        },
        "id": "oG2SXMxPRb-o",
        "outputId": "bf837a17-7d39-4d5c-e7cd-2c7c71869fd3"
      },
      "execution_count": null,
      "outputs": [
        {
          "output_type": "stream",
          "name": "stdout",
          "text": [
            "23\n"
          ]
        }
      ]
    },
    {
      "cell_type": "code",
      "source": [
        "print(type(23)) # int = integer 정수 = 소수점이 없는 숫자"
      ],
      "metadata": {
        "colab": {
          "base_uri": "https://localhost:8080/"
        },
        "id": "43PvBCOOSs0v",
        "outputId": "94a5d103-a123-4b06-b8d9-e9f6962153bd"
      },
      "execution_count": null,
      "outputs": [
        {
          "output_type": "stream",
          "name": "stdout",
          "text": [
            "<class 'int'>\n"
          ]
        }
      ]
    },
    {
      "cell_type": "code",
      "source": [
        "# 실수\n",
        "print(1.32)\n",
        "print(2.3)"
      ],
      "metadata": {
        "colab": {
          "base_uri": "https://localhost:8080/"
        },
        "id": "fr9pIcLcS1R9",
        "outputId": "9a07457f-c4c9-4dc7-c193-511e5574d111"
      },
      "execution_count": null,
      "outputs": [
        {
          "output_type": "stream",
          "name": "stdout",
          "text": [
            "1.32\n",
            "2.3\n"
          ]
        }
      ]
    },
    {
      "cell_type": "code",
      "source": [
        "print(type(2.3)) # float 실수 = 소수점이 있는 숫자"
      ],
      "metadata": {
        "colab": {
          "base_uri": "https://localhost:8080/"
        },
        "id": "NbYGDKwsTABl",
        "outputId": "13d85063-6c90-43d9-ee95-eb5ddc156be2"
      },
      "execution_count": null,
      "outputs": [
        {
          "output_type": "stream",
          "name": "stdout",
          "text": [
            "<class 'float'>\n"
          ]
        }
      ]
    },
    {
      "cell_type": "markdown",
      "source": [
        "### 사칙연산자"
      ],
      "metadata": {
        "id": "-5AGSGJ7TkxM"
      }
    },
    {
      "cell_type": "code",
      "source": [
        "print(5+3)\n",
        "print(5-3)\n",
        "print(5*3)\n",
        "print(5/3)"
      ],
      "metadata": {
        "colab": {
          "base_uri": "https://localhost:8080/"
        },
        "id": "b4PDoLgbfYtV",
        "outputId": "e4b9cf35-fda2-4942-af28-6e69dfd9d59b"
      },
      "execution_count": null,
      "outputs": [
        {
          "output_type": "stream",
          "name": "stdout",
          "text": [
            "8\n",
            "2\n",
            "15\n",
            "1.6666666666666667\n"
          ]
        }
      ]
    },
    {
      "cell_type": "code",
      "source": [
        "print(3+2)\n",
        "print(3-2)\n",
        "print(3*2)\n",
        "print(3/2)"
      ],
      "metadata": {
        "colab": {
          "base_uri": "https://localhost:8080/"
        },
        "id": "EvBHa4L1TFR1",
        "outputId": "0d1999b6-1a20-4f04-ce3a-f269392db54d"
      },
      "execution_count": null,
      "outputs": [
        {
          "output_type": "stream",
          "name": "stdout",
          "text": [
            "5\n",
            "1\n",
            "6\n",
            "1.5\n"
          ]
        }
      ]
    },
    {
      "cell_type": "code",
      "source": [
        "# 나누기\n",
        "print(3/2) # 실수\n",
        "print(3//2) # 몫 = 정수\n",
        "print(3%2) # 나머지 = 정수"
      ],
      "metadata": {
        "colab": {
          "base_uri": "https://localhost:8080/"
        },
        "id": "DRxaosTgRVyM",
        "outputId": "00c0ce4b-3ac0-4ec8-b457-46f79952c7b3"
      },
      "execution_count": null,
      "outputs": [
        {
          "output_type": "stream",
          "name": "stdout",
          "text": [
            "1.5\n",
            "1\n",
            "1\n"
          ]
        }
      ]
    },
    {
      "cell_type": "code",
      "source": [
        "# 제곱\n",
        "2**2"
      ],
      "metadata": {
        "colab": {
          "base_uri": "https://localhost:8080/"
        },
        "id": "fiCtvnJxUYBX",
        "outputId": "7b9a48f3-0e13-41ce-ad37-e472907aaacf"
      },
      "execution_count": null,
      "outputs": [
        {
          "output_type": "execute_result",
          "data": {
            "text/plain": [
              "4"
            ]
          },
          "metadata": {},
          "execution_count": 64
        }
      ]
    },
    {
      "cell_type": "code",
      "source": [
        "2*2"
      ],
      "metadata": {
        "colab": {
          "base_uri": "https://localhost:8080/"
        },
        "id": "VYrMNLjXij2t",
        "outputId": "c53c64b7-be35-4b20-fbb9-3120290b578c"
      },
      "execution_count": null,
      "outputs": [
        {
          "output_type": "execute_result",
          "data": {
            "text/plain": [
              "4"
            ]
          },
          "metadata": {},
          "execution_count": 29
        }
      ]
    },
    {
      "cell_type": "code",
      "source": [
        "2**3"
      ],
      "metadata": {
        "colab": {
          "base_uri": "https://localhost:8080/"
        },
        "id": "IHZKY9QIVHKY",
        "outputId": "dbf9e576-3b5f-4a15-b698-8f68c9fe5138"
      },
      "execution_count": null,
      "outputs": [
        {
          "output_type": "execute_result",
          "data": {
            "text/plain": [
              "8"
            ]
          },
          "metadata": {},
          "execution_count": 65
        }
      ]
    },
    {
      "cell_type": "code",
      "source": [
        "2*2*2"
      ],
      "metadata": {
        "colab": {
          "base_uri": "https://localhost:8080/"
        },
        "id": "AlMrZ53tilvh",
        "outputId": "c90139f9-e758-4db0-9a82-aa88b62c58f6"
      },
      "execution_count": null,
      "outputs": [
        {
          "output_type": "execute_result",
          "data": {
            "text/plain": [
              "8"
            ]
          },
          "metadata": {},
          "execution_count": 30
        }
      ]
    },
    {
      "cell_type": "code",
      "source": [
        "2**4"
      ],
      "metadata": {
        "colab": {
          "base_uri": "https://localhost:8080/"
        },
        "id": "8CG04icKVK5F",
        "outputId": "8d358603-d78c-489e-f38d-2da2f224f400"
      },
      "execution_count": null,
      "outputs": [
        {
          "output_type": "execute_result",
          "data": {
            "text/plain": [
              "16"
            ]
          },
          "metadata": {},
          "execution_count": 66
        }
      ]
    },
    {
      "cell_type": "code",
      "source": [
        "2*2*2*2"
      ],
      "metadata": {
        "colab": {
          "base_uri": "https://localhost:8080/"
        },
        "id": "vnks032Nipp_",
        "outputId": "698704ce-2c8e-4630-de4c-2471c93835ac"
      },
      "execution_count": null,
      "outputs": [
        {
          "output_type": "execute_result",
          "data": {
            "text/plain": [
              "16"
            ]
          },
          "metadata": {},
          "execution_count": 31
        }
      ]
    },
    {
      "cell_type": "markdown",
      "source": [
        "### 우선순위"
      ],
      "metadata": {
        "id": "2Cx8eyEAVWGG"
      }
    },
    {
      "cell_type": "code",
      "source": [
        "print(1+2-3*2/2)"
      ],
      "metadata": {
        "colab": {
          "base_uri": "https://localhost:8080/"
        },
        "id": "wi6PgyfifkMy",
        "outputId": "f0b62e9d-ad3b-4a9e-a9e8-ff6876c153a3"
      },
      "execution_count": null,
      "outputs": [
        {
          "output_type": "stream",
          "name": "stdout",
          "text": [
            "0.0\n"
          ]
        }
      ]
    },
    {
      "cell_type": "code",
      "source": [
        "2+2*2"
      ],
      "metadata": {
        "colab": {
          "base_uri": "https://localhost:8080/"
        },
        "id": "ut1gqVzJVM2M",
        "outputId": "f8c432c7-9ca4-41f1-f2e2-70db5b3205f7"
      },
      "execution_count": null,
      "outputs": [
        {
          "output_type": "execute_result",
          "data": {
            "text/plain": [
              "6"
            ]
          },
          "metadata": {},
          "execution_count": 67
        }
      ]
    },
    {
      "cell_type": "code",
      "source": [
        "2+(2*2)"
      ],
      "metadata": {
        "colab": {
          "base_uri": "https://localhost:8080/"
        },
        "id": "G7yR50YNV2CB",
        "outputId": "d08e4333-bd77-4634-fd59-a88191eae903"
      },
      "execution_count": null,
      "outputs": [
        {
          "output_type": "execute_result",
          "data": {
            "text/plain": [
              "6"
            ]
          },
          "metadata": {},
          "execution_count": 68
        }
      ]
    },
    {
      "cell_type": "code",
      "source": [
        "2+2-2*2/2*2"
      ],
      "metadata": {
        "colab": {
          "base_uri": "https://localhost:8080/"
        },
        "id": "wEikAk7kV-AE",
        "outputId": "185658bd-740f-4c4f-bb40-ffa9763f1da3"
      },
      "execution_count": null,
      "outputs": [
        {
          "output_type": "execute_result",
          "data": {
            "text/plain": [
              "0.0"
            ]
          },
          "metadata": {},
          "execution_count": 33
        }
      ]
    },
    {
      "cell_type": "code",
      "source": [
        "2+2-(((2*2)/2)*2)"
      ],
      "metadata": {
        "id": "pGSu99y_WM2_",
        "colab": {
          "base_uri": "https://localhost:8080/"
        },
        "outputId": "602e2f12-5cf5-4ca7-baae-29c7e6f6217a"
      },
      "execution_count": null,
      "outputs": [
        {
          "output_type": "execute_result",
          "data": {
            "text/plain": [
              "0.0"
            ]
          },
          "metadata": {},
          "execution_count": 32
        }
      ]
    },
    {
      "cell_type": "code",
      "source": [
        "5+3*2"
      ],
      "metadata": {
        "colab": {
          "base_uri": "https://localhost:8080/"
        },
        "id": "8XjY9uW_WeeO",
        "outputId": "0274b89b-8cec-4c32-9acd-4be967c6ce11"
      },
      "execution_count": null,
      "outputs": [
        {
          "output_type": "execute_result",
          "data": {
            "text/plain": [
              "11"
            ]
          },
          "metadata": {},
          "execution_count": 70
        }
      ]
    },
    {
      "cell_type": "code",
      "source": [
        "(5+3)*2"
      ],
      "metadata": {
        "colab": {
          "base_uri": "https://localhost:8080/"
        },
        "id": "T-ksvaUCZqNW",
        "outputId": "3b1d0070-429a-4a55-ea80-dd1974ec8194"
      },
      "execution_count": null,
      "outputs": [
        {
          "output_type": "execute_result",
          "data": {
            "text/plain": [
              "16"
            ]
          },
          "metadata": {},
          "execution_count": 71
        }
      ]
    },
    {
      "cell_type": "markdown",
      "source": [
        "### 숫자와 문자열 연산"
      ],
      "metadata": {
        "id": "AUEB7UAkZ5h-"
      }
    },
    {
      "cell_type": "code",
      "source": [
        "number = 4\n",
        "string = \"랑해\"\n",
        "print(number + string)"
      ],
      "metadata": {
        "id": "lG17gblyZwKA",
        "colab": {
          "base_uri": "https://localhost:8080/",
          "height": 184
        },
        "outputId": "3798051b-a170-4739-c807-88b0005051c8"
      },
      "execution_count": null,
      "outputs": [
        {
          "output_type": "error",
          "ename": "TypeError",
          "evalue": "unsupported operand type(s) for +: 'int' and 'str'",
          "traceback": [
            "\u001b[0;31m---------------------------------------------------------------------------\u001b[0m",
            "\u001b[0;31mTypeError\u001b[0m                                 Traceback (most recent call last)",
            "\u001b[0;32m<ipython-input-84-52d45bee45a0>\u001b[0m in \u001b[0;36m<cell line: 3>\u001b[0;34m()\u001b[0m\n\u001b[1;32m      1\u001b[0m \u001b[0mnumber\u001b[0m \u001b[0;34m=\u001b[0m \u001b[0;36m4\u001b[0m\u001b[0;34m\u001b[0m\u001b[0;34m\u001b[0m\u001b[0m\n\u001b[1;32m      2\u001b[0m \u001b[0mstring\u001b[0m \u001b[0;34m=\u001b[0m \u001b[0;34m\"랑해\"\u001b[0m\u001b[0;34m\u001b[0m\u001b[0;34m\u001b[0m\u001b[0m\n\u001b[0;32m----> 3\u001b[0;31m \u001b[0mprint\u001b[0m\u001b[0;34m(\u001b[0m\u001b[0mnumber\u001b[0m \u001b[0;34m+\u001b[0m \u001b[0mstring\u001b[0m\u001b[0;34m)\u001b[0m\u001b[0;34m\u001b[0m\u001b[0;34m\u001b[0m\u001b[0m\n\u001b[0m",
            "\u001b[0;31mTypeError\u001b[0m: unsupported operand type(s) for +: 'int' and 'str'"
          ]
        }
      ]
    },
    {
      "cell_type": "code",
      "source": [
        "number = \"4\"\n",
        "string = \"랑해\"\n",
        "print(number + string)"
      ],
      "metadata": {
        "colab": {
          "base_uri": "https://localhost:8080/"
        },
        "id": "2G53qeojaHRe",
        "outputId": "e51f287a-8884-4038-eb67-77aed22eac55"
      },
      "execution_count": null,
      "outputs": [
        {
          "output_type": "stream",
          "name": "stdout",
          "text": [
            "4랑해\n"
          ]
        }
      ]
    },
    {
      "cell_type": "markdown",
      "source": [
        "## 확인 문제"
      ],
      "metadata": {
        "id": "KxWWPutXL-C2"
      }
    },
    {
      "cell_type": "code",
      "source": [
        "int\n",
        "float"
      ],
      "metadata": {
        "id": "3j_jt80x3hEV"
      },
      "execution_count": null,
      "outputs": []
    },
    {
      "cell_type": "code",
      "source": [
        "+\n",
        "-\n",
        "*\n",
        "/\n",
        "// # 정수 나누기 = 몫\n",
        "%\n",
        "**"
      ],
      "metadata": {
        "id": "NR4DMHxb5QUm"
      },
      "execution_count": null,
      "outputs": []
    },
    {
      "cell_type": "code",
      "source": [
        "print(\"# 기본적인 연산\")\n",
        "print(15, \"+\", 4, \"=\", 15 + 4)\n",
        "print(15, \"-\", 4, \"=\", 15 - 4)\n",
        "print(15, \"*\", 4, \"=\", 15 * 4)\n",
        "print(15, \"/\", 4, \"=\", 15 / 4)"
      ],
      "metadata": {
        "colab": {
          "base_uri": "https://localhost:8080/"
        },
        "id": "IHT45SgQ5bY9",
        "outputId": "93fc2094-c899-4265-8123-6c27c9bad539"
      },
      "execution_count": null,
      "outputs": [
        {
          "output_type": "stream",
          "name": "stdout",
          "text": [
            "# 기본적인 연산\n",
            "15 + 4 = 19\n",
            "15 - 4 = 11\n",
            "15 * 4 = 60\n",
            "15 / 4 = 3.75\n"
          ]
        }
      ]
    },
    {
      "cell_type": "code",
      "source": [
        "print(\"3462를 17로 나누었을 때의\")\n",
        "print(\"- 몫:\", 3462 // 17)\n",
        "print(\"- 나머지:\", 3462 % 17)"
      ],
      "metadata": {
        "colab": {
          "base_uri": "https://localhost:8080/"
        },
        "id": "EQUCCXX_5eJG",
        "outputId": "a648e46a-b7f4-4400-826c-f5c71eecbf9b"
      },
      "execution_count": null,
      "outputs": [
        {
          "output_type": "stream",
          "name": "stdout",
          "text": [
            "3462를 17로 나누었을 때의\n",
            "- 몫: 203\n",
            "- 나머지: 11\n"
          ]
        }
      ]
    },
    {
      "cell_type": "code",
      "source": [
        "print(2 + 2 - 2 * 2 / 2 * 2)\n",
        "print(2 - 2 + 2 / 2 * 2 + 2)"
      ],
      "metadata": {
        "colab": {
          "base_uri": "https://localhost:8080/"
        },
        "id": "acLAu8YJ5pTi",
        "outputId": "60c82667-1cb9-4cca-bc24-986e156bd822"
      },
      "execution_count": null,
      "outputs": [
        {
          "output_type": "stream",
          "name": "stdout",
          "text": [
            "0.0\n",
            "4.0\n"
          ]
        }
      ]
    },
    {
      "cell_type": "code",
      "source": [
        "print(2 + 2 - (((2 * 2) / 2) * 2))\n",
        "print(2 - 2 + ((2 / 2) * 2) + 2)"
      ],
      "metadata": {
        "id": "3vDXgVfp5tkq"
      },
      "execution_count": null,
      "outputs": []
    },
    {
      "cell_type": "markdown",
      "source": [
        "# 변수"
      ],
      "metadata": {
        "id": "SPlzAgUDd8Ap"
      }
    },
    {
      "cell_type": "code",
      "source": [
        "ABC = 1\n",
        "Abc = 2"
      ],
      "metadata": {
        "id": "ATVf0orDqvwy"
      },
      "execution_count": null,
      "outputs": []
    },
    {
      "cell_type": "code",
      "source": [
        "print(ABC, Abc)"
      ],
      "metadata": {
        "colab": {
          "base_uri": "https://localhost:8080/"
        },
        "id": "yO2CIuNfq0GM",
        "outputId": "9058e6dd-c63f-4929-841c-893560137ce9"
      },
      "execution_count": null,
      "outputs": [
        {
          "output_type": "stream",
          "name": "stdout",
          "text": [
            "1 2\n"
          ]
        }
      ]
    },
    {
      "cell_type": "code",
      "source": [
        "var = 3\n",
        "_var = 4\n",
        "2_var = 5"
      ],
      "metadata": {
        "colab": {
          "base_uri": "https://localhost:8080/",
          "height": 145
        },
        "id": "Q7gHsGlQq2y0",
        "outputId": "6c1d8e73-5503-4d54-c7ea-2f7d206e91a8"
      },
      "execution_count": null,
      "outputs": [
        {
          "output_type": "error",
          "ename": "SyntaxError",
          "evalue": "invalid decimal literal (<ipython-input-3-423180d67bf4>, line 3)",
          "traceback": [
            "\u001b[0;36m  File \u001b[0;32m\"<ipython-input-3-423180d67bf4>\"\u001b[0;36m, line \u001b[0;32m3\u001b[0m\n\u001b[0;31m    2_var = 5\u001b[0m\n\u001b[0m     ^\u001b[0m\n\u001b[0;31mSyntaxError\u001b[0m\u001b[0;31m:\u001b[0m invalid decimal literal\n"
          ]
        }
      ]
    },
    {
      "cell_type": "code",
      "source": [
        "_2var = 6\n",
        "_var2 = 7\n",
        "var2 = 8"
      ],
      "metadata": {
        "id": "MTXIqxaErKtj"
      },
      "execution_count": null,
      "outputs": []
    },
    {
      "cell_type": "code",
      "source": [
        "print(_2var, _var2, var2)"
      ],
      "metadata": {
        "colab": {
          "base_uri": "https://localhost:8080/"
        },
        "id": "Duz_S43Lrgsj",
        "outputId": "d84f32ab-335b-45b8-ff7e-0fee47d41de3"
      },
      "execution_count": null,
      "outputs": [
        {
          "output_type": "stream",
          "name": "stdout",
          "text": [
            "6 7 8\n"
          ]
        }
      ]
    },
    {
      "cell_type": "code",
      "source": [
        "v-ar = 8"
      ],
      "metadata": {
        "colab": {
          "base_uri": "https://localhost:8080/",
          "height": 145
        },
        "id": "TQgacD2err5O",
        "outputId": "fe95b8dd-31cf-46fe-ff78-9b5b772b05ed"
      },
      "execution_count": null,
      "outputs": [
        {
          "output_type": "error",
          "ename": "SyntaxError",
          "evalue": "cannot assign to expression here. Maybe you meant '==' instead of '='? (<ipython-input-6-4c43e1f04567>, line 1)",
          "traceback": [
            "\u001b[0;36m  File \u001b[0;32m\"<ipython-input-6-4c43e1f04567>\"\u001b[0;36m, line \u001b[0;32m1\u001b[0m\n\u001b[0;31m    v-ar = 8\u001b[0m\n\u001b[0m    ^\u001b[0m\n\u001b[0;31mSyntaxError\u001b[0m\u001b[0;31m:\u001b[0m cannot assign to expression here. Maybe you meant '==' instead of '='?\n"
          ]
        }
      ]
    },
    {
      "cell_type": "code",
      "source": [
        "var--var = 9"
      ],
      "metadata": {
        "colab": {
          "base_uri": "https://localhost:8080/",
          "height": 145
        },
        "id": "irUjO1acrxUz",
        "outputId": "16c38641-ad29-4fc7-aaaf-6d2140aa7d70"
      },
      "execution_count": null,
      "outputs": [
        {
          "output_type": "error",
          "ename": "SyntaxError",
          "evalue": "cannot assign to expression here. Maybe you meant '==' instead of '='? (<ipython-input-7-f9453260bc9e>, line 1)",
          "traceback": [
            "\u001b[0;36m  File \u001b[0;32m\"<ipython-input-7-f9453260bc9e>\"\u001b[0;36m, line \u001b[0;32m1\u001b[0m\n\u001b[0;31m    var--var = 9\u001b[0m\n\u001b[0m    ^\u001b[0m\n\u001b[0;31mSyntaxError\u001b[0m\u001b[0;31m:\u001b[0m cannot assign to expression here. Maybe you meant '==' instead of '='?\n"
          ]
        }
      ]
    },
    {
      "cell_type": "code",
      "source": [
        "student_name = 'Tom'"
      ],
      "metadata": {
        "id": "aslRQ92kr6Jy"
      },
      "execution_count": null,
      "outputs": []
    },
    {
      "cell_type": "code",
      "source": [
        "print(student_name)"
      ],
      "metadata": {
        "colab": {
          "base_uri": "https://localhost:8080/"
        },
        "id": "zbON2cFYr9UM",
        "outputId": "627c7b5e-b8c6-4643-e0c0-c67b4a1d2fdf"
      },
      "execution_count": null,
      "outputs": [
        {
          "output_type": "stream",
          "name": "stdout",
          "text": [
            "Tom\n"
          ]
        }
      ]
    },
    {
      "cell_type": "code",
      "source": [
        "a = 2\n",
        "a"
      ],
      "metadata": {
        "colab": {
          "base_uri": "https://localhost:8080/"
        },
        "id": "GZXAuHL4jICo",
        "outputId": "01a203bf-7af9-4f27-960f-f20fa7df6e0b"
      },
      "execution_count": null,
      "outputs": [
        {
          "output_type": "execute_result",
          "data": {
            "text/plain": [
              "2"
            ]
          },
          "metadata": {},
          "execution_count": 34
        }
      ]
    },
    {
      "cell_type": "code",
      "source": [
        "print(a)"
      ],
      "metadata": {
        "colab": {
          "base_uri": "https://localhost:8080/"
        },
        "id": "xioXLb23ja3u",
        "outputId": "bcf2b437-5bb3-4835-975d-9f5a7f99e9e2"
      },
      "execution_count": null,
      "outputs": [
        {
          "output_type": "stream",
          "name": "stdout",
          "text": [
            "2\n"
          ]
        }
      ]
    },
    {
      "cell_type": "code",
      "source": [
        "a + 3"
      ],
      "metadata": {
        "colab": {
          "base_uri": "https://localhost:8080/"
        },
        "id": "j3kwlNYAjNe1",
        "outputId": "8c8fb786-e6a0-4fe0-af19-260fd2385711"
      },
      "execution_count": null,
      "outputs": [
        {
          "output_type": "execute_result",
          "data": {
            "text/plain": [
              "5"
            ]
          },
          "metadata": {},
          "execution_count": 35
        }
      ]
    },
    {
      "cell_type": "code",
      "source": [
        "print(type(a))"
      ],
      "metadata": {
        "colab": {
          "base_uri": "https://localhost:8080/"
        },
        "id": "WgKkskuwjqTl",
        "outputId": "f9d7ee5c-0390-4270-a00f-4a0dc14c63ea"
      },
      "execution_count": null,
      "outputs": [
        {
          "output_type": "stream",
          "name": "stdout",
          "text": [
            "<class 'int'>\n"
          ]
        }
      ]
    },
    {
      "cell_type": "code",
      "source": [
        "# 변수 생성\n",
        "pi = 3.14"
      ],
      "metadata": {
        "id": "ZS8A9DbIbjlZ"
      },
      "execution_count": null,
      "outputs": []
    },
    {
      "cell_type": "code",
      "source": [
        "# 변수 확인\n",
        "print(pi)"
      ],
      "metadata": {
        "colab": {
          "base_uri": "https://localhost:8080/"
        },
        "id": "tR1qSME0eGAD",
        "outputId": "1ae3da2b-3f2a-4439-aa21-d0682e6cc2e9"
      },
      "execution_count": null,
      "outputs": [
        {
          "output_type": "stream",
          "name": "stdout",
          "text": [
            "3.14\n"
          ]
        }
      ]
    },
    {
      "cell_type": "code",
      "source": [
        "# 변수 사용\n",
        "print(pi + pi) # 3.14 + 3.14"
      ],
      "metadata": {
        "colab": {
          "base_uri": "https://localhost:8080/"
        },
        "id": "tRE-jEi4eRN8",
        "outputId": "15ad47d8-0423-4e6f-a658-109659561f12"
      },
      "execution_count": null,
      "outputs": [
        {
          "output_type": "stream",
          "name": "stdout",
          "text": [
            "6.28\n"
          ]
        }
      ]
    },
    {
      "cell_type": "markdown",
      "source": [
        "## 연산"
      ],
      "metadata": {
        "id": "hKj02BbGgChP"
      }
    },
    {
      "cell_type": "code",
      "source": [
        "# 사칙연산\n",
        "print(pi+pi)\n",
        "print(pi-pi)\n",
        "print(pi*pi)\n",
        "print(pi/pi)"
      ],
      "metadata": {
        "colab": {
          "base_uri": "https://localhost:8080/"
        },
        "id": "0FJp112ve5rn",
        "outputId": "e72bb870-d7c9-467a-fdeb-d319a5ca03b3"
      },
      "execution_count": null,
      "outputs": [
        {
          "output_type": "stream",
          "name": "stdout",
          "text": [
            "6.28\n",
            "0.0\n",
            "9.8596\n",
            "1.0\n"
          ]
        }
      ]
    },
    {
      "cell_type": "code",
      "source": [
        "print(pi//2) # 몫\n",
        "print(pi%2) # 나머지"
      ],
      "metadata": {
        "colab": {
          "base_uri": "https://localhost:8080/"
        },
        "id": "3XgNsrZCeka-",
        "outputId": "587c5168-fd9e-4a1e-9929-6677683a080a"
      },
      "execution_count": null,
      "outputs": [
        {
          "output_type": "stream",
          "name": "stdout",
          "text": [
            "1.0\n",
            "1.1400000000000001\n"
          ]
        }
      ]
    },
    {
      "cell_type": "code",
      "source": [
        "# 제곱\n",
        "print(pi**2)\n",
        "print(pi**3)\n",
        "print(pi**4)"
      ],
      "metadata": {
        "colab": {
          "base_uri": "https://localhost:8080/"
        },
        "id": "0Yd2QD6Pgsgf",
        "outputId": "aa447610-1269-4358-a48e-38a161a8ad3c"
      },
      "execution_count": null,
      "outputs": [
        {
          "output_type": "stream",
          "name": "stdout",
          "text": [
            "9.8596\n",
            "30.959144000000002\n",
            "97.21171216000002\n"
          ]
        }
      ]
    },
    {
      "cell_type": "code",
      "source": [
        "# 원의 둘레 = 2*pi*r\n",
        "# 원의 넓이 = pi*r*r\n",
        "pi = 3.14\n",
        "r = 10\n",
        "print(\"원의 둘레: \", 2*pi*r)\n",
        "print(\"원의 넓이: \", pi*r*r)"
      ],
      "metadata": {
        "colab": {
          "base_uri": "https://localhost:8080/"
        },
        "id": "k3e3c9_thAlY",
        "outputId": "83ddc834-c622-45a5-8c65-96bbe9e1eaba"
      },
      "execution_count": null,
      "outputs": [
        {
          "output_type": "stream",
          "name": "stdout",
          "text": [
            "원의 둘레:  62.800000000000004\n",
            "원의 넓이:  314.0\n"
          ]
        }
      ]
    },
    {
      "cell_type": "markdown",
      "source": [
        "## 복합대입연산자"
      ],
      "metadata": {
        "id": "KhJ1Cy7nn7jP"
      }
    },
    {
      "cell_type": "code",
      "source": [
        "a = 2; a += 1; print(a)\n",
        "# a = a + 1"
      ],
      "metadata": {
        "colab": {
          "base_uri": "https://localhost:8080/"
        },
        "id": "rh6SeaAqksn9",
        "outputId": "eeeb22c2-1047-461e-fa93-d2968c9d1df4"
      },
      "execution_count": null,
      "outputs": [
        {
          "output_type": "stream",
          "name": "stdout",
          "text": [
            "3\n"
          ]
        }
      ]
    },
    {
      "cell_type": "code",
      "source": [
        "# += <= 숫자\n",
        "no = 10\n",
        "no += 1 # 10 + 1 = 11 = no\n",
        "no += 1 # 11 + 1 = 12 = no\n",
        "no += 1 # 12 + 1 = 13 = no\n",
        "print(no)"
      ],
      "metadata": {
        "colab": {
          "base_uri": "https://localhost:8080/"
        },
        "id": "7R6rZlHNiuyI",
        "outputId": "8e4a8257-b296-400a-93cd-a92d34d74338"
      },
      "execution_count": null,
      "outputs": [
        {
          "output_type": "stream",
          "name": "stdout",
          "text": [
            "13\n"
          ]
        }
      ]
    },
    {
      "cell_type": "code",
      "source": [
        "no = 10\n",
        "no -= 1\n",
        "no -= 1\n",
        "no -= 1\n",
        "print(no)"
      ],
      "metadata": {
        "colab": {
          "base_uri": "https://localhost:8080/"
        },
        "id": "OVT5RKJanddc",
        "outputId": "675af97c-8e21-4b54-e177-09935627d2f9"
      },
      "execution_count": null,
      "outputs": [
        {
          "output_type": "stream",
          "name": "stdout",
          "text": [
            "7\n"
          ]
        }
      ]
    },
    {
      "cell_type": "code",
      "source": [
        "no = 10\n",
        "no *= 2\n",
        "no *= 2\n",
        "no *= 2\n",
        "print(no)"
      ],
      "metadata": {
        "colab": {
          "base_uri": "https://localhost:8080/"
        },
        "id": "RIugJxQ7njbz",
        "outputId": "8bdfdb4c-cb47-4e53-c0c1-bf858206b46e"
      },
      "execution_count": null,
      "outputs": [
        {
          "output_type": "stream",
          "name": "stdout",
          "text": [
            "80\n"
          ]
        }
      ]
    },
    {
      "cell_type": "code",
      "source": [
        "no = 10\n",
        "no /= 2\n",
        "no /= 2\n",
        "no /= 2\n",
        "print(no)"
      ],
      "metadata": {
        "colab": {
          "base_uri": "https://localhost:8080/"
        },
        "id": "hM963_QAnqaV",
        "outputId": "3e1e3aa5-51d4-4200-ec68-4a1ea00f7dbd"
      },
      "execution_count": null,
      "outputs": [
        {
          "output_type": "stream",
          "name": "stdout",
          "text": [
            "1.25\n"
          ]
        }
      ]
    },
    {
      "cell_type": "code",
      "source": [
        "no = 10\n",
        "no //= 2\n",
        "no //= 2\n",
        "no //= 2\n",
        "print(no)"
      ],
      "metadata": {
        "colab": {
          "base_uri": "https://localhost:8080/"
        },
        "id": "I-4TJubXnv7u",
        "outputId": "48b01861-8010-48af-9e49-9676e22dc098"
      },
      "execution_count": null,
      "outputs": [
        {
          "output_type": "stream",
          "name": "stdout",
          "text": [
            "1\n"
          ]
        }
      ]
    },
    {
      "cell_type": "code",
      "source": [
        "no = 10\n",
        "no %= 7\n",
        "no %= 2\n",
        "no %= 1\n",
        "print(no)"
      ],
      "metadata": {
        "colab": {
          "base_uri": "https://localhost:8080/"
        },
        "id": "0clRfzBEn1Ag",
        "outputId": "44dea30d-d529-431d-fef5-0b256bd032ff"
      },
      "execution_count": null,
      "outputs": [
        {
          "output_type": "stream",
          "name": "stdout",
          "text": [
            "0\n"
          ]
        }
      ]
    },
    {
      "cell_type": "code",
      "source": [
        "no = 10\n",
        "no **= 2\n",
        "no **= 2\n",
        "no **= 2\n",
        "print(no)"
      ],
      "metadata": {
        "colab": {
          "base_uri": "https://localhost:8080/"
        },
        "id": "Mt9u-VLGn7x2",
        "outputId": "1662cf5c-d969-4b27-f8a9-707d863b19bb"
      },
      "execution_count": null,
      "outputs": [
        {
          "output_type": "stream",
          "name": "stdout",
          "text": [
            "100000000\n"
          ]
        }
      ]
    },
    {
      "cell_type": "code",
      "source": [
        "str = \"Hello\"; str += \"Python\"; print(str)"
      ],
      "metadata": {
        "colab": {
          "base_uri": "https://localhost:8080/"
        },
        "id": "r3608xsxo9LA",
        "outputId": "c331e166-0944-49c6-8f34-39706141d0c8"
      },
      "execution_count": null,
      "outputs": [
        {
          "output_type": "stream",
          "name": "stdout",
          "text": [
            "HelloPython\n"
          ]
        }
      ]
    },
    {
      "cell_type": "code",
      "source": [
        "# += <= 문자 (+, *)\n",
        "string = \"안녕\"\n",
        "string += \"!\" # 안녕 + ! = 안녕! = string\n",
        "string += \"!\" # 안녕! + ! = 안녕!! = string\n",
        "string += \"!\" # 안녕!! + ! = 안녕!!! = string\n",
        "print(string)"
      ],
      "metadata": {
        "colab": {
          "base_uri": "https://localhost:8080/"
        },
        "id": "wXYvSOyqoOhB",
        "outputId": "10c9a199-c9f8-4439-f344-a03a6624fc39"
      },
      "execution_count": null,
      "outputs": [
        {
          "output_type": "stream",
          "name": "stdout",
          "text": [
            "안녕!!!\n"
          ]
        }
      ]
    },
    {
      "cell_type": "code",
      "source": [
        "string = \"안녕\"\n",
        "string *= 2 # 안녕 + ! = 안녕! = string\n",
        "string *= 2\n",
        "string *= 2\n",
        "print(string)"
      ],
      "metadata": {
        "colab": {
          "base_uri": "https://localhost:8080/"
        },
        "id": "fMIJMQEkolRI",
        "outputId": "bebb82b0-5225-4e16-8d6c-88bac74fbc0e"
      },
      "execution_count": null,
      "outputs": [
        {
          "output_type": "stream",
          "name": "stdout",
          "text": [
            "안녕안녕안녕안녕안녕안녕안녕안녕\n"
          ]
        }
      ]
    },
    {
      "cell_type": "markdown",
      "source": [
        "## 사용자입력"
      ],
      "metadata": {
        "id": "I6xvNEGtrRDg"
      }
    },
    {
      "cell_type": "code",
      "source": [
        "input(\"값을 입력하세요>\")"
      ],
      "metadata": {
        "colab": {
          "base_uri": "https://localhost:8080/",
          "height": 54
        },
        "id": "7UIgws4pfw35",
        "outputId": "1b413046-e347-4662-82c2-6607045e9364"
      },
      "execution_count": null,
      "outputs": [
        {
          "name": "stdout",
          "output_type": "stream",
          "text": [
            "값을 입력하세요>3\n"
          ]
        },
        {
          "output_type": "execute_result",
          "data": {
            "text/plain": [
              "'3'"
            ],
            "application/vnd.google.colaboratory.intrinsic+json": {
              "type": "string"
            }
          },
          "metadata": {},
          "execution_count": 90
        }
      ]
    },
    {
      "cell_type": "code",
      "source": [
        "# 사용자 입력 값을 반환\n",
        "input(\"문자를 입력하세요> \")"
      ],
      "metadata": {
        "colab": {
          "base_uri": "https://localhost:8080/",
          "height": 54
        },
        "id": "24hJ6om-pD36",
        "outputId": "7431bef3-e935-4071-ffd0-f330ffba1de3"
      },
      "execution_count": null,
      "outputs": [
        {
          "name": "stdout",
          "output_type": "stream",
          "text": [
            "문자를 입력하세요> 대한민국\n"
          ]
        },
        {
          "output_type": "execute_result",
          "data": {
            "text/plain": [
              "'대한민국'"
            ],
            "application/vnd.google.colaboratory.intrinsic+json": {
              "type": "string"
            }
          },
          "metadata": {},
          "execution_count": 92
        }
      ]
    },
    {
      "cell_type": "code",
      "source": [
        "input(\"숫자를 입력하세요> \")"
      ],
      "metadata": {
        "colab": {
          "base_uri": "https://localhost:8080/",
          "height": 54
        },
        "id": "49nChoC2rcWB",
        "outputId": "cee57d22-1cc6-4919-d34b-f2192ecb6eeb"
      },
      "execution_count": null,
      "outputs": [
        {
          "name": "stdout",
          "output_type": "stream",
          "text": [
            "숫자를 입력하세요> 10\n"
          ]
        },
        {
          "output_type": "execute_result",
          "data": {
            "text/plain": [
              "'10'"
            ],
            "application/vnd.google.colaboratory.intrinsic+json": {
              "type": "string"
            }
          },
          "metadata": {},
          "execution_count": 93
        }
      ]
    },
    {
      "cell_type": "code",
      "source": [
        "value = input(\"값을 입력하세요>\"); print(value)"
      ],
      "metadata": {
        "colab": {
          "base_uri": "https://localhost:8080/"
        },
        "id": "ukbX1wtgpohW",
        "outputId": "6a003106-aa09-46df-9385-1c68a4dcc7dc"
      },
      "execution_count": null,
      "outputs": [
        {
          "output_type": "stream",
          "name": "stdout",
          "text": [
            "값을 입력하세요>13\n",
            "13\n"
          ]
        }
      ]
    },
    {
      "cell_type": "code",
      "source": [
        "value = input(\"값을 입력하세요>\"); print(type(value)) # 입력값에 Hello 입력하기"
      ],
      "metadata": {
        "colab": {
          "base_uri": "https://localhost:8080/"
        },
        "id": "LkwP9DDoqKhP",
        "outputId": "c1aee94a-d9b5-4b50-a3a7-406b48e2095a"
      },
      "execution_count": null,
      "outputs": [
        {
          "output_type": "stream",
          "name": "stdout",
          "text": [
            "값을 입력하세요>Hello\n",
            "<class 'str'>\n"
          ]
        }
      ]
    },
    {
      "cell_type": "code",
      "source": [
        "value = input(\"값을 입력하세요>\"); print(type(value)) # 입력값에 23 입력하기"
      ],
      "metadata": {
        "colab": {
          "base_uri": "https://localhost:8080/"
        },
        "id": "0FsrqNdkqMJw",
        "outputId": "cf424e3e-776a-4595-8e68-5e8c64a39e09"
      },
      "execution_count": null,
      "outputs": [
        {
          "output_type": "stream",
          "name": "stdout",
          "text": [
            "값을 입력하세요>23\n",
            "<class 'str'>\n"
          ]
        }
      ]
    },
    {
      "cell_type": "code",
      "source": [
        "# 문자열\n",
        "var1 = input(\"문자를 입력하세요> \")\n",
        "print(type(var1))"
      ],
      "metadata": {
        "colab": {
          "base_uri": "https://localhost:8080/"
        },
        "id": "k1-35C-ersZE",
        "outputId": "a9b1d04b-4007-4c4c-8d8c-b4f6fad68ad2"
      },
      "execution_count": null,
      "outputs": [
        {
          "output_type": "stream",
          "name": "stdout",
          "text": [
            "문자를 입력하세요> 대한민국\n",
            "<class 'str'>\n"
          ]
        }
      ]
    },
    {
      "cell_type": "code",
      "source": [
        "# 숫자\n",
        "var2 = input(\"숫자를 입력하세요> \")\n",
        "print(type(var2))"
      ],
      "metadata": {
        "colab": {
          "base_uri": "https://localhost:8080/"
        },
        "id": "PtIKZ-08sYiD",
        "outputId": "614d0b5a-c6fd-4122-b719-92f5eb732a05"
      },
      "execution_count": null,
      "outputs": [
        {
          "output_type": "stream",
          "name": "stdout",
          "text": [
            "숫자를 입력하세요> 10\n",
            "<class 'str'>\n"
          ]
        }
      ]
    },
    {
      "cell_type": "code",
      "source": [
        "# bool\n",
        "var3 = input(\"bool를 입력하세요> \")\n",
        "print(type(var3))"
      ],
      "metadata": {
        "colab": {
          "base_uri": "https://localhost:8080/"
        },
        "id": "VhhfCPhCsjNz",
        "outputId": "f0e03cdf-b06c-4574-e7f2-cf32c186f06c"
      },
      "execution_count": null,
      "outputs": [
        {
          "output_type": "stream",
          "name": "stdout",
          "text": [
            "bool를 입력하세요> True\n",
            "<class 'str'>\n"
          ]
        }
      ]
    },
    {
      "cell_type": "code",
      "source": [
        "no = input(\"정수를 입력하세요> \")\n",
        "print(\"계산 결과: \", no + 10)"
      ],
      "metadata": {
        "colab": {
          "base_uri": "https://localhost:8080/",
          "height": 209
        },
        "id": "l0u0bgcDsuCR",
        "outputId": "1d9b000b-3047-401b-ec67-fe469d1b6dd9"
      },
      "execution_count": null,
      "outputs": [
        {
          "name": "stdout",
          "output_type": "stream",
          "text": [
            "정수를 입력하세요> 10\n"
          ]
        },
        {
          "output_type": "error",
          "ename": "TypeError",
          "evalue": "ignored",
          "traceback": [
            "\u001b[0;31m---------------------------------------------------------------------------\u001b[0m",
            "\u001b[0;31mTypeError\u001b[0m                                 Traceback (most recent call last)",
            "\u001b[0;32m<ipython-input-97-68f6803b066c>\u001b[0m in \u001b[0;36m<cell line: 2>\u001b[0;34m()\u001b[0m\n\u001b[1;32m      1\u001b[0m \u001b[0mno\u001b[0m \u001b[0;34m=\u001b[0m \u001b[0minput\u001b[0m\u001b[0;34m(\u001b[0m\u001b[0;34m\"정수를 입력하세요> \"\u001b[0m\u001b[0;34m)\u001b[0m\u001b[0;34m\u001b[0m\u001b[0;34m\u001b[0m\u001b[0m\n\u001b[0;32m----> 2\u001b[0;31m \u001b[0mprint\u001b[0m\u001b[0;34m(\u001b[0m\u001b[0;34m\"계산 결과: \"\u001b[0m\u001b[0;34m,\u001b[0m \u001b[0mno\u001b[0m \u001b[0;34m+\u001b[0m \u001b[0;36m10\u001b[0m\u001b[0;34m)\u001b[0m\u001b[0;34m\u001b[0m\u001b[0;34m\u001b[0m\u001b[0m\n\u001b[0m",
            "\u001b[0;31mTypeError\u001b[0m: can only concatenate str (not \"int\") to str"
          ]
        }
      ]
    },
    {
      "cell_type": "markdown",
      "source": [
        "## 캐스트 함수"
      ],
      "metadata": {
        "id": "pMstxdrwumy_"
      }
    },
    {
      "cell_type": "code",
      "source": [
        "a = input(\"input integer>\"); print(type(a)); a = int(a); print(type(a)) # 정수 입력"
      ],
      "metadata": {
        "colab": {
          "base_uri": "https://localhost:8080/"
        },
        "id": "E48UJfh0qdY8",
        "outputId": "910b7183-8e83-49f1-8a2c-aac701a3dc38"
      },
      "execution_count": null,
      "outputs": [
        {
          "output_type": "stream",
          "name": "stdout",
          "text": [
            "input integer>2\n",
            "<class 'str'>\n",
            "<class 'int'>\n"
          ]
        }
      ]
    },
    {
      "cell_type": "code",
      "source": [
        "a = input(\"input float>\"); print(type(a)); a = float(a); print(type(a)) # 실수 입력"
      ],
      "metadata": {
        "colab": {
          "base_uri": "https://localhost:8080/"
        },
        "id": "EA1gSD8wqdVx",
        "outputId": "7a60d2d5-1a63-4c97-d3cd-cbeb067323c4"
      },
      "execution_count": null,
      "outputs": [
        {
          "output_type": "stream",
          "name": "stdout",
          "text": [
            "input float>2.3\n",
            "<class 'str'>\n",
            "<class 'float'>\n"
          ]
        }
      ]
    },
    {
      "cell_type": "code",
      "source": [
        "# 정수로 변환 int()\n",
        "input_a = input(\"첫번째 정수를 입력하세요> \")\n",
        "input_b = input(\"두번째 정수를 입력하세요> \")\n",
        "int_a = int(input_a)\n",
        "int_b = int(input_b)\n",
        "print(\"문자열 = \", input_a + input_b)\n",
        "print(\"정수 = \", int_a + int_b)"
      ],
      "metadata": {
        "colab": {
          "base_uri": "https://localhost:8080/"
        },
        "id": "--1ONw6qtl6y",
        "outputId": "ada81455-69f5-47d7-fe63-6adc01ad2a3d"
      },
      "execution_count": null,
      "outputs": [
        {
          "output_type": "stream",
          "name": "stdout",
          "text": [
            "첫번째 정수를 입력하세요> 10\n",
            "두번째 정수를 입력하세요> 20\n",
            "문자열 =  1020\n",
            "정수 =  30\n"
          ]
        }
      ]
    },
    {
      "cell_type": "code",
      "source": [
        "input_a = input(\"첫번째 정수를 입력하세요> \")\n",
        "input_b = input(\"두번째 정수를 입력하세요> \")\n",
        "int_a = float(input_a)\n",
        "int_b = float(input_b)\n",
        "print(\"문자열 = \", input_a + input_b)\n",
        "print(\"정수 = \", int_a + int_b)"
      ],
      "metadata": {
        "colab": {
          "base_uri": "https://localhost:8080/"
        },
        "id": "pyiSJwDLvioa",
        "outputId": "ae5adcde-3ab1-4874-9b0f-9a01e1257b60"
      },
      "execution_count": null,
      "outputs": [
        {
          "output_type": "stream",
          "name": "stdout",
          "text": [
            "첫번째 정수를 입력하세요> 10\n",
            "두번째 정수를 입력하세요> 20\n",
            "문자열 =  1020\n",
            "정수 =  30.0\n"
          ]
        }
      ]
    },
    {
      "cell_type": "code",
      "source": [
        "a = int(\"23\")\n",
        "b = float(\"2.3\")\n",
        "print(type(a))\n",
        "print(type(b))"
      ],
      "metadata": {
        "colab": {
          "base_uri": "https://localhost:8080/"
        },
        "id": "RIw8Ob9PwzBM",
        "outputId": "b287f219-187f-443c-b2a4-5daa49be4bdf"
      },
      "execution_count": null,
      "outputs": [
        {
          "output_type": "stream",
          "name": "stdout",
          "text": [
            "<class 'int'>\n",
            "<class 'float'>\n"
          ]
        }
      ]
    },
    {
      "cell_type": "markdown",
      "source": [
        "## 숫자를 문자로 변환"
      ],
      "metadata": {
        "id": "DKoiu9dJ1JOv"
      }
    },
    {
      "cell_type": "code",
      "source": [
        "# str()\n",
        "a = str(23)\n",
        "b = str(2.3)\n",
        "print(type(a))\n",
        "print(type(b))"
      ],
      "metadata": {
        "colab": {
          "base_uri": "https://localhost:8080/"
        },
        "id": "EkOzo9IkwOIG",
        "outputId": "db7b8e2b-1e6b-4a67-ab30-d4a3ef25f263"
      },
      "execution_count": null,
      "outputs": [
        {
          "output_type": "stream",
          "name": "stdout",
          "text": [
            "<class 'str'>\n",
            "<class 'str'>\n"
          ]
        }
      ]
    },
    {
      "cell_type": "markdown",
      "source": [
        "## ValueError"
      ],
      "metadata": {
        "id": "OjboGFMf1nQh"
      }
    },
    {
      "cell_type": "code",
      "source": [
        "# 1) 숫자가 아닌 값을 숫자로 변환하는 경우\n",
        "int(\"안녕\")"
      ],
      "metadata": {
        "id": "Rcg5lb0Viqfz",
        "colab": {
          "base_uri": "https://localhost:8080/",
          "height": 166
        },
        "outputId": "e568804f-f3e0-4722-928a-56d627634d71"
      },
      "execution_count": null,
      "outputs": [
        {
          "output_type": "error",
          "ename": "ValueError",
          "evalue": "invalid literal for int() with base 10: '안녕'",
          "traceback": [
            "\u001b[0;31m---------------------------------------------------------------------------\u001b[0m",
            "\u001b[0;31mValueError\u001b[0m                                Traceback (most recent call last)",
            "\u001b[0;32m<ipython-input-91-fd6a93eb1f4b>\u001b[0m in \u001b[0;36m<cell line: 2>\u001b[0;34m()\u001b[0m\n\u001b[1;32m      1\u001b[0m \u001b[0;31m# 1) 숫자가 아닌 값을 숫자로 변환하는 경우\u001b[0m\u001b[0;34m\u001b[0m\u001b[0;34m\u001b[0m\u001b[0m\n\u001b[0;32m----> 2\u001b[0;31m \u001b[0mint\u001b[0m\u001b[0;34m(\u001b[0m\u001b[0;34m\"안녕\"\u001b[0m\u001b[0;34m)\u001b[0m\u001b[0;34m\u001b[0m\u001b[0;34m\u001b[0m\u001b[0m\n\u001b[0m",
            "\u001b[0;31mValueError\u001b[0m: invalid literal for int() with base 10: '안녕'"
          ]
        }
      ]
    },
    {
      "cell_type": "code",
      "source": [
        "# 2) 실수를 정수로 변환하는 경우\n",
        "int(\"2.3\")"
      ],
      "metadata": {
        "colab": {
          "base_uri": "https://localhost:8080/",
          "height": 166
        },
        "id": "eVd4WwSx16dp",
        "outputId": "4c112db1-4b56-47d7-b35d-d5e6e6d937d9"
      },
      "execution_count": null,
      "outputs": [
        {
          "output_type": "error",
          "ename": "ValueError",
          "evalue": "invalid literal for int() with base 10: '2.3'",
          "traceback": [
            "\u001b[0;31m---------------------------------------------------------------------------\u001b[0m",
            "\u001b[0;31mValueError\u001b[0m                                Traceback (most recent call last)",
            "\u001b[0;32m<ipython-input-92-a6156ff8ef01>\u001b[0m in \u001b[0;36m<cell line: 2>\u001b[0;34m()\u001b[0m\n\u001b[1;32m      1\u001b[0m \u001b[0;31m# 2) 실수를 정수로 변환하는 경우\u001b[0m\u001b[0;34m\u001b[0m\u001b[0;34m\u001b[0m\u001b[0m\n\u001b[0;32m----> 2\u001b[0;31m \u001b[0mint\u001b[0m\u001b[0;34m(\u001b[0m\u001b[0;34m\"2.3\"\u001b[0m\u001b[0;34m)\u001b[0m\u001b[0;34m\u001b[0m\u001b[0;34m\u001b[0m\u001b[0m\n\u001b[0m",
            "\u001b[0;31mValueError\u001b[0m: invalid literal for int() with base 10: '2.3'"
          ]
        }
      ]
    },
    {
      "cell_type": "code",
      "source": [
        "# 1 m = 100 cm\n",
        "meter = input(\"키(m)를 입력하세요> \")\n",
        "meter = float(meter)\n",
        "height = meter * 100\n",
        "print(meter, \"m 는 cm 로 변환하면 \", height, \"cm 입니다.\")"
      ],
      "metadata": {
        "colab": {
          "base_uri": "https://localhost:8080/"
        },
        "id": "Zi_qyw9G2Iw6",
        "outputId": "963b15af-9dbd-4a79-ef48-21929bad2f43"
      },
      "execution_count": null,
      "outputs": [
        {
          "output_type": "stream",
          "name": "stdout",
          "text": [
            "키(m)를 입력하세요> 1.8\n",
            "1.8 m 는 cm 로 변환하면  180.0 cm 입니다.\n"
          ]
        }
      ]
    },
    {
      "cell_type": "code",
      "source": [
        "# inch 를 cm 로 변환하는 프로그램\n",
        "# 1 inch = 2.54 cm\n",
        "inch = input(\"inch 를 입력하세요> \")\n",
        "inch = float(inch)\n",
        "cm = inch * 2.54\n",
        "print(inch, \"inch 는 cm 로 변환하면 \", cm, \"cm 입니다.\")"
      ],
      "metadata": {
        "colab": {
          "base_uri": "https://localhost:8080/"
        },
        "id": "-0-hNePlGzjl",
        "outputId": "8860969c-acb1-4248-bebe-3f84a9713cb2"
      },
      "execution_count": null,
      "outputs": [
        {
          "output_type": "stream",
          "name": "stdout",
          "text": [
            "inch 를 입력하세요> 25\n",
            "25.0 inch 는 cm 로 변환하면  63.5 cm 입니다.\n"
          ]
        }
      ]
    },
    {
      "cell_type": "markdown",
      "source": [
        "## 확인 문제"
      ],
      "metadata": {
        "id": "gf-o2JDCMowS"
      }
    },
    {
      "cell_type": "code",
      "source": [
        "="
      ],
      "metadata": {
        "id": "wUwcCPfEBGyM"
      },
      "execution_count": null,
      "outputs": []
    },
    {
      "cell_type": "code",
      "source": [
        "+=\n",
        "-=\n",
        "*=\n",
        "/=\n",
        "%=\n",
        "**="
      ],
      "metadata": {
        "id": "5fpGeT1LBKkU"
      },
      "execution_count": null,
      "outputs": []
    },
    {
      "cell_type": "code",
      "source": [
        "int()\n",
        "float()\n",
        "str()"
      ],
      "metadata": {
        "id": "NPB8H0NqJGsk"
      },
      "execution_count": null,
      "outputs": []
    },
    {
      "cell_type": "code",
      "source": [
        "str_input = input(\"숫자 입력> \")\n",
        "num_input = float(str_input)\n",
        "\n",
        "print()\n",
        "print(num_input, \"inch\")\n",
        "print((num_input * 2.54), \"cm\")"
      ],
      "metadata": {
        "colab": {
          "base_uri": "https://localhost:8080/"
        },
        "id": "8gDNJ93QN-Px",
        "outputId": "388e627e-9ff9-4511-de23-00f54cebd3f1"
      },
      "execution_count": null,
      "outputs": [
        {
          "output_type": "stream",
          "name": "stdout",
          "text": [
            "숫자 입력> 1\n",
            "\n",
            "1.0 inch\n",
            "2.54 cm\n"
          ]
        }
      ]
    },
    {
      "cell_type": "code",
      "source": [
        "str_input = input(\"숫자 입력> \")\n",
        "num_input = float(str_input)\n",
        "\n",
        "print()\n",
        "print(num_input, \"inch\")\n",
        "print((num_input * 2.54), \"cm\")"
      ],
      "metadata": {
        "colab": {
          "base_uri": "https://localhost:8080/"
        },
        "id": "QjAqx1-wOKbR",
        "outputId": "af2339f5-11fd-4dba-bdce-fa0c65c7023e"
      },
      "execution_count": null,
      "outputs": [
        {
          "output_type": "stream",
          "name": "stdout",
          "text": [
            "숫자 입력> 26\n",
            "\n",
            "26.0 inch\n",
            "66.04 cm\n"
          ]
        }
      ]
    },
    {
      "cell_type": "code",
      "source": [
        "str_input = input(\"원의 반지름 입력> \")\n",
        "num_input = float(str_input)\n",
        "print()\n",
        "print(\"반지름: \", num_input)\n",
        "print(\"둘레: \", 2 * 3.14 * num_input )\n",
        "print(\"넓이: \", 3.14 * num_input ** 2)"
      ],
      "metadata": {
        "colab": {
          "base_uri": "https://localhost:8080/"
        },
        "id": "bJ8p7oV_OWlD",
        "outputId": "53bbfe80-0af3-402e-a6d3-0267958f4e12"
      },
      "execution_count": null,
      "outputs": [
        {
          "output_type": "stream",
          "name": "stdout",
          "text": [
            "원의 반지름 입력> 2\n",
            "\n",
            "반지름:  2.0\n",
            "둘레:  12.56\n",
            "넓이:  12.56\n"
          ]
        }
      ]
    },
    {
      "cell_type": "code",
      "source": [
        "str_input = input(\"원의 반지름 입력> \")\n",
        "num_input = float(str_input)\n",
        "print()\n",
        "print(\"반지름: \", num_input)\n",
        "print(\"둘레: \", 2 * 3.14 * num_input )\n",
        "print(\"넓이: \", 3.14 * num_input ** 2)"
      ],
      "metadata": {
        "colab": {
          "base_uri": "https://localhost:8080/"
        },
        "id": "dCBUTMnAaDBk",
        "outputId": "8618c35c-97f8-4993-860a-c2eb59a15522"
      },
      "execution_count": null,
      "outputs": [
        {
          "output_type": "stream",
          "name": "stdout",
          "text": [
            "원의 반지름 입력> 5\n",
            "\n",
            "반지름:  5.0\n",
            "둘레:  31.400000000000002\n",
            "넓이:  78.5\n"
          ]
        }
      ]
    },
    {
      "cell_type": "code",
      "source": [
        "a = input(\"문자열 입력> \")\n",
        "b = input(\"문자열 입력> \")\n",
        "\n",
        "print(a, b)\n",
        "c = a # a => c\n",
        "a = b # b => a\n",
        "b = c # c => b\n",
        "print(a, b)"
      ],
      "metadata": {
        "colab": {
          "base_uri": "https://localhost:8080/"
        },
        "id": "P9Qir7dCamf-",
        "outputId": "96d2aa45-3485-4f3f-caea-19fc00d182fe"
      },
      "execution_count": null,
      "outputs": [
        {
          "output_type": "stream",
          "name": "stdout",
          "text": [
            "문자열 입력> 안녕하세요\n",
            "문자열 입력> 아침입니다\n",
            "안녕하세요 아침입니다\n",
            "아침입니다 안녕하세요\n"
          ]
        }
      ]
    },
    {
      "cell_type": "markdown",
      "source": [
        "# 문자열과 함수"
      ],
      "metadata": {
        "id": "9GJKuasmUaz6"
      }
    },
    {
      "cell_type": "markdown",
      "source": [
        "## format"
      ],
      "metadata": {
        "id": "2z-voOEtUcsa"
      }
    },
    {
      "cell_type": "code",
      "execution_count": null,
      "metadata": {
        "colab": {
          "base_uri": "https://localhost:8080/"
        },
        "id": "Mod6evq9Ti48",
        "outputId": "acf07f6b-76e7-47e9-b902-47a4c2774392"
      },
      "outputs": [
        {
          "output_type": "stream",
          "name": "stdout",
          "text": [
            "23\n",
            "<class 'str'>\n"
          ]
        }
      ],
      "source": [
        "# 숫자를 문자열로 변환하는 함수\n",
        "str = \"{}\".format(23); print(str); print(type(str))"
      ]
    },
    {
      "cell_type": "code",
      "source": [
        "\"유퀴즈 상금 {} 만원\".format(100)"
      ],
      "metadata": {
        "colab": {
          "base_uri": "https://localhost:8080/",
          "height": 35
        },
        "id": "GN8oS2gjU36x",
        "outputId": "0fa3468d-9655-4184-a447-f50cdc0954a9"
      },
      "execution_count": null,
      "outputs": [
        {
          "output_type": "execute_result",
          "data": {
            "text/plain": [
              "'유퀴즈 상금 100 만원'"
            ],
            "application/vnd.google.colaboratory.intrinsic+json": {
              "type": "string"
            }
          },
          "metadata": {},
          "execution_count": 2
        }
      ]
    },
    {
      "cell_type": "code",
      "source": [
        "str_a = \"{} {}\".format(23, 24); print(str_a); str_b = \"{} {}\".format(23, 24, 25); print(str_b)"
      ],
      "metadata": {
        "colab": {
          "base_uri": "https://localhost:8080/"
        },
        "id": "S8zWJ9b5PJDf",
        "outputId": "b772113a-b02e-4456-8f10-ffd4cadcdec2"
      },
      "execution_count": null,
      "outputs": [
        {
          "output_type": "stream",
          "name": "stdout",
          "text": [
            "23 24\n",
            "23 24\n"
          ]
        }
      ]
    },
    {
      "cell_type": "code",
      "source": [
        "\"{} {} {}\".format(1,2,3)"
      ],
      "metadata": {
        "colab": {
          "base_uri": "https://localhost:8080/",
          "height": 35
        },
        "id": "k5pbIQpnVIAe",
        "outputId": "3204e312-9bcb-4402-9e82-83c5be34df6a"
      },
      "execution_count": null,
      "outputs": [
        {
          "output_type": "execute_result",
          "data": {
            "text/plain": [
              "'1 2 3'"
            ],
            "application/vnd.google.colaboratory.intrinsic+json": {
              "type": "string"
            }
          },
          "metadata": {},
          "execution_count": 3
        }
      ]
    },
    {
      "cell_type": "code",
      "source": [
        "\"{} {} {}\".format(1,2)"
      ],
      "metadata": {
        "id": "6jMMeYFYVVXs",
        "colab": {
          "base_uri": "https://localhost:8080/",
          "height": 181
        },
        "outputId": "4d5446b3-56c1-4292-d292-68c8ff263444"
      },
      "execution_count": null,
      "outputs": [
        {
          "output_type": "error",
          "ename": "IndexError",
          "evalue": "Replacement index 2 out of range for positional args tuple",
          "traceback": [
            "\u001b[0;31m---------------------------------------------------------------------------\u001b[0m",
            "\u001b[0;31mIndexError\u001b[0m                                Traceback (most recent call last)",
            "\u001b[0;32m<ipython-input-3-179369eaf130>\u001b[0m in \u001b[0;36m<cell line: 1>\u001b[0;34m()\u001b[0m\n\u001b[0;32m----> 1\u001b[0;31m \u001b[0;34m\"{} {} {}\"\u001b[0m\u001b[0;34m.\u001b[0m\u001b[0mformat\u001b[0m\u001b[0;34m(\u001b[0m\u001b[0;36m1\u001b[0m\u001b[0;34m,\u001b[0m\u001b[0;36m2\u001b[0m\u001b[0;34m)\u001b[0m\u001b[0;34m\u001b[0m\u001b[0;34m\u001b[0m\u001b[0m\n\u001b[0m",
            "\u001b[0;31mIndexError\u001b[0m: Replacement index 2 out of range for positional args tuple"
          ]
        }
      ]
    },
    {
      "cell_type": "code",
      "source": [
        "\"{} {} {}\".format(1,2,3,4)"
      ],
      "metadata": {
        "colab": {
          "base_uri": "https://localhost:8080/",
          "height": 35
        },
        "id": "TUoMwtGHVnQq",
        "outputId": "e086d6ab-1b1b-416c-a112-9e5e9b250039"
      },
      "execution_count": null,
      "outputs": [
        {
          "output_type": "execute_result",
          "data": {
            "text/plain": [
              "'1 2 3'"
            ],
            "application/vnd.google.colaboratory.intrinsic+json": {
              "type": "string"
            }
          },
          "metadata": {},
          "execution_count": 5
        }
      ]
    },
    {
      "cell_type": "code",
      "source": [
        "\"{}\".format(2.3)"
      ],
      "metadata": {
        "colab": {
          "base_uri": "https://localhost:8080/",
          "height": 35
        },
        "id": "PcuLJJ3tV6KK",
        "outputId": "0da776af-657b-4710-ef7c-8aa7b5400dc2"
      },
      "execution_count": null,
      "outputs": [
        {
          "output_type": "execute_result",
          "data": {
            "text/plain": [
              "'2.3'"
            ],
            "application/vnd.google.colaboratory.intrinsic+json": {
              "type": "string"
            }
          },
          "metadata": {},
          "execution_count": 6
        }
      ]
    },
    {
      "cell_type": "code",
      "source": [
        "\"{} {} {}\".format(1,\"안녕\",True)"
      ],
      "metadata": {
        "colab": {
          "base_uri": "https://localhost:8080/",
          "height": 35
        },
        "id": "RI8QEwWLW8SG",
        "outputId": "4954f685-fd74-42e0-d4fe-238dc4d56b08"
      },
      "execution_count": null,
      "outputs": [
        {
          "output_type": "execute_result",
          "data": {
            "text/plain": [
              "'1 안녕 True'"
            ],
            "application/vnd.google.colaboratory.intrinsic+json": {
              "type": "string"
            }
          },
          "metadata": {},
          "execution_count": 7
        }
      ]
    },
    {
      "cell_type": "markdown",
      "source": [
        "### 정수형"
      ],
      "metadata": {
        "id": "CB7_h1OhXgPT"
      }
    },
    {
      "cell_type": "code",
      "source": [
        "a = \"{:d}\".format(23); b = \"{:5d}\".format(23); c = \"{:05d}\".format(23); d = \"{:05d}\".format(-23)\n",
        "print(a); print(b); print(c); print(d)"
      ],
      "metadata": {
        "colab": {
          "base_uri": "https://localhost:8080/"
        },
        "id": "JgrGEnZBPeq0",
        "outputId": "03aac185-9b76-453b-94b8-f8f917352751"
      },
      "execution_count": null,
      "outputs": [
        {
          "output_type": "stream",
          "name": "stdout",
          "text": [
            "23\n",
            "   23\n",
            "00023\n",
            "-0023\n"
          ]
        }
      ]
    },
    {
      "cell_type": "code",
      "source": [
        "a = \"{:d}\".format(23) # 정수\n",
        "b = \"{:5d}\".format(23) # 자리수 & 남은 자리를 빈칸으로 채움\n",
        "c = \"{:05d}\".format(23) # 자리수 & 남은 자리를 0을 채움\n",
        "d = \"{:05d}\".format(-23) # 자리수 & 한자리 - 기호 & 남은 자리를 0을 채움\n",
        "print(a)\n",
        "print(b)\n",
        "print(c)\n",
        "print(d)"
      ],
      "metadata": {
        "id": "V3EVxnbVXJAi",
        "colab": {
          "base_uri": "https://localhost:8080/"
        },
        "outputId": "f20d4981-9b2b-4e21-ee7e-668640c3626c"
      },
      "execution_count": null,
      "outputs": [
        {
          "output_type": "stream",
          "name": "stdout",
          "text": [
            "23\n",
            "   23\n",
            "00023\n",
            "-0023\n"
          ]
        }
      ]
    },
    {
      "cell_type": "code",
      "source": [
        "a = \"{:+d}\".format(23); b = \"{:+d}\".format(-23); c = \"{: d}\".format(23); d = \"{: d}\".format(-23)\n",
        "print(a); print(b); print(c); print(d)"
      ],
      "metadata": {
        "colab": {
          "base_uri": "https://localhost:8080/"
        },
        "id": "Y1HWoIfLP2jR",
        "outputId": "624ad490-fb56-48a9-e611-e943ec531185"
      },
      "execution_count": null,
      "outputs": [
        {
          "output_type": "stream",
          "name": "stdout",
          "text": [
            "+23\n",
            "-23\n",
            " 23\n",
            "-23\n"
          ]
        }
      ]
    },
    {
      "cell_type": "code",
      "source": [
        "a = \"{:+d}\".format(23) # 양수 기호와 함께 출력\n",
        "b = \"{:+d}\".format(-23) # 음수, 무조건 - 기호\n",
        "c = \"{: d}\".format(23) # 양수 기호를 생략해서 출력\n",
        "d = \"{: d}\".format(-23) # 음수, 무조건 - 기호\n",
        "print(a)\n",
        "print(b)\n",
        "print(c)\n",
        "print(d)"
      ],
      "metadata": {
        "id": "MwzJQXeiYhIZ",
        "colab": {
          "base_uri": "https://localhost:8080/"
        },
        "outputId": "4ff9d3fa-fa11-43ed-fc6c-85c081d4b2bd"
      },
      "execution_count": null,
      "outputs": [
        {
          "output_type": "stream",
          "name": "stdout",
          "text": [
            "+23\n",
            "-23\n",
            " 23\n",
            "-23\n"
          ]
        }
      ]
    },
    {
      "cell_type": "code",
      "source": [
        "a = \"{:+5d}\".format(23) # 자리수 & 숫자 바로 앞에 기호\n",
        "b = \"{:+5d}\".format(-23) #\n",
        "c = \"{:=+5d}\".format(23) # 자리수 & 맨 앞에 기호 & 남아있는 자리를 빈칸으로 채움\n",
        "d = \"{:=+5d}\".format(-23) #\n",
        "e = \"{:=+05d}\".format(23) # 자리수 & 맨 앞에 기호 & 남아있는 자리를 0으로 채움\n",
        "f = \"{:=+05d}\".format(-23) #\n",
        "print(a);print(b);print(c);print(d);print(e);print(f)"
      ],
      "metadata": {
        "colab": {
          "base_uri": "https://localhost:8080/"
        },
        "id": "NHwElBrwerf7",
        "outputId": "f52cf9e2-813b-4284-e8f5-105ca06ebe55"
      },
      "execution_count": null,
      "outputs": [
        {
          "output_type": "stream",
          "name": "stdout",
          "text": [
            "  +23\n",
            "  -23\n",
            "+  23\n",
            "-  23\n",
            "+0023\n",
            "-0023\n"
          ]
        }
      ]
    },
    {
      "cell_type": "code",
      "source": [
        "\"{:+05d}\".format(23) # = 사용할 필요 없음"
      ],
      "metadata": {
        "id": "FtdXKSJ2sIh-",
        "colab": {
          "base_uri": "https://localhost:8080/",
          "height": 35
        },
        "outputId": "a121998c-141d-4cda-e8bc-b18cbb15ddf0"
      },
      "execution_count": null,
      "outputs": [
        {
          "output_type": "execute_result",
          "data": {
            "text/plain": [
              "'+0023'"
            ],
            "application/vnd.google.colaboratory.intrinsic+json": {
              "type": "string"
            }
          },
          "metadata": {},
          "execution_count": 9
        }
      ]
    },
    {
      "cell_type": "code",
      "source": [
        "\"{:=+05d}\".format(-23) #"
      ],
      "metadata": {
        "colab": {
          "base_uri": "https://localhost:8080/",
          "height": 35
        },
        "id": "BjkJbGLKQ9NI",
        "outputId": "02043513-dade-4e63-e396-29ebfed611e8"
      },
      "execution_count": null,
      "outputs": [
        {
          "output_type": "execute_result",
          "data": {
            "text/plain": [
              "'-0023'"
            ],
            "application/vnd.google.colaboratory.intrinsic+json": {
              "type": "string"
            }
          },
          "metadata": {},
          "execution_count": 10
        }
      ]
    },
    {
      "cell_type": "markdown",
      "source": [
        "### 실수형"
      ],
      "metadata": {
        "id": "yALQuNpAhM8u"
      }
    },
    {
      "cell_type": "code",
      "source": [
        "a = \"{:f}\".format(23.45) # 실수\n",
        "b = \"{:15f}\".format(23.45) # 자리수 & 남은 자리를 빈칸으로 채움\n",
        "c = \"{:+15f}\".format(23.45) # 자리수 & 한자리 + 기호 & 남은 자리를 빈칸으로 채움\n",
        "d = \"{:+015f}\".format(-23.45) # 자리수 & 한자리 - 기호 맨앞에 & 남은 자리를 0을 채움\n",
        "print(a);print(b);print(c);print(d)"
      ],
      "metadata": {
        "id": "7f6p-LWSfqDs",
        "colab": {
          "base_uri": "https://localhost:8080/"
        },
        "outputId": "7ff77e1c-efbc-4f50-9c87-7bdec4328787"
      },
      "execution_count": null,
      "outputs": [
        {
          "output_type": "stream",
          "name": "stdout",
          "text": [
            "23.450000\n",
            "      23.450000\n",
            "     +23.450000\n",
            "-0000023.450000\n"
          ]
        }
      ]
    },
    {
      "cell_type": "code",
      "source": [
        "\"{:=+015f}\".format(-23.45) # = 사용할 필요 없음"
      ],
      "metadata": {
        "id": "UQmlmiuTsbHN",
        "colab": {
          "base_uri": "https://localhost:8080/",
          "height": 35
        },
        "outputId": "049849f4-5e22-4582-b195-1b34a55a0a62"
      },
      "execution_count": null,
      "outputs": [
        {
          "output_type": "execute_result",
          "data": {
            "text/plain": [
              "'-0000023.450000'"
            ],
            "application/vnd.google.colaboratory.intrinsic+json": {
              "type": "string"
            }
          },
          "metadata": {},
          "execution_count": 96
        }
      ]
    },
    {
      "cell_type": "code",
      "source": [
        "a = \"{:15.3f}\".format(23.456)\n",
        "b = \"{:15.2f}\".format(23.456)\n",
        "c = \"{:15.1f}\".format(23.456)\n",
        "d = \"{:15.1f}\".format(23.45) # 5 보다 커야 반올림\n",
        "e = \"{:15.1f}\".format(23.46)\n",
        "print(a);print(b);print(c);print(d);print(e)"
      ],
      "metadata": {
        "colab": {
          "base_uri": "https://localhost:8080/"
        },
        "id": "OyrNwk-Dh1dR",
        "outputId": "5d3dbda8-279c-4a5f-ac91-78fdbd91b70b"
      },
      "execution_count": null,
      "outputs": [
        {
          "output_type": "stream",
          "name": "stdout",
          "text": [
            "         23.456\n",
            "          23.46\n",
            "           23.5\n",
            "           23.4\n",
            "           23.5\n"
          ]
        }
      ]
    },
    {
      "cell_type": "markdown",
      "source": [
        "### 의미가 없는 소수점 제거"
      ],
      "metadata": {
        "id": "fsfPLLFcknC2"
      }
    },
    {
      "cell_type": "code",
      "source": [
        "a = \"{:g}\".format(23.450)\n",
        "b = \"{:g}\".format(23.40)\n",
        "c = \"{:g}\".format(23.0)\n",
        "print(a);print(b);print(c)"
      ],
      "metadata": {
        "colab": {
          "base_uri": "https://localhost:8080/"
        },
        "id": "3jEqgNtyi13w",
        "outputId": "19f96095-da98-4089-fc5d-f68e2f805567"
      },
      "execution_count": null,
      "outputs": [
        {
          "output_type": "stream",
          "name": "stdout",
          "text": [
            "23.45\n",
            "23.4\n",
            "23\n"
          ]
        }
      ]
    },
    {
      "cell_type": "markdown",
      "source": [
        "### 파이썬 숫자 표현 방식"
      ],
      "metadata": {
        "id": "FFcMXN_y7-ux"
      }
    },
    {
      "cell_type": "markdown",
      "source": [
        "파이썬에서는 반올림할 때 숫자가 정확하게 똑같이 반으로 쪼개지면 짝수의 정수로 값을 반환하는 특성을 가지고 있음 = 설계가 그렇게 되어 있음"
      ],
      "metadata": {
        "id": "lIkXsZly8Dty"
      }
    },
    {
      "cell_type": "code",
      "source": [
        "# 정수 2 와 3 사이의 짝수 2 를 반환\n",
        "\"{:15.0f}\".format(2.5)"
      ],
      "metadata": {
        "colab": {
          "base_uri": "https://localhost:8080/",
          "height": 35
        },
        "id": "8SArX9KLH6B5",
        "outputId": "c851d706-ce0f-4c5f-d7f5-fb213e4fe7c5"
      },
      "execution_count": null,
      "outputs": [
        {
          "output_type": "execute_result",
          "data": {
            "text/plain": [
              "'              2'"
            ],
            "application/vnd.google.colaboratory.intrinsic+json": {
              "type": "string"
            }
          },
          "metadata": {},
          "execution_count": 99
        }
      ]
    },
    {
      "cell_type": "code",
      "source": [
        "# 정수 3 과 4 사이의 짝수 4 를 반환\n",
        "\"{:15.0f}\".format(3.5)"
      ],
      "metadata": {
        "colab": {
          "base_uri": "https://localhost:8080/",
          "height": 35
        },
        "id": "lSlq88JnICDx",
        "outputId": "7a055017-01cd-45d7-a433-de850ce46dfd"
      },
      "execution_count": null,
      "outputs": [
        {
          "output_type": "execute_result",
          "data": {
            "text/plain": [
              "'              4'"
            ],
            "application/vnd.google.colaboratory.intrinsic+json": {
              "type": "string"
            }
          },
          "metadata": {},
          "execution_count": 100
        }
      ]
    },
    {
      "cell_type": "code",
      "source": [
        "# 정수 4 와 5 사이의 짝수 4 를 반환\n",
        "\"{:15.0f}\".format(4.5)"
      ],
      "metadata": {
        "colab": {
          "base_uri": "https://localhost:8080/",
          "height": 35
        },
        "id": "8bvPSGK0I_uI",
        "outputId": "d77272bf-c794-442e-ec0b-3aad5a180122"
      },
      "execution_count": null,
      "outputs": [
        {
          "output_type": "execute_result",
          "data": {
            "text/plain": [
              "'              4'"
            ],
            "application/vnd.google.colaboratory.intrinsic+json": {
              "type": "string"
            }
          },
          "metadata": {},
          "execution_count": 101
        }
      ]
    },
    {
      "cell_type": "code",
      "source": [
        "# 그러나 일반적으로 똑같이 반으로 쪼개지는 실수보다\n",
        "# 0보다 큰 수를 가지는 실수를 사용하는 경우가 많기 때문에\n",
        "# 걱정하지 않아도 됨\n",
        "# 2.5 는 똑같이 반으로 쪼개지는 수이지만\n",
        "# 2.5123 은 한쪽이 0.5123 을, 다른 한쪽은 0.4877 를 가짐\n",
        "\"{:15.0f}\".format(2.5123)"
      ],
      "metadata": {
        "colab": {
          "base_uri": "https://localhost:8080/",
          "height": 35
        },
        "outputId": "c42a291a-bd5a-4aae-8268-62de268cbcbe",
        "id": "t86IqWViIqmf"
      },
      "execution_count": null,
      "outputs": [
        {
          "output_type": "execute_result",
          "data": {
            "text/plain": [
              "'              3'"
            ],
            "application/vnd.google.colaboratory.intrinsic+json": {
              "type": "string"
            }
          },
          "metadata": {},
          "execution_count": 102
        }
      ]
    },
    {
      "cell_type": "code",
      "source": [
        "1-0.5123"
      ],
      "metadata": {
        "colab": {
          "base_uri": "https://localhost:8080/"
        },
        "id": "-pnmGv-48yz1",
        "outputId": "26c8f0b4-d898-4d32-8108-0831f4dcc8c9"
      },
      "execution_count": null,
      "outputs": [
        {
          "output_type": "execute_result",
          "data": {
            "text/plain": [
              "0.4877"
            ]
          },
          "metadata": {},
          "execution_count": 103
        }
      ]
    },
    {
      "cell_type": "code",
      "source": [
        "# 3.5 는 똑같이 반으로 쪼개지는 수이지만\n",
        "# 3.5111 은 한쪽이 0.5111 을, 다른 한쪽은 0.4889 를 가짐\n",
        "\"{:15.0f}\".format(3.51111)"
      ],
      "metadata": {
        "colab": {
          "base_uri": "https://localhost:8080/",
          "height": 35
        },
        "outputId": "97bdb6ba-57af-49ec-b823-d9e32abffc9c",
        "id": "0tMIfXZ8Iqmg"
      },
      "execution_count": null,
      "outputs": [
        {
          "output_type": "execute_result",
          "data": {
            "text/plain": [
              "'              4'"
            ],
            "application/vnd.google.colaboratory.intrinsic+json": {
              "type": "string"
            }
          },
          "metadata": {},
          "execution_count": 104
        }
      ]
    },
    {
      "cell_type": "code",
      "source": [
        "1-0.5111"
      ],
      "metadata": {
        "colab": {
          "base_uri": "https://localhost:8080/"
        },
        "id": "wjILGyHo9DEq",
        "outputId": "10a74536-2018-4d7c-d624-6b61abdd7afb"
      },
      "execution_count": null,
      "outputs": [
        {
          "output_type": "execute_result",
          "data": {
            "text/plain": [
              "0.4889"
            ]
          },
          "metadata": {},
          "execution_count": 105
        }
      ]
    },
    {
      "cell_type": "markdown",
      "source": [
        "## f 문자열 (참고만 할 것)"
      ],
      "metadata": {
        "id": "36euFgoOmdx8"
      }
    },
    {
      "cell_type": "code",
      "source": [
        "\"{}\".format(23)"
      ],
      "metadata": {
        "colab": {
          "base_uri": "https://localhost:8080/",
          "height": 35
        },
        "id": "yhjCzQ5-lJ0d",
        "outputId": "19d4069c-7780-4271-8330-09f37a2f42b3"
      },
      "execution_count": null,
      "outputs": [
        {
          "output_type": "execute_result",
          "data": {
            "text/plain": [
              "'23'"
            ],
            "application/vnd.google.colaboratory.intrinsic+json": {
              "type": "string"
            }
          },
          "metadata": {},
          "execution_count": 17
        }
      ]
    },
    {
      "cell_type": "code",
      "source": [
        "f\"{23}\""
      ],
      "metadata": {
        "colab": {
          "base_uri": "https://localhost:8080/",
          "height": 35
        },
        "id": "pkqN-jYUmp0-",
        "outputId": "4bf701a1-fc74-4891-a098-ee5645913707"
      },
      "execution_count": null,
      "outputs": [
        {
          "output_type": "execute_result",
          "data": {
            "text/plain": [
              "'23'"
            ],
            "application/vnd.google.colaboratory.intrinsic+json": {
              "type": "string"
            }
          },
          "metadata": {},
          "execution_count": 18
        }
      ]
    },
    {
      "cell_type": "code",
      "source": [
        "\"{}\".format(2 + 3)"
      ],
      "metadata": {
        "colab": {
          "base_uri": "https://localhost:8080/",
          "height": 35
        },
        "id": "dMdDr9J3muJA",
        "outputId": "c9468781-15a6-46b1-85af-d6db097ccebd"
      },
      "execution_count": null,
      "outputs": [
        {
          "output_type": "execute_result",
          "data": {
            "text/plain": [
              "'5'"
            ],
            "application/vnd.google.colaboratory.intrinsic+json": {
              "type": "string"
            }
          },
          "metadata": {},
          "execution_count": 19
        }
      ]
    },
    {
      "cell_type": "code",
      "source": [
        "f\"{2+3}\""
      ],
      "metadata": {
        "colab": {
          "base_uri": "https://localhost:8080/",
          "height": 35
        },
        "id": "H57yH2eem-31",
        "outputId": "3f979e15-1b7b-4be5-c0dc-b1ce0dd836ef"
      },
      "execution_count": null,
      "outputs": [
        {
          "output_type": "execute_result",
          "data": {
            "text/plain": [
              "'5'"
            ],
            "application/vnd.google.colaboratory.intrinsic+json": {
              "type": "string"
            }
          },
          "metadata": {},
          "execution_count": 20
        }
      ]
    },
    {
      "cell_type": "code",
      "source": [
        "# format() 함수 사용하는 것이 더 좋은 경우\n",
        "# 1) 문자열이 많을 때\n",
        "mc = \"유재석\"\n",
        "reward = 100\n",
        "\"\"\"\\\n",
        "유퀴즈 프로그램은 다양한 사람을 만나서 이야기하는 프로이다.\n",
        "엠씨는 {}이고, 퀴즈를 맞추면 상금 {} 만원을 준다.\\\n",
        "\"\"\".format(mc, reward)"
      ],
      "metadata": {
        "colab": {
          "base_uri": "https://localhost:8080/",
          "height": 35
        },
        "id": "E0TC1nfonDW2",
        "outputId": "437b88bc-03f5-4592-ef40-a78c7b66498b"
      },
      "execution_count": null,
      "outputs": [
        {
          "output_type": "execute_result",
          "data": {
            "text/plain": [
              "'유퀴즈 프로그램은 다양한 사람을 만나서 이야기하는 프로이다.\\n엠씨는 유재석이고, 퀴즈를 맞추면 상금 100 만원을 준다.'"
            ],
            "application/vnd.google.colaboratory.intrinsic+json": {
              "type": "string"
            }
          },
          "metadata": {},
          "execution_count": 21
        }
      ]
    },
    {
      "cell_type": "code",
      "source": [
        "mc = \"유재석\"\n",
        "reward = 100\n",
        "f\"\"\"\\\n",
        "유퀴즈 프로그램은 다양한 사람을 만나서 이야기하는 프로이다.\n",
        "엠씨는 {mc}이고, 퀴즈를 맞추면 상금 {reward} 만원을 준다.\\\n",
        "\"\"\""
      ],
      "metadata": {
        "colab": {
          "base_uri": "https://localhost:8080/",
          "height": 35
        },
        "id": "FGmvQOIFn8sA",
        "outputId": "0a64426c-6693-4e20-ec20-bf5c48373158"
      },
      "execution_count": null,
      "outputs": [
        {
          "output_type": "execute_result",
          "data": {
            "text/plain": [
              "'유퀴즈 프로그램은 다양한 사람을 만나서 이야기하는 프로이다.\\n엠씨는 유재석이고, 퀴즈를 맞추면 상금 100 만원을 준다.'"
            ],
            "application/vnd.google.colaboratory.intrinsic+json": {
              "type": "string"
            }
          },
          "metadata": {},
          "execution_count": 22
        }
      ]
    },
    {
      "cell_type": "code",
      "source": [
        "# 2) 여러 값을 리스트 형태로 사용할 경우\n",
        "# 전개연산자\n",
        "data = [\"강백호\", 17, \"M\", \"난 천재니까\"]\n",
        "\"\"\"\\\n",
        "이름: {},\n",
        "나이: {},\n",
        "성별: {},\n",
        "좌우명: {}\\\n",
        "\"\"\".format(*data)"
      ],
      "metadata": {
        "colab": {
          "base_uri": "https://localhost:8080/",
          "height": 35
        },
        "id": "kzjSN2JysnQN",
        "outputId": "6c17c5d2-ac84-4da7-ef9b-2c85126a4ed2"
      },
      "execution_count": null,
      "outputs": [
        {
          "output_type": "execute_result",
          "data": {
            "text/plain": [
              "'이름: 강백호,\\n나이: 17,\\n성별: M,\\n좌우명: 난 천재니까'"
            ],
            "application/vnd.google.colaboratory.intrinsic+json": {
              "type": "string"
            }
          },
          "metadata": {},
          "execution_count": 26
        }
      ]
    },
    {
      "cell_type": "code",
      "source": [
        "data = [\"강백호\", 17, \"M\", \"난 천재니까\"]\n",
        "f\"\"\"\\\n",
        "이름: {data[0]},\n",
        "나이: {data[1]},\n",
        "성별: {data[2]},\n",
        "좌우명: {data[3]}\\\n",
        "\"\"\""
      ],
      "metadata": {
        "colab": {
          "base_uri": "https://localhost:8080/",
          "height": 35
        },
        "id": "wbLQM98DuFt-",
        "outputId": "9c60427f-eece-4973-b14e-76b051e79cdc"
      },
      "execution_count": null,
      "outputs": [
        {
          "output_type": "execute_result",
          "data": {
            "text/plain": [
              "'이름: 강백호,\\n나이: 17,\\n성별: M,\\n좌우명: 난 천재니까'"
            ],
            "application/vnd.google.colaboratory.intrinsic+json": {
              "type": "string"
            }
          },
          "metadata": {},
          "execution_count": 27
        }
      ]
    },
    {
      "cell_type": "markdown",
      "source": [
        "## 대소문자 변경"
      ],
      "metadata": {
        "id": "I9KPrKCGv2Cl"
      }
    },
    {
      "cell_type": "code",
      "source": [
        "# 대문자로 변경\n",
        "string = \"hello\"\n",
        "string.upper()"
      ],
      "metadata": {
        "id": "N7PNzdJ9v4Cu",
        "colab": {
          "base_uri": "https://localhost:8080/",
          "height": 35
        },
        "outputId": "b19d8522-8851-4fcf-a164-7c028a7299d9"
      },
      "execution_count": null,
      "outputs": [
        {
          "output_type": "execute_result",
          "data": {
            "text/plain": [
              "'HELLO'"
            ],
            "application/vnd.google.colaboratory.intrinsic+json": {
              "type": "string"
            }
          },
          "metadata": {},
          "execution_count": 106
        }
      ]
    },
    {
      "cell_type": "code",
      "source": [
        "# 소문자로 변경\n",
        "string = \"HELLO\"\n",
        "string.lower()"
      ],
      "metadata": {
        "id": "5o1E5ThQwGe-",
        "colab": {
          "base_uri": "https://localhost:8080/",
          "height": 35
        },
        "outputId": "0fd6517b-6a7e-4f08-b6d1-cbe018c96e91"
      },
      "execution_count": null,
      "outputs": [
        {
          "output_type": "execute_result",
          "data": {
            "text/plain": [
              "'hello'"
            ],
            "application/vnd.google.colaboratory.intrinsic+json": {
              "type": "string"
            }
          },
          "metadata": {},
          "execution_count": 107
        }
      ]
    },
    {
      "cell_type": "markdown",
      "source": [
        "## 공백 제거"
      ],
      "metadata": {
        "id": "Ybm6PBv7xDke"
      }
    },
    {
      "cell_type": "code",
      "source": [
        "# 양쪽 = both = left & right = 앞 & 뒤\n",
        "string = \"            안녕              \"\n",
        "string.strip()"
      ],
      "metadata": {
        "id": "xvedHbm3wTig",
        "colab": {
          "base_uri": "https://localhost:8080/",
          "height": 35
        },
        "outputId": "7c639261-eaf0-41ad-b696-e18330666dfc"
      },
      "execution_count": null,
      "outputs": [
        {
          "output_type": "execute_result",
          "data": {
            "text/plain": [
              "'안녕'"
            ],
            "application/vnd.google.colaboratory.intrinsic+json": {
              "type": "string"
            }
          },
          "metadata": {},
          "execution_count": 108
        }
      ]
    },
    {
      "cell_type": "code",
      "source": [
        "# 왼쪽 = left = 앞\n",
        "string = \"            안녕              \"\n",
        "string.lstrip()"
      ],
      "metadata": {
        "id": "QiwRNT2nxW2w",
        "colab": {
          "base_uri": "https://localhost:8080/",
          "height": 35
        },
        "outputId": "e2d0a96e-8617-461b-f889-fd832f934f02"
      },
      "execution_count": null,
      "outputs": [
        {
          "output_type": "execute_result",
          "data": {
            "text/plain": [
              "'안녕              '"
            ],
            "application/vnd.google.colaboratory.intrinsic+json": {
              "type": "string"
            }
          },
          "metadata": {},
          "execution_count": 109
        }
      ]
    },
    {
      "cell_type": "code",
      "source": [
        "# 오른쪽 = right = 뒤\n",
        "string = \"            안녕              \"\n",
        "string.rstrip()"
      ],
      "metadata": {
        "id": "YRYuUPhnxmR-",
        "colab": {
          "base_uri": "https://localhost:8080/",
          "height": 35
        },
        "outputId": "6cf0ce58-4f51-49ea-a715-36d06c8424e5"
      },
      "execution_count": null,
      "outputs": [
        {
          "output_type": "execute_result",
          "data": {
            "text/plain": [
              "'            안녕'"
            ],
            "application/vnd.google.colaboratory.intrinsic+json": {
              "type": "string"
            }
          },
          "metadata": {},
          "execution_count": 110
        }
      ]
    },
    {
      "cell_type": "markdown",
      "source": [
        "## 문자열 구성 확인"
      ],
      "metadata": {
        "id": "KQ_nW6CqzmVB"
      }
    },
    {
      "cell_type": "code",
      "source": [
        "s = \"slamdunk01\"\n",
        "s.isalnum()"
      ],
      "metadata": {
        "colab": {
          "base_uri": "https://localhost:8080/"
        },
        "id": "bIKAd_1jxvtL",
        "outputId": "cbd34aa4-ef1a-4396-ab70-4533d5a07804"
      },
      "execution_count": null,
      "outputs": [
        {
          "output_type": "execute_result",
          "data": {
            "text/plain": [
              "True"
            ]
          },
          "metadata": {},
          "execution_count": 111
        }
      ]
    },
    {
      "cell_type": "code",
      "source": [
        "s.isdigit()"
      ],
      "metadata": {
        "colab": {
          "base_uri": "https://localhost:8080/"
        },
        "id": "Jjwt7gVWz3Tf",
        "outputId": "1ea0369b-019c-4fea-e2ab-c0c7349822e8"
      },
      "execution_count": null,
      "outputs": [
        {
          "output_type": "execute_result",
          "data": {
            "text/plain": [
              "False"
            ]
          },
          "metadata": {},
          "execution_count": 112
        }
      ]
    },
    {
      "cell_type": "markdown",
      "source": [
        "## 문자열 첫번째 위치 반환"
      ],
      "metadata": {
        "id": "5UC4VXu_1D4-"
      }
    },
    {
      "cell_type": "code",
      "source": [
        "# 좌 => 우\n",
        "# slamdunk01\n",
        "# 01234\n",
        "s = \"slamdunk01\"\n",
        "s.find(\"dunk\")"
      ],
      "metadata": {
        "id": "SyIGzynQ0Bop",
        "colab": {
          "base_uri": "https://localhost:8080/"
        },
        "outputId": "3c6a24e9-19ae-4dca-dfdc-c07b2ed6fd42"
      },
      "execution_count": null,
      "outputs": [
        {
          "output_type": "execute_result",
          "data": {
            "text/plain": [
              "4"
            ]
          },
          "metadata": {},
          "execution_count": 11
        }
      ]
    },
    {
      "cell_type": "code",
      "source": [
        "# slamdunk01\n",
        "# 012345678\n",
        "s.find(\"0\")"
      ],
      "metadata": {
        "id": "w9nw6Kc01UrP",
        "colab": {
          "base_uri": "https://localhost:8080/"
        },
        "outputId": "bf6c5022-5f22-4b83-c3da-7d5de6abe69d"
      },
      "execution_count": null,
      "outputs": [
        {
          "output_type": "execute_result",
          "data": {
            "text/plain": [
              "8"
            ]
          },
          "metadata": {},
          "execution_count": 12
        }
      ]
    },
    {
      "cell_type": "code",
      "source": [
        "# 우 => 좌\n",
        "# slamslam\n",
        "# 0123456\n",
        "s = \"slamslam\"\n",
        "s.rfind(\"a\")"
      ],
      "metadata": {
        "id": "i65T0rC01g7O",
        "colab": {
          "base_uri": "https://localhost:8080/"
        },
        "outputId": "4fb57507-97c6-4ef0-924a-9297ef1a172b"
      },
      "execution_count": null,
      "outputs": [
        {
          "output_type": "execute_result",
          "data": {
            "text/plain": [
              "6"
            ]
          },
          "metadata": {},
          "execution_count": 13
        }
      ]
    },
    {
      "cell_type": "code",
      "source": [
        "# slamslam\n",
        "# 012\n",
        "s.find(\"a\")"
      ],
      "metadata": {
        "id": "2kbO-lJ_1-Ts",
        "colab": {
          "base_uri": "https://localhost:8080/"
        },
        "outputId": "1881ce99-7183-4c67-ebb5-6569dfef2829"
      },
      "execution_count": null,
      "outputs": [
        {
          "output_type": "execute_result",
          "data": {
            "text/plain": [
              "2"
            ]
          },
          "metadata": {},
          "execution_count": 14
        }
      ]
    },
    {
      "cell_type": "markdown",
      "source": [
        "## in 연산자"
      ],
      "metadata": {
        "id": "X-IrLH8CJjCa"
      }
    },
    {
      "cell_type": "code",
      "source": [
        "print(\"안녕\" in \"안녕하세요\")"
      ],
      "metadata": {
        "colab": {
          "base_uri": "https://localhost:8080/"
        },
        "id": "7WD3MG7q1vvK",
        "outputId": "856ca760-8bb2-404c-a243-8bc6b00b5ce3"
      },
      "execution_count": null,
      "outputs": [
        {
          "output_type": "stream",
          "name": "stdout",
          "text": [
            "True\n"
          ]
        }
      ]
    },
    {
      "cell_type": "code",
      "source": [
        "print(\"잘자\" in \"안녕하세요\")"
      ],
      "metadata": {
        "colab": {
          "base_uri": "https://localhost:8080/"
        },
        "id": "RDCeGj56KnKn",
        "outputId": "21477771-d479-4598-eace-511e22e7a2f2"
      },
      "execution_count": null,
      "outputs": [
        {
          "output_type": "stream",
          "name": "stdout",
          "text": [
            "False\n"
          ]
        }
      ]
    },
    {
      "cell_type": "markdown",
      "source": [
        "## split"
      ],
      "metadata": {
        "id": "9MOZT9qFKz2p"
      }
    },
    {
      "cell_type": "code",
      "source": [
        "s = \"1 2 3 4 5\"\n",
        "s.split(\" \")"
      ],
      "metadata": {
        "colab": {
          "base_uri": "https://localhost:8080/"
        },
        "id": "VkITq5dwKsTo",
        "outputId": "bb39c3a5-e8f5-43b4-a614-c8780b303848"
      },
      "execution_count": null,
      "outputs": [
        {
          "output_type": "execute_result",
          "data": {
            "text/plain": [
              "['1', '2', '3', '4', '5']"
            ]
          },
          "metadata": {},
          "execution_count": 50
        }
      ]
    },
    {
      "cell_type": "code",
      "source": [
        "cp = \"010-1234-5678\"\n",
        "cp.split(\"-\")"
      ],
      "metadata": {
        "colab": {
          "base_uri": "https://localhost:8080/"
        },
        "id": "-2Rt4ZvELHL0",
        "outputId": "2888a08a-fc5c-4553-f74f-0294e8b3718f"
      },
      "execution_count": null,
      "outputs": [
        {
          "output_type": "execute_result",
          "data": {
            "text/plain": [
              "['010', '1234', '5678']"
            ]
          },
          "metadata": {},
          "execution_count": 52
        }
      ]
    },
    {
      "cell_type": "markdown",
      "source": [
        "## 확인 문제"
      ],
      "metadata": {
        "id": "63NQIFizjomS"
      }
    },
    {
      "cell_type": "code",
      "source": [
        "# 중괄호 개수가 값의 개수보다 많으면 오류 발생"
      ],
      "metadata": {
        "id": "clKHmk1ajo-t"
      },
      "execution_count": null,
      "outputs": []
    },
    {
      "cell_type": "code",
      "source": [
        "1 - d\n",
        "2 - b\n",
        "3 - a\n",
        "4 - c"
      ],
      "metadata": {
        "id": "niAIiydelCjd"
      },
      "execution_count": null,
      "outputs": []
    },
    {
      "cell_type": "code",
      "source": [
        "a = input(\"> 1번째 숫자: \")\n",
        "b = input(\"> 2번째 숫자: \")\n",
        "print()\n",
        "print(\"{} + {} = {}\".format(a, b, int(a) + int(b)))"
      ],
      "metadata": {
        "colab": {
          "base_uri": "https://localhost:8080/"
        },
        "id": "MA8IvcRllYg0",
        "outputId": "8ffe3449-5b1d-4c37-d87e-2959008e7e40"
      },
      "execution_count": null,
      "outputs": [
        {
          "output_type": "stream",
          "name": "stdout",
          "text": [
            "> 1번째 숫자: 100\n",
            "> 2번째 숫자: 200\n",
            "\n",
            "100 + 200 = 300\n"
          ]
        }
      ]
    },
    {
      "cell_type": "code",
      "source": [
        "string = \"hello\"\n",
        "string.upper()\n",
        "print(\"A 지점:\", string)\n",
        "print(\"B 지점:\", string.upper())"
      ],
      "metadata": {
        "colab": {
          "base_uri": "https://localhost:8080/"
        },
        "id": "t7OOxL4Alr6m",
        "outputId": "841868ee-ebd0-464d-ec8d-87eb07bcb91f"
      },
      "execution_count": null,
      "outputs": [
        {
          "output_type": "stream",
          "name": "stdout",
          "text": [
            "A 지점: hello\n",
            "B 지점: HELLO\n"
          ]
        }
      ]
    }
  ]
}
