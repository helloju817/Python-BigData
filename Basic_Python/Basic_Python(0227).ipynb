{
  "nbformat": 4,
  "nbformat_minor": 0,
  "metadata": {
    "colab": {
      "provenance": [],
      "toc_visible": true
    },
    "kernelspec": {
      "name": "python3",
      "display_name": "Python 3"
    },
    "language_info": {
      "name": "python"
    }
  },
  "cells": [
    {
      "cell_type": "markdown",
      "source": [
        "### try, except, finally 구문의 조합"
      ],
      "metadata": {
        "id": "M6fIbRaHM5sG"
      }
    },
    {
      "cell_type": "code",
      "source": [
        "# try + except / try + finally 조합으로 사용해야 함\n",
        "# 그 이외 조합은 구문 오류 발생\n",
        "try:\n",
        "  number = input(\"원의 반지름을 입력하세요(단, 정수)>\")\n",
        "  pi = 3.14\n",
        "  number = int(number)\n",
        "  print(\"원의 반지름\", number)\n",
        "  print(\"원의 둘레\", 2*pi*number)\n",
        "  print(\"원의 넓이\", pi*number*number)\n",
        "else:\n",
        "  print(\"정수를 입력해주시겠어요?\")"
      ],
      "metadata": {
        "colab": {
          "base_uri": "https://localhost:8080/",
          "height": 110
        },
        "id": "lmBu8QfMM-kQ",
        "outputId": "58d3c687-dcfd-4d05-e7de-cb0783395b16"
      },
      "execution_count": null,
      "outputs": [
        {
          "output_type": "error",
          "ename": "SyntaxError",
          "evalue": "expected 'except' or 'finally' block (<ipython-input-1-60d37aca08c5>, line 10)",
          "traceback": [
            "\u001b[0;36m  File \u001b[0;32m\"<ipython-input-1-60d37aca08c5>\"\u001b[0;36m, line \u001b[0;32m10\u001b[0m\n\u001b[0;31m    else:\u001b[0m\n\u001b[0m    ^\u001b[0m\n\u001b[0;31mSyntaxError\u001b[0m\u001b[0;31m:\u001b[0m expected 'except' or 'finally' block\n"
          ]
        }
      ]
    },
    {
      "cell_type": "code",
      "source": [
        "# try ~ except ~ else ~ finally 구문\n",
        "# 정수 입력\n",
        "try: # 예외 발생할 수 있는 코드 입력\n",
        "  number = input(\"원의 반지름을 입력하세요(단, 정수)>\")\n",
        "  pi = 3.14\n",
        "  number = int(number)\n",
        "except: # 예외 발생할 때 처리할 코드\n",
        "  print(\"정수를 입력해주시겠어요?\")\n",
        "finally:\n",
        "  print(\"하여튼 프로그램이 정상적으로 종료되었어요\")\n",
        "else: # 예외 발생하지 않을 때 처리할 코드\n",
        "  print(\"원의 반지름\", number)\n",
        "  print(\"원의 둘레\", 2*pi*number)\n",
        "  print(\"원의 넓이\", pi*number*number)"
      ],
      "metadata": {
        "colab": {
          "base_uri": "https://localhost:8080/",
          "height": 110
        },
        "id": "VtCWgoCuYYs9",
        "outputId": "3bc995dd-3d2d-4546-adb4-441b45ad0ace"
      },
      "execution_count": null,
      "outputs": [
        {
          "output_type": "error",
          "ename": "SyntaxError",
          "evalue": "invalid syntax (<ipython-input-2-d6dd26f4e7d6>, line 11)",
          "traceback": [
            "\u001b[0;36m  File \u001b[0;32m\"<ipython-input-2-d6dd26f4e7d6>\"\u001b[0;36m, line \u001b[0;32m11\u001b[0m\n\u001b[0;31m    else: # 예외 발생하지 않을 때 처리할 코드\u001b[0m\n\u001b[0m    ^\u001b[0m\n\u001b[0;31mSyntaxError\u001b[0m\u001b[0;31m:\u001b[0m invalid syntax\n"
          ]
        }
      ]
    },
    {
      "cell_type": "markdown",
      "source": [
        "### 적절한 finally 구문 사용"
      ],
      "metadata": {
        "id": "_C6WMC-Q6VPJ"
      }
    },
    {
      "cell_type": "code",
      "source": [
        "# try ~ except\n",
        "try:\n",
        "    file = open(\"info.txt\", \"w\")\n",
        "    # 여러 작업 수행할 코드 입력\n",
        "    file.close()\n",
        "except:\n",
        "    print(\"오류 발생\")\n",
        "\n",
        "print(\"파일이 제대로 닫혔는지 확인\")\n",
        "print(\"file.closed:\", file.closed)\n",
        "# 예외 발생이 없으면 파일 닫힘"
      ],
      "metadata": {
        "colab": {
          "base_uri": "https://localhost:8080/"
        },
        "id": "PiUL2aMjjYd9",
        "outputId": "058cb296-eb1d-4d25-cf51-155785f9d3e9"
      },
      "execution_count": null,
      "outputs": [
        {
          "output_type": "stream",
          "name": "stdout",
          "text": [
            "파일이 제대로 닫혔는지 확인\n",
            "file.closed: True\n"
          ]
        }
      ]
    },
    {
      "cell_type": "code",
      "source": [
        "# try ~ except\n",
        "# closed() 함수 사용 과정에서 예외 발생하여 try 구문 중간에 나오는 경우\n",
        "try:\n",
        "    file = open(\"info.txt\", \"w\")\n",
        "    # 여러 작업 수행할 코드 입력\n",
        "    예외.발생해라() # 여기서 예외 발생, 그 뒤에 있는 명령어 실행되지 않음\n",
        "    file.close()\n",
        "except:\n",
        "    print(\"오류 발생\")\n",
        "\n",
        "print(\"파일이 제대로 닫혔는지 확인\")\n",
        "print(\"file.closed:\", file.closed)\n",
        "# 파일 닫기 전에 예외 발생이 되어 파일이 닫히지 않음\n",
        "# 그래서 많은 예제에서 finally 구문을 사용하여 파일 닫기 실행함"
      ],
      "metadata": {
        "colab": {
          "base_uri": "https://localhost:8080/"
        },
        "id": "EkxUG7VsQYiP",
        "outputId": "dfe44fca-d7d3-4f76-bc3c-24033bb93df9"
      },
      "execution_count": null,
      "outputs": [
        {
          "output_type": "stream",
          "name": "stdout",
          "text": [
            "오류 발생\n",
            "파일이 제대로 닫혔는지 확인\n",
            "file.closed: False\n"
          ]
        }
      ]
    },
    {
      "cell_type": "code",
      "source": [
        "# try ~ except ~ finally\n",
        "try:\n",
        "    file = open(\"info.txt\", \"w\")\n",
        "    # 여러 작업 수행할 코드 입력\n",
        "    예외.발생해라()\n",
        "except:\n",
        "    print(\"오류 발생\")\n",
        "finally:\n",
        "    file.close()\n",
        "\n",
        "print(\"파일이 제대로 닫혔는지 확인\")\n",
        "print(\"file.closed:\", file.closed)"
      ],
      "metadata": {
        "colab": {
          "base_uri": "https://localhost:8080/"
        },
        "id": "UdUlDtf96I_d",
        "outputId": "846c9837-947a-4812-8809-2f6bd1c895f1"
      },
      "execution_count": null,
      "outputs": [
        {
          "output_type": "stream",
          "name": "stdout",
          "text": [
            "오류 발생\n",
            "파일이 제대로 닫혔는지 확인\n",
            "file.closed: True\n"
          ]
        }
      ]
    },
    {
      "cell_type": "code",
      "source": [
        "# try ~ except\n",
        "try:\n",
        "    file = open(\"info.txt\", \"w\")\n",
        "    # 여러 작업 수행할 코드 입력\n",
        "    예외.발생해라()\n",
        "except:\n",
        "    print(\"오류 발생\")\n",
        "\n",
        "# 구문이 모두 끝나고, 파일 닫기 명령어를 실행해도 아무런 문제가 없음\n",
        "file.close()\n",
        "print(\"파일이 제대로 닫혔는지 확인\")\n",
        "print(\"file.closed:\", file.closed)"
      ],
      "metadata": {
        "colab": {
          "base_uri": "https://localhost:8080/"
        },
        "id": "LoNrSgs6lw2P",
        "outputId": "bf7b08f3-2af8-41e5-aa7c-64937ea18fa2"
      },
      "execution_count": null,
      "outputs": [
        {
          "output_type": "stream",
          "name": "stdout",
          "text": [
            "오류 발생\n",
            "파일이 제대로 닫혔는지 확인\n",
            "file.closed: True\n"
          ]
        }
      ]
    },
    {
      "cell_type": "markdown",
      "source": [
        "### 반복문이나 함수 내부에서 finally 구문을 사용"
      ],
      "metadata": {
        "id": "_xO6OHkLTSy9"
      }
    },
    {
      "cell_type": "markdown",
      "source": [
        "#### 함수 내부에서 return 키워드 사용"
      ],
      "metadata": {
        "id": "Asltk3tHWVrQ"
      }
    },
    {
      "cell_type": "code",
      "source": [
        "# try 구문 내부에서 return 키워드를 사용\n",
        "# test() 함수를 선언\n",
        "def test():\n",
        "    print(\"test() 함수의 첫 줄\")\n",
        "\n",
        "    try:\n",
        "        print(\"try 구문 실행\")\n",
        "        return # <== 여기까지 실행되어 탈출하고 finally 로 이동\n",
        "        print(\"try 구문의 return 키워드 뒤\")\n",
        "    except: # <== 예외가 발생해야 실행\n",
        "        print(\"except 구문 실행\")\n",
        "    else: # <== 예외가 발생하지 않으면 실행\n",
        "        print(\"else 구문 실행\")\n",
        "    finally:\n",
        "        print(\"finally 구문 실행\")\n",
        "\n",
        "    print(\"test() 함수의 마지막 줄\")\n",
        "\n",
        "# test() 함수 호출\n",
        "test()\n",
        "# return 으로 나오게 되더라도 finally 는 무조건 실행이 됨"
      ],
      "metadata": {
        "colab": {
          "base_uri": "https://localhost:8080/"
        },
        "id": "vofQHpCYTXfi",
        "outputId": "cb51f358-2be5-49b7-b195-e3223089e7ed"
      },
      "execution_count": null,
      "outputs": [
        {
          "output_type": "stream",
          "name": "stdout",
          "text": [
            "test() 함수의 첫 줄\n",
            "try 구문 실행\n",
            "finally 구문 실행\n"
          ]
        }
      ]
    },
    {
      "cell_type": "code",
      "source": [
        "# 함수 선언\n",
        "def write_text_file(filename, text):\n",
        "    try:\n",
        "        file = open(filename, \"w\")\n",
        "        # 여러 작업 수행할 코드 입력\n",
        "        return # <== 여기까지 실행되어 탈출하고 finally 로 이동\n",
        "        file.write(text)\n",
        "    except:\n",
        "        print(\"except 구문 실행\")\n",
        "    finally:\n",
        "        file.close()\n",
        "\n",
        "# 함수 호출\n",
        "write_text_file(\"test.txt\", \"안녕!\")\n",
        "\n",
        "print(\"파일이 제대로 닫혔는지 확인\")\n",
        "print(\"file.closed:\", file.closed)\n",
        "# 중간에 return 키워드로 함수를 빠져나올 때마다 파일 닫기하도록 코딩하면 복잡해짐\n",
        "# 이 때, finally 구문을 작성하면 코드가 간결해짐"
      ],
      "metadata": {
        "id": "kWGKAIwsTytw",
        "colab": {
          "base_uri": "https://localhost:8080/"
        },
        "outputId": "6a2e9a0b-eb7f-4bf4-ed71-d8bf9ac0256c"
      },
      "execution_count": null,
      "outputs": [
        {
          "output_type": "stream",
          "name": "stdout",
          "text": [
            "파일이 제대로 닫혔는지 확인\n",
            "file.closed: True\n"
          ]
        }
      ]
    },
    {
      "cell_type": "code",
      "source": [
        "# 함수 선언\n",
        "def write_text_file(filename, text):\n",
        "    try:\n",
        "        file = open(filename, \"w\")\n",
        "        # 여러 작업 수행할 코드 입력\n",
        "        예외.발생해라()\n",
        "        return # <== 여기까지 실행되어 탈출하고 finally 로 이동\n",
        "        file.write(text)\n",
        "    except:\n",
        "        print(\"except 구문 실행\")\n",
        "    # finally:\n",
        "    #     file.close()\n",
        "\n",
        "# 함수 호출\n",
        "write_text_file(\"test.txt\", \"안녕!\")\n",
        "\n",
        "print(\"파일이 제대로 닫혔는지 확인\")\n",
        "print(\"file.closed:\", file.closed)\n",
        "# 파일 닫기를 하지 않아도 return 키워드로 빠져나오면 파일이 무조건 닫힘\n",
        "# 파일 처리는 보통 with 문을 쓰는 것이 더 편함"
      ],
      "metadata": {
        "colab": {
          "base_uri": "https://localhost:8080/"
        },
        "id": "dYwwIwZXm1pf",
        "outputId": "029e0bbc-d650-4516-af0f-5a3fad8b7a9e"
      },
      "execution_count": null,
      "outputs": [
        {
          "output_type": "stream",
          "name": "stdout",
          "text": [
            "except 구문 실행\n",
            "파일이 제대로 닫혔는지 확인\n",
            "file.closed: True\n"
          ]
        }
      ]
    },
    {
      "cell_type": "code",
      "source": [
        "# 외부 자원이나 네트워크 등 접속을 해제해야 하는 이슈가 있을 때 많이 사용\n",
        "# 예) GPU 서버에서 데이터 분석을 돌려놓고 자리를 비운 사이에 에러가 발생하여도 접속 유지가 되는 경우\n",
        "# 작업 시작하는 함수\n",
        "def 데이터분석1():\n",
        "    try:\n",
        "        print(\"GPU 접속\")\n",
        "        # 여러 작업 수행할 코드 입력\n",
        "        print(\"작업 진행 중\")\n",
        "        return # <== 여기까지 실행되어 탈출하고 finally 로 이동\n",
        "    except:\n",
        "        print(\"예외 발생\")\n",
        "        # 예외 처리 코드 입력\n",
        "    finally:\n",
        "        print(\"접속 종료\")\n",
        "        # 접속해제 코드 입력"
      ],
      "metadata": {
        "id": "ihG0Os1QDMZ-"
      },
      "execution_count": null,
      "outputs": []
    },
    {
      "cell_type": "markdown",
      "source": [
        "#### 반복문과 함께 사용"
      ],
      "metadata": {
        "id": "fuE18SNXWaM1"
      }
    },
    {
      "cell_type": "code",
      "source": [
        "print(\"프로그램 시작\")\n",
        "\n",
        "while True:\n",
        "    try:\n",
        "        print(\"try 구문 실행\") # 실행\n",
        "        break # 반복을 그만두고, finally 로 이동\n",
        "        print(\"try 구문의 break 키워드 뒤\")\n",
        "    except:\n",
        "        print(\"except 구문 실행\")\n",
        "    finally:\n",
        "        print(\"finally 구문 실행\") # 실행\n",
        "    print(\"while 반복문의 마지막 줄\") # 루프를 돌아야 나오는 내용, 하지만 break 로 반복을 멈춤\n",
        "print(\"프로그램이 종료되었습니다.\") # 실행"
      ],
      "metadata": {
        "colab": {
          "base_uri": "https://localhost:8080/"
        },
        "id": "v7ukXtl9Wc1X",
        "outputId": "362b6103-7b24-4c6a-8f3d-07f208c8bccd"
      },
      "execution_count": null,
      "outputs": [
        {
          "output_type": "stream",
          "name": "stdout",
          "text": [
            "프로그램 시작\n",
            "try 구문 실행\n",
            "finally 구문 실행\n",
            "프로그램이 종료되었습니다.\n"
          ]
        }
      ]
    },
    {
      "cell_type": "markdown",
      "source": [
        "## 확인 문제"
      ],
      "metadata": {
        "id": "AxWLmirNY0O1"
      }
    },
    {
      "cell_type": "code",
      "source": [
        "# if else 사용\n",
        "numbers = [52, 273, 32, 103, 90, 10, 275]\n",
        "\n",
        "print(\"# (1) 요소 내부에 있는 값 찾기\")\n",
        "print(\"- {}는 {} 위치에 있습니다.\".format(52, numbers.index(52)))\n",
        "print()\n",
        "\n",
        "print(\"# (2) 요소 내부에 없는 값 찾기\")\n",
        "number = 10000\n",
        "if number in numbers:\n",
        "    print(\"- {}는 {} 위치에 있습니다.\".format(number, numbers.index(number)))\n",
        "else:\n",
        "    print(\"- 리스트 내부에 없는 값입니다.\")\n",
        "print()\n",
        "\n",
        "print(\"--- 정상적으로 종료되었습니다. ---\")"
      ],
      "metadata": {
        "colab": {
          "base_uri": "https://localhost:8080/"
        },
        "outputId": "127c20fa-0e6f-4f94-f0c7-e2ac092df19f",
        "id": "HofLlZ3oY0PM"
      },
      "execution_count": null,
      "outputs": [
        {
          "output_type": "stream",
          "name": "stdout",
          "text": [
            "# (1) 요소 내부에 있는 값 찾기\n",
            "- 52는 0 위치에 있습니다.\n",
            "\n",
            "# (2) 요소 내부에 없는 값 찾기\n",
            "- 리스트 내부에 없는 값입니다.\n",
            "\n",
            "--- 정상적으로 종료되었습니다. ---\n"
          ]
        }
      ]
    },
    {
      "cell_type": "code",
      "source": [
        "# try except 사용\n",
        "numbers = [52, 273, 32, 103, 90, 10, 275]\n",
        "\n",
        "print(\"# (1) 요소 내부에 있는 값 찾기\")\n",
        "print(\"- {}는 {} 위치에 있습니다.\".format(52, numbers.index(52)))\n",
        "print()\n",
        "\n",
        "print(\"# (2) 요소 내부에 없는 값 찾기\")\n",
        "number = 10000\n",
        "try:\n",
        "    print(\"- {}는 {} 위치에 있습니다.\".format(number, numbers.index(number)))\n",
        "except:\n",
        "    print(\"- 리스트 내부에 없는 값입니다.\")\n",
        "print()\n",
        "\n",
        "print(\"--- 정상적으로 종료되었습니다. ---\")"
      ],
      "metadata": {
        "colab": {
          "base_uri": "https://localhost:8080/"
        },
        "id": "3W042lkYn2l6",
        "outputId": "65b548b6-8eed-4481-f81f-92fd7547f5d5"
      },
      "execution_count": null,
      "outputs": [
        {
          "output_type": "stream",
          "name": "stdout",
          "text": [
            "# (1) 요소 내부에 있는 값 찾기\n",
            "- 52는 0 위치에 있습니다.\n",
            "\n",
            "# (2) 요소 내부에 없는 값 찾기\n",
            "- 리스트 내부에 없는 값입니다.\n",
            "\n",
            "--- 정상적으로 종료되었습니다. ---\n"
          ]
        }
      ]
    },
    {
      "cell_type": "code",
      "source": [
        "output = 10 + '개'"
      ],
      "metadata": {
        "colab": {
          "base_uri": "https://localhost:8080/",
          "height": 174
        },
        "id": "Z5mASKXLFNwh",
        "outputId": "f44c8ab0-0230-4f58-ae54-59694ea60525"
      },
      "execution_count": null,
      "outputs": [
        {
          "output_type": "error",
          "ename": "TypeError",
          "evalue": "ignored",
          "traceback": [
            "\u001b[0;31m---------------------------------------------------------------------------\u001b[0m",
            "\u001b[0;31mTypeError\u001b[0m                                 Traceback (most recent call last)",
            "\u001b[0;32m<ipython-input-17-7e0a96cdba01>\u001b[0m in \u001b[0;36m<module>\u001b[0;34m\u001b[0m\n\u001b[0;32m----> 1\u001b[0;31m \u001b[0moutput\u001b[0m \u001b[0;34m=\u001b[0m \u001b[0;36m10\u001b[0m \u001b[0;34m+\u001b[0m \u001b[0;34m'개'\u001b[0m\u001b[0;34m\u001b[0m\u001b[0;34m\u001b[0m\u001b[0m\n\u001b[0m",
            "\u001b[0;31mTypeError\u001b[0m: unsupported operand type(s) for +: 'int' and 'str'"
          ]
        }
      ]
    },
    {
      "cell_type": "code",
      "source": [
        "int(\"안녕하세요\")"
      ],
      "metadata": {
        "colab": {
          "base_uri": "https://localhost:8080/",
          "height": 174
        },
        "id": "Yi3DTUiGw_ji",
        "outputId": "8c3eaa28-4e6c-4988-e5ef-652de7bcc03a"
      },
      "execution_count": null,
      "outputs": [
        {
          "output_type": "error",
          "ename": "ValueError",
          "evalue": "ignored",
          "traceback": [
            "\u001b[0;31m---------------------------------------------------------------------------\u001b[0m",
            "\u001b[0;31mValueError\u001b[0m                                Traceback (most recent call last)",
            "\u001b[0;32m<ipython-input-18-b771e1eb05d9>\u001b[0m in \u001b[0;36m<module>\u001b[0;34m\u001b[0m\n\u001b[0;32m----> 1\u001b[0;31m \u001b[0mint\u001b[0m\u001b[0;34m(\u001b[0m\u001b[0;34m\"안녕하세요\"\u001b[0m\u001b[0;34m)\u001b[0m\u001b[0;34m\u001b[0m\u001b[0;34m\u001b[0m\u001b[0m\n\u001b[0m",
            "\u001b[0;31mValueError\u001b[0m: invalid literal for int() with base 10: '안녕하세요'"
          ]
        }
      ]
    },
    {
      "cell_type": "code",
      "source": [
        "cursor.close)"
      ],
      "metadata": {
        "colab": {
          "base_uri": "https://localhost:8080/",
          "height": 137
        },
        "id": "blp3a2l6xEJJ",
        "outputId": "b1ed2bd1-9e1e-4cc0-80c7-f21c91ea651c"
      },
      "execution_count": null,
      "outputs": [
        {
          "output_type": "error",
          "ename": "SyntaxError",
          "evalue": "ignored",
          "traceback": [
            "\u001b[0;36m  File \u001b[0;32m\"<ipython-input-19-796ccc054572>\"\u001b[0;36m, line \u001b[0;32m1\u001b[0m\n\u001b[0;31m    cursor.close)\u001b[0m\n\u001b[0m                ^\u001b[0m\n\u001b[0;31mSyntaxError\u001b[0m\u001b[0;31m:\u001b[0m unmatched ')'\n"
          ]
        }
      ]
    },
    {
      "cell_type": "code",
      "source": [
        "[1, 2, 3, 4, 5][10]"
      ],
      "metadata": {
        "colab": {
          "base_uri": "https://localhost:8080/",
          "height": 174
        },
        "id": "I65fC8k8xJYU",
        "outputId": "c4c9b70a-88ee-48bd-ea46-33e359ce96b1"
      },
      "execution_count": null,
      "outputs": [
        {
          "output_type": "error",
          "ename": "IndexError",
          "evalue": "ignored",
          "traceback": [
            "\u001b[0;31m---------------------------------------------------------------------------\u001b[0m",
            "\u001b[0;31mIndexError\u001b[0m                                Traceback (most recent call last)",
            "\u001b[0;32m<ipython-input-20-148e15e36939>\u001b[0m in \u001b[0;36m<module>\u001b[0;34m\u001b[0m\n\u001b[0;32m----> 1\u001b[0;31m \u001b[0;34m[\u001b[0m\u001b[0;36m1\u001b[0m\u001b[0;34m,\u001b[0m \u001b[0;36m2\u001b[0m\u001b[0;34m,\u001b[0m \u001b[0;36m3\u001b[0m\u001b[0;34m,\u001b[0m \u001b[0;36m4\u001b[0m\u001b[0;34m,\u001b[0m \u001b[0;36m5\u001b[0m\u001b[0;34m]\u001b[0m\u001b[0;34m[\u001b[0m\u001b[0;36m10\u001b[0m\u001b[0;34m]\u001b[0m\u001b[0;34m\u001b[0m\u001b[0;34m\u001b[0m\u001b[0m\n\u001b[0m",
            "\u001b[0;31mIndexError\u001b[0m: list index out of range"
          ]
        }
      ]
    },
    {
      "cell_type": "markdown",
      "source": [
        "# 예외객체"
      ],
      "metadata": {
        "id": "GlW8C7Qd7Xy3"
      }
    },
    {
      "cell_type": "code",
      "source": [
        "# 예외 정보를 저장하는 객체\n",
        "# 정수 입력\n",
        "try:\n",
        "  number = input(\"원의 반지름을 입력하세요(단, 정수)>\")\n",
        "  pi = 3.14\n",
        "  number = int(number)\n",
        "  print(\"원의 반지름\", number)\n",
        "  print(\"원의 둘레\", 2*pi*number)\n",
        "  print(\"원의 넓이\", pi*number*number)\n",
        "except Exception as exception: # 예외객체\n",
        "  print(\"예외 종류: \", type(exception))\n",
        "  print(\"예외 객체: \", exception)"
      ],
      "metadata": {
        "colab": {
          "base_uri": "https://localhost:8080/"
        },
        "id": "tOBRI1ey4kwc",
        "outputId": "29e32fa0-ac1c-46e5-9237-732fab6d307f"
      },
      "execution_count": null,
      "outputs": [
        {
          "output_type": "stream",
          "name": "stdout",
          "text": [
            "원의 반지름을 입력하세요(단, 정수)>5\n",
            "원의 반지름 5\n",
            "원의 둘레 31.400000000000002\n",
            "원의 넓이 78.5\n"
          ]
        }
      ]
    },
    {
      "cell_type": "code",
      "source": [
        "# 실수 입력\n",
        "try:\n",
        "  number = input(\"원의 반지름을 입력하세요(단, 정수)>\")\n",
        "  pi = 3.14\n",
        "  number = int(number)\n",
        "  print(\"원의 반지름\", number)\n",
        "  print(\"원의 둘레\", 2*pi*number)\n",
        "  print(\"원의 넓이\", pi*number*number)\n",
        "except Exception as exception: # 예외객체\n",
        "  print(\"예외 종류: \", type(exception))\n",
        "  print(\"예외 객체: \", exception)"
      ],
      "metadata": {
        "colab": {
          "base_uri": "https://localhost:8080/"
        },
        "id": "WtaQPLHkYPji",
        "outputId": "ab5839ff-6370-4e6f-cf46-ab955653faaf"
      },
      "execution_count": null,
      "outputs": [
        {
          "output_type": "stream",
          "name": "stdout",
          "text": [
            "원의 반지름을 입력하세요(단, 정수)>5.5\n",
            "예외 종류:  <class 'ValueError'>\n",
            "예외 객체:  invalid literal for int() with base 10: '5.5'\n"
          ]
        }
      ]
    },
    {
      "cell_type": "code",
      "source": [
        "# 문자 입력\n",
        "try:\n",
        "  number = input(\"원의 반지름을 입력하세요(단, 정수)>\")\n",
        "  pi = 3.14\n",
        "  number = int(number)\n",
        "  print(\"원의 반지름\", number)\n",
        "  print(\"원의 둘레\", 2*pi*number)\n",
        "  print(\"원의 넓이\", pi*number*number)\n",
        "except Exception as exception: # 예외객체\n",
        "  print(\"예외 종류: \", type(exception))\n",
        "  print(\"예외 객체: \", exception)"
      ],
      "metadata": {
        "colab": {
          "base_uri": "https://localhost:8080/"
        },
        "id": "O9t2ylizYSu0",
        "outputId": "b7c8ec2b-deb2-4880-877c-1833bacb773f"
      },
      "execution_count": null,
      "outputs": [
        {
          "output_type": "stream",
          "name": "stdout",
          "text": [
            "원의 반지름을 입력하세요(단, 정수)>5cm\n",
            "예외 종류:  <class 'ValueError'>\n",
            "예외 객체:  invalid literal for int() with base 10: '5cm'\n"
          ]
        }
      ]
    },
    {
      "cell_type": "markdown",
      "source": [
        "## 예외구분"
      ],
      "metadata": {
        "id": "ldigjPx_AA44"
      }
    },
    {
      "cell_type": "code",
      "source": [
        "# 정상 실행 = 아무 예외 상황 없음\n",
        "# 정수 4 입력\n",
        "a = [1,2,3,4,5] # 0 ~ 4\n",
        "try:\n",
        "  number = int(input(\"정수를 입력하세요> \"))\n",
        "  print(\"{} 번째 요소는 {}입니다.\".format(number, a[number]))\n",
        "except Exception as exception: # 예외객체\n",
        "  print(\"예외 종류: \", type(exception))\n",
        "  print(\"예외 객체: \", exception)"
      ],
      "metadata": {
        "colab": {
          "base_uri": "https://localhost:8080/"
        },
        "id": "rDvT0SkccfPI",
        "outputId": "65c0cd80-228b-41e2-fe25-eb0969409f05"
      },
      "execution_count": null,
      "outputs": [
        {
          "output_type": "stream",
          "name": "stdout",
          "text": [
            "정수를 입력하세요> 4\n",
            "4 번째 요소는 5입니다.\n"
          ]
        }
      ]
    },
    {
      "cell_type": "code",
      "source": [
        "# 여러가지 예외 상황 (2가지)\n",
        "# 1 번째 예외 상황: 정수가 아닌 문자열 입력 (4번째라고 입력)\n",
        "a = [1,2,3,4,5] # 0 ~ 4\n",
        "try:\n",
        "  number = int(input(\"정수를 입력하세요> \"))\n",
        "  print(\"{} 번째 요소는 {}입니다.\".format(number, a[number]))\n",
        "except Exception as exception: # 예외객체\n",
        "  print(\"예외 종류: \", type(exception))\n",
        "  print(\"예외 객체: \", exception)"
      ],
      "metadata": {
        "colab": {
          "base_uri": "https://localhost:8080/"
        },
        "id": "0br3J96d8Gx_",
        "outputId": "672842a0-35fb-40b9-ae96-2f3e56039649"
      },
      "execution_count": null,
      "outputs": [
        {
          "output_type": "stream",
          "name": "stdout",
          "text": [
            "정수를 입력하세요> 4번째\n",
            "예외 종류:  <class 'ValueError'>\n",
            "예외 객체:  invalid literal for int() with base 10: '4번째'\n"
          ]
        }
      ]
    },
    {
      "cell_type": "code",
      "source": [
        "# 2 번째 예외 상황: 인덱스에 없는 정수 번호를 입력한 경우 (10 입력)\n",
        "a = [1,2,3,4,5] # 0 ~ 4\n",
        "try:\n",
        "  number = int(input(\"정수를 입력하세요> \"))\n",
        "  print(\"{} 번째 요소는 {}입니다.\".format(number, a[number]))\n",
        "except Exception as exception: # 예외객체\n",
        "  print(\"예외 종류: \", type(exception))\n",
        "  print(\"예외 객체: \", exception)"
      ],
      "metadata": {
        "colab": {
          "base_uri": "https://localhost:8080/"
        },
        "id": "iQIju-wzZjyw",
        "outputId": "088b8ef9-164c-470d-88de-2a55ee4360c0"
      },
      "execution_count": null,
      "outputs": [
        {
          "output_type": "stream",
          "name": "stdout",
          "text": [
            "정수를 입력하세요> 10\n",
            "예외 종류:  <class 'IndexError'>\n",
            "예외 객체:  list index out of range\n"
          ]
        }
      ]
    },
    {
      "cell_type": "code",
      "source": [
        "# 예외 구분\n",
        "# 1 번째 예외 상황: 정수가 아닌 문자열 입력 (4번째라고 입력)\n",
        "a = [1,2,3,4,5] # 0 ~ 4\n",
        "try:\n",
        "  number = int(input(\"정수를 입력하세요> \"))\n",
        "  print(\"{} 번째 요소는 {}입니다.\".format(number, a[number]))\n",
        "except ValueError: # 1 번째 예외 상황: 정수가 아닌 문자열 입력 (4번째라고 입력)\n",
        "  print(\"정수를 입력주시겠어요?\")\n",
        "except IndexError: # 2 번째 예외 상황: 인덱스에 없는 정수 번호를 입력한 경우 (10 입력)\n",
        "  print(\"정수를 잘 입력하셨지만 인덱스 범위에 있는 정수를 입력해주세요\")"
      ],
      "metadata": {
        "colab": {
          "base_uri": "https://localhost:8080/"
        },
        "id": "DpPBceq1-oFw",
        "outputId": "5b9021a6-0361-4fc9-8759-286b5502479d"
      },
      "execution_count": null,
      "outputs": [
        {
          "output_type": "stream",
          "name": "stdout",
          "text": [
            "정수를 입력하세요> 4번째\n",
            "정수를 입력주시겠어요?\n"
          ]
        }
      ]
    },
    {
      "cell_type": "code",
      "source": [
        "# 2 번째 예외 상황: 인덱스에 없는 정수 번호를 입력한 경우 (10 입력)\n",
        "a = [1,2,3,4,5] # 0 ~ 4\n",
        "try:\n",
        "  number = int(input(\"정수를 입력하세요> \"))\n",
        "  print(\"{} 번째 요소는 {}입니다.\".format(number, a[number]))\n",
        "except ValueError: # 1 번째 예외 상황: 정수가 아닌 문자열 입력 (4번째라고 입력)\n",
        "  print(\"정수를 입력주시겠어요?\")\n",
        "except IndexError: # 2 번째 예외 상황: 인덱스에 없는 정수 번호를 입력한 경우 (10 입력)\n",
        "  print(\"정수를 잘 입력하셨지만 인덱스 범위에 있는 정수를 입력해주세요\")\n",
        "# 하지만 try 구문에서 코드를 계속 입력한다고 가정\n",
        "# 어떤 예외가 발생할지 모름 = 대처가 안됨"
      ],
      "metadata": {
        "colab": {
          "base_uri": "https://localhost:8080/"
        },
        "id": "hU80CLhVbf1I",
        "outputId": "0d172a2b-59c8-4bee-8498-3b963d57f502"
      },
      "execution_count": null,
      "outputs": [
        {
          "output_type": "stream",
          "name": "stdout",
          "text": [
            "정수를 입력하세요> 10\n",
            "정수를 잘 입력하셨지만 인덱스 범위에 있는 정수를 입력해주세요\n"
          ]
        }
      ]
    },
    {
      "cell_type": "code",
      "source": [
        "# 3번째 예외상황\n",
        "# 예외 조건에 일치하는 것이 없다면 당연히 예외가 발생하며 프로그램이 강제 종료\n",
        "# 3 번째 예외 상황: 식별자에 없는 이름 사용 (4 입력)\n",
        "a = [1,2,3,4,5] # 0 ~ 4\n",
        "try:\n",
        "  number = int(input(\"정수를 입력하세요> \"))\n",
        "  print(\"{} 번째 요소는 {}입니다.\".format(number, a[number]))\n",
        "  예외발생해라()\n",
        "except ValueError: # 1 번째 예외 상황: 정수가 아닌 문자열 입력 (4번째라고 입력)\n",
        "  print(\"정수를 입력주시겠어요?\")\n",
        "except IndexError: # 2 번째 예외 상황: 인덱스에 없는 정수 번호를 입력한 경우 (10 입력)\n",
        "  print(\"정수를 잘 입력하셨지만 인덱스 범위에 있는 정수를 입력해주세요\")"
      ],
      "metadata": {
        "colab": {
          "base_uri": "https://localhost:8080/",
          "height": 294
        },
        "id": "WsCV3XDFFj0x",
        "outputId": "6ec477de-426f-4142-bb41-0ec038fbd7c3"
      },
      "execution_count": null,
      "outputs": [
        {
          "output_type": "stream",
          "name": "stdout",
          "text": [
            "정수를 입력하세요> 4\n",
            "4 번째 요소는 5입니다.\n"
          ]
        },
        {
          "output_type": "error",
          "ename": "NameError",
          "evalue": "name '예외발생해라' is not defined",
          "traceback": [
            "\u001b[0;31m---------------------------------------------------------------------------\u001b[0m",
            "\u001b[0;31mNameError\u001b[0m                                 Traceback (most recent call last)",
            "\u001b[0;32m<ipython-input-68-22fb57e10ff8>\u001b[0m in \u001b[0;36m<cell line: 4>\u001b[0;34m()\u001b[0m\n\u001b[1;32m      6\u001b[0m   \u001b[0mprint\u001b[0m\u001b[0;34m(\u001b[0m\u001b[0;34m\"{} 번째 요소는 {}입니다.\"\u001b[0m\u001b[0;34m.\u001b[0m\u001b[0mformat\u001b[0m\u001b[0;34m(\u001b[0m\u001b[0mnumber\u001b[0m\u001b[0;34m,\u001b[0m \u001b[0ma\u001b[0m\u001b[0;34m[\u001b[0m\u001b[0mnumber\u001b[0m\u001b[0;34m]\u001b[0m\u001b[0;34m)\u001b[0m\u001b[0;34m)\u001b[0m\u001b[0;34m\u001b[0m\u001b[0;34m\u001b[0m\u001b[0m\n\u001b[1;32m      7\u001b[0m   \u001b[0;31m# 3 번째 예외 상황: 식별자에 없는 이름 사용 (3 입력)\u001b[0m\u001b[0;34m\u001b[0m\u001b[0;34m\u001b[0m\u001b[0m\n\u001b[0;32m----> 8\u001b[0;31m   \u001b[0m예외발생해라\u001b[0m\u001b[0;34m(\u001b[0m\u001b[0;34m)\u001b[0m\u001b[0;34m\u001b[0m\u001b[0;34m\u001b[0m\u001b[0m\n\u001b[0m\u001b[1;32m      9\u001b[0m \u001b[0;32mexcept\u001b[0m \u001b[0mValueError\u001b[0m\u001b[0;34m:\u001b[0m\u001b[0;34m\u001b[0m\u001b[0;34m\u001b[0m\u001b[0m\n\u001b[1;32m     10\u001b[0m   \u001b[0mprint\u001b[0m\u001b[0;34m(\u001b[0m\u001b[0;34m\"정수를 입력주시겠어요?\"\u001b[0m\u001b[0;34m)\u001b[0m\u001b[0;34m\u001b[0m\u001b[0;34m\u001b[0m\u001b[0m\n",
            "\u001b[0;31mNameError\u001b[0m: name '예외발생해라' is not defined"
          ]
        }
      ]
    },
    {
      "cell_type": "code",
      "source": [
        "# 예상할 수 없는 예외도 대처\n",
        "# 정수 4 입력\n",
        "a = [1,2,3,4,5] # 0 ~ 4\n",
        "try:\n",
        "  number = int(input(\"정수를 입력하세요> \"))\n",
        "  print(\"{} 번째 요소는 {}입니다.\".format(number, a[number]))\n",
        "  예외발생해라()\n",
        "except ValueError as exception: # 1 번째 예외 상황: 정수가 아닌 문자열 입력 (4번째라고 입력)\n",
        "  print(\"정수를 입력주시겠어요?\")\n",
        "  print(\"예외 객체: \", exception)\n",
        "except IndexError as exception: # 2 번째 예외 상황: 인덱스에 없는 정수 번호를 입력한 경우 (10 입력)\n",
        "  print(\"정수를 잘 입력하셨지만 인덱스 범위에 있는 정수를 입력해주세요\")\n",
        "  print(\"예외 객체: \", exception)\n",
        "except Exception as exception: # 3 번째 예외 상황: 식별자에 없는 이름 사용 (4 입력)\n",
        "  print(\"예외 종류: \", type(exception))\n",
        "  print(\"예외 객체: \", exception)"
      ],
      "metadata": {
        "colab": {
          "base_uri": "https://localhost:8080/"
        },
        "id": "5OdSw-65Af8o",
        "outputId": "950a6b8b-3a4a-40b8-f90a-6fcb28a517de"
      },
      "execution_count": null,
      "outputs": [
        {
          "output_type": "stream",
          "name": "stdout",
          "text": [
            "정수를 입력하세요> 4\n",
            "4 번째 요소는 5입니다.\n",
            "예외 종류:  <class 'NameError'>\n",
            "예외 객체:  name '예외발생해라' is not defined\n"
          ]
        }
      ]
    },
    {
      "cell_type": "markdown",
      "source": [
        "## raise"
      ],
      "metadata": {
        "id": "1Ye1RKmCkzUX"
      }
    },
    {
      "cell_type": "code",
      "source": [
        "# 예외 강제 발생\n",
        "# 정수 4 입력\n",
        "a = [1,2,3,4,5] # 0 ~ 4\n",
        "try:\n",
        "  number = int(input(\"정수를 입력하세요> \"))\n",
        "  print(\"{} 번째 요소는 {}입니다.\".format(number, a[number]))\n",
        "  예외발생해라()\n",
        "except ValueError as exception: # 1 번째 예외 상황: 정수가 아닌 문자열 입력 (4번째라고 입력)\n",
        "  print(\"정수를 입력주시겠어요?\")\n",
        "  print(\"예외 객체: \", exception)\n",
        "except IndexError as exception: # 2 번째 예외 상황: 인덱스에 없는 정수 번호를 입력한 경우 (10 입력)\n",
        "  print(\"정수를 잘 입력하셨지만 인덱스 범위에 있는 정수를 입력해주세요\")\n",
        "  print(\"예외 객체: \", exception)\n",
        "except Exception as exception: # 3 번째 예외 상황: 식별자에 없는 이름 사용 (4 입력)\n",
        "  print(\"예외 종류: \", type(exception))\n",
        "  print(\"예외 객체: \", exception)\n",
        "  raise NotImplementedError"
      ],
      "metadata": {
        "colab": {
          "base_uri": "https://localhost:8080/",
          "height": 478
        },
        "id": "jnqCqHo-k11y",
        "outputId": "30bdfa74-cd3b-4918-86b3-e2cdcd38e49c"
      },
      "execution_count": null,
      "outputs": [
        {
          "output_type": "stream",
          "name": "stdout",
          "text": [
            "정수를 입력하세요> 4\n",
            "4 번째 요소는 5입니다.\n",
            "예외 종류:  <class 'NameError'>\n",
            "예외 객체:  name '예외발생해라' is not defined\n"
          ]
        },
        {
          "output_type": "error",
          "ename": "NotImplementedError",
          "evalue": "",
          "traceback": [
            "\u001b[0;31m---------------------------------------------------------------------------\u001b[0m",
            "\u001b[0;31mNameError\u001b[0m                                 Traceback (most recent call last)",
            "\u001b[0;32m<ipython-input-73-b28d9ff58aad>\u001b[0m in \u001b[0;36m<cell line: 4>\u001b[0;34m()\u001b[0m\n\u001b[1;32m      6\u001b[0m   \u001b[0mprint\u001b[0m\u001b[0;34m(\u001b[0m\u001b[0;34m\"{} 번째 요소는 {}입니다.\"\u001b[0m\u001b[0;34m.\u001b[0m\u001b[0mformat\u001b[0m\u001b[0;34m(\u001b[0m\u001b[0mnumber\u001b[0m\u001b[0;34m,\u001b[0m \u001b[0ma\u001b[0m\u001b[0;34m[\u001b[0m\u001b[0mnumber\u001b[0m\u001b[0;34m]\u001b[0m\u001b[0;34m)\u001b[0m\u001b[0;34m)\u001b[0m\u001b[0;34m\u001b[0m\u001b[0;34m\u001b[0m\u001b[0m\n\u001b[0;32m----> 7\u001b[0;31m   \u001b[0m예외발생해라\u001b[0m\u001b[0;34m(\u001b[0m\u001b[0;34m)\u001b[0m\u001b[0;34m\u001b[0m\u001b[0;34m\u001b[0m\u001b[0m\n\u001b[0m\u001b[1;32m      8\u001b[0m \u001b[0;32mexcept\u001b[0m \u001b[0mValueError\u001b[0m \u001b[0;32mas\u001b[0m \u001b[0mexception\u001b[0m\u001b[0;34m:\u001b[0m \u001b[0;31m# 1 번째 예외 상황: 정수가 아닌 문자열 입력 (4번째라고 입력)\u001b[0m\u001b[0;34m\u001b[0m\u001b[0;34m\u001b[0m\u001b[0m\n",
            "\u001b[0;31mNameError\u001b[0m: name '예외발생해라' is not defined",
            "\nDuring handling of the above exception, another exception occurred:\n",
            "\u001b[0;31mNotImplementedError\u001b[0m                       Traceback (most recent call last)",
            "\u001b[0;32m<ipython-input-73-b28d9ff58aad>\u001b[0m in \u001b[0;36m<cell line: 4>\u001b[0;34m()\u001b[0m\n\u001b[1;32m     15\u001b[0m   \u001b[0mprint\u001b[0m\u001b[0;34m(\u001b[0m\u001b[0;34m\"예외 종류: \"\u001b[0m\u001b[0;34m,\u001b[0m \u001b[0mtype\u001b[0m\u001b[0;34m(\u001b[0m\u001b[0mexception\u001b[0m\u001b[0;34m)\u001b[0m\u001b[0;34m)\u001b[0m\u001b[0;34m\u001b[0m\u001b[0;34m\u001b[0m\u001b[0m\n\u001b[1;32m     16\u001b[0m   \u001b[0mprint\u001b[0m\u001b[0;34m(\u001b[0m\u001b[0;34m\"예외 객체: \"\u001b[0m\u001b[0;34m,\u001b[0m \u001b[0mexception\u001b[0m\u001b[0;34m)\u001b[0m\u001b[0;34m\u001b[0m\u001b[0;34m\u001b[0m\u001b[0m\n\u001b[0;32m---> 17\u001b[0;31m   \u001b[0;32mraise\u001b[0m \u001b[0mNotImplementedError\u001b[0m\u001b[0;34m\u001b[0m\u001b[0;34m\u001b[0m\u001b[0m\n\u001b[0m",
            "\u001b[0;31mNotImplementedError\u001b[0m: "
          ]
        }
      ]
    },
    {
      "cell_type": "markdown",
      "source": [
        "# 모듈"
      ],
      "metadata": {
        "id": "juIJfrZDJOI_"
      }
    },
    {
      "cell_type": "markdown",
      "source": [
        "## 표준모듈"
      ],
      "metadata": {
        "id": "m5aJq-8gJRff"
      }
    },
    {
      "cell_type": "markdown",
      "source": [
        "### math"
      ],
      "metadata": {
        "id": "OVDh7dka0zJ3"
      }
    },
    {
      "cell_type": "code",
      "source": [
        "# 표준모듈 = 내장 모듈\n",
        "# 수학적 기능\n",
        "import math"
      ],
      "metadata": {
        "id": "6WpONTi6JTrX"
      },
      "execution_count": null,
      "outputs": []
    },
    {
      "cell_type": "code",
      "source": [
        "# 자동 완성\n",
        "math."
      ],
      "metadata": {
        "id": "pH5-f2bMvolM"
      },
      "execution_count": null,
      "outputs": []
    },
    {
      "cell_type": "code",
      "source": [
        "math.sin(1)"
      ],
      "metadata": {
        "colab": {
          "base_uri": "https://localhost:8080/"
        },
        "id": "UzS6spAOJdkH",
        "outputId": "8d825b1c-2a32-4f85-9856-5769a55edf29"
      },
      "execution_count": null,
      "outputs": [
        {
          "output_type": "execute_result",
          "data": {
            "text/plain": [
              "0.8414709848078965"
            ]
          },
          "metadata": {},
          "execution_count": 10
        }
      ]
    },
    {
      "cell_type": "code",
      "source": [
        "math.cos(1)"
      ],
      "metadata": {
        "id": "I1VolU6TJiFL",
        "colab": {
          "base_uri": "https://localhost:8080/"
        },
        "outputId": "b740ad0c-7d35-4f73-b04b-688be99948d5"
      },
      "execution_count": null,
      "outputs": [
        {
          "output_type": "execute_result",
          "data": {
            "text/plain": [
              "0.5403023058681398"
            ]
          },
          "metadata": {},
          "execution_count": 11
        }
      ]
    },
    {
      "cell_type": "code",
      "source": [
        "math.tan(1)"
      ],
      "metadata": {
        "id": "AVTpXtVqJlb3",
        "colab": {
          "base_uri": "https://localhost:8080/"
        },
        "outputId": "5bcb5555-d646-4aca-d7b8-5e9682ec0700"
      },
      "execution_count": null,
      "outputs": [
        {
          "output_type": "execute_result",
          "data": {
            "text/plain": [
              "1.5574077246549023"
            ]
          },
          "metadata": {},
          "execution_count": 12
        }
      ]
    },
    {
      "cell_type": "code",
      "source": [
        "math.floor(3.14) # 가까운 작은 정수"
      ],
      "metadata": {
        "id": "5peuwAVFJnmh",
        "colab": {
          "base_uri": "https://localhost:8080/"
        },
        "outputId": "3d198f69-527d-4c43-ae9d-f4d20e2cbf8f"
      },
      "execution_count": null,
      "outputs": [
        {
          "output_type": "execute_result",
          "data": {
            "text/plain": [
              "3"
            ]
          },
          "metadata": {},
          "execution_count": 13
        }
      ]
    },
    {
      "cell_type": "code",
      "source": [
        "math.ceil(3.14) # 가까운 큰 정수"
      ],
      "metadata": {
        "id": "5o5xcUBBJu8H",
        "colab": {
          "base_uri": "https://localhost:8080/"
        },
        "outputId": "c6729f9d-8b78-4d82-d568-0ee0e282a025"
      },
      "execution_count": null,
      "outputs": [
        {
          "output_type": "execute_result",
          "data": {
            "text/plain": [
              "4"
            ]
          },
          "metadata": {},
          "execution_count": 14
        }
      ]
    },
    {
      "cell_type": "code",
      "source": [
        "# 모듈 이름을 약칭(별칭)으로 사용\n",
        "import math as m\n",
        "print(m.sin(1))\n",
        "print(m.cos(1))\n",
        "print(m.tan(1))\n",
        "print(m.floor(3.14))\n",
        "print(m.ceil(3.14))"
      ],
      "metadata": {
        "colab": {
          "base_uri": "https://localhost:8080/"
        },
        "id": "2i47SHBUJ527",
        "outputId": "db69c68d-e79c-4f30-e99a-46a61c949d1c"
      },
      "execution_count": null,
      "outputs": [
        {
          "output_type": "stream",
          "name": "stdout",
          "text": [
            "0.8414709848078965\n",
            "0.5403023058681398\n",
            "1.5574077246549023\n",
            "3\n",
            "4\n"
          ]
        }
      ]
    },
    {
      "cell_type": "code",
      "source": [
        "# 모듈 함수 이름 바로 사용\n",
        "from math import sin, cos, tan, floor, ceil\n",
        "print(sin(1))\n",
        "print(cos(1))\n",
        "print(tan(1))\n",
        "print(floor(3.14))\n",
        "print(ceil(3.14))"
      ],
      "metadata": {
        "colab": {
          "base_uri": "https://localhost:8080/"
        },
        "id": "YPgzxBpGKjNa",
        "outputId": "45abfecf-aba2-43af-fa30-3dfe2dc34abe"
      },
      "execution_count": null,
      "outputs": [
        {
          "output_type": "stream",
          "name": "stdout",
          "text": [
            "0.8414709848078965\n",
            "0.5403023058681398\n",
            "1.5574077246549023\n",
            "3\n",
            "4\n"
          ]
        }
      ]
    },
    {
      "cell_type": "code",
      "source": [
        "from math import *\n",
        "print(sin(1))\n",
        "print(cos(1))\n",
        "print(tan(1))\n",
        "print(floor(3.14))\n",
        "print(ceil(3.14))"
      ],
      "metadata": {
        "colab": {
          "base_uri": "https://localhost:8080/"
        },
        "id": "63XO9g7Q1KZu",
        "outputId": "c54c05b4-7b92-41aa-d50b-fc95ab1d00dc"
      },
      "execution_count": null,
      "outputs": [
        {
          "output_type": "stream",
          "name": "stdout",
          "text": [
            "0.8414709848078965\n",
            "0.5403023058681398\n",
            "1.5574077246549023\n",
            "3\n",
            "4\n"
          ]
        }
      ]
    },
    {
      "cell_type": "markdown",
      "source": [
        "### random"
      ],
      "metadata": {
        "id": "h5G_iL5Y03vE"
      }
    },
    {
      "cell_type": "code",
      "source": [
        "# 랜덤 기능 = 다양한 분포에 대한 난수 생성기\n",
        "import random"
      ],
      "metadata": {
        "id": "GZijTza9LY1Q"
      },
      "execution_count": null,
      "outputs": []
    },
    {
      "cell_type": "code",
      "source": [
        "random.random() # 0 과 1 사이의 실수"
      ],
      "metadata": {
        "id": "qcr7k2CJLrAK",
        "colab": {
          "base_uri": "https://localhost:8080/"
        },
        "outputId": "bac1d909-3b2d-4c9c-c6c2-f12980428721"
      },
      "execution_count": null,
      "outputs": [
        {
          "output_type": "execute_result",
          "data": {
            "text/plain": [
              "0.10411235894855075"
            ]
          },
          "metadata": {},
          "execution_count": 21
        }
      ]
    },
    {
      "cell_type": "code",
      "source": [
        "random.uniform(10,20) # 범위에 있는 실수"
      ],
      "metadata": {
        "id": "x6GEdGcdNIvT",
        "colab": {
          "base_uri": "https://localhost:8080/"
        },
        "outputId": "65989c57-c131-479d-d487-c13cd6651a2a"
      },
      "execution_count": null,
      "outputs": [
        {
          "output_type": "execute_result",
          "data": {
            "text/plain": [
              "10.21078089361969"
            ]
          },
          "metadata": {},
          "execution_count": 22
        }
      ]
    },
    {
      "cell_type": "code",
      "source": [
        "random.randrange(130,210) # 범위에 있는 정수"
      ],
      "metadata": {
        "id": "dNCATVfXNUCq",
        "colab": {
          "base_uri": "https://localhost:8080/"
        },
        "outputId": "1f6170c8-91d4-439f-efc9-67ad8cb11d57"
      },
      "execution_count": null,
      "outputs": [
        {
          "output_type": "execute_result",
          "data": {
            "text/plain": [
              "133"
            ]
          },
          "metadata": {},
          "execution_count": 23
        }
      ]
    },
    {
      "cell_type": "code",
      "source": [
        "random.randrange(10) # 범위에 있는 정수 & 시작 번호 생략"
      ],
      "metadata": {
        "id": "ffsjDJcsNfJ0",
        "colab": {
          "base_uri": "https://localhost:8080/"
        },
        "outputId": "4f33d2d0-aaea-439d-d918-30149cd4c08a"
      },
      "execution_count": null,
      "outputs": [
        {
          "output_type": "execute_result",
          "data": {
            "text/plain": [
              "2"
            ]
          },
          "metadata": {},
          "execution_count": 24
        }
      ]
    },
    {
      "cell_type": "code",
      "source": [
        "random.choice([1,2,3,4,5]) # 랜덤 선택, 임의의 요소 반환"
      ],
      "metadata": {
        "id": "URNnrRNaNtsh",
        "colab": {
          "base_uri": "https://localhost:8080/"
        },
        "outputId": "647464e7-3116-48b5-8ca5-997b5629742c"
      },
      "execution_count": null,
      "outputs": [
        {
          "output_type": "execute_result",
          "data": {
            "text/plain": [
              "5"
            ]
          },
          "metadata": {},
          "execution_count": 25
        }
      ]
    },
    {
      "cell_type": "code",
      "source": [
        "a = [1,2,3,4,5]\n",
        "print(random.shuffle(a)) # 제자리에서 섞음 & 원본 변경함\n",
        "print(a)"
      ],
      "metadata": {
        "id": "1eaF9saoN_LS",
        "colab": {
          "base_uri": "https://localhost:8080/"
        },
        "outputId": "bb7ccdd3-ec2f-47a0-f9e9-bc953febd4b3"
      },
      "execution_count": null,
      "outputs": [
        {
          "output_type": "stream",
          "name": "stdout",
          "text": [
            "None\n",
            "[3, 4, 5, 1, 2]\n"
          ]
        }
      ]
    },
    {
      "cell_type": "code",
      "source": [
        "a = [1,2,3,4,5]\n",
        "print(random.sample(a, k=5)) # 제자리에서 섞음 & 원본 변경 안함 & 5 개 선택\n",
        "print(a)"
      ],
      "metadata": {
        "colab": {
          "base_uri": "https://localhost:8080/"
        },
        "outputId": "3fa69595-ed2d-4d80-f372-4ed5f8eb0f82",
        "id": "17I6teUuRPAM"
      },
      "execution_count": null,
      "outputs": [
        {
          "output_type": "stream",
          "name": "stdout",
          "text": [
            "[5, 2, 1, 3, 4]\n",
            "[1, 2, 3, 4, 5]\n"
          ]
        }
      ]
    },
    {
      "cell_type": "code",
      "source": [
        "random.sample(a, k = 2)"
      ],
      "metadata": {
        "colab": {
          "base_uri": "https://localhost:8080/"
        },
        "outputId": "05d3fd23-4e36-4e88-b577-e40904f689a6",
        "id": "W8kmaGMeRPAN"
      },
      "execution_count": null,
      "outputs": [
        {
          "output_type": "execute_result",
          "data": {
            "text/plain": [
              "[3, 5]"
            ]
          },
          "metadata": {},
          "execution_count": 13
        }
      ]
    },
    {
      "cell_type": "markdown",
      "source": [
        "### sys"
      ],
      "metadata": {
        "id": "EFBL6ZSt2GRp"
      }
    },
    {
      "cell_type": "code",
      "source": [
        "# 시스템 기능\n",
        "import sys"
      ],
      "metadata": {
        "id": "-D9B9cClOlwY"
      },
      "execution_count": null,
      "outputs": []
    },
    {
      "cell_type": "code",
      "source": [
        "# 파이썬 관련 매개 변수\n",
        "sys.argv"
      ],
      "metadata": {
        "colab": {
          "base_uri": "https://localhost:8080/"
        },
        "id": "LRhqwZsKPQAX",
        "outputId": "d18c197c-3b98-406a-dee1-a7a53d4c2d65"
      },
      "execution_count": null,
      "outputs": [
        {
          "output_type": "execute_result",
          "data": {
            "text/plain": [
              "['/usr/local/lib/python3.10/dist-packages/colab_kernel_launcher.py',\n",
              " '-f',\n",
              " '/root/.local/share/jupyter/runtime/kernel-6b11500f-9a93-428b-ac69-d51b749e8dce.json']"
            ]
          },
          "metadata": {},
          "execution_count": 30
        }
      ]
    },
    {
      "cell_type": "code",
      "source": [
        "# 카피라이트\n",
        "sys.copyright"
      ],
      "metadata": {
        "colab": {
          "base_uri": "https://localhost:8080/",
          "height": 54
        },
        "id": "JsFDATqRPWto",
        "outputId": "97513d0f-c0ea-4593-c123-ab4577b4d1da"
      },
      "execution_count": null,
      "outputs": [
        {
          "output_type": "execute_result",
          "data": {
            "text/plain": [
              "'Copyright (c) 2001-2023 Python Software Foundation.\\nAll Rights Reserved.\\n\\nCopyright (c) 2000 BeOpen.com.\\nAll Rights Reserved.\\n\\nCopyright (c) 1995-2001 Corporation for National Research Initiatives.\\nAll Rights Reserved.\\n\\nCopyright (c) 1991-1995 Stichting Mathematisch Centrum, Amsterdam.\\nAll Rights Reserved.'"
            ],
            "application/vnd.google.colaboratory.intrinsic+json": {
              "type": "string"
            }
          },
          "metadata": {},
          "execution_count": 31
        }
      ]
    },
    {
      "cell_type": "code",
      "source": [
        "# 버전\n",
        "sys.version"
      ],
      "metadata": {
        "colab": {
          "base_uri": "https://localhost:8080/",
          "height": 35
        },
        "id": "QLMULrM_Pe1U",
        "outputId": "08a3abfe-ff81-427f-82e3-a88f4927ae75"
      },
      "execution_count": null,
      "outputs": [
        {
          "output_type": "execute_result",
          "data": {
            "text/plain": [
              "'3.10.12 (main, Nov 20 2023, 15:14:05) [GCC 11.4.0]'"
            ],
            "application/vnd.google.colaboratory.intrinsic+json": {
              "type": "string"
            }
          },
          "metadata": {},
          "execution_count": 32
        }
      ]
    },
    {
      "cell_type": "markdown",
      "source": [
        "### os"
      ],
      "metadata": {
        "id": "arrjT_sr2acm"
      }
    },
    {
      "cell_type": "code",
      "source": [
        "# 운영체제 관련 기능\n",
        "import os"
      ],
      "metadata": {
        "id": "DTS3uWeUPpun"
      },
      "execution_count": null,
      "outputs": []
    },
    {
      "cell_type": "code",
      "source": [
        "# os 이름\n",
        "os.name"
      ],
      "metadata": {
        "id": "XyW1-0WZTnDJ",
        "colab": {
          "base_uri": "https://localhost:8080/",
          "height": 35
        },
        "outputId": "01022948-a72b-42f3-81ad-f2b84908b022"
      },
      "execution_count": null,
      "outputs": [
        {
          "output_type": "execute_result",
          "data": {
            "text/plain": [
              "'posix'"
            ],
            "application/vnd.google.colaboratory.intrinsic+json": {
              "type": "string"
            }
          },
          "metadata": {},
          "execution_count": 34
        }
      ]
    },
    {
      "cell_type": "code",
      "source": [
        "# 현재 작업 폴더\n",
        "os.getcwd()"
      ],
      "metadata": {
        "id": "5nuiAS3LTrBq",
        "colab": {
          "base_uri": "https://localhost:8080/",
          "height": 35
        },
        "outputId": "20054494-5d49-444e-ef2d-7d3bce5f9ff2"
      },
      "execution_count": null,
      "outputs": [
        {
          "output_type": "execute_result",
          "data": {
            "text/plain": [
              "'/content'"
            ],
            "application/vnd.google.colaboratory.intrinsic+json": {
              "type": "string"
            }
          },
          "metadata": {},
          "execution_count": 35
        }
      ]
    },
    {
      "cell_type": "code",
      "source": [
        "# 현재 작업 폴더의 내용을 리스트로 반환\n",
        "os.listdir()"
      ],
      "metadata": {
        "id": "CCGOZWj3T3A6",
        "colab": {
          "base_uri": "https://localhost:8080/"
        },
        "outputId": "f011290b-f9c8-4454-d324-20947b3722f8"
      },
      "execution_count": null,
      "outputs": [
        {
          "output_type": "execute_result",
          "data": {
            "text/plain": [
              "['.config', 'test.txt', 'info.txt', 'sample_data']"
            ]
          },
          "metadata": {},
          "execution_count": 36
        }
      ]
    },
    {
      "cell_type": "code",
      "source": [
        "# 폴더 만들기\n",
        "os.mkdir(\"hello\")"
      ],
      "metadata": {
        "id": "2l3sjEZiUJp8"
      },
      "execution_count": null,
      "outputs": []
    },
    {
      "cell_type": "code",
      "source": [
        "# 폴더 지우기\n",
        "os.rmdir(\"hello\")"
      ],
      "metadata": {
        "id": "XnyjTnSIUiJ0"
      },
      "execution_count": null,
      "outputs": []
    },
    {
      "cell_type": "code",
      "source": [
        "# 파일 새로 만들어 열기\n",
        "with open(\"test.txt\", \"w\") as file:\n",
        " file.write(\"이제 파이썬 끝나간다\")\n",
        "\n",
        "# 파일 이름 변경\n",
        "os.rename(\"test.txt\", \"new.txt\")"
      ],
      "metadata": {
        "id": "mFe_mhOwU4Tb"
      },
      "execution_count": null,
      "outputs": []
    },
    {
      "cell_type": "code",
      "source": [
        "# 파일 지우기\n",
        "os.remove(\"new.txt\")"
      ],
      "metadata": {
        "id": "HCwGiGojVXtT"
      },
      "execution_count": null,
      "outputs": []
    },
    {
      "cell_type": "markdown",
      "source": [
        "### datetime, time"
      ],
      "metadata": {
        "id": "wKv1G82W2pRk"
      }
    },
    {
      "cell_type": "code",
      "source": [
        "# 날짜 시간 관련 기능\n",
        "import datetime"
      ],
      "metadata": {
        "id": "S5J4amF1Vl5t"
      },
      "execution_count": null,
      "outputs": []
    },
    {
      "cell_type": "code",
      "source": [
        "# 현재 날짜 시간\n",
        "now = datetime.datetime.now()\n",
        "print(now.year)\n",
        "print(now.month)\n",
        "print(now.day)\n",
        "print(now.hour)\n",
        "print(now.minute)\n",
        "print(now.second)"
      ],
      "metadata": {
        "id": "mv43lAUBWQXT",
        "colab": {
          "base_uri": "https://localhost:8080/"
        },
        "outputId": "12f181e9-c54c-40dd-82e9-4f35f7425447"
      },
      "execution_count": null,
      "outputs": [
        {
          "output_type": "stream",
          "name": "stdout",
          "text": [
            "2024\n",
            "2\n",
            "27\n",
            "2\n",
            "10\n",
            "58\n"
          ]
        }
      ]
    },
    {
      "cell_type": "code",
      "source": [
        "# 시간 관련 기능\n",
        "import time"
      ],
      "metadata": {
        "id": "9AeQLEmkWpoI"
      },
      "execution_count": null,
      "outputs": []
    },
    {
      "cell_type": "code",
      "source": [
        "print(\"지금부터 3초동안 꼼짝마\")\n",
        "time.sleep(3) # 3초 동안 잠깐 멈춤\n",
        "print(\"얼음 땡\")"
      ],
      "metadata": {
        "id": "_5BpqrsqW2Rx",
        "colab": {
          "base_uri": "https://localhost:8080/"
        },
        "outputId": "147643be-1bd1-4d82-8b96-23f6c2b630a5"
      },
      "execution_count": null,
      "outputs": [
        {
          "output_type": "stream",
          "name": "stdout",
          "text": [
            "지금부터 3초동안 꼼짝마\n",
            "얼음 땡\n"
          ]
        }
      ]
    },
    {
      "cell_type": "markdown",
      "source": [
        "### urllib"
      ],
      "metadata": {
        "id": "Xskl2jD-217I"
      }
    },
    {
      "cell_type": "code",
      "source": [
        "# url 관련 기능\n",
        "from urllib import request"
      ],
      "metadata": {
        "id": "oi8mgRWfXK4w"
      },
      "execution_count": null,
      "outputs": []
    },
    {
      "cell_type": "code",
      "source": [
        "# url 요청하여 내용 가져오기\n",
        "url_target = request.urlopen(\"https://www.google.com/\")\n",
        "output = url_target.read()\n",
        "print(output)"
      ],
      "metadata": {
        "colab": {
          "base_uri": "https://localhost:8080/"
        },
        "id": "6O_De7rYXbjS",
        "outputId": "e6c23c71-fbd2-4980-bd74-93faea8f189e"
      },
      "execution_count": null,
      "outputs": [
        {
          "output_type": "stream",
          "name": "stdout",
          "text": [
            "b'<!doctype html><html itemscope=\"\" itemtype=\"http://schema.org/WebPage\" lang=\"nl\"><head><meta content=\"text/html; charset=UTF-8\" http-equiv=\"Content-Type\"><meta content=\"/images/branding/googleg/1x/googleg_standard_color_128dp.png\" itemprop=\"image\"><title>Google</title><script nonce=\"pPIfFuT9yLBa2RF599v4VQ\">(function(){var _g={kEI:\\'tkTdZa3FA9vli-gPm-KLyAQ\\',kEXPI:\\'0,18167,1342952,4349,206,4804,1132070,1963,1195735,703,362,302199,77528,44799,23792,12311,2823,14765,4998,53293,2226,2872,2891,3926,213,8221,30668,30022,2614,13491,230,20583,4,59617,27047,6627,7596,1,42154,2,39761,6700,31122,4567,6256,24673,57695,2006,8155,23351,22435,9779,42459,20198,73179,3030,15816,356,1448,7762,6598,6651,1826,12156,12089,1634,13493,5246064,6942,2,296,1809,181,5991469,1210,410,2806256,32265,9,7443186,13275883,7264126,16673,43886,3,1603,3,2121778,2585,22636437,392914,12799,8409,16094,2,568,13023,4427,10577,5878,19038,11954,1923,660,6627,3671,4832,1575,9770,691,56,3328,5521,7432,2212,153,8028,390,4314,3,3210,218,3,363,795,203,3746,4501,5,7464,1901,1877,1456,884,463,879,2351,10136,122,777,371,952,252,2938,583,24,282,81,4,1063,34,3127,466,2064,1213,5094,5538,359,297,291,11,1259,3,538,72,423,182,2646,321,913,391,156,205,141,1413,5,719,6,230,186,387,697,698,622,18,2,2,2,928,325,233,65,587,50,464,4,1050,1474,259,8,268,383,685,37,4,379,220,1938,420,10,725,139,176,85,537,169,38,2612,30,273,51,2192,443,370,434,325,8,82,230,14,4594,5,258,1137,973,371,320,4,90,62,320,276,392,690,4,59,12,207,534,321,179,716,4,94,164,103,160,98,110,89,133,522,381,657,240,664,998,2035,21321652,365636,3,5572,490,50\\',kBL:\\'5yRt\\',kOPI:89978449};(function(){var a;(null==(a=window.google)?0:a.stvsc)?google.kEI=_g.kEI:window.google=_g;}).call(this);})();(function(){google.sn=\\'webhp\\';google.kHL=\\'nl\\';})();(function(){\\nvar h=this||self;function l(){return void 0!==window.google&&void 0!==window.google.kOPI&&0!==window.google.kOPI?window.google.kOPI:null};var m,n=[];function p(a){for(var b;a&&(!a.getAttribute||!(b=a.getAttribute(\"eid\")));)a=a.parentNode;return b||m}function q(a){for(var b=null;a&&(!a.getAttribute||!(b=a.getAttribute(\"leid\")));)a=a.parentNode;return b}function r(a){/^http:/i.test(a)&&\"https:\"===window.location.protocol&&(google.ml&&google.ml(Error(\"a\"),!1,{src:a,glmm:1}),a=\"\");return a}\\nfunction t(a,b,c,d,k){var e=\"\";-1===b.search(\"&ei=\")&&(e=\"&ei=\"+p(d),-1===b.search(\"&lei=\")&&(d=q(d))&&(e+=\"&lei=\"+d));d=\"\";var g=-1===b.search(\"&cshid=\")&&\"slh\"!==a,f=[];f.push([\"zx\",Date.now().toString()]);h._cshid&&g&&f.push([\"cshid\",h._cshid]);c=c();null!=c&&f.push([\"opi\",c.toString()]);for(c=0;c<f.length;c++){if(0===c||0<c)d+=\"&\";d+=f[c][0]+\"=\"+f[c][1]}return\"/\"+(k||\"gen_204\")+\"?atyp=i&ct=\"+String(a)+\"&cad=\"+(b+e+d)};m=google.kEI;google.getEI=p;google.getLEI=q;google.ml=function(){return null};google.log=function(a,b,c,d,k,e){e=void 0===e?l:e;c||(c=t(a,b,e,d,k));if(c=r(c)){a=new Image;var g=n.length;n[g]=a;a.onerror=a.onload=a.onabort=function(){delete n[g]};a.src=c}};google.logUrl=function(a,b){b=void 0===b?l:b;return t(\"\",a,b)};}).call(this);(function(){google.y={};google.sy=[];google.x=function(a,b){if(a)var c=a.id;else{do c=Math.random();while(google.y[c])}google.y[c]=[a,b];return!1};google.sx=function(a){google.sy.push(a)};google.lm=[];google.plm=function(a){google.lm.push.apply(google.lm,a)};google.lq=[];google.load=function(a,b,c){google.lq.push([[a],b,c])};google.loadAll=function(a,b){google.lq.push([a,b])};google.bx=!1;google.lx=function(){};var d=[];google.fce=function(a,b,c,e){d.push([a,b,c,e])};google.qce=d;}).call(this);google.f={};(function(){\\ndocument.documentElement.addEventListener(\"submit\",function(b){var a;if(a=b.target){var c=a.getAttribute(\"data-submitfalse\");a=\"1\"===c||\"q\"===c&&!a.elements.q.value?!0:!1}else a=!1;a&&(b.preventDefault(),b.stopPropagation())},!0);document.documentElement.addEventListener(\"click\",function(b){var a;a:{for(a=b.target;a&&a!==document.documentElement;a=a.parentElement)if(\"A\"===a.tagName){a=\"1\"===a.getAttribute(\"data-nohref\");break a}a=!1}a&&b.preventDefault()},!0);}).call(this);</script><style>#gbar,#guser{font-size:13px;padding-top:1px !important;}#gbar{height:22px}#guser{padding-bottom:7px !important;text-align:right}.gbh,.gbd{border-top:1px solid #c9d7f1;font-size:1px}.gbh{height:0;position:absolute;top:24px;width:100%}@media all{.gb1{height:22px;margin-right:.5em;vertical-align:top}#gbar{float:left}}a.gb1,a.gb4{text-decoration:underline !important}a.gb1,a.gb4{color:#00c !important}.gbi .gb4{color:#dd8e27 !important}.gbf .gb4{color:#900 !important}\\n</style><style>body,td,a,p,.h{font-family:arial,sans-serif}body{margin:0;overflow-y:scroll}#gog{padding:3px 8px 0}td{line-height:.8em}.gac_m td{line-height:17px}form{margin-bottom:20px}.h{color:#1967d2}em{font-weight:bold;font-style:normal}.lst{height:25px;width:496px}.gsfi,.lst{font:18px arial,sans-serif}.gsfs{font:17px arial,sans-serif}.ds{display:inline-box;display:inline-block;margin:3px 0 4px;margin-left:4px}input{font-family:inherit}body{background:#fff;color:#000}a{color:#681da8;text-decoration:none}a:hover,a:active{text-decoration:underline}.fl a{color:#1967d2}a:visited{color:#681da8}.sblc{padding-top:5px}.sblc a{display:block;margin:2px 0;margin-left:13px;font-size:11px}.lsbb{background:#f8f9fa;border:solid 1px;border-color:#dadce0 #70757a #70757a #dadce0;height:30px}.lsbb{display:block}#WqQANb a{display:inline-block;margin:0 12px}.lsb{background:url(/images/nav_logo229.png) 0 -261px repeat-x;color:#000;border:none;cursor:pointer;height:30px;margin:0;outline:0;font:15px arial,sans-serif;vertical-align:top}.lsb:active{background:#dadce0}.lst:focus{outline:none}</style><script nonce=\"pPIfFuT9yLBa2RF599v4VQ\">(function(){window.google.erd={jsr:1,bv:1962,de:true};\\nvar h=this||self;var k,l=null!=(k=h.mei)?k:1,n,p=null!=(n=h.sdo)?n:!0,q=0,r,t=google.erd,v=t.jsr;google.ml=function(a,b,d,m,e){e=void 0===e?2:e;b&&(r=a&&a.message);void 0===d&&(d={});d.cad=\"ple_\"+google.ple+\".aple_\"+google.aple;if(google.dl)return google.dl(a,e,d),null;b=d;if(0>v){window.console&&console.error(a,b);if(-2===v)throw a;b=!1}else b=!a||!a.message||\"Error loading script\"===a.message||q>=l&&!m?!1:!0;if(!b)return null;q++;d=d||{};b=encodeURIComponent;var c=\"/gen_204?atyp=i&ei=\"+b(google.kEI);google.kEXPI&&(c+=\"&jexpid=\"+b(google.kEXPI));c+=\"&srcpg=\"+b(google.sn)+\"&jsr=\"+b(t.jsr)+\"&bver=\"+\\nb(t.bv);var f=a.lineNumber;void 0!==f&&(c+=\"&line=\"+f);var g=a.fileName;g&&(0<g.indexOf(\"-extension:/\")&&(e=3),c+=\"&script=\"+b(g),f&&g===window.location.href&&(f=document.documentElement.outerHTML.split(\"\\\\n\")[f],c+=\"&cad=\"+b(f?f.substring(0,300):\"No script found.\")));google.ple&&1===google.ple&&(e=2);c+=\"&jsel=\"+e;for(var u in d)c+=\"&\",c+=b(u),c+=\"=\",c+=b(d[u]);c=c+\"&emsg=\"+b(a.name+\": \"+a.message);c=c+\"&jsst=\"+b(a.stack||\"N/A\");12288<=c.length&&(c=c.substr(0,12288));a=c;m||google.log(0,\"\",a);return a};window.onerror=function(a,b,d,m,e){r!==a&&(a=e instanceof Error?e:Error(a),void 0===d||\"lineNumber\"in a||(a.lineNumber=d),void 0===b||\"fileName\"in a||(a.fileName=b),google.ml(a,!1,void 0,!1,\"SyntaxError\"===a.name||\"SyntaxError\"===a.message.substring(0,11)||-1!==a.message.indexOf(\"Script error\")?3:0));r=null;p&&q>=l&&(window.onerror=null)};})();</script></head><body bgcolor=\"#fff\"><script nonce=\"pPIfFuT9yLBa2RF599v4VQ\">(function(){var src=\\'/images/nav_logo229.png\\';var iesg=false;document.body.onload = function(){window.n && window.n();if (document.images){new Image().src=src;}\\nif (!iesg){document.f&&document.f.q.focus();document.gbqf&&document.gbqf.q.focus();}\\n}\\n})();</script><div id=\"mngb\"><div id=gbar><nobr><b class=gb1>Zoeken</b> <a class=gb1 href=\"https://www.google.com/imghp?hl=nl&tab=wi\">Afbeeldingen</a> <a class=gb1 href=\"https://maps.google.nl/maps?hl=nl&tab=wl\">Maps</a> <a class=gb1 href=\"https://play.google.com/?hl=nl&tab=w8\">Play</a> <a class=gb1 href=\"https://www.youtube.com/?tab=w1\">YouTube</a> <a class=gb1 href=\"https://news.google.com/?tab=wn\">Nieuws</a> <a class=gb1 href=\"https://mail.google.com/mail/?tab=wm\">Gmail</a> <a class=gb1 href=\"https://drive.google.com/?tab=wo\">Drive</a> <a class=gb1 style=\"text-decoration:none\" href=\"https://www.google.nl/intl/nl/about/products?tab=wh\"><u>Meer</u> &raquo;</a></nobr></div><div id=guser width=100%><nobr><span id=gbn class=gbi></span><span id=gbf class=gbf></span><span id=gbe></span><a href=\"http://www.google.nl/history/optout?hl=nl\" class=gb4>Webgeschiedenis</a> | <a  href=\"/preferences?hl=nl\" class=gb4>Instellingen</a> | <a target=_top id=gb_70 href=\"https://accounts.google.com/ServiceLogin?hl=nl&passive=true&continue=https://www.google.com/&ec=GAZAAQ\" class=gb4>Inloggen</a></nobr></div><div class=gbh style=left:0></div><div class=gbh style=right:0></div></div><center><br clear=\"all\" id=\"lgpd\"><div id=\"lga\"><img alt=\"Google\" height=\"92\" src=\"/images/branding/googlelogo/1x/googlelogo_white_background_color_272x92dp.png\" style=\"padding:28px 0 14px\" width=\"272\" id=\"hplogo\"><br><br></div><form action=\"/search\" name=\"f\"><table cellpadding=\"0\" cellspacing=\"0\"><tr valign=\"top\"><td width=\"25%\">&nbsp;</td><td align=\"center\" nowrap=\"\"><input name=\"ie\" value=\"ISO-8859-1\" type=\"hidden\"><input value=\"nl\" name=\"hl\" type=\"hidden\"><input name=\"source\" type=\"hidden\" value=\"hp\"><input name=\"biw\" type=\"hidden\"><input name=\"bih\" type=\"hidden\"><div class=\"ds\" style=\"height:32px;margin:4px 0\"><input class=\"lst\" style=\"margin:0;padding:5px 8px 0 6px;vertical-align:top;color:#000\" autocomplete=\"off\" value=\"\" title=\"Google Zoeken\" maxlength=\"2048\" name=\"q\" size=\"57\"></div><br style=\"line-height:0\"><span class=\"ds\"><span class=\"lsbb\"><input class=\"lsb\" value=\"Google Zoeken\" name=\"btnG\" type=\"submit\"></span></span><span class=\"ds\"><span class=\"lsbb\"><input class=\"lsb\" id=\"tsuid_1\" value=\"Ik doe een gok\" name=\"btnI\" type=\"submit\"><script nonce=\"pPIfFuT9yLBa2RF599v4VQ\">(function(){var id=\\'tsuid_1\\';document.getElementById(id).onclick = function(){if (this.form.q.value){this.checked = 1;if (this.form.iflsig)this.form.iflsig.disabled = false;}\\nelse top.location=\\'/doodles/\\';};})();</script><input value=\"ANes7DEAAAAAZd1Sxg3leyOr3CuMX9JqRXxMS8BRRYlI\" name=\"iflsig\" type=\"hidden\"></span></span></td><td class=\"fl sblc\" align=\"left\" nowrap=\"\" width=\"25%\"><a href=\"/advanced_search?hl=nl&amp;authuser=0\">Geavanceerd zoeken</a></td></tr></table><input id=\"gbv\" name=\"gbv\" type=\"hidden\" value=\"1\"><script nonce=\"pPIfFuT9yLBa2RF599v4VQ\">(function(){var a,b=\"1\";if(document&&document.getElementById)if(\"undefined\"!=typeof XMLHttpRequest)b=\"2\";else if(\"undefined\"!=typeof ActiveXObject){var c,d,e=[\"MSXML2.XMLHTTP.6.0\",\"MSXML2.XMLHTTP.3.0\",\"MSXML2.XMLHTTP\",\"Microsoft.XMLHTTP\"];for(c=0;d=e[c++];)try{new ActiveXObject(d),b=\"2\"}catch(h){}}a=b;if(\"2\"==a&&-1==location.search.indexOf(\"&gbv=2\")){var f=google.gbvu,g=document.getElementById(\"gbv\");g&&(g.value=a);f&&window.setTimeout(function(){location.href=f},0)};}).call(this);</script></form><div id=\"gac_scont\"></div><div style=\"font-size:83%;min-height:3.5em\"><br><div id=\"gws-output-pages-elements-homepage_additional_languages__als\"><style>#gws-output-pages-elements-homepage_additional_languages__als{font-size:small;margin-bottom:24px}#SIvCob{color:#3c4043;display:inline-block;line-height:28px;}#SIvCob a{padding:0 3px;}.H6sW5{display:inline-block;margin:0 2px;white-space:nowrap}.z4hgWe{display:inline-block;margin:0 2px}</style><div id=\"SIvCob\">Google aangeboden in:  <a href=\"https://www.google.com/setprefs?sig=0_ec6YSCjzAlnyVqeMw6BOt3YcJe4%3D&amp;hl=fy&amp;source=homepage&amp;sa=X&amp;ved=0ahUKEwit-MvNuMqEAxXb8gIHHRvxAkkQ2ZgBCAU\">Frysk</a>  </div></div></div><span id=\"footer\"><div style=\"font-size:10pt\"><div style=\"margin:19px auto;text-align:center\" id=\"WqQANb\"><a href=\"/intl/nl/ads/\">Adverteren</a><a href=\"http://www.google.nl/intl/nl/services/\">Bedrijfsoplossingen</a><a href=\"/intl/nl/about.html\">Alles over Google</a><a href=\"https://www.google.com/setprefdomain?prefdom=NL&amp;prev=https://www.google.nl/&amp;sig=K__vmrn8k3E7w9LdNLLkIXG31L7SA%3D\">Google.nl</a></div></div><p style=\"font-size:8pt;color:#70757a\">&copy; 2024 - <a href=\"/intl/nl/policies/privacy/\">Privacy</a> - <a href=\"/intl/nl/policies/terms/\">Voorwaarden</a></p></span></center><script nonce=\"pPIfFuT9yLBa2RF599v4VQ\">(function(){window.google.cdo={height:757,width:1440};(function(){var a=window.innerWidth,b=window.innerHeight;if(!a||!b){var c=window.document,d=\"CSS1Compat\"==c.compatMode?c.documentElement:c.body;a=d.clientWidth;b=d.clientHeight}\\nif(a&&b&&(a!=google.cdo.width||b!=google.cdo.height)){var e=google,f=e.log,g=\"/client_204?&atyp=i&biw=\"+a+\"&bih=\"+b+\"&ei=\"+google.kEI,h=\"\",k=[],l=void 0!==window.google&&void 0!==window.google.kOPI&&0!==window.google.kOPI?window.google.kOPI:null;null!=l&&k.push([\"opi\",l.toString()]);for(var m=0;m<k.length;m++){if(0===m||0<m)h+=\"&\";h+=k[m][0]+\"=\"+k[m][1]}f.call(e,\"\",\"\",g+h)};}).call(this);})();</script> <script nonce=\"pPIfFuT9yLBa2RF599v4VQ\">(function(){google.xjs={ck:\\'xjs.hp.gr4Nt7XBPGQ.L.X.O\\',combam:\\'AAAAAAAAAAAAAAAAAAAAAAAAAIAAAAAAAAAcAABAABAAAABgAAAAAAAAACAAOIiOAGAAjgAAwAs\\',cs:\\'ACT90oEGMTxCQFRK04DTcW_EDkL6eVLeHA\\',cssam:\\'AAAAAAAAAAAAAAAAAAAAAAAAAAAAAAAAAAAAAABAABAAAAAAAAAAAAAAACA\\',cssopt:true,csss:\\'ACT90oGTQjn3dclIF00tylto5OrPSWa_fg\\',excm:[],jsam:\\'AAAAAAAAAAAAAAAAAAAAAAAAAIAAAAAAAAAcAAAAAAAAAABgAAAAAAAAAAAAOIiOAGAAjgAAwAs\\',jss:\\'ACT90oEQpbF__p6RL1pShIgxdk2K8H1-VA\\',noinlinecss:false,sepam:true,sepcss:true};})();</script>     <script nonce=\"pPIfFuT9yLBa2RF599v4VQ\">(function(){var u=\\'/xjs/_/js/k\\\\x3dxjs.hp.en.vGqgwM9YaZs.O/am\\\\x3dAAAAAAAAAAAAAAAAAAAAAAAAAIAAAAAAAAAcAABAABAAAABgAAAAAAAAACAAOIiOAGAAjgAAwAs/d\\\\x3d1/ed\\\\x3d1/rs\\\\x3dACT90oHqn9BPHjXOJSIIfU2p1C0OadcF_A/m\\\\x3dsb_he,d\\';var amd=0;\\nvar e=this||self,f=function(a){return a};var g;var h=function(a){this.g=a};h.prototype.toString=function(){return this.g+\"\"};var k={};var l=function(){var a=document;var b=\"SCRIPT\";\"application/xhtml+xml\"===a.contentType&&(b=b.toLowerCase());return a.createElement(b)};\\nfunction m(a,b){a.src=b instanceof h&&b.constructor===h?b.g:\"type_error:TrustedResourceUrl\";var c,d;(c=(b=null==(d=(c=(a.ownerDocument&&a.ownerDocument.defaultView||window).document).querySelector)?void 0:d.call(c,\"script[nonce]\"))?b.nonce||b.getAttribute(\"nonce\")||\"\":\"\")&&a.setAttribute(\"nonce\",c)};function n(a){a=null===a?\"null\":void 0===a?\"undefined\":a;if(void 0===g){var b=null;var c=e.trustedTypes;if(c&&c.createPolicy){try{b=c.createPolicy(\"goog#html\",{createHTML:f,createScript:f,createScriptURL:f})}catch(d){e.console&&e.console.error(d.message)}g=b}else g=b}a=(b=g)?b.createScriptURL(a):a;return new h(a,k)};void 0===google.ps&&(google.ps=[]);function p(){var a=u,b=function(){};google.lx=google.stvsc?b:function(){q(a);google.lx=b};google.bx||google.lx()}function r(a,b){b&&m(a,n(b));var c=a.onload;a.onload=function(d){c&&c(d);google.ps=google.ps.filter(function(t){return a!==t})};google.ps.push(a);document.body.appendChild(a)}google.as=r;function q(a){google.timers&&google.timers.load&&google.tick&&google.tick(\"load\",\"xjsls\");var b=l();b.onerror=function(){google.ple=1};b.onload=function(){google.ple=0};google.xjsus=void 0;r(b,a);google.aple=-1;google.psa=!0};google.xjsu=u;e._F_jsUrl=u;setTimeout(function(){0<amd?google.caft(function(){return p()},amd):p()},0);})();window._ = window._ || {};window._DumpException = _._DumpException = function(e){throw e;};window._s = window._s || {};_s._DumpException = _._DumpException;window._qs = window._qs || {};_qs._DumpException = _._DumpException;(function(){var t=[1,0,0,0,0,640,0,268436487,528384,33652736,16777216,655360,9340984,37257600,12320768];window._F_toggles = window._xjs_toggles = t;})();function _F_installCss(c){}\\n(function(){google.jl={bfl:0,blt:\\'none\\',chnk:0,dw:false,dwu:true,emtn:0,end:0,ico:false,ikb:0,ine:false,injs:\\'none\\',injt:0,injth:0,injv2:false,lls:\\'default\\',pdt:0,rep:0,snet:true,strt:0,ubm:false,uwp:true};})();(function(){var pmc=\\'{\\\\x22d\\\\x22:{},\\\\x22sb_he\\\\x22:{\\\\x22agen\\\\x22:false,\\\\x22cgen\\\\x22:false,\\\\x22client\\\\x22:\\\\x22heirloom-hp\\\\x22,\\\\x22dh\\\\x22:true,\\\\x22ds\\\\x22:\\\\x22\\\\x22,\\\\x22fl\\\\x22:true,\\\\x22host\\\\x22:\\\\x22google.com\\\\x22,\\\\x22jsonp\\\\x22:true,\\\\x22msgs\\\\x22:{\\\\x22cibl\\\\x22:\\\\x22Zoekopdracht wissen\\\\x22,\\\\x22dym\\\\x22:\\\\x22Bedoelde je:\\\\x22,\\\\x22lcky\\\\x22:\\\\x22Ik doe een gok\\\\x22,\\\\x22lml\\\\x22:\\\\x22Meer informatie\\\\x22,\\\\x22psrc\\\\x22:\\\\x22Deze zoekopdracht is verwijderd uit je \\\\\\\\u003Ca href\\\\x3d\\\\\\\\\\\\x22/history\\\\\\\\\\\\x22\\\\\\\\u003EWebgeschiedenis\\\\\\\\u003C/a\\\\\\\\u003E\\\\x22,\\\\x22psrl\\\\x22:\\\\x22Verwijderen\\\\x22,\\\\x22sbit\\\\x22:\\\\x22Zoeken op afbeelding\\\\x22,\\\\x22srch\\\\x22:\\\\x22Google Zoeken\\\\x22},\\\\x22ovr\\\\x22:{},\\\\x22pq\\\\x22:\\\\x22\\\\x22,\\\\x22rfs\\\\x22:[],\\\\x22sbas\\\\x22:\\\\x220 3px 8px 0 rgba(0,0,0,0.2),0 0 0 1px rgba(0,0,0,0.08)\\\\x22,\\\\x22stok\\\\x22:\\\\x22MgU-ikz08POBf3hQUxLRPIDM6UY\\\\x22}}\\';google.pmc=JSON.parse(pmc);})();(function(){var b=function(a){var c=0;return function(){return c<a.length?{done:!1,value:a[c++]}:{done:!0}}};\\nvar e=this||self;var g,h;a:{for(var k=[\"CLOSURE_FLAGS\"],l=e,n=0;n<k.length;n++)if(l=l[k[n]],null==l){h=null;break a}h=l}var p=h&&h[610401301];g=null!=p?p:!1;var q,r=e.navigator;q=r?r.userAgentData||null:null;function t(a){return g?q?q.brands.some(function(c){return(c=c.brand)&&-1!=c.indexOf(a)}):!1:!1}function u(a){var c;a:{if(c=e.navigator)if(c=c.userAgent)break a;c=\"\"}return-1!=c.indexOf(a)};function v(){return g?!!q&&0<q.brands.length:!1}function w(){return u(\"Safari\")&&!(x()||(v()?0:u(\"Coast\"))||(v()?0:u(\"Opera\"))||(v()?0:u(\"Edge\"))||(v()?t(\"Microsoft Edge\"):u(\"Edg/\"))||(v()?t(\"Opera\"):u(\"OPR\"))||u(\"Firefox\")||u(\"FxiOS\")||u(\"Silk\")||u(\"Android\"))}function x(){return v()?t(\"Chromium\"):(u(\"Chrome\")||u(\"CriOS\"))&&!(v()?0:u(\"Edge\"))||u(\"Silk\")}function y(){return u(\"Android\")&&!(x()||u(\"Firefox\")||u(\"FxiOS\")||(v()?0:u(\"Opera\"))||u(\"Silk\"))};var z=v()?!1:u(\"Trident\")||u(\"MSIE\");y();x();w();Object.freeze(new function(){});Object.freeze(new function(){});var A=!z&&!w(),D=function(a){if(/-[a-z]/.test(\"ved\"))return null;if(A&&a.dataset){if(y()&&!(\"ved\"in a.dataset))return null;a=a.dataset.ved;return void 0===a?null:a}return a.getAttribute(\"data-\"+\"ved\".replace(/([A-Z])/g,\"-$1\").toLowerCase())};var E=[],F=null;function G(a){a=a.target;var c=performance.now(),f=[],H=f.concat,d=E;if(!(d instanceof Array)){var m=\"undefined\"!=typeof Symbol&&Symbol.iterator&&d[Symbol.iterator];if(m)d=m.call(d);else if(\"number\"==typeof d.length)d={next:b(d)};else throw Error(\"a`\"+String(d));for(var B=[];!(m=d.next()).done;)B.push(m.value);d=B}E=H.call(f,d,[c]);if(a&&a instanceof HTMLElement)if(a===F){if(c=4<=E.length)c=5>(E[E.length-1]-E[E.length-4])/1E3;if(c){c=google.getEI(a);a.hasAttribute(\"data-ved\")?f=a?D(a)||\"\":\"\":f=(f=\\na.closest(\"[data-ved]\"))?D(f)||\"\":\"\";f=f||\"\";if(a.hasAttribute(\"jsname\"))a=a.getAttribute(\"jsname\");else{var C;a=null==(C=a.closest(\"[jsname]\"))?void 0:C.getAttribute(\"jsname\")}google.log(\"rcm\",\"&ei=\"+c+\"&ved=\"+f+\"&jsname=\"+(a||\"\"))}}else F=a,E=[c]}window.document.addEventListener(\"DOMContentLoaded\",function(){document.body.addEventListener(\"click\",G)});}).call(this);</script></body></html>'\n"
          ]
        }
      ]
    },
    {
      "cell_type": "markdown",
      "source": [
        "### operator"
      ],
      "metadata": {
        "id": "xbFftmZ1c9_C"
      }
    },
    {
      "cell_type": "code",
      "source": [
        "# 콜백함수 = 매개변수로 사용되는 함수\n",
        "books = [{\"제목\": \"A\",\n",
        "          \"가격\": 10000},\n",
        "         {\"제목\": \"B\",\n",
        "          \"가격\": 20000},\n",
        "         {\"제목\": \"C\",\n",
        "          \"가격\": 30000}]\n",
        "def price(book):\n",
        "  return book[\"가격\"]\n",
        "print(min(books, key = price))\n",
        "print(max(books, key = price))"
      ],
      "metadata": {
        "id": "SghkBqTvWaFl",
        "colab": {
          "base_uri": "https://localhost:8080/"
        },
        "outputId": "cfd44b2d-ef4d-4985-eb2d-146278bf3e4f"
      },
      "execution_count": null,
      "outputs": [
        {
          "output_type": "stream",
          "name": "stdout",
          "text": [
            "{'제목': 'A', '가격': 10000}\n",
            "{'제목': 'C', '가격': 30000}\n"
          ]
        }
      ]
    },
    {
      "cell_type": "code",
      "source": [
        "# 람다\n",
        "print(min(books, key = lambda book: book[\"가격\"]))\n",
        "print(max(books, key = lambda book: book[\"가격\"]))"
      ],
      "metadata": {
        "id": "28EBFa4-dPxN",
        "colab": {
          "base_uri": "https://localhost:8080/"
        },
        "outputId": "c66745e9-6080-489c-dc33-47877efee25c"
      },
      "execution_count": null,
      "outputs": [
        {
          "output_type": "stream",
          "name": "stdout",
          "text": [
            "{'제목': 'A', '가격': 10000}\n",
            "{'제목': 'C', '가격': 30000}\n"
          ]
        }
      ]
    },
    {
      "cell_type": "code",
      "source": [
        "# itemgetter()\n",
        "from operator import itemgetter\n",
        "print(min(books, key = itemgetter(\"가격\")))\n",
        "print(max(books, key = itemgetter(\"가격\")))"
      ],
      "metadata": {
        "colab": {
          "base_uri": "https://localhost:8080/"
        },
        "id": "Fnw8oU8Ydvaz",
        "outputId": "ad081942-fc41-4a3c-a2d3-4534872ae7a7"
      },
      "execution_count": null,
      "outputs": [
        {
          "output_type": "stream",
          "name": "stdout",
          "text": [
            "{'제목': 'A', '가격': 10000}\n",
            "{'제목': 'C', '가격': 30000}\n"
          ]
        }
      ]
    },
    {
      "cell_type": "markdown",
      "source": [
        "# 클래스"
      ],
      "metadata": {
        "id": "2-d3j_rNbmFp"
      }
    },
    {
      "cell_type": "code",
      "source": [
        "# 객체 생성\n",
        "# 한 명의 농구 선수가 3 개의 속성을 가짐\n",
        "players = [\n",
        "    {\"name\": \"정대만\", \"point3\": 24, \"point2\": 6, \"ft\": 3},\n",
        "    {\"name\": \"강백호\", \"point3\": 0, \"point2\": 4, \"ft\": 0},\n",
        "    {\"name\": \"서태웅\", \"point3\": 12, \"point2\": 16, \"ft\": 5}\n",
        "]\n",
        "for player in players:\n",
        "  score_sum = player[\"point3\"] + player[\"point2\"] + player[\"ft\"]\n",
        "  print(player[\"name\"], score_sum)\n",
        "# 딕셔너리를 만들 때 키와 값을 입력해야 하고, 키를 잘못 입력할 가능성이 있음"
      ],
      "metadata": {
        "id": "dQy15StfYUHM",
        "colab": {
          "base_uri": "https://localhost:8080/"
        },
        "outputId": "d7e2e13e-f75b-4b4d-c889-11d4bab9b385"
      },
      "execution_count": null,
      "outputs": [
        {
          "output_type": "stream",
          "name": "stdout",
          "text": [
            "정대만 33\n",
            "강백호 4\n",
            "서태웅 33\n"
          ]
        }
      ]
    },
    {
      "cell_type": "code",
      "source": [
        "# 함수로 객체 만들기\n",
        "def create_player(name, point3, point2, ft):\n",
        "  return {\"name\": name,\n",
        "          \"point3\": point3,\n",
        "          \"point2\": point2,\n",
        "          \"ft\": ft}\n",
        "players = [\n",
        "    create_player(\"정대만\", 24, 6, 3),\n",
        "    create_player(\"강백호\", 0, 4, 0),\n",
        "    create_player(\"서태웅\", 12, 16, 5)\n",
        "]\n",
        "for player in players:\n",
        "  score_sum = player[\"point3\"] + player[\"point2\"] + player[\"ft\"]\n",
        "  print(player[\"name\"], score_sum)\n",
        "  # 딕셔너리를 직접 입력할 때보다 쉽고, 키를 잘못 입력하는 실수를 하지 않음"
      ],
      "metadata": {
        "colab": {
          "base_uri": "https://localhost:8080/"
        },
        "id": "jv1CvS8yXZhT",
        "outputId": "7cffce26-1380-44e0-cf84-74507f9b4eca"
      },
      "execution_count": null,
      "outputs": [
        {
          "output_type": "stream",
          "name": "stdout",
          "text": [
            "정대만 33\n",
            "강백호 4\n",
            "서태웅 33\n"
          ]
        }
      ]
    },
    {
      "cell_type": "code",
      "source": [
        "# 코드 분리\n",
        "# 객체와 관련된 기능을 위로, 객체를 사용하는 코드를 아래로 작성하여 구분\n",
        "\n",
        "# 객체 관련 코드\n",
        "def create_player(name, point3, point2, ft):\n",
        "  return {\"name\": name,\n",
        "          \"point3\": point3,\n",
        "          \"point2\": point2,\n",
        "          \"ft\": ft}\n",
        "\n",
        "def score_sum(player): # 점수의 합을 구하는 기능을 함수로 분리\n",
        "  return player[\"point3\"] + player[\"point2\"] + player[\"ft\"]\n",
        "\n",
        "# 객체 사용 코드\n",
        "players = [\n",
        "    create_player(\"정대만\", 24, 6, 3),\n",
        "    create_player(\"강백호\", 0, 4, 0),\n",
        "    create_player(\"서태웅\", 12, 16, 5)\n",
        "]\n",
        "for player in players:\n",
        "  print(player[\"name\"], score_sum(player))"
      ],
      "metadata": {
        "colab": {
          "base_uri": "https://localhost:8080/"
        },
        "id": "qnGByTpTd5lh",
        "outputId": "f3337ab9-fa5a-4b4a-ae1c-202231193c60"
      },
      "execution_count": null,
      "outputs": [
        {
          "output_type": "stream",
          "name": "stdout",
          "text": [
            "정대만 33\n",
            "강백호 4\n",
            "서태웅 33\n"
          ]
        }
      ]
    },
    {
      "cell_type": "code",
      "source": [
        "# 클래스 - 객체를 조금 더 효율적으로 생성\n",
        "class Player:\n",
        "  # 생성자 함수 형태 - 객체 생성할 때 처리할 내용 작성\n",
        "  def __init__(self, name, point3, point2, ft):\n",
        "    self.name = name\n",
        "    self.point3 = point3\n",
        "    self.point2 = point2\n",
        "    self.ft = ft\n",
        "\n",
        "# 클래스 이름 = 생성자 함수를 이용하여 객체 생성\n",
        "# name, point3, point2, ft 순서대로 입력\n",
        "players = [\n",
        "    Player(\"정대만\", 24, 6, 3),\n",
        "    Player(\"강백호\", 0, 4, 0),\n",
        "    Player(\"서태웅\", 12, 16, 5)\n",
        "]\n",
        "\n",
        "print(players) # 인스턴스 3 개\n",
        "print(players[0]) # 1 번 인스턴스\n",
        "# 1 번 인스턴스 속성\n",
        "print(players[0].name)\n",
        "print(players[0].point3)\n",
        "print(players[0].point2)\n",
        "print(players[0].ft)"
      ],
      "metadata": {
        "id": "-N5ijoywjnT2",
        "colab": {
          "base_uri": "https://localhost:8080/"
        },
        "outputId": "d21d24e2-6140-4c71-d16a-0c2ecb1349b1"
      },
      "execution_count": null,
      "outputs": [
        {
          "output_type": "stream",
          "name": "stdout",
          "text": [
            "[<__main__.Player object at 0x7beb49a29ff0>, <__main__.Player object at 0x7beb49a29c30>, <__main__.Player object at 0x7beb49a28e20>]\n",
            "<__main__.Player object at 0x7beb49a29ff0>\n",
            "정대만\n",
            "24\n",
            "6\n",
            "3\n"
          ]
        }
      ]
    },
    {
      "cell_type": "code",
      "source": [
        "class Player:\n",
        "  # 생성자 함수 형태 - 객체 생성할 때 처리할 내용 작성\n",
        "  def __init__(self, name, point3, point2, ft):\n",
        "    self.name = name\n",
        "    self.point3 = point3\n",
        "    self.point2 = point2\n",
        "    self.ft = ft\n",
        "\n",
        "# 클래스 이름 = 생성자 함수를 이용하여 객체 생성\n",
        "# name, point3, point2, ft 순서대로 입력\n",
        "players = [\n",
        "    Player(\"정대만\", 24, 6, 3),\n",
        "    Player(\"강백호\", 0, 4, 0),\n",
        "    Player(\"서태웅\", 12, 16, 5)\n",
        "]\n",
        "\n",
        "# 인스턴스를 하나씩 출력\n",
        "for player in players:\n",
        "  print(player.name, player.point3, player.point2, player.ft)"
      ],
      "metadata": {
        "colab": {
          "base_uri": "https://localhost:8080/"
        },
        "id": "CftOdj_uGaTm",
        "outputId": "283fa30f-f36c-4d72-9822-7b1101c8d4c9"
      },
      "execution_count": null,
      "outputs": [
        {
          "output_type": "stream",
          "name": "stdout",
          "text": [
            "정대만 24 6 3\n",
            "강백호 0 4 0\n",
            "서태웅 12 16 5\n"
          ]
        }
      ]
    },
    {
      "cell_type": "code",
      "source": [
        "# 클래스 안의 함수 = 메소드 함수\n",
        "class Player:\n",
        "  def __init__(self, name, point3, point2, ft):\n",
        "    self.name = name\n",
        "    self.point3 = point3\n",
        "    self.point2 = point2\n",
        "    self.ft = ft\n",
        "  # 메소드\n",
        "  def score_sum(self):\n",
        "    return self.point3 + self.point2 + self.ft\n",
        "\n",
        "players = [\n",
        "    Player(\"정대만\", 24, 6, 3),\n",
        "    Player(\"강백호\", 0, 4, 0),\n",
        "    Player(\"서태웅\", 12, 16, 5)\n",
        "]\n",
        "\n",
        "for player in players:\n",
        "  print(player.name, player.point3, player.point2, player.ft, player.score_sum())"
      ],
      "metadata": {
        "colab": {
          "base_uri": "https://localhost:8080/"
        },
        "id": "jl51GZ_zOLDv",
        "outputId": "f76046a7-111d-4dfd-fd31-27ee45649c1a"
      },
      "execution_count": null,
      "outputs": [
        {
          "output_type": "stream",
          "name": "stdout",
          "text": [
            "정대만 24 6 3 33\n",
            "강백호 0 4 0 4\n",
            "서태웅 12 16 5 33\n"
          ]
        }
      ]
    },
    {
      "cell_type": "code",
      "source": [
        "# 클래스 안의 함수 = 메소드 함수\n",
        "class Player:\n",
        "  def __init__(self, name, point3, point2, ft):\n",
        "    self.name = name\n",
        "    self.point3 = point3\n",
        "    self.point2 = point2\n",
        "    self.ft = ft\n",
        "  # 메소드\n",
        "  def score_sum(self):\n",
        "    return self.point3 + self.point2 + self.ft\n",
        "  # 특수한 이름의 메소드\n",
        "  # __str__ 함수 - 문자열 변환을 위한 특수 메소드\n",
        "  def __str__(self):\n",
        "    return \"{}\\t{}\".format(self.name, self.score_sum())\n",
        "\n",
        "players = [\n",
        "    Player(\"정대만\", 24, 6, 3),\n",
        "    Player(\"강백호\", 0, 4, 0),\n",
        "    Player(\"서태웅\", 12, 16, 5)\n",
        "]\n",
        "\n",
        "for player in players:\n",
        "  print(str(player)) # __str__ 함수 호출"
      ],
      "metadata": {
        "colab": {
          "base_uri": "https://localhost:8080/"
        },
        "outputId": "29616c40-06d3-4d6e-ad59-94a27b899e1f",
        "id": "v7V4UW72RncQ"
      },
      "execution_count": null,
      "outputs": [
        {
          "output_type": "stream",
          "name": "stdout",
          "text": [
            "정대만\t33\n",
            "강백호\t4\n",
            "서태웅\t33\n"
          ]
        }
      ]
    }
  ]
}