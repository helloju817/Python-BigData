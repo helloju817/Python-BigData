{
  "nbformat": 4,
  "nbformat_minor": 0,
  "metadata": {
    "colab": {
      "provenance": [],
      "toc_visible": true
    },
    "kernelspec": {
      "name": "python3",
      "display_name": "Python 3"
    },
    "language_info": {
      "name": "python"
    }
  },
  "cells": [
    {
      "cell_type": "markdown",
      "source": [
        "# 단일표본검정"
      ],
      "metadata": {
        "id": "D_7zb4OPp-Yg"
      }
    },
    {
      "cell_type": "markdown",
      "source": [
        "## 1) 표본의 크기 상관 없이, 모분산(모표준편차)를 알고 있는 경우"
      ],
      "metadata": {
        "id": "a-uNQTNwkuam"
      }
    },
    {
      "cell_type": "code",
      "source": [
        "import numpy as np\n",
        "from scipy.stats import norm"
      ],
      "metadata": {
        "id": "XCVfxXU41OUE"
      },
      "execution_count": null,
      "outputs": []
    },
    {
      "cell_type": "code",
      "source": [
        "# 1) 모표준편차를 알고 있는 경우\n",
        "n = 36;N = 1000;x_bar = 100;mu = 99"
      ],
      "metadata": {
        "id": "9Ocbpj3PkmoH"
      },
      "execution_count": null,
      "outputs": []
    },
    {
      "cell_type": "code",
      "source": [
        "sd = 5;sigma = 2.5\n",
        "var = sd ** 2;sigma2 = sigma ** 2"
      ],
      "metadata": {
        "id": "VerW0hPT1mrs"
      },
      "execution_count": null,
      "outputs": []
    },
    {
      "cell_type": "code",
      "source": [
        "print(n,N,x_bar,mu,sd,sigma,var,sigma2)"
      ],
      "metadata": {
        "id": "akTdB24r14BI",
        "colab": {
          "base_uri": "https://localhost:8080/"
        },
        "outputId": "6f69f37b-74cd-4798-f8eb-b49df2bdf5b9"
      },
      "execution_count": null,
      "outputs": [
        {
          "output_type": "stream",
          "name": "stdout",
          "text": [
            "36 1000 100 99 5 2.5 25 6.25\n"
          ]
        }
      ]
    },
    {
      "cell_type": "code",
      "source": [
        "# 검정통계량 = z statistics\n",
        "# 분자\t표본평균-모평균\n",
        "x_bar - mu"
      ],
      "metadata": {
        "id": "tBmBPl7A2BCR",
        "colab": {
          "base_uri": "https://localhost:8080/"
        },
        "outputId": "9afa922d-b645-4532-c1a8-f7d3012ce1df"
      },
      "execution_count": null,
      "outputs": [
        {
          "output_type": "execute_result",
          "data": {
            "text/plain": [
              "1"
            ]
          },
          "metadata": {},
          "execution_count": 46
        }
      ]
    },
    {
      "cell_type": "code",
      "source": [
        "# 분모\t표준오차 = 모표준편차/제곱근(표본의 크기)\n",
        "sigma/np.sqrt(n)"
      ],
      "metadata": {
        "id": "Ntbbmb1O2TcW",
        "colab": {
          "base_uri": "https://localhost:8080/"
        },
        "outputId": "8c6b687d-6032-4089-8b8a-49369472dbdb"
      },
      "execution_count": null,
      "outputs": [
        {
          "output_type": "execute_result",
          "data": {
            "text/plain": [
              "0.4166666666666667"
            ]
          },
          "metadata": {},
          "execution_count": 47
        }
      ]
    },
    {
      "cell_type": "code",
      "source": [
        "# 분자 / 분모\n",
        "zv = (x_bar - mu) / (sigma/np.sqrt(n));zv"
      ],
      "metadata": {
        "id": "12_a4HjX2c49",
        "colab": {
          "base_uri": "https://localhost:8080/"
        },
        "outputId": "4725ad8e-d0bc-4ec4-856a-2289fb444f1e"
      },
      "execution_count": null,
      "outputs": [
        {
          "output_type": "execute_result",
          "data": {
            "text/plain": [
              "2.4"
            ]
          },
          "metadata": {},
          "execution_count": 48
        }
      ]
    },
    {
      "cell_type": "code",
      "source": [
        "# 임계값 = critical value\n",
        "# 유의수준, 양측검정\n",
        "alpha = 0.05\n",
        "# 임계값에 해당하는 누적면적 = 1 - alpha/2 = 0.975\n",
        "# ppf = 면적을 축의 값으로 변환\n",
        "cv = norm.ppf(1 - alpha/2);cv"
      ],
      "metadata": {
        "id": "XttuydhO2rDP",
        "colab": {
          "base_uri": "https://localhost:8080/"
        },
        "outputId": "108c6d5e-37f5-4635-8889-0b0824ad57fb"
      },
      "execution_count": null,
      "outputs": [
        {
          "output_type": "execute_result",
          "data": {
            "text/plain": [
              "1.959963984540054"
            ]
          },
          "metadata": {},
          "execution_count": 49
        }
      ]
    },
    {
      "cell_type": "code",
      "source": [
        "# 결론\n",
        "cv < zv\n",
        "# 오른쪽 = 기각역 = 귀무가설 기각\n",
        "# = 대립가설 채택 = 차이가 있다\n",
        "# = 통계적으로 유의한 차이가 있다\n",
        "# 이번 학기 학생들의 평균과 지난 20년 동안의 학생들의 평균과 차이가 있다."
      ],
      "metadata": {
        "colab": {
          "base_uri": "https://localhost:8080/"
        },
        "id": "A49gFtje3bsi",
        "outputId": "41c1313b-947d-4cae-bb9e-51d02550ccf9"
      },
      "execution_count": null,
      "outputs": [
        {
          "output_type": "execute_result",
          "data": {
            "text/plain": [
              "True"
            ]
          },
          "metadata": {},
          "execution_count": 50
        }
      ]
    },
    {
      "cell_type": "code",
      "source": [
        "# 유의확률\n",
        "# = 검정통계량에 해당하는 면적\n",
        "pv = 1 - norm.cdf(zv);pv = pv * 2;pv"
      ],
      "metadata": {
        "colab": {
          "base_uri": "https://localhost:8080/"
        },
        "id": "ERTiW5ii3khI",
        "outputId": "27eea076-fcb9-455f-ec43-8dd26d03993a"
      },
      "execution_count": null,
      "outputs": [
        {
          "output_type": "execute_result",
          "data": {
            "text/plain": [
              "0.01639507184919231"
            ]
          },
          "metadata": {},
          "execution_count": 51
        }
      ]
    },
    {
      "cell_type": "code",
      "source": [
        "# 결론\n",
        "alpha > pv\n",
        "# 오른쪽 = 기각역 = 귀무가설 기각\n",
        "# = 대립가설 채택 = 차이가 있다\n",
        "# = 통계적으로 유의한 차이가 있다\n",
        "# 이번 학기 학생들의 평균과 지난 20년 동안의 학생들의 평균과 차이가 있다."
      ],
      "metadata": {
        "colab": {
          "base_uri": "https://localhost:8080/"
        },
        "id": "_X2YDlXb5Ifo",
        "outputId": "171dbd4e-4601-4532-aebc-7d25cc9e1261"
      },
      "execution_count": null,
      "outputs": [
        {
          "output_type": "execute_result",
          "data": {
            "text/plain": [
              "True"
            ]
          },
          "metadata": {},
          "execution_count": 52
        }
      ]
    },
    {
      "cell_type": "code",
      "source": [
        "# 신뢰구간 confidence interval\n",
        "# 표본평균 ± 임계값 * 표준오차\n",
        "# 표준오차\n",
        "se = sigma/np.sqrt(n)\n",
        "# 하한값\n",
        "lower_ci = x_bar - (cv * se)\n",
        "# 상한값\n",
        "upper_ci = x_bar + (cv * se)\n",
        "# 신뢰구간 출력\n",
        "print(\"신뢰구간: [\", lower_ci, \"-\", upper_ci, \"]\")"
      ],
      "metadata": {
        "colab": {
          "base_uri": "https://localhost:8080/"
        },
        "outputId": "2fee0db9-19a1-4f93-a4a4-140bbb155e6e",
        "id": "YF2lrdOEiTzK"
      },
      "execution_count": null,
      "outputs": [
        {
          "output_type": "stream",
          "name": "stdout",
          "text": [
            "신뢰구간: [ 99.18334833977498 - 100.81665166022502 ]\n"
          ]
        }
      ]
    },
    {
      "cell_type": "markdown",
      "source": [
        "## 2) 모분산(모표준편차)을 몰라도 표본이 충분히 큰 경우(n > 30)"
      ],
      "metadata": {
        "id": "5nyL17fskztn"
      }
    },
    {
      "cell_type": "code",
      "source": [
        "# 2) 모표준편차를 알 수 없지만, 표본의 크기가 30 이상인 경우\n",
        "x = [61, 78, 73, 92, 71, 83, 58, 78, 94, 57, 74, 76, 62, 91, 53, 60, 97, 55, 92, 60, 93, 100, 65, 53, 54, 66, 73, 89, 61, 57, 60, 51, 99, 77, 74, 58, 58, 71, 74, 92, 50, 73, 63, 59, 93, 94, 72, 89, 88, 66, 83, 71, 53, 87, 66, 87, 99, 57, 64, 57, 98, 51, 89, 100, 81, 61, 68, 92, 64, 93, 93, 76, 83, 70, 52, 86, 55, 70, 94, 91, 59, 73, 98, 81, 86, 61, 75, 86, 88, 93, 54, 51, 69, 63, 71, 92, 71, 97, 72, 92, 74]"
      ],
      "metadata": {
        "id": "sDahU4SX2lCu"
      },
      "execution_count": null,
      "outputs": []
    },
    {
      "cell_type": "code",
      "source": [
        "mu = 76\n",
        "# 표본평균, 표본표준편차, 표본크기\n",
        "x_bar = np.mean(x);x_sd = np.std(x, ddof = 1);n = len(x)\n",
        "print(x_bar, x_sd, n)"
      ],
      "metadata": {
        "colab": {
          "base_uri": "https://localhost:8080/"
        },
        "id": "R-BBDBNPQUSX",
        "outputId": "dd896b6f-29ca-46cc-efae-53b29450805a"
      },
      "execution_count": null,
      "outputs": [
        {
          "output_type": "stream",
          "name": "stdout",
          "text": [
            "74.5940594059406 15.05667839719092 101\n"
          ]
        }
      ]
    },
    {
      "cell_type": "code",
      "source": [
        "# 검정통계량\n",
        "# 분자\t표본평균-모평균\n",
        "x_bar - mu"
      ],
      "metadata": {
        "colab": {
          "base_uri": "https://localhost:8080/"
        },
        "id": "ZFtGH7vgRJBR",
        "outputId": "93e2ef2f-59f7-4a97-cd33-b67767d03119"
      },
      "execution_count": null,
      "outputs": [
        {
          "output_type": "execute_result",
          "data": {
            "text/plain": [
              "-1.4059405940594019"
            ]
          },
          "metadata": {},
          "execution_count": 56
        }
      ]
    },
    {
      "cell_type": "code",
      "source": [
        "# 분모\t표준오차 = 표본표준편차/제곱근(표본의 크기)\n",
        "x_sd/np.sqrt(n)"
      ],
      "metadata": {
        "colab": {
          "base_uri": "https://localhost:8080/"
        },
        "id": "t11nCboFRJBS",
        "outputId": "67f0f49d-1dfb-4cb7-b027-27361071e7da"
      },
      "execution_count": null,
      "outputs": [
        {
          "output_type": "execute_result",
          "data": {
            "text/plain": [
              "1.4981954966236297"
            ]
          },
          "metadata": {},
          "execution_count": 57
        }
      ]
    },
    {
      "cell_type": "code",
      "source": [
        "# 분자 / 분모\n",
        "zv = (x_bar - mu) / (x_sd/np.sqrt(n));zv = abs(zv);zv"
      ],
      "metadata": {
        "colab": {
          "base_uri": "https://localhost:8080/"
        },
        "id": "HZrpabE1RJBS",
        "outputId": "f0f89400-b859-405e-d3ed-fe3709f3fd79"
      },
      "execution_count": null,
      "outputs": [
        {
          "output_type": "execute_result",
          "data": {
            "text/plain": [
              "0.9384226539379301"
            ]
          },
          "metadata": {},
          "execution_count": 58
        }
      ]
    },
    {
      "cell_type": "code",
      "source": [
        "# 임계값\n",
        "# 유의수준, 양측검정\n",
        "alpha = 0.05\n",
        "# 임계값에 해당하는 누적면적 = 1 - alpha/2 = 0.975\n",
        "cv = norm.ppf(1 - alpha/2);cv"
      ],
      "metadata": {
        "colab": {
          "base_uri": "https://localhost:8080/"
        },
        "id": "S_YvfgoVRJBS",
        "outputId": "575aaf7b-ebe7-42bf-81d7-4cec431f46a1"
      },
      "execution_count": null,
      "outputs": [
        {
          "output_type": "execute_result",
          "data": {
            "text/plain": [
              "1.959963984540054"
            ]
          },
          "metadata": {},
          "execution_count": 59
        }
      ]
    },
    {
      "cell_type": "code",
      "source": [
        "# 결론\n",
        "cv < zv\n",
        "# 왼쪽 = 채택역 = 귀무가설 채택\n",
        "# = 대립가설 기각 = 차이가 없다\n",
        "# = 통계적으로 유의한 차이가 없다"
      ],
      "metadata": {
        "colab": {
          "base_uri": "https://localhost:8080/"
        },
        "outputId": "01d822bf-8c9c-48d8-e658-27e4cf3cc506",
        "id": "dD_g-sTHRJBS"
      },
      "execution_count": null,
      "outputs": [
        {
          "output_type": "execute_result",
          "data": {
            "text/plain": [
              "False"
            ]
          },
          "metadata": {},
          "execution_count": 60
        }
      ]
    },
    {
      "cell_type": "code",
      "source": [
        "# 유의확률\n",
        "# = 검정통계량에 해당하는 면적\n",
        "pv = 1 - norm.cdf(zv);pv = pv * 2;pv"
      ],
      "metadata": {
        "colab": {
          "base_uri": "https://localhost:8080/"
        },
        "outputId": "4723fc82-ed16-4f1e-c860-b648cb3db088",
        "id": "KRSXCk9mR_5O"
      },
      "execution_count": null,
      "outputs": [
        {
          "output_type": "execute_result",
          "data": {
            "text/plain": [
              "0.3480272484300375"
            ]
          },
          "metadata": {},
          "execution_count": 61
        }
      ]
    },
    {
      "cell_type": "code",
      "source": [
        "# 결론\n",
        "alpha > pv\n",
        "# 왼쪽 = 채택역 = 귀무가설 채택\n",
        "# = 대립가설 기각 = 차이가 없다\n",
        "# = 통계적으로 유의한 차이가 없다"
      ],
      "metadata": {
        "colab": {
          "base_uri": "https://localhost:8080/"
        },
        "outputId": "f3a36570-761b-45ac-fdfe-b92c11f1aad9",
        "id": "cY-ULImxR_5O"
      },
      "execution_count": null,
      "outputs": [
        {
          "output_type": "execute_result",
          "data": {
            "text/plain": [
              "False"
            ]
          },
          "metadata": {},
          "execution_count": 62
        }
      ]
    },
    {
      "cell_type": "code",
      "source": [
        "# 신뢰구간 confidence interval\n",
        "# 표본평균 ± 임계값 * 표준오차\n",
        "# 표준오차\n",
        "se = x_sd/np.sqrt(n)\n",
        "# 하한값\n",
        "lower_ci = x_bar - (cv * se)\n",
        "# 상한값\n",
        "upper_ci = x_bar + (cv * se)\n",
        "# 신뢰구간 출력\n",
        "print(\"신뢰구간: [\", lower_ci, \"-\", upper_ci, \"]\")"
      ],
      "metadata": {
        "colab": {
          "base_uri": "https://localhost:8080/"
        },
        "outputId": "189d5eed-6600-430b-8d11-df350baa8c78",
        "id": "mf9Xio_WigtJ"
      },
      "execution_count": null,
      "outputs": [
        {
          "output_type": "stream",
          "name": "stdout",
          "text": [
            "신뢰구간: [ 71.65765019075819 - 77.530468621123 ]\n"
          ]
        }
      ]
    },
    {
      "cell_type": "markdown",
      "source": [
        "### 함수 사용하여 해보기"
      ],
      "metadata": {
        "id": "ZhaxDD6EiwUP"
      }
    },
    {
      "cell_type": "code",
      "source": [
        "# z검정 함수\n",
        "def ztest(x, mu, sigma):\n",
        "  zv = (np.mean(x) - mu) / (sigma/np.sqrt(len(x)))\n",
        "  if zv < 0:\n",
        "    zv = abs(zv)\n",
        "  pv = (1 - norm.cdf(zv))* 2\n",
        "  return(print(\"검정통계량: \", zv, \"유의확률: \", pv))"
      ],
      "metadata": {
        "id": "vu-6qOhUTEhb"
      },
      "execution_count": null,
      "outputs": []
    },
    {
      "cell_type": "code",
      "source": [
        "ztest(x = x, mu = mu, sigma = x_sd)"
      ],
      "metadata": {
        "colab": {
          "base_uri": "https://localhost:8080/"
        },
        "id": "I-LzcAKGUGmW",
        "outputId": "0f393975-0161-4cdb-c3e4-2a1c7cd99b89"
      },
      "execution_count": null,
      "outputs": [
        {
          "output_type": "stream",
          "name": "stdout",
          "text": [
            "검정통계량:  0.9384226539379301 유의확률:  0.3480272484300375\n"
          ]
        }
      ]
    },
    {
      "cell_type": "markdown",
      "source": [
        "## 3) 표본의 크기가 충분히 크지 않은 경우(n <= 30) & 모분산(모표준편차)를 모름"
      ],
      "metadata": {
        "id": "VBopR_K4k3Dc"
      }
    },
    {
      "cell_type": "code",
      "source": [
        "from scipy.stats import t\n",
        "# 3) 모표준편차를 알 수 없고, 표본의 크기가 30 보다 작은 경우\n",
        "mu = 500;x_bar = 513;x_sd = 73.77;n = 20\n",
        "print(mu, x_bar, x_sd, n)"
      ],
      "metadata": {
        "colab": {
          "base_uri": "https://localhost:8080/"
        },
        "id": "LUJnyG7pgcHA",
        "outputId": "c83ee399-a3c9-449e-cebe-b8d7233301a5"
      },
      "execution_count": null,
      "outputs": [
        {
          "output_type": "stream",
          "name": "stdout",
          "text": [
            "500 513 73.77 20\n"
          ]
        }
      ]
    },
    {
      "cell_type": "code",
      "source": [
        "# 검정통계량\n",
        "# 분자\t표본평균-모평균\n",
        "x_bar - mu"
      ],
      "metadata": {
        "colab": {
          "base_uri": "https://localhost:8080/"
        },
        "outputId": "6db2ede4-d051-4acb-d8a9-164d2ea95b4a",
        "id": "RhEcngRMgcHB"
      },
      "execution_count": null,
      "outputs": [
        {
          "output_type": "execute_result",
          "data": {
            "text/plain": [
              "13"
            ]
          },
          "metadata": {},
          "execution_count": 32
        }
      ]
    },
    {
      "cell_type": "code",
      "source": [
        "# 분모\t표준오차 = 표본표준편차/제곱근(표본의 크기)\n",
        "x_sd/np.sqrt(n)"
      ],
      "metadata": {
        "colab": {
          "base_uri": "https://localhost:8080/"
        },
        "outputId": "0f5bcb16-7312-4c84-d747-9e8afabead1c",
        "id": "aMd54m4pgcHB"
      },
      "execution_count": null,
      "outputs": [
        {
          "output_type": "execute_result",
          "data": {
            "text/plain": [
              "16.49547347001595"
            ]
          },
          "metadata": {},
          "execution_count": 33
        }
      ]
    },
    {
      "cell_type": "code",
      "source": [
        "# 분자 / 분모\n",
        "tv = (x_bar - mu) / (x_sd/np.sqrt(n));tv"
      ],
      "metadata": {
        "colab": {
          "base_uri": "https://localhost:8080/"
        },
        "outputId": "43f1bf7c-4b49-4fc2-8de2-e1a1defb9057",
        "id": "4G4JExnogcHB"
      },
      "execution_count": null,
      "outputs": [
        {
          "output_type": "execute_result",
          "data": {
            "text/plain": [
              "0.7880949900365262"
            ]
          },
          "metadata": {},
          "execution_count": 34
        }
      ]
    },
    {
      "cell_type": "code",
      "source": [
        "# 임계값\n",
        "# 유의수준, 양측검정\n",
        "alpha = 0.1\n",
        "# 자유도\n",
        "df = n - 1;df"
      ],
      "metadata": {
        "colab": {
          "base_uri": "https://localhost:8080/"
        },
        "outputId": "7955a096-5b10-45cd-81f5-eaef8be81a11",
        "id": "p5klG7COgcHB"
      },
      "execution_count": null,
      "outputs": [
        {
          "output_type": "execute_result",
          "data": {
            "text/plain": [
              "19"
            ]
          },
          "metadata": {},
          "execution_count": 35
        }
      ]
    },
    {
      "cell_type": "code",
      "source": [
        "# 임계값에 해당하는 누적면적 = 1 - alpha/2 = 0.95\n",
        "cv = t.ppf(1 - alpha/2, df);cv"
      ],
      "metadata": {
        "colab": {
          "base_uri": "https://localhost:8080/"
        },
        "id": "MiAXPLpohm0c",
        "outputId": "9c18a6ef-1388-4381-e6ad-7aff0c3c276f"
      },
      "execution_count": null,
      "outputs": [
        {
          "output_type": "execute_result",
          "data": {
            "text/plain": [
              "1.729132811521367"
            ]
          },
          "metadata": {},
          "execution_count": 36
        }
      ]
    },
    {
      "cell_type": "code",
      "source": [
        "# 결론\n",
        "cv < tv\n",
        "# 왼쪽 = 채택역 = 귀무가설 채택\n",
        "# = 대립가설 기각 = 차이가 없다\n",
        "# = 통계적으로 유의한 차이가 없다"
      ],
      "metadata": {
        "colab": {
          "base_uri": "https://localhost:8080/"
        },
        "outputId": "fdb5724f-5340-46f5-872b-b184470ff4db",
        "id": "JrWDc4TxgcHC"
      },
      "execution_count": null,
      "outputs": [
        {
          "output_type": "execute_result",
          "data": {
            "text/plain": [
              "False"
            ]
          },
          "metadata": {},
          "execution_count": 37
        }
      ]
    },
    {
      "cell_type": "code",
      "source": [
        "# 유의확률\n",
        "# = 검정통계량에 해당하는 면적\n",
        "pv = 1 - t.cdf(tv, df);pv = pv * 2;pv"
      ],
      "metadata": {
        "colab": {
          "base_uri": "https://localhost:8080/"
        },
        "outputId": "6289e9b6-7c45-4232-bc36-84de8d5bd11c",
        "id": "SfPgbYpogcHC"
      },
      "execution_count": null,
      "outputs": [
        {
          "output_type": "execute_result",
          "data": {
            "text/plain": [
              "0.44036346277833216"
            ]
          },
          "metadata": {},
          "execution_count": 38
        }
      ]
    },
    {
      "cell_type": "code",
      "source": [
        "# 결론\n",
        "alpha > pv\n",
        "# 왼쪽 = 채택역 = 귀무가설 채택\n",
        "# = 대립가설 기각 = 차이가 없다\n",
        "# = 통계적으로 유의한 차이가 없다"
      ],
      "metadata": {
        "colab": {
          "base_uri": "https://localhost:8080/"
        },
        "outputId": "57bb5205-b961-4c8b-dc2a-3561f7d44dc9",
        "id": "6nJwllmlgcHC"
      },
      "execution_count": null,
      "outputs": [
        {
          "output_type": "execute_result",
          "data": {
            "text/plain": [
              "False"
            ]
          },
          "metadata": {},
          "execution_count": 39
        }
      ]
    },
    {
      "cell_type": "code",
      "source": [
        "# 신뢰구간 confidence interval\n",
        "# 표본평균 ± 임계값 * 표준오차\n",
        "# 표준오차\n",
        "se = x_sd/np.sqrt(n)\n",
        "# 하한값\n",
        "lower_ci = x_bar - (cv * se)\n",
        "# 상한값\n",
        "upper_ci = x_bar + (cv * se)\n",
        "# 신뢰구간 출력\n",
        "print(\"신뢰구간: [\", lower_ci, \"-\", upper_ci, \"]\")"
      ],
      "metadata": {
        "colab": {
          "base_uri": "https://localhost:8080/"
        },
        "id": "d-rTnSYnUUL5",
        "outputId": "29f0b9b1-b367-4239-8745-b9b0ca0db689"
      },
      "execution_count": null,
      "outputs": [
        {
          "output_type": "stream",
          "name": "stdout",
          "text": [
            "신뢰구간: [ 484.4771355814152 - 541.5228644185848 ]\n"
          ]
        }
      ]
    },
    {
      "cell_type": "markdown",
      "source": [
        "### 함수 사용하여 해보기"
      ],
      "metadata": {
        "id": "oew4wtWJjUQn"
      }
    },
    {
      "cell_type": "code",
      "source": [
        "# 현재 샘플 데이터가 없으므로 아래 정규성 검정에서 해보자"
      ],
      "metadata": {
        "id": "lqWArguEjRkk"
      },
      "execution_count": null,
      "outputs": []
    },
    {
      "cell_type": "markdown",
      "source": [
        "## 3번 케이스 - 정규성 검정하여 진행해보자"
      ],
      "metadata": {
        "id": "YZs8rys2FWcL"
      }
    },
    {
      "cell_type": "code",
      "source": [
        "# 가설 설정\n",
        "# Ho = 모평균의 값은 76 이다. (모평균 = 표본평균)\n",
        "# H1 = 모평균의 값은 76 이 아니다. (모평균 ≠ 표본평균)\n",
        "# 유의수준 설정\n",
        "# 기본적으로 0.05\n",
        "# 검정통계량 / 유의확률 계산\n",
        "# 귀무가설 기각 여부 판단 및 해석"
      ],
      "metadata": {
        "id": "EpuYMDbTJ0vR"
      },
      "execution_count": null,
      "outputs": []
    },
    {
      "cell_type": "code",
      "source": [
        "import pandas as pd\n",
        "import scipy.stats as stats\n",
        "from scipy.stats import shapiro\n",
        "from scipy.stats import t\n",
        "mu = 76\n",
        "x = [61, 78, 73, 92, 71, 83, 58, 78, 94, 57, 74, 76, 62, 91, 53, 60, 97, 55, 92, 60]"
      ],
      "metadata": {
        "id": "4ieaL9x_F6vn"
      },
      "execution_count": null,
      "outputs": []
    },
    {
      "cell_type": "code",
      "source": [
        "# 정규성 검정\n",
        "print(shapiro(x))\n",
        "pv = shapiro(x)[1]\n",
        "alpha = 0.05\n",
        "print(alpha > pv)\n",
        "# 유의확률이 0.05 보다 작은지 큰지 확인\n",
        "# False = 0.05 보다 크면 귀무가설 채택 = 정규성을 가짐\n",
        "# True = 0.05 보다 작으면 귀무가설 기각 = 정규성을 가지지 않음"
      ],
      "metadata": {
        "colab": {
          "base_uri": "https://localhost:8080/"
        },
        "outputId": "8dd28b4f-276d-4c24-f1fc-890d867231bb",
        "id": "bglg8QwVFjSo"
      },
      "execution_count": null,
      "outputs": [
        {
          "output_type": "stream",
          "name": "stdout",
          "text": [
            "ShapiroResult(statistic=0.9163713455200195, pvalue=0.08438281714916229)\n",
            "False\n"
          ]
        }
      ]
    },
    {
      "cell_type": "markdown",
      "source": [
        "### 정규성 가지는 경우\n",
        "- t-test"
      ],
      "metadata": {
        "id": "6pt-4MVIGjxY"
      }
    },
    {
      "cell_type": "code",
      "source": [
        "from scipy.stats import ttest_1samp\n",
        "tv, pv = ttest_1samp(a = x, popmean = mu)\n",
        "print(\"검정통계량: \", abs(tv))\n",
        "print(\"유의확률: \", pv)\n",
        "# 0.05 보다 작으면 귀무가설 기각 = 차이가 있음\n",
        "# 0.05 보다 크면 귀무가설 채택 = 차이가 없음\n",
        "# 유의수준 0.05 에서 x 평균은 모평균과 같다고 할 수 있다.\n",
        "# 여기서 주의할 점은 유의확률이 t분포를 사용한 결과 = 3번 케이스\n",
        "\n",
        "# 신뢰구간\n",
        "result = ttest_1samp(a = x, popmean = mu)\n",
        "ci = result.confidence_interval()\n",
        "print(\"신뢰구간: \", ci)\n",
        "print(\"신뢰구간: \", round(ci[0], 2), \"-\", round(ci[1], 2))"
      ],
      "metadata": {
        "id": "evWNcD69hHNJ",
        "colab": {
          "base_uri": "https://localhost:8080/"
        },
        "outputId": "4864f862-3515-4e66-e126-b4cc96af25ff"
      },
      "execution_count": null,
      "outputs": [
        {
          "output_type": "stream",
          "name": "stdout",
          "text": [
            "검정통계량:  0.8440535541250771\n",
            "유의확률:  0.4091414535785669\n",
            "신뢰구간:  ConfidenceInterval(low=66.4307453194258, high=80.0692546805742)\n",
            "신뢰구간:  66.43 - 80.07\n"
          ]
        }
      ]
    },
    {
      "cell_type": "markdown",
      "source": [
        "### 정규성 가지지 않는 경우"
      ],
      "metadata": {
        "id": "Qppb7o29GoyI"
      }
    },
    {
      "cell_type": "code",
      "source": [
        "# 비모수 통계\n",
        "# Wilcoxon Signed-Rank test\n",
        "stats.wilcoxon(pd.Series(x) - mu, alternative=\"two-sided\")\n",
        "# 0.05 보다 작으면 귀무가설 기각 = 차이가 있음\n",
        "# 0.05 보다 크면 귀무가설 채택 = 차이가 없음\n",
        "\n",
        "# 유의수준 0.05 에서 x 평균은 모평균과 같다고 할 수 있다."
      ],
      "metadata": {
        "colab": {
          "base_uri": "https://localhost:8080/"
        },
        "id": "aV5nWwBhHHJ6",
        "outputId": "e9eedc9c-19bd-4d5b-a79b-832f157a5676"
      },
      "execution_count": null,
      "outputs": [
        {
          "output_type": "execute_result",
          "data": {
            "text/plain": [
              "WilcoxonResult(statistic=73.5, pvalue=0.38610669095577943)"
            ]
          },
          "metadata": {},
          "execution_count": 71
        }
      ]
    },
    {
      "cell_type": "markdown",
      "source": [
        "# 문제 풀이"
      ],
      "metadata": {
        "id": "TW1CQGzTmJMk"
      }
    },
    {
      "cell_type": "markdown",
      "source": [
        "## 1 ~ 3번"
      ],
      "metadata": {
        "id": "6jfnjw5arJ7b"
      }
    },
    {
      "cell_type": "code",
      "source": [
        "# 1\t단일표본이 주어졌을 때\n",
        "# \t모집단과 표본의 차이를 알고 싶을 때\n",
        "# 2\t검정통계량 z값\n",
        "# \tz점수와 유사하게 표준화시켜서 다른 분포와 비교가 가능하다는 점\n",
        "# 3\t1) 표본평균(종현이가 속한 집단) ≠ 모평균(중년 남성 전체)\n",
        "# \t2) 표본비율(지난 독감 유행 기간) ≠ 모비율(지난 50년)\n",
        "# \t3) 표본평균(작년) ≠ 모평균(지난 20년)"
      ],
      "metadata": {
        "id": "1L2NEORHx72t"
      },
      "execution_count": null,
      "outputs": []
    },
    {
      "cell_type": "markdown",
      "source": [
        "## 4번"
      ],
      "metadata": {
        "id": "yp8J0jgrrMyT"
      }
    },
    {
      "cell_type": "code",
      "source": [
        "# 4번 문제\n",
        "# 1) 표본의 크기 상관 없이, 모분산(모표준편차)를 알고 있는 경우\n",
        "n = 15;N = 16;x_bar = 15;mu = 16;sigma = 2.35"
      ],
      "metadata": {
        "id": "7ZIQkts5x4JH"
      },
      "execution_count": null,
      "outputs": []
    },
    {
      "cell_type": "code",
      "source": [
        "print(n,N,x_bar,mu,sigma)"
      ],
      "metadata": {
        "colab": {
          "base_uri": "https://localhost:8080/"
        },
        "id": "ZFyI6Qftx4JI",
        "outputId": "84cf3424-3b76-4ea0-a2f4-70bceaccb675"
      },
      "execution_count": null,
      "outputs": [
        {
          "output_type": "stream",
          "name": "stdout",
          "text": [
            "15 16 15 16 2.35\n"
          ]
        }
      ]
    },
    {
      "cell_type": "code",
      "source": [
        "# 검정통계량\n",
        "# 분자\t표본평균-모평균\n",
        "x_bar - mu"
      ],
      "metadata": {
        "colab": {
          "base_uri": "https://localhost:8080/"
        },
        "id": "rUFzWxpjx4JI",
        "outputId": "baa66557-d0bc-4113-8528-9093fbffa204"
      },
      "execution_count": null,
      "outputs": [
        {
          "output_type": "execute_result",
          "data": {
            "text/plain": [
              "-1"
            ]
          },
          "metadata": {},
          "execution_count": 74
        }
      ]
    },
    {
      "cell_type": "code",
      "source": [
        "# 분모\t표준오차 = 모표준편차/제곱근(표본의 크기)\n",
        "sigma/np.sqrt(n)"
      ],
      "metadata": {
        "colab": {
          "base_uri": "https://localhost:8080/"
        },
        "id": "2mPQFSrCx4JI",
        "outputId": "360ae612-a202-46e8-d0dc-b3e4c7c6f8dc"
      },
      "execution_count": null,
      "outputs": [
        {
          "output_type": "execute_result",
          "data": {
            "text/plain": [
              "0.6067673909058287"
            ]
          },
          "metadata": {},
          "execution_count": 75
        }
      ]
    },
    {
      "cell_type": "code",
      "source": [
        "# 분자 / 분모\n",
        "zv = (x_bar - mu) / (sigma/np.sqrt(n))\n",
        "zv = abs(zv);zv"
      ],
      "metadata": {
        "colab": {
          "base_uri": "https://localhost:8080/"
        },
        "id": "iuvH8deax4JI",
        "outputId": "295f30d0-55ca-4c36-cc4d-7a76b7cbf5a9"
      },
      "execution_count": null,
      "outputs": [
        {
          "output_type": "execute_result",
          "data": {
            "text/plain": [
              "1.6480780196627305"
            ]
          },
          "metadata": {},
          "execution_count": 76
        }
      ]
    },
    {
      "cell_type": "code",
      "source": [
        "# 임계값\n",
        "# 유의수준, 양측검정\n",
        "alpha = 0.05\n",
        "# 임계값에 해당하는 누적면적 = 1 - alpha/2 = 0.975\n",
        "cv = norm.ppf(1 - alpha/2);cv"
      ],
      "metadata": {
        "colab": {
          "base_uri": "https://localhost:8080/"
        },
        "id": "wckfR6M4x4JI",
        "outputId": "e17031b1-fcfa-46d2-8392-ca9778edf6ed"
      },
      "execution_count": null,
      "outputs": [
        {
          "output_type": "execute_result",
          "data": {
            "text/plain": [
              "1.959963984540054"
            ]
          },
          "metadata": {},
          "execution_count": 77
        }
      ]
    },
    {
      "cell_type": "code",
      "source": [
        "# 결론\n",
        "cv < zv\n",
        "# 왼쪽 = 채택역 = 귀무가설 채택\n",
        "# = 대립가설 기각 = 차이가 없다\n",
        "# = 통계적으로 유의한 차이가 없다\n",
        "# 성동구에 사는 아이들의 발병건수와\n",
        "# 성동구에 사는 아이들의 발병건수와 서울시 전체 아이들의 발병건수에 차이가 없다."
      ],
      "metadata": {
        "colab": {
          "base_uri": "https://localhost:8080/"
        },
        "outputId": "8b23e8ca-47e8-4ec7-8b42-73931a81747d",
        "id": "UNoGyJlOx4JI"
      },
      "execution_count": null,
      "outputs": [
        {
          "output_type": "execute_result",
          "data": {
            "text/plain": [
              "False"
            ]
          },
          "metadata": {},
          "execution_count": 78
        }
      ]
    },
    {
      "cell_type": "code",
      "source": [
        "# 유의확률\n",
        "# = 검정통계량에 해당하는 면적\n",
        "pv = 1 - norm.cdf(zv);pv = pv * 2;pv"
      ],
      "metadata": {
        "colab": {
          "base_uri": "https://localhost:8080/"
        },
        "outputId": "14584727-68bb-4223-c602-52c2bfe1594f",
        "id": "ERsRo0aNx4JI"
      },
      "execution_count": null,
      "outputs": [
        {
          "output_type": "execute_result",
          "data": {
            "text/plain": [
              "0.09933666214889358"
            ]
          },
          "metadata": {},
          "execution_count": 79
        }
      ]
    },
    {
      "cell_type": "code",
      "source": [
        "# 결론\n",
        "alpha > pv\n",
        "# 왼쪽 = 채택역 = 귀무가설 채택\n",
        "# = 대립가설 기각 = 차이가 없다\n",
        "# = 통계적으로 유의한 차이가 없다"
      ],
      "metadata": {
        "colab": {
          "base_uri": "https://localhost:8080/"
        },
        "outputId": "6c29b754-8e01-4e9b-da55-e27fcd5cf8b5",
        "id": "XA3rUM-5x4JI"
      },
      "execution_count": null,
      "outputs": [
        {
          "output_type": "execute_result",
          "data": {
            "text/plain": [
              "False"
            ]
          },
          "metadata": {},
          "execution_count": 80
        }
      ]
    },
    {
      "cell_type": "code",
      "source": [
        "# 신뢰구간 confidence interval\n",
        "# 표본평균 ± 임계값 * 표준오차\n",
        "# 표준오차\n",
        "se = sigma/np.sqrt(n)\n",
        "# 하한값\n",
        "lower_ci = x_bar - (cv * se)\n",
        "# 상한값\n",
        "upper_ci = x_bar + (cv * se)\n",
        "# 신뢰구간 출력\n",
        "print(\"신뢰구간: [\", lower_ci, \"-\", upper_ci, \"]\")"
      ],
      "metadata": {
        "colab": {
          "base_uri": "https://localhost:8080/"
        },
        "id": "kslZYSWlabeW",
        "outputId": "70c206f5-ca09-4f21-abe9-48afd570caee"
      },
      "execution_count": null,
      "outputs": [
        {
          "output_type": "stream",
          "name": "stdout",
          "text": [
            "신뢰구간: [ 13.81075776683124 - 16.18924223316876 ]\n"
          ]
        }
      ]
    },
    {
      "cell_type": "markdown",
      "source": [
        "## 5번"
      ],
      "metadata": {
        "id": "zn-6Lyv5rQv7"
      }
    },
    {
      "cell_type": "code",
      "source": [
        "import pandas as pd"
      ],
      "metadata": {
        "id": "nPfd0ntm9Ysn"
      },
      "execution_count": null,
      "outputs": []
    },
    {
      "cell_type": "code",
      "source": [
        "# 5번 문제\n",
        "# 3) 표본의 크기가 충분히 크지 않은 경우(n <= 30) & 모분산(모표준편차)를 모름\n",
        "x = pd.DataFrame({'class1': [78, 77, 78, 83, 79, 82, 77, 83, 93, 86],\n",
        "                  'class2': [81, 78, 93, 81, 82, 83, 83, 92, 97, 86],\n",
        "                  'class3': [96, 97, 88, 78, 88, 93, 77, 80, 87, 89],\n",
        "                  'class4': [85, 90, 88, 75, 89, 89, 85, 89, 83, 98],\n",
        "                  'class5': [88, 88, 94, 77, 84, 85, 82, 82, 96, 81],\n",
        "                  'class6': [78, 82, 92, 96, 99, 81, 96, 100, 93, 75],\n",
        "                  'class7': [90, 86, 82, 83, 87, 89, 95, 99, 92, 80],\n",
        "                  'class8': [79, 93, 89, 93, 80, 96, 99, 87, 75, 95],\n",
        "                  'class9': [96, 87, 92, 84, 85, 79, 89, 90, 80, 99],\n",
        "                  'class10': [86, 89, 94, 75, 77, 85, 76, 89, 93, 86]})\n",
        "mu = 83.4"
      ],
      "metadata": {
        "id": "U7UzHqe99eir"
      },
      "execution_count": null,
      "outputs": []
    },
    {
      "cell_type": "code",
      "source": [
        "# 표본평균, 표본표준편차\n",
        "x_mean = x.mean();x_mean"
      ],
      "metadata": {
        "id": "CAaDsJ4496JW",
        "colab": {
          "base_uri": "https://localhost:8080/"
        },
        "outputId": "eae1ed6b-8a72-4509-94e0-886e9628e19b"
      },
      "execution_count": null,
      "outputs": [
        {
          "output_type": "execute_result",
          "data": {
            "text/plain": [
              "class1     81.6\n",
              "class2     85.6\n",
              "class3     87.3\n",
              "class4     87.1\n",
              "class5     85.7\n",
              "class6     89.2\n",
              "class7     88.3\n",
              "class8     88.6\n",
              "class9     88.1\n",
              "class10    85.0\n",
              "dtype: float64"
            ]
          },
          "metadata": {},
          "execution_count": 85
        }
      ]
    },
    {
      "cell_type": "code",
      "source": [
        "x_sd = x.std();x_sd"
      ],
      "metadata": {
        "id": "LqjJCdC2-G7A",
        "colab": {
          "base_uri": "https://localhost:8080/"
        },
        "outputId": "a969d46e-aa27-4d75-ae30-5cafc52a9d1c"
      },
      "execution_count": null,
      "outputs": [
        {
          "output_type": "execute_result",
          "data": {
            "text/plain": [
              "class1     5.037636\n",
              "class2     6.257440\n",
              "class3     7.087548\n",
              "class4     5.877452\n",
              "class5     5.907622\n",
              "class6     9.271222\n",
              "class7     5.963780\n",
              "class8     8.140434\n",
              "class9     6.471304\n",
              "class10    6.863753\n",
              "dtype: float64"
            ]
          },
          "metadata": {},
          "execution_count": 86
        }
      ]
    },
    {
      "cell_type": "code",
      "source": [
        "# 검정통계량\n",
        "# 분자\t표본평균-모평균\n",
        "x_mean - mu"
      ],
      "metadata": {
        "id": "Zyaok_239eir",
        "colab": {
          "base_uri": "https://localhost:8080/"
        },
        "outputId": "69d8764e-18c5-4a94-a4f2-5a3854b32ae5"
      },
      "execution_count": null,
      "outputs": [
        {
          "output_type": "execute_result",
          "data": {
            "text/plain": [
              "class1    -1.8\n",
              "class2     2.2\n",
              "class3     3.9\n",
              "class4     3.7\n",
              "class5     2.3\n",
              "class6     5.8\n",
              "class7     4.9\n",
              "class8     5.2\n",
              "class9     4.7\n",
              "class10    1.6\n",
              "dtype: float64"
            ]
          },
          "metadata": {},
          "execution_count": 87
        }
      ]
    },
    {
      "cell_type": "code",
      "source": [
        "# 분모\t표준오차 = 표본표준편차/제곱근(표본의 크기)\n",
        "n = len(x)\n",
        "x_sd/np.sqrt(n)"
      ],
      "metadata": {
        "id": "33Nwjc6-9eis",
        "colab": {
          "base_uri": "https://localhost:8080/"
        },
        "outputId": "1ebc952d-6773-4734-b8c3-6a165efbb721"
      },
      "execution_count": null,
      "outputs": [
        {
          "output_type": "execute_result",
          "data": {
            "text/plain": [
              "class1     1.593040\n",
              "class2     1.978776\n",
              "class3     2.241279\n",
              "class4     1.858614\n",
              "class5     1.868154\n",
              "class6     2.931818\n",
              "class7     1.885913\n",
              "class8     2.574231\n",
              "class9     2.046406\n",
              "class10    2.170509\n",
              "dtype: float64"
            ]
          },
          "metadata": {},
          "execution_count": 88
        }
      ]
    },
    {
      "cell_type": "code",
      "source": [
        "# 분자 / 분모\n",
        "tv = (x_mean - mu) / (x_sd/np.sqrt(n));tv"
      ],
      "metadata": {
        "id": "RIx82mnI9eis",
        "colab": {
          "base_uri": "https://localhost:8080/"
        },
        "outputId": "51c8a513-78db-4f4d-9358-5d032100206c"
      },
      "execution_count": null,
      "outputs": [
        {
          "output_type": "execute_result",
          "data": {
            "text/plain": [
              "class1    -1.129915\n",
              "class2     1.111798\n",
              "class3     1.740078\n",
              "class4     1.990731\n",
              "class5     1.231162\n",
              "class6     1.978295\n",
              "class7     2.598211\n",
              "class8     2.020021\n",
              "class9     2.296709\n",
              "class10    0.737154\n",
              "dtype: float64"
            ]
          },
          "metadata": {},
          "execution_count": 89
        }
      ]
    },
    {
      "cell_type": "code",
      "source": [
        "tv[0] = abs(tv[0])"
      ],
      "metadata": {
        "id": "wvaZMk_--mVO"
      },
      "execution_count": null,
      "outputs": []
    },
    {
      "cell_type": "code",
      "source": [
        "# 임계값\n",
        "# 유의수준, 양측검정\n",
        "alpha = 0.05\n",
        "# 자유도\n",
        "df = n - 1;df"
      ],
      "metadata": {
        "colab": {
          "base_uri": "https://localhost:8080/"
        },
        "outputId": "a3e2ae3a-2533-4207-d5dc-8eb0d92a6fd9",
        "id": "9gm0QFJG9eis"
      },
      "execution_count": null,
      "outputs": [
        {
          "output_type": "execute_result",
          "data": {
            "text/plain": [
              "9"
            ]
          },
          "metadata": {},
          "execution_count": 91
        }
      ]
    },
    {
      "cell_type": "code",
      "source": [
        "# 임계값에 해당하는 누적면적 = 1 - alpha/2 = 0.975\n",
        "cv = t.ppf(1 - alpha/2, df);cv"
      ],
      "metadata": {
        "colab": {
          "base_uri": "https://localhost:8080/"
        },
        "outputId": "d8bad8c6-01cc-4dd6-d372-4c8649f6c2a6",
        "id": "BqMDCl359eis"
      },
      "execution_count": null,
      "outputs": [
        {
          "output_type": "execute_result",
          "data": {
            "text/plain": [
              "2.2621571627409915"
            ]
          },
          "metadata": {},
          "execution_count": 92
        }
      ]
    },
    {
      "cell_type": "code",
      "source": [
        "# 결론\n",
        "cv < tv"
      ],
      "metadata": {
        "id": "zc1P25om9eis",
        "colab": {
          "base_uri": "https://localhost:8080/"
        },
        "outputId": "66ae5f11-a998-4bb7-ae75-91ace03fdd94"
      },
      "execution_count": null,
      "outputs": [
        {
          "output_type": "execute_result",
          "data": {
            "text/plain": [
              "class1     False\n",
              "class2     False\n",
              "class3     False\n",
              "class4     False\n",
              "class5     False\n",
              "class6     False\n",
              "class7      True\n",
              "class8     False\n",
              "class9      True\n",
              "class10    False\n",
              "dtype: bool"
            ]
          },
          "metadata": {},
          "execution_count": 93
        }
      ]
    },
    {
      "cell_type": "code",
      "source": [
        "# 유의확률\n",
        "# = 검정통계량에 해당하는 면적\n",
        "pv = 1 - t.cdf(tv, df);pv = pv * 2;pv"
      ],
      "metadata": {
        "colab": {
          "base_uri": "https://localhost:8080/"
        },
        "outputId": "f2e47761-7949-4490-894c-fb45c3d49c04",
        "id": "GyR5KGp19eis"
      },
      "execution_count": null,
      "outputs": [
        {
          "output_type": "execute_result",
          "data": {
            "text/plain": [
              "array([0.28772528, 0.29504062, 0.11583709, 0.077705  , 0.24946404,\n",
              "       0.07927691, 0.02882265, 0.07411954, 0.04725312, 0.47980387])"
            ]
          },
          "metadata": {},
          "execution_count": 94
        }
      ]
    },
    {
      "cell_type": "code",
      "source": [
        "# 결론\n",
        "alpha > pv"
      ],
      "metadata": {
        "colab": {
          "base_uri": "https://localhost:8080/"
        },
        "outputId": "914c7b79-aa24-4ad6-8f62-649c4d169f67",
        "id": "8rm1igkZ9eis"
      },
      "execution_count": null,
      "outputs": [
        {
          "output_type": "execute_result",
          "data": {
            "text/plain": [
              "array([False, False, False, False, False, False,  True, False,  True,\n",
              "       False])"
            ]
          },
          "metadata": {},
          "execution_count": 95
        }
      ]
    },
    {
      "cell_type": "code",
      "source": [
        "from scipy.stats import ttest_1samp\n",
        "tv, pv = ttest_1samp(a = x, popmean = mu)\n",
        "print(\"검정통계량: \", abs(tv))\n",
        "print(\"유의확률: \", pv)"
      ],
      "metadata": {
        "id": "bQPgc0jYB3U5",
        "colab": {
          "base_uri": "https://localhost:8080/"
        },
        "outputId": "86a60a6f-05ac-4639-c202-282f8de7052f"
      },
      "execution_count": null,
      "outputs": [
        {
          "output_type": "stream",
          "name": "stdout",
          "text": [
            "검정통계량:  [1.12991483 1.11179825 1.74007757 1.99073118 1.23116177 1.97829484\n",
            " 2.59821148 2.02002052 2.29670938 0.73715414]\n",
            "유의확률:  [0.28772528 0.29504062 0.11583709 0.077705   0.24946404 0.07927691\n",
            " 0.02882265 0.07411954 0.04725312 0.47980387]\n"
          ]
        }
      ]
    },
    {
      "cell_type": "code",
      "source": [
        "# 신뢰구간\n",
        "result = ttest_1samp(a = x, popmean = mu)\n",
        "ci = result.confidence_interval()\n",
        "print(ci)\n",
        "for i, j in zip(ci[0], ci[1]):\n",
        "  print(\"신뢰구간: [ \", i, \"-\", j, \"]\")"
      ],
      "metadata": {
        "colab": {
          "base_uri": "https://localhost:8080/"
        },
        "id": "8vvDxC2mVXuu",
        "outputId": "525e5c41-5981-4085-c707-7f136720d4d5"
      },
      "execution_count": null,
      "outputs": [
        {
          "output_type": "stream",
          "name": "stdout",
          "text": [
            "ConfidenceInterval(low=array([77.9962922 , 81.12369707, 82.22987376, 82.89552397, 81.47394166,\n",
            "       82.56776739, 84.0337691 , 82.77668428, 83.47070786, 80.08996659]), high=array([85.2037078 , 90.07630293, 92.37012624, 91.30447603, 89.92605834,\n",
            "       95.83223261, 92.5662309 , 94.42331572, 92.72929214, 89.91003341]))\n",
            "신뢰구간: [  77.99629220476406 - 85.20370779523593 ]\n",
            "신뢰구간: [  81.12369707087225 - 90.07630292912773 ]\n",
            "신뢰구간: [  82.22987375942401 - 92.37012624057598 ]\n",
            "신뢰구간: [  82.8955239743848 - 91.30447602561519 ]\n",
            "신뢰구간: [  81.47394166497884 - 89.92605833502117 ]\n",
            "신뢰구간: [  82.56776738580751 - 95.83223261419249 ]\n",
            "신뢰구간: [  84.0337691045923 - 92.5662308954077 ]\n",
            "신뢰구간: [  82.77668427854213 - 94.42331572145785 ]\n",
            "신뢰구간: [  83.47070786499751 - 92.72929213500248 ]\n",
            "신뢰구간: [  80.08996658500766 - 89.91003341499234 ]\n"
          ]
        }
      ]
    },
    {
      "cell_type": "markdown",
      "source": [
        "## 6번"
      ],
      "metadata": {
        "id": "2S-adzuwrTuT"
      }
    },
    {
      "cell_type": "code",
      "source": [
        "# 6번 문제\n",
        "sales = [22402, 37205, 33931, 35347, 39892, 22705, 37290, 28060, 25047, 28541, 33301, 38738, 34655, 26029, 22329, 27007, 29143, 20961, 26025]\n",
        "# 3) 표본의 크기가 충분히 크지 않은 경우(n <= 30) & 모분산(모표준편차)를 모름\n",
        "mu = 35676"
      ],
      "metadata": {
        "id": "vtfLWPyxBmG9"
      },
      "execution_count": null,
      "outputs": []
    },
    {
      "cell_type": "code",
      "source": [
        "from scipy.stats import ttest_1samp\n",
        "tv, pv = ttest_1samp(a = sales, popmean = mu)\n",
        "print(\"검정통계량: \", abs(tv))\n",
        "print(\"유의확률: \", pv)"
      ],
      "metadata": {
        "id": "QdMUxWhQBx_F",
        "colab": {
          "base_uri": "https://localhost:8080/"
        },
        "outputId": "a0a4bbbb-84e9-4db1-b0c8-e3d18b99746e"
      },
      "execution_count": null,
      "outputs": [
        {
          "output_type": "stream",
          "name": "stdout",
          "text": [
            "검정통계량:  4.0804396111761365\n",
            "유의확률:  0.000702125055145388\n"
          ]
        }
      ]
    },
    {
      "cell_type": "code",
      "source": [
        "# 신뢰구간\n",
        "result = ttest_1samp(a = sales, popmean = mu)\n",
        "ci = result.confidence_interval()\n",
        "print(\"신뢰구간: \", ci)\n",
        "print(\"신뢰구간: \", round(ci[0], 2), \"-\", round(ci[1], 2))"
      ],
      "metadata": {
        "colab": {
          "base_uri": "https://localhost:8080/"
        },
        "id": "M7IR4yHmaCPT",
        "outputId": "7b28bab6-762f-4cb1-fc30-c73b2ac5c417"
      },
      "execution_count": null,
      "outputs": [
        {
          "output_type": "stream",
          "name": "stdout",
          "text": [
            "신뢰구간:  ConfidenceInterval(low=26966.57694892041, high=32886.896735290116)\n",
            "신뢰구간:  26966.58 - 32886.9\n"
          ]
        }
      ]
    },
    {
      "cell_type": "markdown",
      "source": [
        "# 독립표본 t검정"
      ],
      "metadata": {
        "id": "YD3oQocfrpRb"
      }
    },
    {
      "cell_type": "markdown",
      "source": [
        "## 등분산 가정"
      ],
      "metadata": {
        "id": "xuxNZpkWruRD"
      }
    },
    {
      "cell_type": "code",
      "source": [
        "import numpy as np\n",
        "from scipy.stats import t"
      ],
      "metadata": {
        "id": "VibsSy2g1ImH"
      },
      "execution_count": null,
      "outputs": []
    },
    {
      "cell_type": "code",
      "source": [
        "x1 =[7, 5, 5, 3, 4, 7, 3, 6, 1, 2, 10, 9, 3, 10, 2, 8, 5, 5, 8, 1, 2, 5, 1, 12, 8, 4, 15, 5, 3, 4]\n",
        "x2 = [5, 3, 4, 4, 2, 3, 4, 5, 2, 5, 4, 7, 5, 4, 6, 7, 6, 2, 8, 7, 8, 8, 7, 9, 9, 5, 7, 8, 6, 6]"
      ],
      "metadata": {
        "id": "kXrZtK711OrY"
      },
      "execution_count": null,
      "outputs": []
    },
    {
      "cell_type": "code",
      "source": [
        "# 표본평균, 표본분산, 표본크기, 자유도\n",
        "x1_m = np.mean(x1);x2_m = np.mean(x2)\n",
        "x1_s2 = np.var(x1, ddof = 1);x2_s2 = np.var(x2, ddof = 1)\n",
        "n1 = len(x1);n2 = len(x2)\n",
        "df1 = n1 - 1;df2 = n2 -1\n",
        "print(x1_m,x2_m,x1_s2,x2_s2,n1,n2,df1,df2)"
      ],
      "metadata": {
        "id": "4vA7UKpx1ox-",
        "colab": {
          "base_uri": "https://localhost:8080/"
        },
        "outputId": "4df1e19e-c1df-4ddc-972e-56501e6909e4"
      },
      "execution_count": null,
      "outputs": [
        {
          "output_type": "stream",
          "name": "stdout",
          "text": [
            "5.433333333333334 5.533333333333333 11.702298850574715 4.257471264367816 30 30 29 29\n"
          ]
        }
      ]
    },
    {
      "cell_type": "code",
      "source": [
        "# 통합분산추정치 = (1표본자유도*1표본분산+2표본자유도*2표본분산) / (전체자유도 = 1표본크기 - 1 + 2표본크기 - 1)\n",
        "# 분자 = (1표본자유도*1표본분산+2표본자유도*2표본분산)\n",
        "df1 * x1_s2 + df2 * x2_s2"
      ],
      "metadata": {
        "id": "J-GSJduP2iWv",
        "colab": {
          "base_uri": "https://localhost:8080/"
        },
        "outputId": "c1b2859b-853a-4f69-d497-9d4acfcad469"
      },
      "execution_count": null,
      "outputs": [
        {
          "output_type": "execute_result",
          "data": {
            "text/plain": [
              "462.83333333333337"
            ]
          },
          "metadata": {},
          "execution_count": 104
        }
      ]
    },
    {
      "cell_type": "code",
      "source": [
        "# 분모 = 전체자유도\n",
        "df1 + df2"
      ],
      "metadata": {
        "id": "Ar7rrSBT3Cuw",
        "colab": {
          "base_uri": "https://localhost:8080/"
        },
        "outputId": "5c223631-36b6-4808-ad96-7d9145a10f24"
      },
      "execution_count": null,
      "outputs": [
        {
          "output_type": "execute_result",
          "data": {
            "text/plain": [
              "58"
            ]
          },
          "metadata": {},
          "execution_count": 105
        }
      ]
    },
    {
      "cell_type": "code",
      "source": [
        "# 분자/분모\n",
        "sp2 = (df1 * x1_s2 + df2 * x2_s2)/(df1 + df2);sp2"
      ],
      "metadata": {
        "id": "hMe0Bxwc3Jwu",
        "colab": {
          "base_uri": "https://localhost:8080/"
        },
        "outputId": "1cc97397-e43e-41be-c9ef-467377c51662"
      },
      "execution_count": null,
      "outputs": [
        {
          "output_type": "execute_result",
          "data": {
            "text/plain": [
              "7.979885057471265"
            ]
          },
          "metadata": {},
          "execution_count": 106
        }
      ]
    },
    {
      "cell_type": "code",
      "source": [
        "# 검정통계량 = (1표본평균 - 2표본평균) / 제곱근(통합분산/1표본크기 + 통합분산/2표본크기)\n",
        "# 분자 = (1표본평균 - 2표본평균)\n",
        "x1_m - x2_m"
      ],
      "metadata": {
        "id": "DA5v7EIG1skn",
        "colab": {
          "base_uri": "https://localhost:8080/"
        },
        "outputId": "76c0bb00-bf37-4cc8-db31-4cc03f992d45"
      },
      "execution_count": null,
      "outputs": [
        {
          "output_type": "execute_result",
          "data": {
            "text/plain": [
              "-0.09999999999999964"
            ]
          },
          "metadata": {},
          "execution_count": 107
        }
      ]
    },
    {
      "cell_type": "code",
      "source": [
        "# 분모 = 제곱근(통합분산/1표본크기 + 통합분산/2표본크기)\n",
        "np.sqrt((sp2/n1) + (sp2/n2))"
      ],
      "metadata": {
        "id": "7v3T10uU3fu_",
        "colab": {
          "base_uri": "https://localhost:8080/"
        },
        "outputId": "de8c2aab-6944-4a4f-94be-2cee0bdcdeee"
      },
      "execution_count": null,
      "outputs": [
        {
          "output_type": "execute_result",
          "data": {
            "text/plain": [
              "0.7293780481785499"
            ]
          },
          "metadata": {},
          "execution_count": 108
        }
      ]
    },
    {
      "cell_type": "code",
      "source": [
        "# 분자/분모\n",
        "tv = (x1_m - x2_m)/np.sqrt((sp2/n1) + (sp2/n2))\n",
        "tv = abs(tv);tv"
      ],
      "metadata": {
        "id": "48OsWBWi3xt-",
        "colab": {
          "base_uri": "https://localhost:8080/"
        },
        "outputId": "f9a84514-7285-4873-a95d-114adcba9557"
      },
      "execution_count": null,
      "outputs": [
        {
          "output_type": "execute_result",
          "data": {
            "text/plain": [
              "0.13710311168498437"
            ]
          },
          "metadata": {},
          "execution_count": 109
        }
      ]
    },
    {
      "cell_type": "code",
      "source": [
        "# 임계값, 유의수준 0.05, 양측검정, 자유도\n",
        "alpha = 0.05\n",
        "df = df1 + df2;df"
      ],
      "metadata": {
        "colab": {
          "base_uri": "https://localhost:8080/"
        },
        "id": "hO0SEWIk38qG",
        "outputId": "44e20226-3f6e-475a-ac2e-5320975c016e"
      },
      "execution_count": null,
      "outputs": [
        {
          "output_type": "execute_result",
          "data": {
            "text/plain": [
              "58"
            ]
          },
          "metadata": {},
          "execution_count": 110
        }
      ]
    },
    {
      "cell_type": "code",
      "source": [
        "# 1 - alpha/2 = 0.975\n",
        "# ppf = 면적 => 축의 값\n",
        "cv = t.ppf(1 - alpha/2, df);cv"
      ],
      "metadata": {
        "colab": {
          "base_uri": "https://localhost:8080/"
        },
        "id": "fIgXRorm4Hk3",
        "outputId": "8107b54a-8c75-4384-b660-8f2ce5d2fd8e"
      },
      "execution_count": null,
      "outputs": [
        {
          "output_type": "execute_result",
          "data": {
            "text/plain": [
              "2.0017174830120923"
            ]
          },
          "metadata": {},
          "execution_count": 111
        }
      ]
    },
    {
      "cell_type": "code",
      "source": [
        "# 결론 => 우리가 원하는 결과 cv < tv => True\n",
        "cv < tv\n",
        "# 왼쪽 = 채택역 = 귀무가설 채택\n",
        "# = 대립가설 기각 = 차이가 없다\n",
        "# = 통계적으로 유의한 차이가 없다"
      ],
      "metadata": {
        "colab": {
          "base_uri": "https://localhost:8080/"
        },
        "id": "1LgFXKz94gpO",
        "outputId": "92af75d9-a7af-4920-e14c-ab7a120f8fb9"
      },
      "execution_count": null,
      "outputs": [
        {
          "output_type": "execute_result",
          "data": {
            "text/plain": [
              "False"
            ]
          },
          "metadata": {},
          "execution_count": 112
        }
      ]
    },
    {
      "cell_type": "code",
      "source": [
        "# 유의확률\n",
        "pv = (1 - t.cdf(tv, df)) * 2; pv"
      ],
      "metadata": {
        "colab": {
          "base_uri": "https://localhost:8080/"
        },
        "id": "JBS3oEcX4qyO",
        "outputId": "607f3be7-f938-489d-e750-a27d9033d70d"
      },
      "execution_count": null,
      "outputs": [
        {
          "output_type": "execute_result",
          "data": {
            "text/plain": [
              "0.8914241208918985"
            ]
          },
          "metadata": {},
          "execution_count": 113
        }
      ]
    },
    {
      "cell_type": "code",
      "source": [
        "# 결론 => 우리가 원하는 결과 alpha > pv => True\n",
        "alpha > pv\n",
        "# 왼쪽 = 채택역 = 귀무가설 채택\n",
        "# = 대립가설 기각 = 차이가 없다\n",
        "# = 통계적으로 유의한 차이가 없다"
      ],
      "metadata": {
        "colab": {
          "base_uri": "https://localhost:8080/"
        },
        "id": "rhaO_MZk8XmN",
        "outputId": "e021af88-fe01-431f-b3c5-d7c9cf161158"
      },
      "execution_count": null,
      "outputs": [
        {
          "output_type": "execute_result",
          "data": {
            "text/plain": [
              "False"
            ]
          },
          "metadata": {},
          "execution_count": 114
        }
      ]
    },
    {
      "cell_type": "markdown",
      "source": [
        "## 정규성, 등분산검정으로 진행"
      ],
      "metadata": {
        "id": "J8h7NMhBPvkC"
      }
    },
    {
      "cell_type": "code",
      "source": [
        "# 가설 설정\n",
        "# Ho = 두 모평균 사이의 차이는 없다. (모평균1 = 모평균2)\n",
        "# H1 = 두 모평균 사이의 차이는 있다. (표본평균1 ≠ 표본평균2)\n",
        "# 유의수준 설정\n",
        "# 기본적으로 0.05\n",
        "# 정규성, 등분산성 가설검정\n",
        "# 검정통계량 / 유의확률 계산\n",
        "# 귀무가설 기각 여부 판단 및 해석"
      ],
      "metadata": {
        "id": "qwW_q5FPRJJb"
      },
      "execution_count": null,
      "outputs": []
    },
    {
      "cell_type": "code",
      "source": [
        "import pandas as pd\n",
        "import numpy as np\n",
        "import scipy.stats as stats\n",
        "from scipy.stats import shapiro\n",
        "from scipy.stats import ttest_ind\n",
        "import matplotlib.pyplot as plt\n",
        "from scipy.stats import t"
      ],
      "metadata": {
        "id": "yASm0evXFgih"
      },
      "execution_count": null,
      "outputs": []
    },
    {
      "cell_type": "code",
      "source": [
        "x1 =[7, 5, 5, 3, 4, 7, 3, 6, 1, 2, 10, 9, 3, 10, 2, 8, 5, 5, 8, 1, 2, 5, 1, 12, 8, 4, 15, 5, 3, 4]\n",
        "x2 = [5, 3, 4, 4, 2, 3, 4, 5, 2, 5, 4, 7, 5, 4, 6, 7, 6, 2, 8, 7, 8, 8, 7, 9, 9, 5, 7, 8, 6, 6]"
      ],
      "metadata": {
        "id": "FBITLTejP0wB"
      },
      "execution_count": null,
      "outputs": []
    },
    {
      "cell_type": "code",
      "source": [
        "# 정규성 검정\n",
        "print(shapiro(x1))\n",
        "print(shapiro(x2))\n",
        "# 유의확률이 0.5 보다 작은지 큰지 확인\n",
        "# 0.5 보다 작으면 귀무가설 기각 = 정규성을 가지지 않음\n",
        "# 0.5 보다 크면 귀무가설 채택 = 정규성을 가짐"
      ],
      "metadata": {
        "colab": {
          "base_uri": "https://localhost:8080/"
        },
        "outputId": "248a0057-5787-4258-902e-ee0a26bb5cf8",
        "id": "klpV2Y01Fgij"
      },
      "execution_count": null,
      "outputs": [
        {
          "output_type": "stream",
          "name": "stdout",
          "text": [
            "ShapiroResult(statistic=0.9292908906936646, pvalue=0.04702053219079971)\n",
            "ShapiroResult(statistic=0.9518997073173523, pvalue=0.19002807140350342)\n"
          ]
        }
      ]
    },
    {
      "cell_type": "markdown",
      "source": [
        "#### 정규성 가지는 경우\n",
        "- 등분산 검정"
      ],
      "metadata": {
        "id": "HqLtfV_GGH7M"
      }
    },
    {
      "cell_type": "markdown",
      "source": [
        "### 등분산검정"
      ],
      "metadata": {
        "id": "70z2uE5AG2XH"
      }
    },
    {
      "cell_type": "code",
      "source": [
        "# 바틀렛 - 정규성 만족\n",
        "from scipy.stats import bartlett\n",
        "bartlett(x1, x2)\n",
        "# 귀무가설: 집단 간의 분산이 같다.\n",
        "# 대립가설: 집단 간의 분산이 같지 않다.\n",
        "# 0.05 보다 작으면 귀무가설 기각 = 이분산 가정\n",
        "# 0.05 보다 크면 귀무가설 채택 = 등분산 가정\n",
        "\n",
        "# 이분산 가정"
      ],
      "metadata": {
        "colab": {
          "base_uri": "https://localhost:8080/"
        },
        "id": "rMkdTjeIn9s8",
        "outputId": "f28dfb7c-4d4b-4586-9638-a65e3a22b49d"
      },
      "execution_count": null,
      "outputs": [
        {
          "output_type": "execute_result",
          "data": {
            "text/plain": [
              "BartlettResult(statistic=6.995618330032188, pvalue=0.008170947838026072)"
            ]
          },
          "metadata": {},
          "execution_count": 120
        }
      ]
    },
    {
      "cell_type": "code",
      "source": [
        "# 레빈 - 정규성 만족 안함\n",
        "from scipy.stats import levene\n",
        "levene(x1, x2)\n",
        "# 등분산 가정"
      ],
      "metadata": {
        "colab": {
          "base_uri": "https://localhost:8080/"
        },
        "id": "2HEmVr0ioQGt",
        "outputId": "73241377-6528-4e6b-9b4d-7d024d5c3802"
      },
      "execution_count": null,
      "outputs": [
        {
          "output_type": "execute_result",
          "data": {
            "text/plain": [
              "LeveneResult(statistic=3.342862412393952, pvalue=0.0726409738218915)"
            ]
          },
          "metadata": {},
          "execution_count": 121
        }
      ]
    },
    {
      "cell_type": "code",
      "source": [
        "# 플리그너 - 정규성 만족 안함, 더 안정적 결과\n",
        "from scipy.stats import fligner\n",
        "fligner(x1, x2)\n",
        "# 등분산 가정"
      ],
      "metadata": {
        "colab": {
          "base_uri": "https://localhost:8080/"
        },
        "id": "FdYzoVYdoxqy",
        "outputId": "d0bd27ec-4f1d-4320-e0f0-99ade9ee7e71"
      },
      "execution_count": null,
      "outputs": [
        {
          "output_type": "execute_result",
          "data": {
            "text/plain": [
              "FlignerResult(statistic=3.508273694910684, pvalue=0.061063051338622554)"
            ]
          },
          "metadata": {},
          "execution_count": 122
        }
      ]
    },
    {
      "cell_type": "markdown",
      "source": [
        "### 등분산 가정"
      ],
      "metadata": {
        "id": "hCPOGydYSFTG"
      }
    },
    {
      "cell_type": "code",
      "source": [
        "# 기본값 equal_var = True\n",
        "# ttest_ind(x1, x2)\n",
        "ttest_ind(x1, x2, equal_var = True)"
      ],
      "metadata": {
        "colab": {
          "base_uri": "https://localhost:8080/"
        },
        "id": "_XrEoz0h_CRp",
        "outputId": "d822b077-297c-4b71-b256-99fa1b2905d7"
      },
      "execution_count": null,
      "outputs": [
        {
          "output_type": "execute_result",
          "data": {
            "text/plain": [
              "TtestResult(statistic=-0.13710311168498437, pvalue=0.8914241208918983, df=58.0)"
            ]
          },
          "metadata": {},
          "execution_count": 123
        }
      ]
    },
    {
      "cell_type": "code",
      "source": [
        "from scipy.stats import ttest_ind\n",
        "# tv, pv = ttest_ind(x1, x2)\n",
        "tv, pv = ttest_ind(x1, x2, equal_var = True)\n",
        "print(\"검정통계량: \", abs(tv))\n",
        "print(\"유의확률: \", pv)"
      ],
      "metadata": {
        "colab": {
          "base_uri": "https://localhost:8080/"
        },
        "id": "QMM_9y-j8lTm",
        "outputId": "8de82da1-e99d-4949-b75b-4a33cac63875"
      },
      "execution_count": null,
      "outputs": [
        {
          "output_type": "stream",
          "name": "stdout",
          "text": [
            "검정통계량:  0.13710311168498437\n",
            "유의확률:  0.8914241208918983\n"
          ]
        }
      ]
    },
    {
      "cell_type": "code",
      "source": [
        "print(np.mean(x1))\n",
        "print(np.mean(x2))"
      ],
      "metadata": {
        "colab": {
          "base_uri": "https://localhost:8080/"
        },
        "id": "MC331B88Ui8w",
        "outputId": "72840ab3-bdf0-4ace-98f2-bb05a52b5ee5"
      },
      "execution_count": null,
      "outputs": [
        {
          "output_type": "stream",
          "name": "stdout",
          "text": [
            "5.433333333333334\n",
            "5.533333333333333\n"
          ]
        }
      ]
    },
    {
      "cell_type": "markdown",
      "source": [
        "### 이분산 가정"
      ],
      "metadata": {
        "id": "P7yhSb0iSK4l"
      }
    },
    {
      "cell_type": "code",
      "source": [
        "from scipy.stats import ttest_ind\n",
        "# 기본값 equal_var = True\n",
        "ttest_ind(x1, x2, equal_var = False)"
      ],
      "metadata": {
        "colab": {
          "base_uri": "https://localhost:8080/"
        },
        "outputId": "c2e96581-9061-4fb7-a65f-e11508b42075",
        "id": "H_iklCcQSK4s"
      },
      "execution_count": null,
      "outputs": [
        {
          "output_type": "execute_result",
          "data": {
            "text/plain": [
              "TtestResult(statistic=-0.13710311168498437, pvalue=0.8915271547944409, df=47.63474735627105)"
            ]
          },
          "metadata": {},
          "execution_count": 126
        }
      ]
    },
    {
      "cell_type": "code",
      "source": [
        "from scipy.stats import ttest_ind\n",
        "tv, pv = ttest_ind(x1, x2, equal_var = False)\n",
        "print(\"검정통계량: \", abs(tv))\n",
        "print(\"유의확률: \", pv)"
      ],
      "metadata": {
        "colab": {
          "base_uri": "https://localhost:8080/"
        },
        "outputId": "b23bf190-57dc-4f47-b33a-b0cfde44d560",
        "id": "sQrDS7akSK4s"
      },
      "execution_count": null,
      "outputs": [
        {
          "output_type": "stream",
          "name": "stdout",
          "text": [
            "검정통계량:  0.13710311168498437\n",
            "유의확률:  0.8915271547944409\n"
          ]
        }
      ]
    },
    {
      "cell_type": "markdown",
      "source": [
        "#### 정규성 가지지 않는 경우"
      ],
      "metadata": {
        "id": "8ZAcnZLkLtFE"
      }
    },
    {
      "cell_type": "code",
      "source": [
        "# 비모수 검정\n",
        "# Mann–Whitney U test = Wilcoxon rank-sum test (WRS)\n",
        "stats.mannwhitneyu(x1, x2, alternative=\"two-sided\")\n",
        "# 0.05 보다 작으면 귀무가설 기각 = 차이가 있음\n",
        "# 0.05 보다 크면 귀무가설 채택 = 차이가 없음"
      ],
      "metadata": {
        "colab": {
          "base_uri": "https://localhost:8080/"
        },
        "id": "MCeF1si4sTOY",
        "outputId": "842c7d6b-5ad5-4d1a-9790-78d450e1f92b"
      },
      "execution_count": null,
      "outputs": [
        {
          "output_type": "execute_result",
          "data": {
            "text/plain": [
              "MannwhitneyuResult(statistic=405.0, pvalue=0.5075449838388612)"
            ]
          },
          "metadata": {},
          "execution_count": 102
        }
      ]
    },
    {
      "cell_type": "markdown",
      "source": [
        "# 문제 풀이"
      ],
      "metadata": {
        "id": "XG0Eqa8xaOpJ"
      }
    },
    {
      "cell_type": "markdown",
      "source": [
        "## 문제1"
      ],
      "metadata": {
        "id": "Imb5iH90iNmL"
      }
    },
    {
      "cell_type": "code",
      "source": [
        "# 문제1\n",
        "import numpy as np\n",
        "from scipy.stats import t"
      ],
      "metadata": {
        "id": "E_v_UBJLAJ1b"
      },
      "execution_count": null,
      "outputs": []
    },
    {
      "cell_type": "code",
      "source": [
        "# x1 = 남학생, x2 = 여학생\n",
        "x1 = [9, 8, 4, 9, 3, 8, 10, 8, 9, 8, 10, 7, 6, 12]\n",
        "x2 = [3, 5, 1, 2, 6, 4, 3, 6, 7, 9, 7, 3, 7, 6, 8, 8]"
      ],
      "metadata": {
        "id": "OYH6AV4zaXJ7"
      },
      "execution_count": null,
      "outputs": []
    },
    {
      "cell_type": "code",
      "source": [
        "# 표본평균, 표본분산, 표본크기, 자유도\n",
        "x1_m = np.mean(x1);x2_m = np.mean(x2)\n",
        "x1_s2 = np.var(x1, ddof = 1);x2_s2 = np.var(x2, ddof = 1)\n",
        "n1 = len(x1);n2 = len(x2)\n",
        "df1 = n1 - 1;df2 = n2 -1\n",
        "print(x1_m,x2_m,x1_s2,x2_s2,n1,n2,df1,df2)"
      ],
      "metadata": {
        "colab": {
          "base_uri": "https://localhost:8080/"
        },
        "id": "GjdrmQ42aXJ7",
        "outputId": "7e5e7752-05db-41e7-f375-d04cdd598ad4"
      },
      "execution_count": null,
      "outputs": [
        {
          "output_type": "stream",
          "name": "stdout",
          "text": [
            "7.928571428571429 5.3125 5.60989010989011 5.695833333333334 14 16 13 15\n"
          ]
        }
      ]
    },
    {
      "cell_type": "code",
      "source": [
        "# 등분산 가정\n",
        "# 통합분산추정치 = (1표본자유도*1표본분산+2표본자유도*2표본분산) / (전체자유도 = 1표본크기 - 1 + 2표본크기 - 1)\n",
        "# 분자 = (1표본자유도*1표본분산+2표본자유도*2표본분산)\n",
        "df1 * x1_s2 + df2 * x2_s2"
      ],
      "metadata": {
        "colab": {
          "base_uri": "https://localhost:8080/"
        },
        "id": "2HKYotpjaXJ7",
        "outputId": "e8d3b6cf-61f4-4a38-fba2-006a0ce18a4e"
      },
      "execution_count": null,
      "outputs": [
        {
          "output_type": "execute_result",
          "data": {
            "text/plain": [
              "158.36607142857144"
            ]
          },
          "metadata": {},
          "execution_count": 131
        }
      ]
    },
    {
      "cell_type": "code",
      "source": [
        "# 분모 = 전체자유도\n",
        "df1 + df2"
      ],
      "metadata": {
        "colab": {
          "base_uri": "https://localhost:8080/"
        },
        "id": "oo2fDd5waXJ7",
        "outputId": "7f1a196f-1b03-414e-d6aa-39df210d72a4"
      },
      "execution_count": null,
      "outputs": [
        {
          "output_type": "execute_result",
          "data": {
            "text/plain": [
              "28"
            ]
          },
          "metadata": {},
          "execution_count": 132
        }
      ]
    },
    {
      "cell_type": "code",
      "source": [
        "# 분자/분모\n",
        "sp2 = (df1 * x1_s2 + df2 * x2_s2)/(df1 + df2);sp2"
      ],
      "metadata": {
        "colab": {
          "base_uri": "https://localhost:8080/"
        },
        "id": "NpScn3PgaXJ7",
        "outputId": "7070beb7-c51f-4616-9c20-92e1355a2453"
      },
      "execution_count": null,
      "outputs": [
        {
          "output_type": "execute_result",
          "data": {
            "text/plain": [
              "5.6559311224489806"
            ]
          },
          "metadata": {},
          "execution_count": 133
        }
      ]
    },
    {
      "cell_type": "code",
      "source": [
        "# 검정통계량 = (1표본평균 - 2표본평균) / 제곱근(통합분산/1표본크기 + 통합분산/2표본크기)\n",
        "# 분자 = (1표본평균 - 2표본평균)\n",
        "x1_m - x2_m"
      ],
      "metadata": {
        "colab": {
          "base_uri": "https://localhost:8080/"
        },
        "id": "mb4A1-cbaXJ7",
        "outputId": "fa4383fa-98bb-4e26-d8f2-fd0c14349d75"
      },
      "execution_count": null,
      "outputs": [
        {
          "output_type": "execute_result",
          "data": {
            "text/plain": [
              "2.616071428571429"
            ]
          },
          "metadata": {},
          "execution_count": 134
        }
      ]
    },
    {
      "cell_type": "code",
      "source": [
        "# 분모 = 제곱근(통합분산/1표본크기 + 통합분산/2표본크기)\n",
        "np.sqrt((sp2/n1) + (sp2/n2))"
      ],
      "metadata": {
        "colab": {
          "base_uri": "https://localhost:8080/"
        },
        "id": "XoBiwWQaaXJ7",
        "outputId": "4359ffca-a5bd-4a84-9a35-b64450a241e9"
      },
      "execution_count": null,
      "outputs": [
        {
          "output_type": "execute_result",
          "data": {
            "text/plain": [
              "0.8703394598247217"
            ]
          },
          "metadata": {},
          "execution_count": 135
        }
      ]
    },
    {
      "cell_type": "code",
      "source": [
        "# 분자/분모\n",
        "tv = (x1_m - x2_m)/np.sqrt((sp2/n1) + (sp2/n2))\n",
        "tv = abs(tv);tv"
      ],
      "metadata": {
        "colab": {
          "base_uri": "https://localhost:8080/"
        },
        "id": "NM-mh5hCaXJ8",
        "outputId": "2db527f6-3da4-41ab-f492-13bb3d630e79"
      },
      "execution_count": null,
      "outputs": [
        {
          "output_type": "execute_result",
          "data": {
            "text/plain": [
              "3.005805837067621"
            ]
          },
          "metadata": {},
          "execution_count": 136
        }
      ]
    },
    {
      "cell_type": "code",
      "source": [
        "# 임계값, 유의수준 0.05, 단측검정, 자유도\n",
        "alpha = 0.05\n",
        "df = df1 + df2;df"
      ],
      "metadata": {
        "colab": {
          "base_uri": "https://localhost:8080/"
        },
        "outputId": "2084f3ec-9cb0-4010-c5a0-d99c7dd21ac9",
        "id": "CFhc6grSaXJ8"
      },
      "execution_count": null,
      "outputs": [
        {
          "output_type": "execute_result",
          "data": {
            "text/plain": [
              "28"
            ]
          },
          "metadata": {},
          "execution_count": 137
        }
      ]
    },
    {
      "cell_type": "code",
      "source": [
        "# 1 - alpha = 0.95\n",
        "cv = t.ppf(1 - alpha, df);cv"
      ],
      "metadata": {
        "colab": {
          "base_uri": "https://localhost:8080/"
        },
        "outputId": "80efc292-f3b1-45f2-810e-f8c8dd2e7e2a",
        "id": "9NVLv_u5aXJ8"
      },
      "execution_count": null,
      "outputs": [
        {
          "output_type": "execute_result",
          "data": {
            "text/plain": [
              "1.701130934265931"
            ]
          },
          "metadata": {},
          "execution_count": 138
        }
      ]
    },
    {
      "cell_type": "code",
      "source": [
        "# 결론 => 우리가 원하는 결과 cv < tv => True\n",
        "cv < tv\n",
        "# 오른쪽 = 기각역 = 귀무가설 기각\n",
        "# = 대립가설 채택 = 차이가 있다\n",
        "# = 통계적으로 유의한 차이가 있다"
      ],
      "metadata": {
        "colab": {
          "base_uri": "https://localhost:8080/"
        },
        "outputId": "e3d70c76-3dca-4729-ef68-6cb4c1daae68",
        "id": "jmS74IdRaXJ9"
      },
      "execution_count": null,
      "outputs": [
        {
          "output_type": "execute_result",
          "data": {
            "text/plain": [
              "True"
            ]
          },
          "metadata": {},
          "execution_count": 139
        }
      ]
    },
    {
      "cell_type": "code",
      "source": [
        "# 유의확률\n",
        "pv = (1 - t.cdf(tv, df));pv"
      ],
      "metadata": {
        "colab": {
          "base_uri": "https://localhost:8080/"
        },
        "outputId": "066714dc-13c3-43a3-83da-6da6127716c9",
        "id": "Tg0RZn3eaXJ9"
      },
      "execution_count": null,
      "outputs": [
        {
          "output_type": "execute_result",
          "data": {
            "text/plain": [
              "0.00276863108877079"
            ]
          },
          "metadata": {},
          "execution_count": 140
        }
      ]
    },
    {
      "cell_type": "code",
      "source": [
        "# 결론 => 우리가 원하는 결과 alpha > pv => True\n",
        "alpha > pv\n",
        "# 오른쪽 = 기각역 = 귀무가설 기각\n",
        "# = 대립가설 채택 = 차이가 있다\n",
        "# = 통계적으로 유의한 차이가 있다\n",
        "# 남학생과 여학생의 손을 드는 횟수 평균 차이가 있다.\n",
        "# 남학생의 손을 드는 평균 횟수가 여학생보다 많다."
      ],
      "metadata": {
        "colab": {
          "base_uri": "https://localhost:8080/"
        },
        "outputId": "25141b20-495f-4859-e1ef-99575717474f",
        "id": "yXhd7wx6aXJ9"
      },
      "execution_count": null,
      "outputs": [
        {
          "output_type": "execute_result",
          "data": {
            "text/plain": [
              "True"
            ]
          },
          "metadata": {},
          "execution_count": 141
        }
      ]
    },
    {
      "cell_type": "code",
      "source": [
        "# 등분산 검정, 레빈\n",
        "from scipy.stats import levene\n",
        "levene(x1, x2)\n",
        "# p-value < 0.05 => 차이가 있다 = 분산이 다르다 = 이분산가정\n",
        "# p-value > 0.05 => 차이가 없다 = 분산이 같다 = 등분산가정"
      ],
      "metadata": {
        "colab": {
          "base_uri": "https://localhost:8080/"
        },
        "id": "2ex8MfpQc-yp",
        "outputId": "398a98e1-4663-43ad-ae05-70a45124a73a"
      },
      "execution_count": null,
      "outputs": [
        {
          "output_type": "execute_result",
          "data": {
            "text/plain": [
              "LeveneResult(statistic=0.2663173064325955, pvalue=0.6098644945678466)"
            ]
          },
          "metadata": {},
          "execution_count": 142
        }
      ]
    },
    {
      "cell_type": "code",
      "source": [
        "from scipy.stats import ttest_ind\n",
        "# 기본값 equal_var = True\n",
        "# 단측검정 alternative = 'greater'\n",
        "ttest_ind(x1, x2, alternative = 'greater')\n",
        "# ttest_ind(x1, x2, equal_var = True)"
      ],
      "metadata": {
        "colab": {
          "base_uri": "https://localhost:8080/"
        },
        "outputId": "c92049e7-19fc-4a75-c295-415f3d677c96",
        "id": "I5gFoZ4KaXJ9"
      },
      "execution_count": null,
      "outputs": [
        {
          "output_type": "execute_result",
          "data": {
            "text/plain": [
              "TtestResult(statistic=3.005805837067621, pvalue=0.002768631088770782, df=28.0)"
            ]
          },
          "metadata": {},
          "execution_count": 143
        }
      ]
    },
    {
      "cell_type": "code",
      "source": [
        "from scipy.stats import ttest_ind\n",
        "tv, pv = ttest_ind(x1, x2, alternative = 'greater')\n",
        "print(\"검정통계량: \", abs(tv))\n",
        "print(\"유의확률: \", pv)"
      ],
      "metadata": {
        "colab": {
          "base_uri": "https://localhost:8080/"
        },
        "outputId": "653cc4f5-84a8-4add-96a8-8f3f742850ea",
        "id": "yLn4LRL2aXJ9"
      },
      "execution_count": null,
      "outputs": [
        {
          "output_type": "stream",
          "name": "stdout",
          "text": [
            "검정통계량:  3.005805837067621\n",
            "유의확률:  0.002768631088770782\n"
          ]
        }
      ]
    },
    {
      "cell_type": "markdown",
      "source": [
        "## 문제2"
      ],
      "metadata": {
        "id": "dlwRzSGtiRdf"
      }
    },
    {
      "cell_type": "code",
      "source": [
        "# 문제2\n",
        "# 임계값, 유의수준 0.01, 양측검정, 자유도\n",
        "alpha = 0.01\n",
        "df = df1 + df2;df"
      ],
      "metadata": {
        "colab": {
          "base_uri": "https://localhost:8080/"
        },
        "outputId": "453bebd8-0941-4682-c4fc-2b54f41a1fa3",
        "id": "LkL1qUBIhD2y"
      },
      "execution_count": null,
      "outputs": [
        {
          "output_type": "execute_result",
          "data": {
            "text/plain": [
              "28"
            ]
          },
          "metadata": {},
          "execution_count": 145
        }
      ]
    },
    {
      "cell_type": "code",
      "source": [
        "# 1 - alpha/2 = 1 - 0.01/2\n",
        "cv = t.ppf(1 - alpha/2, df);cv"
      ],
      "metadata": {
        "colab": {
          "base_uri": "https://localhost:8080/"
        },
        "outputId": "7e7fe937-c6b6-41fa-84a6-08ff30cf3ad7",
        "id": "tY2FJfZfhD2z"
      },
      "execution_count": null,
      "outputs": [
        {
          "output_type": "execute_result",
          "data": {
            "text/plain": [
              "2.763262455461066"
            ]
          },
          "metadata": {},
          "execution_count": 146
        }
      ]
    },
    {
      "cell_type": "code",
      "source": [
        "# 결론 => 우리가 원하는 결과 cv < tv => True\n",
        "cv < tv\n",
        "# 오른쪽 = 기각역 = 귀무가설 기각\n",
        "# = 대립가설 채택 = 차이가 있다\n",
        "# = 통계적으로 유의한 차이가 있다"
      ],
      "metadata": {
        "colab": {
          "base_uri": "https://localhost:8080/"
        },
        "outputId": "9c515ad5-5677-469f-b071-b96d50001f18",
        "id": "58TGtqvohD2z"
      },
      "execution_count": null,
      "outputs": [
        {
          "output_type": "execute_result",
          "data": {
            "text/plain": [
              "True"
            ]
          },
          "metadata": {},
          "execution_count": 147
        }
      ]
    },
    {
      "cell_type": "code",
      "source": [
        "# 유의확률\n",
        "pv = (1 - t.cdf(tv, df)) * 2;pv"
      ],
      "metadata": {
        "colab": {
          "base_uri": "https://localhost:8080/"
        },
        "outputId": "3349d372-2320-4c61-d6f2-97c03b0cb521",
        "id": "y-eb5ADBhD2z"
      },
      "execution_count": null,
      "outputs": [
        {
          "output_type": "execute_result",
          "data": {
            "text/plain": [
              "0.00553726217754158"
            ]
          },
          "metadata": {},
          "execution_count": 148
        }
      ]
    },
    {
      "cell_type": "code",
      "source": [
        "# 결론 => 우리가 원하는 결과 alpha > pv => True\n",
        "alpha > pv\n",
        "# 오른쪽 = 기각역 = 귀무가설 기각\n",
        "# = 대립가설 채택 = 차이가 있다\n",
        "# = 통계적으로 유의한 차이가 있다\n",
        "# 남학생과 여학생의 손을 드는 평균 횟수에 차이가 있다."
      ],
      "metadata": {
        "colab": {
          "base_uri": "https://localhost:8080/"
        },
        "outputId": "f96820b1-b371-4cae-c829-d76ca2882283",
        "id": "gXXp75FThD20"
      },
      "execution_count": null,
      "outputs": [
        {
          "output_type": "execute_result",
          "data": {
            "text/plain": [
              "True"
            ]
          },
          "metadata": {},
          "execution_count": 149
        }
      ]
    },
    {
      "cell_type": "code",
      "source": [
        "# 레빈 - 정규성 만족 안함\n",
        "from scipy.stats import levene\n",
        "levene(x1, x2)\n",
        "# 등분산 가정"
      ],
      "metadata": {
        "colab": {
          "base_uri": "https://localhost:8080/"
        },
        "outputId": "0a287e4a-2b1a-4d32-f308-363934146b57",
        "id": "HZfxcpqTYJeH"
      },
      "execution_count": null,
      "outputs": [
        {
          "output_type": "execute_result",
          "data": {
            "text/plain": [
              "LeveneResult(statistic=0.2663173064325955, pvalue=0.6098644945678466)"
            ]
          },
          "metadata": {},
          "execution_count": 152
        }
      ]
    },
    {
      "cell_type": "code",
      "source": [
        "from scipy.stats import ttest_ind\n",
        "# 기본값 equal_var = True\n",
        "ttest_ind(x1, x2)\n",
        "# ttest_ind(x1, x2, equal_var = True)"
      ],
      "metadata": {
        "colab": {
          "base_uri": "https://localhost:8080/"
        },
        "outputId": "3fdd5fef-1637-497c-ef53-735d439d3123",
        "id": "Dqp5roWarNxG"
      },
      "execution_count": null,
      "outputs": [
        {
          "output_type": "execute_result",
          "data": {
            "text/plain": [
              "TtestResult(statistic=3.005805837067621, pvalue=0.005537262177541564, df=28.0)"
            ]
          },
          "metadata": {},
          "execution_count": 150
        }
      ]
    },
    {
      "cell_type": "code",
      "source": [
        "from scipy.stats import ttest_ind\n",
        "tv, pv = ttest_ind(x1, x2)\n",
        "print(\"검정통계량: \", abs(tv))\n",
        "print(\"유의확률: \", pv)"
      ],
      "metadata": {
        "colab": {
          "base_uri": "https://localhost:8080/"
        },
        "outputId": "0bdf0d76-032a-4e15-9e2d-b68cb697b2e5",
        "id": "_e8wtb5rrNxG"
      },
      "execution_count": null,
      "outputs": [
        {
          "output_type": "stream",
          "name": "stdout",
          "text": [
            "검정통계량:  3.005805837067621\n",
            "유의확률:  0.005537262177541564\n"
          ]
        }
      ]
    },
    {
      "cell_type": "markdown",
      "source": [
        "## 문제3"
      ],
      "metadata": {
        "id": "9dMV2EQNGAx8"
      }
    },
    {
      "cell_type": "code",
      "source": [
        "# 문제3\n",
        "# x1 = 도시, x2 = 농촌\n",
        "x1 = [6.5, 9.9, 6.8, 4.8, 4, 5.3, 8, 4.2, 7, 6, 9.3, 6.4, 9, 5.6, 6.6, 5]\n",
        "x2 = [7.9, 4.3, 6.8, 6.5, 3.3, 13.2, 9.3, 1.3, 6.7, 5.3, 2.4, 4.3, 1, 3.5]"
      ],
      "metadata": {
        "id": "Lw34iv-5qiAM"
      },
      "execution_count": null,
      "outputs": []
    },
    {
      "cell_type": "code",
      "source": [
        "# 정규성 검정\n",
        "print(shapiro(x1))\n",
        "print(shapiro(x2))\n",
        "# 유의확률이 0.05 보다 작은지 큰지 확인\n",
        "# 0.05 보다 작으면 귀무가설 기각 = 정규성을 가지지 않음\n",
        "# 0.05 보다 크면 귀무가설 채택 = 정규성을 가짐"
      ],
      "metadata": {
        "colab": {
          "base_uri": "https://localhost:8080/"
        },
        "outputId": "5fcb9d0b-6e9b-4470-92f5-306aff0c4c2b",
        "id": "Md5-klLCQxdU"
      },
      "execution_count": null,
      "outputs": [
        {
          "output_type": "stream",
          "name": "stdout",
          "text": [
            "ShapiroResult(statistic=0.9480088353157043, pvalue=0.45881620049476624)\n",
            "ShapiroResult(statistic=0.9464738965034485, pvalue=0.5074184536933899)\n"
          ]
        }
      ]
    },
    {
      "cell_type": "code",
      "source": [
        "# 레빈 - 정규성 만족 안함\n",
        "from scipy.stats import levene\n",
        "levene(x1, x2)\n",
        "# 등분산 가정"
      ],
      "metadata": {
        "colab": {
          "base_uri": "https://localhost:8080/"
        },
        "outputId": "42465b8d-451f-4557-fc54-20b0d5a045ec",
        "id": "sd26RFFuRBvF"
      },
      "execution_count": null,
      "outputs": [
        {
          "output_type": "execute_result",
          "data": {
            "text/plain": [
              "LeveneResult(statistic=3.8656106674250115, pvalue=0.05927113706467476)"
            ]
          },
          "metadata": {},
          "execution_count": 7
        }
      ]
    },
    {
      "cell_type": "code",
      "source": [
        "# 유의수준, 양측검정, 자유도\n",
        "alpha = 0.05"
      ],
      "metadata": {
        "id": "iSd5ZB3uqk1i"
      },
      "execution_count": null,
      "outputs": []
    },
    {
      "cell_type": "code",
      "source": [
        "from scipy.stats import ttest_ind\n",
        "# 기본값 equal_var = True\n",
        "pv = ttest_ind(x1, x2)[1];pv\n",
        "# ttest_ind(x1, x2, equal_var = True)"
      ],
      "metadata": {
        "id": "mawbGdbtrPMM",
        "colab": {
          "base_uri": "https://localhost:8080/"
        },
        "outputId": "4d0c98a5-77ed-496d-b7a7-1cbdcec51682"
      },
      "execution_count": null,
      "outputs": [
        {
          "output_type": "execute_result",
          "data": {
            "text/plain": [
              "0.25405638976706907"
            ]
          },
          "metadata": {},
          "execution_count": 10
        }
      ]
    },
    {
      "cell_type": "code",
      "source": [
        "# 결론 => 우리가 원하는 결과 alpha > pv => True\n",
        "alpha > pv\n",
        "# 왼쪽 = 채택역 = 귀무가설 채택\n",
        "# = 대립가설 기각 = 차이가 없다\n",
        "# = 통계적으로 유의한 차이가 없다\n",
        "# 도시와 농촌의 총기 규제에 대한 평균 점수에 차이가 없다"
      ],
      "metadata": {
        "colab": {
          "base_uri": "https://localhost:8080/"
        },
        "id": "WkEIWEahrecs",
        "outputId": "bb5462c8-96f6-4c90-bd26-62b367be5af2"
      },
      "execution_count": null,
      "outputs": [
        {
          "output_type": "execute_result",
          "data": {
            "text/plain": [
              "False"
            ]
          },
          "metadata": {},
          "execution_count": 11
        }
      ]
    },
    {
      "cell_type": "code",
      "source": [
        "# 검정통계량\n",
        "tv = ttest_ind(x1, x2)[0];tv"
      ],
      "metadata": {
        "colab": {
          "base_uri": "https://localhost:8080/"
        },
        "id": "U_9S2G5Nr8yM",
        "outputId": "b23fb721-bce8-42da-c94c-2cb4b29dcc94"
      },
      "execution_count": null,
      "outputs": [
        {
          "output_type": "execute_result",
          "data": {
            "text/plain": [
              "1.1644781506003252"
            ]
          },
          "metadata": {},
          "execution_count": 12
        }
      ]
    },
    {
      "cell_type": "code",
      "source": [
        "df1 = len(x1) - 1;df2 = len(x2) - 1\n",
        "print(df1,df2)"
      ],
      "metadata": {
        "colab": {
          "base_uri": "https://localhost:8080/"
        },
        "id": "omZQmsbjsOra",
        "outputId": "b81333e7-ef79-4c1d-ee07-f0ea62e246a9"
      },
      "execution_count": null,
      "outputs": [
        {
          "output_type": "stream",
          "name": "stdout",
          "text": [
            "15 13\n"
          ]
        }
      ]
    },
    {
      "cell_type": "code",
      "source": [
        "df = df1 + df2;df"
      ],
      "metadata": {
        "colab": {
          "base_uri": "https://localhost:8080/"
        },
        "id": "6guw9nD1sDKC",
        "outputId": "cc45dec3-b52a-47aa-e59f-f4bb19fd3991"
      },
      "execution_count": null,
      "outputs": [
        {
          "output_type": "execute_result",
          "data": {
            "text/plain": [
              "28"
            ]
          },
          "metadata": {},
          "execution_count": 14
        }
      ]
    },
    {
      "cell_type": "code",
      "source": [
        "# 1 - alpha/2 = 1 - 0.01/2\n",
        "cv = t.ppf(1 - alpha/2, df);cv"
      ],
      "metadata": {
        "colab": {
          "base_uri": "https://localhost:8080/"
        },
        "outputId": "10274fe0-f2fe-449d-8cfe-4e6f0b672ad7",
        "id": "e9OViBAAsJL9"
      },
      "execution_count": null,
      "outputs": [
        {
          "output_type": "execute_result",
          "data": {
            "text/plain": [
              "2.048407141795244"
            ]
          },
          "metadata": {},
          "execution_count": 15
        }
      ]
    },
    {
      "cell_type": "code",
      "source": [
        "# 결론 => 우리가 원하는 결과 cv < tv => True\n",
        "cv < tv\n",
        "# 왼쪽 = 채택역 = 귀무가설 채택\n",
        "# = 대립가설 기각 = 차이가 없다\n",
        "# = 통계적으로 유의한 차이가 없다"
      ],
      "metadata": {
        "colab": {
          "base_uri": "https://localhost:8080/"
        },
        "id": "DrK5CxWesgV7",
        "outputId": "775f8fa9-3522-4253-9972-b06965e932f6"
      },
      "execution_count": null,
      "outputs": [
        {
          "output_type": "execute_result",
          "data": {
            "text/plain": [
              "False"
            ]
          },
          "metadata": {},
          "execution_count": 16
        }
      ]
    },
    {
      "cell_type": "markdown",
      "source": [
        "## 문제4"
      ],
      "metadata": {
        "id": "-S_snjviGDOL"
      }
    },
    {
      "cell_type": "code",
      "source": [
        "# 문제4\n",
        "# x1 = 종로, x2 = 명동\n",
        "x1 = [3453, 5435, 3656, 4543, 4543, 1232, 4543, 5643, 4354, 6342, 4355, 3232, 6532, 3234, 3545]\n",
        "x2 = [2542, 3221, 1423, 1656, 4324, 3234, 2312, 1324, 2178, 5468, 2432, 2123, 1543, 1121, 4231]"
      ],
      "metadata": {
        "id": "FLhJPetMzMLx"
      },
      "execution_count": null,
      "outputs": []
    },
    {
      "cell_type": "code",
      "source": [
        "# 유의수준, 양측검정, 자유도\n",
        "alpha = 0.05"
      ],
      "metadata": {
        "id": "t5tdnK9MzMLx"
      },
      "execution_count": null,
      "outputs": []
    },
    {
      "cell_type": "code",
      "source": [
        "from scipy.stats import ttest_ind\n",
        "# 기본값 equal_var = True\n",
        "pv = ttest_ind(x1, x2)[1];pv\n",
        "# ttest_ind(x1, x2, equal_var = True)"
      ],
      "metadata": {
        "colab": {
          "base_uri": "https://localhost:8080/"
        },
        "id": "dF3qFlYzzMLy",
        "outputId": "41c08a21-ef1a-44e6-853e-0182e847c59d"
      },
      "execution_count": null,
      "outputs": [
        {
          "output_type": "execute_result",
          "data": {
            "text/plain": [
              "0.0013833428405731739"
            ]
          },
          "metadata": {},
          "execution_count": 57
        }
      ]
    },
    {
      "cell_type": "code",
      "source": [
        "# 결론 => 우리가 원하는 결과 alpha > pv => True\n",
        "alpha > pv\n",
        "# 오른쪽 = 기각역 = 귀무가설 기각\n",
        "# = 대립가설 채택 = 차이가 있다\n",
        "# = 통계적으로 유의한 차이가 있다\n",
        "# 종로지점과 명동지점의 평균 매출액의 차이가 있다."
      ],
      "metadata": {
        "colab": {
          "base_uri": "https://localhost:8080/"
        },
        "outputId": "cfe1428b-fc02-45d8-8564-14856b5d859b",
        "id": "Bu1BT8DTzMLy"
      },
      "execution_count": null,
      "outputs": [
        {
          "output_type": "execute_result",
          "data": {
            "text/plain": [
              "True"
            ]
          },
          "metadata": {},
          "execution_count": 58
        }
      ]
    },
    {
      "cell_type": "code",
      "source": [
        "# 검정통계량\n",
        "tv = ttest_ind(x1, x2)[0];tv"
      ],
      "metadata": {
        "colab": {
          "base_uri": "https://localhost:8080/"
        },
        "outputId": "b9167780-d3df-4049-962e-f3aa0e32834d",
        "id": "yx-CXiIKzMLy"
      },
      "execution_count": null,
      "outputs": [
        {
          "output_type": "execute_result",
          "data": {
            "text/plain": [
              "3.5501560662945826"
            ]
          },
          "metadata": {},
          "execution_count": 59
        }
      ]
    },
    {
      "cell_type": "code",
      "source": [
        "df1 = len(x1) - 1;df2 = len(x2) - 1\n",
        "print(df1,df2)"
      ],
      "metadata": {
        "colab": {
          "base_uri": "https://localhost:8080/"
        },
        "outputId": "54e269fa-8909-43d6-e4f6-3aa323a5d41b",
        "id": "ZKXbrrJgzMLy"
      },
      "execution_count": null,
      "outputs": [
        {
          "output_type": "stream",
          "name": "stdout",
          "text": [
            "14 14\n"
          ]
        }
      ]
    },
    {
      "cell_type": "code",
      "source": [
        "df = df1 + df2;df"
      ],
      "metadata": {
        "colab": {
          "base_uri": "https://localhost:8080/"
        },
        "outputId": "4112dc02-2d12-493b-cf03-64e485311740",
        "id": "CrDflthNzMLy"
      },
      "execution_count": null,
      "outputs": [
        {
          "output_type": "execute_result",
          "data": {
            "text/plain": [
              "28"
            ]
          },
          "metadata": {},
          "execution_count": 61
        }
      ]
    },
    {
      "cell_type": "code",
      "source": [
        "# 1 - alpha/2 = 1 - 0.01/2\n",
        "cv = t.ppf(1 - alpha/2, df);cv"
      ],
      "metadata": {
        "colab": {
          "base_uri": "https://localhost:8080/"
        },
        "outputId": "521891db-6efd-4d3d-9976-70f2cc44302d",
        "id": "ISTJrRSozMLz"
      },
      "execution_count": null,
      "outputs": [
        {
          "output_type": "execute_result",
          "data": {
            "text/plain": [
              "2.048407141795244"
            ]
          },
          "metadata": {},
          "execution_count": 62
        }
      ]
    },
    {
      "cell_type": "code",
      "source": [
        "# 결론 => 우리가 원하는 결과 cv < tv => True\n",
        "cv < tv\n",
        "# 오른쪽 = 기각역 = 귀무가설 기각\n",
        "# = 대립가설 채택 = 차이가 있다\n",
        "# = 통계적으로 유의한 차이가 있다\n",
        "# 종로지점과 명동지점의 평균 매출액의 차이가 있다."
      ],
      "metadata": {
        "colab": {
          "base_uri": "https://localhost:8080/"
        },
        "outputId": "d4ca0012-883f-4673-c032-3410ee586ec2",
        "id": "3oLT9tTZzMLz"
      },
      "execution_count": null,
      "outputs": [
        {
          "output_type": "execute_result",
          "data": {
            "text/plain": [
              "True"
            ]
          },
          "metadata": {},
          "execution_count": 63
        }
      ]
    },
    {
      "cell_type": "markdown",
      "source": [
        "## 문제5"
      ],
      "metadata": {
        "id": "t5EMrN-BGFsh"
      }
    },
    {
      "cell_type": "code",
      "source": [
        "# 문제5\n",
        "# x1 = 우리팀, x2 = 상대팀\n",
        "x1 = [215, 143, 202, 163, 324, 151, 151, 225, 199, 185, 232, 244]\n",
        "x2 = [231, 452, 181, 171, 442, 275, 243, 216, 354, 332, 202, 355]"
      ],
      "metadata": {
        "id": "Mhtv6ZUu7h3d"
      },
      "execution_count": null,
      "outputs": []
    },
    {
      "cell_type": "code",
      "source": [
        "# 유의수준, 양측검정, 자유도\n",
        "alpha = 0.05"
      ],
      "metadata": {
        "id": "xjnd4vgE7h3d"
      },
      "execution_count": null,
      "outputs": []
    },
    {
      "cell_type": "code",
      "source": [
        "from scipy.stats import ttest_ind\n",
        "# 기본값 equal_var = True\n",
        "pv = ttest_ind(x1, x2)[1];pv\n",
        "# ttest_ind(x1, x2, equal_var = True)"
      ],
      "metadata": {
        "colab": {
          "base_uri": "https://localhost:8080/"
        },
        "outputId": "2c717220-1644-4a2e-9599-e708e01dc190",
        "id": "HThYYd6T7h3d"
      },
      "execution_count": null,
      "outputs": [
        {
          "output_type": "execute_result",
          "data": {
            "text/plain": [
              "0.013836305749409233"
            ]
          },
          "metadata": {},
          "execution_count": 158
        }
      ]
    },
    {
      "cell_type": "code",
      "source": [
        "# 결론 => 우리가 원하는 결과 alpha > pv => True\n",
        "alpha > pv\n",
        "# 오른쪽 = 기각역 = 귀무가설 기각\n",
        "# = 대립가설 채택 = 차이가 있다\n",
        "# = 통계적으로 유의한 차이가 있다\n",
        "# 우리팀과 상대팀의 평균 야드의 차이가 있다."
      ],
      "metadata": {
        "colab": {
          "base_uri": "https://localhost:8080/"
        },
        "outputId": "1b3aadc0-e521-4fd7-ef7a-03b016f25b18",
        "id": "GWTjzKxa7h3e"
      },
      "execution_count": null,
      "outputs": [
        {
          "output_type": "execute_result",
          "data": {
            "text/plain": [
              "True"
            ]
          },
          "metadata": {},
          "execution_count": 159
        }
      ]
    },
    {
      "cell_type": "code",
      "source": [
        "# 검정통계량\n",
        "tv = ttest_ind(x1, x2)[0]\n",
        "tv = abs(tv);tv"
      ],
      "metadata": {
        "colab": {
          "base_uri": "https://localhost:8080/"
        },
        "outputId": "1e60bc1b-bf9b-4fe6-df7a-47e141a2f154",
        "id": "JddCPRgT7h3e"
      },
      "execution_count": null,
      "outputs": [
        {
          "output_type": "execute_result",
          "data": {
            "text/plain": [
              "2.674863822503994"
            ]
          },
          "metadata": {},
          "execution_count": 160
        }
      ]
    },
    {
      "cell_type": "code",
      "source": [
        "df1 = len(x1) - 1;df2 = len(x2) - 1\n",
        "print(df1,df2)"
      ],
      "metadata": {
        "colab": {
          "base_uri": "https://localhost:8080/"
        },
        "outputId": "c842ba65-1ea7-45f7-f789-0cb0e0c72e04",
        "id": "v0w7Acb67h3e"
      },
      "execution_count": null,
      "outputs": [
        {
          "output_type": "stream",
          "name": "stdout",
          "text": [
            "11 11\n"
          ]
        }
      ]
    },
    {
      "cell_type": "code",
      "source": [
        "df = df1 + df2;df"
      ],
      "metadata": {
        "colab": {
          "base_uri": "https://localhost:8080/"
        },
        "outputId": "da2f6a7c-4b5b-443d-cb10-dbb437dff7da",
        "id": "W4UfsW-E7h3e"
      },
      "execution_count": null,
      "outputs": [
        {
          "output_type": "execute_result",
          "data": {
            "text/plain": [
              "22"
            ]
          },
          "metadata": {},
          "execution_count": 162
        }
      ]
    },
    {
      "cell_type": "code",
      "source": [
        "# 1 - alpha/2 = 1 - 0.05/2\n",
        "cv = t.ppf(1 - alpha/2, df);cv"
      ],
      "metadata": {
        "colab": {
          "base_uri": "https://localhost:8080/"
        },
        "outputId": "8549d4c6-5a05-4906-bcf1-afa894260015",
        "id": "GVtzlklE7h3e"
      },
      "execution_count": null,
      "outputs": [
        {
          "output_type": "execute_result",
          "data": {
            "text/plain": [
              "2.0738730679040147"
            ]
          },
          "metadata": {},
          "execution_count": 163
        }
      ]
    },
    {
      "cell_type": "code",
      "source": [
        "# 결론 => 우리가 원하는 결과 cv < tv => True\n",
        "cv < tv\n",
        "# 오른쪽 = 기각역 = 귀무가설 기각\n",
        "# = 대립가설 채택 = 차이가 있다\n",
        "# = 통계적으로 유의한 차이가 있다\n",
        "# 우리팀과 상대팀의 평균 야드의 차이가 있다."
      ],
      "metadata": {
        "colab": {
          "base_uri": "https://localhost:8080/"
        },
        "outputId": "52b3eeb4-55c4-4ef7-f52f-81d343bb9e9e",
        "id": "6Kvwdf2c7h3e"
      },
      "execution_count": null,
      "outputs": [
        {
          "output_type": "execute_result",
          "data": {
            "text/plain": [
              "True"
            ]
          },
          "metadata": {},
          "execution_count": 164
        }
      ]
    },
    {
      "cell_type": "code",
      "source": [
        "from scipy.stats import ttest_ind\n",
        "# 기본값 equal_var = True\n",
        "ttest_ind(x1, x2, equal_var = True)"
      ],
      "metadata": {
        "colab": {
          "base_uri": "https://localhost:8080/"
        },
        "outputId": "ed1fbfb5-c073-4ee3-b2f8-14dc72567433",
        "id": "4KtISg6N9b4F"
      },
      "execution_count": null,
      "outputs": [
        {
          "output_type": "execute_result",
          "data": {
            "text/plain": [
              "TtestResult(statistic=-2.674863822503994, pvalue=0.013836305749409233, df=22.0)"
            ]
          },
          "metadata": {},
          "execution_count": 165
        }
      ]
    },
    {
      "cell_type": "code",
      "source": [
        "from scipy.stats import ttest_ind\n",
        "tv, pv = ttest_ind(x1, x2, equal_var = True)\n",
        "print(\"검정통계량: \", abs(tv))\n",
        "print(\"유의확률: {:.6f}\".format(pv))"
      ],
      "metadata": {
        "colab": {
          "base_uri": "https://localhost:8080/"
        },
        "outputId": "3a0e88f6-79d5-476b-8292-86e47c4265dc",
        "id": "vfyTqzm29b4N"
      },
      "execution_count": null,
      "outputs": [
        {
          "output_type": "stream",
          "name": "stdout",
          "text": [
            "검정통계량:  2.674863822503994\n",
            "유의확률: 0.013836\n"
          ]
        }
      ]
    },
    {
      "cell_type": "code",
      "source": [
        "print(np.mean(x1))\n",
        "print(np.mean(x2))"
      ],
      "metadata": {
        "colab": {
          "base_uri": "https://localhost:8080/"
        },
        "outputId": "52a9be51-0304-47cc-c2a0-06a1ea0529fb",
        "id": "KmES14XaltN0"
      },
      "execution_count": null,
      "outputs": [
        {
          "output_type": "stream",
          "name": "stdout",
          "text": [
            "202.83333333333334\n",
            "287.8333333333333\n"
          ]
        }
      ]
    },
    {
      "cell_type": "markdown",
      "source": [
        "## 이분산 가정"
      ],
      "metadata": {
        "id": "lbUcH0Wt8d9P"
      }
    },
    {
      "cell_type": "code",
      "source": [
        "import numpy as np\n",
        "from scipy.stats import t"
      ],
      "metadata": {
        "id": "amHX1-F5AxiJ"
      },
      "execution_count": null,
      "outputs": []
    },
    {
      "cell_type": "code",
      "source": [
        "# 문제5\n",
        "# x1 = 우리팀, x2 = 상대팀\n",
        "x1 = [215, 143, 202, 163, 324, 151, 151, 225, 199, 185, 232, 244]\n",
        "x2 = [231, 452, 181, 171, 442, 275, 243, 216, 354, 332, 202, 355]"
      ],
      "metadata": {
        "id": "8Yxc9WRhAxiK"
      },
      "execution_count": null,
      "outputs": []
    },
    {
      "cell_type": "code",
      "source": [
        "# 표본평균, 표본분산, 표본크기, 자유도\n",
        "x1_m = np.mean(x1);x2_m = np.mean(x2)\n",
        "x1_s2 = np.var(x1, ddof = 1);x2_s2 = np.var(x2, ddof = 1)\n",
        "n1 = len(x1);n2 = len(x2)\n",
        "df1 = n1 - 1;df2 = n2 -1\n",
        "print(x1_m,x2_m,x1_s2,x2_s2,n1,n2,df1,df2)"
      ],
      "metadata": {
        "colab": {
          "base_uri": "https://localhost:8080/"
        },
        "id": "QjO4QayWAxiK",
        "outputId": "6d45a069-112f-456f-f44c-a8537bbaa3cf"
      },
      "execution_count": null,
      "outputs": [
        {
          "output_type": "stream",
          "name": "stdout",
          "text": [
            "202.83333333333334 287.8333333333333 2612.69696969697 9504.878787878788 12 12 11 11\n"
          ]
        }
      ]
    },
    {
      "cell_type": "code",
      "source": [
        "# 검정통계량 = (1표본평균 - 2표본평균) / 제곱근(1표본분산/1표본크기 + 2표본분산/2표본크기)\n",
        "# 분자 = (1표본평균 - 2표본평균)\n",
        "x1_m - x2_m"
      ],
      "metadata": {
        "colab": {
          "base_uri": "https://localhost:8080/"
        },
        "id": "G1GOa7T2AxiM",
        "outputId": "80ef7509-24ad-4333-cb07-72cabbea3de6"
      },
      "execution_count": null,
      "outputs": [
        {
          "output_type": "execute_result",
          "data": {
            "text/plain": [
              "-84.99999999999997"
            ]
          },
          "metadata": {},
          "execution_count": 78
        }
      ]
    },
    {
      "cell_type": "code",
      "source": [
        "# 분모 = 제곱근(1표본분산/1표본크기 + 2표본분산/2표본크기)\n",
        "np.sqrt((x1_s2/n1) + (x2_s2/n2))"
      ],
      "metadata": {
        "colab": {
          "base_uri": "https://localhost:8080/"
        },
        "id": "0WQHVEbVAxiM",
        "outputId": "56eb8023-dc60-4957-d176-54231dce5d05"
      },
      "execution_count": null,
      "outputs": [
        {
          "output_type": "execute_result",
          "data": {
            "text/plain": [
              "31.777318637638068"
            ]
          },
          "metadata": {},
          "execution_count": 79
        }
      ]
    },
    {
      "cell_type": "code",
      "source": [
        "# 분자/분모\n",
        "tv = (x1_m - x2_m)/np.sqrt((x1_s2/n1) + (x2_s2/n2))\n",
        "tv = abs(tv);tv"
      ],
      "metadata": {
        "colab": {
          "base_uri": "https://localhost:8080/"
        },
        "id": "lBjbsTXvAxiM",
        "outputId": "2ad34f7d-0d4e-4649-c15c-59723f6733af"
      },
      "execution_count": null,
      "outputs": [
        {
          "output_type": "execute_result",
          "data": {
            "text/plain": [
              "2.674863822503994"
            ]
          },
          "metadata": {},
          "execution_count": 80
        }
      ]
    },
    {
      "cell_type": "code",
      "source": [
        "# 임계값, 유의수준 0.05, 양측검정, 자유도\n",
        "alpha = 0.05"
      ],
      "metadata": {
        "id": "zmoWkwtCAxiP"
      },
      "execution_count": null,
      "outputs": []
    },
    {
      "cell_type": "code",
      "source": [
        "# 자유도\n",
        "# 표본분산/표본크기\n",
        "x1_s2_n1 = x1_s2 / n1;x2_s2_n2 = x2_s2 / n2\n",
        "print(x1_s2_n1,x2_s2_n2)"
      ],
      "metadata": {
        "colab": {
          "base_uri": "https://localhost:8080/"
        },
        "id": "CXW7nmlSBqCD",
        "outputId": "1b8c95a9-8061-48ab-d95f-61d0816f4617"
      },
      "execution_count": null,
      "outputs": [
        {
          "output_type": "stream",
          "name": "stdout",
          "text": [
            "217.7247474747475 792.0732323232323\n"
          ]
        }
      ]
    },
    {
      "cell_type": "code",
      "source": [
        "# 보정자유도\n",
        "# 분자 = (1표본분산/1표본크기 + 2표본분산/2표본크기) 제곱\n",
        "(x1_s2_n1 + x2_s2_n2)**2"
      ],
      "metadata": {
        "colab": {
          "base_uri": "https://localhost:8080/"
        },
        "id": "RmWxtglJCPLc",
        "outputId": "0dbda2c2-0092-487e-d1c2-9d5caa3f4d84"
      },
      "execution_count": null,
      "outputs": [
        {
          "output_type": "execute_result",
          "data": {
            "text/plain": [
              "1019691.9600040813"
            ]
          },
          "metadata": {},
          "execution_count": 83
        }
      ]
    },
    {
      "cell_type": "code",
      "source": [
        "# 분모 = (1표본분산/1표본크기) 제곱/1자유도\n",
        "#        + (2표본분산/2표본크기) 제곱/2자유도\n",
        "x1_s2_n1**2/df1 + x2_s2_n2**2/df2"
      ],
      "metadata": {
        "colab": {
          "base_uri": "https://localhost:8080/"
        },
        "id": "xltInrs7CvUN",
        "outputId": "a046c682-890d-4833-f084-ad830647c9d3"
      },
      "execution_count": null,
      "outputs": [
        {
          "output_type": "execute_result",
          "data": {
            "text/plain": [
              "61344.006456901436"
            ]
          },
          "metadata": {},
          "execution_count": 84
        }
      ]
    },
    {
      "cell_type": "code",
      "source": [
        "# 분자/분모\n",
        "df = ((x1_s2_n1 + x2_s2_n2)**2) / (x1_s2_n1**2/df1 + x2_s2_n2**2/df2);df"
      ],
      "metadata": {
        "colab": {
          "base_uri": "https://localhost:8080/"
        },
        "id": "3UbKvvgPC85y",
        "outputId": "400c6e35-c79d-4f6f-a736-c1e8c4c6fdbe"
      },
      "execution_count": null,
      "outputs": [
        {
          "output_type": "execute_result",
          "data": {
            "text/plain": [
              "16.622519768422496"
            ]
          },
          "metadata": {},
          "execution_count": 85
        }
      ]
    },
    {
      "cell_type": "code",
      "source": [
        "# 1 - alpha/2 = 0.975\n",
        "cv = t.ppf(1 - alpha/2, df);cv"
      ],
      "metadata": {
        "colab": {
          "base_uri": "https://localhost:8080/"
        },
        "outputId": "f2d19b4f-25d4-44ed-acf8-d285161f26ba",
        "id": "YXefz3S6AxiR"
      },
      "execution_count": null,
      "outputs": [
        {
          "output_type": "execute_result",
          "data": {
            "text/plain": [
              "2.1134712220423157"
            ]
          },
          "metadata": {},
          "execution_count": 86
        }
      ]
    },
    {
      "cell_type": "code",
      "source": [
        "# 결론 => 우리가 원하는 결과 cv < tv => True\n",
        "cv < tv\n",
        "# 오른쪽 = 기각역 = 귀무가설 기각\n",
        "# = 대립가설 채택 = 차이가 있다\n",
        "# = 통계적으로 유의한 차이가 있다\n",
        "# 우리팀과 상대팀의 평균 야드의 차이가 있다."
      ],
      "metadata": {
        "colab": {
          "base_uri": "https://localhost:8080/"
        },
        "outputId": "86a245c8-0169-4fc8-a5cf-e74d2c2daf02",
        "id": "gfWxvLfPAxiR"
      },
      "execution_count": null,
      "outputs": [
        {
          "output_type": "execute_result",
          "data": {
            "text/plain": [
              "True"
            ]
          },
          "metadata": {},
          "execution_count": 87
        }
      ]
    },
    {
      "cell_type": "code",
      "source": [
        "# 유의확률\n",
        "pv = (1 - t.cdf(tv, df)) * 2; pv"
      ],
      "metadata": {
        "colab": {
          "base_uri": "https://localhost:8080/"
        },
        "outputId": "32aa4bcb-e079-4a88-8dde-6346af7e3584",
        "id": "QC-8DHiDAxiR"
      },
      "execution_count": null,
      "outputs": [
        {
          "output_type": "execute_result",
          "data": {
            "text/plain": [
              "0.016213299930558422"
            ]
          },
          "metadata": {},
          "execution_count": 88
        }
      ]
    },
    {
      "cell_type": "code",
      "source": [
        "# 결론 => 우리가 원하는 결과 alpha > pv => True\n",
        "alpha > pv\n",
        "# 오른쪽 = 기각역 = 귀무가설 기각\n",
        "# = 대립가설 채택 = 차이가 있다\n",
        "# = 통계적으로 유의한 차이가 있다\n",
        "# 우리팀과 상대팀의 평균 야드의 차이가 있다."
      ],
      "metadata": {
        "colab": {
          "base_uri": "https://localhost:8080/"
        },
        "outputId": "0f4d8564-d1d0-460d-909d-2eba4988f49f",
        "id": "GaalItC_AxiS"
      },
      "execution_count": null,
      "outputs": [
        {
          "output_type": "execute_result",
          "data": {
            "text/plain": [
              "True"
            ]
          },
          "metadata": {},
          "execution_count": 89
        }
      ]
    },
    {
      "cell_type": "code",
      "source": [
        "from scipy.stats import ttest_ind\n",
        "# 기본값 equal_var = True\n",
        "ttest_ind(x1, x2, equal_var = False)"
      ],
      "metadata": {
        "colab": {
          "base_uri": "https://localhost:8080/"
        },
        "outputId": "cca2a641-8ccf-4d35-eba7-172410b11f95",
        "id": "16HC198VAxiS"
      },
      "execution_count": null,
      "outputs": [
        {
          "output_type": "execute_result",
          "data": {
            "text/plain": [
              "TtestResult(statistic=-2.674863822503994, pvalue=0.016213299930558478, df=16.622519768422496)"
            ]
          },
          "metadata": {},
          "execution_count": 90
        }
      ]
    },
    {
      "cell_type": "code",
      "source": [
        "from scipy.stats import ttest_ind\n",
        "tv, pv = ttest_ind(x1, x2, equal_var = False)\n",
        "print(\"검정통계량: \", abs(tv))\n",
        "print(\"유의확률: {:.5f}\".format(pv))"
      ],
      "metadata": {
        "colab": {
          "base_uri": "https://localhost:8080/"
        },
        "outputId": "8f9227d0-a5c0-42f0-9312-97e692312874",
        "id": "Fv6M_p2NAxiS"
      },
      "execution_count": null,
      "outputs": [
        {
          "output_type": "stream",
          "name": "stdout",
          "text": [
            "검정통계량:  2.674863822503994\n",
            "유의확률: 0.01621\n"
          ]
        }
      ]
    },
    {
      "cell_type": "code",
      "source": [
        "# 정규성 검정\n",
        "print(shapiro(x1))\n",
        "print(shapiro(x2))\n",
        "# 유의확률이 0.05 보다 작은지 큰지 확인\n",
        "# 0.05 보다 작으면 귀무가설 기각 = 정규성을 가지지 않음\n",
        "# 0.05 보다 크면 귀무가설 채택 = 정규성을 가짐"
      ],
      "metadata": {
        "colab": {
          "base_uri": "https://localhost:8080/"
        },
        "outputId": "36229af2-f426-484e-f9db-a1cc326a280f",
        "id": "48rJDKwTq5ba"
      },
      "execution_count": null,
      "outputs": [
        {
          "output_type": "stream",
          "name": "stdout",
          "text": [
            "ShapiroResult(statistic=0.9100748896598816, pvalue=0.21381980180740356)\n",
            "ShapiroResult(statistic=0.9117151498794556, pvalue=0.22441448271274567)\n"
          ]
        }
      ]
    },
    {
      "cell_type": "code",
      "source": [
        "# 등분산 검정\n",
        "# 실무에서는 반드시 등분산검정으로 결과를 확인하고,\n",
        "# 그 상황에 맞게 독립표본 t검정을 수행해야 한다.\n",
        "# p-value < 0.05 => 차이가 있다 = 분산이 다르다 = 이분산가정\n",
        "# p-value > 0.05 => 차이가 없다 = 분산이 같다 = 등분산가정"
      ],
      "metadata": {
        "id": "CKGT35C3ETst"
      },
      "execution_count": null,
      "outputs": []
    },
    {
      "cell_type": "code",
      "source": [
        "# 바틀렛 - 정규성 만족\n",
        "from scipy.stats import bartlett\n",
        "bartlett(x1, x2)"
      ],
      "metadata": {
        "colab": {
          "base_uri": "https://localhost:8080/"
        },
        "outputId": "f7d0ef3b-7ec1-40f5-9288-e198da90ee67",
        "id": "Oa4fu9xwqxxY"
      },
      "execution_count": null,
      "outputs": [
        {
          "output_type": "execute_result",
          "data": {
            "text/plain": [
              "BartlettResult(statistic=4.1122248478955665, pvalue=0.0425743203942456)"
            ]
          },
          "metadata": {},
          "execution_count": 93
        }
      ]
    },
    {
      "cell_type": "code",
      "source": [
        "# 레빈 - 정규성 만족 안함\n",
        "from scipy.stats import levene\n",
        "levene(x1, x2)"
      ],
      "metadata": {
        "colab": {
          "base_uri": "https://localhost:8080/"
        },
        "outputId": "7244b50a-839d-4d92-d787-6232b464fc9b",
        "id": "ZBws1PPdqxxZ"
      },
      "execution_count": null,
      "outputs": [
        {
          "output_type": "execute_result",
          "data": {
            "text/plain": [
              "LeveneResult(statistic=5.01197199006099, pvalue=0.03561269875898216)"
            ]
          },
          "metadata": {},
          "execution_count": 94
        }
      ]
    },
    {
      "cell_type": "code",
      "source": [
        "# 플리그너 - 정규성 만족 안함, 더 안정적 결과\n",
        "from scipy.stats import fligner\n",
        "fligner(x1, x2)"
      ],
      "metadata": {
        "colab": {
          "base_uri": "https://localhost:8080/"
        },
        "outputId": "6e396b4e-3bdf-4b90-e30c-92d23ad72434",
        "id": "qMtDi9liqxxa"
      },
      "execution_count": null,
      "outputs": [
        {
          "output_type": "execute_result",
          "data": {
            "text/plain": [
              "FlignerResult(statistic=4.510520086643712, pvalue=0.033686996139552505)"
            ]
          },
          "metadata": {},
          "execution_count": 95
        }
      ]
    }
  ]
}